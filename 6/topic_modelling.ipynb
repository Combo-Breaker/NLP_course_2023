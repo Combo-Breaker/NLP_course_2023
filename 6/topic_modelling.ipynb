{
  "cells": [
    {
      "cell_type": "markdown",
      "metadata": {
        "id": "FHRONyc1ZcGj"
      },
      "source": [
        "### Тематическое моделирование\n",
        "\n"
      ]
    },
    {
      "cell_type": "markdown",
      "source": [
        "Важно: Во второй половине ноутбука мы будем работать с библиотекой BigARTM, запускать которую локально может быьб удобнее с помощью Docker-образа. Если вы планируете работать с использованием Docker, сперва запустите его и работайте с ноутбуком внутри окружения, чтобы не делать предобработку данных дважды. Инструкция ниже.\n",
        "\n",
        "Есть несколько сценариев работы с BigARTM, среди которых:\n",
        "- установка библиотеки для Питона: инструкция [здесь]( https://bigartm.readthedocs.io/en/stable/installation/index.html)\n",
        "- запуск Docker образа с библиотекой\n",
        "\n",
        "Если вы предпочтете второй сценарий, вам нужно:\n",
        "1. Скачать и установить Docker для своей ОС. Запустить Docker.\n",
        "2. Скачать образ (Dockerfile), в котором устанавливается большинство библиотек для анализа данных, Jupyter Notebook и сама BigARTM: https://bigartm.readthedocs.io/en/stable/installation/docker.html?highlight=docker\n",
        "3. Собрать образ: это можно сделать через командную строку (находясь в папке, где лежит скачанный в п.2 Dockerfile):"
      ],
      "metadata": {
        "id": "GEss_8Z5AQIM"
      }
    },
    {
      "cell_type": "raw",
      "metadata": {
        "id": "ULBeRwyhZcGl"
      },
      "source": [
        "\n",
        "```\n",
        "$ docker build -t artm .\n",
        "$ docker run -p 8888:8888 artm\n",
        "```\n",
        "\n"
      ]
    },
    {
      "cell_type": "markdown",
      "metadata": {
        "id": "R-LT_RvsZcGl"
      },
      "source": [
        "После выполнения этих двух команд запустится Jupyter Notebook, в командной строке будет написан путь к нему в таком формате:"
      ]
    },
    {
      "cell_type": "raw",
      "metadata": {
        "id": "xxS1De0WZcGm"
      },
      "source": [
        "\n",
        "```\n",
        "- http://de0ad378d760:8888/?token=5897bc15b494ca17f0d996763a8d05a71f1170af3455e96d\n",
        "- http://127.0.0.1:8888/?token=5897bc15b494ca17f0d996763a8d05a71f1170af3455e96d\n",
        "```\n",
        "\n"
      ]
    },
    {
      "cell_type": "markdown",
      "metadata": {
        "id": "N3QWGZDaZcGm"
      },
      "source": [
        "Откройте любой из URL, там поднят Jupyter Notebook с уже установленными библиотеками.\n",
        "\n",
        "При работе не забывайте, что все ноутбуки, которые вы создаете внутри этого Docker образа, исчезнут, как только вы остановите Docker, поэтому перед окончанием работы скачайте ноутбук с результатом себе на компьютер."
      ]
    },
    {
      "cell_type": "code",
      "execution_count": 2,
      "metadata": {
        "id": "ubQHoJajZcGm"
      },
      "outputs": [],
      "source": [
        "!pip install -q nltk"
      ]
    },
    {
      "cell_type": "code",
      "source": [
        "!pip install -q pymystem3"
      ],
      "metadata": {
        "id": "QKHK1s3PZ5-g"
      },
      "execution_count": 3,
      "outputs": []
    },
    {
      "cell_type": "code",
      "source": [
        "!pip install -q gensim"
      ],
      "metadata": {
        "id": "WkgRWIJzZ9U5"
      },
      "execution_count": 4,
      "outputs": []
    },
    {
      "cell_type": "code",
      "source": [
        "!pip install -q pyLDAvis==2.1.2 ## последние версии сложнее запустить в colab"
      ],
      "metadata": {
        "id": "iawszDEAc09L",
        "outputId": "44b67e61-38af-40b0-92be-fe6731a2f65d",
        "colab": {
          "base_uri": "https://localhost:8080/"
        }
      },
      "execution_count": 5,
      "outputs": [
        {
          "output_type": "stream",
          "name": "stdout",
          "text": [
            "\u001b[2K     \u001b[90m━━━━━━━━━━━━━━━━━━━━━━━━━━━━━━━━━━━━━━━━\u001b[0m \u001b[32m1.6/1.6 MB\u001b[0m \u001b[31m7.7 MB/s\u001b[0m eta \u001b[36m0:00:00\u001b[0m\n",
            "\u001b[?25h  Preparing metadata (setup.py) ... \u001b[?25l\u001b[?25hdone\n",
            "  Building wheel for pyLDAvis (setup.py) ... \u001b[?25l\u001b[?25hdone\n"
          ]
        }
      ]
    },
    {
      "cell_type": "code",
      "source": [
        "!pip install -q bigartm"
      ],
      "metadata": {
        "id": "uRCHIdPiaZb_",
        "outputId": "da188a48-a83a-497f-d947-d37c628770d3",
        "colab": {
          "base_uri": "https://localhost:8080/"
        }
      },
      "execution_count": 6,
      "outputs": [
        {
          "output_type": "stream",
          "name": "stdout",
          "text": [
            "\u001b[2K     \u001b[90m━━━━━━━━━━━━━━━━━━━━━━━━━━━━━━━━━━━━━━━━\u001b[0m \u001b[32m2.1/2.1 MB\u001b[0m \u001b[31m9.0 MB/s\u001b[0m eta \u001b[36m0:00:00\u001b[0m\n",
            "\u001b[?25h"
          ]
        }
      ]
    },
    {
      "cell_type": "code",
      "source": [
        "!pip install -q bertopic"
      ],
      "metadata": {
        "id": "3Tkowfnx_asW",
        "outputId": "df6b27f9-d495-4ffe-b1d8-d1cf3b10e87f",
        "colab": {
          "base_uri": "https://localhost:8080/"
        }
      },
      "execution_count": 49,
      "outputs": [
        {
          "output_type": "stream",
          "name": "stderr",
          "text": [
            "/usr/local/lib/python3.10/dist-packages/ipykernel/ipkernel.py:283: DeprecationWarning: `should_run_async` will not call `transform_cell` automatically in the future. Please pass the result to `transformed_cell` argument and any exception that happen during thetransform in `preprocessing_exc_tuple` in IPython 7.17 and above.\n",
            "  and should_run_async(code)\n"
          ]
        },
        {
          "output_type": "stream",
          "name": "stdout",
          "text": [
            "\u001b[2K     \u001b[90m━━━━━━━━━━━━━━━━━━━━━━━━━━━━━━━━━━━━━━━━\u001b[0m \u001b[32m154.1/154.1 kB\u001b[0m \u001b[31m2.6 MB/s\u001b[0m eta \u001b[36m0:00:00\u001b[0m\n",
            "\u001b[2K     \u001b[90m━━━━━━━━━━━━━━━━━━━━━━━━━━━━━━━━━━━━━━━━\u001b[0m \u001b[32m5.2/5.2 MB\u001b[0m \u001b[31m44.2 MB/s\u001b[0m eta \u001b[36m0:00:00\u001b[0m\n",
            "\u001b[?25h  Installing build dependencies ... \u001b[?25l\u001b[?25hdone\n",
            "  Getting requirements to build wheel ... \u001b[?25l\u001b[?25hdone\n",
            "  Preparing metadata (pyproject.toml) ... \u001b[?25l\u001b[?25hdone\n",
            "\u001b[2K     \u001b[90m━━━━━━━━━━━━━━━━━━━━━━━━━━━━━━━━━━━━━━━━\u001b[0m \u001b[32m90.9/90.9 kB\u001b[0m \u001b[31m10.2 MB/s\u001b[0m eta \u001b[36m0:00:00\u001b[0m\n",
            "\u001b[?25h  Preparing metadata (setup.py) ... \u001b[?25l\u001b[?25hdone\n",
            "\u001b[2K     \u001b[90m━━━━━━━━━━━━━━━━━━━━━━━━━━━━━━━━━━━━━━━━\u001b[0m \u001b[32m86.0/86.0 kB\u001b[0m \u001b[31m9.7 MB/s\u001b[0m eta \u001b[36m0:00:00\u001b[0m\n",
            "\u001b[?25h  Preparing metadata (setup.py) ... \u001b[?25l\u001b[?25hdone\n",
            "\u001b[2K     \u001b[90m━━━━━━━━━━━━━━━━━━━━━━━━━━━━━━━━━━━━━━━━\u001b[0m \u001b[32m1.3/1.3 MB\u001b[0m \u001b[31m54.9 MB/s\u001b[0m eta \u001b[36m0:00:00\u001b[0m\n",
            "\u001b[2K     \u001b[90m━━━━━━━━━━━━━━━━━━━━━━━━━━━━━━━━━━━━━━━━\u001b[0m \u001b[32m55.8/55.8 kB\u001b[0m \u001b[31m4.5 MB/s\u001b[0m eta \u001b[36m0:00:00\u001b[0m\n",
            "\u001b[?25h  Building wheel for hdbscan (pyproject.toml) ... \u001b[?25l\u001b[?25hdone\n",
            "  Building wheel for sentence-transformers (setup.py) ... \u001b[?25l\u001b[?25hdone\n",
            "  Building wheel for umap-learn (setup.py) ... \u001b[?25l\u001b[?25hdone\n"
          ]
        }
      ]
    },
    {
      "cell_type": "markdown",
      "metadata": {
        "id": "FNCgZAgCZcGn"
      },
      "source": [
        "Построим тематические модели для корпуса новостей Lenta.ru, с которым мы уже работали ранее, добавим поля __date__ и __topic__."
      ]
    },
    {
      "cell_type": "code",
      "execution_count": 7,
      "metadata": {
        "scrolled": true,
        "id": "PQfQcjdQZcGn",
        "outputId": "86afc4e3-1782-4ff1-9d9e-cbdd2fdbe22e",
        "colab": {
          "base_uri": "https://localhost:8080/"
        }
      },
      "outputs": [
        {
          "output_type": "stream",
          "name": "stdout",
          "text": [
            "--2023-12-06 11:13:29--  https://docs.google.com/uc?export=download&confirm=t&id=1IMtWrTrs54SVzHlTgtBWqcQA990CCrQh\n",
            "Resolving docs.google.com (docs.google.com)... 142.250.148.138, 142.250.148.100, 142.250.148.101, ...\n",
            "Connecting to docs.google.com (docs.google.com)|142.250.148.138|:443... connected.\n",
            "HTTP request sent, awaiting response... 303 See Other\n",
            "Location: https://doc-0s-ac-docs.googleusercontent.com/docs/securesc/ha0ro937gcuc7l7deffksulhg5h7mbp1/e4rf7o0ri0kanc7qafuqbjvigd6pi9dn/1701861150000/14013181690233399305/*/1IMtWrTrs54SVzHlTgtBWqcQA990CCrQh?e=download&uuid=37b3a570-267c-43ee-b3f5-0aded12ea1fa [following]\n",
            "Warning: wildcards not supported in HTTP.\n",
            "--2023-12-06 11:13:29--  https://doc-0s-ac-docs.googleusercontent.com/docs/securesc/ha0ro937gcuc7l7deffksulhg5h7mbp1/e4rf7o0ri0kanc7qafuqbjvigd6pi9dn/1701861150000/14013181690233399305/*/1IMtWrTrs54SVzHlTgtBWqcQA990CCrQh?e=download&uuid=37b3a570-267c-43ee-b3f5-0aded12ea1fa\n",
            "Resolving doc-0s-ac-docs.googleusercontent.com (doc-0s-ac-docs.googleusercontent.com)... 142.250.1.132, 2607:f8b0:4001:c24::84\n",
            "Connecting to doc-0s-ac-docs.googleusercontent.com (doc-0s-ac-docs.googleusercontent.com)|142.250.1.132|:443... connected.\n",
            "HTTP request sent, awaiting response... 200 OK\n",
            "Length: 2084746431 (1.9G) [text/csv]\n",
            "Saving to: ‘lenta-ru-news-full.csv’\n",
            "\n",
            "lenta-ru-news-full. 100%[===================>]   1.94G  87.5MB/s    in 35s     \n",
            "\n",
            "2023-12-06 11:14:05 (56.1 MB/s) - ‘lenta-ru-news-full.csv’ saved [2084746431/2084746431]\n",
            "\n"
          ]
        }
      ],
      "source": [
        "!wget --load-cookies /tmp/cookies.txt \"https://docs.google.com/uc?export=download&confirm=$(wget --quiet --save-cookies /tmp/cookies.txt --keep-session-cookies --no-check-certificate 'https://docs.google.com/uc?export=download&id=1IMtWrTrs54SVzHlTgtBWqcQA990CCrQh' -O- | sed -rn 's/.*confirm=([0-9A-Za-z_]+).*/\\1\\n/p')&id=1IMtWrTrs54SVzHlTgtBWqcQA990CCrQh\" -O lenta-ru-news-full.csv && rm -rf /tmp/cookies.txt"
      ]
    },
    {
      "cell_type": "code",
      "source": [
        "import warnings\n",
        "warnings.filterwarnings('ignore')"
      ],
      "metadata": {
        "id": "Z_adLLJFeH2F"
      },
      "execution_count": 36,
      "outputs": []
    },
    {
      "cell_type": "code",
      "execution_count": 10,
      "metadata": {
        "id": "6DPLyKbEZcGo",
        "outputId": "82d338ec-2643-4a3a-b68b-1aaf7fe7589e",
        "colab": {
          "base_uri": "https://localhost:8080/",
          "height": 354
        }
      },
      "outputs": [
        {
          "output_type": "execute_result",
          "data": {
            "text/plain": [
              "                                                                                                                                                                                                                                                                                                                                                                                                                                                                                                                                                                                                                                                                                                                                                                                                                                                                                                                                                                                                                                                                                                                                                                                                                                                                                                                                                            text   topic        date\n",
              "9992                                                                                                                                                                                                                                                                                                                                                                                                                                                                                                                                                                                                                                                                                                                                                                                                            Белорусская теннисистка Наталья Зверева оштрафована на $1000 после матча, в котором она играла в паре с Анной Курниковой против сестер Уильямс. Потерпев в этой игре поражение, Зверева продемонстрировала публике непристойный жест, сообщает Associated Press. По сообщению агентства, упомянутый жест представлял собой \"оттопыренные средние пальцы на обеих руках\". Арбитр Алан Миллз принял решение наказать белорусскую теннисистку за неспортивное поведение. Сумма штрафа будет вычтена из денег, заработанных Зверевой в ходе турнира.   Спорт  2000/07/10\n",
              "542   На состоявшемся в минувший вторник заседании Мосгорсуд отменил определение районного суда, которое выдвигало особое условие, препятствующее выплате денег пострадавшим от деятельности российского филиала японской секты \"Аум синрике\". Дело направлено на новое рассмотрение. Как сообщает ИТАР-ТАСС, ранее Генпрокуратура признала потерпевшими 26 жителей России и стран СНГ, которым был нанесен вред здоровью, а также материальный и моральный ущерб. Среди них - бывшие члены секты, которым требуется психологическая реабилитация; семьи, лишившиеся кормильца; лица, пожертвовавшие секте все свое имущество; родители, чьи дети покончили жизнь самоубийством. Тяжба о выплате материальной компенсации жертвам секты тянется четыре года. Общественная организация \"Комитет по спасению молодежи от деструктивных культов\" добивается выполнения решения Останкинского межмуниципального суда, принятого 18 апреля 1995 года, по перечислению на ее счет денежной суммы для выплаты потерпевшим. Тогда суд постановил взыскать с российского филиала секты для возмещения вреда пострадавшим 20 миллиардов рублей (за четыре года эта сумма превратилась в 2,435 миллиона рублей). Адвокат \"Комитета по спасению молодежи от деструктивных культов\" выразил надежду, что, возможно, после решения Мосгорсуда юридическая волокита закончится.  Россия  1999/09/29\n",
              "4983                                                                                                                                                                                                                                                                                                                                                                                                                                               Во вторник утром на шахте №5/6 АО \"Прокопьевскуголь\" в Кузбассе произошел взрыв метана. Как сообщили РИА \"Новости\" в пресс-службе МЧС РФ, в результате один человек погиб и шестеро госпитализированы с различными ранениями. Еще четверо шахтеров, работавших в момент взрыва в шахте, не пострадали. По данным РБК, под землей в это время находились 72 шахтера, из них 11 - в непосредственной близости к эпицентру взрыва. В областную травматологическую больницу госпитализированы семь человек, сообщает агентство. К настоящему моменту все люди из шахты эвакуированы, а работы на ней приостановлены до выяснения причин взрыва. Около 30 горноспасателей сейчас занимаются исследованием горных выработок. Пожара в шахте нет. Накануне, 6 марта, на нерабочем участке этой же шахты - ввентиляционном  стволе - горноспасатели обнаружили тела четырех подростков, погибших от отравления газом.  Россия  2000/03/07"
            ],
            "text/html": [
              "\n",
              "  <div id=\"df-09350fc6-21b1-461c-90b2-63cbb561758e\" class=\"colab-df-container\">\n",
              "    <div>\n",
              "<style scoped>\n",
              "    .dataframe tbody tr th:only-of-type {\n",
              "        vertical-align: middle;\n",
              "    }\n",
              "\n",
              "    .dataframe tbody tr th {\n",
              "        vertical-align: top;\n",
              "    }\n",
              "\n",
              "    .dataframe thead th {\n",
              "        text-align: right;\n",
              "    }\n",
              "</style>\n",
              "<table border=\"1\" class=\"dataframe\">\n",
              "  <thead>\n",
              "    <tr style=\"text-align: right;\">\n",
              "      <th></th>\n",
              "      <th>text</th>\n",
              "      <th>topic</th>\n",
              "      <th>date</th>\n",
              "    </tr>\n",
              "  </thead>\n",
              "  <tbody>\n",
              "    <tr>\n",
              "      <th>9992</th>\n",
              "      <td>Белорусская теннисистка Наталья Зверева оштрафована на $1000 после матча, в котором она играла в паре с Анной Курниковой против сестер Уильямс. Потерпев в этой игре поражение, Зверева продемонстрировала публике непристойный жест, сообщает Associated Press. По сообщению агентства, упомянутый жест представлял собой \"оттопыренные средние пальцы на обеих руках\". Арбитр Алан Миллз принял решение наказать белорусскую теннисистку за неспортивное поведение. Сумма штрафа будет вычтена из денег, заработанных Зверевой в ходе турнира.</td>\n",
              "      <td>Спорт</td>\n",
              "      <td>2000/07/10</td>\n",
              "    </tr>\n",
              "    <tr>\n",
              "      <th>542</th>\n",
              "      <td>На состоявшемся в минувший вторник заседании Мосгорсуд отменил определение районного суда, которое выдвигало особое условие, препятствующее выплате денег пострадавшим от деятельности российского филиала японской секты \"Аум синрике\". Дело направлено на новое рассмотрение. Как сообщает ИТАР-ТАСС, ранее Генпрокуратура признала потерпевшими 26 жителей России и стран СНГ, которым был нанесен вред здоровью, а также материальный и моральный ущерб. Среди них - бывшие члены секты, которым требуется психологическая реабилитация; семьи, лишившиеся кормильца; лица, пожертвовавшие секте все свое имущество; родители, чьи дети покончили жизнь самоубийством. Тяжба о выплате материальной компенсации жертвам секты тянется четыре года. Общественная организация \"Комитет по спасению молодежи от деструктивных культов\" добивается выполнения решения Останкинского межмуниципального суда, принятого 18 апреля 1995 года, по перечислению на ее счет денежной суммы для выплаты потерпевшим. Тогда суд постановил взыскать с российского филиала секты для возмещения вреда пострадавшим 20 миллиардов рублей (за четыре года эта сумма превратилась в 2,435 миллиона рублей). Адвокат \"Комитета по спасению молодежи от деструктивных культов\" выразил надежду, что, возможно, после решения Мосгорсуда юридическая волокита закончится.</td>\n",
              "      <td>Россия</td>\n",
              "      <td>1999/09/29</td>\n",
              "    </tr>\n",
              "    <tr>\n",
              "      <th>4983</th>\n",
              "      <td>Во вторник утром на шахте №5/6 АО \"Прокопьевскуголь\" в Кузбассе произошел взрыв метана. Как сообщили РИА \"Новости\" в пресс-службе МЧС РФ, в результате один человек погиб и шестеро госпитализированы с различными ранениями. Еще четверо шахтеров, работавших в момент взрыва в шахте, не пострадали. По данным РБК, под землей в это время находились 72 шахтера, из них 11 - в непосредственной близости к эпицентру взрыва. В областную травматологическую больницу госпитализированы семь человек, сообщает агентство. К настоящему моменту все люди из шахты эвакуированы, а работы на ней приостановлены до выяснения причин взрыва. Около 30 горноспасателей сейчас занимаются исследованием горных выработок. Пожара в шахте нет. Накануне, 6 марта, на нерабочем участке этой же шахты - ввентиляционном  стволе - горноспасатели обнаружили тела четырех подростков, погибших от отравления газом.</td>\n",
              "      <td>Россия</td>\n",
              "      <td>2000/03/07</td>\n",
              "    </tr>\n",
              "  </tbody>\n",
              "</table>\n",
              "</div>\n",
              "    <div class=\"colab-df-buttons\">\n",
              "\n",
              "  <div class=\"colab-df-container\">\n",
              "    <button class=\"colab-df-convert\" onclick=\"convertToInteractive('df-09350fc6-21b1-461c-90b2-63cbb561758e')\"\n",
              "            title=\"Convert this dataframe to an interactive table.\"\n",
              "            style=\"display:none;\">\n",
              "\n",
              "  <svg xmlns=\"http://www.w3.org/2000/svg\" height=\"24px\" viewBox=\"0 -960 960 960\">\n",
              "    <path d=\"M120-120v-720h720v720H120Zm60-500h600v-160H180v160Zm220 220h160v-160H400v160Zm0 220h160v-160H400v160ZM180-400h160v-160H180v160Zm440 0h160v-160H620v160ZM180-180h160v-160H180v160Zm440 0h160v-160H620v160Z\"/>\n",
              "  </svg>\n",
              "    </button>\n",
              "\n",
              "  <style>\n",
              "    .colab-df-container {\n",
              "      display:flex;\n",
              "      gap: 12px;\n",
              "    }\n",
              "\n",
              "    .colab-df-convert {\n",
              "      background-color: #E8F0FE;\n",
              "      border: none;\n",
              "      border-radius: 50%;\n",
              "      cursor: pointer;\n",
              "      display: none;\n",
              "      fill: #1967D2;\n",
              "      height: 32px;\n",
              "      padding: 0 0 0 0;\n",
              "      width: 32px;\n",
              "    }\n",
              "\n",
              "    .colab-df-convert:hover {\n",
              "      background-color: #E2EBFA;\n",
              "      box-shadow: 0px 1px 2px rgba(60, 64, 67, 0.3), 0px 1px 3px 1px rgba(60, 64, 67, 0.15);\n",
              "      fill: #174EA6;\n",
              "    }\n",
              "\n",
              "    .colab-df-buttons div {\n",
              "      margin-bottom: 4px;\n",
              "    }\n",
              "\n",
              "    [theme=dark] .colab-df-convert {\n",
              "      background-color: #3B4455;\n",
              "      fill: #D2E3FC;\n",
              "    }\n",
              "\n",
              "    [theme=dark] .colab-df-convert:hover {\n",
              "      background-color: #434B5C;\n",
              "      box-shadow: 0px 1px 3px 1px rgba(0, 0, 0, 0.15);\n",
              "      filter: drop-shadow(0px 1px 2px rgba(0, 0, 0, 0.3));\n",
              "      fill: #FFFFFF;\n",
              "    }\n",
              "  </style>\n",
              "\n",
              "    <script>\n",
              "      const buttonEl =\n",
              "        document.querySelector('#df-09350fc6-21b1-461c-90b2-63cbb561758e button.colab-df-convert');\n",
              "      buttonEl.style.display =\n",
              "        google.colab.kernel.accessAllowed ? 'block' : 'none';\n",
              "\n",
              "      async function convertToInteractive(key) {\n",
              "        const element = document.querySelector('#df-09350fc6-21b1-461c-90b2-63cbb561758e');\n",
              "        const dataTable =\n",
              "          await google.colab.kernel.invokeFunction('convertToInteractive',\n",
              "                                                    [key], {});\n",
              "        if (!dataTable) return;\n",
              "\n",
              "        const docLinkHtml = 'Like what you see? Visit the ' +\n",
              "          '<a target=\"_blank\" href=https://colab.research.google.com/notebooks/data_table.ipynb>data table notebook</a>'\n",
              "          + ' to learn more about interactive tables.';\n",
              "        element.innerHTML = '';\n",
              "        dataTable['output_type'] = 'display_data';\n",
              "        await google.colab.output.renderOutput(dataTable, element);\n",
              "        const docLink = document.createElement('div');\n",
              "        docLink.innerHTML = docLinkHtml;\n",
              "        element.appendChild(docLink);\n",
              "      }\n",
              "    </script>\n",
              "  </div>\n",
              "\n",
              "\n",
              "<div id=\"df-2d1132b6-02c8-497f-a4ae-5068a57e7f9c\">\n",
              "  <button class=\"colab-df-quickchart\" onclick=\"quickchart('df-2d1132b6-02c8-497f-a4ae-5068a57e7f9c')\"\n",
              "            title=\"Suggest charts\"\n",
              "            style=\"display:none;\">\n",
              "\n",
              "<svg xmlns=\"http://www.w3.org/2000/svg\" height=\"24px\"viewBox=\"0 0 24 24\"\n",
              "     width=\"24px\">\n",
              "    <g>\n",
              "        <path d=\"M19 3H5c-1.1 0-2 .9-2 2v14c0 1.1.9 2 2 2h14c1.1 0 2-.9 2-2V5c0-1.1-.9-2-2-2zM9 17H7v-7h2v7zm4 0h-2V7h2v10zm4 0h-2v-4h2v4z\"/>\n",
              "    </g>\n",
              "</svg>\n",
              "  </button>\n",
              "\n",
              "<style>\n",
              "  .colab-df-quickchart {\n",
              "      --bg-color: #E8F0FE;\n",
              "      --fill-color: #1967D2;\n",
              "      --hover-bg-color: #E2EBFA;\n",
              "      --hover-fill-color: #174EA6;\n",
              "      --disabled-fill-color: #AAA;\n",
              "      --disabled-bg-color: #DDD;\n",
              "  }\n",
              "\n",
              "  [theme=dark] .colab-df-quickchart {\n",
              "      --bg-color: #3B4455;\n",
              "      --fill-color: #D2E3FC;\n",
              "      --hover-bg-color: #434B5C;\n",
              "      --hover-fill-color: #FFFFFF;\n",
              "      --disabled-bg-color: #3B4455;\n",
              "      --disabled-fill-color: #666;\n",
              "  }\n",
              "\n",
              "  .colab-df-quickchart {\n",
              "    background-color: var(--bg-color);\n",
              "    border: none;\n",
              "    border-radius: 50%;\n",
              "    cursor: pointer;\n",
              "    display: none;\n",
              "    fill: var(--fill-color);\n",
              "    height: 32px;\n",
              "    padding: 0;\n",
              "    width: 32px;\n",
              "  }\n",
              "\n",
              "  .colab-df-quickchart:hover {\n",
              "    background-color: var(--hover-bg-color);\n",
              "    box-shadow: 0 1px 2px rgba(60, 64, 67, 0.3), 0 1px 3px 1px rgba(60, 64, 67, 0.15);\n",
              "    fill: var(--button-hover-fill-color);\n",
              "  }\n",
              "\n",
              "  .colab-df-quickchart-complete:disabled,\n",
              "  .colab-df-quickchart-complete:disabled:hover {\n",
              "    background-color: var(--disabled-bg-color);\n",
              "    fill: var(--disabled-fill-color);\n",
              "    box-shadow: none;\n",
              "  }\n",
              "\n",
              "  .colab-df-spinner {\n",
              "    border: 2px solid var(--fill-color);\n",
              "    border-color: transparent;\n",
              "    border-bottom-color: var(--fill-color);\n",
              "    animation:\n",
              "      spin 1s steps(1) infinite;\n",
              "  }\n",
              "\n",
              "  @keyframes spin {\n",
              "    0% {\n",
              "      border-color: transparent;\n",
              "      border-bottom-color: var(--fill-color);\n",
              "      border-left-color: var(--fill-color);\n",
              "    }\n",
              "    20% {\n",
              "      border-color: transparent;\n",
              "      border-left-color: var(--fill-color);\n",
              "      border-top-color: var(--fill-color);\n",
              "    }\n",
              "    30% {\n",
              "      border-color: transparent;\n",
              "      border-left-color: var(--fill-color);\n",
              "      border-top-color: var(--fill-color);\n",
              "      border-right-color: var(--fill-color);\n",
              "    }\n",
              "    40% {\n",
              "      border-color: transparent;\n",
              "      border-right-color: var(--fill-color);\n",
              "      border-top-color: var(--fill-color);\n",
              "    }\n",
              "    60% {\n",
              "      border-color: transparent;\n",
              "      border-right-color: var(--fill-color);\n",
              "    }\n",
              "    80% {\n",
              "      border-color: transparent;\n",
              "      border-right-color: var(--fill-color);\n",
              "      border-bottom-color: var(--fill-color);\n",
              "    }\n",
              "    90% {\n",
              "      border-color: transparent;\n",
              "      border-bottom-color: var(--fill-color);\n",
              "    }\n",
              "  }\n",
              "</style>\n",
              "\n",
              "  <script>\n",
              "    async function quickchart(key) {\n",
              "      const quickchartButtonEl =\n",
              "        document.querySelector('#' + key + ' button');\n",
              "      quickchartButtonEl.disabled = true;  // To prevent multiple clicks.\n",
              "      quickchartButtonEl.classList.add('colab-df-spinner');\n",
              "      try {\n",
              "        const charts = await google.colab.kernel.invokeFunction(\n",
              "            'suggestCharts', [key], {});\n",
              "      } catch (error) {\n",
              "        console.error('Error during call to suggestCharts:', error);\n",
              "      }\n",
              "      quickchartButtonEl.classList.remove('colab-df-spinner');\n",
              "      quickchartButtonEl.classList.add('colab-df-quickchart-complete');\n",
              "    }\n",
              "    (() => {\n",
              "      let quickchartButtonEl =\n",
              "        document.querySelector('#df-2d1132b6-02c8-497f-a4ae-5068a57e7f9c button');\n",
              "      quickchartButtonEl.style.display =\n",
              "        google.colab.kernel.accessAllowed ? 'block' : 'none';\n",
              "    })();\n",
              "  </script>\n",
              "</div>\n",
              "    </div>\n",
              "  </div>\n"
            ]
          },
          "metadata": {},
          "execution_count": 10
        }
      ],
      "source": [
        "import pandas as pd\n",
        "pd.set_option('display.max_columns', None)\n",
        "pd.set_option('display.expand_frame_repr', False)\n",
        "pd.set_option('max_colwidth', None)\n",
        "\n",
        "data = pd.read_csv('lenta-ru-news-full.csv', usecols=['text', 'topic',  'date'], nrows = 10000) # ограничим размер 10,000 строк\n",
        "data.sample(3)"
      ]
    },
    {
      "cell_type": "code",
      "execution_count": 11,
      "metadata": {
        "id": "ang5AwPbZcGo",
        "outputId": "979b5963-95a6-4669-c0ff-e72fa8a02d52",
        "colab": {
          "base_uri": "https://localhost:8080/"
        }
      },
      "outputs": [
        {
          "output_type": "execute_result",
          "data": {
            "text/plain": [
              "10000"
            ]
          },
          "metadata": {},
          "execution_count": 11
        }
      ],
      "source": [
        "len(data)"
      ]
    },
    {
      "cell_type": "code",
      "execution_count": 12,
      "metadata": {
        "id": "mpIVMzU4ZcGo",
        "outputId": "d1d1eee2-c3c6-435f-d507-e34c00bf789d",
        "colab": {
          "base_uri": "https://localhost:8080/"
        }
      },
      "outputs": [
        {
          "output_type": "execute_result",
          "data": {
            "text/plain": [
              "Россия            5135\n",
              "Мир               2018\n",
              "Экономика         1545\n",
              "Интернет и СМИ     937\n",
              "Спорт              360\n",
              "Библиотека           5\n",
              "Name: topic, dtype: int64"
            ]
          },
          "metadata": {},
          "execution_count": 12
        }
      ],
      "source": [
        "data.topic.value_counts().head(15)"
      ]
    },
    {
      "cell_type": "markdown",
      "metadata": {
        "id": "ed_1EuQWZcGp"
      },
      "source": [
        "Для ускорения вычислений оставим тексты из 5 тем:"
      ]
    },
    {
      "cell_type": "code",
      "execution_count": 13,
      "metadata": {
        "id": "Ejwum1-4ZcGp",
        "outputId": "f3243e61-1bc0-411c-ac6a-a1bce4a392c1",
        "colab": {
          "base_uri": "https://localhost:8080/"
        }
      },
      "outputs": [
        {
          "output_type": "execute_result",
          "data": {
            "text/plain": [
              "9995"
            ]
          },
          "metadata": {},
          "execution_count": 13
        }
      ],
      "source": [
        "topics = ['Россия', 'Мир', 'Спорт', 'Экономика', 'Интернет и СМИ']\n",
        "\n",
        "data = data[data.topic.isin(topics)]\n",
        "data.dropna(inplace=True)\n",
        "len(data)"
      ]
    },
    {
      "cell_type": "markdown",
      "metadata": {
        "id": "RP8vBdE6ZcGp"
      },
      "source": [
        "### Предобработка\n",
        "\n",
        "\n",
        "Все модели, с которыми мы будем работать далее, работают с предобработанными текстами, поэтому сперва проведем стандартную предобработку текста:"
      ]
    },
    {
      "cell_type": "code",
      "execution_count": 14,
      "metadata": {
        "id": "eWIyeHlZZcGq"
      },
      "outputs": [],
      "source": [
        "import re\n",
        "import numpy as np\n",
        "from nltk.corpus import stopwords\n",
        "from tqdm.notebook import tqdm\n",
        "from multiprocessing import Pool\n",
        "from pymystem3 import Mystem"
      ]
    },
    {
      "cell_type": "code",
      "source": [
        "import nltk\n",
        "nltk.download('stopwords')"
      ],
      "metadata": {
        "id": "w-875_2FbLse",
        "outputId": "da7076bd-c1b4-4c31-9af3-3d42c20fa505",
        "colab": {
          "base_uri": "https://localhost:8080/"
        }
      },
      "execution_count": 15,
      "outputs": [
        {
          "output_type": "stream",
          "name": "stderr",
          "text": [
            "[nltk_data] Downloading package stopwords to /root/nltk_data...\n",
            "[nltk_data]   Unzipping corpora/stopwords.zip.\n"
          ]
        },
        {
          "output_type": "execute_result",
          "data": {
            "text/plain": [
              "True"
            ]
          },
          "metadata": {},
          "execution_count": 15
        }
      ]
    },
    {
      "cell_type": "code",
      "execution_count": 16,
      "metadata": {
        "id": "fUxqsJ9iZcGq",
        "outputId": "b7f5601d-335d-4aff-cb44-0289d861f521",
        "colab": {
          "base_uri": "https://localhost:8080/"
        }
      },
      "outputs": [
        {
          "output_type": "stream",
          "name": "stderr",
          "text": [
            "Installing mystem to /root/.local/bin/mystem from http://download.cdn.yandex.net/mystem/mystem-3.1-linux-64bit.tar.gz\n"
          ]
        }
      ],
      "source": [
        "words_regex = re.compile('\\w+')\n",
        "\n",
        "def find_words(text, regex = words_regex):\n",
        "    tokens =  regex.findall(text.lower())\n",
        "    return [w for w in tokens if w.isalpha() and len(w) >= 3]\n",
        "\n",
        "\n",
        "mystem = Mystem()\n",
        "stopwords_list = stopwords.words('russian')\n",
        "\n",
        "def lemmatize(words, lemmer = mystem, stopwords = stopwords_list):\n",
        "    lemmas = lemmer.lemmatize(' '.join(words))\n",
        "    return [w for w in lemmas if not w in stopwords\n",
        "            and w.isalpha()]\n",
        "\n",
        "def preprocess(text):\n",
        "    return (lemmatize(find_words(text)))"
      ]
    },
    {
      "cell_type": "code",
      "execution_count": 17,
      "metadata": {
        "id": "X98WjoBgZcGr",
        "outputId": "3819935f-e12a-4342-a85f-0391286ca132",
        "colab": {
          "base_uri": "https://localhost:8080/",
          "height": 116
        }
      },
      "outputs": [
        {
          "output_type": "execute_result",
          "data": {
            "text/plain": [
              "'В зале игровых автоматов в третьем ярусе подземного комплекса \"Охотный ряд\" на Манежной площади в центре Москвы около 20.00 прогремел мощный взрыв. По данным ФСБ, погибли не менее четырех человек, 20 человек ранены. Однако уточненная оценка числа пострадавших в результате этого взрыва может достигнуть ста человек. Агентство ИТАР-ТАСС, в сообщении от 21.15 со ссылкой на источники в ГУВД Москвы, говорит только о 30 раненых, в том числе о двух пострадавших в тяжелом состоянии. Однако число пострадавших в результате этого взрыва может составить до ста человек. По данным РИА \"Новости\", Боткинская больница, Институт им. Склифосовского, 1-ая Градская, 36-ая и 64-ая горбольница работают только на прием пострадавших. С места происшествия запросили 20 машин скорой помощи. Из торгового центра эвакуированы все посетитетели. Среди причин происшедшего называют террористический акт, связанный с последними событиями в Дагестане, однако, по сообщению ОРТ, не исключается и версия об аварии (взорвался игровой автомат). Более точных данных о причнах взрыва и количестве жертв представители УФСБ называть не торопятся.'"
            ],
            "application/vnd.google.colaboratory.intrinsic+json": {
              "type": "string"
            }
          },
          "metadata": {},
          "execution_count": 17
        }
      ],
      "source": [
        "data.text.iloc[1]"
      ]
    },
    {
      "cell_type": "code",
      "execution_count": 18,
      "metadata": {
        "scrolled": true,
        "id": "ZMvvezFcZcGr",
        "outputId": "603e4bd7-d268-4989-9d49-9cb4fae2045b",
        "colab": {
          "base_uri": "https://localhost:8080/"
        }
      },
      "outputs": [
        {
          "output_type": "stream",
          "name": "stdout",
          "text": [
            "зал, игровой, автомат, третий, ярус, подземный, комплекс, охотный, ряд, манежный, площадь, центр, москва, около, прогреметь, мощный, взрыв, данные, фсб, погибать, мало, четыре, человек, человек, ранить, однако, уточнять, оценка, число, пострадать, результат, взрыв, мочь, достигать, сто, человек, агентство, итар, тасс, сообщение, ссылка, источник, гувд, москва, говорить, раненый, число, пострадавший, тяжелый, состояние, однако, число, пострадать, результат, взрыв, мочь, составлять, сто, человек, данные, риа, новость, боткинский, больница, институт, склифосовский, градский, горбольница, работать, прием, пострадавший, место, происшествие, запрашивать, машина, скорый, помощь, торговый, центр, эвакуировать, посетитетель, среди, причина, происходить, называть, террористический, акт, связывать, последний, событие, дагестан, однако, сообщение, орт, исключаться, версия, авария, взрываться, игровой, автомат, точный, данный, прична, взрыв, количество, жертва, представитель, уфсб, называть, торопиться\n"
          ]
        }
      ],
      "source": [
        "print(*preprocess(data.text.iloc[1]), sep=', ')"
      ]
    },
    {
      "cell_type": "code",
      "execution_count": 19,
      "metadata": {
        "colab": {
          "referenced_widgets": [
            "1e699562ac93458a965e10ad12ab6ae2",
            "d338cd47de554160b0e5c35dbdf7add0",
            "c0e1632be5874e1eab5517b3665f6b4b",
            "3c7e897f66ea4869b5526d40d6e0b209",
            "c18338ecfb02483584a2121018244624",
            "ff905efd7e5948149e6829a47493a324",
            "4aa3bc99a71f4e39b4dcc77e74d33be8",
            "533d0db129b34df78cbc5d80cd2d4e0b",
            "d25072a9c2e24bfbab72ef491f76894c",
            "64acb04fe13340d3a3fd7a2ff88f4db1",
            "8351e8f34cab4e4a9211c5002f597de9"
          ],
          "base_uri": "https://localhost:8080/",
          "height": 49
        },
        "id": "EfMuIyrMZcGs",
        "outputId": "8d9a9593-c4a7-4f84-c810-ab5709344be2"
      },
      "outputs": [
        {
          "output_type": "display_data",
          "data": {
            "text/plain": [
              "  0%|          | 0/9995 [00:00<?, ?it/s]"
            ],
            "application/vnd.jupyter.widget-view+json": {
              "version_major": 2,
              "version_minor": 0,
              "model_id": "1e699562ac93458a965e10ad12ab6ae2"
            }
          },
          "metadata": {}
        }
      ],
      "source": [
        "preprocessed_text = list(tqdm(map(preprocess, data['text']), total=len(data)))"
      ]
    },
    {
      "cell_type": "code",
      "execution_count": 20,
      "metadata": {
        "id": "pw9h-xQHZcGs",
        "outputId": "fea132ac-c2e8-41cb-844d-8a70a905bd19",
        "colab": {
          "base_uri": "https://localhost:8080/",
          "height": 321
        }
      },
      "outputs": [
        {
          "output_type": "execute_result",
          "data": {
            "text/plain": [
              "                                                                                                                                                                                                                                                                                                                                                                                                                                                                                                                                                                                                                                                                                                                                                                                                                                                                                                                                                                                                                                                          text   topic        date\n",
              "2869  [декабрь, президиум, московский, городской, суд, удовлетворять, протест, генеральный, прокуратура, отменять, решение, хамовнический, суд, также, судебный, коллегия, уголовный, дело, московский, городской, суд, признание, незаконный, продление, срок, следствие, дело, юрий, скуратов, шесть, месяц, это, сообщать, агентство, риа, новость, решение, президиум, мосгорсуд, вопрос, законность, продолжение, расследование, повторно, рассматриваться, хамовнический, межмуниципальный, суд, москва, близкий, время, генеральный, прокуратура, возобновлять, следственный, действие, дело, юрий, скуратов, заявлять, журналист, заместитель, генеральный, прокурор, александр, розанов, очень, важный, принятие, решение, становиться, счесть, мосгорсуд, хамовнический, суд, иметь, право, принимать, производство, жалоба, юрий, скуратов, розанов, пояснять, соответствие, уголовный, процессуальный, кодекс, действие, прокурор, следователь, мочь, обжаловать, лишь, подозреваемый, обвиняемый, гражданский, истец, гражданский, ответчик, ...]  Россия  1999/12/23\n",
              "9528                                                                                                                                                                                                                                                                                                 [среда, космодром, плесецк, стартовать, ракета, носитель, легкий, класс, космос, который, вывести, спутник, солнечно, синхронный, орбита, максимальный, удаление, земля, километр, сообщать, риа, новость, пресс, служба, ракетный, войско, стратегический, назначение, ранее, подобный, запуск, осуществляться, космодром, байконур, космос, доставлять, российский, спутник, надежда, предназначать, работа, международный, космический, система, поиск, спасение, аварийный, суд, самолет, коспас, sarsat, иностранный, космический, аппарат, китайский, цинхуа, английский, snap, который, использоваться, проведение, научный, исследование, обучение, студент, слово, специалист, рвсн, разделение, спутник, происходить, штатный, режим, примерно]  Россия  2000/06/28\n",
              "6686                                                                                                                                                                                                                                                                                                                              [балтийский, море, вторник, начинаться, крупный, российский, военный, морской, учение, участвовать, сухопутный, береговой, войско, надводный, корабль, авиация, учение, впервые, принимать, участие, подводный, лодка, новый, боевой, судно, лишь, несколько, месяц, назад, входить, состав, балтийский, флот, передавать, нтв, это, ракетный, катер, корабль, воздушный, подушка, самум, предполагаться, проведение, ракетный, стрельба, торпедный, стрельба, наблюдение, ход, учение, калининградский, область, прибывать, делегация, генеральный, штаб, глава, начальник, управление, боевой, подготовка, вмс, вица, адмирал, николай, михеев, случай, зона, учение, курсировать, иностранный, разведывательный, корабль]  Россия  2000/04/18"
            ],
            "text/html": [
              "\n",
              "  <div id=\"df-3836971b-8b01-4f4d-9814-d42927197ff8\" class=\"colab-df-container\">\n",
              "    <div>\n",
              "<style scoped>\n",
              "    .dataframe tbody tr th:only-of-type {\n",
              "        vertical-align: middle;\n",
              "    }\n",
              "\n",
              "    .dataframe tbody tr th {\n",
              "        vertical-align: top;\n",
              "    }\n",
              "\n",
              "    .dataframe thead th {\n",
              "        text-align: right;\n",
              "    }\n",
              "</style>\n",
              "<table border=\"1\" class=\"dataframe\">\n",
              "  <thead>\n",
              "    <tr style=\"text-align: right;\">\n",
              "      <th></th>\n",
              "      <th>text</th>\n",
              "      <th>topic</th>\n",
              "      <th>date</th>\n",
              "    </tr>\n",
              "  </thead>\n",
              "  <tbody>\n",
              "    <tr>\n",
              "      <th>2869</th>\n",
              "      <td>[декабрь, президиум, московский, городской, суд, удовлетворять, протест, генеральный, прокуратура, отменять, решение, хамовнический, суд, также, судебный, коллегия, уголовный, дело, московский, городской, суд, признание, незаконный, продление, срок, следствие, дело, юрий, скуратов, шесть, месяц, это, сообщать, агентство, риа, новость, решение, президиум, мосгорсуд, вопрос, законность, продолжение, расследование, повторно, рассматриваться, хамовнический, межмуниципальный, суд, москва, близкий, время, генеральный, прокуратура, возобновлять, следственный, действие, дело, юрий, скуратов, заявлять, журналист, заместитель, генеральный, прокурор, александр, розанов, очень, важный, принятие, решение, становиться, счесть, мосгорсуд, хамовнический, суд, иметь, право, принимать, производство, жалоба, юрий, скуратов, розанов, пояснять, соответствие, уголовный, процессуальный, кодекс, действие, прокурор, следователь, мочь, обжаловать, лишь, подозреваемый, обвиняемый, гражданский, истец, гражданский, ответчик, ...]</td>\n",
              "      <td>Россия</td>\n",
              "      <td>1999/12/23</td>\n",
              "    </tr>\n",
              "    <tr>\n",
              "      <th>9528</th>\n",
              "      <td>[среда, космодром, плесецк, стартовать, ракета, носитель, легкий, класс, космос, который, вывести, спутник, солнечно, синхронный, орбита, максимальный, удаление, земля, километр, сообщать, риа, новость, пресс, служба, ракетный, войско, стратегический, назначение, ранее, подобный, запуск, осуществляться, космодром, байконур, космос, доставлять, российский, спутник, надежда, предназначать, работа, международный, космический, система, поиск, спасение, аварийный, суд, самолет, коспас, sarsat, иностранный, космический, аппарат, китайский, цинхуа, английский, snap, который, использоваться, проведение, научный, исследование, обучение, студент, слово, специалист, рвсн, разделение, спутник, происходить, штатный, режим, примерно]</td>\n",
              "      <td>Россия</td>\n",
              "      <td>2000/06/28</td>\n",
              "    </tr>\n",
              "    <tr>\n",
              "      <th>6686</th>\n",
              "      <td>[балтийский, море, вторник, начинаться, крупный, российский, военный, морской, учение, участвовать, сухопутный, береговой, войско, надводный, корабль, авиация, учение, впервые, принимать, участие, подводный, лодка, новый, боевой, судно, лишь, несколько, месяц, назад, входить, состав, балтийский, флот, передавать, нтв, это, ракетный, катер, корабль, воздушный, подушка, самум, предполагаться, проведение, ракетный, стрельба, торпедный, стрельба, наблюдение, ход, учение, калининградский, область, прибывать, делегация, генеральный, штаб, глава, начальник, управление, боевой, подготовка, вмс, вица, адмирал, николай, михеев, случай, зона, учение, курсировать, иностранный, разведывательный, корабль]</td>\n",
              "      <td>Россия</td>\n",
              "      <td>2000/04/18</td>\n",
              "    </tr>\n",
              "  </tbody>\n",
              "</table>\n",
              "</div>\n",
              "    <div class=\"colab-df-buttons\">\n",
              "\n",
              "  <div class=\"colab-df-container\">\n",
              "    <button class=\"colab-df-convert\" onclick=\"convertToInteractive('df-3836971b-8b01-4f4d-9814-d42927197ff8')\"\n",
              "            title=\"Convert this dataframe to an interactive table.\"\n",
              "            style=\"display:none;\">\n",
              "\n",
              "  <svg xmlns=\"http://www.w3.org/2000/svg\" height=\"24px\" viewBox=\"0 -960 960 960\">\n",
              "    <path d=\"M120-120v-720h720v720H120Zm60-500h600v-160H180v160Zm220 220h160v-160H400v160Zm0 220h160v-160H400v160ZM180-400h160v-160H180v160Zm440 0h160v-160H620v160ZM180-180h160v-160H180v160Zm440 0h160v-160H620v160Z\"/>\n",
              "  </svg>\n",
              "    </button>\n",
              "\n",
              "  <style>\n",
              "    .colab-df-container {\n",
              "      display:flex;\n",
              "      gap: 12px;\n",
              "    }\n",
              "\n",
              "    .colab-df-convert {\n",
              "      background-color: #E8F0FE;\n",
              "      border: none;\n",
              "      border-radius: 50%;\n",
              "      cursor: pointer;\n",
              "      display: none;\n",
              "      fill: #1967D2;\n",
              "      height: 32px;\n",
              "      padding: 0 0 0 0;\n",
              "      width: 32px;\n",
              "    }\n",
              "\n",
              "    .colab-df-convert:hover {\n",
              "      background-color: #E2EBFA;\n",
              "      box-shadow: 0px 1px 2px rgba(60, 64, 67, 0.3), 0px 1px 3px 1px rgba(60, 64, 67, 0.15);\n",
              "      fill: #174EA6;\n",
              "    }\n",
              "\n",
              "    .colab-df-buttons div {\n",
              "      margin-bottom: 4px;\n",
              "    }\n",
              "\n",
              "    [theme=dark] .colab-df-convert {\n",
              "      background-color: #3B4455;\n",
              "      fill: #D2E3FC;\n",
              "    }\n",
              "\n",
              "    [theme=dark] .colab-df-convert:hover {\n",
              "      background-color: #434B5C;\n",
              "      box-shadow: 0px 1px 3px 1px rgba(0, 0, 0, 0.15);\n",
              "      filter: drop-shadow(0px 1px 2px rgba(0, 0, 0, 0.3));\n",
              "      fill: #FFFFFF;\n",
              "    }\n",
              "  </style>\n",
              "\n",
              "    <script>\n",
              "      const buttonEl =\n",
              "        document.querySelector('#df-3836971b-8b01-4f4d-9814-d42927197ff8 button.colab-df-convert');\n",
              "      buttonEl.style.display =\n",
              "        google.colab.kernel.accessAllowed ? 'block' : 'none';\n",
              "\n",
              "      async function convertToInteractive(key) {\n",
              "        const element = document.querySelector('#df-3836971b-8b01-4f4d-9814-d42927197ff8');\n",
              "        const dataTable =\n",
              "          await google.colab.kernel.invokeFunction('convertToInteractive',\n",
              "                                                    [key], {});\n",
              "        if (!dataTable) return;\n",
              "\n",
              "        const docLinkHtml = 'Like what you see? Visit the ' +\n",
              "          '<a target=\"_blank\" href=https://colab.research.google.com/notebooks/data_table.ipynb>data table notebook</a>'\n",
              "          + ' to learn more about interactive tables.';\n",
              "        element.innerHTML = '';\n",
              "        dataTable['output_type'] = 'display_data';\n",
              "        await google.colab.output.renderOutput(dataTable, element);\n",
              "        const docLink = document.createElement('div');\n",
              "        docLink.innerHTML = docLinkHtml;\n",
              "        element.appendChild(docLink);\n",
              "      }\n",
              "    </script>\n",
              "  </div>\n",
              "\n",
              "\n",
              "<div id=\"df-d83dd1f8-a05b-4f0f-a831-b1fbccabcd88\">\n",
              "  <button class=\"colab-df-quickchart\" onclick=\"quickchart('df-d83dd1f8-a05b-4f0f-a831-b1fbccabcd88')\"\n",
              "            title=\"Suggest charts\"\n",
              "            style=\"display:none;\">\n",
              "\n",
              "<svg xmlns=\"http://www.w3.org/2000/svg\" height=\"24px\"viewBox=\"0 0 24 24\"\n",
              "     width=\"24px\">\n",
              "    <g>\n",
              "        <path d=\"M19 3H5c-1.1 0-2 .9-2 2v14c0 1.1.9 2 2 2h14c1.1 0 2-.9 2-2V5c0-1.1-.9-2-2-2zM9 17H7v-7h2v7zm4 0h-2V7h2v10zm4 0h-2v-4h2v4z\"/>\n",
              "    </g>\n",
              "</svg>\n",
              "  </button>\n",
              "\n",
              "<style>\n",
              "  .colab-df-quickchart {\n",
              "      --bg-color: #E8F0FE;\n",
              "      --fill-color: #1967D2;\n",
              "      --hover-bg-color: #E2EBFA;\n",
              "      --hover-fill-color: #174EA6;\n",
              "      --disabled-fill-color: #AAA;\n",
              "      --disabled-bg-color: #DDD;\n",
              "  }\n",
              "\n",
              "  [theme=dark] .colab-df-quickchart {\n",
              "      --bg-color: #3B4455;\n",
              "      --fill-color: #D2E3FC;\n",
              "      --hover-bg-color: #434B5C;\n",
              "      --hover-fill-color: #FFFFFF;\n",
              "      --disabled-bg-color: #3B4455;\n",
              "      --disabled-fill-color: #666;\n",
              "  }\n",
              "\n",
              "  .colab-df-quickchart {\n",
              "    background-color: var(--bg-color);\n",
              "    border: none;\n",
              "    border-radius: 50%;\n",
              "    cursor: pointer;\n",
              "    display: none;\n",
              "    fill: var(--fill-color);\n",
              "    height: 32px;\n",
              "    padding: 0;\n",
              "    width: 32px;\n",
              "  }\n",
              "\n",
              "  .colab-df-quickchart:hover {\n",
              "    background-color: var(--hover-bg-color);\n",
              "    box-shadow: 0 1px 2px rgba(60, 64, 67, 0.3), 0 1px 3px 1px rgba(60, 64, 67, 0.15);\n",
              "    fill: var(--button-hover-fill-color);\n",
              "  }\n",
              "\n",
              "  .colab-df-quickchart-complete:disabled,\n",
              "  .colab-df-quickchart-complete:disabled:hover {\n",
              "    background-color: var(--disabled-bg-color);\n",
              "    fill: var(--disabled-fill-color);\n",
              "    box-shadow: none;\n",
              "  }\n",
              "\n",
              "  .colab-df-spinner {\n",
              "    border: 2px solid var(--fill-color);\n",
              "    border-color: transparent;\n",
              "    border-bottom-color: var(--fill-color);\n",
              "    animation:\n",
              "      spin 1s steps(1) infinite;\n",
              "  }\n",
              "\n",
              "  @keyframes spin {\n",
              "    0% {\n",
              "      border-color: transparent;\n",
              "      border-bottom-color: var(--fill-color);\n",
              "      border-left-color: var(--fill-color);\n",
              "    }\n",
              "    20% {\n",
              "      border-color: transparent;\n",
              "      border-left-color: var(--fill-color);\n",
              "      border-top-color: var(--fill-color);\n",
              "    }\n",
              "    30% {\n",
              "      border-color: transparent;\n",
              "      border-left-color: var(--fill-color);\n",
              "      border-top-color: var(--fill-color);\n",
              "      border-right-color: var(--fill-color);\n",
              "    }\n",
              "    40% {\n",
              "      border-color: transparent;\n",
              "      border-right-color: var(--fill-color);\n",
              "      border-top-color: var(--fill-color);\n",
              "    }\n",
              "    60% {\n",
              "      border-color: transparent;\n",
              "      border-right-color: var(--fill-color);\n",
              "    }\n",
              "    80% {\n",
              "      border-color: transparent;\n",
              "      border-right-color: var(--fill-color);\n",
              "      border-bottom-color: var(--fill-color);\n",
              "    }\n",
              "    90% {\n",
              "      border-color: transparent;\n",
              "      border-bottom-color: var(--fill-color);\n",
              "    }\n",
              "  }\n",
              "</style>\n",
              "\n",
              "  <script>\n",
              "    async function quickchart(key) {\n",
              "      const quickchartButtonEl =\n",
              "        document.querySelector('#' + key + ' button');\n",
              "      quickchartButtonEl.disabled = true;  // To prevent multiple clicks.\n",
              "      quickchartButtonEl.classList.add('colab-df-spinner');\n",
              "      try {\n",
              "        const charts = await google.colab.kernel.invokeFunction(\n",
              "            'suggestCharts', [key], {});\n",
              "      } catch (error) {\n",
              "        console.error('Error during call to suggestCharts:', error);\n",
              "      }\n",
              "      quickchartButtonEl.classList.remove('colab-df-spinner');\n",
              "      quickchartButtonEl.classList.add('colab-df-quickchart-complete');\n",
              "    }\n",
              "    (() => {\n",
              "      let quickchartButtonEl =\n",
              "        document.querySelector('#df-d83dd1f8-a05b-4f0f-a831-b1fbccabcd88 button');\n",
              "      quickchartButtonEl.style.display =\n",
              "        google.colab.kernel.accessAllowed ? 'block' : 'none';\n",
              "    })();\n",
              "  </script>\n",
              "</div>\n",
              "    </div>\n",
              "  </div>\n"
            ]
          },
          "metadata": {},
          "execution_count": 20
        }
      ],
      "source": [
        "data['text'] = preprocessed_text\n",
        "data.sample(3)"
      ]
    },
    {
      "cell_type": "markdown",
      "metadata": {
        "id": "6hS5mui3ZcGs"
      },
      "source": [
        "## Модель LDA\n",
        "\n",
        "\n",
        "Первая модель, которую мы рассмотрим, LDA - латентное размещение Дирихле. Воспользуемся реализацией из библиотеки gensim."
      ]
    },
    {
      "cell_type": "code",
      "execution_count": 21,
      "metadata": {
        "id": "k9dAgiVHZcGt"
      },
      "outputs": [],
      "source": [
        "from gensim.models import *\n",
        "from gensim import corpora"
      ]
    },
    {
      "cell_type": "markdown",
      "metadata": {
        "id": "xzzGa7OhZcGt"
      },
      "source": [
        "Модель использует векторное представление документов, например, мешок слов (bow), поэтому сперва создадим словарь:"
      ]
    },
    {
      "cell_type": "code",
      "execution_count": 22,
      "metadata": {
        "id": "DAHjdyXoZcGt"
      },
      "outputs": [],
      "source": [
        "dictionary = corpora.Dictionary(data['text'])\n",
        "\n",
        "dictionary.filter_extremes(no_below = 10, no_above = 0.9, keep_n=None) # игнорируем слова, которые встречаются реже 10 раз или в более 90% документов\n",
        "dictionary.save('lenta.dict')"
      ]
    },
    {
      "cell_type": "code",
      "source": [
        "#help(dictionary.filter_extremes)"
      ],
      "metadata": {
        "id": "JUJnNnHGb2b0"
      },
      "execution_count": 31,
      "outputs": []
    },
    {
      "cell_type": "markdown",
      "metadata": {
        "id": "pCUoyyu9ZcGu"
      },
      "source": [
        "Векторизуем документы:"
      ]
    },
    {
      "cell_type": "code",
      "execution_count": 23,
      "metadata": {
        "id": "QjyQ5TmRZcGu"
      },
      "outputs": [],
      "source": [
        "corpus = [dictionary.doc2bow(text) for text in data['text']]\n",
        "corpora.MmCorpus.serialize('lenta.model', corpus)"
      ]
    },
    {
      "cell_type": "markdown",
      "metadata": {
        "id": "8Sj3Ms5LZcGu"
      },
      "source": [
        "Теперь можем обучать модель:"
      ]
    },
    {
      "cell_type": "code",
      "execution_count": 24,
      "metadata": {
        "id": "SZEmlYrYZcGu",
        "outputId": "4395f193-6608-4423-b77d-c03522d1eeac",
        "colab": {
          "base_uri": "https://localhost:8080/"
        }
      },
      "outputs": [
        {
          "output_type": "stream",
          "name": "stdout",
          "text": [
            "CPU times: user 19.8 s, sys: 56.2 ms, total: 19.9 s\n",
            "Wall time: 20.6 s\n"
          ]
        }
      ],
      "source": [
        "%time lda = ldamodel.LdaModel(corpus, id2word=dictionary, num_topics=20, chunksize=50, update_every=1, passes=2)"
      ]
    },
    {
      "cell_type": "code",
      "source": [
        "#help(ldamodel.LdaModel)"
      ],
      "metadata": {
        "id": "djsno3sHcEzF"
      },
      "execution_count": 34,
      "outputs": []
    },
    {
      "cell_type": "markdown",
      "metadata": {
        "id": "v4FbKu5cZcGu"
      },
      "source": [
        "Посмотрим на получившиеся темы:"
      ]
    },
    {
      "cell_type": "code",
      "execution_count": 25,
      "metadata": {
        "id": "UiufTv9vZcGu",
        "outputId": "e9f8fc17-cc74-4a1a-f97b-853d74404380",
        "colab": {
          "base_uri": "https://localhost:8080/"
        }
      },
      "outputs": [
        {
          "output_type": "execute_result",
          "data": {
            "text/plain": [
              "[(19,\n",
              "  '0.029*\"россия\" + 0.019*\"российский\" + 0.014*\"который\" + 0.014*\"это\" + 0.013*\"министр\" + 0.013*\"президент\" + 0.012*\"также\" + 0.012*\"новость\" + 0.012*\"сообщать\" + 0.012*\"правительство\"'),\n",
              " (2,\n",
              "  '0.027*\"человек\" + 0.019*\"который\" + 0.018*\"происходить\" + 0.017*\"сообщать\" + 0.016*\"место\" + 0.015*\"результат\" + 0.015*\"находиться\" + 0.015*\"время\" + 0.014*\"погибать\" + 0.011*\"несколько\"'),\n",
              " (14,\n",
              "  '0.091*\"акция\" + 0.058*\"украина\" + 0.043*\"нью\" + 0.041*\"договор\" + 0.034*\"поражение\" + 0.032*\"протест\" + 0.030*\"правление\" + 0.027*\"прокурор\" + 0.026*\"участник\" + 0.025*\"ответственность\"'),\n",
              " (13,\n",
              "  '0.040*\"президент\" + 0.033*\"депутат\" + 0.029*\"госдума\" + 0.021*\"совет\" + 0.020*\"глава\" + 0.020*\"администрация\" + 0.019*\"председатель\" + 0.019*\"владимир\" + 0.019*\"федерация\" + 0.014*\"лидер\"'),\n",
              " (0,\n",
              "  '0.100*\"компания\" + 0.062*\"интернет\" + 0.044*\"который\" + 0.042*\"система\" + 0.027*\"новый\" + 0.022*\"пользователь\" + 0.020*\"милиционер\" + 0.020*\"электронный\" + 0.019*\"программа\" + 0.017*\"рынок\"'),\n",
              " (5,\n",
              "  '0.117*\"сша\" + 0.059*\"американский\" + 0.043*\"европа\" + 0.036*\"страна\" + 0.033*\"адвокат\" + 0.030*\"мир\" + 0.025*\"свой\" + 0.022*\"год\" + 0.020*\"штат\" + 0.017*\"посольство\"'),\n",
              " (3,\n",
              "  '0.065*\"военный\" + 0.040*\"область\" + 0.040*\"губернатор\" + 0.031*\"второй\" + 0.027*\"победа\" + 0.024*\"игорь\" + 0.019*\"база\" + 0.018*\"первый\" + 0.017*\"округ\" + 0.017*\"голосование\"'),\n",
              " (17,\n",
              "  '0.038*\"свой\" + 0.029*\"это\" + 0.022*\"заявлять\" + 0.022*\"который\" + 0.019*\"слово\" + 0.018*\"первый\" + 0.016*\"однако\" + 0.015*\"мочь\" + 0.015*\"директор\" + 0.014*\"становиться\"'),\n",
              " (1,\n",
              "  '0.081*\"чечня\" + 0.046*\"боевик\" + 0.036*\"район\" + 0.033*\"чеченский\" + 0.030*\"федеральный\" + 0.029*\"сила\" + 0.024*\"республика\" + 0.024*\"сообщать\" + 0.023*\"генерал\" + 0.021*\"войско\"'),\n",
              " (18,\n",
              "  '0.043*\"сообщать\" + 0.039*\"новость\" + 0.036*\"риа\" + 0.032*\"сотрудник\" + 0.030*\"москва\" + 0.024*\"милиция\" + 0.023*\"служба\" + 0.022*\"обнаруживать\" + 0.019*\"управление\" + 0.018*\"город\"')]"
            ]
          },
          "metadata": {},
          "execution_count": 25
        }
      ],
      "source": [
        "lda.show_topics(num_topics=10, num_words=10, formatted=True)"
      ]
    },
    {
      "cell_type": "markdown",
      "metadata": {
        "id": "ne86NcI-ZcGv"
      },
      "source": [
        "На полученные темы можно посмотреть, изобразив их на плоскости с помощью библиотеки __pyLDAvis__. Чтобы спроецировать темы на плоскость, внутри применяется PCA-разложение."
      ]
    },
    {
      "cell_type": "code",
      "execution_count": 26,
      "metadata": {
        "id": "iQ0StIYQZcGv",
        "outputId": "bb63dca8-701a-42f5-b856-f89b2fea753e",
        "colab": {
          "base_uri": "https://localhost:8080/",
          "height": 892
        }
      },
      "outputs": [
        {
          "output_type": "stream",
          "name": "stdout",
          "text": [
            "CPU times: user 3.53 s, sys: 145 ms, total: 3.68 s\n",
            "Wall time: 7.23 s\n"
          ]
        },
        {
          "output_type": "execute_result",
          "data": {
            "text/plain": [
              "<IPython.core.display.HTML object>"
            ],
            "text/html": [
              "\n",
              "<link rel=\"stylesheet\" type=\"text/css\" href=\"https://cdn.rawgit.com/bmabey/pyLDAvis/files/ldavis.v1.0.0.css\">\n",
              "\n",
              "\n",
              "<div id=\"ldavis_el1811349857581765608374380498\"></div>\n",
              "<script type=\"text/javascript\">\n",
              "\n",
              "var ldavis_el1811349857581765608374380498_data = {\"mdsDat\": {\"x\": [0.22811727689123795, 0.14776141866590542, 0.17347527473643068, 0.14708440971049522, 0.14738288111605394, 0.10820898800328148, 0.07527560779660296, 0.12706788465516788, 0.09531420340949526, -0.07011370725486334, 0.051901026710492446, 0.020464604029627846, -0.0667457295345301, -0.08507188055472362, -0.11353700303574053, -0.13638158139664058, -0.16960383906830104, -0.1894588166073078, -0.23034514586587712, -0.2607958724068075], \"y\": [-0.059429757094076656, 0.1588626090106373, -0.12865825918167748, -0.06577928794122065, -0.06539597417153424, 0.2798234160316237, 0.18917184982471225, 0.01470942319029505, -0.12299788910962493, 0.06873340152697713, -0.07397181284778842, -0.17853645537220966, -0.00671668891928922, 0.09903722090222174, -0.05588670604997289, -0.11455119599098015, 0.1564359625409184, -0.024467903183449373, -0.03570427630058108, -0.03467767686498118], \"topics\": [1, 2, 3, 4, 5, 6, 7, 8, 9, 10, 11, 12, 13, 14, 15, 16, 17, 18, 19, 20], \"cluster\": [1, 1, 1, 1, 1, 1, 1, 1, 1, 1, 1, 1, 1, 1, 1, 1, 1, 1, 1, 1], \"Freq\": [23.834745140579198, 10.644566830050946, 7.30232376429557, 7.253516342625869, 6.267698285081093, 5.9832370439663345, 5.745554726692173, 4.805994621460213, 4.3257466061273115, 3.793898841141009, 3.548605515599227, 2.876706121974792, 2.7564199022253053, 2.560812279960185, 1.7947630541769, 1.5926267348506808, 1.441799916943638, 1.2634486160591532, 1.1653214761044215, 1.0422141800859728]}, \"tinfo\": {\"Term\": [\"\\u0433\\u043e\\u0434\", \"\\u043a\\u043e\\u043c\\u043f\\u0430\\u043d\\u0438\\u044f\", \"\\u0447\\u0435\\u0447\\u043d\\u044f\", \"\\u0434\\u043e\\u043b\\u043b\\u0430\\u0440\", \"\\u0441\\u0448\\u0430\", \"\\u043f\\u0440\\u043e\\u0446\\u0435\\u043d\\u0442\", \"\\u043f\\u0440\\u0435\\u0437\\u0438\\u0434\\u0435\\u043d\\u0442\", \"\\u0440\\u0443\\u0431\\u043b\\u044c\", \"\\u0441\\u0443\\u0434\", \"\\u043d\\u043e\\u0432\\u043e\\u0441\\u0442\\u044c\", \"\\u0437\\u0430\\u043a\\u043e\\u043d\", \"\\u043c\\u0438\\u043b\\u043b\\u0438\\u043e\\u043d\", \"\\u0438\\u043d\\u0442\\u0435\\u0440\\u043d\\u0435\\u0442\", \"\\u0441\\u0442\\u0440\\u0430\\u043d\\u0430\", \"\\u0440\\u0438\\u0430\", \"\\u0440\\u0435\\u0448\\u0435\\u043d\\u0438\\u0435\", \"\\u0434\\u0435\\u043b\\u043e\", \"\\u0431\\u043e\\u0435\\u0432\\u0438\\u043a\", \"\\u0441\\u0432\\u043e\\u0439\", \"\\u0432\\u043e\\u0435\\u043d\\u043d\\u044b\\u0439\", \"\\u043a\\u043e\\u0442\\u043e\\u0440\\u044b\\u0439\", \"\\u0440\\u043e\\u0441\\u0441\\u0438\\u0439\\u0441\\u043a\\u0438\\u0439\", \"\\u043c\\u043e\\u0441\\u043a\\u0432\\u0430\", \"\\u0430\\u043c\\u0435\\u0440\\u0438\\u043a\\u0430\\u043d\\u0441\\u043a\\u0438\\u0439\", \"\\u0430\\u043a\\u0446\\u0438\\u044f\", \"\\u043f\\u0440\\u0438\\u043d\\u0438\\u043c\\u0430\\u0442\\u044c\", \"\\u043b\\u0438\\u0434\\u0435\\u0440\", \"\\u0441\\u0438\\u0441\\u0442\\u0435\\u043c\\u0430\", \"\\u0434\\u0435\\u043f\\u0443\\u0442\\u0430\\u0442\", \"\\u0442\\u044b\\u0441\\u044f\\u0447\\u0430\", \"\\u043f\\u0440\\u0430\\u0432\\u0438\\u0442\\u0435\\u043b\\u044c\\u0441\\u0442\\u0432\\u043e\", \"\\u043f\\u0440\\u043e\\u0435\\u043a\\u0442\", \"\\u043f\\u0440\\u0435\\u043c\\u044c\\u0435\\u0440\", \"\\u043c\\u0438\\u043d\\u0438\\u0441\\u0442\\u0440\", \"\\u0432\\u0438\\u0446\\u0430\", \"\\u0438\\u0437\\u043c\\u0435\\u043d\\u0435\\u043d\\u0438\\u0435\", \"\\u0432\\u043d\\u043e\\u0441\\u0438\\u0442\\u044c\", \"\\u0432\\u0432\\u043e\\u0434\\u0438\\u0442\\u044c\", \"\\u0440\\u0430\\u0441\\u0441\\u043c\\u0430\\u0442\\u0440\\u0438\\u0432\\u0430\\u0442\\u044c\", \"\\u043a\\u043b\\u0438\\u043d\\u0442\\u043e\\u043d\", \"\\u0431\\u0435\\u043b\\u043e\\u0440\\u0443\\u0441\\u0441\\u0438\\u044f\", \"\\u0434\\u043e\\u0431\\u0430\\u0432\\u043b\\u044f\\u0442\\u044c\", \"\\u044f\\u043f\\u043e\\u043d\\u0438\\u044f\", \"\\u0438\\u044e\\u043d\\u044c\", \"\\u0432\\u0430\\u043b\\u0435\\u0440\\u0438\\u0439\", \"\\u0434\\u0435\\u043f\\u0430\\u0440\\u0442\\u0430\\u043c\\u0435\\u043d\\u0442\", \"\\u0434\\u0435\\u043b\\u0435\\u0433\\u0430\\u0446\\u0438\\u044f\", \"\\u0432\\u0441\\u0442\\u0440\\u0435\\u0447\\u0430\\u0442\\u044c\\u0441\\u044f\", \"\\u0441\\u043e\\u0442\\u0440\\u0443\\u0434\\u043d\\u0438\\u0447\\u0435\\u0441\\u0442\\u0432\\u043e\", \"\\u043e\\u0431\\u0441\\u0443\\u0436\\u0434\\u0430\\u0442\\u044c\", \"\\u043d\\u0435\\u043e\\u0431\\u0445\\u043e\\u0434\\u0438\\u043c\\u043e\\u0441\\u0442\\u044c\", \"\\u043d\\u0435\\u043e\\u0431\\u0445\\u043e\\u0434\\u0438\\u043c\\u043e\", \"\\u0438\\u0432\\u0430\\u043d\\u043e\\u0432\", \"\\u043e\\u0434\\u043e\\u0431\\u0440\\u044f\\u0442\\u044c\", \"\\u043b\\u0443\\u0436\\u043a\\u043e\\u0432\", \"\\u043e\\u0431\\u0441\\u0443\\u0436\\u0434\\u0430\\u0442\\u044c\\u0441\\u044f\", \"\\u043f\\u0435\\u0440\\u0438\\u043e\\u0434\", \"\\u043d\\u043e\\u0440\\u043c\\u0430\", \"\\u0432\\u044b\\u0441\\u043a\\u0430\\u0437\\u044b\\u0432\\u0430\\u0442\\u044c\", \"\\u0441\\u0442\\u0440\\u0430\\u0442\\u0435\\u0433\\u0438\\u0447\\u0435\\u0441\\u043a\\u0438\\u0439\", \"\\u044d\\u043a\\u043e\\u043d\\u043e\\u043c\\u0438\\u0447\\u0435\\u0441\\u043a\\u0438\\u0439\", \"\\u0433\\u043e\\u0441\\u0443\\u0434\\u0430\\u0440\\u0441\\u0442\\u0432\\u043e\", \"\\u0432\\u0441\\u0442\\u0440\\u0435\\u0447\\u0430\", \"\\u043f\\u0440\\u0435\\u0434\\u043b\\u043e\\u0436\\u0435\\u043d\\u0438\\u0435\", \"\\u0432\\u043e\\u043f\\u0440\\u043e\\u0441\", \"\\u043a\\u0430\\u0441\\u0430\\u0442\\u044c\\u0441\\u044f\", \"\\u0432\\u0435\\u0434\\u043e\\u043c\\u0441\\u0442\\u0432\\u043e\", \"\\u043f\\u043e\\u0434\\u043f\\u0438\\u0441\\u044b\\u0432\\u0430\\u0442\\u044c\", \"\\u0440\\u043e\\u0441\\u0441\\u0438\\u044f\", \"\\u0440\\u043e\\u0441\\u0441\\u0438\\u0439\\u0441\\u043a\\u0438\\u0439\", \"\\u0434\\u043e\\u043b\\u0436\\u043d\\u044b\\u0439\", \"\\u043f\\u043e\\u043b\\u0438\\u0442\\u0438\\u043a\\u0430\", \"\\u043f\\u0443\\u0442\\u0438\\u043d\", \"\\u043f\\u0440\\u0435\\u0434\\u043b\\u0430\\u0433\\u0430\\u0442\\u044c\", \"\\u0441\\u0442\\u0440\\u0430\\u043d\\u0430\", \"\\u043e\\u0442\\u043c\\u0435\\u0447\\u0430\\u0442\\u044c\", \"\\u043f\\u0440\\u0438\\u043d\\u0438\\u043c\\u0430\\u0442\\u044c\", \"\\u0441\\u0438\\u0442\\u0443\\u0430\\u0446\\u0438\\u044f\", \"\\u0438\\u044e\\u043b\\u044c\", \"\\u0437\\u0430\\u0441\\u0435\\u0434\\u0430\\u043d\\u0438\\u0435\", \"\\u0437\\u0430\\u044f\\u0432\\u043b\\u044f\\u0442\\u044c\", \"\\u0442\\u0430\\u043a\\u0436\\u0435\", \"\\u043a\\u043e\\u043c\\u0438\\u0442\\u0435\\u0442\", \"\\u043f\\u0440\\u0435\\u0437\\u0438\\u0434\\u0435\\u043d\\u0442\", \"\\u043d\\u043e\\u0432\\u043e\\u0441\\u0442\\u044c\", \"\\u043f\\u0435\\u0440\\u0435\\u0434\\u0430\\u0432\\u0430\\u0442\\u044c\", \"\\u0440\\u0438\\u0430\", \"\\u044d\\u0442\\u043e\", \"\\u0433\\u043b\\u0430\\u0432\\u0430\", \"\\u0441\\u043b\\u043e\\u0432\\u043e\", \"\\u043c\\u043e\\u0441\\u043a\\u0432\\u0430\", \"\\u0441\\u043e\\u0432\\u0435\\u0442\", \"\\u0432\\u043b\\u0430\\u0434\\u0438\\u043c\\u0438\\u0440\", \"\\u043a\\u043e\\u0442\\u043e\\u0440\\u044b\\u0439\", \"\\u0441\\u043e\\u043e\\u0431\\u0449\\u0430\\u0442\\u044c\", \"\\u0433\\u043e\\u0434\", \"\\u043d\\u043e\\u0432\\u044b\\u0439\", \"\\u0440\\u0435\\u0431\\u0435\\u043d\\u043e\\u043a\", \"\\u0441\\u0438\\u043b\\u044c\\u043d\\u044b\\u0439\", \"\\u0432\\u043e\\u0434\\u0438\\u0442\\u0435\\u043b\\u044c\", \"\\u0430\\u0432\\u0430\\u0440\\u0438\\u044f\", \"\\u043f\\u0430\\u0440\\u043a\", \"\\u0441\\u0430\\u043c\\u043e\\u043b\\u0435\\u0442\", \"\\u0438\\u043d\\u0446\\u0438\\u0434\\u0435\\u043d\\u0442\", \"\\u0432\\u043e\\u0434\\u0430\", \"\\u043f\\u043e\\u0433\\u0438\\u0431\\u0448\\u0438\\u0439\", \"\\u043f\\u0440\\u0430\\u0432\\u0438\\u043b\\u043e\", \"\\u043e\\u043f\\u0430\\u0441\\u043d\\u044b\\u0439\", \"\\u0442\\u044f\\u0436\\u0435\\u043b\\u044b\\u0439\", \"\\u043a\\u0430\\u0442\\u0430\\u0441\\u0442\\u0440\\u043e\\u0444\\u0430\", \"\\u043f\\u0430\\u0441\\u0441\\u0430\\u0436\\u0438\\u0440\", \"\\u043c\\u043e\\u0449\\u043d\\u044b\\u0439\", \"\\u0431\\u043e\\u0440\\u0442\", \"\\u0436\\u0435\\u043b\\u0435\\u0437\\u043d\\u043e\\u0434\\u043e\\u0440\\u043e\\u0436\\u043d\\u044b\\u0439\", \"\\u044d\\u043a\\u0438\\u043f\\u0430\\u0436\", \"\\u0432\\u0437\\u0440\\u044b\\u0432\\u0430\\u0442\\u044c\\u0441\\u044f\", \"\\u043e\\u0448\\u0438\\u0431\\u043a\\u0430\", \"\\u0441\\u0442\\u0435\\u043f\\u0435\\u043d\\u044c\", \"\\u0432\\u043e\\u0437\\u0440\\u0430\\u0441\\u0442\", \"\\u043a\\u043e\\u0440\\u0430\\u0431\\u043b\\u044c\", \"\\u0430\\u043c\\u0435\\u0440\\u0438\\u043a\\u0430\\u043d\\u0435\\u0446\", \"\\u0441\\u043f\\u0430\\u0441\\u0430\\u0442\\u0435\\u043b\\u044c\", \"\\u043f\\u043e\\u043b\\u0435\\u0442\", \"\\u0443\\u0441\\u0442\\u0430\\u043d\\u043e\\u0432\\u043a\\u0430\", \"\\u0432\\u044b\\u0435\\u0437\\u0436\\u0430\\u0442\\u044c\", \"\\u043b\\u0435\\u0441\", \"\\u0441\\u0438\\u043b\\u044c\\u043d\\u043e\", \"\\u0432\\u044b\\u044f\\u0441\\u043d\\u044f\\u0442\\u044c\\u0441\\u044f\", \"\\u043f\\u043e\\u0441\\u0442\\u0440\\u0430\\u0434\\u0430\\u0442\\u044c\", \"\\u043f\\u0440\\u0438\\u0445\\u043e\\u0434\\u0438\\u0442\\u044c\\u0441\\u044f\", \"\\u043f\\u0440\\u043e\\u0438\\u0441\\u0445\\u043e\\u0434\\u0438\\u0442\\u044c\", \"\\u043f\\u043e\\u0433\\u0438\\u0431\\u0430\\u0442\\u044c\", \"\\u043f\\u0440\\u0438\\u0447\\u0438\\u043d\\u0430\", \"\\u0431\\u043e\\u043b\\u044c\\u043d\\u0438\\u0446\\u0430\", \"\\u043c\\u0435\\u0441\\u0442\\u043e\", \"\\u0440\\u0435\\u0437\\u0443\\u043b\\u044c\\u0442\\u0430\\u0442\", \"\\u0447\\u0430\\u0441\", \"\\u0442\\u0440\\u043e\\u0435\", \"\\u0447\\u0435\\u043b\\u043e\\u0432\\u0435\\u043a\", \"\\u0443\\u0434\\u0430\\u0432\\u0430\\u0442\\u044c\\u0441\\u044f\", \"\\u043d\\u0430\\u0445\\u043e\\u0434\\u0438\\u0442\\u044c\\u0441\\u044f\", \"\\u043d\\u0435\\u0441\\u043a\\u043e\\u043b\\u044c\\u043a\\u043e\", \"\\u043f\\u043e\\u043b\\u0438\\u0446\\u0438\\u044f\", \"\\u043c\\u0430\\u0448\\u0438\\u043d\\u0430\", \"\\u0432\\u0437\\u0440\\u044b\\u0432\", \"\\u0432\\u0440\\u0435\\u043c\\u044f\", \"\\u043f\\u043e\\u043b\\u0443\\u0447\\u0430\\u0442\\u044c\", \"\\u0434\\u043e\\u043c\", \"\\u043a\\u043e\\u0442\\u043e\\u0440\\u044b\\u0439\", \"\\u0441\\u043e\\u043e\\u0431\\u0449\\u0430\\u0442\\u044c\", \"\\u043e\\u043a\\u0430\\u0437\\u044b\\u0432\\u0430\\u0442\\u044c\\u0441\\u044f\", \"\\u0434\\u0435\\u043d\\u044c\", \"\\u0441\\u0442\\u0430\\u043d\\u043e\\u0432\\u0438\\u0442\\u044c\\u0441\\u044f\", \"\\u0432\\u0435\\u0441\\u044c\", \"\\u043e\\u0434\\u043d\\u0430\\u043a\\u043e\", \"\\u0432\\u0442\\u043e\\u0440\\u043e\\u0439\", \"\\u043e\\u043a\\u043e\\u043b\\u043e\", \"\\u0433\\u043e\\u0440\\u043e\\u0434\", \"\\u044d\\u0442\\u043e\", \"\\u0433\\u043e\\u0434\", \"\\u043d\\u0430\\u0448\", \"\\u043e\\u0442\\u0441\\u0442\\u0430\\u0432\\u043a\\u0430\", \"\\u043a\\u0430\\u043d\\u0430\\u043b\", \"\\u0445\\u0430\\u043a\\u0435\\u0440\", \"\\u0434\\u043e\\u0431\\u0438\\u0432\\u0430\\u0442\\u044c\\u0441\\u044f\", \"\\u0435\\u0432\\u0433\\u0435\\u043d\\u0438\\u0439\", \"\\u043f\\u0440\\u044f\\u043c\\u043e\\u0439\", \"\\u0432\\u0441\\u0435\\u043c\\u0438\\u0440\\u043d\\u044b\\u0439\", \"\\u0447\\u0443\\u0431\\u0430\\u0439\\u0441\", \"\\u043d\\u0430\\u0441\\u0442\\u0430\\u0438\\u0432\\u0430\\u0442\\u044c\", \"\\u0435\\u043b\\u044c\\u0446\\u0438\\u043d\", \"\\u043d\\u0430\\u0437\\u0432\\u0430\\u043d\\u0438\\u0435\", \"\\u0431\\u043b\\u0430\\u0433\\u043e\\u0434\\u0430\\u0440\\u044f\", \"\\u0430\\u0442\\u0430\\u043a\\u0430\", \"\\u043f\\u0443\\u0431\\u043b\\u0438\\u043a\\u0430\\u0446\\u0438\\u044f\", \"\\u043a\\u043e\\u0440\\u0440\\u0443\\u043f\\u0446\\u0438\\u044f\", \"\\u044d\\u0444\\u0438\\u0440\", \"\\u0432\\u043e\\u0441\\u043f\\u043e\\u043b\\u044c\\u0437\\u043e\\u0432\\u0430\\u0442\\u044c\\u0441\\u044f\", \"times\", \"\\u0441\\u043e\\u0432\\u0435\\u0442\\u043d\\u0438\\u043a\", \"\\u043f\\u0435\\u043d\\u0442\\u0430\\u0433\\u043e\\u043d\", \"\\u0436\\u0435\\u043b\\u0430\\u0442\\u044c\", \"\\u0441\\u0435\\u043d\\u0430\\u0442\", \"\\u0445\\u0430\\u043a\\u0435\\u0440\\u0441\\u043a\\u0438\\u0439\", \"\\u0440\\u0443\\u0431\\u0435\\u0436\", \"\\u0437\\u0430\\u043a\\u0430\\u0437\", \"\\u043a\\u0443\\u0440\\u0438\\u0440\\u043e\\u0432\\u0430\\u0442\\u044c\", \"\\u043f\\u043e\\u0432\\u044b\\u0448\\u0430\\u0442\\u044c\\u0441\\u044f\", \"\\u043f\\u0440\\u0438\\u0437\\u0432\\u0430\\u043d\\u043d\\u044b\\u0439\", \"\\u0438\\u0437\\u0432\\u0435\\u0441\\u0442\\u0438\\u0435\", \"\\u0432\\u044b\\u0445\\u043e\\u0434\", \"\\u0444\\u0431\\u0440\", \"\\u0438\\u043d\\u0442\\u0435\\u0440\\u0432\\u044c\\u044e\", \"\\u043f\\u0435\\u0440\\u0435\\u0434\\u0430\\u0447\\u0430\", \"\\u0440\\u0435\\u0430\\u043a\\u0446\\u0438\\u044f\", \"\\u0432\\u043d\\u043e\\u0432\\u044c\", \"\\u0441\\u043c\\u0438\", \"\\u0445\\u043e\\u0442\\u0435\\u0442\\u044c\", \"\\u0434\\u0438\\u0440\\u0435\\u043a\\u0442\\u043e\\u0440\", \"\\u043e\\u0442\\u043a\\u0430\\u0437\\u044b\\u0432\\u0430\\u0442\\u044c\\u0441\\u044f\", \"\\u0440\\u0443\\u043a\\u0430\", \"\\u0441\\u0432\\u043e\\u0439\", \"\\u0440\\u0435\\u0448\\u0430\\u0442\\u044c\", \"\\u043e\\u0447\\u0435\\u043d\\u044c\", \"\\u0441\\u043a\\u0430\\u0437\\u0430\\u0442\\u044c\", \"\\u043d\\u0438\\u043a\\u0430\\u043a\\u043e\\u0439\", \"\\u0432\\u044b\\u0441\\u043e\\u043a\\u0438\\u0439\", \"\\u0437\\u0430\\u044f\\u0432\\u043b\\u044f\\u0442\\u044c\", \"\\u044d\\u0442\\u043e\", \"\\u043f\\u0435\\u0440\\u0432\\u044b\\u0439\", \"\\u043f\\u044f\\u0442\\u043d\\u0438\\u0446\\u0430\", \"\\u043e\\u0434\\u043d\\u0430\\u043a\\u043e\", \"\\u043f\\u043e\\u0441\\u043b\\u0435\\u0434\\u043d\\u0438\\u0439\", \"\\u0441\\u043b\\u043e\\u0432\\u043e\", \"\\u043c\\u043e\\u0447\\u044c\", \"\\u0441\\u0442\\u0430\\u043d\\u043e\\u0432\\u0438\\u0442\\u044c\\u0441\\u044f\", \"\\u043d\\u0430\\u0437\\u044b\\u0432\\u0430\\u0442\\u044c\", \"\\u0440\\u0443\\u043a\\u043e\\u0432\\u043e\\u0434\\u0441\\u0442\\u0432\\u043e\", \"\\u043a\\u043e\\u0442\\u043e\\u0440\\u044b\\u0439\", \"\\u043d\\u0435\\u0434\\u0435\\u043b\\u044f\", \"\\u0438\\u043d\\u0444\\u043e\\u0440\\u043c\\u0430\\u0446\\u0438\\u044f\", \"\\u0432\\u044b\\u0441\\u0442\\u0443\\u043f\\u0430\\u0442\\u044c\", \"\\u0432\\u0440\\u0435\\u043c\\u044f\", \"\\u0441\\u0430\\u043c\\u044b\\u0439\", \"\\u0441\\u0434\\u0435\\u043b\\u0430\\u0442\\u044c\", \"\\u0436\\u0443\\u0440\\u043d\\u0430\\u043b\\u0438\\u0441\\u0442\", \"\\u0434\\u0435\\u043f\\u0443\\u0442\\u0430\\u0442\", \"\\u0433\\u043e\\u0441\\u0434\\u0443\\u043c\\u0430\", \"\\u0432\\u044b\\u0431\\u043e\\u0440\\u044b\", \"\\u0441\\u0435\\u0440\\u0433\\u0435\\u0439\", \"\\u0434\\u0443\\u043c\\u0430\", \"\\u0433\\u0440\\u043e\\u0437\\u043d\\u044b\\u0439\", \"\\u043a\\u0430\\u0432\\u043a\\u0430\\u0437\", \"\\u0440\\u0430\\u0437\\u043c\\u0435\\u0440\", \"\\u0432\\u043e\\u0440\\u043e\\u0442\\u0430\", \"\\u0433\\u0440\\u0443\\u0437\\u0438\\u044f\", \"\\u0433\\u043e\\u043b\\u043e\\u0441\", \"\\u0438\\u0437\\u0431\\u0438\\u0440\\u0430\\u0442\\u0435\\u043b\\u044c\\u043d\\u044b\\u0439\", \"\\u0447\\u0435\\u0447\\u0435\\u043d\\u0435\\u0446\", \"\\u0430\\u043b\\u0435\\u043a\\u0441\\u0435\\u0439\", \"\\u043f\\u0440\\u0438\\u0441\\u0443\\u0442\\u0441\\u0442\\u0432\\u043e\\u0432\\u0430\\u0442\\u044c\", \"\\u043d\\u0430\\u0440\\u043e\\u0434\\u043d\\u044b\\u0439\", \"\\u0434\\u0435\\u043c\\u043e\\u043a\\u0440\\u0430\\u0442\\u0438\\u0447\\u0435\\u0441\\u043a\\u0438\\u0439\", \"\\u043a\\u043e\\u043c\\u0430\\u043d\\u0434\\u0443\\u044e\\u0449\\u0438\\u0439\", \"\\u0442\\u0435\\u043b\\u0435\\u043a\\u0430\\u043d\\u0430\\u043b\", \"\\u043f\\u043e\\u0431\\u0435\\u0436\\u0434\\u0430\\u0442\\u044c\", \"\\u0438\\u0437\\u0431\\u0438\\u0440\\u043a\\u043e\\u043c\", \"\\u0433\\u0440\\u0443\\u0437\\u0438\\u043d\\u0441\\u043a\\u0438\\u0439\", \"\\u043f\\u0440\\u0435\\u0437\\u0438\\u0434\\u0435\\u043d\\u0442\\u0441\\u043a\\u0438\\u0439\", \"\\u0441\\u044a\\u0435\\u0437\\u0434\", \"\\u0440\\u0435\\u0441\\u043f\\u0443\\u0431\\u043b\\u0438\\u043a\\u0430\\u043d\\u0441\\u043a\\u0438\\u0439\", \"\\u043a\\u043f\\u0440\\u0444\", \"\\u0438\\u0441\\u043f\\u043e\\u043b\\u043d\\u044f\\u0442\\u044c\", \"\\u043d\\u0435\\u0433\\u0430\\u0442\\u0438\\u0432\\u043d\\u044b\\u0439\", \"\\u043e\\u0442\\u043f\\u0443\\u0441\\u043a\\u0430\\u0442\\u044c\", \"\\u0440\\u0442\\u0440\", \"\\u0434\\u043e\\u043b\\u0436\\u043d\\u043e\\u0441\\u0442\\u044c\", \"\\u0443\\u043a\\u0430\\u0437\", \"\\u043f\\u0440\\u0435\\u0434\\u0441\\u0435\\u0434\\u0430\\u0442\\u0435\\u043b\\u044c\", \"\\u0430\\u0434\\u043c\\u0438\\u043d\\u0438\\u0441\\u0442\\u0440\\u0430\\u0446\\u0438\\u044f\", \"\\u043f\\u043e\\u0441\\u0442\", \"\\u0444\\u0435\\u0434\\u0435\\u0440\\u0430\\u0446\\u0438\\u044f\", \"\\u043f\\u0440\\u0435\\u0437\\u0438\\u0434\\u0435\\u043d\\u0442\", \"\\u0441\\u0435\\u0432\\u0435\\u0440\\u043d\\u044b\\u0439\", \"\\u043d\\u0430\\u0437\\u043d\\u0430\\u0447\\u0435\\u043d\\u0438\\u0435\", \"\\u0441\\u043e\\u0432\\u0435\\u0442\", \"\\u0430\\u043b\\u0435\\u043a\\u0441\\u0430\\u043d\\u0434\\u0440\", \"\\u0432\\u043b\\u0430\\u0434\\u0438\\u043c\\u0438\\u0440\", \"\\u043b\\u0438\\u0434\\u0435\\u0440\", \"\\u0433\\u043b\\u0430\\u0432\\u0430\", \"\\u0438\\u043d\\u0442\\u0435\\u0440\\u0444\\u0430\\u043a\\u0441\", \"\\u0437\\u0430\\u043c\\u0435\\u0441\\u0442\\u0438\\u0442\\u0435\\u043b\\u044c\", \"\\u043a\\u043e\\u043c\\u0438\\u0441\\u0441\\u0438\\u044f\", \"\\u0447\\u0435\\u0442\\u0432\\u0435\\u0440\\u0433\", \"\\u0440\\u0435\\u0441\\u043f\\u0443\\u0431\\u043b\\u0438\\u043a\\u0430\", \"\\u043f\\u0440\\u043e\\u0442\\u0438\\u0432\", \"\\u0441\\u0432\\u043e\\u0439\", \"\\u0440\\u043e\\u0441\\u0441\\u0438\\u044f\", \"\\u0441\\u043e\\u043e\\u0431\\u0449\\u0430\\u0442\\u044c\", \"\\u043f\\u0440\\u0438\\u043d\\u0438\\u043c\\u0430\\u0442\\u044c\", \"\\u043f\\u0440\\u0435\\u0434\\u0441\\u0442\\u0430\\u0432\\u0438\\u0442\\u0435\\u043b\\u044c\", \"\\u043e\\u0442\\u043a\\u0440\\u044b\\u0432\\u0430\\u0442\\u044c\", \"\\u0443\\u0431\\u0438\\u0439\\u0441\\u0442\\u0432\\u043e\", \"\\u043a\\u0430\\u0436\\u0434\\u044b\\u0439\", \"\\u0437\\u0430\\u043f\\u0440\\u0435\\u0449\\u0430\\u0442\\u044c\", \"\\u043e\\u0431\\u0432\\u0438\\u043d\\u044f\\u0442\\u044c\", \"\\u0434\\u0440\\u0443\\u0433\", \"\\u043c\\u0438\\u0434\", \"\\u0436\\u0438\\u0442\\u044c\", \"\\u0448\\u043a\\u043e\\u043b\\u0430\", \"\\u0441\\u044b\\u043d\", \"\\u0432\\u043e\\u0437\\u043b\\u0435\", \"\\u043a\\u043e\\u043c\\u043f\\u0435\\u043d\\u0441\\u0430\\u0446\\u0438\\u044f\", \"\\u0433\\u0440\\u0430\\u043d\\u0430\\u0442\\u043e\\u043c\\u0435\\u0442\", \"\\u0432\\u0438\\u043d\\u043e\\u0432\\u043d\\u044b\\u0439\", \"\\u043e\\u0433\\u0440\\u0430\\u043d\\u0438\\u0447\\u0435\\u043d\\u0438\\u0435\", \"\\u043e\\u0431\\u0440\\u0430\\u0449\\u0430\\u0442\\u044c\", \"\\u043f\\u0435\\u0440\\u0435\\u0434\\u0432\\u0438\\u0436\\u0435\\u043d\\u0438\\u0435\", \"\\u0443\\u0447\\u0440\\u0435\\u0436\\u0434\\u0435\\u043d\\u0438\\u0435\", \"\\u0433\\u0440\\u0430\\u043d\\u0430\\u0442\", \"\\u0432\\u0435\\u0449\\u0435\\u0441\\u0442\\u0432\\u043e\", \"\\u0431\\u0440\\u043e\\u0441\\u0430\\u0442\\u044c\", \"\\u043e\\u0442\\u0435\\u0447\\u0435\\u0441\\u0442\\u0432\\u0435\\u043d\\u043d\\u044b\\u0439\", \"\\u043f\\u0440\\u0438\\u0431\\u044b\\u043b\\u044c\", \"\\u0440\\u044f\\u0434\\u043e\\u043c\", \"\\u043d\\u0430\\u043f\\u0438\\u0441\\u0430\\u0442\\u044c\", \"\\u0440\\u0435\\u043b\\u0438\\u0433\\u0438\\u043e\\u0437\\u043d\\u044b\\u0439\", \"\\u0442\\u043e\\u0447\\u043d\\u044b\\u0439\", \"\\u043f\\u043e\\u0438\\u0441\\u043a\\u043e\\u0432\\u044b\\u0439\", \"\\u0441\\u043e\\u0432\\u0435\\u0440\\u0448\\u0435\\u043d\\u043d\\u044b\\u0439\", \"\\u0442\\u0435\\u043b\\u0435\\u0444\\u043e\\u043d\\u043d\\u044b\\u0439\", \"\\u0440\\u043e\\u0434\\u0441\\u0442\\u0432\\u0435\\u043d\\u043d\\u0438\\u043a\", \"\\u0441\\u0435\\u0442\\u044c\", \"\\u043f\\u0438\\u0441\\u044c\\u043c\\u043e\", \"\\u0440\\u0430\\u043d\\u043e\", \"\\u043f\\u0440\\u043e\\u0441\\u0442\\u043e\", \"\\u043b\\u044e\\u0431\\u043e\\u0439\", \"\\u0440\\u0443\\u0441\\u0441\\u043a\\u0438\\u0439\", \"\\u0436\\u0438\\u0437\\u043d\\u044c\", \"\\u0438\\u043c\\u044f\", \"\\u0437\\u043e\\u043d\\u0430\", \"\\u0438\\u0441\\u043f\\u043e\\u043b\\u044c\\u0437\\u043e\\u0432\\u0430\\u0442\\u044c\", \"\\u043b\\u0438\\u0431\\u043e\", \"\\u0432\\u0435\\u0441\\u044c\", \"\\u0438\\u0437\\u0432\\u0435\\u0441\\u0442\\u043d\\u044b\\u0439\", \"\\u043c\\u0430\\u0441\\u0441\\u043e\\u0432\\u044b\\u0439\", \"\\u043c\\u043d\\u043e\\u0433\\u0438\\u0439\", \"\\u043a\\u043e\\u0442\\u043e\\u0440\\u044b\\u0439\", \"\\u0447\\u0435\\u043b\\u043e\\u0432\\u0435\\u043a\", \"\\u0441\\u0432\\u043e\\u0439\", \"\\u043f\\u043e\\u0434\\u043e\\u0431\\u043d\\u044b\\u0439\", \"\\u0442\\u044b\\u0441\\u044f\\u0447\\u0430\", \"\\u043a\\u043e\\u043b\\u0438\\u0447\\u0435\\u0441\\u0442\\u0432\\u043e\", \"\\u043d\\u0435\\u0441\\u043a\\u043e\\u043b\\u044c\\u043a\\u043e\", \"\\u0432\\u043e\\u0439\\u043d\\u0430\", \"\\u043a\\u0440\\u043e\\u043c\\u0435\", \"\\u0433\\u0440\\u0443\\u043f\\u043f\\u0430\", \"\\u0434\\u0435\\u043d\\u044c\", \"\\u043f\\u0440\\u0438\\u0437\\u043d\\u0430\\u0432\\u0430\\u0442\\u044c\", \"\\u0442\\u0430\\u043a\\u0436\\u0435\", \"\\u043c\\u043e\\u0447\\u044c\", \"\\u0432\\u043b\\u0430\\u0441\\u0442\\u044c\", \"\\u044d\\u0442\\u043e\", \"\\u0432\\u0440\\u0435\\u043c\\u044f\", \"\\u043c\\u0438\\u043b\\u0438\\u0446\\u0438\\u044f\", \"\\u0437\\u0434\\u0430\\u043d\\u0438\\u0435\", \"\\u043e\\u0442\\u0434\\u0435\\u043b\", \"\\u0433\\u043e\\u0440\\u043e\\u0434\\u0441\\u043a\\u043e\\u0439\", \"\\u0430\\u044d\\u0440\\u043e\\u043f\\u043e\\u0440\\u0442\", \"\\u0433\\u0443\\u0432\\u0434\", \"\\u0441\\u043a\\u0440\\u044b\\u0432\\u0430\\u0442\\u044c\\u0441\\u044f\", \"\\u0430\\u0432\\u0442\\u043e\\u043c\\u0430\\u0442\", \"\\u043c\\u0447\\u0441\", \"\\u043f\\u043e\\u0445\\u0438\\u0449\\u0430\\u0442\\u044c\", \"\\u0432\\u044b\\u043b\\u0435\\u0442\\u0430\\u0442\\u044c\", \"\\u0432\\u0437\\u0440\\u044b\\u0432\\u0447\\u0430\\u0442\\u043a\\u0430\", \"\\u043f\\u043e\\u043c\\u0435\\u0449\\u0435\\u043d\\u0438\\u0435\", \"\\u043f\\u043b\\u0430\\u0442\\u0430\", \"\\u0440\\u043e\\u0437\\u044b\\u0441\\u043a\", \"\\u043e\\u043c\\u043e\\u043d\", \"\\u043f\\u043e\\u043f\\u0440\\u043e\\u0441\\u0438\\u0442\\u044c\", \"\\u0434\\u0435\\u0436\\u0443\\u0440\\u043d\\u044b\\u0439\", \"\\u043c\\u043e\\u0441\\u043a\\u0432\\u0438\\u0447\", \"\\u043f\\u0440\\u0435\\u0442\\u0435\\u043d\\u0434\\u0435\\u043d\\u0442\", \"\\u0437\\u0430\\u0433\\u043e\\u0440\\u0430\\u0442\\u044c\\u0441\\u044f\", \"\\u043d\\u0430\\u0431\\u0435\\u0440\\u0435\\u0436\\u043d\\u0430\\u044f\", \"\\u0432\\u0437\\u043b\\u0435\\u0442\", \"\\u0431\\u043b\\u0438\\u0437\\u043b\\u0435\\u0436\\u0430\\u0449\\u0438\\u0439\", \"\\u043b\\u0430\\u0439\\u043d\\u0435\\u0440\", \"\\u0442\\u043e\\u043f\\u043b\\u0438\\u0432\\u043d\\u044b\\u0439\", \"\\u0438\\u0437\\u043e\\u043b\\u044f\\u0442\\u043e\\u0440\", \"\\u043e\\u0442\\u043a\\u0443\\u0434\\u0430\", \"\\u044f\\u0449\\u0438\\u043a\", \"\\u0438\\u0437\\u0431\\u0438\\u0432\\u0430\\u0442\\u044c\", \"\\u043a\\u0432\\u0430\\u0440\\u0442\\u0438\\u0440\\u0430\", \"\\u0441\\u043e\\u0442\\u0440\\u0443\\u0434\\u043d\\u0438\\u043a\", \"\\u0436\\u0435\\u043d\\u0449\\u0438\\u043d\\u0430\", \"\\u043e\\u0431\\u043d\\u0430\\u0440\\u0443\\u0436\\u0438\\u0432\\u0430\\u0442\\u044c\", \"\\u0443\\u043f\\u0440\\u0430\\u0432\\u043b\\u0435\\u043d\\u0438\\u0435\", \"\\u0441\\u043b\\u0443\\u0436\\u0431\\u0430\", \"\\u0432\\u0435\\u0441\\u0442\\u0438\\u0441\\u044c\", \"\\u0443\\u043b\\u0438\\u0446\\u0430\", \"\\u043f\\u0440\\u0430\\u0432\\u043e\\u043e\\u0445\\u0440\\u0430\\u043d\\u0438\\u0442\\u0435\\u043b\\u044c\\u043d\\u044b\\u0439\", \"\\u043c\\u043e\\u0441\\u043a\\u0432\\u0430\", \"\\u0440\\u0438\\u0430\", \"\\u043d\\u043e\\u0432\\u043e\\u0441\\u0442\\u044c\", \"\\u0433\\u043e\\u0440\\u043e\\u0434\", \"\\u043c\\u043e\\u0441\\u043a\\u043e\\u0432\\u0441\\u043a\\u0438\\u0439\", \"\\u043f\\u0440\\u0435\\u0441\\u0441\", \"\\u043c\\u0432\\u0434\", \"\\u0430\\u0432\\u0442\\u043e\\u043c\\u043e\\u0431\\u0438\\u043b\\u044c\", \"\\u0434\\u043e\\u043c\", \"\\u0441\\u043e\\u043e\\u0431\\u0449\\u0430\\u0442\\u044c\", \"\\u0446\\u0435\\u043d\\u0442\\u0440\", \"\\u043e\\u043a\\u043e\\u043b\\u043e\", \"\\u0437\\u0430\\u0434\\u0435\\u0440\\u0436\\u0438\\u0432\\u0430\\u0442\\u044c\", \"\\u043e\\u0431\\u043b\\u0430\\u0441\\u0442\\u044c\", \"\\u0432\\u0437\\u0440\\u044b\\u0432\", \"\\u043d\\u0430\\u0447\\u0430\\u043b\\u044c\\u043d\\u0438\\u043a\", \"\\u043c\\u0435\\u0441\\u0442\\u043e\", \"\\u043e\\u0440\\u0433\\u0430\\u043d\", \"\\u043d\\u0430\\u0445\\u043e\\u0434\\u0438\\u0442\\u044c\", \"\\u0434\\u0432\\u043e\\u0435\", \"\\u0447\\u0435\\u0447\\u043d\\u044f\", \"\\u0431\\u043e\\u0435\\u0432\\u0438\\u043a\", \"\\u0447\\u0435\\u0447\\u0435\\u043d\\u0441\\u043a\\u0438\\u0439\", \"\\u0432\\u043e\\u0439\\u0441\\u043a\\u043e\", \"\\u0433\\u0440\\u0443\\u043f\\u043f\\u0438\\u0440\\u043e\\u0432\\u043a\\u0430\", \"\\u0432\\u043e\\u0435\\u043d\\u043d\\u043e\\u0441\\u043b\\u0443\\u0436\\u0430\\u0449\\u0438\\u0439\", \"\\u043f\\u043e\\u0434\\u0440\\u0430\\u0437\\u0434\\u0435\\u043b\\u0435\\u043d\\u0438\\u0435\", \"\\u0431\\u043e\\u0435\\u0432\\u043e\\u0439\", \"\\u043d\\u0430\\u0441\\u0435\\u043b\\u0435\\u043d\\u043d\\u044b\\u0439\", \"\\u0434\\u0430\\u0433\\u0435\\u0441\\u0442\\u0430\\u043d\", \"\\u0440\\u0430\\u043d\\u0435\\u043d\\u044b\\u0439\", \"\\u0431\\u043e\\u0435\\u043f\\u0440\\u0438\\u043f\\u0430\\u0441\\u044b\", \"\\u0431\\u0430\\u043d\\u0434\\u0444\\u043e\\u0440\\u043c\\u0438\\u0440\\u043e\\u0432\\u0430\\u043d\\u0438\\u0435\", \"\\u0441\\u0435\\u043b\\u043e\", \"\\u043e\\u0431\\u0441\\u0442\\u0440\\u0435\\u043b\", \"\\u0431\\u043e\\u0439\", \"\\u0441\\u0435\\u043b\\u0435\\u043d\\u0438\\u0435\", \"\\u0441\\u043d\\u0430\\u0440\\u044f\\u0434\", \"\\u0437\\u0430\\u0447\\u0438\\u0441\\u0442\\u043a\\u0430\", \"\\u043f\\u0435\\u0440\\u0435\\u0441\\u0442\\u0440\\u0435\\u043b\\u043a\\u0430\", \"\\u0441\\u043a\\u043b\\u0430\\u0434\", \"\\u0441\\u0430\\u0434\\u0438\\u0442\\u044c\\u0441\\u044f\", \"\\u0441\\u043f\\u0435\\u0446\\u043e\\u043f\\u0435\\u0440\\u0430\\u0446\\u0438\\u044f\", \"\\u043c\\u0435\\u0441\\u0442\\u043d\\u043e\\u0441\\u0442\\u044c\", \"\\u044d\\u043a\\u0441\\u0442\\u0440\\u0435\\u043c\\u0438\\u0441\\u0442\", \"\\u044e\\u0433\", \"\\u043c\\u0438\\u043d\\u043e\\u0431\\u043e\\u0440\\u043e\\u043d\\u044b\", \"\\u0430\\u0440\\u0442\\u0438\\u043b\\u043b\\u0435\\u0440\\u0438\\u0439\\u0441\\u043a\\u0438\\u0439\", \"\\u0440\\u0430\\u043a\\u0435\\u0442\\u043d\\u044b\\u0439\", \"\\u0434\\u0430\\u0433\\u0435\\u0441\\u0442\\u0430\\u043d\\u0441\\u043a\\u0438\\u0439\", \"\\u0438\\u0442\\u0430\\u0440\", \"\\u0442\\u0430\\u0441\\u0441\", \"\\u0433\\u0435\\u043d\\u0435\\u0440\\u0430\\u043b\", \"\\u043c\\u0438\\u043d\\u0430\", \"\\u043f\\u0443\\u043d\\u043a\\u0442\", \"\\u0440\\u0430\\u0439\\u043e\\u043d\", \"\\u0443\\u043d\\u0438\\u0447\\u0442\\u043e\\u0436\\u0430\\u0442\\u044c\", \"\\u0448\\u0442\\u0430\\u0431\", \"\\u0441\\u0438\\u043b\\u0430\", \"\\u0440\\u0435\\u0441\\u043f\\u0443\\u0431\\u043b\\u0438\\u043a\\u0430\", \"\\u0444\\u0435\\u0434\\u0435\\u0440\\u0430\\u043b\\u044c\\u043d\\u044b\\u0439\", \"\\u043f\\u043e\\u0442\\u0435\\u0440\\u044f\", \"\\u043e\\u0431\\u044a\\u0435\\u0434\\u0438\\u043d\\u044f\\u0442\\u044c\", \"\\u043e\\u0440\\u0443\\u0436\\u0438\\u0435\", \"\\u043e\\u043f\\u0435\\u0440\\u0430\\u0446\\u0438\\u044f\", \"\\u0442\\u0435\\u0440\\u0440\\u0438\\u0442\\u043e\\u0440\\u0438\\u044f\", \"\\u043c\\u0432\\u0434\", \"\\u043c\\u0438\\u043d\\u0443\\u0432\\u0448\\u0438\\u0439\", \"\\u0441\\u043e\\u043e\\u0431\\u0449\\u0430\\u0442\\u044c\", \"\\u0447\\u0435\\u043b\\u043e\\u0432\\u0435\\u043a\", \"\\u0432\\u043d\\u0443\\u0442\\u0440\\u0435\\u043d\\u043d\\u0438\\u0439\", \"\\u0433\\u0440\\u0430\\u043d\\u0438\\u0446\\u0430\", \"\\u0434\\u0430\\u043d\\u043d\\u044b\\u0435\", \"\\u0440\\u043e\\u0441\\u0441\\u0438\\u0439\\u0441\\u043a\\u0438\\u0439\", \"\\u043f\\u0440\\u043e\\u043a\\u0443\\u0440\\u0430\\u0442\\u0443\\u0440\\u0430\", \"\\u0443\\u0433\\u043e\\u043b\\u043e\\u0432\\u043d\\u044b\\u0439\", \"\\u043f\\u0440\\u0435\\u0441\\u0442\\u0443\\u043f\\u043b\\u0435\\u043d\\u0438\\u0435\", \"\\u043e\\u0442\\u0440\\u044f\\u0434\", \"\\u0432\\u043e\\u043e\\u0440\\u0443\\u0436\\u0435\\u043d\\u043d\\u044b\\u0439\", \"\\u0441\\u0432\\u043e\\u0431\\u043e\\u0434\\u0430\", \"\\u0432\\u043e\\u0437\\u0431\\u0443\\u0436\\u0434\\u0430\\u0442\\u044c\", \"\\u0438\\u0437\\u044b\\u043c\\u0430\\u0442\\u044c\", \"\\u0433\\u0435\\u043d\\u043f\\u0440\\u043e\\u043a\\u0443\\u0440\\u0430\\u0442\\u0443\\u0440\\u0430\", \"\\u0430\\u0440\\u0435\\u0441\\u0442\", \"\\u043a\\u043e\\u043c\\u0430\\u043d\\u0434\\u0438\\u0440\", \"\\u0441\\u043b\\u0435\\u0434\\u043e\\u0432\\u0430\\u0442\\u0435\\u043b\\u044c\", \"\\u0441\\u0442\\u043e\\u043b\\u043a\\u043d\\u043e\\u0432\\u0435\\u043d\\u0438\\u0435\", \"\\u0437\\u0430\\u043b\\u043e\\u0436\\u043d\\u0438\\u043a\", \"\\u043e\\u0431\\u044b\\u0441\\u043a\", \"\\u0437\\u0430\\u0434\\u0435\\u0440\\u0436\\u0430\\u043d\\u0438\\u0435\", \"\\u0442\\u044e\\u0440\\u044c\\u043c\\u0430\", \"\\u0437\\u0430\\u0445\\u0432\\u0430\\u0442\\u0438\\u0442\\u044c\", \"\\u043f\\u0440\\u0438\\u0433\\u043e\\u0432\\u043e\\u0440\", \"\\u043f\\u0440\\u0438\\u0433\\u043e\\u0432\\u0430\\u0440\\u0438\\u0432\\u0430\\u0442\\u044c\", \"\\u043f\\u043e\\u043f\\u044b\\u0442\\u0430\\u0442\\u044c\\u0441\\u044f\", \"\\u043f\\u0440\\u0435\\u0441\\u0441\\u0430\", \"\\u0441\\u043e\\u043b\\u0434\\u0430\\u0442\", \"\\u043d\\u0430\\u043a\\u0430\\u0437\\u0430\\u043d\\u0438\\u0435\", \"\\u043f\\u0440\\u0438\\u0447\\u0430\\u0441\\u0442\\u043d\\u043e\\u0441\\u0442\\u044c\", \"\\u043f\\u0440\\u0435\\u0441\\u0442\\u0443\\u043f\\u043d\\u044b\\u0439\", \"\\u043e\\u0442\\u043a\\u0430\\u0437\", \"\\u0433\\u0435\\u043d\\u043f\\u0440\\u043e\\u043a\\u0443\\u0440\\u043e\\u0440\", \"\\u0432\\u044b\\u0432\\u043e\\u0437\\u0438\\u0442\\u044c\", \"\\u043a\\u0430\\u043c\\u0435\\u043d\\u044c\", \"\\u0441\\u043b\\u0435\\u0434\\u0441\\u0442\\u0432\\u0438\\u0435\", \"\\u0444\\u0430\\u043a\\u0442\", \"\\u0442\\u0435\\u0440\\u0440\\u043e\\u0440\\u0438\\u0441\\u0442\", \"\\u0434\\u0435\\u043b\\u043e\", \"\\u043b\\u0435\\u0442\\u043d\\u0438\\u0439\", \"\\u0437\\u0430\\u0434\\u0435\\u0440\\u0436\\u0438\\u0432\\u0430\\u0442\\u044c\", \"\\u0443\\u0431\\u0438\\u0432\\u0430\\u0442\\u044c\", \"\\u043e\\u0441\\u0432\\u043e\\u0431\\u043e\\u0436\\u0434\\u0430\\u0442\\u044c\", \"\\u0442\\u0435\\u0440\\u0430\\u043a\\u0442\", \"\\u0433\\u043e\\u0434\", \"\\u0431\\u044b\\u0432\\u0448\\u0438\\u0439\", \"\\u0441\\u0443\\u0434\\u0435\\u0431\\u043d\\u044b\\u0439\", \"\\u0440\\u0430\\u0441\\u0441\\u043b\\u0435\\u0434\\u043e\\u0432\\u0430\\u043d\\u0438\\u0435\", \"\\u0432\\u043e\\u0435\\u043d\\u043d\\u044b\\u0439\", \"\\u043f\\u043e\\u043b\\u0438\\u0446\\u0438\\u044f\", \"\\u0438\\u043d\\u0442\\u0435\\u0440\\u0444\\u0430\\u043a\\u0441\", \"\\u0441\\u0443\\u0434\", \"\\u043a\\u043e\\u0442\\u043e\\u0440\\u044b\\u0439\", \"\\u0441\\u043e\\u043e\\u0431\\u0449\\u0430\\u0442\\u044c\", \"\\u0438\\u043d\\u0442\\u0435\\u0440\\u043d\\u0435\\u0442\", \"\\u043f\\u043e\\u043b\\u044c\\u0437\\u043e\\u0432\\u0430\\u0442\\u0435\\u043b\\u044c\", \"\\u043c\\u0438\\u043b\\u0438\\u0446\\u0438\\u043e\\u043d\\u0435\\u0440\", \"\\u044d\\u043b\\u0435\\u043a\\u0442\\u0440\\u043e\\u043d\\u043d\\u044b\\u0439\", \"\\u043a\\u043e\\u043c\\u043f\\u044c\\u044e\\u0442\\u0435\\u0440\", \"\\u043c\\u043e\\u0431\\u0438\\u043b\\u044c\\u043d\\u044b\\u0439\", \"\\u0443\\u0432\\u0435\\u043b\\u0438\\u0447\\u0435\\u043d\\u0438\\u0435\", \"\\u043f\\u0440\\u043e\\u0438\\u0437\\u0432\\u043e\\u0434\\u0438\\u0442\\u0435\\u043b\\u044c\", \"\\u043a\\u043e\\u043c\\u043f\\u044c\\u044e\\u0442\\u0435\\u0440\\u043d\\u044b\\u0439\", \"\\u044f\\u043f\\u043e\\u043d\\u0441\\u043a\\u0438\\u0439\", \"\\u043e\\u0442\\u0447\\u0435\\u0442\", \"\\u0442\\u043e\\u0432\\u0430\\u0440\", \"\\u043f\\u0440\\u0435\\u0438\\u043c\\u0443\\u0449\\u0435\\u0441\\u0442\\u0432\\u043e\", \"\\u0438\\u0441\\u043f\\u043e\\u043b\\u044c\\u0437\\u043e\\u0432\\u0430\\u0442\\u044c\\u0441\\u044f\", \"\\u0441\\u0435\\u043a\\u0443\\u043d\\u0434\\u0430\", \"\\u0434\\u0436\\u043e\\u043d\", \"\\u0443\\u0441\\u043f\\u0435\\u0448\\u043d\\u043e\", \"\\u043f\\u0440\\u0435\\u0434\\u043f\\u043e\\u043b\\u043e\\u0436\\u0438\\u0442\\u0435\\u043b\\u044c\\u043d\\u043e\", \"\\u044d\\u043a\\u0441\\u043f\\u043e\\u0440\\u0442\", \"\\u0442\\u0430\\u0434\\u0436\\u0438\\u043a\\u0438\\u0441\\u0442\\u0430\\u043d\", \"\\u043a\\u0443\\u043f\\u0438\\u0442\\u044c\", \"\\u043f\\u0440\\u043e\\u0433\\u0440\\u0430\\u043c\\u043c\\u043d\\u044b\\u0439\", \"\\u043e\\u0433\\u0440\\u0430\\u043d\\u0438\\u0447\\u0438\\u0432\\u0430\\u0442\\u044c\", \"\\u0432\\u044b\\u043f\\u0443\\u0441\\u043a\", \"\\u043f\\u0440\\u043e\\u0448\\u0435\\u0434\\u0448\\u0438\\u0439\", \"\\u0430\\u043d\\u0430\\u043b\\u0438\\u0442\\u0438\\u043a\", \"\\u043f\\u043b\\u0430\\u0442\\u0444\\u043e\\u0440\\u043c\\u0430\", \"\\u043c\\u043e\\u0434\\u0435\\u043b\\u044c\", \"intel\", \"ibm\", \"\\u043a\\u043e\\u043c\\u043f\\u0430\\u043d\\u0438\\u044f\", \"\\u043f\\u0440\\u043e\\u0434\\u0430\\u0436\\u0430\", \"\\u0441\\u0438\\u0441\\u0442\\u0435\\u043c\\u0430\", \"\\u043a\\u043e\\u043c\\u043c\\u0435\\u0440\\u0447\\u0435\\u0441\\u043a\\u0438\\u0439\", \"\\u0440\\u044b\\u043d\\u043e\\u043a\", \"\\u0438\\u0441\\u043f\\u043e\\u043b\\u044c\\u0437\\u043e\\u0432\\u0430\\u043d\\u0438\\u0435\", \"\\u043f\\u0440\\u043e\\u0433\\u0440\\u0430\\u043c\\u043c\\u0430\", \"\\u043d\\u043e\\u0432\\u044b\\u0439\", \"\\u0441\\u043f\\u0435\\u0446\\u0438\\u0430\\u043b\\u0438\\u0441\\u0442\", \"\\u043a\\u0440\\u0443\\u043f\\u043d\\u044b\\u0439\", \"\\u0434\\u0430\\u043d\\u043d\\u044b\\u0439\", \"\\u043a\\u043e\\u0442\\u043e\\u0440\\u044b\\u0439\", \"\\u0442\\u043e\\u0440\\u0433\\u043e\\u0432\\u044b\\u0439\", \"\\u0438\\u043d\\u0444\\u043e\\u0440\\u043c\\u0430\\u0446\\u0438\\u044f\", \"\\u0441\\u043e\\u0437\\u0434\\u0430\\u0432\\u0430\\u0442\\u044c\", \"\\u0430\\u043c\\u0435\\u0440\\u0438\\u043a\\u0430\\u043d\\u0441\\u043a\\u0438\\u0439\", \"\\u044f\\u0432\\u043b\\u044f\\u0442\\u044c\\u0441\\u044f\", \"\\u043f\\u043e\\u043b\\u0443\\u0447\\u0430\\u0442\\u044c\", \"\\u0434\\u0430\\u043d\\u043d\\u044b\\u0435\", \"\\u043d\\u0430\\u0441\\u0442\\u043e\\u044f\\u0449\\u0438\\u0439\", \"\\u0432\\u0440\\u0435\\u043c\\u044f\", \"\\u0442\\u0430\\u043a\\u0436\\u0435\", \"\\u043f\\u0440\\u0435\\u0434\\u0441\\u0442\\u0430\\u0432\\u043b\\u044f\\u0442\\u044c\", \"\\u0441\\u0432\\u043e\\u0439\", \"\\u0434\\u043e\\u043b\\u043b\\u0430\\u0440\", \"\\u0440\\u0430\\u0437\\u0432\\u0438\\u0442\\u0438\\u0435\", \"\\u0435\\u0432\\u0440\\u043e\\u043f\\u0435\\u0439\\u0441\\u043a\\u0438\\u0439\", \"\\u043a\\u043b\\u0438\\u0435\\u043d\\u0442\", \"\\u0441\\u0434\\u0435\\u043b\\u043a\\u0430\", \"\\u0431\\u0438\\u0440\\u0436\\u0430\", \"\\u043d\\u0435\\u043c\\u0435\\u0446\\u043a\\u0438\\u0439\", \"\\u043f\\u043e\\u043b\\u0435\", \"\\u043e\\u0442\\u043c\\u0435\\u043d\\u044f\\u0442\\u044c\", \"\\u0432\\u0432\\u0435\\u0434\\u0435\\u043d\\u0438\\u0435\", \"\\u043a\\u0440\\u0435\\u0434\\u0438\\u0442\", \"\\u043c\\u0430\\u0440\\u043a\\u0430\", \"\\u0440\\u0430\\u0441\\u0447\\u0435\\u0442\", \"\\u043a\\u0440\\u0435\\u0434\\u0438\\u0442\\u043d\\u044b\\u0439\", \"\\u0442\\u043e\\u0440\\u0433\\u0438\", \"\\u0444\\u0438\\u043d\\u0430\\u043d\\u0441\\u044b\", \"\\u0446\\u0435\\u043d\\u0442\\u0440\\u043e\\u0431\\u0430\\u043d\\u043a\", \"\\u0444\\u0443\\u043d\\u0442\", \"\\u0443\\u0447\\u0438\\u0442\\u044b\\u0432\\u0430\\u0442\\u044c\", \"\\u0432\\u0430\\u043b\\u044e\\u0442\\u0430\", \"\\u0435\\u0432\\u0440\\u043e\", \"\\u0430\\u043d\\u0433\\u043b\\u0438\\u0439\\u0441\\u043a\\u0438\\u0439\", \"\\u0442\\u0430\\u043a\\u0438\", \"\\u0432\\u0430\\u043b\\u044e\\u0442\\u043d\\u044b\\u0439\", \"\\u0431\\u0430\\u043d\\u043a\\u0430\", \"\\u043c\\u0438\\u043d\\u0444\\u0438\\u043d\", \"\\u043c\\u0432\\u0444\", \"\\u0444\\u0440\\u0430\\u043d\\u043a\", \"\\u0438\\u0437\\u043c\\u0435\\u043d\\u044f\\u0442\\u044c\\u0441\\u044f\", \"\\u043e\\u0442\\u0441\\u0440\\u043e\\u0447\\u043a\\u0430\", \"\\u043c\\u0438\\u043b\\u043b\\u0438\\u043e\\u043d\", \"\\u043c\\u0438\\u043b\\u043b\\u0438\\u0430\\u0440\\u0434\", \"\\u0444\\u0440\\u0430\\u043d\\u0446\\u0443\\u0437\\u0441\\u043a\\u0438\\u0439\", \"\\u0441\\u0443\\u043c\\u043c\\u0430\", \"\\u0444\\u043e\\u043d\\u0434\", \"\\u0431\\u0430\\u043d\\u043a\", \"\\u043a\\u0443\\u0440\\u0441\", \"\\u0433\\u043e\\u0434\", \"\\u0430\\u0432\\u0433\\u0443\\u0441\\u0442\", \"\\u0442\\u044b\\u0441\\u044f\\u0447\\u0430\", \"\\u043e\\u0431\\u044a\\u0435\\u043c\", \"\\u0441\\u043e\\u0441\\u0442\\u0430\\u0432\\u043b\\u044f\\u0442\\u044c\", \"\\u0430\\u043a\\u0446\\u0438\\u044f\", \"\\u043e\\u043a\\u043e\\u043b\\u043e\", \"\\u043e\\u0431\\u0449\\u0438\\u0439\", \"\\u0444\\u0438\\u043d\\u0430\\u043d\\u0441\\u043e\\u0432\\u044b\\u0439\", \"\\u0441\\u0440\\u0435\\u0434\\u0441\\u0442\\u0432\\u043e\", \"\\u0441\\u043e\\u043e\\u0431\\u0449\\u0430\\u0442\\u044c\", \"\\u0438\\u044e\\u043b\\u044c\", \"\\u043f\\u0440\\u0435\\u0434\\u043f\\u0440\\u0438\\u044f\\u0442\\u0438\\u0435\", \"\\u043f\\u0435\\u0442\\u0435\\u0440\\u0431\\u0443\\u0440\\u0433\", \"\\u043e\\u0430\\u043e\", \"\\u0432\\u0438\\u0437\\u0438\\u0442\", \"\\u0441\\u0430\\u043d\\u043a\\u0442\", \"\\u043e\\u0431\\u0441\\u0442\\u043e\\u044f\\u0442\\u0435\\u043b\\u044c\\u0441\\u0442\\u0432\\u043e\", \"\\u0432\\u044b\\u043d\\u0435\\u0441\\u0442\\u0438\", \"\\u043b\\u0438\\u0446\\u0435\\u043d\\u0437\\u0438\\u044f\", \"\\u043f\\u0440\\u0438\\u043e\\u0441\\u0442\\u0430\\u043d\\u0430\\u0432\\u043b\\u0438\\u0432\\u0430\\u0442\\u044c\", \"\\u0440\\u0435\\u043a\\u043e\\u043c\\u0435\\u043d\\u0434\\u043e\\u0432\\u0430\\u0442\\u044c\", \"\\u044e\\u0440\\u0438\\u0434\\u0438\\u0447\\u0435\\u0441\\u043a\\u0438\\u0439\", \"\\u043c\\u0438\\u043d\\u044e\\u0441\\u0442\", \"\\u043c\\u0438\\u043d\\u043f\\u0435\\u0447\\u0430\\u0442\\u0438\", \"\\u043f\\u0440\\u0435\\u0441\\u0435\\u0447\\u0435\\u043d\\u0438\\u0435\", \"\\u0437\\u0430\\u043a\\u043e\\u043d\\u043d\\u044b\\u0439\", \"\\u0432\\u0435\\u0449\\u0430\\u043d\\u0438\\u0435\", \"\\u043f\\u0435\\u0447\\u0430\\u0442\\u044c\", \"\\u0441\\u0447\\u0435\\u0441\\u0442\\u044c\", \"\\u043a\\u043e\\u043c\\u043c\\u0443\\u043d\\u0438\\u043a\\u0430\\u0446\\u0438\\u044f\", \"\\u043f\\u043e\\u0432\\u0442\\u043e\\u0440\\u043d\\u044b\\u0439\", \"\\u0434\\u043e\\u0432\\u043e\\u0434\\u0438\\u0442\\u044c\", \"\\u043e\\u0431\\u044f\\u0437\\u044b\\u0432\\u0430\\u0442\\u044c\", \"\\u043e\\u0431\\u0436\\u0430\\u043b\\u043e\\u0432\\u0430\\u0442\\u044c\", \"\\u043f\\u043e\\u0434\\u043f\\u0438\\u0441\\u044c\", \"\\u043d\\u0430\\u0440\\u0443\\u0448\\u0435\\u043d\\u0438\\u0435\", \"\\u043f\\u0435\\u0442\\u0435\\u0440\\u0431\\u0443\\u0440\\u0433\\u0441\\u043a\\u0438\\u0439\", \"\\u0438\\u043b\\u044c\\u044f\", \"\\u0432\\u044b\\u0437\\u043e\\u0432\", \"\\u0434\\u043e\\u0441\\u0442\\u0430\\u0432\\u043a\\u0430\", \"\\u043b\\u0438\\u0441\\u0442\", \"\\u0437\\u0430\\u043a\\u043e\\u043d\", \"\\u044e\\u0441\\u0442\\u0438\\u0446\\u0438\\u044f\", \"\\u0441\\u0443\\u0434\", \"\\u043f\\u0440\\u0430\\u0432\\u043e\\u0432\\u043e\\u0439\", \"\\u043f\\u0440\\u0430\\u0432\\u043e\", \"\\u0442\\u0440\\u0435\\u0431\\u043e\\u0432\\u0430\\u043d\\u0438\\u0435\", \"\\u0440\\u0435\\u0448\\u0435\\u043d\\u0438\\u0435\", \"\\u043e\\u0441\\u043d\\u043e\\u0432\\u0430\\u043d\\u0438\\u0435\", \"\\u0447\\u0430\\u0441\\u0442\\u043d\\u044b\\u0439\", \"\\u043c\\u0430\\u0439\", \"\\u043f\\u0440\\u0438\\u043d\\u0438\\u043c\\u0430\\u0442\\u044c\", \"\\u043a\\u043e\\u043c\\u0438\\u0441\\u0441\\u0438\\u044f\", \"\\u0433\\u043e\\u0441\\u0443\\u0434\\u0430\\u0440\\u0441\\u0442\\u0432\\u0435\\u043d\\u043d\\u044b\\u0439\", \"\\u043d\\u0435\\u0437\\u0430\\u043a\\u043e\\u043d\\u043d\\u044b\\u0439\", \"\\u043c\\u0438\\u043d\\u0438\\u0441\\u0442\\u0435\\u0440\\u0441\\u0442\\u0432\\u043e\", \"\\u0434\\u0435\\u0441\\u044f\\u0442\\u044c\", \"\\u0441\\u043e\\u043e\\u0442\\u0432\\u0435\\u0442\\u0441\\u0442\\u0432\\u0438\\u0435\", \"\\u0434\\u0435\\u0439\\u0441\\u0442\\u0432\\u0438\\u0435\", \"\\u043c\\u043e\\u0441\\u043a\\u043e\\u0432\\u0441\\u043a\\u0438\\u0439\", \"\\u0444\\u0435\\u0434\\u0435\\u0440\\u0430\\u043b\\u044c\\u043d\\u044b\\u0439\", \"\\u0438\\u044e\\u043b\\u044c\", \"\\u0441\\u0440\\u0435\\u0434\\u0441\\u0442\\u0432\\u043e\", \"\\u0434\\u0435\\u043b\\u043e\", \"\\u0441\\u0448\\u0430\", \"\\u0435\\u0432\\u0440\\u043e\\u043f\\u0430\", \"\\u0430\\u0434\\u0432\\u043e\\u043a\\u0430\\u0442\", \"\\u043f\\u043e\\u0441\\u043e\\u043b\\u044c\\u0441\\u0442\\u0432\\u043e\", \"\\u043e\\u0431\\u0435\\u0449\\u0430\\u0442\\u044c\", \"\\u0448\\u0432\\u0435\\u0439\\u0446\\u0430\\u0440\\u0438\\u044f\", \"\\u044e\\u0433\\u043e\\u0441\\u043b\\u0430\\u0432\\u0438\\u044f\", \"\\u0434\\u0432\\u043e\\u0440\\u0435\\u0446\", \"\\u0437\\u0430\\u043f\\u0443\\u0441\\u043a\\u0430\\u0442\\u044c\", \"\\u0432\\u0430\\u0448\\u0438\\u043d\\u0433\\u0442\\u043e\\u043d\", \"\\u0431\\u0443\\u0434\\u0443\\u0449\\u0435\\u0435\", \"\\u043b\\u0438\\u0442\\u0432\\u0430\", \"\\u043b\\u0438\\u0442\\u043e\\u0432\\u0441\\u043a\\u0438\\u0439\", \"\\u0433\\u043e\\u0442\\u043e\\u0432\\u043d\\u043e\\u0441\\u0442\\u044c\", \"\\u0432\\u044b\\u0441\\u043e\\u043a\\u043e\\u043f\\u043e\\u0441\\u0442\\u0430\\u0432\\u043b\\u0435\\u043d\\u043d\\u044b\\u0439\", \"\\u0441\\u0435\\u043a\\u0440\\u0435\\u0442\\u043d\\u044b\\u0439\", \"\\u0441\\u043e\\u0435\\u0434\\u0438\\u043d\\u044f\\u0442\\u044c\", \"\\u0434\\u0436\\u0435\\u0439\\u043c\\u0441\", \"\\u0434\\u043e\\u0440\\u043e\\u0433\\u043e\\u0439\", \"\\u043c\\u043e\\u0448\\u0435\\u043d\\u043d\\u0438\\u0447\\u0435\\u0441\\u0442\\u0432\\u043e\", \"\\u0441\\u043f\\u043e\\u0441\\u043e\\u0431\\u043d\\u044b\\u0439\", \"\\u0446\\u0440\\u0443\", \"\\u0436\\u0434\\u0430\\u0442\\u044c\", \"\\u0442\\u0438\\u0445\\u0438\\u0439\", \"\\u043d\\u0430\\u0442\\u043e\", \"\\u0434\\u0430\\u043b\\u0435\\u0435\", \"\\u043f\\u0440\\u0438\\u0441\\u043e\\u0435\\u0434\\u0438\\u043d\\u044f\\u0442\\u044c\\u0441\\u044f\", \"\\u0434\\u043e\\u043a\\u0430\\u0437\\u0430\\u0442\\u0435\\u043b\\u044c\\u0441\\u0442\\u0432\\u043e\", \"\\u0443\\u0445\\u043e\\u0434\", \"\\u0442\\u0440\\u0438\\u0431\\u0443\\u043d\\u0430\\u043b\", \"\\u0448\\u0442\\u0430\\u0442\", \"\\u043d\\u0430\\u0434\\u0435\\u044f\\u0442\\u044c\\u0441\\u044f\", \"\\u0430\\u043c\\u0435\\u0440\\u0438\\u043a\\u0430\\u043d\\u0441\\u043a\\u0438\\u0439\", \"\\u0431\\u0440\\u0438\\u0442\\u0430\\u043d\\u0441\\u043a\\u0438\\u0439\", \"\\u043c\\u0438\\u0440\", \"\\u0434\\u0430\\u0432\\u043b\\u0435\\u043d\\u0438\\u0435\", \"\\u043f\\u0440\\u0435\\u0434\\u0441\\u0442\\u0430\\u0432\\u0438\\u0442\\u0435\\u043b\\u044c\\u0441\\u0442\\u0432\\u043e\", \"\\u0441\\u0442\\u0440\\u0430\\u043d\\u0430\", \"reuters\", \"\\u043f\\u0440\\u043e\\u0446\\u0435\\u0441\\u0441\", \"\\u043c\\u0435\\u0436\\u0434\\u0443\\u043d\\u0430\\u0440\\u043e\\u0434\\u043d\\u044b\\u0439\", \"\\u0441\\u0432\\u043e\\u0439\", \"\\u043f\\u0440\\u043e\\u0442\\u0438\\u0432\", \"\\u043e\\u0431\\u043e\\u0440\\u043e\\u043d\\u0430\", \"\\u0441\\u0430\\u043c\\u044b\\u0439\", \"\\u043f\\u0440\\u0435\\u0434\\u0441\\u0442\\u0430\\u0432\\u0438\\u0442\\u0435\\u043b\\u044c\", \"\\u0433\\u043e\\u0434\", \"\\u043d\\u0430\\u0446\\u0438\\u043e\\u043d\\u0430\\u043b\\u044c\\u043d\\u044b\\u0439\", \"\\u0443\\u0449\\u0435\\u0440\\u0431\", \"\\u043e\\u0431\\u0432\\u0438\\u043d\\u0435\\u043d\\u0438\\u0435\", \"\\u043a\\u043e\\u0442\\u043e\\u0440\\u044b\\u0439\", \"\\u0433\\u0443\\u0431\\u0435\\u0440\\u043d\\u0430\\u0442\\u043e\\u0440\", \"\\u0438\\u0433\\u043e\\u0440\\u044c\", \"\\u0433\\u043e\\u043b\\u043e\\u0441\\u043e\\u0432\\u0430\\u043d\\u0438\\u0435\", \"\\u043c\\u0435\\u0434\\u0438\\u0446\\u0438\\u043d\\u0441\\u043a\\u0438\\u0439\", \"\\u0441\\u043e\\u0431\\u0441\\u0442\\u0432\\u0435\\u043d\\u043d\\u044b\\u0439\", \"\\u0443\\u0447\\u0430\\u0441\\u0442\\u043e\\u043a\", \"\\u043f\\u0440\\u0435\\u0434\\u043f\\u0440\\u0438\\u043d\\u0438\\u043c\\u0430\\u0442\\u044c\", \"\\u0441\\u043a\\u043b\\u0430\\u0434\\u044b\\u0432\\u0430\\u0442\\u044c\\u0441\\u044f\", \"\\u043a\\u0438\\u0442\\u0430\\u0439\\u0441\\u043a\\u0438\\u0439\", \"\\u043e\\u0444\\u0438\\u0446\\u0435\\u0440\", \"\\u043a\\u0440\\u0430\\u0441\\u043d\\u044b\\u0439\", \"\\u0443\\u0441\\u043f\\u0435\\u0445\", \"\\u0440\\u0435\\u043a\\u0430\", \"\\u043e\\u0431\\u043b\\u0430\\u0441\\u0442\\u043d\\u043e\\u0439\", \"\\u0440\\u0430\\u0441\\u043f\\u0440\\u043e\\u0441\\u0442\\u0440\\u0430\\u043d\\u0435\\u043d\\u0438\\u0435\", \"\\u0442\\u0443\\u0440\\u0435\\u0446\\u043a\\u0438\\u0439\", \"\\u0438\\u0437\\u0431\\u0438\\u0440\\u0430\\u0442\\u0435\\u043b\\u044c\", \"\\u0436\\u0430\\u043b\\u043e\\u0431\\u0430\", \"\\u043f\\u0440\\u0438\\u0447\\u0435\\u043c\", \"\\u0437\\u0430\\u043f\\u043b\\u0430\\u0442\\u0438\\u0442\\u044c\", \"\\u0433\\u043e\\u0441\\u043f\\u0438\\u0442\\u0430\\u043b\\u044c\", \"\\u0438\\u0441\\u043b\\u0430\\u043c\\u0441\\u043a\\u0438\\u0439\", \"\\u0437\\u0430\\u043f\\u0440\\u0435\\u0442\", \"\\u0441\\u043d\\u043e\\u0432\\u0430\", \"\\u0441\\u0438\\u043b\\u043e\\u0432\\u043e\\u0439\", \"\\u0443\\u0434\\u0435\\u0440\\u0436\\u0438\\u0432\\u0430\\u0442\\u044c\", \"\\u0438\\u0440\\u0430\\u043d\", \"\\u0441\\u0430\\u043d\\u0438\\u0442\\u0430\\u0440\\u043d\\u044b\\u0439\", \"\\u0431\\u043e\\u043b\\u044c\\u043d\\u043e\\u0439\", \"\\u0438\\u0441\\u0445\\u043e\\u0434\", \"\\u043f\\u043e\\u0431\\u0435\\u0434\\u0430\", \"\\u0430\\u0440\\u043c\\u0438\\u044f\", \"\\u0437\\u0430\\u0432\\u0435\\u0440\\u0448\\u0430\\u0442\\u044c\\u0441\\u044f\", \"\\u0432\\u043e\\u0435\\u043d\\u043d\\u044b\\u0439\", \"\\u043e\\u0431\\u043b\\u0430\\u0441\\u0442\\u044c\", \"\\u0431\\u0430\\u0437\\u0430\", \"\\u0432\\u0442\\u043e\\u0440\\u043e\\u0439\", \"\\u043e\\u043a\\u0440\\u0443\\u0433\", \"\\u0448\\u0430\\u0433\", \"\\u0437\\u0430\\u0442\\u0435\\u043c\", \"\\u043e\\u0431\\u043e\\u0440\\u043e\\u043d\\u0430\", \"\\u043f\\u0440\\u0430\\u0432\\u0434\\u0430\", \"\\u0442\\u0440\\u0430\\u043d\\u0441\\u043f\\u043e\\u0440\\u0442\\u043d\\u044b\\u0439\", \"\\u043f\\u0435\\u0440\\u0432\\u044b\\u0439\", \"\\u0447\\u0435\\u0442\\u044b\\u0440\\u0435\", \"\\u043f\\u0440\\u043e\\u0445\\u043e\\u0434\\u0438\\u0442\\u044c\", \"\\u043b\\u0438\\u0448\\u044c\", \"\\u0440\\u0443\\u0431\\u043b\\u044c\", \"\\u0446\\u0435\\u043d\\u0430\", \"\\u043a\\u0440\\u0430\\u0439\", \"\\u043a\\u043b\\u0443\\u0431\", \"\\u0431\\u044e\\u0434\\u0436\\u0435\\u0442\", \"\\u0441\\u0435\\u0441\\u0441\\u0438\\u044f\", \"\\u043c\\u0438\\u0440\\u043d\\u044b\\u0439\", \"\\u0434\\u043e\\u0445\\u043e\\u0434\", \"\\u0434\\u043e\\u043b\\u0433\", \"\\u0441\\u043b\\u0435\\u0434\\u043e\\u0432\\u0430\\u0442\\u044c\", \"\\u043a\\u043e\\u0441\\u043e\\u0432\\u043e\", \"\\u043f\\u043e\\u043a\\u0443\\u043f\\u043a\\u0430\", \"\\u043e\\u043f\\u0435\\u0440\\u0430\\u0442\\u043e\\u0440\", \"\\u043f\\u043e\\u0441\\u043b\\u0435\\u0434\\u0443\\u044e\\u0449\\u0438\\u0439\", \"\\u0437\\u0430\\u0434\\u043e\\u043b\\u0436\\u0435\\u043d\\u043d\\u043e\\u0441\\u0442\\u044c\", \"\\u0440\\u0430\\u0441\\u043f\\u0440\\u043e\\u0441\\u0442\\u0440\\u0430\\u043d\\u044f\\u0442\\u044c\", \"\\u0440\\u0435\\u0437\\u043e\\u043b\\u044e\\u0446\\u0438\\u044f\", \"\\u0437\\u0430\\u0449\\u0438\\u0449\\u0430\\u0442\\u044c\", \"\\u043a\\u043e\\u043f\\u0435\\u0439\\u043a\\u0430\", \"\\u0441\\u0440\\u0430\\u0432\\u043d\\u0435\\u043d\\u0438\\u0435\", \"\\u0441\\u043e\\u0445\\u0440\\u0430\\u043d\\u044f\\u0442\\u044c\\u0441\\u044f\", \"\\u0432\\u044b\\u0440\\u0430\\u0441\\u0442\\u0430\\u0442\\u044c\", \"\\u043c\\u0443\\u0441\\u0443\\u043b\\u044c\\u043c\\u0430\\u043d\\u0438\\u043d\", \"\\u043f\\u043b\\u0430\\u0442\\u0435\\u0436\", \"\\u0443\\u043a\\u0430\\u0437\\u044b\\u0432\\u0430\\u0442\\u044c\\u0441\\u044f\", \"\\u043a\\u043e\\u043d\\u0442\\u0438\\u043d\\u0433\\u0435\\u043d\\u0442\", \"\\u0438\\u043d\\u043e\\u0439\", \"\\u043f\\u043e\\u043a\\u0430\\u0437\\u0430\\u0442\\u0435\\u043b\\u044c\", \"\\u0446\\u0438\\u0444\\u0440\\u0430\", \"\\u0440\\u0435\\u0437\\u0435\\u0440\\u0432\", \"\\u043d\\u0430\\u043b\\u043e\\u0433\\u043e\\u0432\\u044b\\u0439\", \"\\u0441\\u043e\\u0441\\u0442\\u0430\\u0432\\u043b\\u044f\\u0442\\u044c\", \"\\u043f\\u043e\\u043b\\u0442\\u043e\\u0440\\u0430\", \"\\u0443\\u0440\\u043e\\u0432\\u0435\\u043d\\u044c\", \"\\u0433\\u043e\\u0434\", \"\\u0441\\u0447\\u0435\\u0442\", \"\\u0442\\u044b\\u0441\\u044f\\u0447\\u0430\", \"\\u0432\\u044b\\u0441\\u043e\\u043a\\u0438\\u0439\", \"\\u043f\\u044f\\u0442\\u043d\\u0438\\u0446\\u0430\", \"\\u043c\\u0435\\u0441\\u044f\\u0446\", \"\\u0447\\u0435\\u0442\\u0432\\u0435\\u0440\\u0433\", \"\\u043d\\u0435\\u0434\\u0435\\u043b\\u044f\", \"\\u043f\\u043e\\u0441\\u043b\\u0435\\u0434\\u043d\\u0438\\u0439\", \"\\u043c\\u0438\\u043b\\u043b\\u0438\\u043e\\u043d\", \"\\u0444\\u0435\\u0434\\u0435\\u0440\\u0430\\u043b\\u044c\\u043d\\u044b\\u0439\", \"\\u0434\\u0435\\u043d\\u044c\\u0433\\u0438\", \"\\u0444\\u0438\\u0440\\u043c\\u0430\", \"\\u0441\\u0442\\u0430\\u0442\\u044c\\u044f\", \"\\u043f\\u0440\\u0435\\u0434\\u044a\\u044f\\u0432\\u043b\\u044f\\u0442\\u044c\", \"\\u0448\\u0432\\u0435\\u0439\\u0446\\u0430\\u0440\\u0441\\u043a\\u0438\\u0439\", \"\\u0441\\u043b\\u0443\\u0436\\u0435\\u0431\\u043d\\u044b\\u0439\", \"\\u0443\\u0442\\u0432\\u0435\\u0440\\u0436\\u0434\\u0435\\u043d\\u0438\\u0435\", \"\\u0438\\u0442\\u0430\\u043b\\u044c\\u044f\\u043d\\u0441\\u043a\\u0438\\u0439\", \"\\u0431\\u0430\\u043d\\u043a\\u043e\\u0432\\u0441\\u043a\\u0438\\u0439\", \"\\u043e\\u0442\\u043c\\u044b\\u0432\\u0430\\u043d\\u0438\\u0435\", \"the\", \"\\u043f\\u0438\\u0441\\u0430\\u0442\\u044c\", \"\\u0432\\u0435\\u0441\\u044c\\u043c\\u0430\", \"new\", \"\\u0441\\u043f\\u043e\\u0440\", \"\\u043e\\u043f\\u043b\\u0430\\u0447\\u0438\\u0432\\u0430\\u0442\\u044c\", \"\\u0446\\u0435\\u043d\\u043d\\u044b\\u0439\", \"\\u0431\\u0435\\u0440\\u043b\\u0438\\u043d\", \"\\u0448\\u0438\\u0440\\u043e\\u043a\\u0438\\u0439\", \"\\u043f\\u0435\\u0442\\u0440\", \"bank\", \"\\u043c\\u0443\\u0436\", \"\\u043f\\u0435\\u0440\\u0435\\u0447\\u0438\\u0441\\u043b\\u044f\\u0442\\u044c\", \"\\u0441\\u043e\\u0442\\u0440\\u0443\\u0434\\u043d\\u0438\\u0447\\u0430\\u0442\\u044c\", \"\\u0441\\u043a\\u0430\\u043d\\u0434\\u0430\\u043b\", \"york\", \"\\u043a\\u0440\\u0438\\u043c\\u0438\\u043d\\u0430\\u043b\\u044c\\u043d\\u044b\\u0439\", \"\\u0440\\u0430\\u0437\\u0432\\u0438\\u0432\\u0430\\u0442\\u044c\", \"mabetex\", \"\\u043e\\u0431\\u0441\\u043b\\u0443\\u0436\\u0438\\u0432\\u0430\\u043d\\u0438\\u0435\", \"\\u043e\\u0431\\u0432\\u0438\\u043d\\u0435\\u043d\\u0438\\u0435\", \"\\u0441\\u0447\\u0435\\u0442\", \"\\u0434\\u0435\\u043b\\u043e\\u0432\\u043e\\u0439\", \"\\u043f\\u0430\\u043a\\u0435\\u0442\", \"\\u0441\\u0442\\u043e\\u043b\\u044c\", \"\\u0433\\u0430\\u0437\\u0435\\u0442\\u0430\", \"\\u043d\\u0430\\u0437\\u0430\\u0434\", \"\\u0431\\u0430\\u043d\\u043a\", \"\\u043e\\u043f\\u0435\\u0440\\u0430\\u0446\\u0438\\u044f\", \"\\u0437\\u0430\\u043d\\u0438\\u043c\\u0430\\u0442\\u044c\\u0441\\u044f\", \"\\u0444\\u0438\\u043d\\u0430\\u043d\\u0441\\u043e\\u0432\\u044b\\u0439\", \"\\u0431\\u043e\\u0440\\u044c\\u0431\\u0430\", \"\\u0440\\u043e\\u0441\\u0441\\u0438\\u0439\\u0441\\u043a\\u0438\\u0439\", \"\\u0440\\u0430\\u0441\\u0441\\u043b\\u0435\\u0434\\u043e\\u0432\\u0430\\u043d\\u0438\\u0435\", \"\\u043a\\u0440\\u0443\\u043f\\u043d\\u044b\\u0439\", \"\\u043f\\u0430\\u0440\\u0442\\u0438\\u044f\", \"\\u043f\\u0430\\u0440\\u043b\\u0430\\u043c\\u0435\\u043d\\u0442\", \"\\u0441\\u0442\\u043e\\u0438\\u043c\\u043e\\u0441\\u0442\\u044c\", \"\\u0441\\u043f\\u0438\\u0441\\u043e\\u043a\", \"\\u0440\\u0435\\u0433\\u0438\\u0441\\u0442\\u0440\\u0430\\u0446\\u0438\\u044f\", \"\\u043f\\u043b\\u0430\\u043d\\u0438\\u0440\\u043e\\u0432\\u0430\\u0442\\u044c\", \"\\u043e\\u0431\\u044a\\u0435\\u0434\\u0438\\u043d\\u0435\\u043d\\u0438\\u0435\", \"\\u0444\\u0438\\u043d\\u0430\\u043d\\u0441\\u0438\\u0440\\u043e\\u0432\\u0430\\u043d\\u0438\\u0435\", \"\\u0441\\u043b\\u0438\\u0448\\u043a\\u043e\\u043c\", \"\\u0446\\u0435\\u043b\\u043e\\u0435\", \"\\u0440\\u0435\\u0441\\u0443\\u0440\\u0441\", \"\\u0440\\u0435\\u0444\\u043e\\u0440\\u043c\\u0430\", \"\\u0444\\u0430\\u043c\\u0438\\u043b\\u0438\\u044f\", \"\\u0431\\u043b\\u043e\\u043a\", \"\\u0432\\u0435\\u0440\\u043d\\u0443\\u0442\\u044c\", \"\\u043c\\u0430\\u043b\\u0435\\u043d\\u044c\\u043a\\u0438\\u0439\", \"\\u0432\\u043e\\u043e\\u0431\\u0449\\u0435\", \"\\u0441\\u0430\\u043d\", \"\\u0443\\u043a\\u0440\\u0430\\u0441\\u0442\\u044c\", \"\\u0434\\u0432\\u0435\\u0440\\u044c\", \"\\u0437\\u043b\\u043e\\u0443\\u043c\\u044b\\u0448\\u043b\\u0435\\u043d\\u043d\\u0438\\u043a\", \"\\u043e\\u0442\\u0435\\u0446\", \"\\u0438\\u0441\\u0442\\u043e\\u0440\\u0438\\u0447\\u0435\\u0441\\u043a\\u0438\\u0439\", \"\\u0444\\u0440\\u0430\\u043d\\u0446\\u0438\\u0441\\u043a\\u043e\", \"\\u043e\\u0442\\u0435\\u0447\\u0435\\u0441\\u0442\\u0432\\u043e\", \"\\u043f\\u0440\\u0435\\u043f\\u044f\\u0442\\u0441\\u0442\\u0432\\u0438\\u0435\", \"\\u043e\\u0444\\u043e\\u0440\\u043c\\u043b\\u044f\\u0442\\u044c\", \"\\u0441\\u0438\\u043c\\u0432\\u043e\\u043b\", \"\\u0430\\u0434\\u0435\\u043a\\u0432\\u0430\\u0442\\u043d\\u044b\\u0439\", \"\\u043f\\u0430\\u0442\\u0440\\u0438\\u043e\\u0442\\u0438\\u0447\\u0435\\u0441\\u043a\\u0438\\u0439\", \"\\u0441\\u0440\\u0435\\u0434\\u043d\\u0438\\u0439\", \"\\u0434\\u0432\\u0438\\u0436\\u0435\\u043d\\u0438\\u0435\", \"\\u043b\\u0438\\u0434\\u0435\\u0440\", \"\\u043f\\u043e\\u0434\\u0433\\u043e\\u0442\\u043e\\u0432\\u0438\\u0442\\u044c\", \"\\u043f\\u043e\\u043b\\u0438\\u0442\\u0438\\u0447\\u0435\\u0441\\u043a\\u0438\\u0439\", \"\\u0440\\u043e\\u0441\\u0441\\u0438\\u044f\\u043d\\u0438\\u043d\", \"\\u043e\\u0431\\u0440\\u0430\\u0437\", \"\\u0440\\u0435\\u0448\\u0430\\u0442\\u044c\", \"\\u0441\\u0430\\u043c\\u044b\\u0439\", \"\\u0432\\u0445\\u043e\\u0434\\u0438\\u0442\\u044c\", \"\\u043f\\u043e\\u0434\\u0434\\u0435\\u0440\\u0436\\u043a\\u0430\", \"\\u043a\\u043e\\u043c\\u0430\\u043d\\u0434\\u0430\", \"\\u0441\\u0442\\u0430\\u043d\\u0446\\u0438\\u044f\", \"\\u0432\\u0432\\u0441\", \"\\u0437\\u0435\\u043c\\u043b\\u044f\", \"\\u0441\\u0435\\u0432\\u0435\\u0440\\u043e\", \"\\u043f\\u0440\\u043e\\u043f\\u0430\\u0434\\u0430\\u0442\\u044c\", \"\\u043f\\u043e\\u043e\\u0431\\u0435\\u0449\\u0430\\u0442\\u044c\", \"\\u043a\\u043e\\u0441\\u043c\\u0438\\u0447\\u0435\\u0441\\u043a\\u0438\\u0439\", \"\\u0442\\u043e\\u043f\\u043b\\u0438\\u0432\\u043e\", \"\\u0442\\u0443\\u0440\\u0446\\u0438\\u044f\", \"\\u0432\\u044b\\u0432\\u043e\\u0434\\u0438\\u0442\\u044c\", \"\\u0437\\u0435\\u043c\\u043b\\u0435\\u0442\\u0440\\u044f\\u0441\\u0435\\u043d\\u0438\\u0435\", \"\\u0437\\u0430\\u043f\\u0430\\u0434\", \"\\u043e\\u0440\\u0431\\u0438\\u0442\\u0430\", \"\\u0433\\u0438\\u0431\\u0435\\u043b\\u044c\", \"\\u0433\\u043e\\u0440\\u0430\", \"\\u0437\\u0430\\u0444\\u0438\\u043a\\u0441\\u0438\\u0440\\u043e\\u0432\\u0430\\u0442\\u044c\", \"\\u0443\\u043d\\u0438\\u0432\\u0435\\u0440\\u0441\\u0438\\u0442\\u0435\\u0442\", \"\\u043d\\u0438\\u0437\\u043a\\u0438\\u0439\", \"\\u043e\\u043a\\u0435\\u0430\\u043d\", \"\\u0432\\u044b\\u0432\\u0435\\u0441\\u0442\\u0438\", \"\\u0432\\u0435\\u0441\\u0442\\u044c\", \"\\u0433\\u043e\\u0440\\u043e\\u0434\\u043e\\u043a\", \"\\u043c\\u043b\\u0430\\u0434\\u0448\\u0438\\u0439\", \"\\u0442\\u043e\\u043b\\u0447\\u043e\\u043a\", \"\\u043f\\u0440\\u043e\\u0432\\u0438\\u043d\\u0446\\u0438\\u044f\", \"\\u0431\\u0430\\u043b\\u043b\", \"\\u043f\\u043e\\u0434\\u0437\\u0435\\u043c\\u043d\\u044b\\u0439\", \"\\u044d\\u043f\\u0438\\u0446\\u0435\\u043d\\u0442\\u0440\", \"\\u0430\\u0432\\u0438\\u0430\\u0446\\u0438\\u044f\", \"\\u0437\\u0430\\u043a\\u0440\\u044b\\u0432\\u0430\\u0442\\u044c\", \"\\u043c\\u0438\\u0440\", \"\\u043b\\u0438\\u043d\\u0438\\u044f\", \"\\u043f\\u0440\\u0430\\u043a\\u0442\\u0438\\u0447\\u0435\\u0441\\u043a\\u0438\", \"\\u043a\\u0438\\u043b\\u043e\\u043c\\u0435\\u0442\\u0440\", \"\\u043f\\u0440\\u0438\\u043c\\u0435\\u0440\\u043d\\u043e\", \"\\u0442\\u044b\\u0441\\u044f\\u0447\\u0430\", \"\\u0433\\u043e\\u0440\\u043e\\u0434\", \"\\u043c\\u0430\\u0440\\u0442\", \"\\u043f\\u043e\\u043b\\u043d\\u043e\\u0441\\u0442\\u044c\\u044e\", \"\\u0441\\u0442\\u043e\\u043b\\u0438\\u0446\\u0430\", \"\\u0443\\u043a\\u0440\\u0430\\u0438\\u043d\\u0430\", \"\\u043d\\u044c\\u044e\", \"\\u0434\\u043e\\u0433\\u043e\\u0432\\u043e\\u0440\", \"\\u043f\\u043e\\u0440\\u0430\\u0436\\u0435\\u043d\\u0438\\u0435\", \"\\u043f\\u0440\\u0430\\u0432\\u043b\\u0435\\u043d\\u0438\\u0435\", \"\\u0432\\u043f\\u043e\\u0441\\u043b\\u0435\\u0434\\u0441\\u0442\\u0432\\u0438\\u0438\", \"\\u0441\\u0432\\u0438\\u0434\\u0435\\u0442\\u0435\\u043b\\u044c\\u0441\\u0442\\u0432\\u043e\\u0432\\u0430\\u0442\\u044c\", \"\\u0432\\u043e\\u0437\\u0434\\u0443\\u0448\\u043d\\u044b\\u0439\", \"\\u043d\\u0435\\u0441\\u0442\\u0438\", \"\\u043d\\u0435\\u043e\\u0434\\u043d\\u043e\\u043a\\u0440\\u0430\\u0442\\u043d\\u043e\", \"\\u0443\\u043a\\u0440\\u0430\\u0438\\u043d\\u0441\\u043a\\u0438\\u0439\", \"\\u043a\\u043d\\u0438\\u0433\\u0430\", \"\\u0437\\u0430\\u0435\\u043c\", \"\\u043f\\u0440\\u043e\\u0442\\u044f\\u0436\\u0435\\u043d\\u0438\\u0435\", \"\\u0441\\u043e\\u0432\\u0435\\u0440\\u0448\\u0435\\u043d\\u043d\\u043e\", \"\\u0432\\u0435\\u0434\\u0435\\u043d\\u0438\\u0435\", \"\\u0439\\u043e\\u0440\\u043a\\u0441\\u043a\\u0438\\u0439\", \"\\u043c\\u0430\\u0440\\u0448\\u0440\\u0443\\u0442\", \"\\u043d\\u0435\\u0437\\u0430\\u043a\\u043e\\u043d\\u043d\\u043e\", \"\\u0441\\u0442\\u0440\\u043e\\u0433\\u0438\\u0439\", \"\\u0441\\u043e\\u043f\\u0440\\u043e\\u0432\\u043e\\u0436\\u0434\\u0430\\u0442\\u044c\\u0441\\u044f\", \"\\u043e\\u0442\\u043d\\u043e\\u0441\\u0438\\u0442\\u0435\\u043b\\u044c\\u043d\\u043e\", \"\\u0437\\u0434\\u043e\\u0440\\u043e\\u0432\\u044c\\u0435\", \"\\u043f\\u043e\\u0434\\u0445\\u043e\\u0434\\u0438\\u0442\\u044c\", \"\\u0440\\u0430\\u0437\\u0431\\u0438\\u0440\\u0430\\u0442\\u044c\\u0441\\u044f\", \"\\u043a\\u0440\\u044b\\u043c\", \"\\u0441\\u0434\\u0430\\u0447\\u0430\", \"\\u0430\\u043a\\u0442\\u0438\\u0432\\u0438\\u0441\\u0442\", \"\\u0434\\u043e\\u0441\\u0442\\u043e\\u0432\\u0435\\u0440\\u043d\\u044b\\u0439\", \"\\u0444\\u043b\\u043e\\u0442\", \"\\u043f\\u0440\\u043e\\u0442\\u0435\\u0441\\u0442\", \"\\u0430\\u043a\\u0446\\u0438\\u044f\", \"\\u043e\\u0442\\u0432\\u0435\\u0442\\u0441\\u0442\\u0432\\u0435\\u043d\\u043d\\u043e\\u0441\\u0442\\u044c\", \"\\u043f\\u0440\\u043e\\u043a\\u0443\\u0440\\u043e\\u0440\", \"\\u0443\\u0447\\u0430\\u0441\\u0442\\u043d\\u0438\\u043a\", \"\\u043f\\u043e\\u0434\\u0433\\u043e\\u0442\\u043e\\u0432\\u0438\\u0442\\u044c\", \"\\u0441\\u043e\\u043e\\u0431\\u0449\\u0430\\u0442\\u044c\\u0441\\u044f\", \"\\u043f\\u0440\\u043e\\u0442\\u0438\\u0432\", \"\\u0442\\u0435\\u043b\\u0435\\u043a\\u043e\\u043c\\u043f\\u0430\\u043d\\u0438\\u044f\", \"\\u0430\\u0434\\u0440\\u0435\\u0441\", \"\\u0443\\u0441\\u0442\\u0440\\u043e\\u0439\\u0441\\u0442\\u0432\\u043e\", \"\\u0432\\u0437\\u0440\\u044b\\u0432\\u043d\\u043e\\u0439\", \"\\u0444\\u0441\\u0431\", \"\\u043a\\u0440\\u0443\\u0433\", \"\\u043e\\u043e\\u043d\", \"\\u0447\\u0440\\u0435\\u0437\\u0432\\u044b\\u0447\\u0430\\u0439\\u043d\\u044b\\u0439\", \"\\u0443\\u0441\\u0442\\u0440\\u0430\\u0438\\u0432\\u0430\\u0442\\u044c\", \"\\u0432\\u043e\\u0441\\u0442\\u043e\\u0447\\u043d\\u044b\\u0439\", \"\\u043c\\u043e\\u043b\\u043e\\u0434\\u043e\\u0439\", \"\\u0433\\u0440\\u0430\\u043d\\u0430\\u0442\\u0430\", \"\\u043a\\u043e\\u043c\\u0430\\u043d\\u0434\\u043e\\u0432\\u0430\\u043d\\u0438\\u0435\", \"\\u043e\\u0442\\u0434\\u0430\\u0432\\u0430\\u0442\\u044c\", \"\\u044e\\u0433\\u043e\", \"\\u0431\\u0435\\u0441\\u043f\\u043e\\u0440\\u044f\\u0434\\u043e\\u043a\", \"\\u0448\\u0435\\u0441\\u0442\\u0435\\u0440\\u043e\", \"\\u0430\\u0432\\u0441\\u0442\\u0440\\u0430\\u043b\\u0438\\u044f\", \"\\u0441\\u0432\\u0438\\u0434\\u0435\\u0442\\u0435\\u043b\\u044c\", \"\\u043d\\u0435\\u0437\\u0430\\u0432\\u0438\\u0441\\u0438\\u043c\\u043e\\u0441\\u0442\\u044c\", \"\\u0443\\u0444\\u0441\\u0431\", \"\\u0432\\u044b\\u0440\\u0430\\u0436\\u0435\\u043d\\u0438\\u0435\", \"\\u043d\\u0435\\u043f\\u0440\\u0438\\u043a\\u043e\\u0441\\u043d\\u043e\\u0432\\u0435\\u043d\\u043d\\u043e\\u0441\\u0442\\u044c\", \"\\u0432\\u0447\\u0435\\u0440\\u0430\", \"\\u0441\\u0430\\u043c\\u043e\\u0434\\u0435\\u043b\\u044c\\u043d\\u044b\\u0439\", \"\\u0438\\u043d\\u0434\\u043e\\u043d\\u0435\\u0437\\u0438\\u044f\", \"\\u0434\\u0435\\u043c\\u043e\\u043d\\u0441\\u0442\\u0440\\u0430\\u0446\\u0438\\u044f\", \"\\u0438\\u043d\\u0434\\u043e\\u043d\\u0435\\u0437\\u0438\\u0439\\u0441\\u043a\\u0438\\u0439\", \"\\u0440\\u0435\\u0444\\u0435\\u0440\\u0435\\u043d\\u0434\\u0443\\u043c\", \"\\u0442\\u0440\\u043e\\u0442\\u0438\\u043b\\u043e\\u0432\\u044b\\u0439\", \"\\u043f\\u043e\\u0431\\u0435\\u0440\\u0435\\u0436\\u044c\\u0435\", \"\\u0437\\u0434\\u0430\\u043d\\u043e\\u0432\\u0438\\u0447\", \"\\u043f\\u0440\\u043e\\u0446\\u0435\\u043d\\u0442\", \"\\u043c\\u0438\\u0441\\u0441\\u0438\\u044f\", \"\\u043f\\u0440\\u0435\\u0434\\u043c\\u0435\\u0442\", \"\\u043a\\u043e\\u043d\\u0444\\u043b\\u0438\\u043a\\u0442\", \"\\u0443\\u0447\\u0430\\u0441\\u0442\\u0438\\u0435\", \"\\u0438\\u043d\\u0442\\u0435\\u0440\\u0444\\u0430\\u043a\\u0441\", \"\\u0448\\u0435\\u0441\\u0442\\u044c\", \"\\u0434\\u043e\\u0441\\u0442\\u0430\\u0432\\u043b\\u044f\\u0442\\u044c\", \"\\u043f\\u043e\\u043f\\u0430\\u0434\\u0430\\u0442\\u044c\", \"\\u0433\\u0430\\u0437\", \"\\u043f\\u043e\\u0436\\u0430\\u0440\", \"\\u043f\\u043e\\u043c\\u043e\\u0433\\u0430\\u0442\\u044c\", \"\\u043f\\u043b\\u043e\\u0449\\u0430\\u0434\\u044c\", \"\\u0430\\u0433\\u0435\\u043d\\u0442\", \"\\u043e\\u043f\\u0430\\u0441\\u043d\\u043e\\u0441\\u0442\\u044c\", \"\\u0434\\u043e\\u043f\\u0440\\u043e\\u0441\", \"\\u0440\\u0430\\u0437\\u0440\\u0435\\u0448\\u0435\\u043d\\u0438\\u0435\", \"\\u043f\\u044f\\u0442\\u044b\\u0439\", \"\\u043f\\u0440\\u043e\\u0434\\u043b\\u044f\\u0442\\u044c\", \"\\u043b\\u0438\\u0442\\u0440\", \"\\u043b\\u0438\\u043a\\u0432\\u0438\\u0434\\u0438\\u0440\\u043e\\u0432\\u0430\\u0442\\u044c\", \"\\u0443\\u0442\\u0435\\u0447\\u043a\\u0430\", \"\\u043e\\u0431\\u044f\\u0437\\u0430\\u0442\\u0435\\u043b\\u044c\\u043d\\u044b\\u0439\", \"\\u0432\\u044b\\u044f\\u0441\\u043d\\u0438\\u0432\\u0430\\u0442\\u044c\", \"\\u0434\\u0435\\u0440\\u0435\\u0432\\u043e\", \"\\u043b\\u0435\\u0433\\u043a\\u043e\", \"\\u0441\\u0442\\u043e\\u043b\\u044c\\u043a\\u043e\", \"\\u0441\\u0442\\u0435\\u043a\\u043b\\u043e\", \"\\u0441\\u0433\\u043e\\u0440\\u0430\\u0442\\u044c\", \"\\u0434\\u0435\\u0441\\u044f\\u0442\\u043e\\u043a\", \"\\u0432\\u0445\\u043e\\u0434\", \"\\u0441\\u0442\\u0430\\u043d\\u0438\\u0441\\u043b\\u0430\\u0432\", \"\\u043f\\u0440\\u043e\\u0434\\u043b\\u0438\\u0442\\u044c\\u0441\\u044f\", \"\\u0438\\u0437\\u043e\\u0431\\u0440\\u0430\\u0436\\u0435\\u043d\\u0438\\u0435\", \"\\u043a\\u0430\\u0440\\u0430\\u0447\\u0430\\u0435\\u0432\\u043e\", \"\\u0447\\u0435\\u0440\\u043a\\u0435\\u0441\\u0438\\u044f\", \"\\u043c\\u0438\\u043d\\u0438\\u043c\\u0443\\u043c\", \"\\u043f\\u0440\\u0435\\u0434\\u0432\\u0430\\u0440\\u0438\\u0442\\u0435\\u043b\\u044c\\u043d\\u044b\\u0439\", \"\\u0438\\u0437\\u0431\\u0435\\u0433\\u0430\\u0442\\u044c\", \"\\u043e\\u0433\\u043e\\u043d\\u044c\", \"\\u0431\\u044b\\u0441\\u0442\\u0440\\u043e\", \"\\u0432\\u043e\\u0437\\u043d\\u0438\\u043a\\u0430\\u0442\\u044c\", \"\\u0436\\u0438\\u0437\\u043d\\u044c\", \"\\u043d\\u0430\\u0447\\u0438\\u043d\\u0430\\u0442\\u044c\\u0441\\u044f\"], \"Freq\": [10787.0, 4509.0, 4680.0, 3860.0, 3379.0, 2559.0, 6263.0, 2548.0, 3146.0, 5929.0, 2614.0, 2912.0, 2668.0, 3392.0, 5385.0, 3428.0, 4140.0, 2643.0, 6938.0, 2632.0, 13213.0, 5939.0, 3830.0, 2234.0, 1777.0, 4054.0, 1924.0, 2175.0, 2398.0, 3122.0, 2814.1164373106676, 1594.0848436925082, 1103.075081154093, 3074.617216910385, 789.448879416753, 651.9289592099757, 629.5625231256614, 537.5422202473787, 700.2878785207872, 520.0495135906646, 499.84587858048354, 481.9708543958379, 480.61311352794314, 2256.972350397363, 473.8638903449489, 471.7352951672872, 407.17446979461016, 405.9020770807359, 402.82515674083515, 396.03881238610205, 379.1452086791125, 374.97097872854283, 371.06364916983995, 350.80962154432154, 342.1032491339181, 340.17422537170825, 339.89499753013905, 325.38786592161216, 320.13159684986965, 359.9460664679901, 1249.7858369916714, 1718.0560082115387, 1512.8754920869922, 833.7606192496031, 2265.8199054242896, 560.2284481462692, 475.04360506984455, 898.2682755543071, 6848.638845112888, 4647.77371592575, 1813.9305826386567, 644.2286344121068, 1864.6602593260131, 1055.330535282502, 2252.872085145007, 2150.428979072424, 2465.889527537098, 1123.5127711214607, 1575.186419066355, 1247.551014736169, 2796.8644490974657, 2857.8973193995776, 864.6481550599426, 3011.181715555471, 2855.9795680350685, 2237.4485575795516, 2557.3167801324016, 3239.1155942036385, 2023.8182965617161, 2264.1309337569596, 1852.8954299857362, 1695.0537644736564, 1633.6505153899463, 3400.62584211228, 2835.2654544432935, 2432.4979090946485, 1564.0824965114725, 983.1723876195185, 572.5533637068074, 484.32523480195914, 463.9541764756251, 424.68339661018604, 854.6806675069098, 407.6971568706058, 396.7949555042678, 376.7761450748797, 358.5509370917471, 354.9942848188529, 352.00064887969313, 351.0445899580472, 449.3426837343301, 311.29268073125587, 293.38983760396667, 282.87440462686897, 267.6491067815674, 257.8424350614898, 256.99834454696236, 246.56264101147838, 234.13213908578493, 233.14175806547854, 230.39708133762826, 229.18211872377483, 227.578676575589, 222.13247373525633, 217.56225318609657, 211.2247421463741, 207.12183780180803, 239.97661714612263, 752.4418313825499, 609.3686751641782, 1949.248203839818, 1470.3472989800566, 1011.3333719799732, 541.1819735629798, 1730.8437944771242, 1618.0626678374806, 968.7075077736575, 538.0574722230749, 2850.0969546890733, 788.4858379898212, 1572.0471491995854, 1146.2082088688917, 827.2665359811795, 717.676471745606, 744.7758021727844, 1559.0694280332548, 1142.0822164651834, 745.6442207066659, 2031.08954568613, 1861.851046670457, 673.9427278893211, 909.5063514411303, 958.073608997932, 1091.7468748432834, 955.363353565559, 808.7396952769433, 800.960482499052, 732.784196563632, 887.6149035015916, 872.8188054839753, 713.7498541102442, 602.6324962785674, 511.22703222744764, 487.8359923363847, 448.65756057479786, 445.6658258105469, 352.8881930334077, 344.2580724348447, 339.1611638150207, 333.5341083761105, 321.5595816969607, 311.9074458230693, 290.44029346115036, 258.9211919785861, 219.67469278155977, 218.32625664050357, 190.53878515705577, 183.83396413391054, 167.5143328937982, 146.06893965458036, 132.55106341077288, 153.260134062324, 131.7979749001805, 125.20234078047201, 104.81016393545191, 100.69841278068907, 93.0799297679724, 89.88005427918162, 70.33497760389871, 67.4696890315757, 358.41092717411374, 199.4326691945223, 676.9924862670246, 506.97496960710447, 220.44139988302177, 415.0453131488964, 575.2472368192784, 462.967135437853, 1089.458824491368, 609.282451648303, 415.74854621846026, 2758.320180721088, 670.3154468290012, 563.0700219557184, 773.2542326428282, 610.2124967771716, 649.1239327047704, 1643.7344181025915, 2118.1340586017236, 1292.9987279938375, 887.3903752818323, 1150.3406796829527, 933.015053472402, 1382.0628491969399, 1101.928383971422, 1022.9786651645205, 706.1303163159736, 624.1788253074534, 1571.1359133091855, 624.7916193650711, 653.94673422142, 589.5852567590781, 654.1230528669822, 560.3939050525703, 521.8599448204303, 526.0222489330557, 2396.825649262393, 2112.3193426794282, 1015.8160569713818, 949.6555928392752, 919.065210386434, 899.0969335117708, 762.3484943633212, 692.8454960981672, 575.0381512992383, 522.7343429296916, 476.1682168903919, 439.0299176154885, 388.97430463913645, 384.68942044140005, 281.6856610706729, 268.1488845200508, 267.889807537737, 264.0059848507471, 256.17821320300345, 250.111154480983, 242.78316769736645, 226.95283911533096, 412.048395904609, 210.23413554404243, 201.62874427473773, 181.17073737936767, 178.11447055311032, 173.23984866515227, 170.65428370213735, 159.93402933306015, 560.5556280057297, 576.1096765288095, 1412.5371199484182, 1416.554596007864, 667.9039415777513, 1355.7731858243812, 2901.701677737208, 691.6764304379709, 429.08217940122796, 1556.5830433722933, 775.148191745097, 1399.5155062577426, 1019.8383999130209, 1481.8895152479222, 877.0286645662591, 734.819921574791, 714.046919248573, 732.1886957934203, 644.5493962258865, 602.0765884935457, 794.9078010457201, 686.0189502705352, 627.4724529475944, 604.1627234692602, 599.8779068671098, 959.1927411435965, 920.8465866586736, 818.6280235613649, 748.5351427176334, 497.58807267128947, 412.49214805475066, 407.5356993312176, 360.50600532079807, 359.78065640292124, 355.9439323989725, 355.15424625574303, 285.7008534844337, 283.82736399573866, 277.9221529299313, 274.7368907897777, 256.36080078284624, 248.15741029140435, 244.5344476678317, 242.82028261531963, 239.6333704283061, 230.5380492970576, 229.3882294750103, 228.1913614141781, 205.71205753432716, 212.555809413188, 200.05797483929015, 199.29216326788355, 198.0891768917035, 184.9585128415616, 182.03489264509116, 194.73122931645685, 840.8311709260391, 646.1668780237939, 285.4616404962979, 255.2558534740782, 453.94512174415, 590.4364139100486, 583.0736419817249, 928.5975430624338, 348.2772013959916, 537.7556452546199, 486.0840919857142, 1485.6155141117974, 587.9458068957402, 426.2588540617489, 464.51549715506695, 2110.15281858205, 1053.8386113067556, 1137.1319254386533, 424.26004862480687, 699.1069230690003, 399.8229714467431, 548.2006463085515, 405.20872439754964, 498.20843188188417, 484.34392044242753, 499.7158446026287, 403.3805016811181, 504.9383451295945, 479.6103886690154, 440.55526891733797, 444.0059403648018, 426.1279308746151, 1427.3061761371735, 1073.2882660930218, 577.4614936155037, 554.8111529517755, 470.9212501580036, 449.166157396795, 390.6401900161204, 362.8657316009225, 378.30889731398884, 306.39800917998934, 235.77415142154462, 219.98591436712815, 200.53214287551606, 187.28401004675862, 182.12447212649994, 180.84481572547853, 168.0780403420656, 165.6615512509286, 146.88074902684642, 142.13655126764084, 106.9433029539711, 98.80194021825841, 98.70619703473736, 95.36741051824134, 91.50857061442595, 79.59086867107159, 76.36600936414354, 58.106591745845655, 54.79019897242696, 36.50846427808377, 464.94612835121467, 1939.0025781781828, 741.3914432814378, 1334.0883210137983, 1138.820345648045, 1368.3164986679772, 475.92306308422565, 524.3872770627316, 451.20728469920743, 1794.9829730886754, 2164.7640709769667, 2316.4508253302797, 1075.6613198256598, 879.3428109689143, 1031.08838984497, 778.0387864031438, 526.4548335819973, 726.9256288924444, 2547.276691353406, 754.0055955133079, 885.1553986678404, 718.5821370117004, 704.6597385455991, 582.3706927670568, 508.62977651842124, 628.6272307707022, 528.3308619158396, 477.1277112490198, 476.3082382530476, 4678.608354737976, 2642.194951743144, 1869.6108476129446, 1196.4674327167234, 955.1704573567667, 859.4885316833622, 614.1741271204461, 561.6446018796901, 539.637568897591, 535.573825105382, 428.93675893097054, 409.0876913220654, 358.17055630172104, 350.44680878693885, 343.68048824055313, 340.10162874920246, 310.0128070288407, 288.16784833767565, 273.5488490268979, 260.3829231038017, 256.44883339005213, 237.69830500384026, 204.12887497278984, 193.95931557405692, 191.44595934983087, 189.52589836817728, 184.2299455589847, 175.91203272986675, 166.56171951778995, 148.31030445219716, 678.2291315959483, 702.3953346659905, 1315.9998726529857, 332.8139344307752, 838.622122625864, 2067.930025864579, 520.7937955897863, 489.52223847147735, 1668.1515937530794, 1374.9455480196755, 1734.5690706233224, 351.71652458978275, 542.2572077341408, 661.2160963639992, 663.0848498830537, 739.9807214708625, 727.0499558668222, 509.3464889565477, 1373.082470045662, 948.3675134820035, 522.9844488898435, 462.3033953125619, 523.6750984698757, 522.1013126643181, 1157.5152032271185, 1148.7423940046272, 830.757059342015, 739.5544728203329, 709.0960144250146, 696.358471217023, 673.7154528146758, 600.2761500848825, 562.3245397287615, 469.96680410678977, 457.5440694838607, 446.22811388413083, 435.2735006751087, 390.78131536710447, 341.86427571527855, 333.5085688334741, 332.6052128567046, 327.183487053739, 268.59820952084203, 263.78840998017694, 253.54125393570865, 249.45649049965098, 245.73951879791315, 241.9804696078176, 224.98718817738666, 212.00739149996784, 195.04987257560782, 185.15694896838613, 184.43698500380688, 174.12248034505666, 673.8474852102888, 854.4072502384422, 438.7318268257388, 2365.5187346242083, 809.4320359661613, 1049.1373876470616, 537.610296710565, 347.76748532728044, 528.3488601352449, 1646.4332243894478, 526.436137096083, 378.6612072357486, 517.816544571486, 651.0218697669259, 476.88600927322966, 509.176439551234, 528.8873355397416, 669.5989801058589, 597.9041800360135, 2666.497343564191, 934.0820048542821, 882.6838965372082, 869.8690576523078, 655.5171397738726, 619.6788936949781, 412.8232135389266, 399.0511336738226, 339.3439833774861, 287.9457742812303, 278.1230289916568, 265.23073122764157, 231.77061181284375, 229.70802476689505, 192.95984345572364, 167.5749180067898, 153.43171880478698, 144.9608053037521, 140.53096566742053, 138.43187640183172, 131.2052229907052, 128.65154906986874, 125.88609777644321, 118.23422676363926, 105.60027643211285, 104.65873684843031, 86.30684784659039, 84.6599446917229, 80.91967148983254, 75.74373837600031, 4341.796766299649, 475.01715061315326, 1835.7118232024045, 330.8488828728244, 721.8745067173998, 415.81708084785276, 812.2591624404517, 1153.1492597131087, 439.05651829590704, 584.5948387008401, 523.2690134984522, 1892.4862993089907, 253.7494830993779, 605.7568947190606, 462.8771291294408, 543.5045460310752, 494.0066090305958, 590.6688806099675, 522.1436325313696, 463.0675614713292, 644.3052542426661, 602.7421862753426, 404.7823651182127, 526.4935441986327, 3859.110835410939, 978.1703262135874, 959.694595380706, 569.6655153466478, 515.1392839573134, 484.75706374178975, 453.8039602302637, 431.47466992207575, 429.17816131417135, 406.3501126820405, 346.17801626172104, 324.837898732102, 320.2106928653219, 282.70811156011615, 279.2109342996918, 255.64807715932636, 238.4438494797106, 215.26205260839282, 191.3752694905719, 186.02368495220298, 170.7895827042331, 156.83018327127957, 144.59914919205877, 118.43958976412507, 111.04336833400468, 101.70038253855617, 95.4633579020215, 93.22695343750004, 91.18032780571014, 84.5935677654438, 2638.365984785961, 1137.9553529173959, 690.1944046843646, 891.675019157285, 371.28302197746757, 1037.428344679188, 335.9164358619554, 3171.658593879974, 418.80057991767666, 1088.1627470840078, 348.3358257199247, 660.7964074944255, 620.5881497863915, 662.2971725993184, 405.86733498916186, 393.8509257348857, 375.75321460850444, 508.8664620000875, 358.7223166717914, 1323.5752916141341, 706.1036694219754, 597.100288665434, 583.0472775950792, 510.12918952416265, 432.0132393786725, 327.14556182170026, 308.3361994068749, 265.53541971776485, 243.64950365499573, 228.23930427524053, 198.97659412897406, 195.95019035910687, 186.66922210512968, 185.94584359673, 183.02845339302155, 174.48093330644457, 160.61858436734656, 135.06474127570672, 133.77104638266462, 127.82448283949527, 123.01751037674867, 122.66468374524884, 200.2727030946173, 688.4526980913225, 99.25246201305032, 84.4495424377992, 82.94027582190031, 80.58709241498424, 76.59877992203421, 2511.2720266627107, 270.1780120245935, 2615.8052063517334, 393.64162152286195, 1204.4601874686975, 318.72464826873124, 1628.3033453585037, 330.8653831441231, 363.54045105104655, 488.2160903425152, 857.5395019137737, 521.4936512456002, 560.7608900364258, 365.5460493402611, 423.51362044500945, 337.3699529551435, 284.93593229447515, 357.53804141054655, 348.61886988660416, 367.47204937261415, 323.1423349898036, 302.22595016702905, 309.44769795750796, 3377.3698426112414, 1238.1819507733799, 955.9125826612283, 484.03603560319453, 365.66626592035897, 286.2748394377907, 272.9546158999751, 262.21198646682376, 251.07289276727744, 249.33133454142813, 185.47032136224024, 179.89313421792906, 162.5363286112765, 158.58805226246832, 151.06508315970947, 148.49451276440993, 135.50528823242155, 128.94255670880955, 127.64435003057271, 127.61187207677342, 127.3754786829624, 122.16995835786149, 119.14087646210301, 118.2107577282665, 106.58401887882552, 103.4793248751918, 101.98936020807649, 101.15719809263253, 97.67391409061507, 81.69850724649785, 584.914034546565, 258.99437695233365, 1689.0229172127617, 466.40497023067854, 852.3224668132226, 186.16483753977056, 240.81211124298974, 1050.3658177155125, 337.082369186718, 336.53947934570334, 389.2351269353545, 713.2895875724759, 384.30014005702657, 273.9344233563597, 347.1316351885324, 441.2155893401463, 635.4182580063588, 271.65311183146395, 224.4429142355658, 251.70009392872026, 352.8448061715946, 1114.8075126426, 664.3177414596001, 465.73614544268975, 457.63885145989906, 442.3650433746173, 418.1560537063804, 395.8012875403316, 334.70947158385235, 325.21125439870195, 313.6733271433881, 291.1530589751976, 268.9046887881758, 265.97867092942056, 244.4260359166976, 236.24965134495852, 230.64588147421193, 218.1352863913182, 215.6532187270399, 206.16930925804547, 202.47735337354746, 199.16708214679014, 185.00086339556808, 177.8291784683685, 176.63521625176944, 171.45176444109492, 153.0035955889863, 142.20037084263672, 138.41460565939252, 134.76635637999215, 110.08715145485553, 754.9861754207328, 465.21567336952586, 313.7032269308308, 1801.4003388759402, 1115.3124183315797, 524.9595072421328, 862.7919653875841, 470.54687739443585, 277.4304693296698, 386.1509256463988, 378.120906185354, 253.11626528912615, 256.52846293905566, 502.18804489748044, 359.9414501136899, 346.7848244000553, 307.7266601398479, 2547.307789006315, 1009.2909764558613, 942.9294117595293, 610.3592214786551, 561.5809671142014, 551.7832674621139, 459.171475615786, 429.7923611002782, 428.1004346828637, 351.36730711461354, 291.14414825399194, 252.10744100050775, 228.01420644782647, 227.54436742125228, 227.1173169651092, 220.89261806153561, 218.07921586116566, 211.9368008342493, 185.5988368302711, 180.82814986953704, 181.66477023088024, 155.26765872449627, 147.24877516352086, 141.06082717933597, 129.18356243510036, 129.03982815751723, 127.94360073346645, 126.62573424199859, 100.83109917125522, 96.38723885257167, 663.1550672592921, 1124.578801492003, 241.96378155726606, 359.27467311305435, 1239.894690866587, 400.2615655174753, 577.9518789339871, 360.06763385944845, 399.33911744081956, 276.24040950174884, 307.1337334887702, 275.6286498793276, 280.7996474227145, 272.24596639193373, 235.78055869128823, 1210.3507406487256, 835.9378410124683, 726.4538861283175, 631.7077635361773, 445.5985008459339, 416.9359924171497, 263.2215810876434, 247.07399713960868, 245.1651256928778, 238.82234711806188, 232.19879902623663, 231.56823421055978, 221.2764851476878, 211.97285679104039, 205.66160562073762, 176.07647320513124, 166.893903391649, 163.92055972590703, 163.78677314304187, 146.92884415676912, 140.2631229347158, 112.11480389423308, 109.57836148084809, 108.12718097549802, 104.37755232865693, 103.43577774333737, 97.13052263378682, 93.29391347385781, 93.14616117069107, 80.6295390604678, 753.8709199128166, 1002.1633634284382, 197.04773331826686, 459.4460059246579, 232.6181553197956, 365.8684545253696, 385.1441256651706, 563.4779108572039, 341.6082756439167, 235.38077550041217, 246.49340785957392, 257.2312404268335, 258.96365876077186, 196.32636623250937, 179.9925113539372, 1419.0140653428493, 1195.4259423074507, 811.1255036718264, 661.7740370145749, 563.0141968037143, 499.2827354897897, 359.98011120363896, 337.21667844800584, 336.0492597496978, 306.6994055862262, 293.5339539387936, 261.5755813698219, 254.5794992674489, 229.06149090412322, 227.61712602220473, 218.39806844100082, 216.05150609877634, 190.41488284266313, 176.98354208057995, 148.33485450619236, 147.49497735805033, 145.33932384539608, 127.7967719019184, 87.34119025437774, 71.55162157127486, 65.5324426427772, 64.91970292196497, 59.86552412129461, 44.121512046476425, 22.483813210215498, 264.46736852453904, 674.7347028398501, 903.3127846257324, 162.7387424022318, 283.32704742752935, 149.03288949587966, 177.2344262331925, 191.0655134320047, 204.91666661368086, 176.9369836573224, 158.7390814628532, 1142.184265710612, 693.9107145177628, 466.3515104838243, 429.2654074597495, 361.3841665714441, 357.4829813515847, 323.4493021547792, 318.2184489764982, 288.58139947620816, 287.73016583260915, 252.06834811263616, 250.76179032668966, 249.64761129045195, 231.91783630733778, 228.8780962026362, 215.13612927772283, 214.67024432400007, 212.6423669977465, 193.3264280140302, 148.2526835221786, 144.6289681696356, 137.85700239093217, 133.8876555984179, 129.96589963782628, 118.28462110962246, 113.29913884398161, 112.64933319495302, 111.35649371487695, 101.09140521233527, 95.89450517698721, 285.1967534834618, 784.4317015098753, 261.1292824219751, 221.893100316611, 250.03986615977715, 216.22191773579775, 297.16271708980713, 269.09664874424897, 178.16904364189497, 181.68384558857542, 184.40146751018452, 733.8645313555782, 539.850757173021, 513.4821188903941, 426.54191336642725, 376.0615884428084, 267.78400140605356, 265.5651271694156, 252.1919045383772, 242.68588155830804, 241.85491342749117, 229.11476003327215, 220.39840167853777, 215.13962240586648, 210.1446533794415, 170.51776644839683, 148.02966785998638, 144.70460615369328, 141.90073628710124, 121.80242461650849, 116.58484288251503, 114.41102808586565, 108.44414330487058, 104.73087809822097, 94.19530519615441, 87.17800680681236, 82.5950308283, 82.38671186521704, 78.63546344628541, 76.18664713145102, 65.67265024814044, 398.7388613249991, 1154.9354963590297, 315.6477469025627, 344.6050600205112, 333.86530086072776, 139.90564039287858, 184.90484414031295, 232.23715433937605, 132.69372808047103, 118.27065699737506, 892.2980928591184, 735.7572274557157, 713.6375709170393, 612.9187386050737, 469.98270192683896, 423.8305715718213, 379.0567034946059, 329.79591384431313, 298.9777277942232, 294.61241248817936, 240.95485800966642, 226.37181448526215, 191.38776130740467, 182.86174806301167, 156.04119157247325, 138.94593285033662, 135.81889904141434, 115.31201874165734, 102.994263883479, 101.28869200678479, 98.63087073400457, 91.0602670414135, 88.81981980542861, 83.14175300974813, 82.1763200087167, 64.59699819050155, 56.11298461013359, 55.62011434468875, 54.67962594049391, 52.442246553271026, 2415.2028914262673, 114.61067050591632, 142.599757015352, 92.45601334224887, 99.72524026017346, 89.70041185618322, 799.825449812508, 646.6308142422316, 554.4271984269409, 490.2064548274485, 477.4913645266259, 472.6961177701688, 395.5321200844136, 344.41690541058193, 285.86443710260755, 264.81962040056817, 247.00709161758664, 186.87985418943182, 185.95129013056933, 158.3528736989897, 148.72887239364542, 134.0708837388802, 107.96015501677705, 102.67152786969432, 100.75832033356592, 98.19043852017786, 96.49460428908684, 90.35770552372706, 86.39196602178613, 387.2439821954246, 68.26708148273231, 67.3464815948242, 63.232423977462794, 58.301174433353765, 55.50424014959582, 55.49714523876388, 228.1764698393307, 400.91644354419606, 162.64674675665592, 294.3293795867844, 113.82360105869608, 125.51038091565404, 128.0664621586645, 105.67970207561436], \"Total\": [10787.0, 4509.0, 4680.0, 3860.0, 3379.0, 2559.0, 6263.0, 2548.0, 3146.0, 5929.0, 2614.0, 2912.0, 2668.0, 3392.0, 5385.0, 3428.0, 4140.0, 2643.0, 6938.0, 2632.0, 13213.0, 5939.0, 3830.0, 2234.0, 1777.0, 4054.0, 1924.0, 2175.0, 2398.0, 3122.0, 2815.7773455349834, 1595.73200851327, 1104.7222452780477, 3079.768774018881, 791.0960435325413, 653.576123342089, 631.2096872664064, 539.1893844646205, 702.4744631188654, 521.6966777246503, 501.49304270254316, 483.61801927229266, 482.26027767002154, 2264.708763461856, 475.51105449583474, 473.3827691227915, 408.82163391039853, 407.5492412302446, 404.47242802440974, 397.6859765018904, 380.7923739510272, 376.6181428525826, 372.7108132856283, 352.45678568297984, 343.75041327791723, 341.8213894961283, 341.54216178060864, 327.0350301083079, 321.778760999526, 361.803797758373, 1293.5581760206094, 1798.6570121841066, 1588.3162569848614, 861.9906389746029, 2446.1453896441353, 573.5405684651636, 483.8271349000683, 964.0844939574927, 8593.233032926833, 5939.625385985608, 2216.05151764538, 698.5501728650661, 2446.1771954230044, 1314.058615504104, 3392.8169424870875, 3247.3380815838273, 4054.309700496699, 1461.740278185613, 2298.159648860437, 1695.3077435536404, 5181.5248607640315, 5618.572589561054, 1052.767968634951, 6263.353876355684, 5929.114818671944, 4344.102368355082, 5385.562212425041, 8209.143581966442, 3851.1668916091103, 5201.458726063185, 3830.8596984553, 3253.3482672045907, 3034.7295934865115, 13213.560983595373, 11642.810442973992, 10787.520855581943, 3381.2657064693963, 984.8299538565439, 574.2109299587001, 485.9828010389844, 465.61174271265037, 426.3409628764401, 858.0826882045799, 409.35472310763106, 398.4525217412931, 378.4339938777212, 360.20850334944305, 356.6518511803682, 353.65821512298965, 352.70215619507246, 451.5256918653542, 312.9502470083196, 295.0475229321726, 284.53197086389423, 269.306970844456, 259.50000131453584, 258.65591082203605, 248.22020724850364, 235.78970532994018, 234.79932430906442, 232.05464763039294, 230.8396849608001, 229.23624281917486, 223.7900400296761, 219.219819428589, 212.88230839824232, 208.7794040587927, 243.04254990599736, 826.8580038329487, 665.9604133794785, 2420.929453374339, 1887.7983079030555, 1270.190767581316, 647.3566973535069, 2639.0996802121704, 2599.438076115173, 1375.08578758826, 666.4837562808206, 5783.947418617509, 1173.4893543592384, 3034.0727025001406, 2013.8796836906386, 1305.7417181106919, 1179.4201911535447, 1335.2352000862365, 5788.209549591487, 3219.73552981369, 1505.1531095700784, 13213.560983595373, 11642.810442973992, 1292.8872046170682, 2695.844697880627, 3351.5845797855313, 5120.4706805431715, 3523.293423750034, 2253.1961507295164, 2596.3057443042494, 2198.945479392271, 8209.143581966442, 10787.520855581943, 715.3866590051152, 604.2690904519942, 512.8640263437993, 489.4725865184432, 450.2941548411027, 447.30242000387756, 354.5247872700098, 345.89466664460724, 340.79775798844753, 335.17070263796467, 323.19617587038755, 313.5440399964961, 292.0768877262758, 260.5577861520129, 221.31128695498654, 219.96285082209704, 192.17692955475064, 185.47055835210008, 169.15092706722498, 147.70553385220356, 134.1876576164316, 155.1632072375775, 133.4345690882258, 126.8389349637405, 106.44675815942853, 102.33500695411584, 94.71652397025171, 91.51664852602418, 71.97157181122375, 69.10628320500247, 367.15405986551553, 207.26423953523627, 749.9491544365089, 572.0908632050497, 236.85585867031338, 479.38488477771074, 702.0821463327334, 591.8757273997728, 1664.3159016091906, 857.8176219855799, 540.1249871129546, 6938.714237887353, 1088.8573965410037, 883.2241041437751, 1500.3320480297823, 1079.7104432484784, 1185.5368598408168, 5181.5248607640315, 8209.143581966442, 3873.1327269569256, 2039.1889379572224, 3523.293423750034, 2421.094292630413, 5201.458726063185, 3616.5994656864536, 3351.5845797855313, 1811.6323967515714, 1366.6045913819655, 13213.560983595373, 1410.420506728769, 2201.7497529074626, 1523.982973088934, 5788.209549591487, 1694.4432102516782, 983.3781027382438, 1720.9645327482308, 2398.472484356415, 2113.96617777345, 1017.4628920726515, 951.3024279332978, 920.7120454804567, 900.7437686123294, 763.9953294638798, 694.4923312396198, 576.6849864291113, 524.3811780237143, 477.85899840812374, 440.7526973791944, 390.62113976713505, 386.33625554707504, 283.3324961932224, 269.79571961407333, 269.53677711665256, 265.65281995784164, 257.8250483108486, 251.7579896056291, 244.43000279138897, 228.5996742341639, 415.1854737375195, 211.88097063806495, 203.2755877153571, 182.8175724733902, 179.76130564713284, 174.8866838877573, 172.3011188470607, 161.58086446624668, 574.7152088301889, 597.6664646305388, 1940.889710898243, 2012.3298511069345, 860.4659059368007, 2112.5985373551102, 6263.353876355684, 991.0956917620643, 533.6170702845609, 3253.3482672045907, 1275.3335443367405, 3034.7295934865115, 1924.6952442511074, 3851.1668916091103, 2036.2369110141706, 1526.8348314331781, 1649.0707774615785, 2089.8186503902702, 2072.3652755313356, 1732.838357315217, 6938.714237887353, 8593.233032926833, 11642.810442973992, 4054.309700496699, 3495.1067811457, 960.8399517641602, 922.4937972545848, 820.275234151809, 750.2054671415918, 499.2352840769171, 414.1393586615753, 409.1829099284401, 362.15321591124217, 361.4278669996366, 357.5911429948838, 356.80145687632483, 287.348064098128, 285.4745746180643, 279.5693635339162, 276.38410139484034, 258.0080114235574, 249.8046209431382, 246.18165829457573, 244.46749322413825, 241.28058103353752, 232.18525990652282, 231.03544009015656, 229.83857203146692, 207.35926814975434, 214.26462472007316, 201.70518548986212, 200.93937390571605, 199.73638748870817, 186.60572349582284, 183.68210327175996, 196.51728823539753, 885.475551822357, 686.9742615367373, 295.374983642026, 267.1424693853366, 535.5399710177537, 736.8893786810661, 743.9003533800181, 1417.9071446786381, 410.26126330191545, 805.8269079701098, 753.118307536417, 5120.4706805431715, 1074.4006935437228, 666.8268908467601, 780.0977371126393, 13213.560983595373, 5783.947418617509, 6938.714237887353, 815.2483379564703, 3122.8485460444554, 750.6983493427738, 2013.8796836906386, 783.7081461087636, 2158.543289941725, 1960.6254984696486, 2695.844697880627, 783.2155536017539, 5618.572589561054, 3616.5994656864536, 2274.206556930542, 8209.143581966442, 5788.209549591487, 1428.9646936472682, 1074.9468119552307, 579.1200151140974, 556.4696704618702, 472.5797676738473, 450.82467490688964, 392.2987075382183, 364.5243202824072, 380.1257755754518, 308.056526690084, 237.4326689643395, 221.644431889226, 202.19066040081435, 188.94252763279363, 183.78298964315525, 182.50333323557322, 169.7365580308411, 167.3200687610233, 148.5392665369411, 143.7950689450874, 108.60182047355059, 100.46045775684007, 100.36471457814083, 97.02592804917788, 93.16708818095829, 81.24938626929851, 78.02453370859112, 59.765109920694485, 56.44871650350457, 38.166981799916925, 502.06148008099484, 2363.393098806886, 874.406533345618, 1904.9389821009004, 1658.7861980360344, 2092.5931699727466, 646.1189832586914, 728.9690899869864, 630.2989421831819, 3830.8596984553, 5385.562212425041, 5929.114818671944, 2198.945479392271, 1682.6033024292897, 2194.380428188152, 1506.6664990091767, 900.0258998813649, 1505.1531095700784, 11642.810442973992, 1800.5551215634819, 2596.3057443042494, 1769.3096487881141, 2190.5230832295806, 1335.2352000862365, 949.716014825807, 2639.0996802121704, 1469.9364170488102, 1046.098804385686, 926.3828905241628, 4680.258021416512, 2643.844618421679, 1871.2605142914804, 1198.1170993952592, 956.8201240353027, 861.1381983618982, 615.8237938055426, 563.2942685644973, 541.2872355826875, 537.2234917839179, 430.5866419257151, 410.7373580060685, 359.8202229857242, 352.0964754654748, 345.33015491908907, 341.7512954277384, 311.66247370737665, 289.8175150162116, 275.19851570543386, 262.03258979728963, 258.0985000751487, 239.34797170151828, 205.77854165132575, 195.60898225789538, 193.09562602836678, 191.17556511595427, 185.8796122375206, 177.56169940840266, 168.2113862227705, 149.95997114276085, 687.1778194752064, 713.6528904833289, 1410.9544708679412, 348.04070332409316, 952.4723326178686, 2937.223627591119, 615.9371306603017, 585.4435042315143, 2621.0473577324187, 2072.3652755313356, 3152.846791757342, 396.902893300593, 815.8862739564606, 1137.1323524723534, 1216.2948972104493, 1495.814240695473, 1506.6664990091767, 895.8141152294907, 11642.810442973992, 5783.947418617509, 1264.7725422153576, 767.5883021249412, 2462.91574908384, 5939.625385985608, 1159.1772372957957, 1150.4044280733044, 832.4190945387297, 741.2165069020822, 710.7606407808656, 698.0205052857002, 675.3774868833531, 601.9381841600957, 563.9865737974387, 471.6288381836338, 459.20610355907405, 447.89014796097484, 436.93553477243086, 392.4433494440332, 343.52630978395587, 335.1706029225706, 334.2672472201314, 328.85225840542637, 270.26197777573674, 265.4504440640309, 255.20328805270586, 251.1185245899586, 247.40155287939768, 243.6425036764949, 226.64922224606394, 213.66942556864512, 196.7119067590255, 186.81898304531484, 186.09901913657177, 175.78451445336344, 780.0435087864803, 1042.0104551360564, 500.3978611698445, 4140.164496767389, 1226.4696091958072, 1769.3096487881141, 895.2210016478675, 451.46516442687914, 966.5299052763845, 10787.520855581943, 1170.2413357888079, 576.1142733916793, 1194.5866217716666, 2632.7702848054632, 1305.7417181106919, 2036.2369110141706, 3146.267667836747, 13213.560983595373, 11642.810442973992, 2668.143201927019, 935.7278632171113, 884.3297549241496, 871.514916015137, 657.1629981367018, 621.3247520761819, 414.46907191340836, 400.6969920366519, 340.9898417403154, 289.59163266970825, 279.7688874052512, 266.8765896086682, 233.41647022424578, 231.3538831407759, 194.60570186417746, 169.22077640180123, 155.07757718618893, 146.60666375866825, 142.17682405359307, 140.0777348177397, 132.8510813621661, 130.29740743269795, 127.53195617716322, 119.88008512646849, 107.24613480777397, 106.30459521125954, 87.95270620941962, 86.30580305455213, 82.56552985266177, 77.38959681071864, 4509.471788655941, 492.2210554609609, 2175.727545368258, 402.3361926425041, 1115.8393668851847, 600.3176835694112, 1796.9267142710464, 3381.2657064693963, 918.710468770402, 1475.4107427081497, 1355.5098943901269, 13213.560983595373, 415.8808527993143, 2201.7497529074626, 1364.0241674860367, 2234.0852794726848, 2031.8553993321545, 3219.73552981369, 2462.91574908384, 1753.6932215559489, 5788.209549591487, 5618.572589561054, 1240.9300801310812, 6938.714237887353, 3860.74367097617, 979.8031613450946, 961.3274305119797, 571.2983505224898, 516.7721194316159, 486.3898988665184, 455.4367953549924, 433.10750508396404, 430.81099650995276, 407.9829478298726, 347.8108513864497, 326.4707338568307, 321.84352801182035, 284.34094670131844, 280.8437694244205, 257.28091246680765, 240.07668468600647, 216.8948877331215, 193.00810465378544, 187.65652072364307, 172.42241782896178, 158.46301847410652, 146.23198438617197, 120.07242488885376, 112.67620350166169, 103.33321766328486, 97.09619302675019, 94.85978856222873, 92.81316296927396, 86.22640293064666, 2912.149780971796, 1350.5547389224957, 829.2710706348753, 1149.3314183323737, 460.46401316405735, 1602.4413296390044, 425.6712810345219, 10787.520855581943, 666.6789813382511, 3122.8485460444554, 525.1172521558487, 1902.3295296502667, 1777.0624214601423, 2596.3057443042494, 875.4082834455461, 816.2333124268204, 1303.4581144828724, 11642.810442973992, 2298.159648860437, 1325.2188109604333, 707.7471887479908, 598.7438080000811, 584.6907969344179, 511.7727088564492, 433.65675871545756, 328.78908114771554, 309.9797187328902, 267.1789390925344, 245.29302300983267, 229.88282360125575, 200.62011345498928, 197.5937096851221, 188.31274146133714, 187.5893629227452, 184.67197271903677, 176.1244526324598, 162.26210373630914, 136.70826063591602, 135.41456584129838, 129.468002244775, 124.66102970276393, 124.30820307126409, 203.09091815155637, 698.9867407473491, 100.89598136698316, 86.09306184035383, 84.58379521563448, 82.23061178015394, 78.24229924804946, 2614.231629100636, 286.0878216830528, 3146.267667836747, 453.67747530213177, 1961.6413732548272, 414.2124928908162, 3428.4536379756173, 447.90056014447794, 536.7295259674041, 1083.0382576061636, 4054.309700496699, 1649.0707774615785, 2043.1571790289945, 868.7294552330548, 1254.1705877609684, 876.1674091804873, 581.37636489487, 1738.7654475397258, 1682.6033024292897, 3152.846791757342, 2298.159648860437, 1303.4581144828724, 4140.164496767389, 3379.0288970945753, 1239.8243125333142, 957.5549444184632, 485.67839735496216, 367.30862770297364, 287.91720121135893, 274.59697765174275, 263.8543482185914, 252.71525456698075, 250.97369630150268, 187.1126831437949, 181.53549596969668, 164.178690398324, 160.23041402077195, 152.70744491978402, 150.13687451617756, 137.14764999072517, 130.584918484154, 129.28671186692492, 129.25423385793658, 129.01784049178664, 123.81232015526699, 120.78323823042899, 119.85311949189732, 108.22638063059316, 105.12168669149327, 103.63172197061385, 102.79956092930439, 99.31627593381334, 83.34086900991795, 641.7966721785906, 280.3216478477226, 2234.0852794726848, 625.0347674154865, 1638.309761487195, 227.03521081945132, 344.691532149399, 3392.8169424870875, 636.7150925688327, 695.3002509873473, 1494.0002772655146, 6938.714237887353, 1732.838357315217, 786.6397869510357, 1694.4432102516782, 3495.1067811457, 10787.520855581943, 1084.0571430004723, 552.3048420382463, 1007.1157134951037, 13213.560983595373, 1116.4487851590252, 665.9590139745525, 467.377417959115, 459.2801239680729, 444.00631590685975, 419.7973262145543, 397.4425600775047, 336.3507440988046, 326.8525269068758, 315.314599651562, 292.7943314833715, 270.5459612963497, 267.61994344413046, 246.06730842487147, 237.8909238743184, 232.2871539823858, 219.7765592220704, 217.29449125706148, 207.81058177196843, 204.1186259121946, 200.808354654964, 186.6561464360956, 179.47045099036507, 178.2764888070164, 173.0930369712417, 154.64486810262733, 143.84164341052963, 140.0558781675664, 136.4076288936332, 111.72842396302941, 837.3184685040001, 527.046919830837, 351.7498458625734, 2632.7702848054632, 2190.5230832295806, 842.8496326334376, 2253.1961507295164, 977.1974704261405, 398.99377118946035, 764.1902760451682, 786.6397869510357, 363.281931457264, 386.52250568084867, 3873.1327269569256, 1291.5126238057048, 1702.9799160062023, 1047.4876102075418, 2548.9432111249075, 1010.9263985744545, 944.5648338863741, 611.9946436038089, 563.2163892327947, 553.4186913630127, 460.8068977642521, 431.42781406081355, 429.73585681008865, 353.0027292332068, 292.7795703725852, 253.7428631277327, 229.64962860136677, 229.1797896057312, 228.75273908370247, 222.52804022533113, 219.71463797975892, 213.5722229996964, 187.23425894886435, 182.46357199467525, 183.34267125024317, 156.9030808596479, 148.88419732965312, 142.6962493182646, 130.8189845899425, 130.67525028238174, 129.57902285205972, 128.26115636922356, 102.46652134238043, 98.02266097116495, 727.7428696397843, 1902.3295296502667, 369.8377559864511, 864.9172693511019, 10787.520855581943, 1403.9625900423907, 3122.8485460444554, 1185.5368598408168, 2039.1889379572224, 1076.7031578439828, 2089.8186503902702, 1410.420506728769, 2421.094292630413, 2912.149780971796, 3152.846791757342, 1211.9834595767325, 837.5705074397722, 728.0865525556214, 633.3404299634811, 447.2311672732378, 418.5686599555729, 264.8542475230209, 248.7066635755443, 246.79779212018173, 240.4550135453658, 233.83146545354055, 233.2009006378637, 222.90915161348573, 213.6055232183443, 207.29427207700493, 177.70913967953686, 168.5265698275846, 165.55322616655002, 165.4194396002432, 148.5615105985957, 141.8957893620197, 113.74747034361893, 111.21102819284687, 109.75984741551606, 106.01021882918643, 105.0684441706413, 98.76318906109076, 94.92657997381546, 94.77882760346219, 82.26220551007832, 1007.1157134951037, 1403.9625900423907, 224.2027674681274, 618.0013910437851, 330.3306406382893, 720.0838439008244, 847.2387900076267, 1602.4413296390044, 1216.2948972104493, 672.3450911553904, 816.2333124268204, 1283.3763014921421, 5939.625385985608, 1194.5866217716666, 1475.4107427081497, 1420.6417172672768, 1197.0541082639459, 812.7531556000353, 663.4016889224996, 564.6418487468264, 500.91038739771443, 361.6077631513478, 338.84433036456227, 337.67705490792736, 308.3270575277585, 295.1616058467184, 263.2032332777467, 256.2071511753736, 230.68914281204792, 229.24477793012943, 220.0257203560555, 217.6791580195329, 192.04253477691805, 178.61119398850465, 149.962506420662, 149.1226292714422, 146.9669757653329, 129.42442380984312, 88.96884216230248, 73.17927348745101, 67.1600946538867, 66.54735484189288, 61.49317602921934, 45.7491639813251, 24.111465484327926, 313.12765868227746, 848.9094180305746, 1924.6952442511074, 312.72423443817445, 992.4256821374977, 354.23782780116096, 843.7557716356185, 1088.8573965410037, 1694.4432102516782, 1149.337754665631, 711.243666191454, 1143.8279245578674, 695.5543733650181, 467.99516933107975, 430.90906630700493, 363.02782541869954, 359.12664019884016, 325.09296102436696, 319.86210782375366, 290.22505833511605, 289.3738246798646, 253.71200697243407, 252.40544917394504, 251.29127014425228, 233.56149515459316, 230.52175504989157, 216.7797881315142, 216.31390318821047, 214.2860258450019, 194.97008688018497, 149.89634236943397, 146.27262702316227, 139.50066123818755, 135.53131444567327, 131.6095584970938, 119.92827995687787, 114.9427977472543, 114.29299204220843, 113.00015256213236, 102.73506405959068, 97.5381640307786, 392.5472577609203, 1638.309761487195, 378.0695492494677, 508.4624234734361, 698.0716699446925, 595.8420063699766, 3122.8485460444554, 2198.945479392271, 469.45401116660054, 520.6143592956827, 705.1971753631485, 735.5008989797867, 541.4871247972295, 515.1184865146026, 428.1782809969071, 377.697956067017, 269.42036904941995, 267.20149480225587, 253.8282721712175, 244.32224918251663, 243.49128105169976, 230.75112765748074, 222.03476930274635, 216.77599003870677, 211.7810210036501, 172.15413408893045, 149.66603548419496, 146.34097377790187, 143.53710391130983, 123.43879224071709, 118.22121052748749, 116.04739577782391, 110.08051092907918, 106.36724577665716, 95.83167283697775, 88.81437444267343, 84.2313984525086, 84.02307951251998, 80.27183107703895, 77.82301480950402, 67.30901787234905, 415.62252907811757, 1777.0624214601423, 571.5758402081178, 739.3136731557224, 898.751099392891, 312.72423443817445, 740.1611386626746, 1732.838357315217, 507.16402275991516, 427.2347627941493, 893.9411349993727, 737.40026959597, 715.2806133227423, 614.5618137224861, 471.6257440670933, 425.47361371207563, 380.6997456348603, 331.4389559845675, 300.62076993447755, 296.25545463496974, 242.5979001629928, 228.01485666900413, 193.03080346075566, 184.50479020873323, 157.68423373369313, 140.58897502937123, 137.4619412175253, 116.95506093785642, 104.63730602373336, 102.93173421815767, 100.27391289058397, 92.70330923772129, 90.46286195222791, 84.78479520904325, 83.81936214897107, 66.24004036230457, 57.756026758461566, 57.263156484943124, 56.3226680873089, 54.0852886935254, 2559.6412412186837, 118.56817058240695, 229.368385384103, 388.63399823764126, 1599.517179152636, 2036.2369110141706, 801.4733267640967, 648.2786911983576, 556.0750753753489, 491.85433175935367, 479.13924145853105, 474.34399524666736, 397.17999701631874, 346.06478234903204, 287.5123140345127, 266.4674973461072, 248.65496856411036, 188.527731121337, 187.59916709104516, 160.0007506623078, 150.3767493255506, 135.71876068412445, 109.60803197415736, 104.31940480706666, 102.40619726547109, 99.83831545208304, 98.14252090190405, 92.00558245563224, 88.0398429536913, 394.8491410835331, 69.91495841994005, 68.99435856793437, 64.88030090936797, 59.949051372388915, 57.152117081501, 57.14502217066905, 245.9538479929915, 604.5433619009771, 220.29501724134465, 703.2552977056962, 268.987392162427, 402.14515062925335, 743.9003533800181, 815.9313169255845], \"Category\": [\"Default\", \"Default\", \"Default\", \"Default\", \"Default\", \"Default\", \"Default\", \"Default\", \"Default\", \"Default\", \"Default\", \"Default\", \"Default\", \"Default\", \"Default\", \"Default\", \"Default\", \"Default\", \"Default\", \"Default\", \"Default\", \"Default\", \"Default\", \"Default\", \"Default\", \"Default\", \"Default\", \"Default\", \"Default\", \"Default\", \"Topic1\", \"Topic1\", \"Topic1\", \"Topic1\", \"Topic1\", \"Topic1\", \"Topic1\", \"Topic1\", \"Topic1\", \"Topic1\", \"Topic1\", \"Topic1\", \"Topic1\", \"Topic1\", \"Topic1\", \"Topic1\", \"Topic1\", \"Topic1\", \"Topic1\", \"Topic1\", \"Topic1\", \"Topic1\", \"Topic1\", \"Topic1\", \"Topic1\", \"Topic1\", \"Topic1\", \"Topic1\", \"Topic1\", \"Topic1\", \"Topic1\", \"Topic1\", \"Topic1\", \"Topic1\", \"Topic1\", \"Topic1\", \"Topic1\", \"Topic1\", \"Topic1\", \"Topic1\", \"Topic1\", \"Topic1\", \"Topic1\", \"Topic1\", \"Topic1\", \"Topic1\", \"Topic1\", \"Topic1\", \"Topic1\", \"Topic1\", \"Topic1\", \"Topic1\", \"Topic1\", \"Topic1\", \"Topic1\", \"Topic1\", \"Topic1\", \"Topic1\", \"Topic1\", \"Topic1\", \"Topic1\", \"Topic1\", \"Topic1\", \"Topic1\", \"Topic1\", \"Topic1\", \"Topic1\", \"Topic2\", \"Topic2\", \"Topic2\", \"Topic2\", \"Topic2\", \"Topic2\", \"Topic2\", \"Topic2\", \"Topic2\", \"Topic2\", \"Topic2\", \"Topic2\", \"Topic2\", \"Topic2\", \"Topic2\", \"Topic2\", \"Topic2\", \"Topic2\", \"Topic2\", \"Topic2\", \"Topic2\", \"Topic2\", \"Topic2\", \"Topic2\", \"Topic2\", \"Topic2\", \"Topic2\", \"Topic2\", \"Topic2\", \"Topic2\", \"Topic2\", \"Topic2\", \"Topic2\", \"Topic2\", \"Topic2\", \"Topic2\", \"Topic2\", \"Topic2\", \"Topic2\", \"Topic2\", \"Topic2\", \"Topic2\", \"Topic2\", \"Topic2\", \"Topic2\", \"Topic2\", \"Topic2\", \"Topic2\", \"Topic2\", \"Topic2\", \"Topic2\", \"Topic2\", \"Topic2\", \"Topic2\", \"Topic2\", \"Topic2\", \"Topic2\", \"Topic2\", \"Topic2\", \"Topic2\", \"Topic2\", \"Topic2\", \"Topic2\", \"Topic3\", \"Topic3\", \"Topic3\", \"Topic3\", \"Topic3\", \"Topic3\", \"Topic3\", \"Topic3\", \"Topic3\", \"Topic3\", \"Topic3\", \"Topic3\", \"Topic3\", \"Topic3\", \"Topic3\", \"Topic3\", \"Topic3\", \"Topic3\", \"Topic3\", \"Topic3\", \"Topic3\", \"Topic3\", \"Topic3\", \"Topic3\", \"Topic3\", \"Topic3\", \"Topic3\", \"Topic3\", \"Topic3\", \"Topic3\", \"Topic3\", \"Topic3\", \"Topic3\", \"Topic3\", \"Topic3\", \"Topic3\", \"Topic3\", \"Topic3\", \"Topic3\", \"Topic3\", \"Topic3\", \"Topic3\", \"Topic3\", \"Topic3\", \"Topic3\", \"Topic3\", \"Topic3\", \"Topic3\", \"Topic3\", \"Topic3\", \"Topic3\", \"Topic3\", \"Topic3\", \"Topic3\", \"Topic3\", \"Topic3\", \"Topic3\", \"Topic3\", \"Topic3\", \"Topic3\", \"Topic3\", \"Topic3\", \"Topic3\", \"Topic3\", \"Topic3\", \"Topic3\", \"Topic4\", \"Topic4\", \"Topic4\", \"Topic4\", \"Topic4\", \"Topic4\", \"Topic4\", \"Topic4\", \"Topic4\", \"Topic4\", \"Topic4\", \"Topic4\", \"Topic4\", \"Topic4\", \"Topic4\", \"Topic4\", \"Topic4\", \"Topic4\", \"Topic4\", \"Topic4\", \"Topic4\", \"Topic4\", \"Topic4\", \"Topic4\", \"Topic4\", \"Topic4\", \"Topic4\", \"Topic4\", \"Topic4\", \"Topic4\", \"Topic4\", \"Topic4\", \"Topic4\", \"Topic4\", \"Topic4\", \"Topic4\", \"Topic4\", \"Topic4\", \"Topic4\", \"Topic4\", \"Topic4\", \"Topic4\", \"Topic4\", \"Topic4\", \"Topic4\", \"Topic4\", \"Topic4\", \"Topic4\", \"Topic4\", \"Topic4\", \"Topic4\", \"Topic4\", \"Topic4\", \"Topic4\", \"Topic4\", \"Topic5\", \"Topic5\", \"Topic5\", \"Topic5\", \"Topic5\", \"Topic5\", \"Topic5\", \"Topic5\", \"Topic5\", \"Topic5\", \"Topic5\", \"Topic5\", \"Topic5\", \"Topic5\", \"Topic5\", \"Topic5\", \"Topic5\", \"Topic5\", \"Topic5\", \"Topic5\", \"Topic5\", \"Topic5\", \"Topic5\", \"Topic5\", \"Topic5\", \"Topic5\", \"Topic5\", \"Topic5\", \"Topic5\", \"Topic5\", \"Topic5\", \"Topic5\", \"Topic5\", \"Topic5\", \"Topic5\", \"Topic5\", \"Topic5\", \"Topic5\", \"Topic5\", \"Topic5\", \"Topic5\", \"Topic5\", \"Topic5\", \"Topic5\", \"Topic5\", \"Topic5\", \"Topic5\", \"Topic5\", \"Topic5\", \"Topic5\", \"Topic5\", \"Topic5\", \"Topic5\", \"Topic5\", \"Topic5\", \"Topic5\", \"Topic5\", \"Topic5\", \"Topic5\", \"Topic5\", \"Topic5\", \"Topic5\", \"Topic5\", \"Topic6\", \"Topic6\", \"Topic6\", \"Topic6\", \"Topic6\", \"Topic6\", \"Topic6\", \"Topic6\", \"Topic6\", \"Topic6\", \"Topic6\", \"Topic6\", \"Topic6\", \"Topic6\", \"Topic6\", \"Topic6\", \"Topic6\", \"Topic6\", \"Topic6\", \"Topic6\", \"Topic6\", \"Topic6\", \"Topic6\", \"Topic6\", \"Topic6\", \"Topic6\", \"Topic6\", \"Topic6\", \"Topic6\", \"Topic6\", \"Topic6\", \"Topic6\", \"Topic6\", \"Topic6\", \"Topic6\", \"Topic6\", \"Topic6\", \"Topic6\", \"Topic6\", \"Topic6\", \"Topic6\", \"Topic6\", \"Topic6\", \"Topic6\", \"Topic6\", \"Topic6\", \"Topic6\", \"Topic6\", \"Topic6\", \"Topic6\", \"Topic6\", \"Topic6\", \"Topic6\", \"Topic6\", \"Topic6\", \"Topic6\", \"Topic6\", \"Topic6\", \"Topic6\", \"Topic7\", \"Topic7\", \"Topic7\", \"Topic7\", \"Topic7\", \"Topic7\", \"Topic7\", \"Topic7\", \"Topic7\", \"Topic7\", \"Topic7\", \"Topic7\", \"Topic7\", \"Topic7\", \"Topic7\", \"Topic7\", \"Topic7\", \"Topic7\", \"Topic7\", \"Topic7\", \"Topic7\", \"Topic7\", \"Topic7\", \"Topic7\", \"Topic7\", \"Topic7\", \"Topic7\", \"Topic7\", \"Topic7\", \"Topic7\", \"Topic7\", \"Topic7\", \"Topic7\", \"Topic7\", \"Topic7\", \"Topic7\", \"Topic7\", \"Topic7\", \"Topic7\", \"Topic7\", \"Topic7\", \"Topic7\", \"Topic7\", \"Topic7\", \"Topic7\", \"Topic7\", \"Topic7\", \"Topic7\", \"Topic7\", \"Topic7\", \"Topic7\", \"Topic7\", \"Topic7\", \"Topic7\", \"Topic8\", \"Topic8\", \"Topic8\", \"Topic8\", \"Topic8\", \"Topic8\", \"Topic8\", \"Topic8\", \"Topic8\", \"Topic8\", \"Topic8\", \"Topic8\", \"Topic8\", \"Topic8\", \"Topic8\", \"Topic8\", \"Topic8\", \"Topic8\", \"Topic8\", \"Topic8\", \"Topic8\", \"Topic8\", \"Topic8\", \"Topic8\", \"Topic8\", \"Topic8\", \"Topic8\", \"Topic8\", \"Topic8\", \"Topic8\", \"Topic8\", \"Topic8\", \"Topic8\", \"Topic8\", \"Topic8\", \"Topic8\", \"Topic8\", \"Topic8\", \"Topic8\", \"Topic8\", \"Topic8\", \"Topic8\", \"Topic8\", \"Topic8\", \"Topic8\", \"Topic8\", \"Topic8\", \"Topic8\", \"Topic8\", \"Topic9\", \"Topic9\", \"Topic9\", \"Topic9\", \"Topic9\", \"Topic9\", \"Topic9\", \"Topic9\", \"Topic9\", \"Topic9\", \"Topic9\", \"Topic9\", \"Topic9\", \"Topic9\", \"Topic9\", \"Topic9\", \"Topic9\", \"Topic9\", \"Topic9\", \"Topic9\", \"Topic9\", \"Topic9\", \"Topic9\", \"Topic9\", \"Topic9\", \"Topic9\", \"Topic9\", \"Topic9\", \"Topic9\", \"Topic9\", \"Topic9\", \"Topic9\", \"Topic9\", \"Topic9\", \"Topic9\", \"Topic9\", \"Topic9\", \"Topic9\", \"Topic9\", \"Topic9\", \"Topic9\", \"Topic9\", \"Topic9\", \"Topic9\", \"Topic9\", \"Topic9\", \"Topic9\", \"Topic9\", \"Topic9\", \"Topic9\", \"Topic9\", \"Topic9\", \"Topic9\", \"Topic9\", \"Topic10\", \"Topic10\", \"Topic10\", \"Topic10\", \"Topic10\", \"Topic10\", \"Topic10\", \"Topic10\", \"Topic10\", \"Topic10\", \"Topic10\", \"Topic10\", \"Topic10\", \"Topic10\", \"Topic10\", \"Topic10\", \"Topic10\", \"Topic10\", \"Topic10\", \"Topic10\", \"Topic10\", \"Topic10\", \"Topic10\", \"Topic10\", \"Topic10\", \"Topic10\", \"Topic10\", \"Topic10\", \"Topic10\", \"Topic10\", \"Topic10\", \"Topic10\", \"Topic10\", \"Topic10\", \"Topic10\", \"Topic10\", \"Topic10\", \"Topic10\", \"Topic10\", \"Topic10\", \"Topic10\", \"Topic10\", \"Topic10\", \"Topic10\", \"Topic10\", \"Topic10\", \"Topic10\", \"Topic10\", \"Topic10\", \"Topic11\", \"Topic11\", \"Topic11\", \"Topic11\", \"Topic11\", \"Topic11\", \"Topic11\", \"Topic11\", \"Topic11\", \"Topic11\", \"Topic11\", \"Topic11\", \"Topic11\", \"Topic11\", \"Topic11\", \"Topic11\", \"Topic11\", \"Topic11\", \"Topic11\", \"Topic11\", \"Topic11\", \"Topic11\", \"Topic11\", \"Topic11\", \"Topic11\", \"Topic11\", \"Topic11\", \"Topic11\", \"Topic11\", \"Topic11\", \"Topic11\", \"Topic11\", \"Topic11\", \"Topic11\", \"Topic11\", \"Topic11\", \"Topic11\", \"Topic11\", \"Topic11\", \"Topic11\", \"Topic11\", \"Topic11\", \"Topic11\", \"Topic11\", \"Topic11\", \"Topic11\", \"Topic11\", \"Topic11\", \"Topic11\", \"Topic11\", \"Topic11\", \"Topic11\", \"Topic11\", \"Topic12\", \"Topic12\", \"Topic12\", \"Topic12\", \"Topic12\", \"Topic12\", \"Topic12\", \"Topic12\", \"Topic12\", \"Topic12\", \"Topic12\", \"Topic12\", \"Topic12\", \"Topic12\", \"Topic12\", \"Topic12\", \"Topic12\", \"Topic12\", \"Topic12\", \"Topic12\", \"Topic12\", \"Topic12\", \"Topic12\", \"Topic12\", \"Topic12\", \"Topic12\", \"Topic12\", \"Topic12\", \"Topic12\", \"Topic12\", \"Topic12\", \"Topic12\", \"Topic12\", \"Topic12\", \"Topic12\", \"Topic12\", \"Topic12\", \"Topic12\", \"Topic12\", \"Topic12\", \"Topic12\", \"Topic12\", \"Topic12\", \"Topic12\", \"Topic12\", \"Topic12\", \"Topic12\", \"Topic12\", \"Topic12\", \"Topic12\", \"Topic12\", \"Topic13\", \"Topic13\", \"Topic13\", \"Topic13\", \"Topic13\", \"Topic13\", \"Topic13\", \"Topic13\", \"Topic13\", \"Topic13\", \"Topic13\", \"Topic13\", \"Topic13\", \"Topic13\", \"Topic13\", \"Topic13\", \"Topic13\", \"Topic13\", \"Topic13\", \"Topic13\", \"Topic13\", \"Topic13\", \"Topic13\", \"Topic13\", \"Topic13\", \"Topic13\", \"Topic13\", \"Topic13\", \"Topic13\", \"Topic13\", \"Topic13\", \"Topic13\", \"Topic13\", \"Topic13\", \"Topic13\", \"Topic13\", \"Topic13\", \"Topic13\", \"Topic13\", \"Topic13\", \"Topic13\", \"Topic13\", \"Topic13\", \"Topic13\", \"Topic13\", \"Topic13\", \"Topic13\", \"Topic14\", \"Topic14\", \"Topic14\", \"Topic14\", \"Topic14\", \"Topic14\", \"Topic14\", \"Topic14\", \"Topic14\", \"Topic14\", \"Topic14\", \"Topic14\", \"Topic14\", \"Topic14\", \"Topic14\", \"Topic14\", \"Topic14\", \"Topic14\", \"Topic14\", \"Topic14\", \"Topic14\", \"Topic14\", \"Topic14\", \"Topic14\", \"Topic14\", \"Topic14\", \"Topic14\", \"Topic14\", \"Topic14\", \"Topic14\", \"Topic14\", \"Topic14\", \"Topic14\", \"Topic14\", \"Topic14\", \"Topic14\", \"Topic14\", \"Topic14\", \"Topic14\", \"Topic14\", \"Topic14\", \"Topic14\", \"Topic14\", \"Topic14\", \"Topic14\", \"Topic15\", \"Topic15\", \"Topic15\", \"Topic15\", \"Topic15\", \"Topic15\", \"Topic15\", \"Topic15\", \"Topic15\", \"Topic15\", \"Topic15\", \"Topic15\", \"Topic15\", \"Topic15\", \"Topic15\", \"Topic15\", \"Topic15\", \"Topic15\", \"Topic15\", \"Topic15\", \"Topic15\", \"Topic15\", \"Topic15\", \"Topic15\", \"Topic15\", \"Topic15\", \"Topic15\", \"Topic15\", \"Topic15\", \"Topic15\", \"Topic15\", \"Topic15\", \"Topic15\", \"Topic15\", \"Topic15\", \"Topic15\", \"Topic15\", \"Topic15\", \"Topic15\", \"Topic15\", \"Topic15\", \"Topic15\", \"Topic15\", \"Topic15\", \"Topic15\", \"Topic16\", \"Topic16\", \"Topic16\", \"Topic16\", \"Topic16\", \"Topic16\", \"Topic16\", \"Topic16\", \"Topic16\", \"Topic16\", \"Topic16\", \"Topic16\", \"Topic16\", \"Topic16\", \"Topic16\", \"Topic16\", \"Topic16\", \"Topic16\", \"Topic16\", \"Topic16\", \"Topic16\", \"Topic16\", \"Topic16\", \"Topic16\", \"Topic16\", \"Topic16\", \"Topic16\", \"Topic16\", \"Topic16\", \"Topic16\", \"Topic16\", \"Topic16\", \"Topic16\", \"Topic16\", \"Topic16\", \"Topic16\", \"Topic16\", \"Topic16\", \"Topic16\", \"Topic16\", \"Topic16\", \"Topic17\", \"Topic17\", \"Topic17\", \"Topic17\", \"Topic17\", \"Topic17\", \"Topic17\", \"Topic17\", \"Topic17\", \"Topic17\", \"Topic17\", \"Topic17\", \"Topic17\", \"Topic17\", \"Topic17\", \"Topic17\", \"Topic17\", \"Topic17\", \"Topic17\", \"Topic17\", \"Topic17\", \"Topic17\", \"Topic17\", \"Topic17\", \"Topic17\", \"Topic17\", \"Topic17\", \"Topic17\", \"Topic17\", \"Topic17\", \"Topic17\", \"Topic17\", \"Topic17\", \"Topic17\", \"Topic17\", \"Topic17\", \"Topic17\", \"Topic17\", \"Topic17\", \"Topic17\", \"Topic17\", \"Topic18\", \"Topic18\", \"Topic18\", \"Topic18\", \"Topic18\", \"Topic18\", \"Topic18\", \"Topic18\", \"Topic18\", \"Topic18\", \"Topic18\", \"Topic18\", \"Topic18\", \"Topic18\", \"Topic18\", \"Topic18\", \"Topic18\", \"Topic18\", \"Topic18\", \"Topic18\", \"Topic18\", \"Topic18\", \"Topic18\", \"Topic18\", \"Topic18\", \"Topic18\", \"Topic18\", \"Topic18\", \"Topic18\", \"Topic18\", \"Topic18\", \"Topic18\", \"Topic18\", \"Topic18\", \"Topic18\", \"Topic18\", \"Topic18\", \"Topic18\", \"Topic18\", \"Topic18\", \"Topic19\", \"Topic19\", \"Topic19\", \"Topic19\", \"Topic19\", \"Topic19\", \"Topic19\", \"Topic19\", \"Topic19\", \"Topic19\", \"Topic19\", \"Topic19\", \"Topic19\", \"Topic19\", \"Topic19\", \"Topic19\", \"Topic19\", \"Topic19\", \"Topic19\", \"Topic19\", \"Topic19\", \"Topic19\", \"Topic19\", \"Topic19\", \"Topic19\", \"Topic19\", \"Topic19\", \"Topic19\", \"Topic19\", \"Topic19\", \"Topic19\", \"Topic19\", \"Topic19\", \"Topic19\", \"Topic19\", \"Topic19\", \"Topic20\", \"Topic20\", \"Topic20\", \"Topic20\", \"Topic20\", \"Topic20\", \"Topic20\", \"Topic20\", \"Topic20\", \"Topic20\", \"Topic20\", \"Topic20\", \"Topic20\", \"Topic20\", \"Topic20\", \"Topic20\", \"Topic20\", \"Topic20\", \"Topic20\", \"Topic20\", \"Topic20\", \"Topic20\", \"Topic20\", \"Topic20\", \"Topic20\", \"Topic20\", \"Topic20\", \"Topic20\", \"Topic20\", \"Topic20\", \"Topic20\", \"Topic20\", \"Topic20\", \"Topic20\", \"Topic20\", \"Topic20\", \"Topic20\", \"Topic20\"], \"logprob\": [30.0, 29.0, 28.0, 27.0, 26.0, 25.0, 24.0, 23.0, 22.0, 21.0, 20.0, 19.0, 18.0, 17.0, 16.0, 15.0, 14.0, 13.0, 12.0, 11.0, 10.0, 9.0, 8.0, 7.0, 6.0, 5.0, 4.0, 3.0, 2.0, 1.0, -4.439700126647949, -5.0081000328063965, -5.376200199127197, -4.351200103759766, -5.7108001708984375, -5.902200222015381, -5.937099933624268, -6.095099925994873, -5.830599784851074, -6.128200054168701, -6.167799949645996, -6.20419979095459, -6.206999778747559, -4.660299777984619, -6.221199989318848, -6.2256999015808105, -6.372900009155273, -6.375999927520752, -6.383600234985352, -6.400599956512451, -6.444200038909912, -6.4552998542785645, -6.465700149536133, -6.521900177001953, -6.546999931335449, -6.552599906921387, -6.553500175476074, -6.597099781036377, -6.613399982452393, -6.496200084686279, -5.251399993896484, -4.933199882507324, -5.060299873352051, -5.656199932098389, -4.656400203704834, -6.053800106048584, -6.218699932098389, -5.581600189208984, -3.550299882888794, -3.937999963760376, -4.878900051116943, -5.914100170135498, -4.85129976272583, -5.420499801635742, -4.662099838256836, -4.708700180053711, -4.571800231933594, -5.357900142669678, -5.019999980926514, -5.253200054168701, -4.445899963378906, -4.424300193786621, -5.619800090789795, -4.372000217437744, -4.424900054931641, -4.669000148773193, -4.535399913787842, -4.298999786376953, -4.769400119781494, -4.657199859619141, -4.857600212097168, -4.946599960327148, -4.983500003814697, -4.250400066375732, -4.432199954986572, -4.585400104522705, -5.027100086212158, -4.685200214385986, -5.225900173187256, -5.3933000564575195, -5.436200141906738, -5.524700164794922, -4.825300216674805, -5.565499782562256, -5.592599868774414, -5.644400119781494, -5.693900108337402, -5.70389986038208, -5.712399959564209, -5.715099811553955, -5.468200206756592, -5.835299968719482, -5.894499778747559, -5.931000232696533, -5.986299991607666, -6.02370023727417, -6.026899814605713, -6.068399906158447, -6.120100021362305, -6.1244001388549805, -6.136199951171875, -6.141499996185303, -6.148499965667725, -6.172699928283691, -6.19350004196167, -6.223100185394287, -6.242700099945068, -6.0954999923706055, -4.952700138092041, -5.163599967956543, -4.000800132751465, -4.282800197601318, -4.6570000648498535, -5.282299995422363, -4.11959981918335, -4.186999797821045, -4.699999809265137, -5.288000106811523, -3.6208999156951904, -4.905900001525879, -4.21589994430542, -4.531799793243408, -4.857900142669678, -5.0, -4.962900161743164, -4.2241997718811035, -4.535399913787842, -4.9618000984191895, -3.959700107574463, -4.0467000007629395, -5.062900066375732, -4.7631001472473145, -4.711100101470947, -4.58050012588501, -4.713900089263916, -4.880499839782715, -4.890200138092041, -4.9791998863220215, -4.787499904632568, -4.804299831390381, -4.628600120544434, -4.797800064086914, -4.962299823760986, -5.009200096130371, -5.092899799346924, -5.099599838256836, -5.333000183105469, -5.357800006866455, -5.372700214385986, -5.389400005340576, -5.426000118255615, -5.456399917602539, -5.5278000831604, -5.642600059509277, -5.807000160217285, -5.813199996948242, -5.9492998123168945, -5.985099792480469, -6.078100204467773, -6.215099811553955, -6.31220006942749, -6.166999816894531, -6.31790018081665, -6.369200229644775, -6.546999931335449, -6.586999893188477, -6.6656999588012695, -6.700699806213379, -6.945899963378906, -6.987500190734863, -5.317500114440918, -5.90369987487793, -4.68149995803833, -4.970699787139893, -5.803500175476074, -5.17080020904541, -4.844399929046631, -5.061500072479248, -4.205699920654297, -4.786900043487549, -5.169099807739258, -3.2767999172210693, -4.691400051116943, -4.865799903869629, -4.548500061035156, -4.785299777984619, -4.723499774932861, -3.7943999767303467, -3.5408999919891357, -4.03439998626709, -4.410900115966797, -4.151299953460693, -4.3607001304626465, -3.9677999019622803, -4.194300174713135, -4.268700122833252, -4.639400005340576, -4.762700080871582, -3.839600086212158, -4.76170015335083, -4.716100215911865, -4.819699764251709, -4.71589994430542, -4.870500087738037, -4.941800117492676, -4.933800220489502, -3.4105000495910645, -3.536900043487549, -4.269000053405762, -4.336299896240234, -4.369100093841553, -4.39109992980957, -4.556000232696533, -4.651599884033203, -4.8379998207092285, -4.9334001541137695, -5.026700019836426, -5.107900142669678, -5.228899955749512, -5.239999771118164, -5.551700115203857, -5.600900173187256, -5.601900100708008, -5.616499900817871, -5.646599769592285, -5.670499801635742, -5.700300216674805, -5.7677001953125, -5.171299934387207, -5.844200134277344, -5.886000156402588, -5.993000030517578, -6.010000228881836, -6.037799835205078, -6.052800178527832, -6.117700099945068, -4.863500118255615, -4.836100101470947, -3.939300060272217, -3.936500072479248, -4.688300132751465, -3.980299949645996, -3.219399929046631, -4.653299808502197, -5.130799770355225, -3.8422000408172607, -4.539400100708008, -3.9486000537872314, -4.264999866485596, -3.891400098800659, -4.415900230407715, -4.592800140380859, -4.621500015258789, -4.596399784088135, -4.723899841308594, -4.792099952697754, -4.514200210571289, -4.661499977111816, -4.750699996948242, -4.788599967956543, -4.7957000732421875, -4.180300235748291, -4.221099853515625, -4.338699817657471, -4.428299903869629, -4.836599826812744, -5.024199962615967, -5.036200046539307, -5.158899784088135, -5.160900115966797, -5.171599864959717, -5.173799991607666, -5.39139986038208, -5.3979997634887695, -5.419000148773193, -5.430600166320801, -5.499800205230713, -5.532299995422363, -5.546999931335449, -5.553999900817871, -5.567299842834473, -5.605999946594238, -5.611000061035156, -5.616199970245361, -5.719900131225586, -5.68720006942749, -5.747799873352051, -5.7515997886657715, -5.757699966430664, -5.826200008392334, -5.842199802398682, -5.774799823760986, -4.311999797821045, -4.575300216674805, -5.392300128936768, -5.5040998458862305, -4.928400039672852, -4.665500164031982, -4.678100109100342, -4.212699890136719, -5.193399906158447, -4.758999824523926, -4.860000133514404, -3.742799997329712, -4.6697001457214355, -4.991300106048584, -4.905399799346924, -3.391900062561035, -4.08620023727417, -4.0100998878479, -4.995999813079834, -4.496600151062012, -5.055300235748291, -4.739699840545654, -5.041999816894531, -4.835400104522705, -4.86359977722168, -4.832300186157227, -5.046500205993652, -4.821899890899658, -4.8734002113342285, -4.9583001136779785, -4.950500011444092, -4.991600036621094, -3.7363998889923096, -4.021399974822998, -4.641300201416016, -4.681300163269043, -4.845200061798096, -4.892499923706055, -5.032100200653076, -5.105899810791016, -5.064199924468994, -5.275000095367432, -5.5370001792907715, -5.606400012969971, -5.69890022277832, -5.767300128936768, -5.795199871063232, -5.802299976348877, -5.875500202178955, -5.889999866485596, -6.010300159454346, -6.043099880218506, -6.327600002288818, -6.406799793243408, -6.407800197601318, -6.442200183868408, -6.483500003814697, -6.623000144958496, -6.664400100708008, -6.937600135803223, -6.996399879455566, -7.402400016784668, -4.857999801635742, -3.430000066757202, -4.39139986038208, -3.8039000034332275, -3.9621999263763428, -3.778599977493286, -4.834700107574463, -4.73769998550415, -4.888000011444092, -3.507200002670288, -3.3199000358581543, -3.2520999908447266, -4.019199848175049, -4.220699787139893, -4.061600208282471, -4.343100070953369, -4.733799934387207, -4.411099910736084, -3.157099962234497, -4.374499797821045, -4.214200019836426, -4.422599792480469, -4.442200183868408, -4.632800102233887, -4.768199920654297, -4.556399822235107, -4.730199813842773, -4.832099914550781, -4.833899974822998, -2.5085999965667725, -3.0799999237060547, -3.4258999824523926, -3.872299909591675, -4.097499847412109, -4.203000068664551, -4.539100170135498, -4.628499984741211, -4.668499946594238, -4.676000118255615, -4.898099899291992, -4.945499897003174, -5.078400135040283, -5.100200176239014, -5.119699954986572, -5.130099773406982, -5.222799777984619, -5.29580020904541, -5.347899913787842, -5.397200107574463, -5.412499904632568, -5.488399982452393, -5.640600204467773, -5.691699981689453, -5.704800128936768, -5.714900016784668, -5.743199825286865, -5.789400100708008, -5.843999862670898, -5.960100173950195, -4.439899921417236, -4.404900074005127, -3.7769999504089355, -5.151800155639648, -4.22760009765625, -3.3250999450683594, -4.703999996185303, -4.765999794006348, -3.539900064468384, -3.7332000732421875, -3.5009000301361084, -5.09660005569458, -4.663599967956543, -4.4653000831604, -4.462500095367432, -4.352799892425537, -4.3703999519348145, -4.72629976272583, -3.734600067138672, -4.104599952697754, -4.69980001449585, -4.823200225830078, -4.698500156402588, -4.701499938964844, -3.726799964904785, -3.7344000339508057, -4.058499813079834, -4.174799919128418, -4.216800212860107, -4.235000133514404, -4.26800012588501, -4.383399963378906, -4.448699951171875, -4.628200054168701, -4.65500020980835, -4.679999828338623, -4.704899787902832, -4.812699794769287, -4.946400165557861, -4.971199989318848, -4.973899841308594, -4.990300178527832, -5.187600135803223, -5.205699920654297, -5.245299816131592, -5.261499881744385, -5.276599884033203, -5.291999816894531, -5.364799976348877, -5.424200057983398, -5.507599830627441, -5.559599876403809, -5.563499927520752, -5.621099948883057, -4.2677998542785645, -4.030399799346924, -4.696899890899658, -3.0120999813079834, -4.084499835968018, -3.8250999450683594, -4.49370002746582, -4.929299831390381, -4.511099815368652, -3.374500036239624, -4.514699935913086, -4.844200134277344, -4.531199932098389, -4.302299976348877, -4.613500118255615, -4.547999858856201, -4.510000228881836, -4.274099826812744, -4.387400150299072, -2.7869999408721924, -3.8359999656677246, -3.8926000595092773, -3.9072000980377197, -4.190100193023682, -4.246300220489502, -4.652500152587891, -4.686500072479248, -4.848499774932861, -5.012800216674805, -5.047500133514404, -5.094900131225586, -5.229800224304199, -5.238699913024902, -5.413099765777588, -5.554100036621094, -5.642300128936768, -5.699100017547607, -5.730100154876709, -5.745200157165527, -5.798799991607666, -5.818399906158447, -5.840199947357178, -5.902900218963623, -6.015900135040283, -6.024799823760986, -6.217599868774414, -6.2368998527526855, -6.282100200653076, -6.348199844360352, -2.299499988555908, -4.512199878692627, -3.160399913787842, -4.873899936676025, -4.093699932098389, -4.645299911499023, -3.9756999015808105, -3.6252999305725098, -4.59089994430542, -4.304599761962891, -4.41540002822876, -3.1298999786376953, -5.139200210571289, -4.269100189208984, -4.538099765777588, -4.377500057220459, -4.4730000495910645, -4.294300079345703, -4.417600154876709, -4.537700176239014, -4.207399845123291, -4.274099826812744, -4.6722002029418945, -4.409299850463867, -2.2862000465393066, -3.6586999893188477, -3.6777000427246094, -4.1992998123168945, -4.299900054931641, -4.3607001304626465, -4.426700115203857, -4.477099895477295, -4.482500076293945, -4.537099838256836, -4.697400093078613, -4.761000156402588, -4.775400161743164, -4.899899959564209, -4.912399768829346, -5.0005998611450195, -5.070199966430664, -5.172500133514404, -5.29010009765625, -5.31850004196167, -5.403900146484375, -5.489200115203857, -5.570400238037109, -5.769999980926514, -5.834400177001953, -5.922299861907959, -5.985599994659424, -6.009300231933594, -6.031499862670898, -6.106500148773193, -2.6663999557495117, -3.5074000358581543, -4.007400035858154, -3.751300096511841, -4.627399921417236, -3.599900007247925, -4.727499961853027, -2.482300043106079, -4.506999969482422, -3.5520999431610107, -4.691199779510498, -4.050899982452393, -4.113699913024902, -4.048600196838379, -4.538300037384033, -4.568399906158447, -4.6153998374938965, -4.31220006942749, -4.661799907684326, -3.289400100708008, -3.917799949645996, -4.085400104522705, -4.1092000007629395, -4.2428998947143555, -4.40910005569458, -4.687099933624268, -4.746300220489502, -4.8958001136779785, -4.981800079345703, -5.047100067138672, -5.184299945831299, -5.199699878692627, -5.248199939727783, -5.252099990844727, -5.267899990081787, -5.315700054168701, -5.398499965667725, -5.571800231933594, -5.581399917602539, -5.6269001960754395, -5.665200233459473, -5.668099880218506, -5.177800178527832, -3.9430999755859375, -5.879799842834473, -6.041399955749512, -6.0594000816345215, -6.088200092315674, -6.138899803161621, -2.6489999294281006, -4.878399848937988, -2.6082000732421875, -4.502099990844727, -3.383699893951416, -4.713200092315674, -3.082200050354004, -4.67579984664917, -4.581600189208984, -4.286799907684326, -3.723400115966797, -4.220799922943115, -4.148200035095215, -4.576099872589111, -4.428899765014648, -4.656300067901611, -4.825300216674805, -4.598299980163574, -4.623499870300293, -4.570899963378906, -4.699399948120117, -4.766300201416016, -4.742700099945068, -2.1428000926971436, -3.146199941635132, -3.404900074005127, -4.085400104522705, -4.365900039672852, -4.6107001304626465, -4.658299922943115, -4.698500156402588, -4.7418999671936035, -4.748799800872803, -5.0447001457214355, -5.075200080871582, -5.176700115203857, -5.201300144195557, -5.249899864196777, -5.267099857330322, -5.35860013961792, -5.408199787139893, -5.418399810791016, -5.418600082397461, -5.420499801635742, -5.462200164794922, -5.487299919128418, -5.495100021362305, -5.598700046539307, -5.628200054168701, -5.6427001953125, -5.650899887084961, -5.685999870300293, -5.86460018157959, -3.8961000442504883, -4.7108001708984375, -2.835700035095215, -4.122600078582764, -3.5195999145507812, -5.040999889373779, -4.783599853515625, -3.310699939727783, -4.447299957275391, -4.44890022277832, -4.303400039672852, -3.697700023651123, -4.316199779510498, -4.654699802398682, -4.417900085449219, -4.178100109100342, -3.8132998943328857, -4.663099765777588, -4.854000091552734, -4.7393999099731445, -4.401599884033203, -3.2084999084472656, -3.726099967956543, -4.081299781799316, -4.098800182342529, -4.132800102233887, -4.189000129699707, -4.24399995803833, -4.411600112915039, -4.440400123596191, -4.476500034332275, -4.551000118255615, -4.630499839782715, -4.641499996185303, -4.72599983215332, -4.760000228881836, -4.783999919891357, -4.839799880981445, -4.851200103759766, -4.896200180053711, -4.914299964904785, -4.930799961090088, -5.004499912261963, -5.044099807739258, -5.05079984664917, -5.080599784851074, -5.194399833679199, -5.2677001953125, -5.294600009918213, -5.321400165557861, -5.523600101470947, -3.5982000827789307, -4.082399845123291, -4.476399898529053, -2.728600025177002, -3.2079999446868896, -3.9616000652313232, -3.4646999835968018, -4.071000099182129, -4.599299907684326, -4.268700122833252, -4.289700031280518, -4.690999984741211, -4.677700042724609, -4.005899906158447, -4.339000225067139, -4.376200199127197, -4.495699882507324, -2.308500051498413, -3.234299898147583, -3.302299976348877, -3.7372000217437744, -3.820499897003174, -3.838099956512451, -4.021900177001953, -4.0879998207092285, -4.091899871826172, -4.2895002365112305, -4.477499961853027, -4.621399879455566, -4.72189998626709, -4.723899841308594, -4.725800037384033, -4.753600120544434, -4.76639986038208, -4.795000076293945, -4.927700042724609, -4.953700065612793, -4.949100017547607, -5.106100082397461, -5.159200191497803, -5.202099800109863, -5.29010009765625, -5.291200160980225, -5.299699783325195, -5.309999942779541, -5.537799835205078, -5.582900047302246, -3.6542999744415283, -3.1261000633239746, -4.662499904632568, -4.267199993133545, -3.0285000801086426, -4.159200191497803, -3.791800022125244, -4.264999866485596, -4.161499977111816, -4.53000020980835, -4.423999786376953, -4.532199859619141, -4.513599872589111, -4.544600009918213, -4.688399791717529, -2.697200059890747, -3.0673000812530518, -3.20770001411438, -3.347399950027466, -3.6963999271392822, -3.7629001140594482, -4.222799777984619, -4.286099910736084, -4.293900012969971, -4.320099830627441, -4.348199844360352, -4.35099983215332, -4.396399974822998, -4.4394001960754395, -4.469600200653076, -4.624899864196777, -4.678500175476074, -4.696499824523926, -4.697299957275391, -4.8059000968933105, -4.85230016708374, -5.076300144195557, -5.0991997718811035, -5.112500190734863, -5.147799968719482, -5.156899929046631, -5.219799995422363, -5.2600998878479, -5.26170015335083, -5.406000137329102, -3.170599937438965, -2.8859000205993652, -4.512400150299072, -3.665800094604492, -4.346399784088135, -3.8935999870300293, -3.8422000408172607, -3.461699962615967, -3.9621999263763428, -4.33459997177124, -4.28849983215332, -4.2459001541137695, -4.239099979400635, -4.51609992980957, -4.60290002822876, -2.418600082397461, -2.590100049972534, -2.9779000282287598, -3.1814000606536865, -3.3429999351501465, -3.463200092315674, -3.790299892425537, -3.855600118637085, -3.859100103378296, -3.950500011444092, -3.9944000244140625, -4.109600067138672, -4.13670015335083, -4.242400169372559, -4.248700141906738, -4.289999961853027, -4.30079984664917, -4.42710018157959, -4.50029993057251, -4.6768999099731445, -4.682600021362305, -4.697299957275391, -4.825900077819824, -5.206500053405762, -5.405900001525879, -5.493800163269043, -5.503200054168701, -5.584199905395508, -5.889400005340576, -6.563600063323975, -4.098599910736084, -3.1619999408721924, -2.870300054550171, -4.584199905395508, -4.029699802398682, -4.6722002029418945, -4.498899936676025, -4.423699855804443, -4.353700160980225, -4.5005998611450195, -4.609099864959717, -2.5362000465393066, -3.0344998836517334, -3.4319000244140625, -3.5148000717163086, -3.6868999004364014, -3.6977999210357666, -3.797800064086914, -3.8141000270843506, -3.911900043487549, -3.914799928665161, -4.0472002029418945, -4.0524001121521, -4.05679988861084, -4.130499839782715, -4.143700122833252, -4.205599784851074, -4.207799911499023, -4.217199802398682, -4.3125, -4.577899932861328, -4.602700233459473, -4.650599956512451, -4.679900169372559, -4.70959997177124, -4.803800106048584, -4.846799850463867, -4.85260009765625, -4.864099979400635, -4.9608001708984375, -5.013599872589111, -3.9237000942230225, -2.911900043487549, -4.0117998123168945, -4.174699783325195, -4.055200099945068, -4.200500011444092, -3.8826000690460205, -3.981800079345703, -4.394100189208984, -4.374599933624268, -4.3597002029418945, -2.8464999198913574, -3.1535000801086426, -3.2035999298095703, -3.3891000747680664, -3.5151000022888184, -3.854599952697754, -3.8629000186920166, -3.914599895477295, -3.953000068664551, -3.9565000534057617, -4.0106000900268555, -4.0493998527526855, -4.073500156402588, -4.0970001220703125, -4.306000232696533, -4.447400093078613, -4.470099925994873, -4.489699840545654, -4.642399787902832, -4.686200141906738, -4.704999923706055, -4.758600234985352, -4.793399810791016, -4.899400234222412, -4.976900100708008, -5.030900001525879, -5.033400058746338, -5.079999923706055, -5.111599922180176, -5.2600998878479, -3.4565000534057617, -2.3929998874664307, -3.690200090408325, -3.602400064468384, -3.6340999603271484, -4.503799915313721, -4.224999904632568, -3.996999979019165, -4.55679988861084, -4.671800136566162, -2.570199966430664, -2.7630999088287354, -2.793600082397461, -2.94569993019104, -3.2112998962402344, -3.3145999908447266, -3.426300048828125, -3.565500020980835, -3.663599967956543, -3.678299903869629, -3.879300117492676, -3.941800117492676, -4.1097002029418945, -4.155200004577637, -4.313799858093262, -4.429900169372559, -4.452600002288818, -4.616300106048584, -4.729300022125244, -4.745999813079834, -4.772600173950195, -4.852399826049805, -4.877299785614014, -4.943399906158447, -4.955100059509277, -5.195799827575684, -5.336599826812744, -5.345399856567383, -5.362500190734863, -5.404200077056885, -1.5743999481201172, -4.622399806976318, -4.403900146484375, -4.837200164794922, -4.761499881744385, -4.867499828338623, -2.5678999423980713, -2.7804999351501465, -2.9344000816345215, -3.057499885559082, -3.0838000774383545, -3.093899965286255, -3.2720999717712402, -3.4105000495910645, -3.5968000888824463, -3.67330002784729, -3.7428998947143555, -4.0218000411987305, -4.026800155639648, -4.1875, -4.250199794769287, -4.353899955749512, -4.570499897003174, -4.620800018310547, -4.639599800109863, -4.66540002822876, -4.682799816131592, -4.748499870300293, -4.793399810791016, -3.293299913406372, -5.028900146484375, -5.042500019073486, -5.105500221252441, -5.186699867248535, -5.235799789428711, -5.236000061035156, -3.822200059890747, -3.2585999965667725, -4.160699844360352, -3.5676000118255615, -4.5177001953125, -4.419899940490723, -4.399799823760986, -4.591899871826172], \"loglift\": [30.0, 29.0, 28.0, 27.0, 26.0, 25.0, 24.0, 23.0, 22.0, 21.0, 20.0, 19.0, 18.0, 17.0, 16.0, 15.0, 14.0, 13.0, 12.0, 11.0, 10.0, 9.0, 8.0, 7.0, 6.0, 5.0, 4.0, 3.0, 2.0, 1.0, 1.4334, 1.433, 1.4325, 1.4324, 1.4319, 1.4315, 1.4314, 1.431, 1.4309, 1.4309, 1.4307, 1.4306, 1.4306, 1.4306, 1.4306, 1.4305, 1.43, 1.43, 1.4299, 1.4299, 1.4297, 1.4296, 1.4296, 1.4293, 1.4292, 1.4292, 1.4292, 1.429, 1.4289, 1.4289, 1.3996, 1.3882, 1.3854, 1.4007, 1.3574, 1.4105, 1.4157, 1.3633, 1.2071, 1.1888, 1.2338, 1.3531, 1.1626, 1.2148, 1.0246, 1.0219, 0.9368, 1.1709, 1.0563, 1.1273, 0.8174, 0.758, 1.2372, 0.7016, 0.7036, 0.7705, 0.6893, 0.5041, 0.7906, 0.6023, 0.7077, 0.7821, 0.8147, 0.0767, 0.0215, -0.0554, 0.6631, 2.2384, 2.2372, 2.2367, 2.2366, 2.2362, 2.2361, 2.2361, 2.236, 2.2357, 2.2355, 2.2355, 2.2354, 2.2354, 2.2353, 2.2348, 2.2345, 2.2343, 2.2339, 2.2337, 2.2337, 2.2334, 2.2331, 2.233, 2.233, 2.2329, 2.2329, 2.2327, 2.2325, 2.2323, 2.2321, 2.2274, 2.1458, 2.1513, 2.0234, 1.9902, 2.0122, 2.061, 1.8183, 1.7661, 1.8898, 2.0261, 1.5324, 1.8425, 1.5826, 1.6765, 1.7837, 1.7434, 1.6563, 0.9284, 1.2037, 1.5377, 0.3674, 0.407, 1.5886, 1.1536, 0.9879, 0.6947, 0.9351, 1.2155, 1.0641, 1.1412, 0.0157, -0.2743, 2.6147, 2.6143, 2.6138, 2.6136, 2.6133, 2.6133, 2.6124, 2.6122, 2.6122, 2.6121, 2.6119, 2.6117, 2.6114, 2.6107, 2.6096, 2.6095, 2.6084, 2.6081, 2.6073, 2.6058, 2.6047, 2.6046, 2.6046, 2.604, 2.6015, 2.6009, 2.5995, 2.5989, 2.594, 2.593, 2.5929, 2.5785, 2.5146, 2.4961, 2.5452, 2.4729, 2.4177, 2.3713, 2.1932, 2.2749, 2.3553, 1.6945, 2.1318, 2.1668, 1.9541, 2.0463, 2.0147, 1.4688, 1.2623, 1.5199, 1.785, 1.4976, 1.6634, 1.2916, 1.4285, 1.4303, 1.6748, 1.8333, 0.4875, 1.8028, 1.403, 1.6673, 0.4367, 1.5105, 1.9834, 1.4317, 2.623, 2.6229, 2.6221, 2.622, 2.6219, 2.6219, 2.6215, 2.6213, 2.6208, 2.6205, 2.6201, 2.6198, 2.6195, 2.6194, 2.6179, 2.6176, 2.6176, 2.6175, 2.6173, 2.6171, 2.6169, 2.6165, 2.6161, 2.6159, 2.6155, 2.6146, 2.6145, 2.6142, 2.6141, 2.6134, 2.5987, 2.5869, 2.3059, 2.2726, 2.3704, 2.1801, 1.8543, 2.264, 2.4057, 1.8865, 2.1258, 1.8497, 1.9886, 1.6686, 1.7814, 1.8924, 1.7867, 1.5749, 1.4558, 1.5666, 0.457, 0.0959, -0.2971, 0.72, 0.8613, 2.768, 2.768, 2.7678, 2.7675, 2.7665, 2.7658, 2.7657, 2.7652, 2.7652, 2.7651, 2.7651, 2.764, 2.764, 2.7639, 2.7638, 2.7634, 2.7631, 2.763, 2.763, 2.7629, 2.7626, 2.7626, 2.7626, 2.7618, 2.7618, 2.7616, 2.7615, 2.7615, 2.7609, 2.7608, 2.7606, 2.718, 2.7085, 2.7356, 2.7242, 2.6045, 2.5482, 2.5262, 2.3465, 2.606, 2.3653, 2.3319, 1.5323, 2.1669, 2.3223, 2.2513, 0.9353, 1.0671, 0.9612, 2.1166, 1.2731, 2.1398, 1.4686, 2.1101, 1.3036, 1.3715, 1.0843, 2.1062, 0.3604, 0.7494, 1.1284, -0.1474, 0.1609, 2.815, 2.8147, 2.8133, 2.8132, 2.8127, 2.8125, 2.812, 2.8116, 2.8114, 2.8108, 2.8092, 2.8087, 2.808, 2.8074, 2.8071, 2.8071, 2.8064, 2.8062, 2.805, 2.8046, 2.8008, 2.7996, 2.7995, 2.799, 2.7982, 2.7956, 2.7947, 2.7881, 2.7864, 2.7718, 2.7394, 2.6183, 2.6512, 2.46, 2.4401, 2.3914, 2.5105, 2.4868, 2.4819, 2.0581, 1.9048, 1.8764, 2.1012, 2.1673, 2.0609, 2.1553, 2.28, 2.0884, 1.2965, 1.9458, 1.7401, 1.9151, 1.682, 1.9865, 2.1918, 1.3816, 1.793, 2.0312, 2.151, 2.8564, 2.8561, 2.8559, 2.8554, 2.855, 2.8548, 2.8541, 2.8538, 2.8537, 2.8537, 2.8529, 2.8527, 2.8521, 2.852, 2.852, 2.8519, 2.8514, 2.851, 2.8507, 2.8504, 2.8503, 2.8498, 2.8487, 2.8483, 2.8482, 2.8481, 2.8478, 2.8474, 2.8469, 2.8457, 2.8436, 2.8408, 2.7871, 2.812, 2.7294, 2.5058, 2.689, 2.6778, 2.4049, 2.4465, 2.2592, 2.7359, 2.4482, 2.3146, 2.2501, 2.1529, 2.1281, 2.2921, 0.7191, 1.0486, 1.9736, 2.3497, 1.3085, 0.4252, 3.0339, 3.0339, 3.0333, 3.0331, 3.033, 3.0329, 3.0328, 3.0325, 3.0324, 3.0318, 3.0317, 3.0316, 3.0315, 3.0311, 3.0305, 3.0303, 3.0303, 3.0302, 3.0291, 3.029, 3.0288, 3.0287, 3.0286, 3.0285, 3.0279, 3.0275, 3.0268, 3.0264, 3.0263, 3.0258, 2.889, 2.8368, 2.9038, 2.4756, 2.6197, 2.5127, 2.5254, 2.7743, 2.4314, 1.1555, 2.2365, 2.6156, 2.1994, 1.6381, 2.0281, 1.6492, 1.2521, 0.053, 0.0663, 3.14, 3.1388, 3.1387, 3.1387, 3.1381, 3.1379, 3.1366, 3.1365, 3.1357, 3.1349, 3.1347, 3.1344, 3.1335, 3.1334, 3.1321, 3.1308, 3.1299, 3.1293, 3.1289, 3.1288, 3.1281, 3.1279, 3.1276, 3.1268, 3.1251, 3.125, 3.1217, 3.1213, 3.1205, 3.1191, 3.1027, 3.105, 2.9707, 2.945, 2.7051, 2.7734, 2.3466, 2.0648, 2.4022, 2.2148, 2.1887, 1.1972, 2.6465, 1.8501, 2.0599, 1.727, 1.7264, 1.4448, 1.5894, 1.809, 0.9452, 0.9082, 2.0203, 0.562, 3.2714, 3.2701, 3.2701, 3.2689, 3.2686, 3.2684, 3.2682, 3.268, 3.268, 3.2678, 3.2671, 3.2668, 3.2667, 3.266, 3.2659, 3.2654, 3.265, 3.2642, 3.2633, 3.263, 3.2623, 3.2614, 3.2605, 3.2581, 3.2572, 3.2558, 3.2548, 3.2544, 3.254, 3.2527, 3.173, 3.1005, 3.0882, 3.0179, 3.0565, 2.837, 3.035, 2.0476, 2.8069, 2.2175, 2.8613, 2.2144, 2.2197, 1.9056, 2.5031, 2.543, 2.0279, 0.1415, 1.4145, 3.3374, 3.3363, 3.3359, 3.3358, 3.3354, 3.3348, 3.3336, 3.3333, 3.3324, 3.3319, 3.3314, 3.3304, 3.3303, 3.3298, 3.3298, 3.3297, 3.3292, 3.3284, 3.3265, 3.3264, 3.3258, 3.3253, 3.3253, 3.3246, 3.3234, 3.3222, 3.3193, 3.319, 3.3184, 3.3174, 3.2984, 3.2814, 3.154, 3.1967, 2.8509, 3.0766, 2.594, 3.0358, 2.949, 2.5418, 1.7851, 2.1873, 2.0457, 2.473, 2.253, 2.3842, 2.6255, 1.7569, 1.7645, 1.1892, 1.3768, 1.877, 0.7449, 3.548, 3.5472, 3.5468, 3.5451, 3.544, 3.5428, 3.5425, 3.5423, 3.542, 3.542, 3.5397, 3.5394, 3.5385, 3.5382, 3.5377, 3.5375, 3.5365, 3.5359, 3.5357, 3.5357, 3.5357, 3.5352, 3.5348, 3.5347, 3.5332, 3.5328, 3.5325, 3.5324, 3.5318, 3.5286, 3.4557, 3.4694, 3.2688, 3.2558, 2.8951, 3.3501, 3.1899, 2.376, 2.9125, 2.8229, 2.2035, 1.2735, 2.0424, 2.4936, 1.9631, 1.4789, 0.7167, 2.1646, 2.648, 2.1619, -0.0744, 3.5898, 3.5888, 3.5877, 3.5877, 3.5875, 3.5873, 3.5871, 3.5863, 3.5862, 3.586, 3.5856, 3.5852, 3.5851, 3.5845, 3.5843, 3.5841, 3.5837, 3.5837, 3.5833, 3.5832, 3.583, 3.5823, 3.5821, 3.582, 3.5817, 3.5806, 3.5798, 3.5794, 3.5791, 3.5764, 3.4877, 3.4664, 3.4768, 3.2118, 2.9162, 3.1178, 2.6313, 2.8604, 3.2279, 2.9086, 2.8587, 3.2299, 3.1813, 1.5484, 2.3136, 1.9998, 2.3663, 3.6642, 3.6632, 3.6631, 3.6622, 3.6619, 3.6619, 3.6613, 3.661, 3.661, 3.6602, 3.6592, 3.6584, 3.6577, 3.6577, 3.6577, 3.6575, 3.6574, 3.6572, 3.6561, 3.6558, 3.6557, 3.6544, 3.6538, 3.6533, 3.6523, 3.6523, 3.6521, 3.652, 3.6488, 3.648, 3.5719, 3.1392, 3.2406, 2.7863, 1.5015, 2.4099, 1.9778, 2.4732, 2.0343, 2.3045, 1.7473, 2.0323, 1.5105, 1.2949, 1.0717, 4.0189, 4.0183, 4.0181, 4.0177, 4.0166, 4.0164, 4.0141, 4.0137, 4.0137, 4.0135, 4.0133, 4.0133, 4.0129, 4.0126, 4.0124, 4.0111, 4.0106, 4.0104, 4.0104, 4.0092, 4.0087, 4.0058, 4.0055, 4.0053, 4.0048, 4.0046, 4.0036, 4.0029, 4.0029, 4.0003, 3.7307, 3.6832, 3.8912, 3.7238, 3.6696, 3.3432, 3.2319, 2.9751, 2.7504, 2.9707, 2.8229, 2.413, 0.8876, 2.2145, 1.9165, 4.1386, 4.1384, 4.1378, 4.1373, 4.1369, 4.1365, 4.1353, 4.135, 4.135, 4.1345, 4.1343, 4.1336, 4.1334, 4.1327, 4.1327, 4.1324, 4.1323, 4.1313, 4.1306, 4.1289, 4.1288, 4.1286, 4.1271, 4.1213, 4.1173, 4.1153, 4.115, 4.113, 4.1036, 4.0699, 3.9709, 3.9102, 3.3833, 3.4866, 2.8862, 3.274, 2.5794, 2.3995, 2.0273, 2.2686, 2.64, 4.2378, 4.2369, 4.2358, 4.2355, 4.2347, 4.2347, 4.2342, 4.2341, 4.2336, 4.2336, 4.2328, 4.2327, 4.2327, 4.2322, 4.2321, 4.2317, 4.2317, 4.2316, 4.2308, 4.2283, 4.228, 4.2274, 4.2271, 4.2267, 4.2255, 4.2249, 4.2248, 4.2246, 4.2231, 4.2223, 3.9198, 3.5028, 3.8692, 3.4101, 3.2126, 3.2256, 1.8871, 2.1386, 3.2704, 3.1865, 2.8979, 4.3691, 4.3683, 4.3681, 4.3675, 4.367, 4.3652, 4.3652, 4.3649, 4.3646, 4.3646, 4.3642, 4.3639, 4.3637, 4.3636, 4.3618, 4.3603, 4.3601, 4.3599, 4.358, 4.3574, 4.3571, 4.3563, 4.3558, 4.3541, 4.3527, 4.3517, 4.3517, 4.3507, 4.3501, 4.3467, 4.3299, 3.9404, 3.7776, 3.608, 3.3811, 3.567, 2.9843, 2.3616, 3.0305, 3.087, 4.4503, 4.4499, 4.4499, 4.4495, 4.4487, 4.4483, 4.4478, 4.4472, 4.4467, 4.4466, 4.4454, 4.4449, 4.4436, 4.4432, 4.4417, 4.4404, 4.4401, 4.438, 4.4363, 4.4361, 4.4357, 4.4343, 4.4338, 4.4326, 4.4324, 4.4271, 4.4233, 4.4231, 4.4226, 4.4213, 4.3941, 4.4182, 3.9769, 3.0163, 1.6771, 1.3298, 4.5618, 4.5613, 4.5609, 4.5605, 4.5604, 4.5603, 4.5597, 4.559, 4.5581, 4.5576, 4.5572, 4.555, 4.555, 4.5535, 4.5528, 4.5516, 4.5487, 4.5479, 4.5476, 4.5472, 4.5469, 4.5457, 4.5449, 4.5444, 4.54, 4.5396, 4.5381, 4.5359, 4.5346, 4.5346, 4.4888, 4.1531, 4.2604, 3.6928, 3.7038, 3.3994, 2.8045, 2.5199]}, \"token.table\": {\"Topic\": [15, 9, 9, 15, 15, 2, 12, 15, 3, 15, 2, 4, 8, 10, 14, 17, 19, 6, 2, 6, 20, 12, 16, 3, 4, 13, 1, 18, 18, 10, 18, 1, 3, 4, 8, 4, 2, 9, 12, 9, 10, 8, 4, 12, 13, 7, 3, 6, 9, 13, 17, 7, 10, 15, 10, 15, 1, 15, 19, 10, 3, 6, 16, 7, 7, 7, 7, 2, 6, 13, 2, 1, 9, 15, 2, 12, 15, 5, 12, 1, 3, 4, 8, 12, 15, 12, 20, 14, 1, 10, 10, 12, 10, 1, 17, 18, 1, 7, 16, 2, 5, 6, 17, 1, 2, 3, 4, 5, 6, 8, 9, 12, 13, 16, 19, 15, 11, 5, 6, 2, 6, 19, 2, 19, 6, 11, 5, 1, 1, 4, 1, 2, 3, 4, 5, 8, 12, 17, 18, 2, 3, 16, 1, 1, 6, 7, 2, 2, 7, 8, 12, 13, 8, 18, 5, 1, 2, 20, 2, 3, 5, 7, 13, 7, 16, 8, 1, 3, 4, 4, 3, 19, 18, 1, 2, 3, 4, 5, 6, 7, 8, 9, 12, 13, 14, 15, 17, 18, 3, 1, 4, 1, 1, 2, 4, 10, 13, 16, 20, 1, 4, 5, 13, 15, 16, 19, 4, 17, 17, 8, 2, 11, 6, 11, 9, 19, 14, 1, 2, 3, 4, 14, 12, 1, 3, 4, 12, 3, 4, 20, 2, 15, 20, 3, 15, 4, 7, 8, 8, 17, 1, 3, 4, 1, 2, 3, 4, 5, 8, 9, 10, 11, 12, 14, 15, 16, 18, 4, 13, 17, 2, 5, 6, 11, 13, 17, 17, 6, 4, 13, 1, 4, 6, 11, 1, 4, 12, 5, 19, 5, 1, 7, 8, 4, 4, 4, 1, 2, 3, 4, 5, 6, 7, 8, 15, 7, 13, 6, 8, 12, 7, 7, 12, 2, 4, 6, 7, 8, 9, 13, 14, 15, 17, 19, 1, 2, 3, 4, 5, 6, 9, 11, 16, 6, 16, 2, 6, 12, 6, 1, 5, 7, 8, 11, 1, 1, 3, 6, 7, 8, 11, 12, 15, 11, 15, 4, 19, 1, 2, 3, 4, 5, 6, 7, 8, 10, 11, 13, 14, 17, 15, 1, 4, 20, 19, 20, 2, 11, 12, 9, 1, 3, 6, 10, 1, 3, 11, 18, 12, 14, 3, 4, 1, 3, 5, 9, 12, 14, 16, 17, 10, 2, 5, 6, 20, 12, 11, 20, 18, 14, 5, 4, 3, 10, 12, 10, 3, 13, 12, 3, 2, 6, 16, 4, 5, 20, 5, 1, 3, 4, 6, 8, 13, 18, 6, 8, 6, 8, 14, 18, 3, 1, 4, 11, 11, 15, 17, 8, 1, 3, 4, 6, 1, 2, 8, 15, 17, 13, 13, 5, 12, 1, 4, 1, 13, 14, 17, 8, 7, 14, 1, 3, 4, 5, 7, 8, 12, 16, 6, 19, 18, 17, 17, 16, 5, 13, 1, 13, 4, 20, 6, 13, 4, 4, 3, 4, 5, 9, 12, 15, 1, 10, 20, 6, 8, 11, 2, 3, 5, 8, 15, 18, 19, 19, 14, 3, 4, 9, 1, 4, 8, 13, 14, 19, 1, 2, 3, 5, 6, 7, 8, 9, 11, 15, 18, 2, 13, 13, 4, 1, 5, 9, 1, 3, 5, 12, 9, 16, 13, 15, 6, 7, 1, 8, 10, 11, 1, 18, 18, 4, 5, 8, 3, 20, 1, 9, 2, 6, 20, 2, 17, 13, 10, 1, 14, 18, 1, 2, 5, 7, 13, 17, 8, 19, 4, 1, 4, 11, 13, 1, 4, 11, 9, 14, 11, 9, 10, 5, 9, 9, 14, 4, 11, 19, 14, 2, 3, 17, 14, 1, 2, 3, 4, 5, 6, 7, 8, 9, 10, 11, 12, 13, 14, 15, 16, 17, 18, 4, 14, 13, 10, 10, 15, 1, 2, 4, 5, 6, 7, 8, 9, 10, 11, 14, 19, 1, 2, 6, 9, 12, 14, 15, 18, 9, 3, 2, 10, 14, 6, 20, 2, 2, 8, 1, 3, 5, 11, 4, 16, 20, 2, 17, 11, 12, 12, 20, 11, 1, 2, 8, 11, 12, 13, 1, 5, 12, 5, 11, 12, 13, 16, 10, 11, 15, 16, 17, 18, 5, 11, 2, 6, 6, 7, 10, 13, 1, 10, 12, 19, 7, 1, 2, 4, 5, 6, 13, 16, 1, 2, 3, 4, 5, 8, 10, 11, 14, 5, 9, 6, 10, 14, 10, 14, 7, 19, 9, 20, 1, 3, 7, 11, 12, 14, 1, 7, 7, 11, 2, 4, 6, 7, 10, 11, 12, 17, 14, 10, 19, 17, 1, 5, 9, 12, 9, 9, 19, 1, 4, 6, 11, 6, 1, 6, 11, 1, 2, 3, 4, 5, 8, 9, 11, 12, 12, 2, 15, 14, 6, 6, 12, 17, 4, 9, 15, 3, 3, 4, 1, 2, 3, 5, 7, 8, 12, 15, 8, 1, 14, 5, 4, 4, 11, 7, 3, 1, 2, 5, 6, 7, 8, 9, 10, 14, 18, 12, 1, 2, 5, 6, 1, 2, 6, 7, 8, 12, 13, 15, 17, 1, 2, 3, 12, 1, 6, 7, 1, 3, 6, 13, 14, 17, 20, 3, 4, 2, 3, 4, 9, 10, 12, 13, 14, 19, 18, 6, 11, 18, 10, 1, 1, 18, 19, 1, 2, 4, 5, 6, 8, 17, 18, 18, 17, 1, 2, 3, 5, 6, 7, 8, 15, 1, 4, 6, 7, 8, 11, 1, 2, 3, 4, 9, 12, 16, 17, 1, 18, 11, 12, 15, 5, 12, 11, 13, 1, 4, 6, 9, 13, 2, 5, 6, 7, 12, 13, 2, 5, 8, 9, 14, 15, 16, 18, 5, 15, 11, 7, 1, 1, 1, 2, 10, 14, 16, 1, 4, 7, 9, 10, 14, 8, 20, 11, 6, 7, 20, 5, 9, 1, 2, 3, 4, 5, 6, 8, 9, 10, 11, 12, 13, 15, 18, 1, 1, 2, 5, 8, 9, 15, 19, 17, 2, 6, 10, 13, 14, 17, 4, 13, 6, 19, 20, 2, 14, 2, 7, 8, 10, 15, 15, 17, 1, 6, 8, 11, 7, 8, 12, 4, 8, 1, 11, 8, 18, 19, 6, 16, 5, 16, 8, 3, 8, 11, 12, 5, 6, 10, 1, 3, 4, 5, 7, 8, 9, 10, 14, 16, 15, 18, 4, 8, 10, 3, 9, 13, 16, 1, 2, 3, 5, 2, 1, 15, 2, 16, 16, 2, 6, 16, 3, 1, 2, 3, 4, 5, 10, 11, 13, 1, 2, 3, 4, 5, 6, 8, 12, 13, 3, 11, 5, 7, 15, 1, 11, 11, 15, 11, 15, 5, 11, 16, 6, 14, 9, 20, 4, 13, 4, 19, 11, 3, 2, 6, 7, 2, 9, 16, 18, 1, 3, 4, 16, 17, 1, 2, 3, 5, 11, 1, 4, 1, 11, 7, 18, 20, 5, 14, 14, 10, 2, 1, 3, 1, 3, 4, 8, 16, 2, 8, 1, 5, 7, 14, 17, 14, 17, 20, 1, 2, 3, 4, 5, 6, 8, 9, 10, 11, 12, 13, 14, 15, 16, 9, 6, 20, 17, 20, 6, 8, 18, 1, 2, 3, 4, 5, 9, 10, 14, 17, 14, 12, 3, 4, 2, 6, 7, 9, 6, 1, 13, 2, 1, 18, 1, 4, 11, 12, 1, 11, 6, 8, 1, 5, 6, 7, 14, 17, 19, 13, 20, 1, 3, 4, 5, 1, 4, 2, 19, 9, 13, 11, 1, 4, 1, 2, 3, 4, 5, 6, 7, 8, 9, 11, 12, 13, 19, 6, 12, 1, 2, 4, 9, 11, 16, 15, 1, 3, 4, 3, 4, 9, 1, 16, 11, 1, 3, 4, 6, 7, 8, 8, 8, 6, 5, 8, 8, 3, 1, 3, 4, 5, 13, 2, 6, 17, 1, 4, 11, 13, 11, 12, 4, 2, 18, 8, 13, 1, 2, 6, 11, 17, 1, 3, 9, 9, 9, 14, 20, 20, 1, 9, 1, 2, 6, 8, 8, 3, 18, 17, 5, 9, 8, 18, 1, 4, 8, 12, 13, 18, 18, 1, 2, 4, 5, 12, 13, 1, 19, 1, 5, 12, 9, 3, 3, 7, 14, 1, 4, 2, 3, 14, 16, 19, 20, 18, 15, 10, 4, 20, 2, 6, 7, 17, 7, 7, 5, 9, 13, 14, 2, 6, 8, 15, 1, 18, 10, 3, 18, 2, 16, 14, 14, 1, 2, 4, 6, 8, 9, 10, 11, 13, 14, 15, 18, 19, 13, 11, 5, 4, 7, 20, 4, 16, 19, 16, 2, 3, 9, 11, 16, 1, 3, 4, 10, 11, 1, 4, 6, 7, 8, 11, 5, 6, 1, 3, 4, 7, 10, 12, 15, 18, 1, 3, 4, 6, 7, 10, 14, 2, 16, 4, 3, 14, 3, 6, 8, 1, 3, 4, 8, 11, 5, 8, 15, 16, 9, 10, 14, 5, 7, 19, 2, 6, 2, 3, 4, 12, 15, 16, 16, 13, 11, 19, 18, 8, 1, 2, 3, 4, 5, 8, 9, 11, 12, 13, 15, 16, 18, 20, 18, 1, 3, 5, 10, 2, 4, 17, 12, 9, 7, 7, 3, 4, 14, 3, 5, 1, 4, 7, 8, 11, 12, 16, 17, 13, 2, 2, 16, 1, 9, 1, 2, 4, 7, 19, 1, 3, 7, 15, 7, 13, 6, 8, 14, 6, 8, 16, 1, 2, 3, 4, 5, 6, 7, 8, 9, 11, 1, 2, 3, 4, 5, 6, 7, 8, 11, 13, 15, 1, 3, 8, 11, 7, 13, 13, 18, 5, 1, 4, 3, 12, 1, 4, 5, 7, 9, 13, 16, 8, 1, 2, 3, 4, 5, 6, 7, 8, 9, 10, 11, 12, 13, 14, 15, 17, 18, 2, 7, 9, 13, 18, 1, 11, 18, 2, 10, 14, 17, 19, 6, 8, 9, 15, 15, 1, 14, 2, 2, 9, 7, 16, 15, 12, 14, 2, 16, 1, 9, 10, 11, 15, 20, 1, 2, 3, 4, 5, 9, 10, 12, 16, 17, 15, 20, 2, 16, 2, 6, 17, 8, 13, 15, 20, 1, 2, 10, 12, 1, 18, 8, 11, 8, 12, 10, 14, 15, 11, 14, 15, 12, 4, 5, 9, 1, 2, 3, 4, 5, 6, 7, 8, 9, 10, 11, 12, 13, 14, 10, 6, 7, 14, 4, 4, 6, 18, 5, 2, 6, 8, 19, 1, 2, 5, 7, 8, 12, 13, 17, 18, 19, 5, 8, 19, 12, 9, 17, 6, 17, 10, 9, 10, 5, 1, 13, 8, 11, 14, 12, 2, 4, 19, 13, 17, 2, 5, 6, 8, 10, 14, 17, 8, 2, 7, 8, 5, 9, 8, 1, 2, 6, 13, 1, 4, 14, 18, 18, 16, 2, 6, 17, 2, 7, 1, 6, 7, 1, 2, 3, 10, 14, 13, 9, 2, 19, 19, 15, 20, 19, 12, 1, 3, 4, 6, 11, 12, 13, 19, 1, 4, 18, 13, 10, 5, 2, 11, 12, 3, 8, 16, 3, 15, 1, 4, 7, 11, 14, 1, 4, 11, 16, 1, 10, 15, 10, 15, 18, 1, 10, 14, 10, 16, 10, 13, 19, 10, 3, 3, 3, 5, 16, 14, 15, 1, 2, 5, 6, 7, 17, 10, 14, 12, 2, 4, 5, 6, 17, 2, 11, 1, 2, 4, 5, 6, 7, 8, 17, 20, 1, 4, 14, 2, 6, 13, 16, 4, 7, 7, 19, 3, 10, 13, 12, 15, 19, 20, 15, 5, 4, 7, 2, 12, 2, 1, 10, 9, 7, 9, 17, 1, 2, 3, 4, 5, 6, 7, 8, 9, 10, 11, 12, 14, 3, 7, 19, 12, 11, 3, 11, 1, 2, 3, 5, 8, 9, 10, 11, 12, 15, 16, 1, 9, 6], \"Freq\": [0.9866395657648236, 0.9820441394194448, 0.9810389413662643, 0.9812318041018139, 0.9924836998868088, 0.46802722831292776, 0.5292791138975056, 0.9921675833917893, 0.9931958571721716, 0.9803133644266975, 0.9965384405830051, 0.1499972292500748, 0.1499972292500748, 0.6284883905578135, 0.06899872545503441, 0.9842301313945869, 0.9886977266244436, 0.9958183303620832, 0.4133214389152961, 0.5844276259931338, 0.9940335380704831, 0.9983761303437189, 0.961766208841781, 0.20424087023999507, 0.7041589127252385, 0.09143630200525327, 0.7185744858217895, 0.27619475350804934, 0.98415594785899, 0.3494531157154, 0.6499490316445845, 0.20543645320350895, 0.14898063400254466, 0.6076841650103796, 0.03685310420062947, 0.9965412111136636, 0.9911458458110027, 0.24350010494156307, 0.7560141125851103, 0.987727762768233, 0.9907674453749877, 0.9965463558379788, 0.017076278527324802, 0.09676557832150721, 0.8822743905784481, 0.9912047507226732, 0.9940213410045475, 0.9966571406947375, 0.3749185949250227, 0.6228869061254333, 0.9886870400441444, 0.9949412988224501, 0.6471375774073512, 0.35133891618161883, 0.9851237133523321, 0.9927155259180509, 0.9970228047541853, 0.9906179649740716, 0.991844167259664, 0.9971424183155172, 0.9928892431631832, 0.9791197251094467, 0.99267784000817, 0.9993022969622245, 0.9977023225040161, 0.9957701485579433, 0.9948755265856521, 0.835706191365117, 0.16219805932225007, 0.9896807172366378, 0.9930603622364818, 0.6584195134486623, 0.14025504428492216, 0.20025303545124995, 0.14239207903268206, 0.7455585261711217, 0.10879394802497055, 0.99489519745138, 0.9887090329297917, 0.014526918063906068, 0.11023367236728722, 0.19739518075072363, 0.44947993538909364, 0.16919586921490598, 0.05810767225562427, 0.5725175398072475, 0.42381168531185853, 0.997840280829804, 0.9968222515932109, 0.991172591726335, 0.9827402095795756, 0.9921358439924651, 0.9951396306134356, 0.9977941248494692, 0.9957367736638575, 0.9888683128486363, 0.98175560181863, 0.014467977289958757, 0.994570092538776, 0.14084093233268408, 0.11917309658919423, 0.7367064152786552, 0.9892426227598644, 0.28552062714768117, 0.21326164490100397, 0.04980010938622346, 0.047847163920097045, 0.29020769626638454, 0.009960021877244691, 0.012108261889983742, 0.052338938492187785, 0.002148240012739051, 0.022458872860453716, 0.013865912809497512, 0.000195294546612641, 0.9914352928102471, 0.9909462562487458, 0.9946925648634793, 0.9864024464785549, 0.5579541341869088, 0.43587826321715556, 0.0052425220661857196, 0.9942196481428233, 0.9981010725738719, 0.9925807660710924, 0.99710822037343, 0.9943864967388466, 0.9973504563071992, 0.5384334747672677, 0.46132611057171036, 0.534691976986125, 0.08750304557585435, 0.010113417327862563, 0.09981503188803485, 0.19391378441684304, 0.06507764193581127, 0.0017588551874543588, 0.006595706952953845, 0.0004397137968635897, 0.08969828078734474, 0.8656927099243736, 0.04172013059876499, 0.9980835413479707, 0.2308715521990515, 0.3542138883053941, 0.41351308835652034, 0.9963545926753196, 0.9959200180855261, 0.9975170090399362, 0.247268059715321, 0.06798922072049533, 0.6840703157408496, 0.9979604193060836, 0.9927972083031623, 0.9949510943926744, 0.3481330056596135, 0.3356996840289131, 0.3133197050936522, 0.9924097393164988, 0.12759852056727497, 0.5167740082974636, 0.25902499675156815, 0.09442290521978347, 0.9982329778981305, 0.9922860873093683, 0.9975228780550772, 0.9263554037275181, 0.07194993427009849, 0.0012264193341494061, 0.9970781510378051, 0.9920712032941188, 0.9956584584926267, 0.9947280561806394, 0.18865937569193045, 0.26934062884956006, 0.11298830741989242, 0.040599774072897124, 0.07359788831937947, 0.07705318824047709, 0.06634175848507445, 0.03697170915574462, 0.1112606574593436, 0.007947189818524544, 0.0024187099447683393, 0.0010365899763292883, 0.0005182949881646442, 0.009156544790908713, 0.0020731799526585767, 0.9945224172925629, 0.9525810702662982, 0.0465902175807707, 0.9961986403763923, 0.05858344820856472, 0.3590455272782489, 0.09364475433338754, 0.09408856833496758, 0.3830114833635708, 0.01153916404108093, 0.972610175801894, 0.44721405688925137, 0.03741284911719418, 0.15313166150293434, 0.07308556571730956, 0.13399020381506754, 0.15400172776147372, 0.9816262304795026, 0.9985622157976971, 0.9912996228408426, 0.9932521641649381, 0.9887209554015362, 0.9944356334579212, 0.9812754297487265, 0.9939659989899928, 0.9945585749336008, 0.9843169520234735, 0.9812328604697995, 0.9878709783821885, 0.9944720994201086, 0.0970024668954124, 0.5474313131749795, 0.05060998272804125, 0.30365989636824753, 0.9888188495283846, 0.530845825895451, 0.38714343297690496, 0.047244622329385005, 0.03346494081664771, 0.9750675237831536, 0.01906556610749183, 0.9873522590595025, 0.9874814105300732, 0.008229011754417277, 0.9962299167871089, 0.49022069164576054, 0.5082741448791738, 0.06591282845774006, 0.932701959681569, 0.996477622181566, 0.9902633928540676, 0.9933986488626108, 0.5255549959182174, 0.08932357638135711, 0.38481843080573036, 0.2254456823359535, 0.08092684238457541, 0.011587463113484452, 0.0004634985245393781, 0.010660466064405696, 0.15258371427836326, 0.024009223571139784, 0.29404346396778147, 0.025585118554573672, 0.05886431261650102, 0.11494763408576576, 0.00027809911472362683, 9.269970490787562e-05, 0.00037079881963150246, 0.9961097344314608, 0.9970528786668176, 0.9917898797353079, 0.33334159799295315, 0.009550032138952273, 0.4893254562625069, 0.008185741833387663, 0.03683583825024448, 0.12233136406562672, 0.9887013975188215, 0.9973589387887926, 0.9990699104866848, 0.990994624411563, 0.6039672388721731, 0.09837715965421943, 0.02251417584126415, 0.27457505754237366, 0.9551570912977094, 0.04392165902940573, 0.9923209708450704, 0.9939971846367616, 0.9957622564738373, 0.9948346551701246, 0.20453672830262198, 0.6018851495274609, 0.191508911213283, 0.9980640791831223, 0.9930022899659722, 0.9973660800928827, 0.0969078491268746, 0.049984048497019526, 0.021421735070151226, 0.27287210148883106, 0.24685999461793318, 0.06987565963358852, 0.12394003862016066, 0.11118900584030875, 0.006630537045522998, 0.9980977364610325, 0.9987023272555948, 0.9959525842118857, 0.17177952203640592, 0.819256182019782, 0.9977225646260272, 0.9869300378772748, 0.9798168507539277, 0.2866521115318781, 0.009338524879933705, 0.11084423009660441, 0.2127559581341418, 0.038166145161468185, 0.21194391249240843, 0.03735409951973482, 0.07633229032293637, 0.006090342313000242, 0.00568431949213356, 0.004466251029533511, 0.19107200992917112, 0.044263786083977866, 0.044263786083977866, 0.0656579493579005, 0.026558271650386718, 0.14164411546872915, 0.3858326686986737, 0.10033124845701649, 0.9869133527606097, 0.20379088313256194, 0.7951378388120192, 0.48360133221643825, 0.5138264154799657, 0.9929720763326018, 0.9921105174603491, 0.2651306423487389, 0.1052470879605623, 0.27548281493502375, 0.14723089900493963, 0.20589321032722024, 0.9955441841641928, 0.2168995943762988, 0.007487625195618333, 0.1055513616285552, 0.0019322903730627956, 0.5714748778333218, 0.07463471565955047, 0.0033815081528598924, 0.018598294840729408, 0.11596645435563659, 0.8786689041561695, 0.9942984510941619, 0.9782942496539458, 0.20624333457973545, 0.33755653681215697, 0.038577889921389365, 0.09125154731405562, 0.18547062462206426, 0.029304358690286154, 0.016692356215985783, 0.01706329746522991, 0.007789766234126699, 0.01261200247430037, 0.02744965244406551, 0.029304358690286154, 0.00037094124924412855, 0.9983634598632022, 0.9970789618613414, 0.9993860741092429, 0.9862684358659881, 0.015195676970538625, 0.9801211645997413, 0.6128965701911653, 0.3846296911627983, 0.9878629285636356, 0.9927858952797699, 0.14600593539066029, 0.6543228956396258, 0.09793813773118365, 0.10034152761415747, 0.9966543445285034, 0.9971259790357275, 0.9886612736790396, 0.9958873801463878, 0.9824944687211071, 0.9959606423746581, 0.022619899039144988, 0.9761356431507952, 0.8185730275474048, 0.06046790831937831, 0.07265174059268588, 0.001353759141478619, 0.028428941971050996, 0.006317542660233554, 0.009025060943190793, 0.003158771330116777, 0.9995483587814238, 0.4956306406682323, 0.02059591134144129, 0.4830073401686392, 0.9944927716861425, 0.9900476093146422, 0.9850346269653932, 0.9980275594189377, 0.9765748626679857, 0.9966904914002316, 0.9948342058854553, 0.9981405201671242, 0.9970882786552635, 0.991750389265665, 0.99852857173805, 0.9986191692134773, 0.9962989170055426, 0.994042687186533, 0.9852360455262265, 0.9860585039708202, 0.9946158216974955, 0.8474319115215397, 0.1498158979882884, 0.04167224798206782, 0.7837071152756626, 0.17206605618402196, 0.9968156684503258, 0.3248178503175342, 0.3056425568283059, 0.07263368745919817, 0.08367400795299629, 0.21267143688053222, 0.892679851017413, 0.10234546062620022, 0.985250519129735, 0.9965074415465934, 0.40637318656600213, 0.59288661016375, 0.9923378443872485, 0.9918072567059218, 0.9869545427918481, 0.037869635918244396, 0.0011475647247952848, 0.9605116746536533, 0.9915274357885646, 0.2700311819897083, 0.7260272345949704, 0.996322145741346, 0.4244073993201665, 0.03864203172822504, 0.48138802237704076, 0.05436082429563861, 0.3881935087106607, 0.1011385386679116, 0.15765713380586222, 0.3495228909846945, 0.9948614603941035, 0.9896206144700094, 0.9918067237127297, 0.9983931506841921, 0.993212698735105, 0.7361495308126118, 0.26307907912053274, 0.4723954377805545, 0.5051098032778228, 0.01962861929836099, 0.9939259420275577, 0.994367505899434, 0.9956449049066939, 0.9926384481202003, 0.5398024857855404, 0.31728111785177987, 0.058284000967906036, 0.001929933806884306, 0.021422265256415794, 0.028370026961199297, 0.031843907813591046, 0.0007719735227537224, 0.9981889225275346, 0.9614444381476505, 0.9871459887235586, 0.994431779588972, 0.9955696770936706, 0.9857658808605201, 0.8482399659163123, 0.14624826998557108, 0.995409810435746, 0.9970583565453064, 0.25420456940544, 0.7399168716622628, 0.9694243101004265, 0.9919165209048737, 0.9960233995398865, 0.9941496429445716, 0.9695211041989594, 0.09865965336487036, 0.547281850740979, 0.15636624306885114, 0.16567375753723512, 0.029784046298828786, 0.9975884624823358, 0.9804643769130655, 0.9674882032697751, 0.9740526009914724, 0.9967800943500533, 0.9756883795788901, 0.007052648008390177, 0.23414791387855388, 0.6551909999794474, 0.06135803767299454, 0.035968504842789906, 0.005642118406712142, 0.9812795953093917, 0.9789491122241587, 0.987814209296342, 0.9027278662760532, 0.09467308494180174, 0.9991967440407729, 0.16501026878677463, 0.4306964456130993, 0.2499709131323461, 0.10264031600129732, 0.00687542786611561, 0.044199179139314634, 0.08720337074931402, 0.006358579117137481, 0.2970364816148509, 0.014079710902232994, 0.11581697677643268, 0.09174521297584079, 0.07494039673769173, 0.2752356389275224, 0.031338711363034726, 0.004541842226526772, 0.0013625526679580315, 0.9966905887946116, 0.9871967299117023, 0.9911272868977684, 0.9902019756654958, 0.24320456317712133, 0.06163403313392801, 0.6929664265868662, 0.011168651618585356, 0.1824213097702275, 0.6676371745332136, 0.13774670329588606, 0.994147999063616, 0.9889941653367068, 0.984530132067366, 0.9931378453998443, 0.010186591885846748, 0.9866441855148709, 0.6853309781071902, 0.01740523119002388, 0.1562119499304643, 0.1405472418594428, 0.9965961347497625, 0.002649347278909426, 0.9908366485251285, 0.9973882962540098, 0.9984453582179309, 0.9898482840828571, 0.9963654570255436, 0.9798412177827457, 0.9763912629556456, 0.01917911409377161, 0.9951739558004544, 0.9261813910220399, 0.07170436575654503, 0.6389028794641332, 0.35812941673998494, 0.9943322240020386, 0.9977273686834516, 0.9967477697346085, 0.996740749899275, 0.9908358077920133, 0.09724278741775642, 0.2637544097084352, 0.5328371913301722, 0.09990697337440729, 0.005328371913301722, 0.9984019234723842, 0.9973735027698322, 0.9934133800749337, 0.9937782706085938, 0.2413480400232688, 0.43297110697641683, 0.31593549962844986, 0.008489629548557193, 0.8216435394796288, 0.17667710791122654, 0.000949876924253906, 0.8226950646075982, 0.17398385052124435, 0.9875043349394556, 0.962862216129784, 0.03681140669680887, 0.9953086021221021, 0.9982302744676749, 0.9941645131416238, 0.9871800491771654, 0.6612905745905691, 0.09777837289666001, 0.23672658701296637, 0.9934079427782421, 0.9923367568694704, 0.9910764439778762, 0.9941784044492707, 0.9939218082384622, 0.25738708923524395, 0.15370572720869757, 0.11889300711219296, 0.034661360443911125, 0.15968443348614075, 0.011654693249699373, 0.010822215160435132, 0.05070548361882195, 0.14318623135344943, 0.008930219503016402, 0.00915725898190665, 0.02671497868275246, 0.0027244737466829705, 0.00015135965259349836, 0.006508465061520429, 0.004465109751508201, 0.0006054386103739935, 7.567982629674918e-05, 0.9900579990818184, 0.9983433282393802, 0.993871700062358, 0.9947935742107203, 0.9952840182995979, 0.9821473053082549, 0.3368012137572775, 0.0315027270089338, 0.10099403658746423, 0.23071114780072105, 0.023163769859510144, 0.09914093499870343, 0.008802232546613855, 0.12925383581606661, 0.018067740490417913, 0.01760446509322771, 0.003706203177521623, 0.997458654788481, 0.0996332721084694, 0.2446776274228398, 0.10234438155359782, 0.39649975635003126, 0.03321109070282313, 0.002033332083846314, 0.12199992503077885, 0.9853807668502276, 0.9860664938276276, 0.9818772490976249, 0.01879384481978055, 0.7893414824307832, 0.1879384481978055, 0.9874731710119409, 0.9815870746240172, 0.991157985779067, 0.33836957466244466, 0.6596168334985969, 0.051784692537319786, 0.2868075278990019, 0.6453169377727542, 0.014605938920782505, 0.5299540293699218, 0.46916518482454833, 0.9908446662683865, 0.3041768379079843, 0.6903491712520338, 0.9841224087227929, 0.9915416213149135, 0.9928206858303943, 0.9874953670278053, 0.9936133927052301, 0.21098101576228917, 0.39141274417438265, 0.05059725717376166, 0.03150395257988933, 0.021002635053259555, 0.29403689074563377, 0.9949078947681088, 0.847742511426751, 0.1493819403395156, 0.36379139631766755, 0.45058426752035985, 0.10341278270959078, 0.08032957228334284, 0.9907932565666533, 0.9954950514569687, 0.2747872995683496, 0.034082145682896074, 0.3067393111460647, 0.37916387072221885, 0.9892912433828985, 0.6388464620241249, 0.3584138601496851, 0.6087737054066815, 0.39002215109620264, 0.5163717388762763, 0.48252217758747157, 0.978411171834794, 0.9972127599230445, 0.6552876963261846, 0.08032127023405734, 0.26037478434206923, 0.0026773756744685783, 0.9917744970638718, 0.0011367513029135812, 0.6559055017811363, 0.06744724397287248, 0.0011367513029135812, 0.23833885651088085, 0.0022735026058271625, 0.033344704885465044, 0.06872832076408082, 0.02414778837656894, 0.18575221828129954, 0.03622168256485341, 0.22011637866333994, 0.09659115350627576, 0.09751991459768225, 0.01207389418828447, 0.25633806122819336, 0.9971090925360324, 0.9984963132623942, 0.9986250929389631, 0.8426167168225429, 0.15623209775883704, 0.9058599997970189, 0.09340178921333933, 0.9567846427718331, 0.04022518017659358, 0.06505285495860964, 0.9270031831601874, 0.5469750340938025, 0.004784038199071159, 0.02790688949458176, 0.33807203273436187, 0.05661111868900871, 0.02471753069520099, 0.998451580502046, 0.0012987988039051006, 0.9898880129192501, 0.991934410828858, 0.1339563621067282, 0.05358254484269128, 0.24223775480966683, 0.5681982359360388, 0.9870978791386407, 0.9919244714446203, 0.5200481740562829, 0.478541981760711, 0.9960788395898178, 0.01686793335999028, 0.969906168199441, 0.9877702006186022, 0.13972608150799104, 0.596079155057026, 0.07563154870616029, 0.1884379264373824, 0.9978678588423282, 0.9848700433999003, 0.9946085896366016, 0.4837034362671065, 0.0005220760240335742, 0.46856323157013285, 0.04698684216302167, 0.9896373088892404, 0.26922566914374463, 0.5224047752259415, 0.20741668549926462, 0.2792678618637952, 0.11391916741374615, 0.3047061225484181, 0.010230604840554873, 0.13272136009368485, 0.0008295085005855302, 0.08931041522970876, 0.052259035536888404, 0.016313667178182095, 0.9902963808573179, 0.9937681883080036, 0.9846372817053425, 0.9873445445289186, 0.9944077047334301, 0.9854623621129117, 0.9239386325978469, 0.0713466125558183, 0.30923985432447154, 0.2348806527120986, 0.45441734318672344, 0.9950755243298091, 0.19302231082126625, 0.8039472945856624, 0.21748341479567232, 0.02980737157098047, 0.38970378387244836, 0.21969136824537458, 0.04526304571889627, 0.027599418121278214, 0.06513462676621658, 0.004415906899404514, 0.9932585503280011, 0.08656903781301702, 0.9110360646036553, 0.9940978370940825, 0.9933441508388569, 0.012875780719927957, 0.9842819039233817, 0.9976218992467063, 0.9965071450793561, 0.2902446070632549, 0.13343268772652583, 0.030221933544896877, 0.11803660837346516, 0.09066580063469062, 0.021668556126529837, 0.2640142496469293, 0.010834278063264919, 0.022238781287754306, 0.01767697999795855, 0.9886683761995226, 0.010515259126464322, 0.20552551928998447, 0.32692896556825435, 0.4559798730294074, 0.13117681711187723, 0.5181154685926407, 0.13776861696674542, 0.11898198738037104, 0.08437503814231298, 0.0006591799854868202, 0.0006591799854868202, 0.002966309934690691, 0.004614259898407741, 0.5746929523250497, 0.04058826629583016, 0.13283432605908052, 0.25090928255604095, 0.05791204859285002, 0.5359496860683756, 0.4043313938118983, 0.30884952541046196, 0.11152899528711126, 0.07721238135261549, 0.16668069625326518, 0.05515170096615392, 0.14829679593121387, 0.12991289560916258, 0.9980616649924061, 0.9892119637366549, 0.193559295754411, 0.4431302558480105, 0.0014180168187136336, 0.03545042046784084, 0.01772521023392042, 0.07799092502924986, 0.03474141205848402, 0.19568632098248143, 0.9832836567979283, 0.9883440836174797, 0.4765580325452829, 0.4213049273226414, 0.10014625321603772, 0.9968452365517098, 0.995703492029549, 0.9952930413694218, 0.9938754231968449, 0.9872956698919885, 0.023834591703132502, 0.5690508769122885, 0.004965539938152605, 0.27211158861076273, 0.05462093931967865, 0.07100722111558225, 0.002979323962891563, 0.0004965539938152604, 0.9945880934424074, 0.9898954403123611, 0.12781204522279632, 0.11021473464864322, 0.5649662868543895, 0.07687246198182678, 0.102805340722684, 0.002778522722234703, 0.00926174240744901, 0.003704696962979604, 0.48169078983019464, 0.09900297396019757, 0.39061480015641836, 0.019227153375575, 0.0070836880857381565, 0.0020239108816394735, 0.46254868317730524, 0.004731955838131, 0.0922731388435545, 0.06536014001418444, 0.3409965675853152, 0.00591494479766375, 0.018632076112640814, 0.008872417196495626, 0.993777332943098, 0.9972536285183394, 0.9970875556844492, 0.2502195096583856, 0.7486726598508838, 0.9975256474926424, 0.9964372530230031, 0.9894761323955901, 0.9915986059338612, 0.07806354624115053, 0.047933756463864365, 0.321840936257375, 0.04291212483431667, 0.5090108424496073, 0.2546013308337614, 0.04409590059801228, 0.7002848975922427, 0.1690735737070957, 0.3483169864341671, 0.48052489369385093, 0.027259072794743145, 0.3804418420483717, 0.03437013526293701, 0.19436904079729894, 0.0557033226675186, 0.05451814558948629, 0.209776342811719, 0.04385155188719549, 0.9922172516563412, 0.9846563132820007, 0.996179562102606, 0.9961481645893313, 0.9957605331806755, 0.994671516902985, 0.2513113071469867, 0.05368923379958351, 0.4637835940985299, 0.22960714880247418, 0.9955538478008978, 0.05760606778207441, 0.1225661016639881, 0.6643082710188155, 0.15320762707998511, 0.6627091350956369, 0.33325890414292086, 0.9955569348242475, 0.9853292505558672, 0.9866756298522128, 0.07109793578963466, 0.5090612202537842, 0.4180558624430518, 0.9949921092137531, 0.9879876681650277, 0.11523309335044596, 0.2710532121913199, 0.32639915604190356, 0.04995326214206524, 0.02440898036487279, 0.0008514760592397484, 0.054210642438263984, 0.09309471581021249, 0.004541205649278658, 0.023841329658712957, 0.01617804512555522, 0.011353014123196645, 0.007663284533157736, 0.0005676507061598323, 0.9958667679495603, 0.048728148731783265, 0.5213138451622527, 0.11524593906405883, 0.03557928320098461, 0.24596113169376316, 0.012375402852516384, 0.020110029635339127, 0.9873489750352931, 0.3085152824382206, 0.3408689450160115, 0.2549776741249713, 0.026191060182021223, 0.020798783085722736, 0.048145331216950776, 0.5167839820336184, 0.48199060502541446, 0.9917627080617057, 0.9965528937138299, 0.9947400025644426, 0.9953684491615526, 0.9928167591151204, 0.0649513536406221, 0.5450980691611703, 0.05837400137321733, 0.049330142005535774, 0.2811818094315539, 0.9903823760408781, 0.9933144153167901, 0.3415113702726441, 0.3591992101672432, 0.19456623884059004, 0.10340583322996395, 0.5812867768319613, 0.27525379901422675, 0.14158422249613578, 0.22593105301820085, 0.7708235926503323, 0.2567534185777861, 0.7390033178195409, 0.4443854728140984, 0.552857517359272, 0.9911634851411065, 0.9963392473774546, 0.9866162057490137, 0.991189922683021, 0.9838851435488324, 0.9912973912599881, 0.7099411161434935, 0.12473513863276488, 0.06877918859189838, 0.09325991673477747, 0.9980850590561082, 0.9704658801257673, 0.9957963085329209, 0.6620807399737629, 0.07051929742046126, 0.038185121747324, 0.05820151621164706, 0.09700252701941177, 0.014473392920356678, 0.004619167953305322, 0.04003278892864613, 0.01139394761815313, 0.0030794453022035483, 0.9939489157497177, 0.981100097451223, 0.9924485757505985, 0.9983587698185965, 0.9857769443121375, 0.997899792539372, 0.9936773262328884, 0.995830831642383, 0.9767480639077364, 0.12114705599404936, 0.11775040956430965, 0.6374373133144839, 0.12227927147062925, 0.9935980166980395, 0.25404473561917373, 0.7427167748356736, 0.9968547172493282, 0.9982840305632259, 0.998844383318241, 0.9944063163827511, 0.0022147133995161494, 0.9124289858822415, 0.9911492782754546, 0.23056271575325524, 0.14484399052360156, 0.33383828831910306, 0.09630447141765308, 0.0005163778628292391, 0.06299809926516717, 0.0007745667942438586, 0.129610843570139, 0.5149510325298923, 0.13949947506174104, 0.028314249888769225, 0.07159131475940836, 0.05731909123824013, 0.09322984719472793, 0.07458387775578235, 0.015193012135437145, 0.005064337378479048, 0.8862228583054302, 0.11187034108786495, 0.9927758704529771, 0.9922429885577895, 0.9891105386531732, 0.9954847103720118, 0.9975313377774321, 0.981208554183273, 0.9894891308502186, 0.9879377758130318, 0.9948503602062474, 0.9403554633253954, 0.05677068586639384, 0.9961861693313266, 0.9897189496873414, 0.9881128668316899, 0.9777982248235759, 0.9970290623264437, 0.09673738612826625, 0.9016879818128521, 0.9930171447254448, 0.9765162388035568, 0.9895538132658771, 0.9834276216355006, 0.7786848806072185, 0.024896727475196785, 0.19546579656058752, 0.9962107160008872, 0.02877934937204011, 0.5212259941825043, 0.44767876800951284, 0.49490774643362223, 0.012653891244041478, 0.26854369195688027, 0.22355207864473278, 0.9822995587458824, 0.17785991488613398, 0.07973030667309454, 0.18644625560477493, 0.520086923529109, 0.0343453628745638, 0.9314536284198277, 0.06638422296087859, 0.00492390309277026, 0.9847806185540519, 0.9970384486213626, 0.980886560958884, 0.9955352405450677, 0.9913066041168571, 0.9901672774133341, 0.993131380696783, 0.9951339908470174, 0.9946071231844869, 0.9219094418925824, 0.07587142922407898, 0.41816733229451325, 0.14912955464960956, 0.14207612976753342, 0.003022896378032626, 0.28515989166107775, 0.6333564965639649, 0.36530961168199666, 0.22281367758840062, 0.29388355750883877, 0.07299068748585538, 0.05954503452793465, 0.34958697690593893, 0.6543409808296198, 0.09733998061928228, 0.2433499515482057, 0.04876176895469573, 0.3546875168551753, 0.02733143737588041, 0.052178198626680786, 0.000931753546905014, 0.08230489664327624, 0.07733554439311616, 0.18355544874028776, 0.07485086826803612, 0.004348183218890065, 0.001863507093810028, 0.020498578031910308, 0.002795260640715042, 0.04503475476707568, 0.02391500770389536, 0.9981534554168657, 0.9941111998029284, 0.9971666232520379, 0.9935619614224435, 0.9962683539197504, 0.9897690983546068, 0.995284982172889, 0.9972481532828714, 0.05617294642921237, 0.28623420496650126, 0.385362933959229, 0.04708614627154566, 0.058651164654030565, 0.004130363708030322, 0.015282345719712188, 0.11606322019565203, 0.03097772781022741, 0.9948521219617102, 0.9965442206939761, 0.22197276926626833, 0.7763236118841217, 0.909466917553026, 0.0882860172624613, 0.8868668027910143, 0.11085835034887678, 0.9933241904913349, 0.30004244792125756, 0.6964288011383317, 0.996644989393072, 0.9993687904557504, 0.9955044605358793, 0.37009822993047614, 0.006627103290766102, 0.6137717201601836, 0.00866621199561721, 0.12784412530371764, 0.8684583684424957, 0.7155334870749747, 0.2824056778255998, 0.22420535862067645, 0.21240507658800928, 0.04523441445855753, 0.025567277737445562, 0.037367559770112746, 0.43661043520868575, 0.017700423049000772, 0.33413649496508274, 0.6633105667376147, 0.8028561188613927, 0.08979812514279084, 0.048704067874056046, 0.057836080600441556, 0.967527908414528, 0.03132284595586601, 0.3705828937918275, 0.6234512213203687, 0.9890409909244439, 0.9963703935551759, 0.9990802945518484, 0.2715249594249766, 0.7280166369402123, 0.3444816068267097, 0.03175868634365845, 0.10843731643465364, 0.17166857483058623, 0.006294514410454828, 0.01573628602613707, 0.06923965851500312, 0.04291714370764656, 0.07067022997192467, 0.010300114489835173, 0.12617640250048087, 0.0005722285827686208, 0.0017166857483058623, 0.295916755958456, 0.6991758645685089, 0.49479016572403683, 0.012087707631694712, 0.044321594649547276, 0.3263681060557572, 0.08139056472007772, 0.040292358772315705, 0.997883555351806, 0.480732856459955, 0.05572094550133653, 0.4633300396701393, 0.004817124216788956, 0.9923275886585248, 0.9939315755101388, 0.9984410151190408, 0.9827264291412138, 0.993028929157156, 0.20917065888114278, 0.12167443555831181, 0.05331801108735012, 0.46983649086374335, 0.1449156198784388, 0.9915636467145629, 0.9982952162582045, 0.9921868766942101, 0.987516477732815, 0.9920005940899459, 0.9945359139663711, 0.9953305389602976, 0.9726062421368947, 0.17747349291109474, 0.06256259822045786, 0.08299120172101553, 0.5145454506702962, 0.1583216771293219, 0.5135589581275597, 0.120837401912367, 0.36251220573710097, 0.6082416446128639, 0.14897727224094479, 0.21162665493829572, 0.03083138912271208, 0.9955874549972441, 0.9842546091140264, 0.9952970583638464, 0.9144687698621191, 0.08258749153106165, 0.9927234594951602, 0.9912873456369263, 0.1409237136409438, 0.7959434329105821, 0.04093873245435239, 0.020469366227176194, 0.9830976991570513, 0.44019602675943437, 0.10684909878357951, 0.45188264693888835, 0.9900427225816593, 0.9650135741453939, 0.032505720392265895, 0.9710189243420034, 0.9914756173183378, 0.9989145993788244, 0.9957648994867007, 0.07848225388607431, 0.8050626990734676, 0.10574451049913171, 0.009913547859293598, 0.9989844199334503, 0.5315740994245375, 0.46664901857879243, 0.9940783000735821, 0.9545468400689902, 0.0374332094144702, 0.036090440124290524, 0.960005707306128, 0.07155889611776606, 0.34740689889431586, 0.16908674647181818, 0.2216017428163078, 0.05597752357599441, 0.13388438628485264, 0.991590270954358, 0.34762594346288456, 0.16148164603427914, 0.14092943653900725, 0.1338829647120569, 0.011744119711583938, 0.20376047699598132, 0.05586720423832347, 0.9434915960528055, 0.365309806287733, 0.14957566871623715, 0.4846826957439607, 0.9883806086810726, 0.9956990672450541, 0.9940749205653788, 0.8808654816187783, 0.1175887174508977, 0.7624141061774127, 0.23710465500423558, 0.2599072553477721, 0.43497685942164876, 0.19566602808256806, 0.07061631088694185, 0.03776011068260085, 0.991896517757625, 0.9795711622802169, 0.9797045255991853, 0.9981596698028417, 0.9978511911903244, 0.9933443173339057, 0.15524864900190644, 0.13754485569467148, 0.7040662415261897, 0.002723660508805376, 0.9927984291077288, 0.9963151622200374, 0.9648752121317093, 0.027084216480890086, 0.992051298790544, 0.9931332688510452, 0.30387080633938646, 0.09710472048310972, 0.4336228035366451, 0.16407349323008194, 0.9964775045232546, 0.001423539292176078, 0.9942719742627459, 0.9288349514977565, 0.06332965578393794, 0.9981418580442463, 0.997092229790494, 0.9793653737704595, 0.9921960685208562, 0.011925654350008254, 0.622442217364947, 0.08463367603231664, 0.14118435956300096, 0.003846985274196211, 0.01692673520646333, 0.04885671298229188, 0.013464448459686739, 0.03846985274196211, 0.0003846985274196211, 0.007693970548392422, 0.004231683801615833, 0.005001080856455074, 0.9939468508090891, 0.994728659649725, 0.991546149467001, 0.3112385676480841, 0.6634930705676211, 0.024609561162871767, 0.9937248356790227, 0.996064508988606, 0.9695957832105495, 0.9954285011518952, 0.0927577847391668, 0.6153239185667501, 0.0027551817249257464, 0.11204405681364701, 0.17541323648693918, 0.44859874520809784, 0.016625571181314417, 0.03675126261132661, 0.02275078161653552, 0.4748496470733311, 0.47478794212064623, 0.1071383037167043, 0.40200074098208805, 0.007798628693416951, 0.007612947057859404, 0.0005570449066726393, 0.9922791106623655, 0.9902983967851583, 0.7825409344782644, 0.056064141820409225, 0.00016836078624747516, 0.08788433042118203, 0.019698211990954593, 0.0003367215724949503, 0.04360544363809606, 0.009596564816106084, 0.79702249127384, 0.0005818531838763614, 0.07983025682783679, 0.04666462534688419, 0.05341412227984998, 0.014779070870459581, 0.007680462027167971, 0.575884290128688, 0.4206213687704633, 0.9902162643363199, 0.9864086216955366, 0.9992376404792283, 0.7701921035417738, 0.037028466516431435, 0.1906966025596219, 0.47636310027444195, 0.456606105332184, 0.015366551621756193, 0.0007317405534169615, 0.04975835763235338, 0.8006629177584585, 0.032569339027462715, 0.07463806860460206, 0.08956568232552248, 0.6470465386209042, 0.26079022539983815, 0.09141100684118038, 0.993444864259587, 0.9943681507224165, 0.9838291435771684, 0.9964074695283388, 0.002330777706499038, 0.3234100716297271, 0.330492044001181, 0.0005901643642878232, 0.20478703440787463, 0.018885259657210343, 0.12098369467900376, 0.9893641542521259, 0.9853210147659301, 0.9965361403103923, 0.9893647564949497, 0.9955034128714548, 0.9971053783228429, 0.09382141671800732, 0.010664800057039235, 0.3974799805042461, 0.11457454115332692, 0.16386321168721096, 0.02695023798197753, 0.0758065517567924, 0.0017294270362766327, 0.10275678973876994, 0.0005764756787588776, 0.005476518948209337, 0.005908875707278495, 0.0001441189196897194, 0.9768304566971541, 0.9759223355742569, 0.2532088108395464, 0.5308232901937479, 0.2145665023580092, 0.9965707913314577, 0.30067732356921784, 0.698217140637244, 0.9944141322600802, 0.9857671573151917, 0.9917489474933363, 0.9946657879994318, 0.9940457357242692, 0.9892488948101802, 0.9986309002320878, 0.9974364953964264, 0.048561476272838536, 0.9497721289641211, 0.07859453565090083, 0.11941791096471825, 0.6363868226490417, 0.005341376209284522, 0.054939869581212226, 0.015261074883670064, 0.022510085453413344, 0.06714872948814828, 0.98790802329276, 0.9914771092157557, 0.9978911408760762, 0.9757180206709467, 0.15535033360199108, 0.8438556582640698, 0.7689464515510008, 0.17513371138528133, 0.028732874524147717, 0.017787017562567634, 0.008893508781283817, 0.41457489414880044, 0.5152192816350848, 0.06931798873227532, 0.9810374994845971, 0.9918693829118043, 0.9959841203787917, 0.9966894932018306, 0.9957798849347775, 0.9943265899457572, 0.13460787612135805, 0.8640543667218602, 0.9950335538540378, 0.43526251369748886, 0.020378898609511403, 0.2656946969655166, 0.06575078607974434, 0.049024708919107624, 0.005767612814012661, 0.08978250613813042, 0.05286978412844939, 0.014803539555965832, 0.00019225376046708872, 0.1366725286615194, 0.06069024874130408, 0.05113272925448454, 0.00477875974340977, 0.002867255846045862, 0.6537343328984565, 0.040619457818983046, 0.000955751948681954, 0.03679645002425523, 0.01099114740984247, 0.9962523234402226, 0.06551939860638403, 0.8189924825798004, 0.01139467801850157, 0.09970343266188875, 0.9937287606095514, 0.9928398365058771, 0.9954813347581285, 0.9932959257990618, 0.9913951005052705, 0.5210017067912661, 0.47858386871622505, 0.9884531485874447, 0.9916320112608362, 0.414215534788744, 0.025659369411692105, 0.14149309418447362, 0.023459994890689926, 0.33943680107466984, 0.03958874137803925, 0.016128746487349323, 0.9943349067009256, 0.24349790919346437, 0.15992702184064575, 0.028171892139490763, 0.05385297674225826, 0.004723945328268269, 0.21876161365635055, 0.11792685337658787, 0.05136216920553499, 0.027914222394312495, 0.043717966765246336, 0.021558368679915188, 0.0033497066873174994, 0.0021472478764855765, 0.01683442335164692, 0.0051533949035653835, 0.0006012294054159614, 0.0004294495752971153, 0.225626544378885, 0.05809545753468296, 0.3512748595120365, 0.11348880076542718, 0.24994557311433369, 0.5074165683590263, 0.49021600671973725, 0.9823572449506432, 0.04047668860723412, 0.34746871648547734, 0.5913801906901089, 0.013141782015335755, 0.007359397928588023, 0.8204305923457538, 0.16120889926958853, 0.0016924818820954178, 0.016078577879906467, 0.9839663824526483, 0.9963596331359307, 0.9926767116400821, 0.9920304649475132, 0.52029449565297, 0.4778436895222884, 0.9913570111001208, 0.997887118851361, 0.9937563538826382, 0.9843599886333929, 0.991978826355992, 0.15009852594238468, 0.8431066138040332, 0.36057928887608753, 0.03989387876926926, 0.28846343110087, 0.23169137285229455, 0.07825337758587432, 0.9710938892783436, 0.1300877210826348, 0.28583494678248655, 0.3052287584117785, 0.06683405853786743, 0.0014918316637916836, 0.11367757278092629, 0.04326311824995883, 0.04893207857236722, 0.004773861324133388, 0.9977652741115001, 0.9971341970974501, 0.9782015134070872, 0.9950841744029243, 0.9978429421184579, 0.23255907103647502, 0.5048233493230799, 0.2609199333579964, 0.9955702051712527, 0.2906179088155483, 0.7053538828544036, 0.9781692901077449, 0.6640499732792685, 0.006484287355589839, 0.01945286206676952, 0.30947735106224233, 0.9950144311100415, 0.9896701233049585, 0.16813572646974442, 0.8314613618995301, 0.6578555982804676, 0.3402102830157563, 0.7761033812981902, 0.1957659874350816, 0.026972202713277913, 0.9922218207009064, 0.2849078763472769, 0.7136942302499285, 0.9993995620764534, 0.991122512642827, 0.9955503847730743, 0.9851672728685746, 0.5086701211816645, 0.03666411650224734, 0.010144925439942224, 0.03025679517175751, 0.08988047977492673, 0.03363843698507159, 0.07653189366973959, 0.03417238042927907, 0.10732263228570459, 0.03666411650224734, 0.006585302478558988, 0.008899057403458092, 0.001067886888414971, 0.01939994513953864, 0.9915751373316625, 0.00980869004153991, 0.9836714870230024, 0.0042037243035171045, 0.9929213692664639, 0.6072985980431092, 0.12816366517143538, 0.26224257642770626, 0.9908423126597627, 0.009311662216417816, 0.4366134950364798, 0.5462841833631785, 0.00620777481094521, 0.23064361243117568, 0.06752175320448911, 0.048134319116071446, 0.49471383535962316, 0.028078352817708343, 0.012033579779017861, 0.06150496331498018, 0.0026741288397817468, 0.012033579779017861, 0.04278606143650795, 0.09992049103309228, 0.8773019112705502, 0.0219825080272803, 0.9845384125189783, 0.9929683243801192, 0.983921390704751, 0.9846228220708344, 0.9957789367253689, 0.9934348929007781, 0.6107518494547504, 0.3871301093000583, 0.9903484624838831, 0.3311579484214808, 0.6649030683150045, 0.19796602325467447, 0.7701361148565995, 0.028970637549464558, 0.98391102677657, 0.8072214737868504, 0.19055228098685875, 0.9779412005470697, 0.9944587810375282, 0.9952524224283781, 0.026578298235158296, 0.2238341020045259, 0.1175209090638927, 0.0032022046066455777, 0.3483998612030389, 0.1850874262641144, 0.09510547681737366, 0.99620888007823, 0.9953112495282684, 0.3976671674867962, 0.6009689216513943, 0.9983806966951643, 0.9964555330832616, 0.9987791875282882, 0.10822424551890882, 0.6715016178653554, 0.21815280986488705, 0.9893635778360538, 0.03346348035833574, 0.9637482343200694, 0.98609540812716, 0.9979593512640588, 0.9924111848325177, 0.9909793224460033, 0.27847545635113824, 0.7188233454581106, 0.9939985547824192, 0.15261297837204488, 0.8458655503386743, 0.23450882365706158, 0.6866466584714476, 0.0777677075880744, 0.5376236739368876, 0.0034685398318508877, 0.02312359887900592, 0.01965505904715503, 0.4150685998781562, 0.9942857720405729, 0.9866029813988224, 0.9920012524711165, 0.9955352068018176, 0.9978285650773033, 0.992998988914234, 0.9873358651710301, 0.9843525594651491, 0.9867466241415401, 0.4757685693648812, 0.016880093788241516, 0.28508602842363445, 0.040637262823544386, 0.021881603058831595, 0.03063424428236423, 0.06626999783531855, 0.06251886588237598, 0.6075096880202145, 0.018915136806490197, 0.37162680549221916, 0.9957185858453141, 0.9895957495806327, 0.9952000555087586, 0.32228578576842126, 0.2679679567063278, 0.40557312366363124, 0.17850108804878909, 0.8195695117939026, 0.9952883782914111, 0.9601270361265997, 0.028948553853063306, 0.14241097955468213, 0.11576839095202444, 0.5502963241144176, 0.11640273829970678, 0.07485298702651444, 0.31572491801260905, 0.6418635514619159, 0.041654861746791, 0.9945569980097411, 0.2131743428636405, 0.48270512119697906, 0.3013844157727331, 0.9950213466886203, 0.9981249250948762, 0.9805521174765678, 0.18242467945062169, 0.8057090009069124, 0.008686889497648651, 0.980394342108314, 0.9778704306535675, 0.8320560362388479, 0.1664112072477696, 0.9982096350734387, 0.9912635666385412, 0.9969914831616669, 0.9855018101163795, 0.7822588063106602, 0.2145720699815418, 0.9956959420350612, 0.9980944225245567, 0.9909416667701336, 0.2854675171253167, 0.08386302545899382, 0.052206121808910065, 0.41875974302040625, 0.14939836985741284, 0.008886148393005968, 0.991349911013964, 0.9856878000427065, 0.9853623601189748, 0.7046833068499042, 0.055996506323470197, 0.004363364129101574, 0.2043508867129237, 0.029816321548860755, 0.32045935928340497, 0.6781814347625548, 0.001901815352711011, 0.49274306865694373, 0.061376768201128085, 0.18222848925067323, 0.04322307619797752, 0.16390190494273077, 0.053077937571116396, 0.0013831384383352807, 0.9624635341944091, 0.5019574305187203, 0.3502696273972386, 0.14690269892206592, 0.40030580458172704, 0.22144576423670007, 0.2787429200182238, 0.09833430789531786, 0.9958498411834509, 0.9993263822531104, 0.9997312068243343, 0.9965365332547441, 0.9947248538280922, 0.3007565748263738, 0.6942464268908796, 0.9933411369543305, 0.9972471344500782, 0.9893189465185367, 0.9981617270158633, 0.9914191487791673, 0.9960493721430782, 0.16056203428781676, 0.8369723063939384, 0.08569692300413695, 0.9115036355894566, 0.9951469104555379, 0.9663268519127544, 0.032468582224268544, 0.9917228137467083, 0.9891472112990332, 0.9982617440191801, 0.9831112768023946, 0.394560037555601, 0.10817206339900391, 0.2580049890530296, 0.029966585130805138, 0.054086031699501956, 0.00450716930829183, 0.048726154684235995, 0.016688707979350827, 0.03569190830620286, 0.011572461737506048, 0.005116246241844779, 0.005116246241844779, 0.02765209278330393, 0.993875802066994, 0.9938508610384321, 0.9894793814026239, 0.9941842854011012, 0.9918096377460475, 0.048936022224357854, 0.94376614289833, 0.351895120211316, 0.008366737123905415, 0.1077832605961933, 0.10384597253788486, 0.09400275239211378, 0.2431275376005456, 0.004429449065596985, 0.07087118504955175, 0.013780508204079507, 0.0014764830218656616, 0.0004921610072885538, 0.9973867271919835, 0.9945038720385835, 0.9743357051632054], \"Term\": [\"bank\", \"ibm\", \"intel\", \"mabetex\", \"new\", \"reuters\", \"reuters\", \"the\", \"times\", \"york\", \"\\u0430\\u0432\\u0430\\u0440\\u0438\\u044f\", \"\\u0430\\u0432\\u0433\\u0443\\u0441\\u0442\", \"\\u0430\\u0432\\u0433\\u0443\\u0441\\u0442\", \"\\u0430\\u0432\\u0433\\u0443\\u0441\\u0442\", \"\\u0430\\u0432\\u0433\\u0443\\u0441\\u0442\", \"\\u0430\\u0432\\u0438\\u0430\\u0446\\u0438\\u044f\", \"\\u0430\\u0432\\u0441\\u0442\\u0440\\u0430\\u043b\\u0438\\u044f\", \"\\u0430\\u0432\\u0442\\u043e\\u043c\\u0430\\u0442\", \"\\u0430\\u0432\\u0442\\u043e\\u043c\\u043e\\u0431\\u0438\\u043b\\u044c\", \"\\u0430\\u0432\\u0442\\u043e\\u043c\\u043e\\u0431\\u0438\\u043b\\u044c\", \"\\u0430\\u0433\\u0435\\u043d\\u0442\", \"\\u0430\\u0434\\u0432\\u043e\\u043a\\u0430\\u0442\", \"\\u0430\\u0434\\u0435\\u043a\\u0432\\u0430\\u0442\\u043d\\u044b\\u0439\", \"\\u0430\\u0434\\u043c\\u0438\\u043d\\u0438\\u0441\\u0442\\u0440\\u0430\\u0446\\u0438\\u044f\", \"\\u0430\\u0434\\u043c\\u0438\\u043d\\u0438\\u0441\\u0442\\u0440\\u0430\\u0446\\u0438\\u044f\", \"\\u0430\\u0434\\u043c\\u0438\\u043d\\u0438\\u0441\\u0442\\u0440\\u0430\\u0446\\u0438\\u044f\", \"\\u0430\\u0434\\u0440\\u0435\\u0441\", \"\\u0430\\u0434\\u0440\\u0435\\u0441\", \"\\u0430\\u043a\\u0442\\u0438\\u0432\\u0438\\u0441\\u0442\", \"\\u0430\\u043a\\u0446\\u0438\\u044f\", \"\\u0430\\u043a\\u0446\\u0438\\u044f\", \"\\u0430\\u043b\\u0435\\u043a\\u0441\\u0430\\u043d\\u0434\\u0440\", \"\\u0430\\u043b\\u0435\\u043a\\u0441\\u0430\\u043d\\u0434\\u0440\", \"\\u0430\\u043b\\u0435\\u043a\\u0441\\u0430\\u043d\\u0434\\u0440\", \"\\u0430\\u043b\\u0435\\u043a\\u0441\\u0430\\u043d\\u0434\\u0440\", \"\\u0430\\u043b\\u0435\\u043a\\u0441\\u0435\\u0439\", \"\\u0430\\u043c\\u0435\\u0440\\u0438\\u043a\\u0430\\u043d\\u0435\\u0446\", \"\\u0430\\u043c\\u0435\\u0440\\u0438\\u043a\\u0430\\u043d\\u0441\\u043a\\u0438\\u0439\", \"\\u0430\\u043c\\u0435\\u0440\\u0438\\u043a\\u0430\\u043d\\u0441\\u043a\\u0438\\u0439\", \"\\u0430\\u043d\\u0430\\u043b\\u0438\\u0442\\u0438\\u043a\", \"\\u0430\\u043d\\u0433\\u043b\\u0438\\u0439\\u0441\\u043a\\u0438\\u0439\", \"\\u0430\\u0440\\u0435\\u0441\\u0442\", \"\\u0430\\u0440\\u043c\\u0438\\u044f\", \"\\u0430\\u0440\\u043c\\u0438\\u044f\", \"\\u0430\\u0440\\u043c\\u0438\\u044f\", \"\\u0430\\u0440\\u0442\\u0438\\u043b\\u043b\\u0435\\u0440\\u0438\\u0439\\u0441\\u043a\\u0438\\u0439\", \"\\u0430\\u0442\\u0430\\u043a\\u0430\", \"\\u0430\\u044d\\u0440\\u043e\\u043f\\u043e\\u0440\\u0442\", \"\\u0431\\u0430\\u0437\\u0430\", \"\\u0431\\u0430\\u0437\\u0430\", \"\\u0431\\u0430\\u043b\\u043b\", \"\\u0431\\u0430\\u043d\\u0434\\u0444\\u043e\\u0440\\u043c\\u0438\\u0440\\u043e\\u0432\\u0430\\u043d\\u0438\\u0435\", \"\\u0431\\u0430\\u043d\\u043a\", \"\\u0431\\u0430\\u043d\\u043a\", \"\\u0431\\u0430\\u043d\\u043a\\u0430\", \"\\u0431\\u0430\\u043d\\u043a\\u043e\\u0432\\u0441\\u043a\\u0438\\u0439\", \"\\u0431\\u0435\\u043b\\u043e\\u0440\\u0443\\u0441\\u0441\\u0438\\u044f\", \"\\u0431\\u0435\\u0440\\u043b\\u0438\\u043d\", \"\\u0431\\u0435\\u0441\\u043f\\u043e\\u0440\\u044f\\u0434\\u043e\\u043a\", \"\\u0431\\u0438\\u0440\\u0436\\u0430\", \"\\u0431\\u043b\\u0430\\u0433\\u043e\\u0434\\u0430\\u0440\\u044f\", \"\\u0431\\u043b\\u0438\\u0437\\u043b\\u0435\\u0436\\u0430\\u0449\\u0438\\u0439\", \"\\u0431\\u043b\\u043e\\u043a\", \"\\u0431\\u043e\\u0435\\u0432\\u0438\\u043a\", \"\\u0431\\u043e\\u0435\\u0432\\u043e\\u0439\", \"\\u0431\\u043e\\u0435\\u043f\\u0440\\u0438\\u043f\\u0430\\u0441\\u044b\", \"\\u0431\\u043e\\u0439\", \"\\u0431\\u043e\\u043b\\u044c\\u043d\\u0438\\u0446\\u0430\", \"\\u0431\\u043e\\u043b\\u044c\\u043d\\u0438\\u0446\\u0430\", \"\\u0431\\u043e\\u043b\\u044c\\u043d\\u043e\\u0439\", \"\\u0431\\u043e\\u0440\\u0442\", \"\\u0431\\u043e\\u0440\\u044c\\u0431\\u0430\", \"\\u0431\\u043e\\u0440\\u044c\\u0431\\u0430\", \"\\u0431\\u043e\\u0440\\u044c\\u0431\\u0430\", \"\\u0431\\u0440\\u0438\\u0442\\u0430\\u043d\\u0441\\u043a\\u0438\\u0439\", \"\\u0431\\u0440\\u0438\\u0442\\u0430\\u043d\\u0441\\u043a\\u0438\\u0439\", \"\\u0431\\u0440\\u0438\\u0442\\u0430\\u043d\\u0441\\u043a\\u0438\\u0439\", \"\\u0431\\u0440\\u043e\\u0441\\u0430\\u0442\\u044c\", \"\\u0431\\u0443\\u0434\\u0443\\u0449\\u0435\\u0435\", \"\\u0431\\u044b\\u0432\\u0448\\u0438\\u0439\", \"\\u0431\\u044b\\u0432\\u0448\\u0438\\u0439\", \"\\u0431\\u044b\\u0432\\u0448\\u0438\\u0439\", \"\\u0431\\u044b\\u0432\\u0448\\u0438\\u0439\", \"\\u0431\\u044b\\u0432\\u0448\\u0438\\u0439\", \"\\u0431\\u044b\\u0432\\u0448\\u0438\\u0439\", \"\\u0431\\u044b\\u0441\\u0442\\u0440\\u043e\", \"\\u0431\\u044b\\u0441\\u0442\\u0440\\u043e\", \"\\u0431\\u044e\\u0434\\u0436\\u0435\\u0442\", \"\\u0432\\u0430\\u043b\\u0435\\u0440\\u0438\\u0439\", \"\\u0432\\u0430\\u043b\\u044e\\u0442\\u0430\", \"\\u0432\\u0430\\u043b\\u044e\\u0442\\u043d\\u044b\\u0439\", \"\\u0432\\u0430\\u0448\\u0438\\u043d\\u0433\\u0442\\u043e\\u043d\", \"\\u0432\\u0432\\u0435\\u0434\\u0435\\u043d\\u0438\\u0435\", \"\\u0432\\u0432\\u043e\\u0434\\u0438\\u0442\\u044c\", \"\\u0432\\u0432\\u0441\", \"\\u0432\\u0435\\u0434\\u0435\\u043d\\u0438\\u0435\", \"\\u0432\\u0435\\u0434\\u043e\\u043c\\u0441\\u0442\\u0432\\u043e\", \"\\u0432\\u0435\\u0434\\u043e\\u043c\\u0441\\u0442\\u0432\\u043e\", \"\\u0432\\u0435\\u0440\\u043d\\u0443\\u0442\\u044c\", \"\\u0432\\u0435\\u0441\\u0442\\u0438\\u0441\\u044c\", \"\\u0432\\u0435\\u0441\\u0442\\u0438\\u0441\\u044c\", \"\\u0432\\u0435\\u0441\\u0442\\u0438\\u0441\\u044c\", \"\\u0432\\u0435\\u0441\\u0442\\u044c\", \"\\u0432\\u0435\\u0441\\u044c\", \"\\u0432\\u0435\\u0441\\u044c\", \"\\u0432\\u0435\\u0441\\u044c\", \"\\u0432\\u0435\\u0441\\u044c\", \"\\u0432\\u0435\\u0441\\u044c\", \"\\u0432\\u0435\\u0441\\u044c\", \"\\u0432\\u0435\\u0441\\u044c\", \"\\u0432\\u0435\\u0441\\u044c\", \"\\u0432\\u0435\\u0441\\u044c\", \"\\u0432\\u0435\\u0441\\u044c\", \"\\u0432\\u0435\\u0441\\u044c\", \"\\u0432\\u0435\\u0441\\u044c\", \"\\u0432\\u0435\\u0441\\u044c\\u043c\\u0430\", \"\\u0432\\u0435\\u0449\\u0430\\u043d\\u0438\\u0435\", \"\\u0432\\u0435\\u0449\\u0435\\u0441\\u0442\\u0432\\u043e\", \"\\u0432\\u0437\\u043b\\u0435\\u0442\", \"\\u0432\\u0437\\u0440\\u044b\\u0432\", \"\\u0432\\u0437\\u0440\\u044b\\u0432\", \"\\u0432\\u0437\\u0440\\u044b\\u0432\", \"\\u0432\\u0437\\u0440\\u044b\\u0432\\u0430\\u0442\\u044c\\u0441\\u044f\", \"\\u0432\\u0437\\u0440\\u044b\\u0432\\u043d\\u043e\\u0439\", \"\\u0432\\u0437\\u0440\\u044b\\u0432\\u0447\\u0430\\u0442\\u043a\\u0430\", \"\\u0432\\u0438\\u0437\\u0438\\u0442\", \"\\u0432\\u0438\\u043d\\u043e\\u0432\\u043d\\u044b\\u0439\", \"\\u0432\\u0438\\u0446\\u0430\", \"\\u0432\\u043b\\u0430\\u0434\\u0438\\u043c\\u0438\\u0440\", \"\\u0432\\u043b\\u0430\\u0434\\u0438\\u043c\\u0438\\u0440\", \"\\u0432\\u043b\\u0430\\u0441\\u0442\\u044c\", \"\\u0432\\u043b\\u0430\\u0441\\u0442\\u044c\", \"\\u0432\\u043b\\u0430\\u0441\\u0442\\u044c\", \"\\u0432\\u043b\\u0430\\u0441\\u0442\\u044c\", \"\\u0432\\u043b\\u0430\\u0441\\u0442\\u044c\", \"\\u0432\\u043b\\u0430\\u0441\\u0442\\u044c\", \"\\u0432\\u043b\\u0430\\u0441\\u0442\\u044c\", \"\\u0432\\u043b\\u0430\\u0441\\u0442\\u044c\", \"\\u0432\\u043b\\u0430\\u0441\\u0442\\u044c\", \"\\u0432\\u043d\\u043e\\u0432\\u044c\", \"\\u0432\\u043d\\u043e\\u0432\\u044c\", \"\\u0432\\u043d\\u043e\\u0432\\u044c\", \"\\u0432\\u043d\\u043e\\u0441\\u0438\\u0442\\u044c\", \"\\u0432\\u043d\\u0443\\u0442\\u0440\\u0435\\u043d\\u043d\\u0438\\u0439\", \"\\u0432\\u043d\\u0443\\u0442\\u0440\\u0435\\u043d\\u043d\\u0438\\u0439\", \"\\u0432\\u043d\\u0443\\u0442\\u0440\\u0435\\u043d\\u043d\\u0438\\u0439\", \"\\u0432\\u043e\\u0434\\u0430\", \"\\u0432\\u043e\\u0434\\u0438\\u0442\\u0435\\u043b\\u044c\", \"\\u0432\\u043e\\u0435\\u043d\\u043d\\u043e\\u0441\\u043b\\u0443\\u0436\\u0430\\u0449\\u0438\\u0439\", \"\\u0432\\u043e\\u0435\\u043d\\u043d\\u044b\\u0439\", \"\\u0432\\u043e\\u0435\\u043d\\u043d\\u044b\\u0439\", \"\\u0432\\u043e\\u0435\\u043d\\u043d\\u044b\\u0439\", \"\\u0432\\u043e\\u0437\\u0431\\u0443\\u0436\\u0434\\u0430\\u0442\\u044c\", \"\\u0432\\u043e\\u0437\\u0434\\u0443\\u0448\\u043d\\u044b\\u0439\", \"\\u0432\\u043e\\u0437\\u043b\\u0435\", \"\\u0432\\u043e\\u0437\\u043d\\u0438\\u043a\\u0430\\u0442\\u044c\", \"\\u0432\\u043e\\u0437\\u043d\\u0438\\u043a\\u0430\\u0442\\u044c\", \"\\u0432\\u043e\\u0437\\u043d\\u0438\\u043a\\u0430\\u0442\\u044c\", \"\\u0432\\u043e\\u0437\\u0440\\u0430\\u0441\\u0442\", \"\\u0432\\u043e\\u0439\\u043d\\u0430\", \"\\u0432\\u043e\\u0439\\u043d\\u0430\", \"\\u0432\\u043e\\u0439\\u043d\\u0430\", \"\\u0432\\u043e\\u0439\\u043d\\u0430\", \"\\u0432\\u043e\\u0439\\u0441\\u043a\\u043e\", \"\\u0432\\u043e\\u043e\\u0431\\u0449\\u0435\", \"\\u0432\\u043e\\u043e\\u0440\\u0443\\u0436\\u0435\\u043d\\u043d\\u044b\\u0439\", \"\\u0432\\u043e\\u043f\\u0440\\u043e\\u0441\", \"\\u0432\\u043e\\u043f\\u0440\\u043e\\u0441\", \"\\u0432\\u043e\\u043f\\u0440\\u043e\\u0441\", \"\\u0432\\u043e\\u0440\\u043e\\u0442\\u0430\", \"\\u0432\\u043e\\u0441\\u043f\\u043e\\u043b\\u044c\\u0437\\u043e\\u0432\\u0430\\u0442\\u044c\\u0441\\u044f\", \"\\u0432\\u043e\\u0441\\u0442\\u043e\\u0447\\u043d\\u044b\\u0439\", \"\\u0432\\u043f\\u043e\\u0441\\u043b\\u0435\\u0434\\u0441\\u0442\\u0432\\u0438\\u0438\", \"\\u0432\\u0440\\u0435\\u043c\\u044f\", \"\\u0432\\u0440\\u0435\\u043c\\u044f\", \"\\u0432\\u0440\\u0435\\u043c\\u044f\", \"\\u0432\\u0440\\u0435\\u043c\\u044f\", \"\\u0432\\u0440\\u0435\\u043c\\u044f\", \"\\u0432\\u0440\\u0435\\u043c\\u044f\", \"\\u0432\\u0440\\u0435\\u043c\\u044f\", \"\\u0432\\u0440\\u0435\\u043c\\u044f\", \"\\u0432\\u0440\\u0435\\u043c\\u044f\", \"\\u0432\\u0440\\u0435\\u043c\\u044f\", \"\\u0432\\u0440\\u0435\\u043c\\u044f\", \"\\u0432\\u0440\\u0435\\u043c\\u044f\", \"\\u0432\\u0440\\u0435\\u043c\\u044f\", \"\\u0432\\u0440\\u0435\\u043c\\u044f\", \"\\u0432\\u0440\\u0435\\u043c\\u044f\", \"\\u0432\\u0441\\u0435\\u043c\\u0438\\u0440\\u043d\\u044b\\u0439\", \"\\u0432\\u0441\\u0442\\u0440\\u0435\\u0447\\u0430\", \"\\u0432\\u0441\\u0442\\u0440\\u0435\\u0447\\u0430\", \"\\u0432\\u0441\\u0442\\u0440\\u0435\\u0447\\u0430\\u0442\\u044c\\u0441\\u044f\", \"\\u0432\\u0442\\u043e\\u0440\\u043e\\u0439\", \"\\u0432\\u0442\\u043e\\u0440\\u043e\\u0439\", \"\\u0432\\u0442\\u043e\\u0440\\u043e\\u0439\", \"\\u0432\\u0442\\u043e\\u0440\\u043e\\u0439\", \"\\u0432\\u0442\\u043e\\u0440\\u043e\\u0439\", \"\\u0432\\u0442\\u043e\\u0440\\u043e\\u0439\", \"\\u0432\\u0445\\u043e\\u0434\", \"\\u0432\\u0445\\u043e\\u0434\\u0438\\u0442\\u044c\", \"\\u0432\\u0445\\u043e\\u0434\\u0438\\u0442\\u044c\", \"\\u0432\\u0445\\u043e\\u0434\\u0438\\u0442\\u044c\", \"\\u0432\\u0445\\u043e\\u0434\\u0438\\u0442\\u044c\", \"\\u0432\\u0445\\u043e\\u0434\\u0438\\u0442\\u044c\", \"\\u0432\\u0445\\u043e\\u0434\\u0438\\u0442\\u044c\", \"\\u0432\\u0447\\u0435\\u0440\\u0430\", \"\\u0432\\u044b\\u0431\\u043e\\u0440\\u044b\", \"\\u0432\\u044b\\u0432\\u0435\\u0441\\u0442\\u0438\", \"\\u0432\\u044b\\u0432\\u043e\\u0434\\u0438\\u0442\\u044c\", \"\\u0432\\u044b\\u0432\\u043e\\u0437\\u0438\\u0442\\u044c\", \"\\u0432\\u044b\\u0435\\u0437\\u0436\\u0430\\u0442\\u044c\", \"\\u0432\\u044b\\u0437\\u043e\\u0432\", \"\\u0432\\u044b\\u043b\\u0435\\u0442\\u0430\\u0442\\u044c\", \"\\u0432\\u044b\\u043d\\u0435\\u0441\\u0442\\u0438\", \"\\u0432\\u044b\\u043f\\u0443\\u0441\\u043a\", \"\\u0432\\u044b\\u0440\\u0430\\u0436\\u0435\\u043d\\u0438\\u0435\", \"\\u0432\\u044b\\u0440\\u0430\\u0441\\u0442\\u0430\\u0442\\u044c\", \"\\u0432\\u044b\\u0441\\u043a\\u0430\\u0437\\u044b\\u0432\\u0430\\u0442\\u044c\", \"\\u0432\\u044b\\u0441\\u043e\\u043a\\u0438\\u0439\", \"\\u0432\\u044b\\u0441\\u043e\\u043a\\u0438\\u0439\", \"\\u0432\\u044b\\u0441\\u043e\\u043a\\u0438\\u0439\", \"\\u0432\\u044b\\u0441\\u043e\\u043a\\u0438\\u0439\", \"\\u0432\\u044b\\u0441\\u043e\\u043a\\u043e\\u043f\\u043e\\u0441\\u0442\\u0430\\u0432\\u043b\\u0435\\u043d\\u043d\\u044b\\u0439\", \"\\u0432\\u044b\\u0441\\u0442\\u0443\\u043f\\u0430\\u0442\\u044c\", \"\\u0432\\u044b\\u0441\\u0442\\u0443\\u043f\\u0430\\u0442\\u044c\", \"\\u0432\\u044b\\u0441\\u0442\\u0443\\u043f\\u0430\\u0442\\u044c\", \"\\u0432\\u044b\\u0441\\u0442\\u0443\\u043f\\u0430\\u0442\\u044c\", \"\\u0432\\u044b\\u0445\\u043e\\u0434\", \"\\u0432\\u044b\\u0445\\u043e\\u0434\", \"\\u0432\\u044b\\u044f\\u0441\\u043d\\u0438\\u0432\\u0430\\u0442\\u044c\", \"\\u0432\\u044b\\u044f\\u0441\\u043d\\u044f\\u0442\\u044c\\u0441\\u044f\", \"\\u0432\\u044b\\u044f\\u0441\\u043d\\u044f\\u0442\\u044c\\u0441\\u044f\", \"\\u0433\\u0430\\u0437\", \"\\u0433\\u0430\\u0437\\u0435\\u0442\\u0430\", \"\\u0433\\u0430\\u0437\\u0435\\u0442\\u0430\", \"\\u0433\\u0435\\u043d\\u0435\\u0440\\u0430\\u043b\", \"\\u0433\\u0435\\u043d\\u0435\\u0440\\u0430\\u043b\", \"\\u0433\\u0435\\u043d\\u043f\\u0440\\u043e\\u043a\\u0443\\u0440\\u0430\\u0442\\u0443\\u0440\\u0430\", \"\\u0433\\u0435\\u043d\\u043f\\u0440\\u043e\\u043a\\u0443\\u0440\\u043e\\u0440\", \"\\u0433\\u0438\\u0431\\u0435\\u043b\\u044c\", \"\\u0433\\u043b\\u0430\\u0432\\u0430\", \"\\u0433\\u043b\\u0430\\u0432\\u0430\", \"\\u0433\\u043b\\u0430\\u0432\\u0430\", \"\\u0433\\u043e\\u0434\", \"\\u0433\\u043e\\u0434\", \"\\u0433\\u043e\\u0434\", \"\\u0433\\u043e\\u0434\", \"\\u0433\\u043e\\u0434\", \"\\u0433\\u043e\\u0434\", \"\\u0433\\u043e\\u0434\", \"\\u0433\\u043e\\u0434\", \"\\u0433\\u043e\\u0434\", \"\\u0433\\u043e\\u0434\", \"\\u0433\\u043e\\u0434\", \"\\u0433\\u043e\\u0434\", \"\\u0433\\u043e\\u0434\", \"\\u0433\\u043e\\u0434\", \"\\u0433\\u043e\\u043b\\u043e\\u0441\", \"\\u0433\\u043e\\u043b\\u043e\\u0441\\u043e\\u0432\\u0430\\u043d\\u0438\\u0435\", \"\\u0433\\u043e\\u0440\\u0430\", \"\\u0433\\u043e\\u0440\\u043e\\u0434\", \"\\u0433\\u043e\\u0440\\u043e\\u0434\", \"\\u0433\\u043e\\u0440\\u043e\\u0434\", \"\\u0433\\u043e\\u0440\\u043e\\u0434\", \"\\u0433\\u043e\\u0440\\u043e\\u0434\", \"\\u0433\\u043e\\u0440\\u043e\\u0434\", \"\\u0433\\u043e\\u0440\\u043e\\u0434\\u043e\\u043a\", \"\\u0433\\u043e\\u0440\\u043e\\u0434\\u0441\\u043a\\u043e\\u0439\", \"\\u0433\\u043e\\u0441\\u0434\\u0443\\u043c\\u0430\", \"\\u0433\\u043e\\u0441\\u043f\\u0438\\u0442\\u0430\\u043b\\u044c\", \"\\u0433\\u043e\\u0441\\u0443\\u0434\\u0430\\u0440\\u0441\\u0442\\u0432\\u0435\\u043d\\u043d\\u044b\\u0439\", \"\\u0433\\u043e\\u0441\\u0443\\u0434\\u0430\\u0440\\u0441\\u0442\\u0432\\u0435\\u043d\\u043d\\u044b\\u0439\", \"\\u0433\\u043e\\u0441\\u0443\\u0434\\u0430\\u0440\\u0441\\u0442\\u0432\\u0435\\u043d\\u043d\\u044b\\u0439\", \"\\u0433\\u043e\\u0441\\u0443\\u0434\\u0430\\u0440\\u0441\\u0442\\u0432\\u0435\\u043d\\u043d\\u044b\\u0439\", \"\\u0433\\u043e\\u0441\\u0443\\u0434\\u0430\\u0440\\u0441\\u0442\\u0432\\u043e\", \"\\u0433\\u043e\\u0441\\u0443\\u0434\\u0430\\u0440\\u0441\\u0442\\u0432\\u043e\", \"\\u0433\\u043e\\u0442\\u043e\\u0432\\u043d\\u043e\\u0441\\u0442\\u044c\", \"\\u0433\\u0440\\u0430\\u043d\\u0430\\u0442\", \"\\u0433\\u0440\\u0430\\u043d\\u0430\\u0442\\u0430\", \"\\u0433\\u0440\\u0430\\u043d\\u0430\\u0442\\u043e\\u043c\\u0435\\u0442\", \"\\u0433\\u0440\\u0430\\u043d\\u0438\\u0446\\u0430\", \"\\u0433\\u0440\\u0430\\u043d\\u0438\\u0446\\u0430\", \"\\u0433\\u0440\\u0430\\u043d\\u0438\\u0446\\u0430\", \"\\u0433\\u0440\\u043e\\u0437\\u043d\\u044b\\u0439\", \"\\u0433\\u0440\\u0443\\u0437\\u0438\\u043d\\u0441\\u043a\\u0438\\u0439\", \"\\u0433\\u0440\\u0443\\u0437\\u0438\\u044f\", \"\\u0433\\u0440\\u0443\\u043f\\u043f\\u0430\", \"\\u0433\\u0440\\u0443\\u043f\\u043f\\u0430\", \"\\u0433\\u0440\\u0443\\u043f\\u043f\\u0430\", \"\\u0433\\u0440\\u0443\\u043f\\u043f\\u0430\", \"\\u0433\\u0440\\u0443\\u043f\\u043f\\u0430\", \"\\u0433\\u0440\\u0443\\u043f\\u043f\\u0430\", \"\\u0433\\u0440\\u0443\\u043f\\u043f\\u0430\", \"\\u0433\\u0440\\u0443\\u043f\\u043f\\u0430\", \"\\u0433\\u0440\\u0443\\u043f\\u043f\\u0430\", \"\\u0433\\u0440\\u0443\\u043f\\u043f\\u0438\\u0440\\u043e\\u0432\\u043a\\u0430\", \"\\u0433\\u0443\\u0431\\u0435\\u0440\\u043d\\u0430\\u0442\\u043e\\u0440\", \"\\u0433\\u0443\\u0432\\u0434\", \"\\u0434\\u0430\\u0432\\u043b\\u0435\\u043d\\u0438\\u0435\", \"\\u0434\\u0430\\u0432\\u043b\\u0435\\u043d\\u0438\\u0435\", \"\\u0434\\u0430\\u0433\\u0435\\u0441\\u0442\\u0430\\u043d\", \"\\u0434\\u0430\\u0433\\u0435\\u0441\\u0442\\u0430\\u043d\\u0441\\u043a\\u0438\\u0439\", \"\\u0434\\u0430\\u043b\\u0435\\u0435\", \"\\u0434\\u0430\\u043d\\u043d\\u044b\\u0435\", \"\\u0434\\u0430\\u043d\\u043d\\u044b\\u0435\", \"\\u0434\\u0430\\u043d\\u043d\\u044b\\u0435\", \"\\u0434\\u0430\\u043d\\u043d\\u044b\\u0435\", \"\\u0434\\u0430\\u043d\\u043d\\u044b\\u0435\", \"\\u0434\\u0430\\u043d\\u043d\\u044b\\u0435\", \"\\u0434\\u0430\\u043d\\u043d\\u044b\\u0435\", \"\\u0434\\u0430\\u043d\\u043d\\u044b\\u0435\", \"\\u0434\\u0430\\u043d\\u043d\\u044b\\u0435\", \"\\u0434\\u0430\\u043d\\u043d\\u044b\\u0435\", \"\\u0434\\u0430\\u043d\\u043d\\u044b\\u0435\", \"\\u0434\\u0430\\u043d\\u043d\\u044b\\u0439\", \"\\u0434\\u0430\\u043d\\u043d\\u044b\\u0439\", \"\\u0434\\u0430\\u043d\\u043d\\u044b\\u0439\", \"\\u0434\\u0430\\u043d\\u043d\\u044b\\u0439\", \"\\u0434\\u0430\\u043d\\u043d\\u044b\\u0439\", \"\\u0434\\u0430\\u043d\\u043d\\u044b\\u0439\", \"\\u0434\\u0430\\u043d\\u043d\\u044b\\u0439\", \"\\u0434\\u0430\\u043d\\u043d\\u044b\\u0439\", \"\\u0434\\u0432\\u0435\\u0440\\u044c\", \"\\u0434\\u0432\\u0438\\u0436\\u0435\\u043d\\u0438\\u0435\", \"\\u0434\\u0432\\u0438\\u0436\\u0435\\u043d\\u0438\\u0435\", \"\\u0434\\u0432\\u043e\\u0435\", \"\\u0434\\u0432\\u043e\\u0435\", \"\\u0434\\u0432\\u043e\\u0440\\u0435\\u0446\", \"\\u0434\\u0435\\u0436\\u0443\\u0440\\u043d\\u044b\\u0439\", \"\\u0434\\u0435\\u0439\\u0441\\u0442\\u0432\\u0438\\u0435\", \"\\u0434\\u0435\\u0439\\u0441\\u0442\\u0432\\u0438\\u0435\", \"\\u0434\\u0435\\u0439\\u0441\\u0442\\u0432\\u0438\\u0435\", \"\\u0434\\u0435\\u0439\\u0441\\u0442\\u0432\\u0438\\u0435\", \"\\u0434\\u0435\\u0439\\u0441\\u0442\\u0432\\u0438\\u0435\", \"\\u0434\\u0435\\u043b\\u0435\\u0433\\u0430\\u0446\\u0438\\u044f\", \"\\u0434\\u0435\\u043b\\u043e\", \"\\u0434\\u0435\\u043b\\u043e\", \"\\u0434\\u0435\\u043b\\u043e\", \"\\u0434\\u0435\\u043b\\u043e\", \"\\u0434\\u0435\\u043b\\u043e\", \"\\u0434\\u0435\\u043b\\u043e\", \"\\u0434\\u0435\\u043b\\u043e\", \"\\u0434\\u0435\\u043b\\u043e\", \"\\u0434\\u0435\\u043b\\u043e\\u0432\\u043e\\u0439\", \"\\u0434\\u0435\\u043b\\u043e\\u0432\\u043e\\u0439\", \"\\u0434\\u0435\\u043c\\u043e\\u043a\\u0440\\u0430\\u0442\\u0438\\u0447\\u0435\\u0441\\u043a\\u0438\\u0439\", \"\\u0434\\u0435\\u043c\\u043e\\u043d\\u0441\\u0442\\u0440\\u0430\\u0446\\u0438\\u044f\", \"\\u0434\\u0435\\u043d\\u044c\", \"\\u0434\\u0435\\u043d\\u044c\", \"\\u0434\\u0435\\u043d\\u044c\", \"\\u0434\\u0435\\u043d\\u044c\", \"\\u0434\\u0435\\u043d\\u044c\", \"\\u0434\\u0435\\u043d\\u044c\", \"\\u0434\\u0435\\u043d\\u044c\", \"\\u0434\\u0435\\u043d\\u044c\", \"\\u0434\\u0435\\u043d\\u044c\", \"\\u0434\\u0435\\u043d\\u044c\", \"\\u0434\\u0435\\u043d\\u044c\", \"\\u0434\\u0435\\u043d\\u044c\", \"\\u0434\\u0435\\u043d\\u044c\", \"\\u0434\\u0435\\u043d\\u044c\\u0433\\u0438\", \"\\u0434\\u0435\\u043f\\u0430\\u0440\\u0442\\u0430\\u043c\\u0435\\u043d\\u0442\", \"\\u0434\\u0435\\u043f\\u0443\\u0442\\u0430\\u0442\", \"\\u0434\\u0435\\u0440\\u0435\\u0432\\u043e\", \"\\u0434\\u0435\\u0441\\u044f\\u0442\\u043e\\u043a\", \"\\u0434\\u0435\\u0441\\u044f\\u0442\\u043e\\u043a\", \"\\u0434\\u0435\\u0441\\u044f\\u0442\\u044c\", \"\\u0434\\u0435\\u0441\\u044f\\u0442\\u044c\", \"\\u0434\\u0436\\u0435\\u0439\\u043c\\u0441\", \"\\u0434\\u0436\\u043e\\u043d\", \"\\u0434\\u0438\\u0440\\u0435\\u043a\\u0442\\u043e\\u0440\", \"\\u0434\\u0438\\u0440\\u0435\\u043a\\u0442\\u043e\\u0440\", \"\\u0434\\u0438\\u0440\\u0435\\u043a\\u0442\\u043e\\u0440\", \"\\u0434\\u0438\\u0440\\u0435\\u043a\\u0442\\u043e\\u0440\", \"\\u0434\\u043e\\u0431\\u0430\\u0432\\u043b\\u044f\\u0442\\u044c\", \"\\u0434\\u043e\\u0431\\u0438\\u0432\\u0430\\u0442\\u044c\\u0441\\u044f\", \"\\u0434\\u043e\\u0432\\u043e\\u0434\\u0438\\u0442\\u044c\", \"\\u0434\\u043e\\u0433\\u043e\\u0432\\u043e\\u0440\", \"\\u0434\\u043e\\u043a\\u0430\\u0437\\u0430\\u0442\\u0435\\u043b\\u044c\\u0441\\u0442\\u0432\\u043e\", \"\\u0434\\u043e\\u043b\\u0433\", \"\\u0434\\u043e\\u043b\\u0436\\u043d\\u043e\\u0441\\u0442\\u044c\", \"\\u0434\\u043e\\u043b\\u0436\\u043d\\u043e\\u0441\\u0442\\u044c\", \"\\u0434\\u043e\\u043b\\u0436\\u043d\\u044b\\u0439\", \"\\u0434\\u043e\\u043b\\u0436\\u043d\\u044b\\u0439\", \"\\u0434\\u043e\\u043b\\u0436\\u043d\\u044b\\u0439\", \"\\u0434\\u043e\\u043b\\u0436\\u043d\\u044b\\u0439\", \"\\u0434\\u043e\\u043b\\u0436\\u043d\\u044b\\u0439\", \"\\u0434\\u043e\\u043b\\u0436\\u043d\\u044b\\u0439\", \"\\u0434\\u043e\\u043b\\u0436\\u043d\\u044b\\u0439\", \"\\u0434\\u043e\\u043b\\u0436\\u043d\\u044b\\u0439\", \"\\u0434\\u043e\\u043b\\u043b\\u0430\\u0440\", \"\\u0434\\u043e\\u043c\", \"\\u0434\\u043e\\u043c\", \"\\u0434\\u043e\\u043c\", \"\\u0434\\u043e\\u043f\\u0440\\u043e\\u0441\", \"\\u0434\\u043e\\u0440\\u043e\\u0433\\u043e\\u0439\", \"\\u0434\\u043e\\u0441\\u0442\\u0430\\u0432\\u043a\\u0430\", \"\\u0434\\u043e\\u0441\\u0442\\u0430\\u0432\\u043b\\u044f\\u0442\\u044c\", \"\\u0434\\u043e\\u0441\\u0442\\u043e\\u0432\\u0435\\u0440\\u043d\\u044b\\u0439\", \"\\u0434\\u043e\\u0445\\u043e\\u0434\", \"\\u0434\\u0440\\u0443\\u0433\", \"\\u0434\\u0443\\u043c\\u0430\", \"\\u0435\\u0432\\u0433\\u0435\\u043d\\u0438\\u0439\", \"\\u0435\\u0432\\u0440\\u043e\", \"\\u0435\\u0432\\u0440\\u043e\\u043f\\u0430\", \"\\u0435\\u0432\\u0440\\u043e\\u043f\\u0435\\u0439\\u0441\\u043a\\u0438\\u0439\", \"\\u0435\\u043b\\u044c\\u0446\\u0438\\u043d\", \"\\u0436\\u0430\\u043b\\u043e\\u0431\\u0430\", \"\\u0436\\u0434\\u0430\\u0442\\u044c\", \"\\u0436\\u0435\\u043b\\u0430\\u0442\\u044c\", \"\\u0436\\u0435\\u043b\\u0435\\u0437\\u043d\\u043e\\u0434\\u043e\\u0440\\u043e\\u0436\\u043d\\u044b\\u0439\", \"\\u0436\\u0435\\u043d\\u0449\\u0438\\u043d\\u0430\", \"\\u0436\\u0435\\u043d\\u0449\\u0438\\u043d\\u0430\", \"\\u0436\\u0438\\u0437\\u043d\\u044c\", \"\\u0436\\u0438\\u0437\\u043d\\u044c\", \"\\u0436\\u0438\\u0437\\u043d\\u044c\", \"\\u0436\\u0438\\u0442\\u044c\", \"\\u0436\\u0443\\u0440\\u043d\\u0430\\u043b\\u0438\\u0441\\u0442\", \"\\u0436\\u0443\\u0440\\u043d\\u0430\\u043b\\u0438\\u0441\\u0442\", \"\\u0436\\u0443\\u0440\\u043d\\u0430\\u043b\\u0438\\u0441\\u0442\", \"\\u0436\\u0443\\u0440\\u043d\\u0430\\u043b\\u0438\\u0441\\u0442\", \"\\u0436\\u0443\\u0440\\u043d\\u0430\\u043b\\u0438\\u0441\\u0442\", \"\\u0437\\u0430\\u0432\\u0435\\u0440\\u0448\\u0430\\u0442\\u044c\\u0441\\u044f\", \"\\u0437\\u0430\\u0432\\u0435\\u0440\\u0448\\u0430\\u0442\\u044c\\u0441\\u044f\", \"\\u0437\\u0430\\u0433\\u043e\\u0440\\u0430\\u0442\\u044c\\u0441\\u044f\", \"\\u0437\\u0430\\u0434\\u0435\\u0440\\u0436\\u0430\\u043d\\u0438\\u0435\", \"\\u0437\\u0430\\u0434\\u0435\\u0440\\u0436\\u0438\\u0432\\u0430\\u0442\\u044c\", \"\\u0437\\u0430\\u0434\\u0435\\u0440\\u0436\\u0438\\u0432\\u0430\\u0442\\u044c\", \"\\u0437\\u0430\\u0434\\u043e\\u043b\\u0436\\u0435\\u043d\\u043d\\u043e\\u0441\\u0442\\u044c\", \"\\u0437\\u0430\\u0435\\u043c\", \"\\u0437\\u0430\\u043a\\u0430\\u0437\", \"\\u0437\\u0430\\u043a\\u043e\\u043d\", \"\\u0437\\u0430\\u043a\\u043e\\u043d\", \"\\u0437\\u0430\\u043a\\u043e\\u043d\", \"\\u0437\\u0430\\u043a\\u043e\\u043d\\u043d\\u044b\\u0439\", \"\\u0437\\u0430\\u043a\\u0440\\u044b\\u0432\\u0430\\u0442\\u044c\", \"\\u0437\\u0430\\u043a\\u0440\\u044b\\u0432\\u0430\\u0442\\u044c\", \"\\u0437\\u0430\\u043b\\u043e\\u0436\\u043d\\u0438\\u043a\", \"\\u0437\\u0430\\u043c\\u0435\\u0441\\u0442\\u0438\\u0442\\u0435\\u043b\\u044c\", \"\\u0437\\u0430\\u043c\\u0435\\u0441\\u0442\\u0438\\u0442\\u0435\\u043b\\u044c\", \"\\u0437\\u0430\\u043c\\u0435\\u0441\\u0442\\u0438\\u0442\\u0435\\u043b\\u044c\", \"\\u0437\\u0430\\u043c\\u0435\\u0441\\u0442\\u0438\\u0442\\u0435\\u043b\\u044c\", \"\\u0437\\u0430\\u043d\\u0438\\u043c\\u0430\\u0442\\u044c\\u0441\\u044f\", \"\\u0437\\u0430\\u043d\\u0438\\u043c\\u0430\\u0442\\u044c\\u0441\\u044f\", \"\\u0437\\u0430\\u043d\\u0438\\u043c\\u0430\\u0442\\u044c\\u0441\\u044f\", \"\\u0437\\u0430\\u043d\\u0438\\u043c\\u0430\\u0442\\u044c\\u0441\\u044f\", \"\\u0437\\u0430\\u043f\\u0430\\u0434\", \"\\u0437\\u0430\\u043f\\u043b\\u0430\\u0442\\u0438\\u0442\\u044c\", \"\\u0437\\u0430\\u043f\\u0440\\u0435\\u0442\", \"\\u0437\\u0430\\u043f\\u0440\\u0435\\u0449\\u0430\\u0442\\u044c\", \"\\u0437\\u0430\\u043f\\u0443\\u0441\\u043a\\u0430\\u0442\\u044c\", \"\\u0437\\u0430\\u0441\\u0435\\u0434\\u0430\\u043d\\u0438\\u0435\", \"\\u0437\\u0430\\u0441\\u0435\\u0434\\u0430\\u043d\\u0438\\u0435\", \"\\u0437\\u0430\\u0442\\u0435\\u043c\", \"\\u0437\\u0430\\u0442\\u0435\\u043c\", \"\\u0437\\u0430\\u0442\\u0435\\u043c\", \"\\u0437\\u0430\\u0444\\u0438\\u043a\\u0441\\u0438\\u0440\\u043e\\u0432\\u0430\\u0442\\u044c\", \"\\u0437\\u0430\\u0445\\u0432\\u0430\\u0442\\u0438\\u0442\\u044c\", \"\\u0437\\u0430\\u0447\\u0438\\u0441\\u0442\\u043a\\u0430\", \"\\u0437\\u0430\\u0449\\u0438\\u0449\\u0430\\u0442\\u044c\", \"\\u0437\\u0430\\u044f\\u0432\\u043b\\u044f\\u0442\\u044c\", \"\\u0437\\u0430\\u044f\\u0432\\u043b\\u044f\\u0442\\u044c\", \"\\u0437\\u0430\\u044f\\u0432\\u043b\\u044f\\u0442\\u044c\", \"\\u0437\\u0430\\u044f\\u0432\\u043b\\u044f\\u0442\\u044c\", \"\\u0437\\u0430\\u044f\\u0432\\u043b\\u044f\\u0442\\u044c\", \"\\u0437\\u0430\\u044f\\u0432\\u043b\\u044f\\u0442\\u044c\", \"\\u0437\\u0430\\u044f\\u0432\\u043b\\u044f\\u0442\\u044c\", \"\\u0437\\u0430\\u044f\\u0432\\u043b\\u044f\\u0442\\u044c\", \"\\u0437\\u0434\\u0430\\u043d\\u0438\\u0435\", \"\\u0437\\u0434\\u0430\\u043d\\u043e\\u0432\\u0438\\u0447\", \"\\u0437\\u0434\\u043e\\u0440\\u043e\\u0432\\u044c\\u0435\", \"\\u0437\\u0435\\u043c\\u043b\\u0435\\u0442\\u0440\\u044f\\u0441\\u0435\\u043d\\u0438\\u0435\", \"\\u0437\\u0435\\u043c\\u043b\\u044f\", \"\\u0437\\u043b\\u043e\\u0443\\u043c\\u044b\\u0448\\u043b\\u0435\\u043d\\u043d\\u0438\\u043a\", \"\\u0437\\u043e\\u043d\\u0430\", \"\\u0437\\u043e\\u043d\\u0430\", \"\\u0438\\u0432\\u0430\\u043d\\u043e\\u0432\", \"\\u0438\\u0433\\u043e\\u0440\\u044c\", \"\\u0438\\u0437\\u0431\\u0435\\u0433\\u0430\\u0442\\u044c\", \"\\u0438\\u0437\\u0431\\u0435\\u0433\\u0430\\u0442\\u044c\", \"\\u0438\\u0437\\u0431\\u0438\\u0432\\u0430\\u0442\\u044c\", \"\\u0438\\u0437\\u0431\\u0438\\u0440\\u0430\\u0442\\u0435\\u043b\\u044c\", \"\\u0438\\u0437\\u0431\\u0438\\u0440\\u0430\\u0442\\u0435\\u043b\\u044c\\u043d\\u044b\\u0439\", \"\\u0438\\u0437\\u0431\\u0438\\u0440\\u043a\\u043e\\u043c\", \"\\u0438\\u0437\\u0432\\u0435\\u0441\\u0442\\u0438\\u0435\", \"\\u0438\\u0437\\u0432\\u0435\\u0441\\u0442\\u043d\\u044b\\u0439\", \"\\u0438\\u0437\\u0432\\u0435\\u0441\\u0442\\u043d\\u044b\\u0439\", \"\\u0438\\u0437\\u0432\\u0435\\u0441\\u0442\\u043d\\u044b\\u0439\", \"\\u0438\\u0437\\u0432\\u0435\\u0441\\u0442\\u043d\\u044b\\u0439\", \"\\u0438\\u0437\\u0432\\u0435\\u0441\\u0442\\u043d\\u044b\\u0439\", \"\\u0438\\u0437\\u043c\\u0435\\u043d\\u0435\\u043d\\u0438\\u0435\", \"\\u0438\\u0437\\u043c\\u0435\\u043d\\u044f\\u0442\\u044c\\u0441\\u044f\", \"\\u0438\\u0437\\u043e\\u0431\\u0440\\u0430\\u0436\\u0435\\u043d\\u0438\\u0435\", \"\\u0438\\u0437\\u043e\\u043b\\u044f\\u0442\\u043e\\u0440\", \"\\u0438\\u0437\\u044b\\u043c\\u0430\\u0442\\u044c\", \"\\u0438\\u043b\\u044c\\u044f\", \"\\u0438\\u043c\\u044f\", \"\\u0438\\u043c\\u044f\", \"\\u0438\\u043c\\u044f\", \"\\u0438\\u043c\\u044f\", \"\\u0438\\u043c\\u044f\", \"\\u0438\\u043c\\u044f\", \"\\u0438\\u043d\\u0434\\u043e\\u043d\\u0435\\u0437\\u0438\\u0439\\u0441\\u043a\\u0438\\u0439\", \"\\u0438\\u043d\\u0434\\u043e\\u043d\\u0435\\u0437\\u0438\\u044f\", \"\\u0438\\u043d\\u043e\\u0439\", \"\\u0438\\u043d\\u0442\\u0435\\u0440\\u0432\\u044c\\u044e\", \"\\u0438\\u043d\\u0442\\u0435\\u0440\\u0432\\u044c\\u044e\", \"\\u0438\\u043d\\u0442\\u0435\\u0440\\u043d\\u0435\\u0442\", \"\\u0438\\u043d\\u0442\\u0435\\u0440\\u0444\\u0430\\u043a\\u0441\", \"\\u0438\\u043d\\u0442\\u0435\\u0440\\u0444\\u0430\\u043a\\u0441\", \"\\u0438\\u043d\\u0442\\u0435\\u0440\\u0444\\u0430\\u043a\\u0441\", \"\\u0438\\u043d\\u0442\\u0435\\u0440\\u0444\\u0430\\u043a\\u0441\", \"\\u0438\\u043d\\u0442\\u0435\\u0440\\u0444\\u0430\\u043a\\u0441\", \"\\u0438\\u043d\\u0442\\u0435\\u0440\\u0444\\u0430\\u043a\\u0441\", \"\\u0438\\u043d\\u0444\\u043e\\u0440\\u043c\\u0430\\u0446\\u0438\\u044f\", \"\\u0438\\u043d\\u0444\\u043e\\u0440\\u043c\\u0430\\u0446\\u0438\\u044f\", \"\\u0438\\u043d\\u0444\\u043e\\u0440\\u043c\\u0430\\u0446\\u0438\\u044f\", \"\\u0438\\u043d\\u0444\\u043e\\u0440\\u043c\\u0430\\u0446\\u0438\\u044f\", \"\\u0438\\u043d\\u0444\\u043e\\u0440\\u043c\\u0430\\u0446\\u0438\\u044f\", \"\\u0438\\u043d\\u0444\\u043e\\u0440\\u043c\\u0430\\u0446\\u0438\\u044f\", \"\\u0438\\u043d\\u0444\\u043e\\u0440\\u043c\\u0430\\u0446\\u0438\\u044f\", \"\\u0438\\u043d\\u0444\\u043e\\u0440\\u043c\\u0430\\u0446\\u0438\\u044f\", \"\\u0438\\u043d\\u0444\\u043e\\u0440\\u043c\\u0430\\u0446\\u0438\\u044f\", \"\\u0438\\u043d\\u0444\\u043e\\u0440\\u043c\\u0430\\u0446\\u0438\\u044f\", \"\\u0438\\u043d\\u0444\\u043e\\u0440\\u043c\\u0430\\u0446\\u0438\\u044f\", \"\\u0438\\u043d\\u0446\\u0438\\u0434\\u0435\\u043d\\u0442\", \"\\u0438\\u0440\\u0430\\u043d\", \"\\u0438\\u0441\\u043b\\u0430\\u043c\\u0441\\u043a\\u0438\\u0439\", \"\\u0438\\u0441\\u043f\\u043e\\u043b\\u043d\\u044f\\u0442\\u044c\", \"\\u0438\\u0441\\u043f\\u043e\\u043b\\u044c\\u0437\\u043e\\u0432\\u0430\\u043d\\u0438\\u0435\", \"\\u0438\\u0441\\u043f\\u043e\\u043b\\u044c\\u0437\\u043e\\u0432\\u0430\\u043d\\u0438\\u0435\", \"\\u0438\\u0441\\u043f\\u043e\\u043b\\u044c\\u0437\\u043e\\u0432\\u0430\\u043d\\u0438\\u0435\", \"\\u0438\\u0441\\u043f\\u043e\\u043b\\u044c\\u0437\\u043e\\u0432\\u0430\\u0442\\u044c\", \"\\u0438\\u0441\\u043f\\u043e\\u043b\\u044c\\u0437\\u043e\\u0432\\u0430\\u0442\\u044c\", \"\\u0438\\u0441\\u043f\\u043e\\u043b\\u044c\\u0437\\u043e\\u0432\\u0430\\u0442\\u044c\", \"\\u0438\\u0441\\u043f\\u043e\\u043b\\u044c\\u0437\\u043e\\u0432\\u0430\\u0442\\u044c\", \"\\u0438\\u0441\\u043f\\u043e\\u043b\\u044c\\u0437\\u043e\\u0432\\u0430\\u0442\\u044c\\u0441\\u044f\", \"\\u0438\\u0441\\u0442\\u043e\\u0440\\u0438\\u0447\\u0435\\u0441\\u043a\\u0438\\u0439\", \"\\u0438\\u0441\\u0445\\u043e\\u0434\", \"\\u0438\\u0442\\u0430\\u043b\\u044c\\u044f\\u043d\\u0441\\u043a\\u0438\\u0439\", \"\\u0438\\u0442\\u0430\\u0440\", \"\\u0438\\u0442\\u0430\\u0440\", \"\\u0438\\u044e\\u043b\\u044c\", \"\\u0438\\u044e\\u043b\\u044c\", \"\\u0438\\u044e\\u043b\\u044c\", \"\\u0438\\u044e\\u043b\\u044c\", \"\\u0438\\u044e\\u043d\\u044c\", \"\\u0438\\u044e\\u043d\\u044c\", \"\\u0439\\u043e\\u0440\\u043a\\u0441\\u043a\\u0438\\u0439\", \"\\u043a\\u0430\\u0432\\u043a\\u0430\\u0437\", \"\\u043a\\u0430\\u0436\\u0434\\u044b\\u0439\", \"\\u043a\\u0430\\u043c\\u0435\\u043d\\u044c\", \"\\u043a\\u0430\\u043d\\u0430\\u043b\", \"\\u043a\\u0430\\u0440\\u0430\\u0447\\u0430\\u0435\\u0432\\u043e\", \"\\u043a\\u0430\\u0441\\u0430\\u0442\\u044c\\u0441\\u044f\", \"\\u043a\\u0430\\u0441\\u0430\\u0442\\u044c\\u0441\\u044f\", \"\\u043a\\u0430\\u0442\\u0430\\u0441\\u0442\\u0440\\u043e\\u0444\\u0430\", \"\\u043a\\u0432\\u0430\\u0440\\u0442\\u0438\\u0440\\u0430\", \"\\u043a\\u0432\\u0430\\u0440\\u0442\\u0438\\u0440\\u0430\", \"\\u043a\\u0438\\u043b\\u043e\\u043c\\u0435\\u0442\\u0440\", \"\\u043a\\u0438\\u043b\\u043e\\u043c\\u0435\\u0442\\u0440\", \"\\u043a\\u0438\\u0442\\u0430\\u0439\\u0441\\u043a\\u0438\\u0439\", \"\\u043a\\u043b\\u0438\\u0435\\u043d\\u0442\", \"\\u043a\\u043b\\u0438\\u043d\\u0442\\u043e\\u043d\", \"\\u043a\\u043b\\u0443\\u0431\", \"\\u043a\\u043d\\u0438\\u0433\\u0430\", \"\\u043a\\u043e\\u043b\\u0438\\u0447\\u0435\\u0441\\u0442\\u0432\\u043e\", \"\\u043a\\u043e\\u043b\\u0438\\u0447\\u0435\\u0441\\u0442\\u0432\\u043e\", \"\\u043a\\u043e\\u043b\\u0438\\u0447\\u0435\\u0441\\u0442\\u0432\\u043e\", \"\\u043a\\u043e\\u043b\\u0438\\u0447\\u0435\\u0441\\u0442\\u0432\\u043e\", \"\\u043a\\u043e\\u043b\\u0438\\u0447\\u0435\\u0441\\u0442\\u0432\\u043e\", \"\\u043a\\u043e\\u043c\\u0430\\u043d\\u0434\\u0430\", \"\\u043a\\u043e\\u043c\\u0430\\u043d\\u0434\\u0438\\u0440\", \"\\u043a\\u043e\\u043c\\u0430\\u043d\\u0434\\u043e\\u0432\\u0430\\u043d\\u0438\\u0435\", \"\\u043a\\u043e\\u043c\\u0430\\u043d\\u0434\\u0443\\u044e\\u0449\\u0438\\u0439\", \"\\u043a\\u043e\\u043c\\u0438\\u0441\\u0441\\u0438\\u044f\", \"\\u043a\\u043e\\u043c\\u0438\\u0441\\u0441\\u0438\\u044f\", \"\\u043a\\u043e\\u043c\\u0438\\u0441\\u0441\\u0438\\u044f\", \"\\u043a\\u043e\\u043c\\u0438\\u0441\\u0441\\u0438\\u044f\", \"\\u043a\\u043e\\u043c\\u0438\\u0442\\u0435\\u0442\", \"\\u043a\\u043e\\u043c\\u0438\\u0442\\u0435\\u0442\", \"\\u043a\\u043e\\u043c\\u0438\\u0442\\u0435\\u0442\", \"\\u043a\\u043e\\u043c\\u043c\\u0435\\u0440\\u0447\\u0435\\u0441\\u043a\\u0438\\u0439\", \"\\u043a\\u043e\\u043c\\u043c\\u0435\\u0440\\u0447\\u0435\\u0441\\u043a\\u0438\\u0439\", \"\\u043a\\u043e\\u043c\\u043c\\u0443\\u043d\\u0438\\u043a\\u0430\\u0446\\u0438\\u044f\", \"\\u043a\\u043e\\u043c\\u043f\\u0430\\u043d\\u0438\\u044f\", \"\\u043a\\u043e\\u043c\\u043f\\u0430\\u043d\\u0438\\u044f\", \"\\u043a\\u043e\\u043c\\u043f\\u0435\\u043d\\u0441\\u0430\\u0446\\u0438\\u044f\", \"\\u043a\\u043e\\u043c\\u043f\\u044c\\u044e\\u0442\\u0435\\u0440\", \"\\u043a\\u043e\\u043c\\u043f\\u044c\\u044e\\u0442\\u0435\\u0440\\u043d\\u044b\\u0439\", \"\\u043a\\u043e\\u043d\\u0442\\u0438\\u043d\\u0433\\u0435\\u043d\\u0442\", \"\\u043a\\u043e\\u043d\\u0444\\u043b\\u0438\\u043a\\u0442\", \"\\u043a\\u043e\\u043d\\u0444\\u043b\\u0438\\u043a\\u0442\", \"\\u043a\\u043e\\u043d\\u0444\\u043b\\u0438\\u043a\\u0442\", \"\\u043a\\u043e\\u043f\\u0435\\u0439\\u043a\\u0430\", \"\\u043a\\u043e\\u0440\\u0430\\u0431\\u043b\\u044c\", \"\\u043a\\u043e\\u0440\\u0440\\u0443\\u043f\\u0446\\u0438\\u044f\", \"\\u043a\\u043e\\u0441\\u043c\\u0438\\u0447\\u0435\\u0441\\u043a\\u0438\\u0439\", \"\\u043a\\u043e\\u0441\\u043e\\u0432\\u043e\", \"\\u043a\\u043e\\u0442\\u043e\\u0440\\u044b\\u0439\", \"\\u043a\\u043e\\u0442\\u043e\\u0440\\u044b\\u0439\", \"\\u043a\\u043e\\u0442\\u043e\\u0440\\u044b\\u0439\", \"\\u043a\\u043e\\u0442\\u043e\\u0440\\u044b\\u0439\", \"\\u043a\\u043e\\u0442\\u043e\\u0440\\u044b\\u0439\", \"\\u043a\\u043e\\u0442\\u043e\\u0440\\u044b\\u0439\", \"\\u043a\\u043e\\u0442\\u043e\\u0440\\u044b\\u0439\", \"\\u043a\\u043e\\u0442\\u043e\\u0440\\u044b\\u0439\", \"\\u043a\\u043e\\u0442\\u043e\\u0440\\u044b\\u0439\", \"\\u043a\\u043e\\u0442\\u043e\\u0440\\u044b\\u0439\", \"\\u043a\\u043e\\u0442\\u043e\\u0440\\u044b\\u0439\", \"\\u043a\\u043e\\u0442\\u043e\\u0440\\u044b\\u0439\", \"\\u043a\\u043e\\u0442\\u043e\\u0440\\u044b\\u0439\", \"\\u043a\\u043e\\u0442\\u043e\\u0440\\u044b\\u0439\", \"\\u043a\\u043e\\u0442\\u043e\\u0440\\u044b\\u0439\", \"\\u043a\\u043e\\u0442\\u043e\\u0440\\u044b\\u0439\", \"\\u043a\\u043e\\u0442\\u043e\\u0440\\u044b\\u0439\", \"\\u043a\\u043e\\u0442\\u043e\\u0440\\u044b\\u0439\", \"\\u043a\\u043f\\u0440\\u0444\", \"\\u043a\\u0440\\u0430\\u0439\", \"\\u043a\\u0440\\u0430\\u0441\\u043d\\u044b\\u0439\", \"\\u043a\\u0440\\u0435\\u0434\\u0438\\u0442\", \"\\u043a\\u0440\\u0435\\u0434\\u0438\\u0442\\u043d\\u044b\\u0439\", \"\\u043a\\u0440\\u0438\\u043c\\u0438\\u043d\\u0430\\u043b\\u044c\\u043d\\u044b\\u0439\", \"\\u043a\\u0440\\u043e\\u043c\\u0435\", \"\\u043a\\u0440\\u043e\\u043c\\u0435\", \"\\u043a\\u0440\\u043e\\u043c\\u0435\", \"\\u043a\\u0440\\u043e\\u043c\\u0435\", \"\\u043a\\u0440\\u043e\\u043c\\u0435\", \"\\u043a\\u0440\\u043e\\u043c\\u0435\", \"\\u043a\\u0440\\u043e\\u043c\\u0435\", \"\\u043a\\u0440\\u043e\\u043c\\u0435\", \"\\u043a\\u0440\\u043e\\u043c\\u0435\", \"\\u043a\\u0440\\u043e\\u043c\\u0435\", \"\\u043a\\u0440\\u043e\\u043c\\u0435\", \"\\u043a\\u0440\\u0443\\u0433\", \"\\u043a\\u0440\\u0443\\u043f\\u043d\\u044b\\u0439\", \"\\u043a\\u0440\\u0443\\u043f\\u043d\\u044b\\u0439\", \"\\u043a\\u0440\\u0443\\u043f\\u043d\\u044b\\u0439\", \"\\u043a\\u0440\\u0443\\u043f\\u043d\\u044b\\u0439\", \"\\u043a\\u0440\\u0443\\u043f\\u043d\\u044b\\u0439\", \"\\u043a\\u0440\\u0443\\u043f\\u043d\\u044b\\u0439\", \"\\u043a\\u0440\\u0443\\u043f\\u043d\\u044b\\u0439\", \"\\u043a\\u0440\\u044b\\u043c\", \"\\u043a\\u0443\\u043f\\u0438\\u0442\\u044c\", \"\\u043a\\u0443\\u0440\\u0438\\u0440\\u043e\\u0432\\u0430\\u0442\\u044c\", \"\\u043a\\u0443\\u0440\\u0441\", \"\\u043a\\u0443\\u0440\\u0441\", \"\\u043a\\u0443\\u0440\\u0441\", \"\\u043b\\u0430\\u0439\\u043d\\u0435\\u0440\", \"\\u043b\\u0435\\u0433\\u043a\\u043e\", \"\\u043b\\u0435\\u0441\", \"\\u043b\\u0435\\u0442\\u043d\\u0438\\u0439\", \"\\u043b\\u0435\\u0442\\u043d\\u0438\\u0439\", \"\\u043b\\u0438\\u0431\\u043e\", \"\\u043b\\u0438\\u0431\\u043e\", \"\\u043b\\u0438\\u0431\\u043e\", \"\\u043b\\u0438\\u0431\\u043e\", \"\\u043b\\u0438\\u0434\\u0435\\u0440\", \"\\u043b\\u0438\\u0434\\u0435\\u0440\", \"\\u043b\\u0438\\u043a\\u0432\\u0438\\u0434\\u0438\\u0440\\u043e\\u0432\\u0430\\u0442\\u044c\", \"\\u043b\\u0438\\u043d\\u0438\\u044f\", \"\\u043b\\u0438\\u043d\\u0438\\u044f\", \"\\u043b\\u0438\\u0441\\u0442\", \"\\u043b\\u0438\\u0442\\u0432\\u0430\", \"\\u043b\\u0438\\u0442\\u043e\\u0432\\u0441\\u043a\\u0438\\u0439\", \"\\u043b\\u0438\\u0442\\u0440\", \"\\u043b\\u0438\\u0446\\u0435\\u043d\\u0437\\u0438\\u044f\", \"\\u043b\\u0438\\u0448\\u044c\", \"\\u043b\\u0438\\u0448\\u044c\", \"\\u043b\\u0438\\u0448\\u044c\", \"\\u043b\\u0438\\u0448\\u044c\", \"\\u043b\\u0438\\u0448\\u044c\", \"\\u043b\\u0438\\u0448\\u044c\", \"\\u043b\\u0443\\u0436\\u043a\\u043e\\u0432\", \"\\u043b\\u044e\\u0431\\u043e\\u0439\", \"\\u043b\\u044e\\u0431\\u043e\\u0439\", \"\\u043c\\u0430\\u0439\", \"\\u043c\\u0430\\u0439\", \"\\u043c\\u0430\\u0439\", \"\\u043c\\u0430\\u0439\", \"\\u043c\\u0430\\u043b\\u0435\\u043d\\u044c\\u043a\\u0438\\u0439\", \"\\u043c\\u0430\\u0440\\u043a\\u0430\", \"\\u043c\\u0430\\u0440\\u0442\", \"\\u043c\\u0430\\u0440\\u0442\", \"\\u043c\\u0430\\u0440\\u0442\", \"\\u043c\\u0430\\u0440\\u0442\", \"\\u043c\\u0430\\u0440\\u0448\\u0440\\u0443\\u0442\", \"\\u043c\\u0430\\u0441\\u0441\\u043e\\u0432\\u044b\\u0439\", \"\\u043c\\u0430\\u0441\\u0441\\u043e\\u0432\\u044b\\u0439\", \"\\u043c\\u0430\\u0448\\u0438\\u043d\\u0430\", \"\\u043c\\u0430\\u0448\\u0438\\u043d\\u0430\", \"\\u043c\\u0432\\u0434\", \"\\u043c\\u0432\\u0434\", \"\\u043c\\u0432\\u0444\", \"\\u043c\\u0435\\u0434\\u0438\\u0446\\u0438\\u043d\\u0441\\u043a\\u0438\\u0439\", \"\\u043c\\u0435\\u0436\\u0434\\u0443\\u043d\\u0430\\u0440\\u043e\\u0434\\u043d\\u044b\\u0439\", \"\\u043c\\u0435\\u0436\\u0434\\u0443\\u043d\\u0430\\u0440\\u043e\\u0434\\u043d\\u044b\\u0439\", \"\\u043c\\u0435\\u0436\\u0434\\u0443\\u043d\\u0430\\u0440\\u043e\\u0434\\u043d\\u044b\\u0439\", \"\\u043c\\u0435\\u0436\\u0434\\u0443\\u043d\\u0430\\u0440\\u043e\\u0434\\u043d\\u044b\\u0439\", \"\\u043c\\u0435\\u0441\\u0442\\u043d\\u043e\\u0441\\u0442\\u044c\", \"\\u043c\\u0435\\u0441\\u0442\\u043e\", \"\\u043c\\u0435\\u0441\\u0442\\u043e\", \"\\u043c\\u0435\\u0441\\u0442\\u043e\", \"\\u043c\\u0435\\u0441\\u0442\\u043e\", \"\\u043c\\u0435\\u0441\\u0442\\u043e\", \"\\u043c\\u0435\\u0441\\u0442\\u043e\", \"\\u043c\\u0435\\u0441\\u0442\\u043e\", \"\\u043c\\u0435\\u0441\\u044f\\u0446\", \"\\u043c\\u0435\\u0441\\u044f\\u0446\", \"\\u043c\\u0435\\u0441\\u044f\\u0446\", \"\\u043c\\u0435\\u0441\\u044f\\u0446\", \"\\u043c\\u0435\\u0441\\u044f\\u0446\", \"\\u043c\\u0435\\u0441\\u044f\\u0446\", \"\\u043c\\u0435\\u0441\\u044f\\u0446\", \"\\u043c\\u0435\\u0441\\u044f\\u0446\", \"\\u043c\\u0435\\u0441\\u044f\\u0446\", \"\\u043c\\u0438\\u0434\", \"\\u043c\\u0438\\u043b\\u0438\\u0446\\u0438\\u043e\\u043d\\u0435\\u0440\", \"\\u043c\\u0438\\u043b\\u0438\\u0446\\u0438\\u044f\", \"\\u043c\\u0438\\u043b\\u043b\\u0438\\u0430\\u0440\\u0434\", \"\\u043c\\u0438\\u043b\\u043b\\u0438\\u0430\\u0440\\u0434\", \"\\u043c\\u0438\\u043b\\u043b\\u0438\\u043e\\u043d\", \"\\u043c\\u0438\\u043b\\u043b\\u0438\\u043e\\u043d\", \"\\u043c\\u0438\\u043d\\u0430\", \"\\u043c\\u0438\\u043d\\u0430\", \"\\u043c\\u0438\\u043d\\u0438\\u043c\\u0443\\u043c\", \"\\u043c\\u0438\\u043d\\u0438\\u043c\\u0443\\u043c\", \"\\u043c\\u0438\\u043d\\u0438\\u0441\\u0442\\u0435\\u0440\\u0441\\u0442\\u0432\\u043e\", \"\\u043c\\u0438\\u043d\\u0438\\u0441\\u0442\\u0435\\u0440\\u0441\\u0442\\u0432\\u043e\", \"\\u043c\\u0438\\u043d\\u0438\\u0441\\u0442\\u0435\\u0440\\u0441\\u0442\\u0432\\u043e\", \"\\u043c\\u0438\\u043d\\u0438\\u0441\\u0442\\u0435\\u0440\\u0441\\u0442\\u0432\\u043e\", \"\\u043c\\u0438\\u043d\\u0438\\u0441\\u0442\\u0435\\u0440\\u0441\\u0442\\u0432\\u043e\", \"\\u043c\\u0438\\u043d\\u0438\\u0441\\u0442\\u0435\\u0440\\u0441\\u0442\\u0432\\u043e\", \"\\u043c\\u0438\\u043d\\u0438\\u0441\\u0442\\u0440\", \"\\u043c\\u0438\\u043d\\u0438\\u0441\\u0442\\u0440\", \"\\u043c\\u0438\\u043d\\u043e\\u0431\\u043e\\u0440\\u043e\\u043d\\u044b\", \"\\u043c\\u0438\\u043d\\u043f\\u0435\\u0447\\u0430\\u0442\\u0438\", \"\\u043c\\u0438\\u043d\\u0443\\u0432\\u0448\\u0438\\u0439\", \"\\u043c\\u0438\\u043d\\u0443\\u0432\\u0448\\u0438\\u0439\", \"\\u043c\\u0438\\u043d\\u0443\\u0432\\u0448\\u0438\\u0439\", \"\\u043c\\u0438\\u043d\\u0443\\u0432\\u0448\\u0438\\u0439\", \"\\u043c\\u0438\\u043d\\u0444\\u0438\\u043d\", \"\\u043c\\u0438\\u043d\\u044e\\u0441\\u0442\", \"\\u043c\\u0438\\u0440\", \"\\u043c\\u0438\\u0440\", \"\\u043c\\u0438\\u0440\\u043d\\u044b\\u0439\", \"\\u043c\\u0438\\u0441\\u0441\\u0438\\u044f\", \"\\u043c\\u0438\\u0441\\u0441\\u0438\\u044f\", \"\\u043c\\u043b\\u0430\\u0434\\u0448\\u0438\\u0439\", \"\\u043c\\u043d\\u043e\\u0433\\u0438\\u0439\", \"\\u043c\\u043d\\u043e\\u0433\\u0438\\u0439\", \"\\u043c\\u043d\\u043e\\u0433\\u0438\\u0439\", \"\\u043c\\u043d\\u043e\\u0433\\u0438\\u0439\", \"\\u043c\\u043e\\u0431\\u0438\\u043b\\u044c\\u043d\\u044b\\u0439\", \"\\u043c\\u043e\\u0434\\u0435\\u043b\\u044c\", \"\\u043c\\u043e\\u043b\\u043e\\u0434\\u043e\\u0439\", \"\\u043c\\u043e\\u0441\\u043a\\u0432\\u0430\", \"\\u043c\\u043e\\u0441\\u043a\\u0432\\u0430\", \"\\u043c\\u043e\\u0441\\u043a\\u0432\\u0430\", \"\\u043c\\u043e\\u0441\\u043a\\u0432\\u0430\", \"\\u043c\\u043e\\u0441\\u043a\\u0432\\u0438\\u0447\", \"\\u043c\\u043e\\u0441\\u043a\\u043e\\u0432\\u0441\\u043a\\u0438\\u0439\", \"\\u043c\\u043e\\u0441\\u043a\\u043e\\u0432\\u0441\\u043a\\u0438\\u0439\", \"\\u043c\\u043e\\u0441\\u043a\\u043e\\u0432\\u0441\\u043a\\u0438\\u0439\", \"\\u043c\\u043e\\u0447\\u044c\", \"\\u043c\\u043e\\u0447\\u044c\", \"\\u043c\\u043e\\u0447\\u044c\", \"\\u043c\\u043e\\u0447\\u044c\", \"\\u043c\\u043e\\u0447\\u044c\", \"\\u043c\\u043e\\u0447\\u044c\", \"\\u043c\\u043e\\u0447\\u044c\", \"\\u043c\\u043e\\u0447\\u044c\", \"\\u043c\\u043e\\u0447\\u044c\", \"\\u043c\\u043e\\u0448\\u0435\\u043d\\u043d\\u0438\\u0447\\u0435\\u0441\\u0442\\u0432\\u043e\", \"\\u043c\\u043e\\u0449\\u043d\\u044b\\u0439\", \"\\u043c\\u0443\\u0436\", \"\\u043c\\u0443\\u0441\\u0443\\u043b\\u044c\\u043c\\u0430\\u043d\\u0438\\u043d\", \"\\u043c\\u0447\\u0441\", \"\\u043d\\u0430\\u0431\\u0435\\u0440\\u0435\\u0436\\u043d\\u0430\\u044f\", \"\\u043d\\u0430\\u0434\\u0435\\u044f\\u0442\\u044c\\u0441\\u044f\", \"\\u043d\\u0430\\u0434\\u0435\\u044f\\u0442\\u044c\\u0441\\u044f\", \"\\u043d\\u0430\\u0437\\u0430\\u0434\", \"\\u043d\\u0430\\u0437\\u0430\\u0434\", \"\\u043d\\u0430\\u0437\\u0430\\u0434\", \"\\u043d\\u0430\\u0437\\u0432\\u0430\\u043d\\u0438\\u0435\", \"\\u043d\\u0430\\u0437\\u043d\\u0430\\u0447\\u0435\\u043d\\u0438\\u0435\", \"\\u043d\\u0430\\u0437\\u043d\\u0430\\u0447\\u0435\\u043d\\u0438\\u0435\", \"\\u043d\\u0430\\u0437\\u044b\\u0432\\u0430\\u0442\\u044c\", \"\\u043d\\u0430\\u0437\\u044b\\u0432\\u0430\\u0442\\u044c\", \"\\u043d\\u0430\\u0437\\u044b\\u0432\\u0430\\u0442\\u044c\", \"\\u043d\\u0430\\u0437\\u044b\\u0432\\u0430\\u0442\\u044c\", \"\\u043d\\u0430\\u0437\\u044b\\u0432\\u0430\\u0442\\u044c\", \"\\u043d\\u0430\\u0437\\u044b\\u0432\\u0430\\u0442\\u044c\", \"\\u043d\\u0430\\u0437\\u044b\\u0432\\u0430\\u0442\\u044c\", \"\\u043d\\u0430\\u0437\\u044b\\u0432\\u0430\\u0442\\u044c\", \"\\u043d\\u0430\\u043a\\u0430\\u0437\\u0430\\u043d\\u0438\\u0435\", \"\\u043d\\u0430\\u043b\\u043e\\u0433\\u043e\\u0432\\u044b\\u0439\", \"\\u043d\\u0430\\u043b\\u043e\\u0433\\u043e\\u0432\\u044b\\u0439\", \"\\u043d\\u0430\\u043f\\u0438\\u0441\\u0430\\u0442\\u044c\", \"\\u043d\\u0430\\u0440\\u043e\\u0434\\u043d\\u044b\\u0439\", \"\\u043d\\u0430\\u0440\\u0443\\u0448\\u0435\\u043d\\u0438\\u0435\", \"\\u043d\\u0430\\u0440\\u0443\\u0448\\u0435\\u043d\\u0438\\u0435\", \"\\u043d\\u0430\\u0441\\u0435\\u043b\\u0435\\u043d\\u043d\\u044b\\u0439\", \"\\u043d\\u0430\\u0441\\u0442\\u0430\\u0438\\u0432\\u0430\\u0442\\u044c\", \"\\u043d\\u0430\\u0441\\u0442\\u043e\\u044f\\u0449\\u0438\\u0439\", \"\\u043d\\u0430\\u0441\\u0442\\u043e\\u044f\\u0449\\u0438\\u0439\", \"\\u043d\\u0430\\u0441\\u0442\\u043e\\u044f\\u0449\\u0438\\u0439\", \"\\u043d\\u0430\\u0441\\u0442\\u043e\\u044f\\u0449\\u0438\\u0439\", \"\\u043d\\u0430\\u0441\\u0442\\u043e\\u044f\\u0449\\u0438\\u0439\", \"\\u043d\\u0430\\u0441\\u0442\\u043e\\u044f\\u0449\\u0438\\u0439\", \"\\u043d\\u0430\\u0441\\u0442\\u043e\\u044f\\u0449\\u0438\\u0439\", \"\\u043d\\u0430\\u0441\\u0442\\u043e\\u044f\\u0449\\u0438\\u0439\", \"\\u043d\\u0430\\u0441\\u0442\\u043e\\u044f\\u0449\\u0438\\u0439\", \"\\u043d\\u0430\\u0441\\u0442\\u043e\\u044f\\u0449\\u0438\\u0439\", \"\\u043d\\u0430\\u0442\\u043e\", \"\\u043d\\u0430\\u0445\\u043e\\u0434\\u0438\\u0442\\u044c\", \"\\u043d\\u0430\\u0445\\u043e\\u0434\\u0438\\u0442\\u044c\", \"\\u043d\\u0430\\u0445\\u043e\\u0434\\u0438\\u0442\\u044c\", \"\\u043d\\u0430\\u0445\\u043e\\u0434\\u0438\\u0442\\u044c\", \"\\u043d\\u0430\\u0445\\u043e\\u0434\\u0438\\u0442\\u044c\\u0441\\u044f\", \"\\u043d\\u0430\\u0445\\u043e\\u0434\\u0438\\u0442\\u044c\\u0441\\u044f\", \"\\u043d\\u0430\\u0445\\u043e\\u0434\\u0438\\u0442\\u044c\\u0441\\u044f\", \"\\u043d\\u0430\\u0445\\u043e\\u0434\\u0438\\u0442\\u044c\\u0441\\u044f\", \"\\u043d\\u0430\\u0445\\u043e\\u0434\\u0438\\u0442\\u044c\\u0441\\u044f\", \"\\u043d\\u0430\\u0445\\u043e\\u0434\\u0438\\u0442\\u044c\\u0441\\u044f\", \"\\u043d\\u0430\\u0445\\u043e\\u0434\\u0438\\u0442\\u044c\\u0441\\u044f\", \"\\u043d\\u0430\\u0445\\u043e\\u0434\\u0438\\u0442\\u044c\\u0441\\u044f\", \"\\u043d\\u0430\\u0445\\u043e\\u0434\\u0438\\u0442\\u044c\\u0441\\u044f\", \"\\u043d\\u0430\\u0446\\u0438\\u043e\\u043d\\u0430\\u043b\\u044c\\u043d\\u044b\\u0439\", \"\\u043d\\u0430\\u0446\\u0438\\u043e\\u043d\\u0430\\u043b\\u044c\\u043d\\u044b\\u0439\", \"\\u043d\\u0430\\u0446\\u0438\\u043e\\u043d\\u0430\\u043b\\u044c\\u043d\\u044b\\u0439\", \"\\u043d\\u0430\\u0446\\u0438\\u043e\\u043d\\u0430\\u043b\\u044c\\u043d\\u044b\\u0439\", \"\\u043d\\u0430\\u0447\\u0430\\u043b\\u044c\\u043d\\u0438\\u043a\", \"\\u043d\\u0430\\u0447\\u0430\\u043b\\u044c\\u043d\\u0438\\u043a\", \"\\u043d\\u0430\\u0447\\u0430\\u043b\\u044c\\u043d\\u0438\\u043a\", \"\\u043d\\u0430\\u0447\\u0438\\u043d\\u0430\\u0442\\u044c\\u0441\\u044f\", \"\\u043d\\u0430\\u0447\\u0438\\u043d\\u0430\\u0442\\u044c\\u0441\\u044f\", \"\\u043d\\u0430\\u0447\\u0438\\u043d\\u0430\\u0442\\u044c\\u0441\\u044f\", \"\\u043d\\u0430\\u0447\\u0438\\u043d\\u0430\\u0442\\u044c\\u0441\\u044f\", \"\\u043d\\u0430\\u0447\\u0438\\u043d\\u0430\\u0442\\u044c\\u0441\\u044f\", \"\\u043d\\u0430\\u0447\\u0438\\u043d\\u0430\\u0442\\u044c\\u0441\\u044f\", \"\\u043d\\u0430\\u0447\\u0438\\u043d\\u0430\\u0442\\u044c\\u0441\\u044f\", \"\\u043d\\u0430\\u0448\", \"\\u043d\\u0435\\u0433\\u0430\\u0442\\u0438\\u0432\\u043d\\u044b\\u0439\", \"\\u043d\\u0435\\u0434\\u0435\\u043b\\u044f\", \"\\u043d\\u0435\\u0434\\u0435\\u043b\\u044f\", \"\\u043d\\u0435\\u0434\\u0435\\u043b\\u044f\", \"\\u043d\\u0435\\u0434\\u0435\\u043b\\u044f\", \"\\u043d\\u0435\\u0434\\u0435\\u043b\\u044f\", \"\\u043d\\u0435\\u0434\\u0435\\u043b\\u044f\", \"\\u043d\\u0435\\u0434\\u0435\\u043b\\u044f\", \"\\u043d\\u0435\\u0434\\u0435\\u043b\\u044f\", \"\\u043d\\u0435\\u0437\\u0430\\u0432\\u0438\\u0441\\u0438\\u043c\\u043e\\u0441\\u0442\\u044c\", \"\\u043d\\u0435\\u0437\\u0430\\u043a\\u043e\\u043d\\u043d\\u043e\", \"\\u043d\\u0435\\u0437\\u0430\\u043a\\u043e\\u043d\\u043d\\u044b\\u0439\", \"\\u043d\\u0435\\u0437\\u0430\\u043a\\u043e\\u043d\\u043d\\u044b\\u0439\", \"\\u043d\\u0435\\u0437\\u0430\\u043a\\u043e\\u043d\\u043d\\u044b\\u0439\", \"\\u043d\\u0435\\u043c\\u0435\\u0446\\u043a\\u0438\\u0439\", \"\\u043d\\u0435\\u043e\\u0431\\u0445\\u043e\\u0434\\u0438\\u043c\\u043e\", \"\\u043d\\u0435\\u043e\\u0431\\u0445\\u043e\\u0434\\u0438\\u043c\\u043e\\u0441\\u0442\\u044c\", \"\\u043d\\u0435\\u043e\\u0434\\u043d\\u043e\\u043a\\u0440\\u0430\\u0442\\u043d\\u043e\", \"\\u043d\\u0435\\u043f\\u0440\\u0438\\u043a\\u043e\\u0441\\u043d\\u043e\\u0432\\u0435\\u043d\\u043d\\u043e\\u0441\\u0442\\u044c\", \"\\u043d\\u0435\\u0441\\u043a\\u043e\\u043b\\u044c\\u043a\\u043e\", \"\\u043d\\u0435\\u0441\\u043a\\u043e\\u043b\\u044c\\u043a\\u043e\", \"\\u043d\\u0435\\u0441\\u043a\\u043e\\u043b\\u044c\\u043a\\u043e\", \"\\u043d\\u0435\\u0441\\u043a\\u043e\\u043b\\u044c\\u043a\\u043e\", \"\\u043d\\u0435\\u0441\\u043a\\u043e\\u043b\\u044c\\u043a\\u043e\", \"\\u043d\\u0435\\u0441\\u043a\\u043e\\u043b\\u044c\\u043a\\u043e\", \"\\u043d\\u0435\\u0441\\u043a\\u043e\\u043b\\u044c\\u043a\\u043e\", \"\\u043d\\u0435\\u0441\\u043a\\u043e\\u043b\\u044c\\u043a\\u043e\", \"\\u043d\\u0435\\u0441\\u0442\\u0438\", \"\\u043d\\u0438\\u0437\\u043a\\u0438\\u0439\", \"\\u043d\\u0438\\u043a\\u0430\\u043a\\u043e\\u0439\", \"\\u043d\\u0438\\u043a\\u0430\\u043a\\u043e\\u0439\", \"\\u043d\\u0438\\u043a\\u0430\\u043a\\u043e\\u0439\", \"\\u043d\\u0438\\u043a\\u0430\\u043a\\u043e\\u0439\", \"\\u043d\\u0438\\u043a\\u0430\\u043a\\u043e\\u0439\", \"\\u043d\\u0438\\u043a\\u0430\\u043a\\u043e\\u0439\", \"\\u043d\\u0438\\u043a\\u0430\\u043a\\u043e\\u0439\", \"\\u043d\\u0438\\u043a\\u0430\\u043a\\u043e\\u0439\", \"\\u043d\\u043e\\u0432\\u043e\\u0441\\u0442\\u044c\", \"\\u043d\\u043e\\u0432\\u043e\\u0441\\u0442\\u044c\", \"\\u043d\\u043e\\u0432\\u043e\\u0441\\u0442\\u044c\", \"\\u043d\\u043e\\u0432\\u043e\\u0441\\u0442\\u044c\", \"\\u043d\\u043e\\u0432\\u043e\\u0441\\u0442\\u044c\", \"\\u043d\\u043e\\u0432\\u043e\\u0441\\u0442\\u044c\", \"\\u043d\\u043e\\u0432\\u044b\\u0439\", \"\\u043d\\u043e\\u0432\\u044b\\u0439\", \"\\u043d\\u043e\\u0432\\u044b\\u0439\", \"\\u043d\\u043e\\u0432\\u044b\\u0439\", \"\\u043d\\u043e\\u0432\\u044b\\u0439\", \"\\u043d\\u043e\\u0432\\u044b\\u0439\", \"\\u043d\\u043e\\u0432\\u044b\\u0439\", \"\\u043d\\u043e\\u0432\\u044b\\u0439\", \"\\u043d\\u043e\\u0440\\u043c\\u0430\", \"\\u043d\\u044c\\u044e\", \"\\u043e\\u0430\\u043e\", \"\\u043e\\u0431\\u0432\\u0438\\u043d\\u0435\\u043d\\u0438\\u0435\", \"\\u043e\\u0431\\u0432\\u0438\\u043d\\u0435\\u043d\\u0438\\u0435\", \"\\u043e\\u0431\\u0432\\u0438\\u043d\\u044f\\u0442\\u044c\", \"\\u043e\\u0431\\u0435\\u0449\\u0430\\u0442\\u044c\", \"\\u043e\\u0431\\u0436\\u0430\\u043b\\u043e\\u0432\\u0430\\u0442\\u044c\", \"\\u043e\\u0431\\u043b\\u0430\\u0441\\u0442\\u043d\\u043e\\u0439\", \"\\u043e\\u0431\\u043b\\u0430\\u0441\\u0442\\u044c\", \"\\u043e\\u0431\\u043b\\u0430\\u0441\\u0442\\u044c\", \"\\u043e\\u0431\\u043b\\u0430\\u0441\\u0442\\u044c\", \"\\u043e\\u0431\\u043b\\u0430\\u0441\\u0442\\u044c\", \"\\u043e\\u0431\\u043b\\u0430\\u0441\\u0442\\u044c\", \"\\u043e\\u0431\\u043d\\u0430\\u0440\\u0443\\u0436\\u0438\\u0432\\u0430\\u0442\\u044c\", \"\\u043e\\u0431\\u043d\\u0430\\u0440\\u0443\\u0436\\u0438\\u0432\\u0430\\u0442\\u044c\", \"\\u043e\\u0431\\u043d\\u0430\\u0440\\u0443\\u0436\\u0438\\u0432\\u0430\\u0442\\u044c\", \"\\u043e\\u0431\\u043e\\u0440\\u043e\\u043d\\u0430\", \"\\u043e\\u0431\\u043e\\u0440\\u043e\\u043d\\u0430\", \"\\u043e\\u0431\\u043e\\u0440\\u043e\\u043d\\u0430\", \"\\u043e\\u0431\\u0440\\u0430\\u0437\", \"\\u043e\\u0431\\u0440\\u0430\\u0437\", \"\\u043e\\u0431\\u0440\\u0430\\u0437\", \"\\u043e\\u0431\\u0440\\u0430\\u0437\", \"\\u043e\\u0431\\u0440\\u0430\\u0437\", \"\\u043e\\u0431\\u0440\\u0430\\u0437\", \"\\u043e\\u0431\\u0440\\u0430\\u0437\", \"\\u043e\\u0431\\u0440\\u0430\\u0437\", \"\\u043e\\u0431\\u0440\\u0430\\u0449\\u0430\\u0442\\u044c\", \"\\u043e\\u0431\\u0441\\u043b\\u0443\\u0436\\u0438\\u0432\\u0430\\u043d\\u0438\\u0435\", \"\\u043e\\u0431\\u0441\\u0442\\u043e\\u044f\\u0442\\u0435\\u043b\\u044c\\u0441\\u0442\\u0432\\u043e\", \"\\u043e\\u0431\\u0441\\u0442\\u0440\\u0435\\u043b\", \"\\u043e\\u0431\\u0441\\u0443\\u0436\\u0434\\u0430\\u0442\\u044c\", \"\\u043e\\u0431\\u0441\\u0443\\u0436\\u0434\\u0430\\u0442\\u044c\\u0441\\u044f\", \"\\u043e\\u0431\\u0449\\u0438\\u0439\", \"\\u043e\\u0431\\u0449\\u0438\\u0439\", \"\\u043e\\u0431\\u0449\\u0438\\u0439\", \"\\u043e\\u0431\\u0449\\u0438\\u0439\", \"\\u043e\\u0431\\u044a\\u0435\\u0434\\u0438\\u043d\\u0435\\u043d\\u0438\\u0435\", \"\\u043e\\u0431\\u044a\\u0435\\u0434\\u0438\\u043d\\u044f\\u0442\\u044c\", \"\\u043e\\u0431\\u044a\\u0435\\u0434\\u0438\\u043d\\u044f\\u0442\\u044c\", \"\\u043e\\u0431\\u044a\\u0435\\u0434\\u0438\\u043d\\u044f\\u0442\\u044c\", \"\\u043e\\u0431\\u044a\\u0435\\u0434\\u0438\\u043d\\u044f\\u0442\\u044c\", \"\\u043e\\u0431\\u044a\\u0435\\u043c\", \"\\u043e\\u0431\\u044a\\u0435\\u043c\", \"\\u043e\\u0431\\u044b\\u0441\\u043a\", \"\\u043e\\u0431\\u044f\\u0437\\u0430\\u0442\\u0435\\u043b\\u044c\\u043d\\u044b\\u0439\", \"\\u043e\\u0431\\u044f\\u0437\\u044b\\u0432\\u0430\\u0442\\u044c\", \"\\u043e\\u0433\\u043e\\u043d\\u044c\", \"\\u043e\\u0433\\u043e\\u043d\\u044c\", \"\\u043e\\u0433\\u043e\\u043d\\u044c\", \"\\u043e\\u0433\\u0440\\u0430\\u043d\\u0438\\u0447\\u0435\\u043d\\u0438\\u0435\", \"\\u043e\\u0433\\u0440\\u0430\\u043d\\u0438\\u0447\\u0438\\u0432\\u0430\\u0442\\u044c\", \"\\u043e\\u0434\\u043d\\u0430\\u043a\\u043e\", \"\\u043e\\u0434\\u043d\\u0430\\u043a\\u043e\", \"\\u043e\\u0434\\u043d\\u0430\\u043a\\u043e\", \"\\u043e\\u0434\\u043d\\u0430\\u043a\\u043e\", \"\\u043e\\u0434\\u043d\\u0430\\u043a\\u043e\", \"\\u043e\\u0434\\u043d\\u0430\\u043a\\u043e\", \"\\u043e\\u0434\\u043d\\u0430\\u043a\\u043e\", \"\\u043e\\u0434\\u043d\\u0430\\u043a\\u043e\", \"\\u043e\\u0434\\u043d\\u0430\\u043a\\u043e\", \"\\u043e\\u0434\\u043d\\u0430\\u043a\\u043e\", \"\\u043e\\u0434\\u043d\\u0430\\u043a\\u043e\", \"\\u043e\\u0434\\u043d\\u0430\\u043a\\u043e\", \"\\u043e\\u0434\\u043d\\u0430\\u043a\\u043e\", \"\\u043e\\u0434\\u043d\\u0430\\u043a\\u043e\", \"\\u043e\\u0434\\u043e\\u0431\\u0440\\u044f\\u0442\\u044c\", \"\\u043e\\u043a\\u0430\\u0437\\u044b\\u0432\\u0430\\u0442\\u044c\\u0441\\u044f\", \"\\u043e\\u043a\\u0430\\u0437\\u044b\\u0432\\u0430\\u0442\\u044c\\u0441\\u044f\", \"\\u043e\\u043a\\u0430\\u0437\\u044b\\u0432\\u0430\\u0442\\u044c\\u0441\\u044f\", \"\\u043e\\u043a\\u0430\\u0437\\u044b\\u0432\\u0430\\u0442\\u044c\\u0441\\u044f\", \"\\u043e\\u043a\\u0430\\u0437\\u044b\\u0432\\u0430\\u0442\\u044c\\u0441\\u044f\", \"\\u043e\\u043a\\u0430\\u0437\\u044b\\u0432\\u0430\\u0442\\u044c\\u0441\\u044f\", \"\\u043e\\u043a\\u0430\\u0437\\u044b\\u0432\\u0430\\u0442\\u044c\\u0441\\u044f\", \"\\u043e\\u043a\\u0435\\u0430\\u043d\", \"\\u043e\\u043a\\u043e\\u043b\\u043e\", \"\\u043e\\u043a\\u043e\\u043b\\u043e\", \"\\u043e\\u043a\\u043e\\u043b\\u043e\", \"\\u043e\\u043a\\u043e\\u043b\\u043e\", \"\\u043e\\u043a\\u043e\\u043b\\u043e\", \"\\u043e\\u043a\\u043e\\u043b\\u043e\", \"\\u043e\\u043a\\u0440\\u0443\\u0433\", \"\\u043e\\u043a\\u0440\\u0443\\u0433\", \"\\u043e\\u043c\\u043e\\u043d\", \"\\u043e\\u043e\\u043d\", \"\\u043e\\u043f\\u0430\\u0441\\u043d\\u043e\\u0441\\u0442\\u044c\", \"\\u043e\\u043f\\u0430\\u0441\\u043d\\u044b\\u0439\", \"\\u043e\\u043f\\u0435\\u0440\\u0430\\u0442\\u043e\\u0440\", \"\\u043e\\u043f\\u0435\\u0440\\u0430\\u0446\\u0438\\u044f\", \"\\u043e\\u043f\\u0435\\u0440\\u0430\\u0446\\u0438\\u044f\", \"\\u043e\\u043f\\u0435\\u0440\\u0430\\u0446\\u0438\\u044f\", \"\\u043e\\u043f\\u0435\\u0440\\u0430\\u0446\\u0438\\u044f\", \"\\u043e\\u043f\\u0435\\u0440\\u0430\\u0446\\u0438\\u044f\", \"\\u043e\\u043f\\u043b\\u0430\\u0447\\u0438\\u0432\\u0430\\u0442\\u044c\", \"\\u043e\\u0440\\u0431\\u0438\\u0442\\u0430\", \"\\u043e\\u0440\\u0433\\u0430\\u043d\", \"\\u043e\\u0440\\u0433\\u0430\\u043d\", \"\\u043e\\u0440\\u0433\\u0430\\u043d\", \"\\u043e\\u0440\\u0433\\u0430\\u043d\", \"\\u043e\\u0440\\u0443\\u0436\\u0438\\u0435\", \"\\u043e\\u0440\\u0443\\u0436\\u0438\\u0435\", \"\\u043e\\u0440\\u0443\\u0436\\u0438\\u0435\", \"\\u043e\\u0441\\u0432\\u043e\\u0431\\u043e\\u0436\\u0434\\u0430\\u0442\\u044c\", \"\\u043e\\u0441\\u0432\\u043e\\u0431\\u043e\\u0436\\u0434\\u0430\\u0442\\u044c\", \"\\u043e\\u0441\\u043d\\u043e\\u0432\\u0430\\u043d\\u0438\\u0435\", \"\\u043e\\u0441\\u043d\\u043e\\u0432\\u0430\\u043d\\u0438\\u0435\", \"\\u043e\\u0442\\u0432\\u0435\\u0442\\u0441\\u0442\\u0432\\u0435\\u043d\\u043d\\u043e\\u0441\\u0442\\u044c\", \"\\u043e\\u0442\\u0432\\u0435\\u0442\\u0441\\u0442\\u0432\\u0435\\u043d\\u043d\\u043e\\u0441\\u0442\\u044c\", \"\\u043e\\u0442\\u0434\\u0430\\u0432\\u0430\\u0442\\u044c\", \"\\u043e\\u0442\\u0434\\u0435\\u043b\", \"\\u043e\\u0442\\u0435\\u0446\", \"\\u043e\\u0442\\u0435\\u0447\\u0435\\u0441\\u0442\\u0432\\u0435\\u043d\\u043d\\u044b\\u0439\", \"\\u043e\\u0442\\u0435\\u0447\\u0435\\u0441\\u0442\\u0432\\u043e\", \"\\u043e\\u0442\\u043a\\u0430\\u0437\", \"\\u043e\\u0442\\u043a\\u0430\\u0437\\u044b\\u0432\\u0430\\u0442\\u044c\\u0441\\u044f\", \"\\u043e\\u0442\\u043a\\u0430\\u0437\\u044b\\u0432\\u0430\\u0442\\u044c\\u0441\\u044f\", \"\\u043e\\u0442\\u043a\\u0430\\u0437\\u044b\\u0432\\u0430\\u0442\\u044c\\u0441\\u044f\", \"\\u043e\\u0442\\u043a\\u0430\\u0437\\u044b\\u0432\\u0430\\u0442\\u044c\\u0441\\u044f\", \"\\u043e\\u0442\\u043a\\u0440\\u044b\\u0432\\u0430\\u0442\\u044c\", \"\\u043e\\u0442\\u043a\\u0443\\u0434\\u0430\", \"\\u043e\\u0442\\u043c\\u0435\\u043d\\u044f\\u0442\\u044c\", \"\\u043e\\u0442\\u043c\\u0435\\u0447\\u0430\\u0442\\u044c\", \"\\u043e\\u0442\\u043c\\u0435\\u0447\\u0430\\u0442\\u044c\", \"\\u043e\\u0442\\u043c\\u0435\\u0447\\u0430\\u0442\\u044c\", \"\\u043e\\u0442\\u043c\\u0435\\u0447\\u0430\\u0442\\u044c\", \"\\u043e\\u0442\\u043c\\u0435\\u0447\\u0430\\u0442\\u044c\", \"\\u043e\\u0442\\u043c\\u0435\\u0447\\u0430\\u0442\\u044c\", \"\\u043e\\u0442\\u043c\\u0435\\u0447\\u0430\\u0442\\u044c\", \"\\u043e\\u0442\\u043c\\u0435\\u0447\\u0430\\u0442\\u044c\", \"\\u043e\\u0442\\u043c\\u0435\\u0447\\u0430\\u0442\\u044c\", \"\\u043e\\u0442\\u043c\\u0435\\u0447\\u0430\\u0442\\u044c\", \"\\u043e\\u0442\\u043c\\u044b\\u0432\\u0430\\u043d\\u0438\\u0435\", \"\\u043e\\u0442\\u043d\\u043e\\u0441\\u0438\\u0442\\u0435\\u043b\\u044c\\u043d\\u043e\", \"\\u043e\\u0442\\u043f\\u0443\\u0441\\u043a\\u0430\\u0442\\u044c\", \"\\u043e\\u0442\\u0440\\u044f\\u0434\", \"\\u043e\\u0442\\u0441\\u0440\\u043e\\u0447\\u043a\\u0430\", \"\\u043e\\u0442\\u0441\\u0442\\u0430\\u0432\\u043a\\u0430\", \"\\u043e\\u0442\\u0447\\u0435\\u0442\", \"\\u043e\\u0444\\u0438\\u0446\\u0435\\u0440\", \"\\u043e\\u0444\\u043e\\u0440\\u043c\\u043b\\u044f\\u0442\\u044c\", \"\\u043e\\u0447\\u0435\\u043d\\u044c\", \"\\u043e\\u0447\\u0435\\u043d\\u044c\", \"\\u043e\\u0447\\u0435\\u043d\\u044c\", \"\\u043e\\u0447\\u0435\\u043d\\u044c\", \"\\u043e\\u0448\\u0438\\u0431\\u043a\\u0430\", \"\\u043f\\u0430\\u043a\\u0435\\u0442\", \"\\u043f\\u0430\\u043a\\u0435\\u0442\", \"\\u043f\\u0430\\u0440\\u043a\", \"\\u043f\\u0430\\u0440\\u043b\\u0430\\u043c\\u0435\\u043d\\u0442\", \"\\u043f\\u0430\\u0440\\u0442\\u0438\\u044f\", \"\\u043f\\u0430\\u0441\\u0441\\u0430\\u0436\\u0438\\u0440\", \"\\u043f\\u0430\\u0441\\u0441\\u0430\\u0436\\u0438\\u0440\", \"\\u043f\\u0430\\u0442\\u0440\\u0438\\u043e\\u0442\\u0438\\u0447\\u0435\\u0441\\u043a\\u0438\\u0439\", \"\\u043f\\u0435\\u043d\\u0442\\u0430\\u0433\\u043e\\u043d\", \"\\u043f\\u0435\\u0440\\u0432\\u044b\\u0439\", \"\\u043f\\u0435\\u0440\\u0432\\u044b\\u0439\", \"\\u043f\\u0435\\u0440\\u0432\\u044b\\u0439\", \"\\u043f\\u0435\\u0440\\u0432\\u044b\\u0439\", \"\\u043f\\u0435\\u0440\\u0432\\u044b\\u0439\", \"\\u043f\\u0435\\u0440\\u0432\\u044b\\u0439\", \"\\u043f\\u0435\\u0440\\u0432\\u044b\\u0439\", \"\\u043f\\u0435\\u0440\\u0432\\u044b\\u0439\", \"\\u043f\\u0435\\u0440\\u0435\\u0434\\u0430\\u0432\\u0430\\u0442\\u044c\", \"\\u043f\\u0435\\u0440\\u0435\\u0434\\u0430\\u0432\\u0430\\u0442\\u044c\", \"\\u043f\\u0435\\u0440\\u0435\\u0434\\u0430\\u0432\\u0430\\u0442\\u044c\", \"\\u043f\\u0435\\u0440\\u0435\\u0434\\u0430\\u0432\\u0430\\u0442\\u044c\", \"\\u043f\\u0435\\u0440\\u0435\\u0434\\u0430\\u0432\\u0430\\u0442\\u044c\", \"\\u043f\\u0435\\u0440\\u0435\\u0434\\u0430\\u0432\\u0430\\u0442\\u044c\", \"\\u043f\\u0435\\u0440\\u0435\\u0434\\u0430\\u0432\\u0430\\u0442\\u044c\", \"\\u043f\\u0435\\u0440\\u0435\\u0434\\u0430\\u0432\\u0430\\u0442\\u044c\", \"\\u043f\\u0435\\u0440\\u0435\\u0434\\u0430\\u0432\\u0430\\u0442\\u044c\", \"\\u043f\\u0435\\u0440\\u0435\\u0434\\u0430\\u0447\\u0430\", \"\\u043f\\u0435\\u0440\\u0435\\u0434\\u0430\\u0447\\u0430\", \"\\u043f\\u0435\\u0440\\u0435\\u0434\\u0432\\u0438\\u0436\\u0435\\u043d\\u0438\\u0435\", \"\\u043f\\u0435\\u0440\\u0435\\u0441\\u0442\\u0440\\u0435\\u043b\\u043a\\u0430\", \"\\u043f\\u0435\\u0440\\u0435\\u0447\\u0438\\u0441\\u043b\\u044f\\u0442\\u044c\", \"\\u043f\\u0435\\u0440\\u0438\\u043e\\u0434\", \"\\u043f\\u0435\\u0442\\u0435\\u0440\\u0431\\u0443\\u0440\\u0433\", \"\\u043f\\u0435\\u0442\\u0435\\u0440\\u0431\\u0443\\u0440\\u0433\\u0441\\u043a\\u0438\\u0439\", \"\\u043f\\u0435\\u0442\\u0440\", \"\\u043f\\u0435\\u0447\\u0430\\u0442\\u044c\", \"\\u043f\\u0438\\u0441\\u0430\\u0442\\u044c\", \"\\u043f\\u0438\\u0441\\u044c\\u043c\\u043e\", \"\\u043f\\u0438\\u0441\\u044c\\u043c\\u043e\", \"\\u043f\\u043b\\u0430\\u043d\\u0438\\u0440\\u043e\\u0432\\u0430\\u0442\\u044c\", \"\\u043f\\u043b\\u0430\\u0442\\u0430\", \"\\u043f\\u043b\\u0430\\u0442\\u0435\\u0436\", \"\\u043f\\u043b\\u0430\\u0442\\u0444\\u043e\\u0440\\u043c\\u0430\", \"\\u043f\\u043b\\u043e\\u0449\\u0430\\u0434\\u044c\", \"\\u043f\\u043e\\u0431\\u0435\\u0434\\u0430\", \"\\u043f\\u043e\\u0431\\u0435\\u0434\\u0430\", \"\\u043f\\u043e\\u0431\\u0435\\u0436\\u0434\\u0430\\u0442\\u044c\", \"\\u043f\\u043e\\u0431\\u0435\\u0440\\u0435\\u0436\\u044c\\u0435\", \"\\u043f\\u043e\\u0432\\u0442\\u043e\\u0440\\u043d\\u044b\\u0439\", \"\\u043f\\u043e\\u0432\\u044b\\u0448\\u0430\\u0442\\u044c\\u0441\\u044f\", \"\\u043f\\u043e\\u0433\\u0438\\u0431\\u0430\\u0442\\u044c\", \"\\u043f\\u043e\\u0433\\u0438\\u0431\\u0430\\u0442\\u044c\", \"\\u043f\\u043e\\u0433\\u0438\\u0431\\u0430\\u0442\\u044c\", \"\\u043f\\u043e\\u0433\\u0438\\u0431\\u0448\\u0438\\u0439\", \"\\u043f\\u043e\\u0434\\u0433\\u043e\\u0442\\u043e\\u0432\\u0438\\u0442\\u044c\", \"\\u043f\\u043e\\u0434\\u0433\\u043e\\u0442\\u043e\\u0432\\u0438\\u0442\\u044c\", \"\\u043f\\u043e\\u0434\\u0433\\u043e\\u0442\\u043e\\u0432\\u0438\\u0442\\u044c\", \"\\u043f\\u043e\\u0434\\u0434\\u0435\\u0440\\u0436\\u043a\\u0430\", \"\\u043f\\u043e\\u0434\\u0434\\u0435\\u0440\\u0436\\u043a\\u0430\", \"\\u043f\\u043e\\u0434\\u0434\\u0435\\u0440\\u0436\\u043a\\u0430\", \"\\u043f\\u043e\\u0434\\u0434\\u0435\\u0440\\u0436\\u043a\\u0430\", \"\\u043f\\u043e\\u0434\\u0437\\u0435\\u043c\\u043d\\u044b\\u0439\", \"\\u043f\\u043e\\u0434\\u043e\\u0431\\u043d\\u044b\\u0439\", \"\\u043f\\u043e\\u0434\\u043e\\u0431\\u043d\\u044b\\u0439\", \"\\u043f\\u043e\\u0434\\u043e\\u0431\\u043d\\u044b\\u0439\", \"\\u043f\\u043e\\u0434\\u043e\\u0431\\u043d\\u044b\\u0439\", \"\\u043f\\u043e\\u0434\\u043e\\u0431\\u043d\\u044b\\u0439\", \"\\u043f\\u043e\\u0434\\u043f\\u0438\\u0441\\u044b\\u0432\\u0430\\u0442\\u044c\", \"\\u043f\\u043e\\u0434\\u043f\\u0438\\u0441\\u044b\\u0432\\u0430\\u0442\\u044c\", \"\\u043f\\u043e\\u0434\\u043f\\u0438\\u0441\\u044c\", \"\\u043f\\u043e\\u0434\\u043f\\u0438\\u0441\\u044c\", \"\\u043f\\u043e\\u0434\\u0440\\u0430\\u0437\\u0434\\u0435\\u043b\\u0435\\u043d\\u0438\\u0435\", \"\\u043f\\u043e\\u0434\\u0445\\u043e\\u0434\\u0438\\u0442\\u044c\", \"\\u043f\\u043e\\u0436\\u0430\\u0440\", \"\\u043f\\u043e\\u0438\\u0441\\u043a\\u043e\\u0432\\u044b\\u0439\", \"\\u043f\\u043e\\u043a\\u0430\\u0437\\u0430\\u0442\\u0435\\u043b\\u044c\", \"\\u043f\\u043e\\u043a\\u0443\\u043f\\u043a\\u0430\", \"\\u043f\\u043e\\u043b\\u0435\", \"\\u043f\\u043e\\u043b\\u0435\\u0442\", \"\\u043f\\u043e\\u043b\\u0438\\u0442\\u0438\\u043a\\u0430\", \"\\u043f\\u043e\\u043b\\u0438\\u0442\\u0438\\u043a\\u0430\", \"\\u043f\\u043e\\u043b\\u0438\\u0442\\u0438\\u0447\\u0435\\u0441\\u043a\\u0438\\u0439\", \"\\u043f\\u043e\\u043b\\u0438\\u0442\\u0438\\u0447\\u0435\\u0441\\u043a\\u0438\\u0439\", \"\\u043f\\u043e\\u043b\\u0438\\u0442\\u0438\\u0447\\u0435\\u0441\\u043a\\u0438\\u0439\", \"\\u043f\\u043e\\u043b\\u0438\\u0442\\u0438\\u0447\\u0435\\u0441\\u043a\\u0438\\u0439\", \"\\u043f\\u043e\\u043b\\u0438\\u0442\\u0438\\u0447\\u0435\\u0441\\u043a\\u0438\\u0439\", \"\\u043f\\u043e\\u043b\\u0438\\u0446\\u0438\\u044f\", \"\\u043f\\u043e\\u043b\\u0438\\u0446\\u0438\\u044f\", \"\\u043f\\u043e\\u043b\\u043d\\u043e\\u0441\\u0442\\u044c\\u044e\", \"\\u043f\\u043e\\u043b\\u043d\\u043e\\u0441\\u0442\\u044c\\u044e\", \"\\u043f\\u043e\\u043b\\u043d\\u043e\\u0441\\u0442\\u044c\\u044e\", \"\\u043f\\u043e\\u043b\\u043d\\u043e\\u0441\\u0442\\u044c\\u044e\", \"\\u043f\\u043e\\u043b\\u043d\\u043e\\u0441\\u0442\\u044c\\u044e\", \"\\u043f\\u043e\\u043b\\u0442\\u043e\\u0440\\u0430\", \"\\u043f\\u043e\\u043b\\u0442\\u043e\\u0440\\u0430\", \"\\u043f\\u043e\\u043b\\u0442\\u043e\\u0440\\u0430\", \"\\u043f\\u043e\\u043b\\u0443\\u0447\\u0430\\u0442\\u044c\", \"\\u043f\\u043e\\u043b\\u0443\\u0447\\u0430\\u0442\\u044c\", \"\\u043f\\u043e\\u043b\\u0443\\u0447\\u0430\\u0442\\u044c\", \"\\u043f\\u043e\\u043b\\u0443\\u0447\\u0430\\u0442\\u044c\", \"\\u043f\\u043e\\u043b\\u0443\\u0447\\u0430\\u0442\\u044c\", \"\\u043f\\u043e\\u043b\\u0443\\u0447\\u0430\\u0442\\u044c\", \"\\u043f\\u043e\\u043b\\u0443\\u0447\\u0430\\u0442\\u044c\", \"\\u043f\\u043e\\u043b\\u0443\\u0447\\u0430\\u0442\\u044c\", \"\\u043f\\u043e\\u043b\\u0443\\u0447\\u0430\\u0442\\u044c\", \"\\u043f\\u043e\\u043b\\u0443\\u0447\\u0430\\u0442\\u044c\", \"\\u043f\\u043e\\u043b\\u0443\\u0447\\u0430\\u0442\\u044c\", \"\\u043f\\u043e\\u043b\\u0443\\u0447\\u0430\\u0442\\u044c\", \"\\u043f\\u043e\\u043b\\u0443\\u0447\\u0430\\u0442\\u044c\", \"\\u043f\\u043e\\u043b\\u0443\\u0447\\u0430\\u0442\\u044c\", \"\\u043f\\u043e\\u043b\\u0443\\u0447\\u0430\\u0442\\u044c\", \"\\u043f\\u043e\\u043b\\u044c\\u0437\\u043e\\u0432\\u0430\\u0442\\u0435\\u043b\\u044c\", \"\\u043f\\u043e\\u043c\\u0435\\u0449\\u0435\\u043d\\u0438\\u0435\", \"\\u043f\\u043e\\u043c\\u043e\\u0433\\u0430\\u0442\\u044c\", \"\\u043f\\u043e\\u043e\\u0431\\u0435\\u0449\\u0430\\u0442\\u044c\", \"\\u043f\\u043e\\u043f\\u0430\\u0434\\u0430\\u0442\\u044c\", \"\\u043f\\u043e\\u043f\\u0440\\u043e\\u0441\\u0438\\u0442\\u044c\", \"\\u043f\\u043e\\u043f\\u044b\\u0442\\u0430\\u0442\\u044c\\u0441\\u044f\", \"\\u043f\\u043e\\u0440\\u0430\\u0436\\u0435\\u043d\\u0438\\u0435\", \"\\u043f\\u043e\\u0441\\u043b\\u0435\\u0434\\u043d\\u0438\\u0439\", \"\\u043f\\u043e\\u0441\\u043b\\u0435\\u0434\\u043d\\u0438\\u0439\", \"\\u043f\\u043e\\u0441\\u043b\\u0435\\u0434\\u043d\\u0438\\u0439\", \"\\u043f\\u043e\\u0441\\u043b\\u0435\\u0434\\u043d\\u0438\\u0439\", \"\\u043f\\u043e\\u0441\\u043b\\u0435\\u0434\\u043d\\u0438\\u0439\", \"\\u043f\\u043e\\u0441\\u043b\\u0435\\u0434\\u043d\\u0438\\u0439\", \"\\u043f\\u043e\\u0441\\u043b\\u0435\\u0434\\u043d\\u0438\\u0439\", \"\\u043f\\u043e\\u0441\\u043b\\u0435\\u0434\\u043d\\u0438\\u0439\", \"\\u043f\\u043e\\u0441\\u043b\\u0435\\u0434\\u043d\\u0438\\u0439\", \"\\u043f\\u043e\\u0441\\u043b\\u0435\\u0434\\u0443\\u044e\\u0449\\u0438\\u0439\", \"\\u043f\\u043e\\u0441\\u043e\\u043b\\u044c\\u0441\\u0442\\u0432\\u043e\", \"\\u043f\\u043e\\u0441\\u0442\", \"\\u043f\\u043e\\u0441\\u0442\", \"\\u043f\\u043e\\u0441\\u0442\\u0440\\u0430\\u0434\\u0430\\u0442\\u044c\", \"\\u043f\\u043e\\u0441\\u0442\\u0440\\u0430\\u0434\\u0430\\u0442\\u044c\", \"\\u043f\\u043e\\u0442\\u0435\\u0440\\u044f\", \"\\u043f\\u043e\\u0442\\u0435\\u0440\\u044f\", \"\\u043f\\u043e\\u0445\\u0438\\u0449\\u0430\\u0442\\u044c\", \"\\u043f\\u0440\\u0430\\u0432\\u0434\\u0430\", \"\\u043f\\u0440\\u0430\\u0432\\u0434\\u0430\", \"\\u043f\\u0440\\u0430\\u0432\\u0438\\u043b\\u043e\", \"\\u043f\\u0440\\u0430\\u0432\\u0438\\u0442\\u0435\\u043b\\u044c\\u0441\\u0442\\u0432\\u043e\", \"\\u043f\\u0440\\u0430\\u0432\\u043b\\u0435\\u043d\\u0438\\u0435\", \"\\u043f\\u0440\\u0430\\u0432\\u043e\", \"\\u043f\\u0440\\u0430\\u0432\\u043e\", \"\\u043f\\u0440\\u0430\\u0432\\u043e\", \"\\u043f\\u0440\\u0430\\u0432\\u043e\", \"\\u043f\\u0440\\u0430\\u0432\\u043e\\u0432\\u043e\\u0439\", \"\\u043f\\u0440\\u0430\\u0432\\u043e\\u0432\\u043e\\u0439\", \"\\u043f\\u0440\\u0430\\u0432\\u043e\\u043e\\u0445\\u0440\\u0430\\u043d\\u0438\\u0442\\u0435\\u043b\\u044c\\u043d\\u044b\\u0439\", \"\\u043f\\u0440\\u0430\\u0432\\u043e\\u043e\\u0445\\u0440\\u0430\\u043d\\u0438\\u0442\\u0435\\u043b\\u044c\\u043d\\u044b\\u0439\", \"\\u043f\\u0440\\u0430\\u043a\\u0442\\u0438\\u0447\\u0435\\u0441\\u043a\\u0438\", \"\\u043f\\u0440\\u0430\\u043a\\u0442\\u0438\\u0447\\u0435\\u0441\\u043a\\u0438\", \"\\u043f\\u0440\\u0430\\u043a\\u0442\\u0438\\u0447\\u0435\\u0441\\u043a\\u0438\", \"\\u043f\\u0440\\u0430\\u043a\\u0442\\u0438\\u0447\\u0435\\u0441\\u043a\\u0438\", \"\\u043f\\u0440\\u0430\\u043a\\u0442\\u0438\\u0447\\u0435\\u0441\\u043a\\u0438\", \"\\u043f\\u0440\\u0430\\u043a\\u0442\\u0438\\u0447\\u0435\\u0441\\u043a\\u0438\", \"\\u043f\\u0440\\u0430\\u043a\\u0442\\u0438\\u0447\\u0435\\u0441\\u043a\\u0438\", \"\\u043f\\u0440\\u0435\\u0434\\u0432\\u0430\\u0440\\u0438\\u0442\\u0435\\u043b\\u044c\\u043d\\u044b\\u0439\", \"\\u043f\\u0440\\u0435\\u0434\\u0432\\u0430\\u0440\\u0438\\u0442\\u0435\\u043b\\u044c\\u043d\\u044b\\u0439\", \"\\u043f\\u0440\\u0435\\u0434\\u043b\\u0430\\u0433\\u0430\\u0442\\u044c\", \"\\u043f\\u0440\\u0435\\u0434\\u043b\\u0430\\u0433\\u0430\\u0442\\u044c\", \"\\u043f\\u0440\\u0435\\u0434\\u043b\\u0430\\u0433\\u0430\\u0442\\u044c\", \"\\u043f\\u0440\\u0435\\u0434\\u043b\\u0430\\u0433\\u0430\\u0442\\u044c\", \"\\u043f\\u0440\\u0435\\u0434\\u043b\\u043e\\u0436\\u0435\\u043d\\u0438\\u0435\", \"\\u043f\\u0440\\u0435\\u0434\\u043b\\u043e\\u0436\\u0435\\u043d\\u0438\\u0435\", \"\\u043f\\u0440\\u0435\\u0434\\u043c\\u0435\\u0442\", \"\\u043f\\u0440\\u0435\\u0434\\u043c\\u0435\\u0442\", \"\\u043f\\u0440\\u0435\\u0434\\u043f\\u043e\\u043b\\u043e\\u0436\\u0438\\u0442\\u0435\\u043b\\u044c\\u043d\\u043e\", \"\\u043f\\u0440\\u0435\\u0434\\u043f\\u0440\\u0438\\u043d\\u0438\\u043c\\u0430\\u0442\\u044c\", \"\\u043f\\u0440\\u0435\\u0434\\u043f\\u0440\\u0438\\u044f\\u0442\\u0438\\u0435\", \"\\u043f\\u0440\\u0435\\u0434\\u0441\\u0435\\u0434\\u0430\\u0442\\u0435\\u043b\\u044c\", \"\\u043f\\u0440\\u0435\\u0434\\u0441\\u0435\\u0434\\u0430\\u0442\\u0435\\u043b\\u044c\", \"\\u043f\\u0440\\u0435\\u0434\\u0441\\u0442\\u0430\\u0432\\u0438\\u0442\\u0435\\u043b\\u044c\", \"\\u043f\\u0440\\u0435\\u0434\\u0441\\u0442\\u0430\\u0432\\u0438\\u0442\\u0435\\u043b\\u044c\", \"\\u043f\\u0440\\u0435\\u0434\\u0441\\u0442\\u0430\\u0432\\u0438\\u0442\\u0435\\u043b\\u044c\", \"\\u043f\\u0440\\u0435\\u0434\\u0441\\u0442\\u0430\\u0432\\u0438\\u0442\\u0435\\u043b\\u044c\", \"\\u043f\\u0440\\u0435\\u0434\\u0441\\u0442\\u0430\\u0432\\u0438\\u0442\\u0435\\u043b\\u044c\", \"\\u043f\\u0440\\u0435\\u0434\\u0441\\u0442\\u0430\\u0432\\u0438\\u0442\\u0435\\u043b\\u044c\", \"\\u043f\\u0440\\u0435\\u0434\\u0441\\u0442\\u0430\\u0432\\u0438\\u0442\\u0435\\u043b\\u044c\", \"\\u043f\\u0440\\u0435\\u0434\\u0441\\u0442\\u0430\\u0432\\u0438\\u0442\\u0435\\u043b\\u044c\", \"\\u043f\\u0440\\u0435\\u0434\\u0441\\u0442\\u0430\\u0432\\u0438\\u0442\\u0435\\u043b\\u044c\", \"\\u043f\\u0440\\u0435\\u0434\\u0441\\u0442\\u0430\\u0432\\u0438\\u0442\\u0435\\u043b\\u044c\", \"\\u043f\\u0440\\u0435\\u0434\\u0441\\u0442\\u0430\\u0432\\u0438\\u0442\\u0435\\u043b\\u044c\", \"\\u043f\\u0440\\u0435\\u0434\\u0441\\u0442\\u0430\\u0432\\u0438\\u0442\\u0435\\u043b\\u044c\", \"\\u043f\\u0440\\u0435\\u0434\\u0441\\u0442\\u0430\\u0432\\u0438\\u0442\\u0435\\u043b\\u044c\", \"\\u043f\\u0440\\u0435\\u0434\\u0441\\u0442\\u0430\\u0432\\u0438\\u0442\\u0435\\u043b\\u044c\\u0441\\u0442\\u0432\\u043e\", \"\\u043f\\u0440\\u0435\\u0434\\u0441\\u0442\\u0430\\u0432\\u0438\\u0442\\u0435\\u043b\\u044c\\u0441\\u0442\\u0432\\u043e\", \"\\u043f\\u0440\\u0435\\u0434\\u0441\\u0442\\u0430\\u0432\\u043b\\u044f\\u0442\\u044c\", \"\\u043f\\u0440\\u0435\\u0434\\u0441\\u0442\\u0430\\u0432\\u043b\\u044f\\u0442\\u044c\", \"\\u043f\\u0440\\u0435\\u0434\\u0441\\u0442\\u0430\\u0432\\u043b\\u044f\\u0442\\u044c\", \"\\u043f\\u0440\\u0435\\u0434\\u0441\\u0442\\u0430\\u0432\\u043b\\u044f\\u0442\\u044c\", \"\\u043f\\u0440\\u0435\\u0434\\u0441\\u0442\\u0430\\u0432\\u043b\\u044f\\u0442\\u044c\", \"\\u043f\\u0440\\u0435\\u0434\\u0441\\u0442\\u0430\\u0432\\u043b\\u044f\\u0442\\u044c\", \"\\u043f\\u0440\\u0435\\u0434\\u044a\\u044f\\u0432\\u043b\\u044f\\u0442\\u044c\", \"\\u043f\\u0440\\u0435\\u0437\\u0438\\u0434\\u0435\\u043d\\u0442\", \"\\u043f\\u0440\\u0435\\u0437\\u0438\\u0434\\u0435\\u043d\\u0442\", \"\\u043f\\u0440\\u0435\\u0437\\u0438\\u0434\\u0435\\u043d\\u0442\", \"\\u043f\\u0440\\u0435\\u0437\\u0438\\u0434\\u0435\\u043d\\u0442\\u0441\\u043a\\u0438\\u0439\", \"\\u043f\\u0440\\u0435\\u0437\\u0438\\u0434\\u0435\\u043d\\u0442\\u0441\\u043a\\u0438\\u0439\", \"\\u043f\\u0440\\u0435\\u0438\\u043c\\u0443\\u0449\\u0435\\u0441\\u0442\\u0432\\u043e\", \"\\u043f\\u0440\\u0435\\u043c\\u044c\\u0435\\u0440\", \"\\u043f\\u0440\\u0435\\u043f\\u044f\\u0442\\u0441\\u0442\\u0432\\u0438\\u0435\", \"\\u043f\\u0440\\u0435\\u0441\\u0435\\u0447\\u0435\\u043d\\u0438\\u0435\", \"\\u043f\\u0440\\u0435\\u0441\\u0441\", \"\\u043f\\u0440\\u0435\\u0441\\u0441\", \"\\u043f\\u0440\\u0435\\u0441\\u0441\", \"\\u043f\\u0440\\u0435\\u0441\\u0441\", \"\\u043f\\u0440\\u0435\\u0441\\u0441\", \"\\u043f\\u0440\\u0435\\u0441\\u0441\\u0430\", \"\\u043f\\u0440\\u0435\\u0441\\u0442\\u0443\\u043f\\u043b\\u0435\\u043d\\u0438\\u0435\", \"\\u043f\\u0440\\u0435\\u0441\\u0442\\u0443\\u043f\\u043d\\u044b\\u0439\", \"\\u043f\\u0440\\u0435\\u0442\\u0435\\u043d\\u0434\\u0435\\u043d\\u0442\", \"\\u043f\\u0440\\u0438\\u0431\\u044b\\u043b\\u044c\", \"\\u043f\\u0440\\u0438\\u0433\\u043e\\u0432\\u0430\\u0440\\u0438\\u0432\\u0430\\u0442\\u044c\", \"\\u043f\\u0440\\u0438\\u0433\\u043e\\u0432\\u043e\\u0440\", \"\\u043f\\u0440\\u0438\\u0437\\u0432\\u0430\\u043d\\u043d\\u044b\\u0439\", \"\\u043f\\u0440\\u0438\\u0437\\u043d\\u0430\\u0432\\u0430\\u0442\\u044c\", \"\\u043f\\u0440\\u0438\\u0437\\u043d\\u0430\\u0432\\u0430\\u0442\\u044c\", \"\\u043f\\u0440\\u0438\\u0437\\u043d\\u0430\\u0432\\u0430\\u0442\\u044c\", \"\\u043f\\u0440\\u0438\\u0437\\u043d\\u0430\\u0432\\u0430\\u0442\\u044c\", \"\\u043f\\u0440\\u0438\\u0437\\u043d\\u0430\\u0432\\u0430\\u0442\\u044c\", \"\\u043f\\u0440\\u0438\\u043c\\u0435\\u0440\\u043d\\u043e\", \"\\u043f\\u0440\\u0438\\u043c\\u0435\\u0440\\u043d\\u043e\", \"\\u043f\\u0440\\u0438\\u043c\\u0435\\u0440\\u043d\\u043e\", \"\\u043f\\u0440\\u0438\\u043d\\u0438\\u043c\\u0430\\u0442\\u044c\", \"\\u043f\\u0440\\u0438\\u043d\\u0438\\u043c\\u0430\\u0442\\u044c\", \"\\u043f\\u0440\\u0438\\u043d\\u0438\\u043c\\u0430\\u0442\\u044c\", \"\\u043f\\u0440\\u0438\\u043d\\u0438\\u043c\\u0430\\u0442\\u044c\", \"\\u043f\\u0440\\u0438\\u043e\\u0441\\u0442\\u0430\\u043d\\u0430\\u0432\\u043b\\u0438\\u0432\\u0430\\u0442\\u044c\", \"\\u043f\\u0440\\u0438\\u0441\\u043e\\u0435\\u0434\\u0438\\u043d\\u044f\\u0442\\u044c\\u0441\\u044f\", \"\\u043f\\u0440\\u0438\\u0441\\u0443\\u0442\\u0441\\u0442\\u0432\\u043e\\u0432\\u0430\\u0442\\u044c\", \"\\u043f\\u0440\\u0438\\u0445\\u043e\\u0434\\u0438\\u0442\\u044c\\u0441\\u044f\", \"\\u043f\\u0440\\u0438\\u0445\\u043e\\u0434\\u0438\\u0442\\u044c\\u0441\\u044f\", \"\\u043f\\u0440\\u0438\\u0447\\u0430\\u0441\\u0442\\u043d\\u043e\\u0441\\u0442\\u044c\", \"\\u043f\\u0440\\u0438\\u0447\\u0435\\u043c\", \"\\u043f\\u0440\\u0438\\u0447\\u0438\\u043d\\u0430\", \"\\u043f\\u0440\\u0438\\u0447\\u0438\\u043d\\u0430\", \"\\u043f\\u0440\\u0438\\u0447\\u0438\\u043d\\u0430\", \"\\u043f\\u0440\\u0438\\u0447\\u0438\\u043d\\u0430\", \"\\u043f\\u0440\\u043e\\u0432\\u0438\\u043d\\u0446\\u0438\\u044f\", \"\\u043f\\u0440\\u043e\\u0433\\u0440\\u0430\\u043c\\u043c\\u0430\", \"\\u043f\\u0440\\u043e\\u0433\\u0440\\u0430\\u043c\\u043c\\u0430\", \"\\u043f\\u0440\\u043e\\u0433\\u0440\\u0430\\u043c\\u043c\\u0430\", \"\\u043f\\u0440\\u043e\\u0433\\u0440\\u0430\\u043c\\u043c\\u043d\\u044b\\u0439\", \"\\u043f\\u0440\\u043e\\u0434\\u0430\\u0436\\u0430\", \"\\u043f\\u0440\\u043e\\u0434\\u0430\\u0436\\u0430\", \"\\u043f\\u0440\\u043e\\u0434\\u043b\\u0438\\u0442\\u044c\\u0441\\u044f\", \"\\u043f\\u0440\\u043e\\u0434\\u043b\\u044f\\u0442\\u044c\", \"\\u043f\\u0440\\u043e\\u0435\\u043a\\u0442\", \"\\u043f\\u0440\\u043e\\u0438\\u0437\\u0432\\u043e\\u0434\\u0438\\u0442\\u0435\\u043b\\u044c\", \"\\u043f\\u0440\\u043e\\u0438\\u0441\\u0445\\u043e\\u0434\\u0438\\u0442\\u044c\", \"\\u043f\\u0440\\u043e\\u0438\\u0441\\u0445\\u043e\\u0434\\u0438\\u0442\\u044c\", \"\\u043f\\u0440\\u043e\\u0438\\u0441\\u0445\\u043e\\u0434\\u0438\\u0442\\u044c\", \"\\u043f\\u0440\\u043e\\u0438\\u0441\\u0445\\u043e\\u0434\\u0438\\u0442\\u044c\", \"\\u043f\\u0440\\u043e\\u043a\\u0443\\u0440\\u0430\\u0442\\u0443\\u0440\\u0430\", \"\\u043f\\u0440\\u043e\\u043a\\u0443\\u0440\\u043e\\u0440\", \"\\u043f\\u0440\\u043e\\u043a\\u0443\\u0440\\u043e\\u0440\", \"\\u043f\\u0440\\u043e\\u043f\\u0430\\u0434\\u0430\\u0442\\u044c\", \"\\u043f\\u0440\\u043e\\u0441\\u0442\\u043e\", \"\\u043f\\u0440\\u043e\\u0441\\u0442\\u043e\", \"\\u043f\\u0440\\u043e\\u0442\\u0435\\u0441\\u0442\", \"\\u043f\\u0440\\u043e\\u0442\\u0435\\u0441\\u0442\", \"\\u043f\\u0440\\u043e\\u0442\\u0438\\u0432\", \"\\u043f\\u0440\\u043e\\u0442\\u0438\\u0432\", \"\\u043f\\u0440\\u043e\\u0442\\u0438\\u0432\", \"\\u043f\\u0440\\u043e\\u0442\\u0438\\u0432\", \"\\u043f\\u0440\\u043e\\u0442\\u0438\\u0432\", \"\\u043f\\u0440\\u043e\\u0442\\u0438\\u0432\", \"\\u043f\\u0440\\u043e\\u0442\\u044f\\u0436\\u0435\\u043d\\u0438\\u0435\", \"\\u043f\\u0440\\u043e\\u0445\\u043e\\u0434\\u0438\\u0442\\u044c\", \"\\u043f\\u0440\\u043e\\u0445\\u043e\\u0434\\u0438\\u0442\\u044c\", \"\\u043f\\u0440\\u043e\\u0445\\u043e\\u0434\\u0438\\u0442\\u044c\", \"\\u043f\\u0440\\u043e\\u0445\\u043e\\u0434\\u0438\\u0442\\u044c\", \"\\u043f\\u0440\\u043e\\u0445\\u043e\\u0434\\u0438\\u0442\\u044c\", \"\\u043f\\u0440\\u043e\\u0445\\u043e\\u0434\\u0438\\u0442\\u044c\", \"\\u043f\\u0440\\u043e\\u0446\\u0435\\u043d\\u0442\", \"\\u043f\\u0440\\u043e\\u0446\\u0435\\u043d\\u0442\", \"\\u043f\\u0440\\u043e\\u0446\\u0435\\u0441\\u0441\", \"\\u043f\\u0440\\u043e\\u0446\\u0435\\u0441\\u0441\", \"\\u043f\\u0440\\u043e\\u0446\\u0435\\u0441\\u0441\", \"\\u043f\\u0440\\u043e\\u0448\\u0435\\u0434\\u0448\\u0438\\u0439\", \"\\u043f\\u0440\\u044f\\u043c\\u043e\\u0439\", \"\\u043f\\u0443\\u0431\\u043b\\u0438\\u043a\\u0430\\u0446\\u0438\\u044f\", \"\\u043f\\u0443\\u043d\\u043a\\u0442\", \"\\u043f\\u0443\\u043d\\u043a\\u0442\", \"\\u043f\\u0443\\u0442\\u0438\\u043d\", \"\\u043f\\u0443\\u0442\\u0438\\u043d\", \"\\u043f\\u044f\\u0442\\u043d\\u0438\\u0446\\u0430\", \"\\u043f\\u044f\\u0442\\u043d\\u0438\\u0446\\u0430\", \"\\u043f\\u044f\\u0442\\u043d\\u0438\\u0446\\u0430\", \"\\u043f\\u044f\\u0442\\u043d\\u0438\\u0446\\u0430\", \"\\u043f\\u044f\\u0442\\u043d\\u0438\\u0446\\u0430\", \"\\u043f\\u044f\\u0442\\u044b\\u0439\", \"\\u0440\\u0430\\u0437\\u0431\\u0438\\u0440\\u0430\\u0442\\u044c\\u0441\\u044f\", \"\\u0440\\u0430\\u0437\\u0432\\u0438\\u0432\\u0430\\u0442\\u044c\", \"\\u0440\\u0430\\u0437\\u0432\\u0438\\u0442\\u0438\\u0435\", \"\\u0440\\u0430\\u0437\\u043c\\u0435\\u0440\", \"\\u0440\\u0430\\u0437\\u0440\\u0435\\u0448\\u0435\\u043d\\u0438\\u0435\", \"\\u0440\\u0430\\u0439\\u043e\\u043d\", \"\\u0440\\u0430\\u0439\\u043e\\u043d\", \"\\u0440\\u0430\\u0439\\u043e\\u043d\", \"\\u0440\\u0430\\u0439\\u043e\\u043d\", \"\\u0440\\u0430\\u043a\\u0435\\u0442\\u043d\\u044b\\u0439\", \"\\u0440\\u0430\\u043d\\u0435\\u043d\\u044b\\u0439\", \"\\u0440\\u0430\\u043d\\u043e\", \"\\u0440\\u0430\\u043d\\u043e\", \"\\u0440\\u0430\\u0441\\u043f\\u0440\\u043e\\u0441\\u0442\\u0440\\u0430\\u043d\\u0435\\u043d\\u0438\\u0435\", \"\\u0440\\u0430\\u0441\\u043f\\u0440\\u043e\\u0441\\u0442\\u0440\\u0430\\u043d\\u044f\\u0442\\u044c\", \"\\u0440\\u0430\\u0441\\u0441\\u043b\\u0435\\u0434\\u043e\\u0432\\u0430\\u043d\\u0438\\u0435\", \"\\u0440\\u0430\\u0441\\u0441\\u043b\\u0435\\u0434\\u043e\\u0432\\u0430\\u043d\\u0438\\u0435\", \"\\u0440\\u0430\\u0441\\u0441\\u043b\\u0435\\u0434\\u043e\\u0432\\u0430\\u043d\\u0438\\u0435\", \"\\u0440\\u0430\\u0441\\u0441\\u043b\\u0435\\u0434\\u043e\\u0432\\u0430\\u043d\\u0438\\u0435\", \"\\u0440\\u0430\\u0441\\u0441\\u043c\\u0430\\u0442\\u0440\\u0438\\u0432\\u0430\\u0442\\u044c\", \"\\u0440\\u0430\\u0441\\u0441\\u043c\\u0430\\u0442\\u0440\\u0438\\u0432\\u0430\\u0442\\u044c\", \"\\u0440\\u0430\\u0441\\u0447\\u0435\\u0442\", \"\\u0440\\u0435\\u0430\\u043a\\u0446\\u0438\\u044f\", \"\\u0440\\u0435\\u0430\\u043a\\u0446\\u0438\\u044f\", \"\\u0440\\u0435\\u0431\\u0435\\u043d\\u043e\\u043a\", \"\\u0440\\u0435\\u0433\\u0438\\u0441\\u0442\\u0440\\u0430\\u0446\\u0438\\u044f\", \"\\u0440\\u0435\\u0437\\u0435\\u0440\\u0432\", \"\\u0440\\u0435\\u0437\\u043e\\u043b\\u044e\\u0446\\u0438\\u044f\", \"\\u0440\\u0435\\u0437\\u0443\\u043b\\u044c\\u0442\\u0430\\u0442\", \"\\u0440\\u0435\\u0437\\u0443\\u043b\\u044c\\u0442\\u0430\\u0442\", \"\\u0440\\u0435\\u0437\\u0443\\u043b\\u044c\\u0442\\u0430\\u0442\", \"\\u0440\\u0435\\u0437\\u0443\\u043b\\u044c\\u0442\\u0430\\u0442\", \"\\u0440\\u0435\\u0437\\u0443\\u043b\\u044c\\u0442\\u0430\\u0442\", \"\\u0440\\u0435\\u0437\\u0443\\u043b\\u044c\\u0442\\u0430\\u0442\", \"\\u0440\\u0435\\u0437\\u0443\\u043b\\u044c\\u0442\\u0430\\u0442\", \"\\u0440\\u0435\\u0437\\u0443\\u043b\\u044c\\u0442\\u0430\\u0442\", \"\\u0440\\u0435\\u0437\\u0443\\u043b\\u044c\\u0442\\u0430\\u0442\", \"\\u0440\\u0435\\u0437\\u0443\\u043b\\u044c\\u0442\\u0430\\u0442\", \"\\u0440\\u0435\\u0437\\u0443\\u043b\\u044c\\u0442\\u0430\\u0442\", \"\\u0440\\u0435\\u0437\\u0443\\u043b\\u044c\\u0442\\u0430\\u0442\", \"\\u0440\\u0435\\u0437\\u0443\\u043b\\u044c\\u0442\\u0430\\u0442\", \"\\u0440\\u0435\\u043a\\u0430\", \"\\u0440\\u0435\\u043a\\u043e\\u043c\\u0435\\u043d\\u0434\\u043e\\u0432\\u0430\\u0442\\u044c\", \"\\u0440\\u0435\\u043b\\u0438\\u0433\\u0438\\u043e\\u0437\\u043d\\u044b\\u0439\", \"\\u0440\\u0435\\u0441\\u043f\\u0443\\u0431\\u043b\\u0438\\u043a\\u0430\", \"\\u0440\\u0435\\u0441\\u043f\\u0443\\u0431\\u043b\\u0438\\u043a\\u0430\", \"\\u0440\\u0435\\u0441\\u043f\\u0443\\u0431\\u043b\\u0438\\u043a\\u0430\", \"\\u0440\\u0435\\u0441\\u043f\\u0443\\u0431\\u043b\\u0438\\u043a\\u0430\\u043d\\u0441\\u043a\\u0438\\u0439\", \"\\u0440\\u0435\\u0441\\u0443\\u0440\\u0441\", \"\\u0440\\u0435\\u0444\\u0435\\u0440\\u0435\\u043d\\u0434\\u0443\\u043c\", \"\\u0440\\u0435\\u0444\\u043e\\u0440\\u043c\\u0430\", \"\\u0440\\u0435\\u0448\\u0430\\u0442\\u044c\", \"\\u0440\\u0435\\u0448\\u0430\\u0442\\u044c\", \"\\u0440\\u0435\\u0448\\u0430\\u0442\\u044c\", \"\\u0440\\u0435\\u0448\\u0430\\u0442\\u044c\", \"\\u0440\\u0435\\u0448\\u0430\\u0442\\u044c\", \"\\u0440\\u0435\\u0448\\u0435\\u043d\\u0438\\u0435\", \"\\u0440\\u0435\\u0448\\u0435\\u043d\\u0438\\u0435\", \"\\u0440\\u0435\\u0448\\u0435\\u043d\\u0438\\u0435\", \"\\u0440\\u0435\\u0448\\u0435\\u043d\\u0438\\u0435\", \"\\u0440\\u0435\\u0448\\u0435\\u043d\\u0438\\u0435\", \"\\u0440\\u0438\\u0430\", \"\\u0440\\u0438\\u0430\", \"\\u0440\\u0438\\u0430\", \"\\u0440\\u0438\\u0430\", \"\\u0440\\u0438\\u0430\", \"\\u0440\\u0438\\u0430\", \"\\u0440\\u043e\\u0434\\u0441\\u0442\\u0432\\u0435\\u043d\\u043d\\u0438\\u043a\", \"\\u0440\\u043e\\u0437\\u044b\\u0441\\u043a\", \"\\u0440\\u043e\\u0441\\u0441\\u0438\\u0439\\u0441\\u043a\\u0438\\u0439\", \"\\u0440\\u043e\\u0441\\u0441\\u0438\\u0439\\u0441\\u043a\\u0438\\u0439\", \"\\u0440\\u043e\\u0441\\u0441\\u0438\\u0439\\u0441\\u043a\\u0438\\u0439\", \"\\u0440\\u043e\\u0441\\u0441\\u0438\\u0439\\u0441\\u043a\\u0438\\u0439\", \"\\u0440\\u043e\\u0441\\u0441\\u0438\\u0439\\u0441\\u043a\\u0438\\u0439\", \"\\u0440\\u043e\\u0441\\u0441\\u0438\\u0439\\u0441\\u043a\\u0438\\u0439\", \"\\u0440\\u043e\\u0441\\u0441\\u0438\\u0439\\u0441\\u043a\\u0438\\u0439\", \"\\u0440\\u043e\\u0441\\u0441\\u0438\\u0439\\u0441\\u043a\\u0438\\u0439\", \"\\u0440\\u043e\\u0441\\u0441\\u0438\\u044f\", \"\\u0440\\u043e\\u0441\\u0441\\u0438\\u044f\", \"\\u0440\\u043e\\u0441\\u0441\\u0438\\u044f\", \"\\u0440\\u043e\\u0441\\u0441\\u0438\\u044f\", \"\\u0440\\u043e\\u0441\\u0441\\u0438\\u044f\", \"\\u0440\\u043e\\u0441\\u0441\\u0438\\u044f\", \"\\u0440\\u043e\\u0441\\u0441\\u0438\\u044f\", \"\\u0440\\u043e\\u0441\\u0441\\u0438\\u044f\\u043d\\u0438\\u043d\", \"\\u0440\\u043e\\u0441\\u0441\\u0438\\u044f\\u043d\\u0438\\u043d\", \"\\u0440\\u0442\\u0440\", \"\\u0440\\u0443\\u0431\\u0435\\u0436\", \"\\u0440\\u0443\\u0431\\u043b\\u044c\", \"\\u0440\\u0443\\u043a\\u0430\", \"\\u0440\\u0443\\u043a\\u0430\", \"\\u0440\\u0443\\u043a\\u0430\", \"\\u0440\\u0443\\u043a\\u043e\\u0432\\u043e\\u0434\\u0441\\u0442\\u0432\\u043e\", \"\\u0440\\u0443\\u043a\\u043e\\u0432\\u043e\\u0434\\u0441\\u0442\\u0432\\u043e\", \"\\u0440\\u0443\\u043a\\u043e\\u0432\\u043e\\u0434\\u0441\\u0442\\u0432\\u043e\", \"\\u0440\\u0443\\u043a\\u043e\\u0432\\u043e\\u0434\\u0441\\u0442\\u0432\\u043e\", \"\\u0440\\u0443\\u043a\\u043e\\u0432\\u043e\\u0434\\u0441\\u0442\\u0432\\u043e\", \"\\u0440\\u0443\\u0441\\u0441\\u043a\\u0438\\u0439\", \"\\u0440\\u0443\\u0441\\u0441\\u043a\\u0438\\u0439\", \"\\u0440\\u0443\\u0441\\u0441\\u043a\\u0438\\u0439\", \"\\u0440\\u0443\\u0441\\u0441\\u043a\\u0438\\u0439\", \"\\u0440\\u044b\\u043d\\u043e\\u043a\", \"\\u0440\\u044b\\u043d\\u043e\\u043a\", \"\\u0440\\u044b\\u043d\\u043e\\u043a\", \"\\u0440\\u044f\\u0434\\u043e\\u043c\", \"\\u0441\\u0430\\u0434\\u0438\\u0442\\u044c\\u0441\\u044f\", \"\\u0441\\u0430\\u043c\\u043e\\u0434\\u0435\\u043b\\u044c\\u043d\\u044b\\u0439\", \"\\u0441\\u0430\\u043c\\u043e\\u043b\\u0435\\u0442\", \"\\u0441\\u0430\\u043c\\u043e\\u043b\\u0435\\u0442\", \"\\u0441\\u0430\\u043c\\u044b\\u0439\", \"\\u0441\\u0430\\u043c\\u044b\\u0439\", \"\\u0441\\u0430\\u043c\\u044b\\u0439\", \"\\u0441\\u0430\\u043c\\u044b\\u0439\", \"\\u0441\\u0430\\u043c\\u044b\\u0439\", \"\\u0441\\u0430\\u043c\\u044b\\u0439\", \"\\u0441\\u0430\\u043d\", \"\\u0441\\u0430\\u043d\\u0438\\u0442\\u0430\\u0440\\u043d\\u044b\\u0439\", \"\\u0441\\u0430\\u043d\\u043a\\u0442\", \"\\u0441\\u0432\\u0438\\u0434\\u0435\\u0442\\u0435\\u043b\\u044c\", \"\\u0441\\u0432\\u0438\\u0434\\u0435\\u0442\\u0435\\u043b\\u044c\\u0441\\u0442\\u0432\\u043e\\u0432\\u0430\\u0442\\u044c\", \"\\u0441\\u0432\\u043e\\u0431\\u043e\\u0434\\u0430\", \"\\u0441\\u0432\\u043e\\u0439\", \"\\u0441\\u0432\\u043e\\u0439\", \"\\u0441\\u0432\\u043e\\u0439\", \"\\u0441\\u0432\\u043e\\u0439\", \"\\u0441\\u0432\\u043e\\u0439\", \"\\u0441\\u0432\\u043e\\u0439\", \"\\u0441\\u0432\\u043e\\u0439\", \"\\u0441\\u0432\\u043e\\u0439\", \"\\u0441\\u0432\\u043e\\u0439\", \"\\u0441\\u0432\\u043e\\u0439\", \"\\u0441\\u0432\\u043e\\u0439\", \"\\u0441\\u0432\\u043e\\u0439\", \"\\u0441\\u0432\\u043e\\u0439\", \"\\u0441\\u0433\\u043e\\u0440\\u0430\\u0442\\u044c\", \"\\u0441\\u0434\\u0430\\u0447\\u0430\", \"\\u0441\\u0434\\u0435\\u043b\\u0430\\u0442\\u044c\", \"\\u0441\\u0434\\u0435\\u043b\\u0430\\u0442\\u044c\", \"\\u0441\\u0434\\u0435\\u043b\\u0430\\u0442\\u044c\", \"\\u0441\\u0434\\u0435\\u043b\\u043a\\u0430\", \"\\u0441\\u0435\\u0432\\u0435\\u0440\\u043d\\u044b\\u0439\", \"\\u0441\\u0435\\u0432\\u0435\\u0440\\u043d\\u044b\\u0439\", \"\\u0441\\u0435\\u0432\\u0435\\u0440\\u043e\", \"\\u0441\\u0435\\u043a\\u0440\\u0435\\u0442\\u043d\\u044b\\u0439\", \"\\u0441\\u0435\\u043a\\u0443\\u043d\\u0434\\u0430\", \"\\u0441\\u0435\\u043b\\u0435\\u043d\\u0438\\u0435\", \"\\u0441\\u0435\\u043b\\u043e\", \"\\u0441\\u0435\\u043d\\u0430\\u0442\", \"\\u0441\\u0435\\u0440\\u0433\\u0435\\u0439\", \"\\u0441\\u0435\\u0441\\u0441\\u0438\\u044f\", \"\\u0441\\u0435\\u0442\\u044c\", \"\\u0441\\u0435\\u0442\\u044c\", \"\\u0441\\u0438\\u043b\\u0430\", \"\\u0441\\u0438\\u043b\\u0430\", \"\\u0441\\u0438\\u043b\\u0430\", \"\\u0441\\u0438\\u043b\\u0430\", \"\\u0441\\u0438\\u043b\\u0430\", \"\\u0441\\u0438\\u043b\\u0430\", \"\\u0441\\u0438\\u043b\\u0430\", \"\\u0441\\u0438\\u043b\\u0430\", \"\\u0441\\u0438\\u043b\\u043e\\u0432\\u043e\\u0439\", \"\\u0441\\u0438\\u043b\\u044c\\u043d\\u043e\", \"\\u0441\\u0438\\u043b\\u044c\\u043d\\u044b\\u0439\", \"\\u0441\\u0438\\u043c\\u0432\\u043e\\u043b\", \"\\u0441\\u0438\\u0441\\u0442\\u0435\\u043c\\u0430\", \"\\u0441\\u0438\\u0441\\u0442\\u0435\\u043c\\u0430\", \"\\u0441\\u0438\\u0442\\u0443\\u0430\\u0446\\u0438\\u044f\", \"\\u0441\\u0438\\u0442\\u0443\\u0430\\u0446\\u0438\\u044f\", \"\\u0441\\u0438\\u0442\\u0443\\u0430\\u0446\\u0438\\u044f\", \"\\u0441\\u0438\\u0442\\u0443\\u0430\\u0446\\u0438\\u044f\", \"\\u0441\\u0438\\u0442\\u0443\\u0430\\u0446\\u0438\\u044f\", \"\\u0441\\u043a\\u0430\\u0437\\u0430\\u0442\\u044c\", \"\\u0441\\u043a\\u0430\\u0437\\u0430\\u0442\\u044c\", \"\\u0441\\u043a\\u0430\\u0437\\u0430\\u0442\\u044c\", \"\\u0441\\u043a\\u0430\\u043d\\u0434\\u0430\\u043b\", \"\\u0441\\u043a\\u043b\\u0430\\u0434\", \"\\u0441\\u043a\\u043b\\u0430\\u0434\\u044b\\u0432\\u0430\\u0442\\u044c\\u0441\\u044f\", \"\\u0441\\u043a\\u0440\\u044b\\u0432\\u0430\\u0442\\u044c\\u0441\\u044f\", \"\\u0441\\u043b\\u0435\\u0434\\u043e\\u0432\\u0430\\u0442\\u0435\\u043b\\u044c\", \"\\u0441\\u043b\\u0435\\u0434\\u043e\\u0432\\u0430\\u0442\\u044c\", \"\\u0441\\u043b\\u0435\\u0434\\u0441\\u0442\\u0432\\u0438\\u0435\", \"\\u0441\\u043b\\u0435\\u0434\\u0441\\u0442\\u0432\\u0438\\u0435\", \"\\u0441\\u043b\\u0438\\u0448\\u043a\\u043e\\u043c\", \"\\u0441\\u043b\\u043e\\u0432\\u043e\", \"\\u0441\\u043b\\u043e\\u0432\\u043e\", \"\\u0441\\u043b\\u043e\\u0432\\u043e\", \"\\u0441\\u043b\\u043e\\u0432\\u043e\", \"\\u0441\\u043b\\u043e\\u0432\\u043e\", \"\\u0441\\u043b\\u043e\\u0432\\u043e\", \"\\u0441\\u043b\\u043e\\u0432\\u043e\", \"\\u0441\\u043b\\u043e\\u0432\\u043e\", \"\\u0441\\u043b\\u043e\\u0432\\u043e\", \"\\u0441\\u043b\\u043e\\u0432\\u043e\", \"\\u0441\\u043b\\u0443\\u0436\\u0431\\u0430\", \"\\u0441\\u043b\\u0443\\u0436\\u0431\\u0430\", \"\\u0441\\u043b\\u0443\\u0436\\u0431\\u0430\", \"\\u0441\\u043b\\u0443\\u0436\\u0431\\u0430\", \"\\u0441\\u043b\\u0443\\u0436\\u0431\\u0430\", \"\\u0441\\u043b\\u0443\\u0436\\u0431\\u0430\", \"\\u0441\\u043b\\u0443\\u0436\\u0431\\u0430\", \"\\u0441\\u043b\\u0443\\u0436\\u0431\\u0430\", \"\\u0441\\u043b\\u0443\\u0436\\u0431\\u0430\", \"\\u0441\\u043b\\u0443\\u0436\\u0431\\u0430\", \"\\u0441\\u043b\\u0443\\u0436\\u0435\\u0431\\u043d\\u044b\\u0439\", \"\\u0441\\u043c\\u0438\", \"\\u0441\\u043c\\u0438\", \"\\u0441\\u043c\\u0438\", \"\\u0441\\u043c\\u0438\", \"\\u0441\\u043d\\u0430\\u0440\\u044f\\u0434\", \"\\u0441\\u043d\\u043e\\u0432\\u0430\", \"\\u0441\\u043e\\u0431\\u0441\\u0442\\u0432\\u0435\\u043d\\u043d\\u044b\\u0439\", \"\\u0441\\u043e\\u0432\\u0435\\u0440\\u0448\\u0435\\u043d\\u043d\\u043e\", \"\\u0441\\u043e\\u0432\\u0435\\u0440\\u0448\\u0435\\u043d\\u043d\\u044b\\u0439\", \"\\u0441\\u043e\\u0432\\u0435\\u0442\", \"\\u0441\\u043e\\u0432\\u0435\\u0442\", \"\\u0441\\u043e\\u0432\\u0435\\u0442\\u043d\\u0438\\u043a\", \"\\u0441\\u043e\\u0435\\u0434\\u0438\\u043d\\u044f\\u0442\\u044c\", \"\\u0441\\u043e\\u0437\\u0434\\u0430\\u0432\\u0430\\u0442\\u044c\", \"\\u0441\\u043e\\u0437\\u0434\\u0430\\u0432\\u0430\\u0442\\u044c\", \"\\u0441\\u043e\\u0437\\u0434\\u0430\\u0432\\u0430\\u0442\\u044c\", \"\\u0441\\u043e\\u0437\\u0434\\u0430\\u0432\\u0430\\u0442\\u044c\", \"\\u0441\\u043e\\u0437\\u0434\\u0430\\u0432\\u0430\\u0442\\u044c\", \"\\u0441\\u043e\\u0437\\u0434\\u0430\\u0432\\u0430\\u0442\\u044c\", \"\\u0441\\u043e\\u0437\\u0434\\u0430\\u0432\\u0430\\u0442\\u044c\", \"\\u0441\\u043e\\u043b\\u0434\\u0430\\u0442\", \"\\u0441\\u043e\\u043e\\u0431\\u0449\\u0430\\u0442\\u044c\", \"\\u0441\\u043e\\u043e\\u0431\\u0449\\u0430\\u0442\\u044c\", \"\\u0441\\u043e\\u043e\\u0431\\u0449\\u0430\\u0442\\u044c\", \"\\u0441\\u043e\\u043e\\u0431\\u0449\\u0430\\u0442\\u044c\", \"\\u0441\\u043e\\u043e\\u0431\\u0449\\u0430\\u0442\\u044c\", \"\\u0441\\u043e\\u043e\\u0431\\u0449\\u0430\\u0442\\u044c\", \"\\u0441\\u043e\\u043e\\u0431\\u0449\\u0430\\u0442\\u044c\", \"\\u0441\\u043e\\u043e\\u0431\\u0449\\u0430\\u0442\\u044c\", \"\\u0441\\u043e\\u043e\\u0431\\u0449\\u0430\\u0442\\u044c\", \"\\u0441\\u043e\\u043e\\u0431\\u0449\\u0430\\u0442\\u044c\", \"\\u0441\\u043e\\u043e\\u0431\\u0449\\u0430\\u0442\\u044c\", \"\\u0441\\u043e\\u043e\\u0431\\u0449\\u0430\\u0442\\u044c\", \"\\u0441\\u043e\\u043e\\u0431\\u0449\\u0430\\u0442\\u044c\", \"\\u0441\\u043e\\u043e\\u0431\\u0449\\u0430\\u0442\\u044c\", \"\\u0441\\u043e\\u043e\\u0431\\u0449\\u0430\\u0442\\u044c\", \"\\u0441\\u043e\\u043e\\u0431\\u0449\\u0430\\u0442\\u044c\", \"\\u0441\\u043e\\u043e\\u0431\\u0449\\u0430\\u0442\\u044c\", \"\\u0441\\u043e\\u043e\\u0431\\u0449\\u0430\\u0442\\u044c\\u0441\\u044f\", \"\\u0441\\u043e\\u043e\\u0431\\u0449\\u0430\\u0442\\u044c\\u0441\\u044f\", \"\\u0441\\u043e\\u043e\\u0431\\u0449\\u0430\\u0442\\u044c\\u0441\\u044f\", \"\\u0441\\u043e\\u043e\\u0431\\u0449\\u0430\\u0442\\u044c\\u0441\\u044f\", \"\\u0441\\u043e\\u043e\\u0431\\u0449\\u0430\\u0442\\u044c\\u0441\\u044f\", \"\\u0441\\u043e\\u043e\\u0442\\u0432\\u0435\\u0442\\u0441\\u0442\\u0432\\u0438\\u0435\", \"\\u0441\\u043e\\u043e\\u0442\\u0432\\u0435\\u0442\\u0441\\u0442\\u0432\\u0438\\u0435\", \"\\u0441\\u043e\\u043f\\u0440\\u043e\\u0432\\u043e\\u0436\\u0434\\u0430\\u0442\\u044c\\u0441\\u044f\", \"\\u0441\\u043e\\u0441\\u0442\\u0430\\u0432\\u043b\\u044f\\u0442\\u044c\", \"\\u0441\\u043e\\u0441\\u0442\\u0430\\u0432\\u043b\\u044f\\u0442\\u044c\", \"\\u0441\\u043e\\u0441\\u0442\\u0430\\u0432\\u043b\\u044f\\u0442\\u044c\", \"\\u0441\\u043e\\u0441\\u0442\\u0430\\u0432\\u043b\\u044f\\u0442\\u044c\", \"\\u0441\\u043e\\u0441\\u0442\\u0430\\u0432\\u043b\\u044f\\u0442\\u044c\", \"\\u0441\\u043e\\u0442\\u0440\\u0443\\u0434\\u043d\\u0438\\u043a\", \"\\u0441\\u043e\\u0442\\u0440\\u0443\\u0434\\u043d\\u0438\\u043a\", \"\\u0441\\u043e\\u0442\\u0440\\u0443\\u0434\\u043d\\u0438\\u043a\", \"\\u0441\\u043e\\u0442\\u0440\\u0443\\u0434\\u043d\\u0438\\u043a\", \"\\u0441\\u043e\\u0442\\u0440\\u0443\\u0434\\u043d\\u0438\\u0447\\u0430\\u0442\\u044c\", \"\\u0441\\u043e\\u0442\\u0440\\u0443\\u0434\\u043d\\u0438\\u0447\\u0435\\u0441\\u0442\\u0432\\u043e\", \"\\u0441\\u043e\\u0445\\u0440\\u0430\\u043d\\u044f\\u0442\\u044c\\u0441\\u044f\", \"\\u0441\\u043f\\u0430\\u0441\\u0430\\u0442\\u0435\\u043b\\u044c\", \"\\u0441\\u043f\\u0435\\u0446\\u0438\\u0430\\u043b\\u0438\\u0441\\u0442\", \"\\u0441\\u043f\\u0435\\u0446\\u0438\\u0430\\u043b\\u0438\\u0441\\u0442\", \"\\u0441\\u043f\\u0435\\u0446\\u043e\\u043f\\u0435\\u0440\\u0430\\u0446\\u0438\\u044f\", \"\\u0441\\u043f\\u0438\\u0441\\u043e\\u043a\", \"\\u0441\\u043f\\u043e\\u0440\", \"\\u0441\\u043f\\u043e\\u0441\\u043e\\u0431\\u043d\\u044b\\u0439\", \"\\u0441\\u0440\\u0430\\u0432\\u043d\\u0435\\u043d\\u0438\\u0435\", \"\\u0441\\u0440\\u0435\\u0434\\u043d\\u0438\\u0439\", \"\\u0441\\u0440\\u0435\\u0434\\u043d\\u0438\\u0439\", \"\\u0441\\u0440\\u0435\\u0434\\u0441\\u0442\\u0432\\u043e\", \"\\u0441\\u0440\\u0435\\u0434\\u0441\\u0442\\u0432\\u043e\", \"\\u0441\\u0440\\u0435\\u0434\\u0441\\u0442\\u0432\\u043e\", \"\\u0441\\u0440\\u0435\\u0434\\u0441\\u0442\\u0432\\u043e\", \"\\u0441\\u0440\\u0435\\u0434\\u0441\\u0442\\u0432\\u043e\", \"\\u0441\\u0442\\u0430\\u043d\\u0438\\u0441\\u043b\\u0430\\u0432\", \"\\u0441\\u0442\\u0430\\u043d\\u043e\\u0432\\u0438\\u0442\\u044c\\u0441\\u044f\", \"\\u0441\\u0442\\u0430\\u043d\\u043e\\u0432\\u0438\\u0442\\u044c\\u0441\\u044f\", \"\\u0441\\u0442\\u0430\\u043d\\u043e\\u0432\\u0438\\u0442\\u044c\\u0441\\u044f\", \"\\u0441\\u0442\\u0430\\u043d\\u043e\\u0432\\u0438\\u0442\\u044c\\u0441\\u044f\", \"\\u0441\\u0442\\u0430\\u043d\\u043e\\u0432\\u0438\\u0442\\u044c\\u0441\\u044f\", \"\\u0441\\u0442\\u0430\\u043d\\u043e\\u0432\\u0438\\u0442\\u044c\\u0441\\u044f\", \"\\u0441\\u0442\\u0430\\u043d\\u043e\\u0432\\u0438\\u0442\\u044c\\u0441\\u044f\", \"\\u0441\\u0442\\u0430\\u043d\\u043e\\u0432\\u0438\\u0442\\u044c\\u0441\\u044f\", \"\\u0441\\u0442\\u0430\\u043d\\u043e\\u0432\\u0438\\u0442\\u044c\\u0441\\u044f\", \"\\u0441\\u0442\\u0430\\u043d\\u0446\\u0438\\u044f\", \"\\u0441\\u0442\\u0430\\u0442\\u044c\\u044f\", \"\\u0441\\u0442\\u0435\\u043a\\u043b\\u043e\", \"\\u0441\\u0442\\u0435\\u043f\\u0435\\u043d\\u044c\", \"\\u0441\\u0442\\u043e\\u0438\\u043c\\u043e\\u0441\\u0442\\u044c\", \"\\u0441\\u0442\\u043e\\u043b\\u0438\\u0446\\u0430\", \"\\u0441\\u0442\\u043e\\u043b\\u0438\\u0446\\u0430\", \"\\u0441\\u0442\\u043e\\u043b\\u0438\\u0446\\u0430\", \"\\u0441\\u0442\\u043e\\u043b\\u043a\\u043d\\u043e\\u0432\\u0435\\u043d\\u0438\\u0435\", \"\\u0441\\u0442\\u043e\\u043b\\u044c\", \"\\u0441\\u0442\\u043e\\u043b\\u044c\", \"\\u0441\\u0442\\u043e\\u043b\\u044c\\u043a\\u043e\", \"\\u0441\\u0442\\u0440\\u0430\\u043d\\u0430\", \"\\u0441\\u0442\\u0440\\u0430\\u043d\\u0430\", \"\\u0441\\u0442\\u0440\\u0430\\u043d\\u0430\", \"\\u0441\\u0442\\u0440\\u0430\\u043d\\u0430\", \"\\u0441\\u0442\\u0440\\u0430\\u0442\\u0435\\u0433\\u0438\\u0447\\u0435\\u0441\\u043a\\u0438\\u0439\", \"\\u0441\\u0442\\u0440\\u043e\\u0433\\u0438\\u0439\", \"\\u0441\\u0443\\u0434\", \"\\u0441\\u0443\\u0434\", \"\\u0441\\u0443\\u0434\\u0435\\u0431\\u043d\\u044b\\u0439\", \"\\u0441\\u0443\\u0434\\u0435\\u0431\\u043d\\u044b\\u0439\", \"\\u0441\\u0443\\u043c\\u043c\\u0430\", \"\\u0441\\u0443\\u043c\\u043c\\u0430\", \"\\u0441\\u0443\\u043c\\u043c\\u0430\", \"\\u0441\\u0447\\u0435\\u0441\\u0442\\u044c\", \"\\u0441\\u0447\\u0435\\u0442\", \"\\u0441\\u0447\\u0435\\u0442\", \"\\u0441\\u0448\\u0430\", \"\\u0441\\u044a\\u0435\\u0437\\u0434\", \"\\u0441\\u044b\\u043d\", \"\\u0442\\u0430\\u0434\\u0436\\u0438\\u043a\\u0438\\u0441\\u0442\\u0430\\u043d\", \"\\u0442\\u0430\\u043a\\u0436\\u0435\", \"\\u0442\\u0430\\u043a\\u0436\\u0435\", \"\\u0442\\u0430\\u043a\\u0436\\u0435\", \"\\u0442\\u0430\\u043a\\u0436\\u0435\", \"\\u0442\\u0430\\u043a\\u0436\\u0435\", \"\\u0442\\u0430\\u043a\\u0436\\u0435\", \"\\u0442\\u0430\\u043a\\u0436\\u0435\", \"\\u0442\\u0430\\u043a\\u0436\\u0435\", \"\\u0442\\u0430\\u043a\\u0436\\u0435\", \"\\u0442\\u0430\\u043a\\u0436\\u0435\", \"\\u0442\\u0430\\u043a\\u0436\\u0435\", \"\\u0442\\u0430\\u043a\\u0436\\u0435\", \"\\u0442\\u0430\\u043a\\u0436\\u0435\", \"\\u0442\\u0430\\u043a\\u0436\\u0435\", \"\\u0442\\u0430\\u043a\\u0438\", \"\\u0442\\u0430\\u0441\\u0441\", \"\\u0442\\u0430\\u0441\\u0441\", \"\\u0442\\u0430\\u0441\\u0441\", \"\\u0442\\u0435\\u043b\\u0435\\u043a\\u0430\\u043d\\u0430\\u043b\", \"\\u0442\\u0435\\u043b\\u0435\\u043a\\u043e\\u043c\\u043f\\u0430\\u043d\\u0438\\u044f\", \"\\u0442\\u0435\\u043b\\u0435\\u043a\\u043e\\u043c\\u043f\\u0430\\u043d\\u0438\\u044f\", \"\\u0442\\u0435\\u043b\\u0435\\u043a\\u043e\\u043c\\u043f\\u0430\\u043d\\u0438\\u044f\", \"\\u0442\\u0435\\u043b\\u0435\\u0444\\u043e\\u043d\\u043d\\u044b\\u0439\", \"\\u0442\\u0435\\u0440\\u0430\\u043a\\u0442\", \"\\u0442\\u0435\\u0440\\u0430\\u043a\\u0442\", \"\\u0442\\u0435\\u0440\\u0430\\u043a\\u0442\", \"\\u0442\\u0435\\u0440\\u0430\\u043a\\u0442\", \"\\u0442\\u0435\\u0440\\u0440\\u0438\\u0442\\u043e\\u0440\\u0438\\u044f\", \"\\u0442\\u0435\\u0440\\u0440\\u0438\\u0442\\u043e\\u0440\\u0438\\u044f\", \"\\u0442\\u0435\\u0440\\u0440\\u0438\\u0442\\u043e\\u0440\\u0438\\u044f\", \"\\u0442\\u0435\\u0440\\u0440\\u0438\\u0442\\u043e\\u0440\\u0438\\u044f\", \"\\u0442\\u0435\\u0440\\u0440\\u0438\\u0442\\u043e\\u0440\\u0438\\u044f\", \"\\u0442\\u0435\\u0440\\u0440\\u0438\\u0442\\u043e\\u0440\\u0438\\u044f\", \"\\u0442\\u0435\\u0440\\u0440\\u0438\\u0442\\u043e\\u0440\\u0438\\u044f\", \"\\u0442\\u0435\\u0440\\u0440\\u0438\\u0442\\u043e\\u0440\\u0438\\u044f\", \"\\u0442\\u0435\\u0440\\u0440\\u0438\\u0442\\u043e\\u0440\\u0438\\u044f\", \"\\u0442\\u0435\\u0440\\u0440\\u0438\\u0442\\u043e\\u0440\\u0438\\u044f\", \"\\u0442\\u0435\\u0440\\u0440\\u043e\\u0440\\u0438\\u0441\\u0442\", \"\\u0442\\u0435\\u0440\\u0440\\u043e\\u0440\\u0438\\u0441\\u0442\", \"\\u0442\\u0435\\u0440\\u0440\\u043e\\u0440\\u0438\\u0441\\u0442\", \"\\u0442\\u0438\\u0445\\u0438\\u0439\", \"\\u0442\\u043e\\u0432\\u0430\\u0440\", \"\\u0442\\u043e\\u043b\\u0447\\u043e\\u043a\", \"\\u0442\\u043e\\u043f\\u043b\\u0438\\u0432\\u043d\\u044b\\u0439\", \"\\u0442\\u043e\\u043f\\u043b\\u0438\\u0432\\u043e\", \"\\u0442\\u043e\\u0440\\u0433\\u0438\", \"\\u0442\\u043e\\u0440\\u0433\\u043e\\u0432\\u044b\\u0439\", \"\\u0442\\u043e\\u0440\\u0433\\u043e\\u0432\\u044b\\u0439\", \"\\u0442\\u043e\\u0447\\u043d\\u044b\\u0439\", \"\\u0442\\u0440\\u0430\\u043d\\u0441\\u043f\\u043e\\u0440\\u0442\\u043d\\u044b\\u0439\", \"\\u0442\\u0440\\u0430\\u043d\\u0441\\u043f\\u043e\\u0440\\u0442\\u043d\\u044b\\u0439\", \"\\u0442\\u0440\\u0435\\u0431\\u043e\\u0432\\u0430\\u043d\\u0438\\u0435\", \"\\u0442\\u0440\\u0435\\u0431\\u043e\\u0432\\u0430\\u043d\\u0438\\u0435\", \"\\u0442\\u0440\\u0435\\u0431\\u043e\\u0432\\u0430\\u043d\\u0438\\u0435\", \"\\u0442\\u0440\\u0438\\u0431\\u0443\\u043d\\u0430\\u043b\", \"\\u0442\\u0440\\u043e\\u0435\", \"\\u0442\\u0440\\u043e\\u0435\", \"\\u0442\\u0440\\u043e\\u0442\\u0438\\u043b\\u043e\\u0432\\u044b\\u0439\", \"\\u0442\\u0443\\u0440\\u0435\\u0446\\u043a\\u0438\\u0439\", \"\\u0442\\u0443\\u0440\\u0446\\u0438\\u044f\", \"\\u0442\\u044b\\u0441\\u044f\\u0447\\u0430\", \"\\u0442\\u044b\\u0441\\u044f\\u0447\\u0430\", \"\\u0442\\u044b\\u0441\\u044f\\u0447\\u0430\", \"\\u0442\\u044b\\u0441\\u044f\\u0447\\u0430\", \"\\u0442\\u044b\\u0441\\u044f\\u0447\\u0430\", \"\\u0442\\u044b\\u0441\\u044f\\u0447\\u0430\", \"\\u0442\\u044b\\u0441\\u044f\\u0447\\u0430\", \"\\u0442\\u044e\\u0440\\u044c\\u043c\\u0430\", \"\\u0442\\u044f\\u0436\\u0435\\u043b\\u044b\\u0439\", \"\\u0443\\u0431\\u0438\\u0432\\u0430\\u0442\\u044c\", \"\\u0443\\u0431\\u0438\\u0432\\u0430\\u0442\\u044c\", \"\\u0443\\u0431\\u0438\\u0439\\u0441\\u0442\\u0432\\u043e\", \"\\u0443\\u0432\\u0435\\u043b\\u0438\\u0447\\u0435\\u043d\\u0438\\u0435\", \"\\u0443\\u0433\\u043e\\u043b\\u043e\\u0432\\u043d\\u044b\\u0439\", \"\\u0443\\u0434\\u0430\\u0432\\u0430\\u0442\\u044c\\u0441\\u044f\", \"\\u0443\\u0434\\u0430\\u0432\\u0430\\u0442\\u044c\\u0441\\u044f\", \"\\u0443\\u0434\\u0430\\u0432\\u0430\\u0442\\u044c\\u0441\\u044f\", \"\\u0443\\u0434\\u0435\\u0440\\u0436\\u0438\\u0432\\u0430\\u0442\\u044c\", \"\\u0443\\u043a\\u0430\\u0437\", \"\\u0443\\u043a\\u0430\\u0437\", \"\\u0443\\u043a\\u0430\\u0437\\u044b\\u0432\\u0430\\u0442\\u044c\\u0441\\u044f\", \"\\u0443\\u043a\\u0440\\u0430\\u0438\\u043d\\u0430\", \"\\u0443\\u043a\\u0440\\u0430\\u0438\\u043d\\u0441\\u043a\\u0438\\u0439\", \"\\u0443\\u043a\\u0440\\u0430\\u0441\\u0442\\u044c\", \"\\u0443\\u043b\\u0438\\u0446\\u0430\", \"\\u0443\\u043b\\u0438\\u0446\\u0430\", \"\\u0443\\u043d\\u0438\\u0432\\u0435\\u0440\\u0441\\u0438\\u0442\\u0435\\u0442\", \"\\u0443\\u043d\\u0438\\u0447\\u0442\\u043e\\u0436\\u0430\\u0442\\u044c\", \"\\u0443\\u043d\\u0438\\u0447\\u0442\\u043e\\u0436\\u0430\\u0442\\u044c\", \"\\u0443\\u043f\\u0440\\u0430\\u0432\\u043b\\u0435\\u043d\\u0438\\u0435\", \"\\u0443\\u043f\\u0440\\u0430\\u0432\\u043b\\u0435\\u043d\\u0438\\u0435\", \"\\u0443\\u043f\\u0440\\u0430\\u0432\\u043b\\u0435\\u043d\\u0438\\u0435\", \"\\u0443\\u0440\\u043e\\u0432\\u0435\\u043d\\u044c\", \"\\u0443\\u0440\\u043e\\u0432\\u0435\\u043d\\u044c\", \"\\u0443\\u0440\\u043e\\u0432\\u0435\\u043d\\u044c\", \"\\u0443\\u0440\\u043e\\u0432\\u0435\\u043d\\u044c\", \"\\u0443\\u0440\\u043e\\u0432\\u0435\\u043d\\u044c\", \"\\u0443\\u0441\\u043f\\u0435\\u0445\", \"\\u0443\\u0441\\u043f\\u0435\\u0448\\u043d\\u043e\", \"\\u0443\\u0441\\u0442\\u0430\\u043d\\u043e\\u0432\\u043a\\u0430\", \"\\u0443\\u0441\\u0442\\u0440\\u0430\\u0438\\u0432\\u0430\\u0442\\u044c\", \"\\u0443\\u0441\\u0442\\u0440\\u043e\\u0439\\u0441\\u0442\\u0432\\u043e\", \"\\u0443\\u0442\\u0432\\u0435\\u0440\\u0436\\u0434\\u0435\\u043d\\u0438\\u0435\", \"\\u0443\\u0442\\u0435\\u0447\\u043a\\u0430\", \"\\u0443\\u0444\\u0441\\u0431\", \"\\u0443\\u0445\\u043e\\u0434\", \"\\u0443\\u0447\\u0430\\u0441\\u0442\\u0438\\u0435\", \"\\u0443\\u0447\\u0430\\u0441\\u0442\\u0438\\u0435\", \"\\u0443\\u0447\\u0430\\u0441\\u0442\\u0438\\u0435\", \"\\u0443\\u0447\\u0430\\u0441\\u0442\\u0438\\u0435\", \"\\u0443\\u0447\\u0430\\u0441\\u0442\\u0438\\u0435\", \"\\u0443\\u0447\\u0430\\u0441\\u0442\\u0438\\u0435\", \"\\u0443\\u0447\\u0430\\u0441\\u0442\\u0438\\u0435\", \"\\u0443\\u0447\\u0430\\u0441\\u0442\\u0438\\u0435\", \"\\u0443\\u0447\\u0430\\u0441\\u0442\\u043d\\u0438\\u043a\", \"\\u0443\\u0447\\u0430\\u0441\\u0442\\u043d\\u0438\\u043a\", \"\\u0443\\u0447\\u0430\\u0441\\u0442\\u043d\\u0438\\u043a\", \"\\u0443\\u0447\\u0430\\u0441\\u0442\\u043e\\u043a\", \"\\u0443\\u0447\\u0438\\u0442\\u044b\\u0432\\u0430\\u0442\\u044c\", \"\\u0443\\u0447\\u0440\\u0435\\u0436\\u0434\\u0435\\u043d\\u0438\\u0435\", \"\\u0443\\u0449\\u0435\\u0440\\u0431\", \"\\u0443\\u0449\\u0435\\u0440\\u0431\", \"\\u0443\\u0449\\u0435\\u0440\\u0431\", \"\\u0444\\u0430\\u043a\\u0442\", \"\\u0444\\u0430\\u043a\\u0442\", \"\\u0444\\u0430\\u043c\\u0438\\u043b\\u0438\\u044f\", \"\\u0444\\u0431\\u0440\", \"\\u0444\\u0431\\u0440\", \"\\u0444\\u0435\\u0434\\u0435\\u0440\\u0430\\u043b\\u044c\\u043d\\u044b\\u0439\", \"\\u0444\\u0435\\u0434\\u0435\\u0440\\u0430\\u043b\\u044c\\u043d\\u044b\\u0439\", \"\\u0444\\u0435\\u0434\\u0435\\u0440\\u0430\\u043b\\u044c\\u043d\\u044b\\u0439\", \"\\u0444\\u0435\\u0434\\u0435\\u0440\\u0430\\u043b\\u044c\\u043d\\u044b\\u0439\", \"\\u0444\\u0435\\u0434\\u0435\\u0440\\u0430\\u043b\\u044c\\u043d\\u044b\\u0439\", \"\\u0444\\u0435\\u0434\\u0435\\u0440\\u0430\\u0446\\u0438\\u044f\", \"\\u0444\\u0435\\u0434\\u0435\\u0440\\u0430\\u0446\\u0438\\u044f\", \"\\u0444\\u0435\\u0434\\u0435\\u0440\\u0430\\u0446\\u0438\\u044f\", \"\\u0444\\u0438\\u043d\\u0430\\u043d\\u0441\\u0438\\u0440\\u043e\\u0432\\u0430\\u043d\\u0438\\u0435\", \"\\u0444\\u0438\\u043d\\u0430\\u043d\\u0441\\u043e\\u0432\\u044b\\u0439\", \"\\u0444\\u0438\\u043d\\u0430\\u043d\\u0441\\u043e\\u0432\\u044b\\u0439\", \"\\u0444\\u0438\\u043d\\u0430\\u043d\\u0441\\u043e\\u0432\\u044b\\u0439\", \"\\u0444\\u0438\\u043d\\u0430\\u043d\\u0441\\u044b\", \"\\u0444\\u0438\\u0440\\u043c\\u0430\", \"\\u0444\\u043b\\u043e\\u0442\", \"\\u0444\\u043e\\u043d\\u0434\", \"\\u0444\\u043e\\u043d\\u0434\", \"\\u0444\\u043e\\u043d\\u0434\", \"\\u0444\\u0440\\u0430\\u043d\\u043a\", \"\\u0444\\u0440\\u0430\\u043d\\u0446\\u0438\\u0441\\u043a\\u043e\", \"\\u0444\\u0440\\u0430\\u043d\\u0446\\u0443\\u0437\\u0441\\u043a\\u0438\\u0439\", \"\\u0444\\u0440\\u0430\\u043d\\u0446\\u0443\\u0437\\u0441\\u043a\\u0438\\u0439\", \"\\u0444\\u0441\\u0431\", \"\\u0444\\u0443\\u043d\\u0442\", \"\\u0445\\u0430\\u043a\\u0435\\u0440\", \"\\u0445\\u0430\\u043a\\u0435\\u0440\\u0441\\u043a\\u0438\\u0439\", \"\\u0445\\u043e\\u0442\\u0435\\u0442\\u044c\", \"\\u0445\\u043e\\u0442\\u0435\\u0442\\u044c\", \"\\u0446\\u0435\\u043b\\u043e\\u0435\", \"\\u0446\\u0435\\u043d\\u0430\", \"\\u0446\\u0435\\u043d\\u043d\\u044b\\u0439\", \"\\u0446\\u0435\\u043d\\u0442\\u0440\", \"\\u0446\\u0435\\u043d\\u0442\\u0440\", \"\\u0446\\u0435\\u043d\\u0442\\u0440\", \"\\u0446\\u0435\\u043d\\u0442\\u0440\", \"\\u0446\\u0435\\u043d\\u0442\\u0440\", \"\\u0446\\u0435\\u043d\\u0442\\u0440\", \"\\u0446\\u0435\\u043d\\u0442\\u0440\\u043e\\u0431\\u0430\\u043d\\u043a\", \"\\u0446\\u0438\\u0444\\u0440\\u0430\", \"\\u0446\\u0440\\u0443\", \"\\u0447\\u0430\\u0441\", \"\\u0447\\u0430\\u0441\", \"\\u0447\\u0430\\u0441\", \"\\u0447\\u0430\\u0441\", \"\\u0447\\u0430\\u0441\", \"\\u0447\\u0430\\u0441\\u0442\\u043d\\u044b\\u0439\", \"\\u0447\\u0430\\u0441\\u0442\\u043d\\u044b\\u0439\", \"\\u0447\\u0435\\u043b\\u043e\\u0432\\u0435\\u043a\", \"\\u0447\\u0435\\u043b\\u043e\\u0432\\u0435\\u043a\", \"\\u0447\\u0435\\u043b\\u043e\\u0432\\u0435\\u043a\", \"\\u0447\\u0435\\u043b\\u043e\\u0432\\u0435\\u043a\", \"\\u0447\\u0435\\u043b\\u043e\\u0432\\u0435\\u043a\", \"\\u0447\\u0435\\u043b\\u043e\\u0432\\u0435\\u043a\", \"\\u0447\\u0435\\u043b\\u043e\\u0432\\u0435\\u043a\", \"\\u0447\\u0435\\u043b\\u043e\\u0432\\u0435\\u043a\", \"\\u0447\\u0435\\u0440\\u043a\\u0435\\u0441\\u0438\\u044f\", \"\\u0447\\u0435\\u0442\\u0432\\u0435\\u0440\\u0433\", \"\\u0447\\u0435\\u0442\\u0432\\u0435\\u0440\\u0433\", \"\\u0447\\u0435\\u0442\\u0432\\u0435\\u0440\\u0433\", \"\\u0447\\u0435\\u0442\\u044b\\u0440\\u0435\", \"\\u0447\\u0435\\u0442\\u044b\\u0440\\u0435\", \"\\u0447\\u0435\\u0442\\u044b\\u0440\\u0435\", \"\\u0447\\u0435\\u0442\\u044b\\u0440\\u0435\", \"\\u0447\\u0435\\u0447\\u0435\\u043d\\u0435\\u0446\", \"\\u0447\\u0435\\u0447\\u0435\\u043d\\u0441\\u043a\\u0438\\u0439\", \"\\u0447\\u0435\\u0447\\u043d\\u044f\", \"\\u0447\\u0440\\u0435\\u0437\\u0432\\u044b\\u0447\\u0430\\u0439\\u043d\\u044b\\u0439\", \"\\u0447\\u0443\\u0431\\u0430\\u0439\\u0441\", \"\\u0448\\u0430\\u0433\", \"\\u0448\\u0430\\u0433\", \"\\u0448\\u0432\\u0435\\u0439\\u0446\\u0430\\u0440\\u0438\\u044f\", \"\\u0448\\u0432\\u0435\\u0439\\u0446\\u0430\\u0440\\u0441\\u043a\\u0438\\u0439\", \"\\u0448\\u0435\\u0441\\u0442\\u0435\\u0440\\u043e\", \"\\u0448\\u0435\\u0441\\u0442\\u044c\", \"\\u0448\\u0438\\u0440\\u043e\\u043a\\u0438\\u0439\", \"\\u0448\\u043a\\u043e\\u043b\\u0430\", \"\\u0448\\u0442\\u0430\\u0431\", \"\\u0448\\u0442\\u0430\\u0431\", \"\\u0448\\u0442\\u0430\\u0442\", \"\\u0448\\u0442\\u0430\\u0442\", \"\\u044d\\u043a\\u0438\\u043f\\u0430\\u0436\", \"\\u044d\\u043a\\u043e\\u043d\\u043e\\u043c\\u0438\\u0447\\u0435\\u0441\\u043a\\u0438\\u0439\", \"\\u044d\\u043a\\u043e\\u043d\\u043e\\u043c\\u0438\\u0447\\u0435\\u0441\\u043a\\u0438\\u0439\", \"\\u044d\\u043a\\u0441\\u043f\\u043e\\u0440\\u0442\", \"\\u044d\\u043a\\u0441\\u0442\\u0440\\u0435\\u043c\\u0438\\u0441\\u0442\", \"\\u044d\\u043b\\u0435\\u043a\\u0442\\u0440\\u043e\\u043d\\u043d\\u044b\\u0439\", \"\\u044d\\u043f\\u0438\\u0446\\u0435\\u043d\\u0442\\u0440\", \"\\u044d\\u0442\\u043e\", \"\\u044d\\u0442\\u043e\", \"\\u044d\\u0442\\u043e\", \"\\u044d\\u0442\\u043e\", \"\\u044d\\u0442\\u043e\", \"\\u044d\\u0442\\u043e\", \"\\u044d\\u0442\\u043e\", \"\\u044d\\u0442\\u043e\", \"\\u044d\\u0442\\u043e\", \"\\u044d\\u0442\\u043e\", \"\\u044d\\u0442\\u043e\", \"\\u044d\\u0442\\u043e\", \"\\u044d\\u0442\\u043e\", \"\\u044d\\u0444\\u0438\\u0440\", \"\\u044e\\u0433\", \"\\u044e\\u0433\\u043e\", \"\\u044e\\u0433\\u043e\\u0441\\u043b\\u0430\\u0432\\u0438\\u044f\", \"\\u044e\\u0440\\u0438\\u0434\\u0438\\u0447\\u0435\\u0441\\u043a\\u0438\\u0439\", \"\\u044e\\u0441\\u0442\\u0438\\u0446\\u0438\\u044f\", \"\\u044e\\u0441\\u0442\\u0438\\u0446\\u0438\\u044f\", \"\\u044f\\u0432\\u043b\\u044f\\u0442\\u044c\\u0441\\u044f\", \"\\u044f\\u0432\\u043b\\u044f\\u0442\\u044c\\u0441\\u044f\", \"\\u044f\\u0432\\u043b\\u044f\\u0442\\u044c\\u0441\\u044f\", \"\\u044f\\u0432\\u043b\\u044f\\u0442\\u044c\\u0441\\u044f\", \"\\u044f\\u0432\\u043b\\u044f\\u0442\\u044c\\u0441\\u044f\", \"\\u044f\\u0432\\u043b\\u044f\\u0442\\u044c\\u0441\\u044f\", \"\\u044f\\u0432\\u043b\\u044f\\u0442\\u044c\\u0441\\u044f\", \"\\u044f\\u0432\\u043b\\u044f\\u0442\\u044c\\u0441\\u044f\", \"\\u044f\\u0432\\u043b\\u044f\\u0442\\u044c\\u0441\\u044f\", \"\\u044f\\u0432\\u043b\\u044f\\u0442\\u044c\\u0441\\u044f\", \"\\u044f\\u0432\\u043b\\u044f\\u0442\\u044c\\u0441\\u044f\", \"\\u044f\\u043f\\u043e\\u043d\\u0438\\u044f\", \"\\u044f\\u043f\\u043e\\u043d\\u0441\\u043a\\u0438\\u0439\", \"\\u044f\\u0449\\u0438\\u043a\"]}, \"R\": 30, \"lambda.step\": 0.01, \"plot.opts\": {\"xlab\": \"PC1\", \"ylab\": \"PC2\"}, \"topic.order\": [20, 3, 18, 14, 10, 19, 2, 13, 1, 16, 5, 6, 4, 9, 11, 7, 17, 15, 8, 12]};\n",
              "\n",
              "function LDAvis_load_lib(url, callback){\n",
              "  var s = document.createElement('script');\n",
              "  s.src = url;\n",
              "  s.async = true;\n",
              "  s.onreadystatechange = s.onload = callback;\n",
              "  s.onerror = function(){console.warn(\"failed to load library \" + url);};\n",
              "  document.getElementsByTagName(\"head\")[0].appendChild(s);\n",
              "}\n",
              "\n",
              "if(typeof(LDAvis) !== \"undefined\"){\n",
              "   // already loaded: just create the visualization\n",
              "   !function(LDAvis){\n",
              "       new LDAvis(\"#\" + \"ldavis_el1811349857581765608374380498\", ldavis_el1811349857581765608374380498_data);\n",
              "   }(LDAvis);\n",
              "}else if(typeof define === \"function\" && define.amd){\n",
              "   // require.js is available: use it to load d3/LDAvis\n",
              "   require.config({paths: {d3: \"https://cdnjs.cloudflare.com/ajax/libs/d3/3.5.5/d3.min\"}});\n",
              "   require([\"d3\"], function(d3){\n",
              "      window.d3 = d3;\n",
              "      LDAvis_load_lib(\"https://cdn.rawgit.com/bmabey/pyLDAvis/files/ldavis.v1.0.0.js\", function(){\n",
              "        new LDAvis(\"#\" + \"ldavis_el1811349857581765608374380498\", ldavis_el1811349857581765608374380498_data);\n",
              "      });\n",
              "    });\n",
              "}else{\n",
              "    // require.js not available: dynamically load d3 & LDAvis\n",
              "    LDAvis_load_lib(\"https://cdnjs.cloudflare.com/ajax/libs/d3/3.5.5/d3.min.js\", function(){\n",
              "         LDAvis_load_lib(\"https://cdn.rawgit.com/bmabey/pyLDAvis/files/ldavis.v1.0.0.js\", function(){\n",
              "                 new LDAvis(\"#\" + \"ldavis_el1811349857581765608374380498\", ldavis_el1811349857581765608374380498_data);\n",
              "            })\n",
              "         });\n",
              "}\n",
              "</script>"
            ]
          },
          "metadata": {},
          "execution_count": 26
        }
      ],
      "source": [
        "import pyLDAvis\n",
        "import pyLDAvis.gensim as gensimvis\n",
        "\n",
        "%time vis_data = gensimvis.prepare(lda, corpus, dictionary)\n",
        "pyLDAvis.display(vis_data)"
      ]
    },
    {
      "cell_type": "markdown",
      "metadata": {
        "id": "InzEoGcVZcGv"
      },
      "source": [
        "Посмотрим на метрики качества получившейся модели: перплексию и среднюю когерентность:"
      ]
    },
    {
      "cell_type": "code",
      "execution_count": 37,
      "metadata": {
        "id": "E2aypA3UZcGv",
        "outputId": "1a606d23-1d64-4683-cc40-592d0122178a",
        "colab": {
          "base_uri": "https://localhost:8080/"
        }
      },
      "outputs": [
        {
          "output_type": "stream",
          "name": "stdout",
          "text": [
            "Log_perplexity: -13.8955850568\n",
            "Персплексия: 0.0000656164\n"
          ]
        }
      ],
      "source": [
        "#ppl = lda.log_perplexity(corpus)\n",
        "\n",
        "print('Log_perplexity:', '{:.10f}'.format(ppl))\n",
        "print('Персплексия:', '{:.10f}'.format(2**ppl))"
      ]
    },
    {
      "cell_type": "markdown",
      "source": [
        "Перплексия модели (второе значение) лежит в пределах от 0 до |V| (размера корпуса в словах), идеальная перпслекия = 0."
      ],
      "metadata": {
        "id": "J1Ko-g7q4m1N"
      }
    },
    {
      "cell_type": "code",
      "source": [
        "#help(lda.log_perplexity)"
      ],
      "metadata": {
        "id": "tPl2W17h2-bi"
      },
      "execution_count": 39,
      "outputs": []
    },
    {
      "cell_type": "code",
      "execution_count": 40,
      "metadata": {
        "id": "_JILB_-jZcGv",
        "outputId": "cffdbdc1-0f5f-47c4-9a8f-5a9795d2280e",
        "colab": {
          "base_uri": "https://localhost:8080/"
        }
      },
      "outputs": [
        {
          "output_type": "stream",
          "name": "stdout",
          "text": [
            "Средняя когерентность:  0.39115\n"
          ]
        }
      ],
      "source": [
        "coherence_model_lda = CoherenceModel(model=lda, texts=data['text'], dictionary=dictionary, coherence='c_v')\n",
        "coherence_lda = coherence_model_lda.get_coherence()\n",
        "print('Средняя когерентность: ', '{:.5f}'.format(coherence_lda))"
      ]
    },
    {
      "cell_type": "markdown",
      "metadata": {
        "id": "-91HelnvZcGw"
      },
      "source": [
        "Чем больше значение когерентности, тем более интерпретируемые темы получились.\n",
        "\n",
        "Теперь можно подобрать оптимальное количество тем, опираясь на значение метрик:"
      ]
    },
    {
      "cell_type": "code",
      "execution_count": 41,
      "metadata": {
        "id": "8435iw9wZcGw"
      },
      "outputs": [],
      "source": [
        "import matplotlib.pyplot as plt\n",
        "%matplotlib inline"
      ]
    },
    {
      "cell_type": "code",
      "execution_count": 42,
      "metadata": {
        "colab": {
          "referenced_widgets": [
            "012c0cb0e99c418fa99cb6931fded127",
            "99aa2bd0e0554cdb96646c8c0e5d24f2",
            "34eca91193a84cc7a7659d4adabfd0bb",
            "4caf468ce1794834b8bb71c4cf88b380",
            "54827cd0d096449782e0054d9297c7e7",
            "5148aca8bf7e4253967c5b3f8eda1b67",
            "4df57b9c92094c0086e64dee6e789ec1",
            "162c6a822f7c4640b82e048673c86842",
            "94aeccaf61554bcfb4d5974682d25816",
            "ea135ebc6cd142ccbbe79c28490f979e",
            "921875fec8884ac9a0019faf4dc65cb5"
          ],
          "base_uri": "https://localhost:8080/",
          "height": 481
        },
        "id": "AIH1QO32ZcGw",
        "outputId": "d5dd8b10-0290-4468-985c-de521081ce89"
      },
      "outputs": [
        {
          "output_type": "display_data",
          "data": {
            "text/plain": [
              "  0%|          | 0/5 [00:00<?, ?it/s]"
            ],
            "application/vnd.jupyter.widget-view+json": {
              "version_major": 2,
              "version_minor": 0,
              "model_id": "012c0cb0e99c418fa99cb6931fded127"
            }
          },
          "metadata": {}
        },
        {
          "output_type": "display_data",
          "data": {
            "text/plain": [
              "<Figure size 640x480 with 1 Axes>"
            ],
            "image/png": "[encoded data removed]"
          },
          "metadata": {}
        }
      ],
      "source": [
        "topics_list = [5, 10, 15, 20, 25]\n",
        "coherences = []\n",
        "\n",
        "for num in tqdm(topics_list):\n",
        "    lda = ldamodel.LdaModel(corpus, id2word=dictionary, num_topics=num, chunksize=50, update_every=1, passes=2)\n",
        "    coherences.append(CoherenceModel(model=lda, texts=data['text'], dictionary=dictionary, coherence='c_v').get_coherence())\n",
        "\n",
        "plt.plot(topics_list, coherences)\n",
        "plt.xlabel(\"Число тем\")\n",
        "plt.ylabel(\"Средняя когерентность\")\n",
        "plt.show()"
      ]
    },
    {
      "cell_type": "code",
      "execution_count": 43,
      "metadata": {
        "id": "66N5NDhdZcGw",
        "outputId": "88ad0580-5ce5-42ad-8195-6a2577bcdf18",
        "colab": {
          "base_uri": "https://localhost:8080/",
          "height": 860
        }
      },
      "outputs": [
        {
          "output_type": "execute_result",
          "data": {
            "text/plain": [
              "<IPython.core.display.HTML object>"
            ],
            "text/html": [
              "\n",
              "<link rel=\"stylesheet\" type=\"text/css\" href=\"https://cdn.rawgit.com/bmabey/pyLDAvis/files/ldavis.v1.0.0.css\">\n",
              "\n",
              "\n",
              "<div id=\"ldavis_el181134985754012000353687457\"></div>\n",
              "<script type=\"text/javascript\">\n",
              "\n",
              "var ldavis_el181134985754012000353687457_data = {\"mdsDat\": {\"x\": [0.10078962908990752, 0.09337745885888236, 0.08215710330336756, -0.23105256597680562, -0.19032848446277953, 0.12486807029480747, 0.03336232575673317, 0.019300152639185948, 0.23134992798311668, -0.2638236174864155], \"y\": [0.03786618686501468, -0.06507582873279422, 0.12264012388693785, -0.08830399304982714, 0.03706703023040726, 0.05398685521878192, 0.09277808180095394, -0.3880831542096892, 0.057547651815442434, 0.13957704617477254], \"topics\": [1, 2, 3, 4, 5, 6, 7, 8, 9, 10], \"cluster\": [1, 1, 1, 1, 1, 1, 1, 1, 1, 1], \"Freq\": [15.949082659305693, 13.626643532750693, 11.87276826108296, 11.555677774187725, 9.241047877051498, 8.967590012320374, 8.737973292560136, 7.704689348610071, 6.88585155608413, 5.458675686046721]}, \"tinfo\": {\"Term\": [\"\\u0447\\u0435\\u0447\\u043d\\u044f\", \"\\u0433\\u043e\\u0434\", \"\\u043f\\u0440\\u0435\\u0437\\u0438\\u0434\\u0435\\u043d\\u0442\", \"\\u043a\\u043e\\u043c\\u043f\\u0430\\u043d\\u0438\\u044f\", \"\\u0434\\u0435\\u043b\\u043e\", \"\\u0441\\u043e\\u0442\\u0440\\u0443\\u0434\\u043d\\u0438\\u043a\", \"\\u0441\\u043e\\u043e\\u0431\\u0449\\u0430\\u0442\\u044c\", \"\\u0431\\u043e\\u0435\\u0432\\u0438\\u043a\", \"\\u0447\\u0435\\u043b\\u043e\\u0432\\u0435\\u043a\", \"\\u043f\\u0440\\u043e\\u0446\\u0435\\u043d\\u0442\", \"\\u0440\\u0443\\u0431\\u043b\\u044c\", \"\\u0440\\u043e\\u0441\\u0441\\u0438\\u044f\", \"\\u0434\\u043e\\u043b\\u043b\\u0430\\u0440\", \"\\u0440\\u0430\\u0439\\u043e\\u043d\", \"\\u0434\\u0435\\u043f\\u0443\\u0442\\u0430\\u0442\", \"\\u0433\\u043b\\u0430\\u0432\\u0430\", \"\\u0437\\u0430\\u0434\\u0435\\u0440\\u0436\\u0438\\u0432\\u0430\\u0442\\u044c\", \"\\u0438\\u043d\\u0442\\u0435\\u0440\\u043d\\u0435\\u0442\", \"\\u043d\\u043e\\u0432\\u043e\\u0441\\u0442\\u044c\", \"\\u043c\\u0438\\u043b\\u043b\\u0438\\u043e\\u043d\", \"\\u043c\\u0438\\u043d\\u0438\\u0441\\u0442\\u0440\", \"\\u0432\\u043e\\u0435\\u043d\\u043d\\u044b\\u0439\", \"\\u0440\\u0438\\u0430\", \"\\u0441\\u043e\\u0432\\u0435\\u0442\", \"\\u0433\\u043e\\u0441\\u0434\\u0443\\u043c\\u0430\", \"\\u0432\\u043b\\u0430\\u0434\\u0438\\u043c\\u0438\\u0440\", \"\\u043c\\u043e\\u0441\\u043a\\u0432\\u0430\", \"\\u043e\\u0431\\u043d\\u0430\\u0440\\u0443\\u0436\\u0438\\u0432\\u0430\\u0442\\u044c\", \"\\u0447\\u0435\\u0447\\u0435\\u043d\\u0441\\u043a\\u0438\\u0439\", \"\\u043c\\u0430\\u0442\\u0447\", \"\\u0433\\u0443\\u0431\\u0435\\u0440\\u043d\\u0430\\u0442\\u043e\\u0440\", \"\\u0434\\u043e\\u043f\\u043e\\u043b\\u043d\\u0438\\u0442\\u0435\\u043b\\u044c\\u043d\\u044b\\u0439\", \"\\u0432\\u0438\\u0437\\u0438\\u0442\", \"\\u0433\\u0440\\u0435\\u0444\", \"\\u044d\\u043a\\u043e\\u043d\\u043e\\u043c\\u0438\\u043a\\u0430\", \"\\u043f\\u043e\\u0441\\u0435\\u043b\\u043e\\u043a\", \"\\u043a\\u0430\\u0441\\u044c\\u044f\\u043d\\u043e\\u0432\", \"\\u0434\\u0435\\u043b\\u0435\\u0433\\u0430\\u0446\\u0438\\u044f\", \"\\u0441\\u043e\\u0442\\u0440\\u0443\\u0434\\u043d\\u0438\\u0447\\u0435\\u0441\\u0442\\u0432\\u043e\", \"\\u043f\\u0440\\u0430\\u0432\\u0438\\u0442\\u0435\\u043b\\u044c\\u0441\\u0442\\u0432\\u0435\\u043d\\u043d\\u044b\\u0439\", \"\\u043e\\u0431\\u0441\\u0443\\u0436\\u0434\\u0430\\u0442\\u044c\", \"\\u0435\\u0432\\u0433\\u0435\\u043d\\u0438\\u0439\", \"\\u0438\\u0441\\u043f\\u044b\\u0442\\u0430\\u043d\\u0438\\u0435\", \"\\u0443\\u0441\\u043b\\u0443\\u0433\\u0430\", \"\\u043d\\u0435\\u043e\\u0431\\u0445\\u043e\\u0434\\u0438\\u043c\\u043e\", \"\\u0432\\u0440\\u0430\\u0447\", \"\\u0441\\u0442\\u0440\\u0430\\u0442\\u0435\\u0433\\u0438\\u0447\\u0435\\u0441\\u043a\\u0438\\u0439\", \"\\u0441\\u0442\\u0440\\u043e\\u0438\\u0442\\u0435\\u043b\\u044c\\u0441\\u0442\\u0432\\u043e\", \"\\u043e\\u0431\\u0441\\u0443\\u0436\\u0434\\u0430\\u0442\\u044c\\u0441\\u044f\", \"\\u0432\\u044b\\u0434\\u0435\\u043b\\u044f\\u0442\\u044c\", \"\\u0432\\u0441\\u0435\\u043c\\u0438\\u0440\\u043d\\u044b\\u0439\", \"\\u0441\\u043e\\u0433\\u043b\\u0430\\u0448\\u0430\\u0442\\u044c\\u0441\\u044f\", \"\\u0432\\u043e\\u0441\\u0441\\u0442\\u0430\\u043d\\u043e\\u0432\\u043b\\u0435\\u043d\\u0438\\u0435\", \"\\u043f\\u043e\\u0441\\u0435\\u0449\\u0430\\u0442\\u044c\", \"\\u043d\\u0430\\u0437\\u0432\\u0430\\u043d\\u0438\\u0435\", \"\\u043e\\u0441\\u0435\\u043d\\u044c\", \"\\u0444\\u0438\\u043d\\u0430\\u043d\\u0441\\u0438\\u0440\\u043e\\u0432\\u0430\\u043d\\u0438\\u0435\", \"\\u043a\\u043e\\u043d\\u0441\\u0443\\u043b\\u044c\\u0442\\u0430\\u0446\\u0438\\u044f\", \"\\u0432\\u0438\\u0440\\u0443\\u0441\", \"\\u043f\\u043e\\u0434\\u0433\\u043e\\u0442\\u043e\\u0432\\u0438\\u0442\\u044c\", \"\\u043f\\u0440\\u043e\\u0431\\u043b\\u0435\\u043c\\u0430\", \"\\u043f\\u0440\\u0435\\u043c\\u044c\\u0435\\u0440\", \"\\u043c\\u0438\\u043d\\u0438\\u0441\\u0442\\u0440\", \"\\u0441\\u0444\\u0435\\u0440\\u0430\", \"\\u0432\\u0435\\u0434\\u043e\\u043c\\u0441\\u0442\\u0432\\u043e\", \"\\u044d\\u043a\\u043e\\u043d\\u043e\\u043c\\u0438\\u0447\\u0435\\u0441\\u043a\\u0438\\u0439\", \"\\u0438\\u0433\\u043e\\u0440\\u044c\", \"\\u043a\\u043b\\u0438\\u043d\\u0442\\u043e\\u043d\", \"\\u043f\\u0440\\u0430\\u0432\\u0438\\u0442\\u0435\\u043b\\u044c\\u0441\\u0442\\u0432\\u043e\", \"\\u0432\\u043e\\u043f\\u0440\\u043e\\u0441\", \"\\u0440\\u0435\\u0433\\u0438\\u043e\\u043d\", \"\\u043f\\u0435\\u0440\\u0435\\u0434\\u0430\\u0447\\u0430\", \"\\u0440\\u043e\\u0441\\u0441\\u0438\\u044f\", \"\\u0432\\u0441\\u0442\\u0440\\u0435\\u0447\\u0430\", \"\\u0441\\u0448\\u0430\", \"\\u0441\\u0438\\u0442\\u0443\\u0430\\u0446\\u0438\\u044f\", \"\\u0441\\u0442\\u0440\\u0430\\u043d\\u0430\", \"\\u0440\\u0430\\u043a\\u0435\\u0442\\u0430\", \"\\u0440\\u043e\\u0441\\u0441\\u0438\\u0439\\u0441\\u043a\\u0438\\u0439\", \"\\u0437\\u0430\\u044f\\u0432\\u043b\\u044f\\u0442\\u044c\", \"\\u0437\\u0430\\u043f\\u0440\\u0435\\u0449\\u0430\\u0442\\u044c\", \"\\u043f\\u0440\\u043e\\u0433\\u0440\\u0430\\u043c\\u043c\\u0430\", \"\\u044d\\u0442\\u043e\", \"\\u0433\\u043e\\u0441\\u0443\\u0434\\u0430\\u0440\\u0441\\u0442\\u0432\\u043e\", \"\\u043e\\u0442\\u043c\\u0435\\u0447\\u0430\\u0442\\u044c\", \"\\u043f\\u0435\\u0440\\u0435\\u0433\\u043e\\u0432\\u043e\\u0440\\u044b\", \"\\u043f\\u0443\\u0442\\u0438\\u043d\", \"\\u0434\\u043e\\u043b\\u0436\\u043d\\u044b\\u0439\", \"\\u0441\\u043b\\u043e\\u0432\\u043e\", \"\\u043c\\u0435\\u0436\\u0434\\u0443\\u043d\\u0430\\u0440\\u043e\\u0434\\u043d\\u044b\\u0439\", \"\\u043f\\u0440\\u0435\\u0437\\u0438\\u0434\\u0435\\u043d\\u0442\", \"\\u0440\\u0430\\u0431\\u043e\\u0442\\u0430\", \"\\u0442\\u0430\\u043a\\u0436\\u0435\", \"\\u0433\\u043b\\u0430\\u0432\\u0430\", \"\\u043a\\u043e\\u0442\\u043e\\u0440\\u044b\\u0439\", \"\\u043d\\u043e\\u0432\\u044b\\u0439\", \"\\u0438\\u044e\\u043b\\u044c\", \"\\u0441\\u0432\\u044f\\u0437\\u044c\", \"\\u043f\\u0435\\u0440\\u0435\\u0434\\u0430\\u0432\\u0430\\u0442\\u044c\", \"\\u0441\\u043e\\u043e\\u0431\\u0449\\u0430\\u0442\\u044c\", \"\\u0433\\u043e\\u0434\", \"\\u043c\\u043e\\u0447\\u044c\", \"\\u0438\\u043d\\u0442\\u0435\\u0440\\u043d\\u0435\\u0442\", \"\\u0441\\u0430\\u0439\\u0442\", \"\\u0443\\u0433\\u043e\\u043b\\u043e\\u0432\\u043d\\u044b\\u0439\", \"\\u043f\\u043e\\u043b\\u044c\\u0437\\u043e\\u0432\\u0430\\u0442\\u0435\\u043b\\u044c\", \"\\u0430\\u0434\\u0432\\u043e\\u043a\\u0430\\u0442\", \"\\u043e\\u0431\\u0432\\u0438\\u043d\\u0435\\u043d\\u0438\\u0435\", \"\\u0441\\u0435\\u0442\\u044c\", \"\\u0432\\u044b\\u0438\\u0433\\u0440\\u044b\\u0432\\u0430\\u0442\\u044c\", \"\\u0432\\u043e\\u0437\\u0431\\u0443\\u0436\\u0434\\u0430\\u0442\\u044c\", \"\\u0438\\u0437\\u044b\\u043c\\u0430\\u0442\\u044c\", \"com\", \"\\u043f\\u0440\\u043e\\u043a\\u0443\\u0440\\u043e\\u0440\", \"\\u0443\\u043a\\u0440\\u0430\\u0438\\u043d\\u0430\", \"\\u043a\\u043e\\u043c\\u043f\\u044c\\u044e\\u0442\\u0435\\u0440\", \"\\u043b\\u0438\\u0447\\u043d\\u044b\\u0439\", \"\\u0441\\u043b\\u0435\\u0434\\u043e\\u0432\\u0430\\u0442\\u0435\\u043b\\u044c\", \"\\u043f\\u0440\\u0435\\u0434\\u044a\\u044f\\u0432\\u043b\\u044f\\u0442\\u044c\", \"\\u043f\\u0430\\u0432\\u0435\\u043b\", \"\\u0434\\u043e\\u043c\\u0435\\u043d\\u043d\\u044b\\u0439\", \"\\u043c\\u0430\\u0442\\u0435\\u0440\\u0438\\u0430\\u043b\", \"\\u043a\\u043b\\u0438\\u0435\\u043d\\u0442\", \"\\u0434\\u043e\\u0431\\u0430\\u0432\\u043b\\u044f\\u0442\\u044c\", \"\\u043d\\u044c\\u044e\", \"\\u0441\\u0443\\u0434\\u044c\\u044f\", \"\\u0432\\u043b\\u0430\\u0434\\u0435\\u043b\\u0435\\u0446\", \"\\u0445\\u0430\\u043a\\u0435\\u0440\", \"\\u0434\\u043e\\u0441\\u0442\\u0443\\u043f\", \"\\u043e\\u0431\\u044b\\u0441\\u043a\", \"\\u0430\\u0434\\u0440\\u0435\\u0441\", \"\\u0448\\u0432\\u0435\\u0439\\u0446\\u0430\\u0440\\u0441\\u043a\\u0438\\u0439\", \"\\u0441\\u0443\\u0434\\u0435\\u0431\\u043d\\u044b\\u0439\", \"\\u0438\\u0441\\u043a\", \"\\u0433\\u0430\\u0437\\u0435\\u0442\\u0430\", \"\\u0438\\u043c\\u044f\", \"\\u043d\\u0435\\u0437\\u0430\\u043a\\u043e\\u043d\\u043d\\u044b\\u0439\", \"\\u0441\\u0443\\u0434\", \"\\u0434\\u0435\\u043d\\u044c\\u0433\\u0438\", \"\\u043a\\u043e\\u0442\\u043e\\u0440\\u044b\\u0439\", \"\\u0438\\u043d\\u0444\\u043e\\u0440\\u043c\\u0430\\u0446\\u0438\\u044f\", \"\\u0441\\u0432\\u043e\\u0439\", \"\\u043a\\u043e\\u043c\\u043f\\u0430\\u043d\\u0438\\u044f\", \"\\u0430\\u043c\\u0435\\u0440\\u0438\\u043a\\u0430\\u043d\\u0441\\u043a\\u0438\\u0439\", \"\\u0434\\u0435\\u043b\\u043e\", \"\\u043c\\u043e\\u0447\\u044c\", \"\\u0433\\u043e\\u0434\", \"\\u043e\\u0434\\u043d\\u0430\\u043a\\u043e\", \"\\u043f\\u043e\\u043b\\u0443\\u0447\\u0430\\u0442\\u044c\", \"\\u0441\\u0448\\u0430\", \"\\u0432\\u0440\\u0435\\u043c\\u044f\", \"\\u044d\\u0442\\u043e\", \"\\u0432\\u0435\\u0441\\u044c\", \"\\u044f\\u0432\\u043b\\u044f\\u0442\\u044c\\u0441\\u044f\", \"\\u0441\\u043b\\u043e\\u0432\\u043e\", \"\\u0438\\u043c\\u0435\\u0442\\u044c\", \"\\u0434\\u0435\\u043f\\u0443\\u0442\\u0430\\u0442\", \"\\u0433\\u043e\\u0441\\u0434\\u0443\\u043c\\u0430\", \"\\u0433\\u0443\\u0441\\u0438\\u043d\\u0441\\u043a\\u0438\\u0439\", \"\\u043f\\u0430\\u043b\\u0430\\u0442\\u0430\", \"\\u0432\\u044b\\u0431\\u043e\\u0440\\u044b\", \"\\u0434\\u0443\\u043c\\u0430\", \"\\u0442\\u0443\\u0440\\u043d\\u0438\\u0440\", \"\\u043f\\u043e\\u0431\\u0435\\u0434\\u0430\", \"\\u043d\\u0430\\u0437\\u043d\\u0430\\u0447\\u0430\\u0442\\u044c\", \"\\u0444\\u0440\\u0430\\u043a\\u0446\\u0438\\u044f\", \"\\u043f\\u0440\\u043e\\u0433\\u043e\\u043b\\u043e\\u0441\\u043e\\u0432\\u0430\\u0442\\u044c\", \"\\u0438\\u0433\\u0440\\u0430\", \"\\u043c\\u044d\\u0440\", \"\\u044e\\u0440\\u0438\\u0439\", \"\\u043f\\u043e\\u0434\\u0430\\u0432\\u0430\\u0442\\u044c\", \"\\u043f\\u043e\\u043f\\u0440\\u0430\\u0432\\u043a\\u0430\", \"\\u0434\\u043e\\u043b\\u0436\\u043d\\u043e\\u0441\\u0442\\u044c\", \"\\u0433\\u0435\\u043d\\u043d\\u0430\\u0434\\u0438\\u0439\", \"\\u0434\\u043e\\u043c\\u0435\\u043d\", \"\\u0431\\u0435\\u043b\\u043e\\u0440\\u0443\\u0441\\u0441\\u0438\\u044f\", \"\\u0441\\u043f\\u0438\\u043a\\u0435\\u0440\", \"\\u0433\\u043e\\u043b\\u043e\\u0441\", \"\\u043f\\u043e\\u0435\\u0437\\u0434\\u043a\\u0430\", \"\\u0441\\u043e\\u043f\\u0435\\u0440\\u043d\\u0438\\u043a\", \"\\u0440\\u0435\\u0433\\u0438\\u0441\\u0442\\u0440\\u0430\\u0446\\u0438\\u044f\", \"\\u0438\\u0437\\u0431\\u0438\\u0440\\u0430\\u0442\\u0435\\u043b\\u044c\\u043d\\u044b\\u0439\", \"\\u0433\\u043e\\u043b\\u043e\\u0441\\u043e\\u0432\\u0430\\u043d\\u0438\\u0435\", \"\\u043f\\u0440\\u0435\\u0437\\u0438\\u0434\\u0435\\u043d\\u0442\\u0441\\u043a\\u0438\\u0439\", \"\\u043e\\u0442\\u043a\\u043b\\u043e\\u043d\\u044f\\u0442\\u044c\", \"\\u044f\\u0441\\u0442\\u0440\\u0436\\u0435\\u043c\\u0431\\u0441\\u043a\\u0438\\u0439\", \"\\u0431\\u043e\\u0440\\u0438\\u0441\", \"\\u0444\\u0435\\u0434\\u0435\\u0440\\u0430\\u0446\\u0438\\u044f\", \"\\u043f\\u0440\\u0435\\u0434\\u0441\\u0435\\u0434\\u0430\\u0442\\u0435\\u043b\\u044c\", \"\\u0441\\u043e\\u0432\\u0435\\u0442\", \"\\u0432\\u043b\\u0430\\u0434\\u0438\\u043c\\u0438\\u0440\", \"\\u0430\\u043b\\u0435\\u043a\\u0441\\u0430\\u043d\\u0434\\u0440\", \"\\u043f\\u0440\\u0435\\u0437\\u0438\\u0434\\u0435\\u043d\\u0442\", \"\\u0433\\u043b\\u0430\\u0432\\u0430\", \"\\u043f\\u043e\\u0441\\u0442\", \"\\u043a\\u043e\\u043c\\u0438\\u0441\\u0441\\u0438\\u044f\", \"\\u0437\\u0430\\u0441\\u0435\\u0434\\u0430\\u043d\\u0438\\u0435\", \"\\u0440\\u0443\\u043a\\u043e\\u0432\\u043e\\u0434\\u0438\\u0442\\u0435\\u043b\\u044c\", \"\\u043f\\u0443\\u0442\\u0438\\u043d\", \"\\u0441\\u043e\\u0441\\u0442\\u043e\\u044f\\u0442\\u044c\\u0441\\u044f\", \"\\u043f\\u0440\\u0438\\u043d\\u0438\\u043c\\u0430\\u0442\\u044c\", \"\\u0430\\u0434\\u043c\\u0438\\u043d\\u0438\\u0441\\u0442\\u0440\\u0430\\u0446\\u0438\\u044f\", \"\\u0437\\u0430\\u043a\\u043e\\u043d\", \"\\u043b\\u0438\\u0434\\u0435\\u0440\", \"\\u0440\\u043e\\u0441\\u0441\\u0438\\u044f\", \"\\u0440\\u0435\\u0448\\u0435\\u043d\\u0438\\u0435\", \"\\u0440\\u0438\\u0430\", \"\\u043d\\u043e\\u0432\\u043e\\u0441\\u0442\\u044c\", \"\\u0441\\u0432\\u043e\\u0439\", \"\\u0433\\u043e\\u0441\\u0443\\u0434\\u0430\\u0440\\u0441\\u0442\\u0432\\u0435\\u043d\\u043d\\u044b\\u0439\", \"\\u0441\\u043b\\u043e\\u0432\\u043e\", \"\\u043a\\u043e\\u0442\\u043e\\u0440\\u044b\\u0439\", \"\\u0441\\u043e\\u043e\\u0431\\u0449\\u0430\\u0442\\u044c\", \"\\u0437\\u0430\\u044f\\u0432\\u043b\\u044f\\u0442\\u044c\", \"\\u0434\\u043e\\u043c\", \"\\u0440\\u0435\\u0431\\u0435\\u043d\\u043e\\u043a\", \"\\u0432\\u0437\\u0440\\u044b\\u0432\", \"\\u043f\\u043e\\u0441\\u0442\\u0440\\u0430\\u0434\\u0430\\u0442\\u044c\", \"\\u043e\\u043a\\u0440\\u0443\\u0433\", \"\\u0443\\u043b\\u0438\\u0446\\u0430\", \"\\u0431\\u043e\\u043b\\u044c\\u043d\\u0438\\u0446\\u0430\", \"\\u043f\\u0440\\u043e\\u0438\\u0441\\u0448\\u0435\\u0441\\u0442\\u0432\\u0438\\u0435\", \"\\u043c\\u0443\\u0436\\u0447\\u0438\\u043d\\u0430\", \"\\u0434\\u043e\\u0441\\u0442\\u0430\\u0432\\u043b\\u044f\\u0442\\u044c\", \"\\u043e\\u0441\\u0442\\u0440\\u043e\\u0432\", \"\\u0436\\u0435\\u0440\\u0442\\u0432\\u0430\", \"\\u0432\\u043e\\u0440\\u043e\\u0442\\u0430\", \"\\u0432\\u043e\\u0434\\u0438\\u0442\\u0435\\u043b\\u044c\", \"\\u043f\\u0438\\u0441\\u0442\\u043e\\u043b\\u0435\\u0442\", \"\\u0430\\u0432\\u0430\\u0440\\u0438\\u044f\", \"\\u0441\\u0442\\u043e\\u043b\\u043a\\u043d\\u043e\\u0432\\u0435\\u043d\\u0438\\u0435\", \"\\u0433\\u0443\\u0432\\u0434\", \"\\u043f\\u043e\\u043a\\u0438\\u0434\\u0430\\u0442\\u044c\", \"\\u0432\\u043e\\u0434\\u0430\", \"\\u043f\\u043e\\u0438\\u0441\\u043a\", \"\\u0433\\u043e\\u043b\\u043e\\u0432\\u0430\", \"\\u043f\\u043e\\u0433\\u0438\\u0431\\u0448\\u0438\\u0439\", \"\\u0441\\u0435\\u0440\\u0438\\u044f\", \"\\u0447\\u0440\\u0435\\u0437\\u0432\\u044b\\u0447\\u0430\\u0439\\u043d\\u044b\\u0439\", \"\\u0442\\u044f\\u0436\\u0435\\u043b\\u044b\\u0439\", \"\\u043f\\u043b\\u043e\\u0449\\u0430\\u0434\\u044c\", \"\\u043e\\u0445\\u0440\\u0430\\u043d\\u0430\", \"\\u043d\\u0435\\u043c\\u0435\\u0446\\u043a\\u0438\\u0439\", \"\\u043a\\u0430\\u0440\\u0442\\u0430\", \"\\u0442\\u0435\\u043b\\u043e\", \"\\u0433\\u043e\\u0440\\u043e\\u0434\", \"\\u043f\\u0440\\u043e\\u0438\\u0441\\u0445\\u043e\\u0434\\u0438\\u0442\\u044c\", \"\\u0437\\u0434\\u0430\\u043d\\u0438\\u0435\", \"\\u043c\\u0438\\u043d\\u0443\\u0442\\u0430\", \"\\u0443\\u0442\\u0440\\u043e\", \"\\u0447\\u0430\\u0441\", \"\\u043f\\u043e\\u0433\\u0438\\u0431\\u0430\\u0442\\u044c\", \"\\u0430\\u0432\\u0442\\u043e\\u043c\\u043e\\u0431\\u0438\\u043b\\u044c\", \"\\u043b\\u0435\\u0442\\u043d\\u0438\\u0439\", \"\\u0447\\u0435\\u043b\\u043e\\u0432\\u0435\\u043a\", \"\\u0440\\u0435\\u0437\\u0443\\u043b\\u044c\\u0442\\u0430\\u0442\", \"\\u043d\\u043e\\u0447\\u044c\", \"\\u043d\\u0430\\u0445\\u043e\\u0434\\u0438\\u0442\\u044c\\u0441\\u044f\", \"\\u043c\\u0435\\u0441\\u0442\\u043e\", \"\\u043f\\u0440\\u0438\\u0447\\u0438\\u043d\\u0430\", \"\\u043e\\u043a\\u043e\\u043b\\u043e\", \"\\u043c\\u0430\\u0448\\u0438\\u043d\\u0430\", \"\\u0432\\u0435\\u0447\\u0435\\u0440\", \"\\u0436\\u0438\\u0442\\u0435\\u043b\\u044c\", \"\\u0440\\u0430\\u043d\\u0435\\u043d\\u0438\\u0435\", \"\\u0441\\u043e\\u043e\\u0431\\u0449\\u0430\\u0442\\u044c\", \"\\u043c\\u0435\\u0441\\u0442\\u043d\\u044b\\u0439\", \"\\u0432\\u0440\\u0435\\u043c\\u044f\", \"\\u043f\\u043e\\u043b\\u0443\\u0447\\u0430\\u0442\\u044c\", \"\\u043a\\u043e\\u0442\\u043e\\u0440\\u044b\\u0439\", \"\\u043d\\u0435\\u0441\\u043a\\u043e\\u043b\\u044c\\u043a\\u043e\", \"\\u0434\\u0430\\u043d\\u043d\\u044b\\u0435\", \"\\u0432\\u0435\\u0441\\u044c\", \"\\u043d\\u043e\\u0432\\u043e\\u0441\\u0442\\u044c\", \"\\u0440\\u0438\\u0430\", \"\\u0434\\u0435\\u043d\\u044c\", \"\\u0447\\u0435\\u0447\\u043d\\u044f\", \"\\u0431\\u043e\\u0435\\u0432\\u0438\\u043a\", \"\\u0447\\u0435\\u0447\\u0435\\u043d\\u0441\\u043a\\u0438\\u0439\", \"\\u0432\\u043e\\u0439\\u0441\\u043a\\u043e\", \"\\u043a\\u0430\\u0434\\u044b\\u0440\\u043e\\u0432\", \"\\u043e\\u0442\\u0440\\u044f\\u0434\", \"\\u0433\\u0440\\u043e\\u0437\\u043d\\u044b\\u0439\", \"\\u0432\\u043e\\u0435\\u043d\\u043d\\u043e\\u0441\\u043b\\u0443\\u0436\\u0430\\u0449\\u0438\\u0439\", \"\\u043c\\u0430\\u0441\\u0445\\u0430\\u0434\\u043e\\u0432\", \"\\u043a\\u0430\\u0432\\u043a\\u0430\\u0437\", \"\\u0430\\u0440\\u0433\\u0443\\u043d\", \"\\u0443\\u0434\\u0430\\u0440\", \"\\u0443\\u043d\\u0438\\u0447\\u0442\\u043e\\u0436\\u0430\\u0442\\u044c\", \"\\u043c\\u043e\\u0431\\u0438\\u043b\\u044c\\u043d\\u044b\\u0439\", \"\\u0431\\u043e\\u0435\\u0432\\u043e\\u0439\", \"\\u0438\\u043d\\u0433\\u0443\\u0448\\u0435\\u0442\\u0438\\u044f\", \"\\u043d\\u0430\\u0441\\u0435\\u043b\\u0435\\u043d\\u043d\\u044b\\u0439\", \"\\u0434\\u0430\\u0433\\u0435\\u0441\\u0442\\u0430\\u043d\", \"\\u0437\\u0430\\u043b\\u043e\\u0436\\u043d\\u0438\\u043a\", \"\\u043c\\u0430\\u043d\\u0438\\u043b\\u043e\\u0432\", \"\\u043f\\u043e\\u043b\\u043a\\u043e\\u0432\\u043d\\u0438\\u043a\", \"\\u0431\\u043e\\u0435\\u043f\\u0440\\u0438\\u043f\\u0430\\u0441\\u044b\", \"\\u0430\\u0445\\u043c\\u0430\\u0434\", \"\\u0444\\u0443\\u0433\\u0430\\u0441\", \"\\u0447\\u0435\\u0447\\u0435\\u043d\\u0435\\u0446\", \"\\u0431\\u0435\\u0436\\u0435\\u043d\\u0435\\u0446\", \"\\u0441\\u0435\\u043b\\u043e\", \"\\u0433\\u0443\\u0434\\u0435\\u0440\\u043c\\u0435\\u0441\", \"\\u043c\\u043e\\u0437\\u0434\\u043e\\u043a\", \"\\u043e\\u0431\\u0441\\u0442\\u0440\\u0435\\u043b\\u0438\\u0432\\u0430\\u0442\\u044c\", \"\\u0433\\u0440\\u0443\\u043f\\u043f\\u0438\\u0440\\u043e\\u0432\\u043a\\u0430\", \"\\u0432\\u043e\\u0435\\u043d\\u043d\\u044b\\u0439\", \"\\u0433\\u0435\\u043d\\u0435\\u0440\\u0430\\u043b\", \"\\u0432\\u043e\\u043e\\u0440\\u0443\\u0436\\u0435\\u043d\\u043d\\u044b\\u0439\", \"\\u0438\\u0442\\u0430\\u0440\", \"\\u0440\\u0435\\u0441\\u043f\\u0443\\u0431\\u043b\\u0438\\u043a\\u0430\", \"\\u0440\\u0430\\u0439\\u043e\\u043d\", \"\\u0442\\u0430\\u0441\\u0441\", \"\\u043f\\u0443\\u043d\\u043a\\u0442\", \"\\u0441\\u0435\\u0432\\u0435\\u0440\\u043d\\u044b\\u0439\", \"\\u0441\\u0438\\u043b\\u0430\", \"\\u0444\\u0435\\u0434\\u0435\\u0440\\u0430\\u043b\\u044c\\u043d\\u044b\\u0439\", \"\\u0438\\u043d\\u0442\\u0435\\u0440\\u0444\\u0430\\u043a\\u0441\", \"\\u0441\\u043e\\u043e\\u0431\\u0449\\u0430\\u0442\\u044c\", \"\\u043e\\u043f\\u0435\\u0440\\u0430\\u0446\\u0438\\u044f\", \"\\u0447\\u0435\\u043b\\u043e\\u0432\\u0435\\u043a\", \"\\u0442\\u0435\\u0440\\u0440\\u0438\\u0442\\u043e\\u0440\\u0438\\u044f\", \"\\u0441\\u043b\\u043e\\u0432\\u043e\", \"\\u0432\\u0440\\u0435\\u043c\\u044f\", \"\\u044d\\u0442\\u043e\", \"\\u0440\\u043e\\u0441\\u0441\\u0438\\u044f\", \"\\u043c\\u0430\\u0442\\u0447\", \"\\u043f\\u0430\\u0440\\u043b\\u0430\\u043c\\u0435\\u043d\\u0442\", \"\\u043e\\u0442\\u0441\\u0442\\u0430\\u0432\\u043a\\u0430\", \"\\u043d\\u0430\\u0440\\u043e\\u0434\", \"\\u043f\\u043e\\u0441\\u043e\\u043b\\u044c\\u0441\\u0442\\u0432\\u043e\", \"\\u043e\\u043e\\u043d\", \"\\u0441\\u044b\\u0433\\u0440\\u0430\\u0442\\u044c\", \"\\u043c\\u0438\\u0434\", \"\\u043f\\u0440\\u043e\\u0438\\u0433\\u0440\\u044b\\u0432\\u0430\\u0442\\u044c\", \"\\u043f\\u0440\\u043e\\u0442\\u0435\\u0441\\u0442\", \"\\u0438\\u0432\\u0430\\u043d\\u043e\\u0432\", \"\\u043f\\u043e\\u043b\\u0443\\u0444\\u0438\\u043d\\u0430\\u043b\", \"\\u0430\\u043c\\u043d\\u0438\\u0441\\u0442\\u0438\\u044f\", \"\\u0430\\u043d\\u0434\\u0440\\u0435\\u0439\", \"\\u0438\\u0433\\u0440\\u0430\\u0442\\u044c\", \"\\u0441\\u0442\\u0440\\u0430\\u0436\\u0430\", \"\\u043b\\u0435\\u0439\\u0442\\u0435\\u043d\\u0430\\u043d\\u0442\", \"\\u0440\\u043e\\u043b\\u044c\", \"\\u0433\\u0440\\u0430\\u043d\\u0430\\u0442\\u0430\", \"\\u043b\\u0430\\u0433\\u0435\\u0440\\u044c\", \"\\u0441\\u0435\\u043d\\u0430\\u0442\\u043e\\u0440\", \"\\u043a\\u043e\\u043c\\u0430\\u043d\\u0434\\u0443\\u044e\\u0449\\u0438\\u0439\", \"\\u0440\\u0435\\u0448\\u0430\\u044e\\u0449\\u0438\\u0439\", \"\\u0441\\u043e\\u0432\\u0435\\u0442\\u0441\\u043a\\u0438\\u0439\", \"\\u044e\\u0433\\u043e\\u0441\\u043b\\u0430\\u0432\\u0438\\u044f\", \"\\u043a\\u043e\\u0441\\u043e\\u0432\\u043e\", \"\\u043f\\u0430\\u0441\\u0435\", \"\\u043e\\u0431\\u0449\\u0435\\u0441\\u0442\\u0432\\u0435\\u043d\\u043d\\u043e\\u0441\\u0442\\u044c\", \"\\u043e\\u0442\\u043a\\u0430\\u0437\", \"\\u0432\\u043f\\u043e\\u0441\\u043b\\u0435\\u0434\\u0441\\u0442\\u0432\\u0438\\u0438\", \"\\u043f\\u043e\\u0440\\u0430\\u0436\\u0435\\u043d\\u0438\\u0435\", \"\\u043e\\u0431\\u0432\\u0438\\u043d\\u044f\\u0442\\u044c\", \"\\u0440\\u043e\\u0441\\u0441\\u0438\\u044f\\u043d\\u0438\\u043d\", \"\\u043f\\u0440\\u0438\\u0437\\u044b\\u0432\\u0430\\u0442\\u044c\", \"\\u043f\\u043e\\u043b\\u0438\\u0446\\u0435\\u0439\\u0441\\u043a\\u0438\\u0439\", \"\\u043e\\u0431\\u0440\\u0430\\u0449\\u0435\\u043d\\u0438\\u0435\", \"\\u0431\\u043e\\u0440\\u044c\\u0431\\u0430\", \"\\u043f\\u0440\\u0435\\u0441\\u0442\\u0443\\u043f\\u043d\\u0438\\u043a\", \"\\u043f\\u0430\\u0440\\u0442\\u0438\\u044f\", \"\\u0432\\u043b\\u0430\\u0441\\u0442\\u044c\", \"\\u0437\\u0430\\u044f\\u0432\\u043b\\u0435\\u043d\\u0438\\u0435\", \"\\u043d\\u0430\\u0448\", \"\\u0441\\u0432\\u043e\\u0431\\u043e\\u0434\\u0430\", \"\\u0433\\u0440\\u0430\\u0436\\u0434\\u0430\\u043d\\u0438\\u043d\", \"\\u0441\\u0442\\u0440\\u0430\\u043d\\u0430\", \"\\u043f\\u0440\\u043e\\u0442\\u0438\\u0432\", \"\\u0441\\u0432\\u043e\\u0439\", \"\\u043e\\u0440\\u0433\\u0430\\u043d\\u0438\\u0437\\u0430\\u0446\\u0438\\u044f\", \"\\u0447\\u043b\\u0435\\u043d\", \"\\u043b\\u0438\\u0434\\u0435\\u0440\", \"\\u0440\\u043e\\u0441\\u0441\\u0438\\u0439\\u0441\\u043a\\u0438\\u0439\", \"\\u0433\\u043e\\u0434\", \"\\u0438\\u044e\\u043d\\u044c\", \"\\u0435\\u0432\\u0440\\u043e\\u043f\\u0430\", \"\\u043f\\u0440\\u0438\\u043d\\u0438\\u043c\\u0430\\u0442\\u044c\", \"\\u043f\\u0440\\u0435\\u0434\\u0441\\u0442\\u0430\\u0432\\u0438\\u0442\\u0435\\u043b\\u044c\", \"\\u043f\\u0440\\u0430\\u0432\\u043e\", \"\\u043c\\u0435\\u0436\\u0434\\u0443\\u043d\\u0430\\u0440\\u043e\\u0434\\u043d\\u044b\\u0439\", \"\\u0434\\u0435\\u043b\\u043e\", \"\\u043a\\u043e\\u0442\\u043e\\u0440\\u044b\\u0439\", \"\\u0432\\u044b\\u0441\\u0442\\u0443\\u043f\\u0430\\u0442\\u044c\", \"\\u0437\\u0430\\u044f\\u0432\\u043b\\u044f\\u0442\\u044c\", \"\\u0447\\u0435\\u043b\\u043e\\u0432\\u0435\\u043a\", \"\\u0434\\u0435\\u043d\\u044c\", \"\\u0440\\u0443\\u0431\\u043b\\u044c\", \"\\u043c\\u043e\\u0441\\u0442\", \"\\u0440\\u0431\\u043a\", \"\\u0445\\u043e\\u043b\\u0434\\u0438\\u043d\\u0433\", \"\\u0440\\u0430\\u043e\", \"\\u043f\\u0435\\u0442\\u0435\\u0440\\u0431\\u0443\\u0440\\u0433\", \"\\u0433\\u0430\\u0437\\u043f\\u0440\\u043e\\u043c\", \"\\u043f\\u043e\\u0432\\u044b\\u0448\\u0435\\u043d\\u0438\\u0435\", \"\\u043e\\u0430\\u043e\", \"\\u0433\\u0440\\u0443\\u0437\\u0438\\u044f\", \"\\u0441\\u0430\\u043d\\u043a\\u0442\", \"\\u0443\\u0432\\u0434\", \"\\u0430\\u043a\\u0446\\u0438\\u043e\\u043d\\u0435\\u0440\", \"\\u0430\\u0440\\u0431\\u0438\\u0442\\u0440\\u0430\\u0436\\u043d\\u044b\\u0439\", \"\\u0435\\u044d\\u0441\", \"\\u0430\\u043b\\u0435\\u043a\\u0441\\u0435\\u0439\", \"\\u0434\\u043e\\u043b\\u0433\", \"\\u0431\\u0430\\u043d\\u0434\\u0444\\u043e\\u0440\\u043c\\u0438\\u0440\\u043e\\u0432\\u0430\\u043d\\u0438\\u0435\", \"\\u0432\\u044b\\u043d\\u0435\\u0441\\u0442\\u0438\", \"\\u0442\\u0430\\u0440\\u0438\\u0444\", \"\\u043b\\u0438\\u0446\\u0435\\u043d\\u0437\\u0438\\u044f\", \"\\u0447\\u0435\\u043b\\u044f\\u0431\\u0438\\u043d\\u0441\\u043a\\u0438\\u0439\", \"\\u043e\\u0431\\u0440\\u0430\\u0437\\u043e\\u0432\\u0430\\u043d\\u0438\\u0435\", \"\\u0432\\u043b\\u0430\\u0434\\u0438\\u0432\\u043e\\u0441\\u0442\\u043e\\u043a\", \"\\u043f\\u0440\\u0438\\u043e\\u0431\\u0440\\u0435\\u0442\\u0430\\u0442\\u044c\", \"\\u043e\\u043f\\u043b\\u0430\\u0442\\u0430\", \"\\u043f\\u0440\\u0438\\u043e\\u0441\\u0442\\u0430\\u043d\\u0430\\u0432\\u043b\\u0438\\u0432\\u0430\\u0442\\u044c\", \"\\u0437\\u0430\\u043e\", \"\\u0430\\u043b\\u044e\\u043c\\u0438\\u043d\\u0438\\u0439\", \"\\u043a\\u043e\\u043c\\u043f\\u0435\\u043d\\u0441\\u0430\\u0446\\u0438\\u044f\", \"\\u0431\\u0430\\u043d\\u043a\", \"\\u043f\\u0440\\u0435\\u0434\\u043f\\u0440\\u0438\\u044f\\u0442\\u0438\\u0435\", \"\\u043f\\u0440\\u043e\\u0446\\u0435\\u043d\\u0442\", \"\\u0441\\u0442\\u043e\\u0438\\u043c\\u043e\\u0441\\u0442\\u044c\", \"\\u0441\\u0443\\u043c\\u043c\\u0430\", \"\\u043c\\u0438\\u043b\\u043b\\u0438\\u043e\\u043d\", \"\\u043c\\u0435\\u0434\\u0438\\u0430\", \"\\u0430\\u043a\\u0446\\u0438\\u044f\", \"\\u043c\\u0438\\u043b\\u043b\\u0438\\u0430\\u0440\\u0434\", \"\\u0441\\u043e\\u0441\\u0442\\u0430\\u0432\\u043b\\u044f\\u0442\\u044c\", \"\\u0434\\u043e\\u043b\\u043b\\u0430\\u0440\", \"\\u0440\\u0430\\u0437\\u043c\\u0435\\u0440\", \"\\u0433\\u043e\\u0434\", \"\\u0442\\u044b\\u0441\\u044f\\u0447\\u0430\", \"\\u0438\\u044e\\u043b\\u044c\", \"\\u0434\\u0438\\u0440\\u0435\\u043a\\u0442\\u043e\\u0440\", \"\\u0438\\u044e\\u043d\\u044c\", \"\\u0441\\u0443\\u0434\", \"\\u0441\\u043e\\u043e\\u0431\\u0449\\u0430\\u0442\\u044c\", \"\\u043c\\u043e\\u0441\\u043a\\u0432\\u0430\", \"\\u0440\\u0435\\u0448\\u0435\\u043d\\u0438\\u0435\", \"\\u043d\\u043e\\u0432\\u043e\\u0441\\u0442\\u044c\", \"\\u0440\\u0438\\u0430\", \"\\u0440\\u043e\\u0441\\u0441\\u0438\\u044f\", \"\\u0447\\u0435\\u043c\\u043f\\u0438\\u043e\\u043d\\u0430\\u0442\", \"\\u043a\\u043e\\u043c\\u0430\\u043d\\u0434\\u0430\", \"\\u0441\\u0431\\u043e\\u0440\\u043d\\u0430\\u044f\", \"press\", \"\\u0442\\u043e\\u043d\\u043d\\u0430\", \"\\u043c\\u0435\\u0442\\u0440\", \"\\u0437\\u0430\\u0432\\u043e\\u0434\", \"\\u043c\\u044f\\u0447\", \"associated\", \"\\u043a\\u043b\\u0443\\u0431\", \"\\u0444\\u0443\\u0442\\u0431\\u043e\\u043b\", \"\\u043f\\u043e\\u0435\\u0437\\u0434\", \"\\u043f\\u0430\\u0441\\u0441\\u0430\\u0436\\u0438\\u0440\", \"\\u0437\\u0430\\u0431\\u0438\\u0432\\u0430\\u0442\\u044c\", \"\\u043f\\u0430\\u0440\\u043a\", \"\\u043f\\u043e\\u0436\\u0430\\u0440\", \"\\u044f\\u043f\\u043e\\u043d\\u0438\\u044f\", \"\\u043f\\u0435\\u0440\\u0435\\u0438\\u0433\\u0440\\u044b\\u0432\\u0430\\u0442\\u044c\", \"\\u043d\\u0435\\u0444\\u0442\\u044f\\u043d\\u043e\\u0439\", \"\\u0438\\u0442\\u0430\\u043b\\u0438\\u044f\", \"\\u043a\\u043e\\u043d\\u0446\\u0435\\u0440\\u043d\", \"\\u0432\\u044b\\u043f\\u043b\\u0430\\u0442\\u0430\", \"\\u043f\\u043e\\u0440\\u0442\", \"\\u0445\\u043e\\u0440\\u043e\\u0448\\u0438\\u0439\", \"\\u0441\\u0435\\u0442\", \"\\u0433\\u043e\\u043b\", \"\\u0434\\u0435\\u0432\\u044f\\u0442\\u044c\", \"\\u0431\\u043e\\u0440\\u0442\", \"\\u0441\\u0443\\u0434\\u043d\\u043e\", \"\\u043f\\u0435\\u0440\\u0432\\u0435\\u043d\\u0441\\u0442\\u0432\\u043e\", \"\\u0441\\u0430\\u043c\\u043e\\u043b\\u0435\\u0442\", \"\\u0432\\u0442\\u043e\\u0440\\u043e\\u0439\", \"\\u0434\\u0435\\u0441\\u044f\\u0442\\u044c\", \"\\u0444\\u0440\\u0430\\u043d\\u0446\\u0438\\u044f\", \"\\u043c\\u0438\\u0440\", \"\\u0432\\u043e\\u0441\\u043a\\u0440\\u0435\\u0441\\u0435\\u043d\\u0438\\u0435\", \"\\u043f\\u0435\\u0440\\u0432\\u044b\\u0439\", \"\\u0431\\u0440\\u0438\\u0442\\u0430\\u043d\\u0441\\u043a\\u0438\\u0439\", \"\\u043f\\u043e\\u0441\\u043b\\u0435\\u0434\\u043d\\u0438\\u0439\", \"\\u0441\\u0442\\u0430\\u043d\\u043e\\u0432\\u0438\\u0442\\u044c\\u0441\\u044f\", \"\\u0441\\u0447\\u0435\\u0442\", \"\\u043f\\u043e\\u043b\\u0438\\u0446\\u0438\\u044f\", \"\\u0442\\u0440\\u0435\\u0442\\u0438\\u0439\", \"\\u0433\\u043e\\u0434\", \"\\u0432\\u044b\\u0445\\u043e\\u0434\\u0438\\u0442\\u044c\", \"\\u043c\\u0435\\u0441\\u0442\\u043e\", \"\\u0441\\u0430\\u043c\\u044b\\u0439\", \"\\u043a\\u043e\\u0442\\u043e\\u0440\\u044b\\u0439\", \"\\u0441\\u0432\\u043e\\u0439\", \"\\u043e\\u0434\\u043d\\u0430\\u043a\\u043e\", \"\\u043f\\u0440\\u043e\\u0435\\u043a\\u0442\", \"\\u043d\\u0435\\u0444\\u0442\\u044c\", \"\\u0440\\u044b\\u043d\\u043e\\u043a\", \"\\u0438\\u0437\\u043c\\u0435\\u043d\\u0435\\u043d\\u0438\\u0435\", \"\\u043d\\u0430\\u043b\\u043e\\u0433\\u043e\\u0432\\u044b\\u0439\", \"\\u0442\\u043e\\u0440\\u0433\\u043e\\u0432\\u043b\\u044f\", \"\\u0444\\u0430\\u0439\\u043b\", \"\\u043d\\u0430\\u043b\\u043e\\u0433\", \"\\u0441\\u043e\\u0446\\u0438\\u0430\\u043b\\u044c\\u043d\\u044b\\u0439\", \"\\u0441\\u0435\\u0441\\u0441\\u0438\\u044f\", \"\\u0431\\u0438\\u0437\\u043d\\u0435\\u0441\", \"\\u0431\\u0430\\u0440\\u0440\\u0435\\u043b\\u044c\", \"\\u0430\\u0432\\u0442\\u043e\\u0440\", \"\\u0441\\u0442\\u0430\\u0432\\u043a\\u0430\", \"\\u0447\\u0442\\u0435\\u043d\\u0438\\u0435\", \"\\u0440\\u043e\\u0441\\u0442\", \"\\u043a\\u043e\\u043d\\u043a\\u0443\\u0440\\u0441\", \"\\u0443\\u0432\\u0435\\u043b\\u0438\\u0447\\u0435\\u043d\\u0438\\u0435\", \"\\u0440\\u0430\\u0437\\u0440\\u0430\\u0431\\u043e\\u0442\\u043a\\u0430\", \"\\u043f\\u0440\\u043e\\u0438\\u0437\\u0432\\u043e\\u0434\\u0438\\u0442\\u0435\\u043b\\u044c\", \"\\u0442\\u043e\\u0440\\u0433\\u043e\\u0432\\u044b\\u0439\", \"\\u043d\\u0430\\u043f\\u0440\\u0438\\u043c\\u0435\\u0440\", \"\\u0430\\u043a\\u0446\\u0438\\u0437\", \"\\u0442\\u0440\\u0430\\u043d\\u0441\\u043f\\u043e\\u0440\\u0442\", \"\\u0431\\u0438\\u0440\\u0436\\u0430\", \"\\u043d\\u0430\\u0440\\u043a\\u043e\\u0442\\u0438\\u043a\", \"\\u043f\\u0440\\u043e\\u0434\\u0443\\u043a\\u0442\", \"\\u0430\\u0443\\u043a\\u0446\\u0438\\u043e\\u043d\", \"\\u043c\\u0443\\u0437\\u044b\\u043a\\u0430\", \"\\u043e\\u043f\\u0435\\u043a\", \"\\u0446\\u0435\\u043d\\u0430\", \"icann\", \"\\u0437\\u0430\\u043a\\u043e\\u043d\\u043e\\u043f\\u0440\\u043e\\u0435\\u043a\\u0442\", \"\\u043a\\u043e\\u043c\\u043f\\u0430\\u043d\\u0438\\u044f\", \"\\u0434\\u043e\\u0433\\u043e\\u0432\\u043e\\u0440\", \"\\u0437\\u0430\\u043a\\u043e\\u043d\", \"\\u043f\\u0440\\u043e\\u0434\\u0430\\u0436\\u0430\", \"\\u0441\\u0438\\u0441\\u0442\\u0435\\u043c\\u0430\", \"\\u0432\\u043d\\u043e\\u0441\\u0438\\u0442\\u044c\", \"\\u043d\\u043e\\u0432\\u044b\\u0439\", \"\\u0442\\u0430\\u043a\\u0436\\u0435\", \"\\u0442\\u0435\\u0445\\u043d\\u043e\\u043b\\u043e\\u0433\\u0438\\u044f\", \"\\u043a\\u043e\\u0442\\u043e\\u0440\\u044b\\u0439\", \"\\u0441\\u043e\\u0437\\u0434\\u0430\\u043d\\u0438\\u0435\", \"\\u0434\\u043e\\u043b\\u043b\\u0430\\u0440\", \"\\u0433\\u043e\\u0434\", \"\\u043f\\u0440\\u0435\\u0434\\u043b\\u0430\\u0433\\u0430\\u0442\\u044c\", \"\\u043f\\u0440\\u0430\\u0432\\u043e\", \"\\u0440\\u043e\\u0441\\u0441\\u0438\\u0439\\u0441\\u043a\\u0438\\u0439\", \"\\u0434\\u043e\\u043a\\u0443\\u043c\\u0435\\u043d\\u0442\", \"\\u0447\\u0430\\u0441\\u0442\\u043d\\u043e\\u0441\\u0442\\u044c\", \"\\u0437\\u0430\\u0434\\u0435\\u0440\\u0436\\u0438\\u0432\\u0430\\u0442\\u044c\", \"\\u043c\\u0438\\u043b\\u0438\\u0446\\u0438\\u044f\", \"\\u043d\\u0442\\u0432\", \"\\u043c\\u0438\\u043b\\u0438\\u0446\\u0438\\u043e\\u043d\\u0435\\u0440\", \"\\u0443\\u0441\\u0442\\u0440\\u043e\\u0439\\u0441\\u0442\\u0432\\u043e\", \"\\u043f\\u0440\\u0430\\u0432\\u043e\\u043e\\u0445\\u0440\\u0430\\u043d\\u0438\\u0442\\u0435\\u043b\\u044c\\u043d\\u044b\\u0439\", \"\\u0444\\u0440\\u0430\\u043d\\u0446\\u0443\\u0437\\u0441\\u043a\\u0438\\u0439\", \"\\u0432\\u0437\\u0440\\u044b\\u0432\\u043d\\u043e\\u0439\", \"\\u0444\\u0441\\u0431\", \"\\u0431\\u0430\\u043d\\u0434\\u0438\\u0442\", \"\\u043a\\u0438\\u043b\\u043e\\u0433\\u0440\\u0430\\u043c\\u043c\", \"\\u043f\\u043e\\u043c\\u0438\\u043c\\u043e\", \"\\u0437\\u0430\\u0434\\u0435\\u0440\\u0436\\u0430\\u043d\\u0438\\u0435\", \"\\u0447\\u0435\\u0442\\u0432\\u0435\\u0440\\u043e\", \"\\u0441\\u0442\\u0430\\u0440\\u0448\\u0438\\u0439\", \"\\u043f\\u0430\\u0442\\u0440\\u043e\\u043d\", \"\\u043a\\u0430\\u043c\\u0435\\u0440\\u0430\", \"\\u043e\\u0431\\u0435\\u0437\\u0432\\u0440\\u0435\\u0436\\u0438\\u0432\\u0430\\u0442\\u044c\", \"\\u0431\\u0435\\u0440\\u0435\\u0437\\u043e\\u0432\\u0441\\u043a\\u0438\\u0439\", \"\\u0433\\u0440\\u0430\\u043d\\u0430\\u0442\\u043e\\u043c\\u0435\\u0442\", \"\\u043a\\u043e\\u0440\\u043f\\u043e\\u0440\\u0430\\u0446\\u0438\\u044f\", \"\\u043c\\u0430\\u0440\\u043a\\u0430\", \"\\u0434\\u043e\\u043f\\u0440\\u043e\\u0441\", \"\\u0431\\u0438\\u0437\\u043d\\u0435\\u0441\\u043c\\u0435\\u043d\", \"\\u0432\\u0437\\u0440\\u044b\\u0432\\u0447\\u0430\\u0442\\u043a\\u0430\", \"\\u0445\\u043e\\u0437\\u044f\\u0438\\u043d\", \"\\u0432\\u044b\\u0435\\u0437\\u0436\\u0430\\u0442\\u044c\", \"\\u0432\\u044a\\u0435\\u0437\\u0434\", \"\\u043f\\u0435\\u0440\\u0435\\u0434\\u0432\\u0438\\u0436\\u0435\\u043d\\u0438\\u0435\", \"\\u043c\\u0430\\u0439\\u043e\\u0440\", \"\\u0437\\u0430\\u043a\\u043b\\u0430\\u0434\\u044b\\u0432\\u0430\\u0442\\u044c\", \"\\u0430\\u0432\\u0442\\u043e\\u043c\\u0430\\u0442\", \"\\u0441\\u043e\\u0442\\u0440\\u0443\\u0434\\u043d\\u0438\\u043a\", \"\\u043d\\u0435\\u0438\\u0437\\u0432\\u0435\\u0441\\u0442\\u043d\\u044b\\u0439\", \"\\u043e\\u0431\\u043d\\u0430\\u0440\\u0443\\u0436\\u0438\\u0432\\u0430\\u0442\\u044c\", \"\\u0443\\u043f\\u0440\\u0430\\u0432\\u043b\\u0435\\u043d\\u0438\\u0435\", \"\\u0443\\u0431\\u0438\\u0439\\u0441\\u0442\\u0432\\u043e\", \"\\u043a\\u043e\\u043c\\u0430\\u043d\\u0434\\u0438\\u0440\", \"\\u0441\\u043b\\u0435\\u0434\\u0441\\u0442\\u0432\\u0438\\u0435\", \"\\u043c\\u0432\\u0434\", \"\\u0441\\u043b\\u0443\\u0436\\u0431\\u0430\", \"\\u0434\\u0435\\u043b\\u043e\", \"\\u043f\\u0440\\u043e\\u043a\\u0443\\u0440\\u0430\\u0442\\u0443\\u0440\\u0430\", \"\\u043e\\u0440\\u0433\\u0430\\u043d\", \"\\u0444\\u0430\\u043a\\u0442\", \"\\u0436\\u0435\\u043d\\u0449\\u0438\\u043d\\u0430\", \"\\u043e\\u0440\\u0443\\u0436\\u0438\\u0435\", \"\\u043f\\u0440\\u0435\\u0441\\u0441\", \"\\u043d\\u043e\\u0432\\u043e\\u0441\\u0442\\u044c\", \"\\u0441\\u043e\\u043e\\u0431\\u0449\\u0430\\u0442\\u044c\", \"\\u0440\\u0438\\u0430\", \"\\u043c\\u043e\\u0441\\u043a\\u0432\\u0430\", \"\\u044d\\u0445\\u043e\", \"\\u0432\\u043d\\u0443\\u0442\\u0440\\u0435\\u043d\\u043d\\u0438\\u0439\"], \"Freq\": [3270.0, 7664.0, 4674.0, 3105.0, 3136.0, 1672.0, 8339.0, 1847.0, 3998.0, 1854.0, 1695.0, 6527.0, 2429.0, 2055.0, 1769.0, 2883.0, 1284.0, 1873.0, 4312.0, 1860.0, 2409.0, 1807.0, 3921.0, 2415.0, 1559.0, 2267.0, 2841.0, 1324.0, 1307.0, 1283.0, 823.0110433118972, 484.535814466718, 441.7166158093124, 399.6621538539712, 399.18795095849737, 337.6084578890033, 331.3415258918467, 321.92933041771397, 318.50456888559336, 317.92052867943, 313.14594983153785, 312.5812686371706, 309.76631597662714, 299.63120446794727, 296.4103813931067, 291.6222400897336, 284.7952529960382, 274.95845977182086, 268.97776990013693, 248.21874112427872, 241.5902675056709, 241.2080849417001, 230.95282494042388, 229.77016024377858, 218.77149189508472, 218.47152010577585, 215.95447699815995, 215.36686968041803, 209.27909214655296, 208.69754148701213, 846.4267527507068, 853.5036791780807, 2195.6088997167712, 233.84664420852437, 368.6712370891587, 921.9439168503235, 464.6046899937944, 388.0520602862661, 1686.5449200450948, 1462.5194629476316, 519.8329780550885, 375.8712660234049, 3738.3914944044586, 916.3586375813808, 1580.820489005579, 838.1509052588166, 1456.9199895471993, 427.2788060099469, 2069.592211314415, 1760.0669540499325, 485.6322553881755, 850.2081139684458, 2286.301076675321, 845.5620254522061, 1189.0136350513517, 555.927205294204, 968.7414481679463, 875.4556095176664, 1410.721287085826, 677.7435454979899, 1509.9767612776375, 815.9766992789923, 1268.4165726972044, 1069.4054112295141, 1723.4006141339944, 936.7981126116604, 789.2825170401951, 770.0629198549558, 978.0183163465676, 1209.0700171610595, 1063.0171602812743, 829.7480537317649, 1872.3604302709007, 1418.7576772554798, 997.3421458503256, 655.920817161846, 644.6130855295021, 627.6146301572464, 627.2477652418837, 617.36609556853, 584.8603910203163, 521.0425945136957, 482.6117485607177, 466.2816565549496, 463.26714824426585, 460.31626032908105, 390.7097697529529, 387.4354146672394, 383.70457371980905, 377.5851107377744, 372.90110673921487, 349.85588833786517, 346.6453441278767, 343.73725077014336, 340.81461742182194, 328.64597866116327, 320.23360995811197, 308.7661606562293, 305.6566027127491, 296.80765333160264, 293.94079894280804, 270.66332165250077, 454.76007912216585, 635.9325206681794, 434.67536788741614, 864.9207371577037, 566.697466532839, 1361.6275779918906, 576.4121485413599, 2988.48109259701, 916.2272844704195, 1700.5749495044977, 1266.164349131284, 773.7047093906314, 1094.293914184065, 895.3221431553895, 1390.119864177336, 830.9985581552107, 803.0097747006108, 764.0800610356209, 870.8074650502157, 958.6755488709125, 836.7781091738681, 627.0791267484252, 666.7013630219061, 576.6872654811776, 1768.4247426394427, 1558.5119187396517, 1040.9392095721773, 1016.5766299845166, 749.5012205928908, 678.1328099867098, 657.4166178889702, 581.7341480040576, 524.5758222460648, 502.84974130047254, 488.4809951969767, 478.46918231672555, 477.4357266296954, 487.19289594014833, 466.12541410349536, 453.543681667913, 421.84918733816056, 413.2022042451115, 377.9099497766984, 370.2281283261616, 354.0124003536527, 351.4102838490226, 349.5132086164527, 346.43035072108916, 337.88975033165116, 324.00318397057566, 322.2295027163753, 305.0376871606556, 302.96062434295897, 302.81562742867675, 427.51963991823845, 1419.2741646117422, 1229.6907821695738, 1829.4593155511654, 1688.3083323948179, 775.3962532604951, 2821.7968429082184, 1746.0124572967666, 528.9177634190346, 868.8948663150655, 907.3058821497957, 720.2341383590301, 901.5171804646899, 669.4836693661305, 1033.1430115019234, 721.8197551301697, 757.3058828096099, 660.6707779381205, 1070.3445395316357, 783.9989793785629, 884.9228617318261, 885.8493815030579, 855.9492585633095, 648.3576576800648, 737.0740833030397, 785.3051686739149, 711.5022925164545, 670.2896442017571, 1030.4802291549095, 671.3066625571691, 914.506317892115, 564.1352864817306, 562.9673620446397, 501.37610685034235, 441.85673162363713, 421.10433345761675, 401.84179141507184, 389.7208130493309, 365.68335482008825, 344.8985158042524, 342.2029100204572, 330.7258757930865, 327.853985623738, 316.82546970169983, 316.72136284175264, 310.695091351924, 288.9420881526327, 270.95208892260024, 268.61360170544583, 263.744324374679, 257.2732767190402, 241.75333187051746, 241.2879873982682, 240.36876716914017, 238.37986039584786, 237.69475272273252, 231.25461137048634, 226.05739877697917, 396.09308437470173, 1356.9513730767626, 1505.9032792467397, 699.7905901948949, 565.3411169076516, 610.3036501582809, 824.383914105257, 1040.7038620172523, 550.4772310376791, 735.6342563201338, 2425.8045239241005, 1241.0061066805272, 518.3863654940807, 1248.750666335893, 1087.728717972665, 652.2949246282184, 1040.1130885663388, 595.5028691447129, 511.98762997338326, 620.7750180413722, 528.5169025401066, 1723.8240552182597, 566.9792586749309, 1050.7875011708477, 810.3387760565192, 1188.4620526014885, 649.5892769880072, 618.4476226334493, 672.9670417866456, 681.4302537614918, 620.649185234702, 590.3784532797544, 3269.302135038428, 1846.3290411575156, 1306.4701019643153, 836.0900869870545, 727.3707311286948, 610.3118513253487, 607.0605315390955, 600.6283360086276, 564.999496340565, 514.7479633764469, 504.24994958832815, 436.47485834517414, 436.31127832334926, 413.41515619510074, 392.53004784398047, 379.3952050544104, 377.1149021336936, 374.285040955922, 322.4356855517202, 300.00789143278433, 296.5187584165918, 285.85331085251454, 285.5635042358016, 266.8913334607956, 262.7324222820639, 259.18098331915365, 244.899444146004, 242.50860952851846, 241.8533636790527, 241.7219269808109, 648.1775046216715, 1560.0165522705865, 885.5850354385415, 537.5853534305262, 450.43845203763016, 1158.725952460192, 1565.1586228697781, 454.82940657977707, 571.6549512585458, 588.9579628485092, 1304.8122556889002, 1312.7090500249358, 703.934825069518, 1338.1533863389168, 494.37684679171883, 841.312849600171, 507.32632185453025, 632.0298442150737, 543.0101474893921, 527.2556561218265, 496.7904594643624, 1282.4685094881274, 684.2231791714, 377.82062565128507, 338.25890993064155, 323.36834599744213, 316.4592535301958, 304.26011456396213, 288.2042637357938, 278.8709374608573, 262.48158342872324, 262.1910347187345, 262.01668877893036, 258.17610574450055, 239.7906630627838, 238.8090818417151, 225.93633451225017, 215.19940329137455, 211.2144129308901, 198.10426681005373, 196.89592095978983, 190.889436957176, 185.74643020945794, 185.413846265091, 184.75630405257382, 182.38421733484788, 180.34586363598729, 170.44739118433756, 167.77384999501976, 167.7630382486029, 167.4059058944972, 258.710320924943, 330.2658850429136, 238.66674284975758, 280.1783335328841, 273.3969554730701, 317.1787621965727, 554.4173307983888, 445.5112672477232, 542.247044048197, 834.2051879244497, 616.7875903290817, 343.28306059069683, 400.36605229346225, 484.60223848476375, 871.2526032889914, 583.5486674820687, 1058.144598096573, 467.7887715013985, 528.9302316557557, 505.4825517174274, 816.58448565982, 996.1834926563682, 543.2505830383171, 392.3051066567465, 614.7716122445446, 560.18860969731, 462.74634011068673, 421.17353509519035, 539.6304551694731, 673.8119792324281, 409.3623027873562, 450.3423942843093, 414.93815545249333, 384.17066203665973, 1694.4080936354853, 1021.281714768664, 947.358690749548, 889.478939800582, 608.3635352134728, 513.4131977690946, 496.812582169323, 440.58987582646995, 434.2518298343417, 395.1848423163947, 370.9115959645798, 368.2219877019731, 356.4869736072396, 323.3516797461961, 301.68406773870726, 290.8114301594184, 284.77412275995965, 279.8721427356566, 237.79206924322864, 235.44079953136762, 224.19018771190457, 216.74763531729377, 212.79424503120362, 210.1210447632961, 207.0633559148871, 195.69768455939428, 192.93540068751184, 187.5034790775883, 187.1532518557454, 216.6992866976776, 1018.8584615961869, 940.1944635454183, 1776.24742544951, 478.591605842406, 688.9977547815862, 1611.4377094821446, 796.1571874380123, 999.8704624103652, 745.0930650564147, 1018.10483384958, 1688.0246915488287, 449.39942182412375, 3019.7696876567047, 1130.279249977673, 906.5562015391719, 679.8193342629028, 732.6781166900263, 741.8281591136591, 1170.6568413402056, 690.5125017661763, 661.4620453646385, 696.5958370515096, 655.3097802157175, 641.0030674183002, 700.655468551939, 657.1915825053879, 573.5447505768203, 389.94252619267314, 372.4609319984932, 368.1382086973851, 334.4526307802472, 332.7516870878088, 327.2806652441441, 320.71099460732415, 319.5163132186166, 313.7021947335708, 308.26057501916114, 300.03618198589305, 290.96345315853114, 288.77294067897196, 288.2307244894671, 273.56688819895527, 269.6889124903708, 259.6295250312839, 257.8137371245756, 257.43703804976013, 238.04127190097984, 235.40125507416403, 225.420757943573, 211.05121219588014, 201.32309231640437, 201.02881972360325, 192.5268655641619, 187.4393099520459, 541.7109683022184, 1006.7772989430499, 477.2620394755574, 380.109255108572, 646.5692645361854, 473.00206943688875, 946.7305401965466, 305.42289259566815, 689.5300474821489, 772.6644782008776, 427.7697117307091, 420.95789535295427, 382.7416970278507, 785.3649056377983, 377.1366603508412, 470.8926192379866, 387.71446227575035, 521.9141449043863, 443.782061062991, 377.8134837242803, 1102.539707068881, 729.9293530029689, 724.722013134206, 450.88719606099033, 445.5522234257583, 433.3495619946617, 418.23637296741623, 396.32579262830154, 346.8613899281546, 334.3511328881743, 331.07063710948256, 298.4240171060058, 297.87726246211434, 293.82628572465205, 290.34686507112156, 289.6320830773058, 284.7058689752102, 281.17450326162106, 274.5639088241569, 271.73583879709446, 267.525978837019, 261.01470245601666, 229.0104654173116, 222.56220330311305, 285.7132951276396, 216.24840798737404, 211.08489576039014, 200.38727747306345, 193.69597408033206, 191.1095977761987, 551.8433346978062, 332.2387111406728, 580.6829496974132, 1649.303848018909, 286.23794344269817, 930.2763481888775, 295.48734051421286, 751.8892474602492, 338.56859691201373, 748.3247062110821, 876.1227086649509, 338.37589646067795, 694.9880062295982, 350.122763251136, 424.86538399813156, 391.67438361539854, 320.08603760554377, 327.017414446014, 348.52472272837895, 316.47616073570777, 305.1422555684835, 1283.6053977592949, 1005.7665378051013, 639.1407514669542, 528.9831624742799, 517.426946197814, 449.4298550504142, 436.3488779004734, 426.6630295360621, 413.83627245902414, 326.29788583881816, 290.87672524584826, 269.13756434636036, 247.10786258716573, 224.81018056903113, 222.1398142624778, 214.7086524996222, 204.9770089134739, 184.26458426140042, 180.40799326649852, 172.96539859491153, 169.49299911588736, 168.55710298756975, 162.50354949871132, 160.76265705250083, 155.0687251355057, 153.18200269549945, 151.3567305502539, 151.39855795494512, 150.96484503016876, 134.59473830968818, 199.86086491904987, 251.4992949720628, 1542.125363473045, 357.1806522078482, 958.6192061055367, 827.7631434072609, 444.25556727543426, 294.03205544735295, 444.38945566600563, 658.2861300158178, 824.482114796523, 1261.7363162862816, 533.8977108411073, 577.2250521145451, 449.9559977645781, 390.59315629082727, 435.8317390788364, 624.5471712419225, 1054.1641388296898, 1424.006807403001, 980.3331357581692, 826.0161847792208, 446.95729459748424, 433.97627591542823], \"Total\": [3270.0, 7664.0, 4674.0, 3105.0, 3136.0, 1672.0, 8339.0, 1847.0, 3998.0, 1854.0, 1695.0, 6527.0, 2429.0, 2055.0, 1769.0, 2883.0, 1284.0, 1873.0, 4312.0, 1860.0, 2409.0, 1807.0, 3921.0, 2415.0, 1559.0, 2267.0, 2841.0, 1324.0, 1307.0, 1283.0, 824.0263527265456, 485.55123151089293, 442.731611013399, 400.6773096516746, 400.2029816867928, 338.62424609362256, 332.35650773803883, 322.94436802864385, 319.5199778310601, 318.9357609236413, 314.1609662991644, 313.5966188585972, 310.7814777886626, 300.6464432090832, 297.4256520882328, 292.6375340095666, 285.8102619377757, 275.97360728650676, 269.99282920292984, 249.23388278272216, 242.60532405369878, 242.22352495778057, 231.96831513011313, 230.78518926533894, 219.7867323105767, 219.48688967110002, 216.96970742313403, 216.3820801910942, 210.29411234716045, 209.71279032580995, 852.3080025456346, 871.9210421427586, 2409.5864569398095, 235.74971377975316, 380.69738578696547, 1005.6494789124213, 487.87246527289733, 409.938651914887, 2184.482901659991, 1888.9406505567833, 586.3021574515958, 403.57604871963474, 6527.817496859349, 1220.3665734111603, 2421.2025117611374, 1130.820638282802, 2501.5667777310227, 486.52815269394017, 4332.351836001756, 3770.988180309523, 588.7692356493671, 1334.8003775124876, 5888.883942560917, 1375.836045644596, 2406.003577410924, 738.484514520994, 1871.1503894676564, 1660.7434490486326, 3792.52422391851, 1099.871913624586, 4674.305858587742, 1557.8030231161965, 4083.609795380945, 2883.5435483524275, 9369.638662465883, 2443.2637993055914, 1729.6716266484573, 1654.6344268047844, 3220.6420532837597, 8339.18453646201, 7664.026384503381, 2553.470948468687, 1873.3883253161612, 1419.7855166991392, 998.3702364806782, 656.948646242706, 645.6409742191108, 628.6425614821246, 628.2774373428456, 618.3943884340541, 585.88860702733, 522.0710274842011, 483.6395835619618, 467.30982658470134, 464.29518979662936, 461.34413365583924, 391.73842860592714, 388.46344058206256, 384.7326060217776, 378.61330649686215, 373.92897906014724, 350.8839574243054, 347.6734906815467, 344.76577791609634, 341.8426137992889, 329.67389730762727, 321.261618575735, 309.7940515682039, 306.684500623953, 297.83565981112116, 294.96874596400824, 271.6912546411059, 461.7971259939155, 652.8959454657579, 447.0400807458953, 982.292112303198, 653.1148695224218, 2293.195299092948, 753.444500440464, 9369.638662465883, 1531.5650311371746, 4701.469850503341, 3105.1611277296693, 1548.452380709375, 3136.5487736979485, 2553.470948468687, 7664.026384503381, 2427.496875596281, 2249.0937653512024, 2421.2025117611374, 4095.297645151247, 5888.883942560917, 3642.083638306753, 1476.3290791540792, 3792.52422391851, 1369.2384228903593, 1769.4480413338817, 1559.5352647751945, 1041.9630027318542, 1017.5999574063834, 750.5245300252687, 679.1560928524465, 658.4404443607555, 582.7577436301992, 525.5992036147802, 503.87297631687846, 489.50442440734884, 479.4927817184697, 478.4590986371851, 488.2391255700189, 467.14920256049425, 454.56700538672186, 422.8724660392755, 414.22594011451775, 378.9334099405996, 371.25170126178625, 355.0356990711067, 352.4336144421212, 350.53675624518166, 347.45402698332384, 338.9131230939058, 325.02644475896375, 323.2528573151712, 306.06096887019356, 303.98410862921236, 303.8392557084363, 432.2637244502231, 1553.1062728309055, 1437.2487858915963, 2415.018852158153, 2267.1637491721913, 915.2720094623677, 4674.305858587742, 2883.5435483524275, 611.7275190804563, 1199.8611848500684, 1277.1395694407008, 1063.9819007500682, 1871.1503894676564, 1062.0733649478477, 2972.35754949964, 1435.5737122502567, 1789.0173232671434, 1262.2266546258288, 6527.817496859349, 2503.8237904321304, 3921.0093345977057, 4312.243951424176, 4701.469850503341, 1501.3819774207336, 3792.52422391851, 9369.638662465883, 8339.18453646201, 3770.988180309523, 1031.6091834004108, 672.3539890638559, 916.1756634655281, 565.1824108712823, 564.0151757760875, 502.4232735367533, 442.90392672795645, 422.15144476548846, 402.88913063738397, 390.76801067183584, 366.73059352679337, 345.9457424598812, 343.25036476637007, 331.7730473658539, 328.9012511507077, 317.87256023033797, 317.76854087801433, 311.74248419106345, 289.9896138931022, 271.9992593932488, 269.66089460683145, 264.79160569292117, 258.3206002360803, 242.80073671870664, 242.3353507839914, 241.41599579863077, 239.42707307353558, 238.7420194022329, 232.30216098845546, 227.10554921807474, 403.8274448645512, 1490.7916068778038, 1676.448405238606, 744.3623579071946, 604.6931323073208, 670.2356998878985, 954.3925064537874, 1294.694469019153, 629.6258928842826, 892.579621504731, 3998.4081122558205, 1778.2131924183093, 615.604416318303, 2119.6080318155755, 1796.4325245248556, 885.0713169558442, 1761.030901989341, 812.2382797686705, 654.2497024546012, 970.0734063821835, 720.4795226575023, 8339.18453646201, 911.5065146942442, 4095.297645151247, 2249.0937653512024, 9369.638662465883, 1427.055846834572, 1717.620483874757, 3642.083638306753, 4312.243951424176, 3921.0093345977057, 1907.1458683987262, 3270.3359222168333, 1847.3627662439687, 1307.5038790902322, 837.1238519676317, 728.4045293274571, 611.3456828927349, 608.0942880836812, 601.6620666223471, 566.0332285434596, 515.7817106545838, 505.28381358866244, 437.5090814705616, 437.3453365202199, 414.44949945297435, 393.5638243333646, 380.4290583143315, 378.14869397583794, 375.31890554419675, 323.46961956135533, 301.0415927916973, 297.5525741210253, 286.8872562559652, 286.59738326553617, 267.9250524973366, 263.7662170931803, 260.21502817821835, 245.9332884681162, 243.5423450418733, 242.88712400229113, 242.75566666077512, 666.546300472738, 1807.3088921066487, 986.8213564771484, 580.5228311885533, 478.81152525286853, 1446.5665024734333, 2055.4702617814187, 499.4716074702977, 659.4974958473806, 685.7711858259536, 1819.3389936834492, 2210.353884248644, 1446.3628808795215, 8339.18453646201, 812.0485470353044, 3998.4081122558205, 1012.669176599575, 3792.52422391851, 4095.297645151247, 5888.883942560917, 6527.817496859349, 1283.497550645296, 685.2525308909424, 378.84974458973255, 339.28795596485054, 324.397379324711, 317.48821977044054, 305.28923055729047, 289.2332606359438, 279.89997859244534, 263.5108716655149, 263.22011232703727, 263.04585248697236, 259.2051094755106, 240.82037976678345, 239.8382743592873, 226.96703152757394, 216.22918206922992, 212.24361988654337, 199.13409222123406, 197.9254728875464, 191.9192299153754, 186.775751826089, 186.44345903346755, 185.78535216707314, 183.41321771622455, 181.37479921166138, 171.4763811987653, 168.8031550758672, 168.79264988101846, 168.43532292264888, 266.5580344493238, 354.3804866858599, 252.0726333816602, 309.0242806014322, 301.7118943945778, 376.77282386409627, 843.3655511443185, 627.036435080695, 826.3586376176281, 1659.3585664976736, 1081.9063577196866, 458.4518029926969, 601.9108219899135, 892.5081759633996, 2501.5667777310227, 1247.7659891605977, 4701.469850503341, 943.6757314743246, 1258.5931841358351, 1262.2266546258288, 4332.351836001756, 7664.026384503381, 1668.0392585627487, 800.5208683231881, 2972.35754949964, 2530.27985000305, 1368.8636802991693, 1099.871913624586, 3136.5487736979485, 9369.638662465883, 1085.2269014028495, 3770.988180309523, 3998.4081122558205, 1907.1458683987262, 1695.4283273826518, 1022.302071719625, 948.379227984374, 890.4992570246967, 609.3837728652834, 514.4336545525064, 497.83282013232935, 441.61038231051907, 435.27207489923023, 396.20520708666214, 371.93206450197965, 369.2426731415962, 357.5072432692875, 324.37193697234335, 302.70432540018396, 291.83193600690464, 285.803485517339, 280.8935191801308, 238.8126856945032, 236.46103260476994, 225.21055081910237, 217.76869228277525, 213.81500665065337, 211.14134465941277, 208.0838354889657, 196.71796553405167, 193.95630274886778, 188.5237492447103, 188.17354818297233, 217.951547250212, 1036.0500952762927, 964.3834417686975, 1854.1301198387534, 495.5593942291943, 743.1753627468555, 1860.853432759186, 887.844155182615, 1167.1719560957647, 866.4715987629772, 1236.539486598129, 2429.880829143838, 518.3021411293695, 7664.026384503381, 2042.8008930493868, 1729.6716266484573, 1147.9788746993886, 1668.0392585627487, 2293.195299092948, 8339.18453646201, 2841.405480940096, 2503.8237904321304, 4312.243951424176, 3921.0093345977057, 6527.817496859349, 701.7022086905475, 658.2383500929549, 574.5915019629103, 390.989526816632, 373.50787886112107, 369.1852389080226, 335.4996434540778, 333.7984156491285, 328.3277768672984, 321.7579812774729, 320.56306307650937, 314.7490244577588, 309.3074260618786, 301.0829284547838, 292.0105339126136, 289.819737918422, 289.27767128805743, 274.6136249830851, 270.73595683025417, 260.6764477449958, 258.8608902864458, 258.4845922848127, 239.08814033094137, 236.44829687687593, 226.46750759820821, 212.097933267102, 202.37014054746192, 202.07570154376174, 193.57361927884222, 188.4860571777716, 593.7708857629673, 1428.5719561542423, 582.7376121588763, 444.42506583520446, 1013.4524984881853, 654.1316025262558, 2564.7976692970265, 369.5012372361505, 1559.1212093490192, 2242.5205536136705, 795.1899281771018, 1006.128290110947, 759.6823370521981, 7664.026384503381, 734.2034728431787, 1796.4325245248556, 1101.3081297591282, 9369.638662465883, 4701.469850503341, 2427.496875596281, 1103.571288342183, 730.9608379749184, 725.7536421803708, 451.9189290600578, 446.5837056730981, 434.3811528033822, 419.2679009331409, 397.3572326027002, 347.89292513718135, 335.3830569350818, 332.1022224653624, 299.4554452529198, 298.90890109787915, 294.85773553873923, 291.37848486414737, 290.66553559389257, 285.7374677676372, 282.2059989170882, 275.5953849640116, 272.7716101565466, 268.5589594357012, 262.04645877992306, 230.0420477675559, 223.59400252233297, 287.0666379642212, 217.28049876659836, 212.11646588367887, 201.42579301515235, 194.72763282107906, 192.14102301934076, 618.6962557801472, 357.91003568890653, 760.6178873300768, 3105.1611277296693, 317.3948125519846, 1789.0173232671434, 337.603331928355, 1553.151896699634, 438.54096203236037, 2443.2637993055914, 4083.609795380945, 470.00229223470814, 9369.638662465883, 824.1299303398907, 2429.880829143838, 7664.026384503381, 959.4283401637576, 1368.8636802991693, 4332.351836001756, 1234.6381089986107, 963.3601808761982, 1284.650713916717, 1006.8175731331263, 640.186467485529, 530.0284683677937, 518.4722724270353, 450.4751994515659, 437.39478569140886, 427.70830244347223, 414.88157750839576, 327.3433844248324, 291.9220703140956, 270.18374034013766, 248.15323665209954, 225.8557140669622, 223.18564117529326, 215.75396175198017, 206.02260709319512, 185.3098840279243, 181.4535908270778, 174.01066310591932, 170.53880684434682, 169.60292254562083, 163.5491391194932, 161.80833439192872, 156.1140092657899, 154.22793273759436, 152.40209310917544, 152.44441427932887, 152.01109171940283, 135.64036733392263, 202.97217135224312, 256.7016693075195, 1672.660463249131, 403.0313617264115, 1324.6349443390495, 1166.056257116834, 580.1383440950419, 347.24325400279434, 596.0763846967443, 1044.8017187251362, 1463.2516499044245, 3136.5487736979485, 914.2246805349258, 1061.9052667958504, 782.5200119651744, 619.868783438429, 775.1495108566005, 1575.166169844925, 4312.243951424176, 8339.18453646201, 3921.0093345977057, 2841.405480940096, 904.2788094241846, 882.4323661353422], \"Category\": [\"Default\", \"Default\", \"Default\", \"Default\", \"Default\", \"Default\", \"Default\", \"Default\", \"Default\", \"Default\", \"Default\", \"Default\", \"Default\", \"Default\", \"Default\", \"Default\", \"Default\", \"Default\", \"Default\", \"Default\", \"Default\", \"Default\", \"Default\", \"Default\", \"Default\", \"Default\", \"Default\", \"Default\", \"Default\", \"Default\", \"Topic1\", \"Topic1\", \"Topic1\", \"Topic1\", \"Topic1\", \"Topic1\", \"Topic1\", \"Topic1\", \"Topic1\", \"Topic1\", \"Topic1\", \"Topic1\", \"Topic1\", \"Topic1\", \"Topic1\", \"Topic1\", \"Topic1\", \"Topic1\", \"Topic1\", \"Topic1\", \"Topic1\", \"Topic1\", \"Topic1\", \"Topic1\", \"Topic1\", \"Topic1\", \"Topic1\", \"Topic1\", \"Topic1\", \"Topic1\", \"Topic1\", \"Topic1\", \"Topic1\", \"Topic1\", \"Topic1\", \"Topic1\", \"Topic1\", \"Topic1\", \"Topic1\", \"Topic1\", \"Topic1\", \"Topic1\", \"Topic1\", \"Topic1\", \"Topic1\", \"Topic1\", \"Topic1\", \"Topic1\", \"Topic1\", \"Topic1\", \"Topic1\", \"Topic1\", \"Topic1\", \"Topic1\", \"Topic1\", \"Topic1\", \"Topic1\", \"Topic1\", \"Topic1\", \"Topic1\", \"Topic1\", \"Topic1\", \"Topic1\", \"Topic1\", \"Topic1\", \"Topic1\", \"Topic1\", \"Topic1\", \"Topic1\", \"Topic1\", \"Topic1\", \"Topic1\", \"Topic2\", \"Topic2\", \"Topic2\", \"Topic2\", \"Topic2\", \"Topic2\", \"Topic2\", \"Topic2\", \"Topic2\", \"Topic2\", \"Topic2\", \"Topic2\", \"Topic2\", \"Topic2\", \"Topic2\", \"Topic2\", \"Topic2\", \"Topic2\", \"Topic2\", \"Topic2\", \"Topic2\", \"Topic2\", \"Topic2\", \"Topic2\", \"Topic2\", \"Topic2\", \"Topic2\", \"Topic2\", \"Topic2\", \"Topic2\", \"Topic2\", \"Topic2\", \"Topic2\", \"Topic2\", \"Topic2\", \"Topic2\", \"Topic2\", \"Topic2\", \"Topic2\", \"Topic2\", \"Topic2\", \"Topic2\", \"Topic2\", \"Topic2\", \"Topic2\", \"Topic2\", \"Topic2\", \"Topic2\", \"Topic2\", \"Topic2\", \"Topic2\", \"Topic2\", \"Topic2\", \"Topic2\", \"Topic3\", \"Topic3\", \"Topic3\", \"Topic3\", \"Topic3\", \"Topic3\", \"Topic3\", \"Topic3\", \"Topic3\", \"Topic3\", \"Topic3\", \"Topic3\", \"Topic3\", \"Topic3\", \"Topic3\", \"Topic3\", \"Topic3\", \"Topic3\", \"Topic3\", \"Topic3\", \"Topic3\", \"Topic3\", \"Topic3\", \"Topic3\", \"Topic3\", \"Topic3\", \"Topic3\", \"Topic3\", \"Topic3\", \"Topic3\", \"Topic3\", \"Topic3\", \"Topic3\", \"Topic3\", \"Topic3\", \"Topic3\", \"Topic3\", \"Topic3\", \"Topic3\", \"Topic3\", \"Topic3\", \"Topic3\", \"Topic3\", \"Topic3\", \"Topic3\", \"Topic3\", \"Topic3\", \"Topic3\", \"Topic3\", \"Topic3\", \"Topic3\", \"Topic3\", \"Topic3\", \"Topic3\", \"Topic3\", \"Topic3\", \"Topic3\", \"Topic3\", \"Topic4\", \"Topic4\", \"Topic4\", \"Topic4\", \"Topic4\", \"Topic4\", \"Topic4\", \"Topic4\", \"Topic4\", \"Topic4\", \"Topic4\", \"Topic4\", \"Topic4\", \"Topic4\", \"Topic4\", \"Topic4\", \"Topic4\", \"Topic4\", \"Topic4\", \"Topic4\", \"Topic4\", \"Topic4\", \"Topic4\", \"Topic4\", \"Topic4\", \"Topic4\", \"Topic4\", \"Topic4\", \"Topic4\", \"Topic4\", \"Topic4\", \"Topic4\", \"Topic4\", \"Topic4\", \"Topic4\", \"Topic4\", \"Topic4\", \"Topic4\", \"Topic4\", \"Topic4\", \"Topic4\", \"Topic4\", \"Topic4\", \"Topic4\", \"Topic4\", \"Topic4\", \"Topic4\", \"Topic4\", \"Topic4\", \"Topic4\", \"Topic4\", \"Topic4\", \"Topic4\", \"Topic4\", \"Topic4\", \"Topic4\", \"Topic4\", \"Topic4\", \"Topic4\", \"Topic4\", \"Topic4\", \"Topic4\", \"Topic5\", \"Topic5\", \"Topic5\", \"Topic5\", \"Topic5\", \"Topic5\", \"Topic5\", \"Topic5\", \"Topic5\", \"Topic5\", \"Topic5\", \"Topic5\", \"Topic5\", \"Topic5\", \"Topic5\", \"Topic5\", \"Topic5\", \"Topic5\", \"Topic5\", \"Topic5\", \"Topic5\", \"Topic5\", \"Topic5\", \"Topic5\", \"Topic5\", \"Topic5\", \"Topic5\", \"Topic5\", \"Topic5\", \"Topic5\", \"Topic5\", \"Topic5\", \"Topic5\", \"Topic5\", \"Topic5\", \"Topic5\", \"Topic5\", \"Topic5\", \"Topic5\", \"Topic5\", \"Topic5\", \"Topic5\", \"Topic5\", \"Topic5\", \"Topic5\", \"Topic5\", \"Topic5\", \"Topic5\", \"Topic5\", \"Topic5\", \"Topic5\", \"Topic6\", \"Topic6\", \"Topic6\", \"Topic6\", \"Topic6\", \"Topic6\", \"Topic6\", \"Topic6\", \"Topic6\", \"Topic6\", \"Topic6\", \"Topic6\", \"Topic6\", \"Topic6\", \"Topic6\", \"Topic6\", \"Topic6\", \"Topic6\", \"Topic6\", \"Topic6\", \"Topic6\", \"Topic6\", \"Topic6\", \"Topic6\", \"Topic6\", \"Topic6\", \"Topic6\", \"Topic6\", \"Topic6\", \"Topic6\", \"Topic6\", \"Topic6\", \"Topic6\", \"Topic6\", \"Topic6\", \"Topic6\", \"Topic6\", \"Topic6\", \"Topic6\", \"Topic6\", \"Topic6\", \"Topic6\", \"Topic6\", \"Topic6\", \"Topic6\", \"Topic6\", \"Topic6\", \"Topic6\", \"Topic6\", \"Topic6\", \"Topic6\", \"Topic6\", \"Topic6\", \"Topic6\", \"Topic6\", \"Topic6\", \"Topic6\", \"Topic6\", \"Topic6\", \"Topic6\", \"Topic6\", \"Topic6\", \"Topic6\", \"Topic6\", \"Topic7\", \"Topic7\", \"Topic7\", \"Topic7\", \"Topic7\", \"Topic7\", \"Topic7\", \"Topic7\", \"Topic7\", \"Topic7\", \"Topic7\", \"Topic7\", \"Topic7\", \"Topic7\", \"Topic7\", \"Topic7\", \"Topic7\", \"Topic7\", \"Topic7\", \"Topic7\", \"Topic7\", \"Topic7\", \"Topic7\", \"Topic7\", \"Topic7\", \"Topic7\", \"Topic7\", \"Topic7\", \"Topic7\", \"Topic7\", \"Topic7\", \"Topic7\", \"Topic7\", \"Topic7\", \"Topic7\", \"Topic7\", \"Topic7\", \"Topic7\", \"Topic7\", \"Topic7\", \"Topic7\", \"Topic7\", \"Topic7\", \"Topic7\", \"Topic7\", \"Topic7\", \"Topic7\", \"Topic7\", \"Topic7\", \"Topic7\", \"Topic7\", \"Topic7\", \"Topic7\", \"Topic7\", \"Topic8\", \"Topic8\", \"Topic8\", \"Topic8\", \"Topic8\", \"Topic8\", \"Topic8\", \"Topic8\", \"Topic8\", \"Topic8\", \"Topic8\", \"Topic8\", \"Topic8\", \"Topic8\", \"Topic8\", \"Topic8\", \"Topic8\", \"Topic8\", \"Topic8\", \"Topic8\", \"Topic8\", \"Topic8\", \"Topic8\", \"Topic8\", \"Topic8\", \"Topic8\", \"Topic8\", \"Topic8\", \"Topic8\", \"Topic8\", \"Topic8\", \"Topic8\", \"Topic8\", \"Topic8\", \"Topic8\", \"Topic8\", \"Topic8\", \"Topic8\", \"Topic8\", \"Topic8\", \"Topic8\", \"Topic8\", \"Topic8\", \"Topic8\", \"Topic8\", \"Topic8\", \"Topic8\", \"Topic8\", \"Topic8\", \"Topic8\", \"Topic9\", \"Topic9\", \"Topic9\", \"Topic9\", \"Topic9\", \"Topic9\", \"Topic9\", \"Topic9\", \"Topic9\", \"Topic9\", \"Topic9\", \"Topic9\", \"Topic9\", \"Topic9\", \"Topic9\", \"Topic9\", \"Topic9\", \"Topic9\", \"Topic9\", \"Topic9\", \"Topic9\", \"Topic9\", \"Topic9\", \"Topic9\", \"Topic9\", \"Topic9\", \"Topic9\", \"Topic9\", \"Topic9\", \"Topic9\", \"Topic9\", \"Topic9\", \"Topic9\", \"Topic9\", \"Topic9\", \"Topic9\", \"Topic9\", \"Topic9\", \"Topic9\", \"Topic9\", \"Topic9\", \"Topic9\", \"Topic9\", \"Topic9\", \"Topic9\", \"Topic9\", \"Topic9\", \"Topic9\", \"Topic9\", \"Topic9\", \"Topic9\", \"Topic10\", \"Topic10\", \"Topic10\", \"Topic10\", \"Topic10\", \"Topic10\", \"Topic10\", \"Topic10\", \"Topic10\", \"Topic10\", \"Topic10\", \"Topic10\", \"Topic10\", \"Topic10\", \"Topic10\", \"Topic10\", \"Topic10\", \"Topic10\", \"Topic10\", \"Topic10\", \"Topic10\", \"Topic10\", \"Topic10\", \"Topic10\", \"Topic10\", \"Topic10\", \"Topic10\", \"Topic10\", \"Topic10\", \"Topic10\", \"Topic10\", \"Topic10\", \"Topic10\", \"Topic10\", \"Topic10\", \"Topic10\", \"Topic10\", \"Topic10\", \"Topic10\", \"Topic10\", \"Topic10\", \"Topic10\", \"Topic10\", \"Topic10\", \"Topic10\", \"Topic10\", \"Topic10\", \"Topic10\", \"Topic10\", \"Topic10\", \"Topic10\", \"Topic10\", \"Topic10\", \"Topic10\"], \"logprob\": [30.0, 29.0, 28.0, 27.0, 26.0, 25.0, 24.0, 23.0, 22.0, 21.0, 20.0, 19.0, 18.0, 17.0, 16.0, 15.0, 14.0, 13.0, 12.0, 11.0, 10.0, 9.0, 8.0, 7.0, 6.0, 5.0, 4.0, 3.0, 2.0, 1.0, -5.267399787902832, -5.7972002029418945, -5.889699935913086, -5.989699840545654, -5.990900039672852, -6.1585001945495605, -6.177199840545654, -6.205999851226807, -6.216700077056885, -6.218599796295166, -6.233699798583984, -6.235499858856201, -6.244500160217285, -6.2778000831604, -6.288599967956543, -6.304900169372559, -6.32859992980957, -6.363699913024902, -6.385700225830078, -6.466100215911865, -6.493100166320801, -6.494699954986572, -6.538099765777588, -6.543300151824951, -6.592299938201904, -6.593699932098389, -6.605299949645996, -6.607999801635742, -6.63670015335083, -6.639500141143799, -5.239299774169922, -5.230999946594238, -4.286099910736084, -6.525700092315674, -6.070499897003174, -5.153900146484375, -5.839200019836426, -6.019199848175049, -4.549900054931641, -4.692399978637695, -5.726900100708008, -6.05109977722168, -3.753999948501587, -5.159999847412109, -4.614699840545654, -5.249199867248535, -4.696300029754639, -5.922900199890137, -4.345300197601318, -4.507299900054932, -5.794899940490723, -5.234899997711182, -4.245699882507324, -5.2403998374938965, -4.899499893188477, -5.6596999168396, -5.104400157928467, -5.205599784851074, -4.728499889373779, -5.461599826812744, -4.6605000495910645, -5.276000022888184, -4.834799766540527, -5.005499839782715, -4.528299808502197, -5.137899875640869, -5.309199810028076, -5.333899974822998, -5.094799995422363, -4.882800102233887, -5.011499881744385, -5.259200096130371, -4.288000106811523, -4.565499782562256, -4.917900085449219, -5.336900234222412, -5.354300022125244, -5.381100177764893, -5.3815999031066895, -5.397500038146973, -5.451600074768066, -5.567200183868408, -5.643799781799316, -5.678199768066406, -5.684700012207031, -5.691100120544434, -5.855000019073486, -5.863399982452393, -5.8730998039245605, -5.889200210571289, -5.901700019836426, -5.9654998779296875, -5.974699974060059, -5.983099937438965, -5.991600036621094, -6.0279998779296875, -6.053899765014648, -6.090400218963623, -6.100500106811523, -6.129899978637695, -6.139599800109863, -6.222099781036377, -5.703199863433838, -5.3678998947143555, -5.7484002113342285, -5.060400009155273, -5.4832000732421875, -4.606599807739258, -5.46619987487793, -3.820499897003174, -5.002699851989746, -4.384300231933594, -4.679200172424316, -5.171800136566162, -4.825099945068359, -5.0258002281188965, -4.5858001708984375, -5.100399971008301, -5.1346001625061035, -5.184299945831299, -5.053599834442139, -4.957399845123291, -5.093400001525879, -5.381899833679199, -5.3206000328063965, -5.465700149536133, -4.207399845123291, -4.333700180053711, -4.737299919128418, -4.761000156402588, -5.065800189971924, -5.165900230407715, -5.196899890899658, -5.319200038909912, -5.422599792480469, -5.464900016784668, -5.493899822235107, -5.514599800109863, -5.5167999267578125, -5.496500015258789, -5.540800094604492, -5.5680999755859375, -5.640600204467773, -5.661300182342529, -5.7505998611450195, -5.771100044250488, -5.815899848937988, -5.823299884796143, -5.828700065612793, -5.837500095367432, -5.862500190734863, -5.9045000076293945, -5.909900188446045, -5.964799880981445, -5.97160005569458, -5.972099781036377, -5.627200126647949, -4.427299976348877, -4.570700168609619, -4.173399925231934, -4.253699779510498, -5.031799793243408, -3.7400999069213867, -4.220099925994873, -5.414400100708008, -4.918000221252441, -4.87470006942749, -5.105599880218506, -4.881100177764893, -5.178699970245361, -4.744800090789795, -5.103400230407715, -5.0553998947143555, -5.191999912261963, -4.709499835968018, -5.0208001136779785, -4.899700164794922, -4.89870023727417, -4.933000087738037, -5.2108001708984375, -5.082499980926514, -5.019100189208984, -5.117800235748291, -5.177499771118164, -4.720399856567383, -5.148900032043457, -4.839799880981445, -5.322800159454346, -5.324900150299072, -5.440800189971924, -5.567200183868408, -5.615300178527832, -5.662099838256836, -5.692699909210205, -5.756400108337402, -5.814899921417236, -5.822700023651123, -5.856800079345703, -5.865600109100342, -5.899799823760986, -5.900100231170654, -5.919300079345703, -5.9918999671936035, -6.05620002746582, -6.064899921417236, -6.083199977874756, -6.107999801635742, -6.170199871063232, -6.172100067138672, -6.176000118255615, -6.184299945831299, -6.18720006942749, -6.214600086212158, -6.237299919128418, -5.676499843597412, -4.445099830627441, -4.341000080108643, -5.107399940490723, -5.320700168609619, -5.244200229644775, -4.94350004196167, -4.7104997634887695, -5.347400188446045, -5.057400226593018, -3.8642001152038574, -4.5345001220703125, -5.407400131225586, -4.528200149536133, -4.666299819946289, -5.177599906921387, -4.711100101470947, -5.268700122833252, -5.4197998046875, -5.227200031280518, -5.3881001472473145, -4.2058000564575195, -5.317800045013428, -4.700799942016602, -4.960700035095215, -4.577700138092041, -5.18179988861084, -5.230899810791016, -5.146399974822998, -5.133900165557861, -5.227399826049805, -5.277400016784668, -3.3422999382019043, -3.9137001037597656, -4.259500026702881, -4.705900192260742, -4.845200061798096, -5.020599842071533, -5.026000022888184, -5.036600112915039, -5.097799777984619, -5.190899848937988, -5.21150016784668, -5.355899810791016, -5.356299877166748, -5.410200119018555, -5.461999893188477, -5.495999813079834, -5.502099990844727, -5.5096001625061035, -5.658699989318848, -5.730800151824951, -5.742499828338623, -5.779099941253662, -5.780200004577637, -5.847799777984619, -5.863500118255615, -5.877099990844727, -5.933800220489502, -5.943600177764893, -5.946300029754639, -5.946800231933594, -4.9604997634887695, -4.082200050354004, -4.648399829864502, -5.147500038146973, -5.324399948120117, -4.379499912261963, -4.07889986038208, -5.314700126647949, -5.086100101470947, -5.056300163269043, -4.260799884796143, -4.254799842834473, -4.877900123596191, -4.235599994659424, -5.231299877166748, -4.699699878692627, -5.20550012588501, -4.9857001304626465, -5.137499809265137, -5.166900157928467, -5.226399898529053, -4.248000144958496, -4.876299858093262, -5.470200061798096, -5.5808000564575195, -5.625800132751465, -5.64739990234375, -5.686699867248535, -5.740900039672852, -5.773799896240234, -5.834400177001953, -5.8354997634887695, -5.83620023727417, -5.850900173187256, -5.924799919128418, -5.928899765014648, -5.984300136566162, -6.0329999923706055, -6.051700115203857, -6.115799903869629, -6.1219000816345215, -6.152900218963623, -6.180200099945068, -6.182000160217285, -6.185500144958496, -6.198500156402588, -6.209700107574463, -6.266200065612793, -6.2820000648498535, -6.2820000648498535, -6.284200191497803, -5.848899841308594, -5.604700088500977, -5.929500102996826, -5.769199848175049, -5.793700218200684, -5.645100116729736, -5.086699962615967, -5.3053998947143555, -5.10890007019043, -4.678100109100342, -4.980100154876709, -5.565999984741211, -5.412199974060059, -5.221199989318848, -4.6346001625061035, -5.0355000495910645, -4.440299987792969, -5.2565999031066895, -5.133699893951416, -5.179100036621094, -4.699399948120117, -4.5005998611450195, -5.10699987411499, -5.432499885559082, -4.98330020904541, -5.076300144195557, -5.267399787902832, -5.361499786376953, -5.113699913024902, -4.891600131988525, -5.389999866485596, -5.294600009918213, -5.376399993896484, -5.453499794006348, -3.9435999393463135, -4.44980001449585, -4.525000095367432, -4.5879998207092285, -4.967899799346924, -5.137599945068359, -5.170400142669678, -5.290500164031982, -5.304999828338623, -5.3993000984191895, -5.462699890136719, -5.46999979019165, -5.502299785614014, -5.599899768829346, -5.669300079345703, -5.705999851226807, -5.726900100708008, -5.74429988861084, -5.907199859619141, -5.917200088500977, -5.966100215911865, -5.999899864196777, -6.0183000564575195, -6.031000137329102, -6.045599937438965, -6.102099895477295, -6.116300106048584, -6.144800186157227, -6.146699905395508, -6.000100135803223, -4.452199935913086, -4.532599925994873, -3.896399974822998, -5.207799911499023, -4.843400001525879, -3.993799924850464, -4.698800086975098, -4.4710001945495605, -4.765100002288818, -4.452899932861328, -3.9472999572753906, -5.270699977874756, -3.3657000064849854, -4.348400115966797, -4.568999767303467, -4.856800079345703, -4.781899929046631, -4.769499778747559, -4.313300132751465, -4.84119987487793, -4.884200096130371, -4.832399845123291, -4.893499851226807, -4.915599822998047, -4.700799942016602, -4.764800071716309, -4.901000022888184, -5.286799907684326, -5.332699775695801, -5.344299793243408, -5.440299987792969, -5.445400238037109, -5.461999893188477, -5.4822001457214355, -5.486000061035156, -5.504300117492676, -5.5218000411987305, -5.548900127410889, -5.579599857330322, -5.587100028991699, -5.589000225067139, -5.641200065612793, -5.6554999351501465, -5.69350004196167, -5.7006001472473145, -5.702000141143799, -5.780300140380859, -5.791500091552734, -5.834799766540527, -5.900700092315674, -5.94789981842041, -5.9492998123168945, -5.992599964141846, -6.0192999839782715, -4.958099842071533, -4.3383002281188965, -5.084700107574463, -5.312300205230713, -4.781099796295166, -5.093699932098389, -4.399799823760986, -5.531099796295166, -4.716800212860107, -4.60290002822876, -5.194200038909912, -5.210299968719482, -5.3053998947143555, -4.586599826812744, -5.320199966430664, -5.098199844360352, -5.292500019073486, -4.995299816131592, -5.15749979019165, -5.318399906158447, -4.1350998878479, -4.547500133514404, -4.554599761962891, -5.029200077056885, -5.041100025177002, -5.068900108337402, -5.104400157928467, -5.158199787139893, -5.291500091552734, -5.328199863433838, -5.338099956512451, -5.44189977645874, -5.443699836730957, -5.457399845123291, -5.469399929046631, -5.471799850463867, -5.488999843597412, -5.501500129699707, -5.525199890136719, -5.535600185394287, -5.551199913024902, -5.575900077819824, -5.706699848175049, -5.735199928283691, -5.485400199890137, -5.763999938964844, -5.7881999015808105, -5.840199947357178, -5.874100208282471, -5.887599945068359, -4.827199935913086, -5.33459997177124, -4.776199817657471, -3.732300043106079, -5.48360013961792, -4.304900169372559, -5.4517998695373535, -4.5177998542785645, -5.315700054168701, -4.522600173950195, -4.3649001121521, -5.316299915313721, -4.596499919891357, -5.282100200653076, -5.088699817657471, -5.170000076293945, -5.371799945831299, -5.350399971008301, -5.2866997718811035, -5.383200168609619, -5.4197001457214355, -3.750699996948242, -3.9946999549865723, -4.447999954223633, -4.637199878692627, -4.659299850463867, -4.80019998550415, -4.829699993133545, -4.852200031280518, -4.882699966430664, -5.1203999519348145, -5.235300064086914, -5.312900066375732, -5.3983001708984375, -5.4928998947143555, -5.504899978637695, -5.538899898529053, -5.585299968719482, -5.691800117492676, -5.712900161743164, -5.755099773406982, -5.775400161743164, -5.780900001525879, -5.817500114440918, -5.828199863433838, -5.864299774169922, -5.876500129699707, -5.888500213623047, -5.888299942016602, -5.89109992980957, -6.005899906158447, -5.610499858856201, -5.38070011138916, -3.5673000812530518, -5.029900074005127, -4.042699813842773, -4.1894001960754395, -4.811800003051758, -5.2245001792907715, -4.811500072479248, -4.418499946594238, -4.193399906158447, -3.767899990081787, -4.627999782562256, -4.549900054931641, -4.798999786376953, -4.940499782562256, -4.830900192260742, -4.471099853515625, -3.947700023651123, -3.646899938583374, -4.020299911499023, -4.1915998458862305, -4.805699825286865, -4.83519983291626], \"loglift\": [30.0, 29.0, 28.0, 27.0, 26.0, 25.0, 24.0, 23.0, 22.0, 21.0, 20.0, 19.0, 18.0, 17.0, 16.0, 15.0, 14.0, 13.0, 12.0, 11.0, 10.0, 9.0, 8.0, 7.0, 6.0, 5.0, 4.0, 3.0, 2.0, 1.0, 1.8345, 1.8337, 1.8335, 1.8332, 1.8332, 1.8328, 1.8327, 1.8326, 1.8326, 1.8326, 1.8325, 1.8325, 1.8325, 1.8324, 1.8323, 1.8323, 1.8322, 1.8321, 1.832, 1.8317, 1.8316, 1.8316, 1.8314, 1.8314, 1.8311, 1.8311, 1.8311, 1.8311, 1.8309, 1.8309, 1.8288, 1.8144, 1.7428, 1.8277, 1.8037, 1.7489, 1.7869, 1.7809, 1.5771, 1.5799, 1.7154, 1.7647, 1.2784, 1.5493, 1.4094, 1.5363, 1.2952, 1.7059, 1.097, 1.0738, 1.6432, 1.3847, 0.8896, 1.349, 1.1309, 1.5518, 1.1775, 1.1955, 0.8468, 1.3516, 0.7058, 1.1891, 0.6666, 0.8439, 0.1426, 0.8771, 1.0512, 1.0709, 0.644, -0.0953, -0.1397, 0.7117, 1.9926, 1.9924, 1.9921, 1.9916, 1.9915, 1.9915, 1.9915, 1.9915, 1.9914, 1.9912, 1.991, 1.9909, 1.9909, 1.9909, 1.9905, 1.9905, 1.9905, 1.9904, 1.9904, 1.9902, 1.9902, 1.9902, 1.9901, 1.99, 1.9899, 1.9898, 1.9898, 1.9897, 1.9897, 1.9894, 1.9778, 1.9668, 1.9651, 1.8659, 1.8512, 1.4719, 1.7253, 0.8504, 1.4794, 0.9762, 1.0961, 1.2993, 0.9401, 0.9451, 0.286, 0.9212, 0.9632, 0.8398, 0.445, 0.1779, 0.5224, 1.1369, 0.2547, 1.1284, 2.1303, 2.1303, 2.1299, 2.1299, 2.1296, 2.1294, 2.1294, 2.1292, 2.129, 2.1289, 2.1288, 2.1288, 2.1288, 2.1288, 2.1287, 2.1287, 2.1285, 2.1284, 2.1282, 2.1282, 2.128, 2.128, 2.128, 2.128, 2.1279, 2.1278, 2.1278, 2.1276, 2.1276, 2.1275, 2.1199, 2.0408, 1.975, 1.8532, 1.8361, 1.9651, 1.6262, 1.6292, 1.9855, 1.8082, 1.789, 1.7407, 1.4007, 1.6695, 1.0742, 1.4434, 1.2713, 1.4835, 0.3228, 0.9698, 0.6423, 0.5483, 0.4275, 1.2912, 0.4928, -0.3482, -0.3304, 0.4035, 2.1569, 2.1564, 2.1562, 2.1561, 2.1561, 2.1559, 2.1556, 2.1555, 2.1554, 2.1553, 2.1551, 2.155, 2.1549, 2.1548, 2.1548, 2.1547, 2.1547, 2.1546, 2.1544, 2.1541, 2.1541, 2.154, 2.1539, 2.1537, 2.1537, 2.1536, 2.1536, 2.1536, 2.1535, 2.1534, 2.1387, 2.0639, 2.0507, 2.0962, 2.0907, 2.0643, 2.0116, 1.9396, 2.0237, 1.9646, 1.6583, 1.7983, 1.9861, 1.6289, 1.6563, 1.8528, 1.6314, 1.8476, 1.9128, 1.7116, 1.8482, 0.5816, 1.6832, 0.7977, 1.1372, 0.0932, 1.371, 1.1365, 0.4694, 0.313, 0.3147, 0.9854, 2.3812, 2.381, 2.3807, 2.3803, 2.3801, 2.3798, 2.3798, 2.3798, 2.3797, 2.3795, 2.3795, 2.3791, 2.3791, 2.379, 2.3789, 2.3788, 2.3788, 2.3788, 2.3783, 2.3781, 2.378, 2.3779, 2.3779, 2.3776, 2.3776, 2.3775, 2.3773, 2.3773, 2.3772, 2.3772, 2.3536, 2.2344, 2.2733, 2.3047, 2.3204, 2.1596, 2.109, 2.2879, 2.2386, 2.2293, 2.0491, 1.8605, 1.6614, 0.5518, 1.8853, 0.8228, 1.6903, 0.5897, 0.361, -0.0316, -0.1941, 2.4108, 2.41, 2.4088, 2.4085, 2.4084, 2.4083, 2.4082, 2.408, 2.4079, 2.4076, 2.4076, 2.4076, 2.4076, 2.4073, 2.4073, 2.407, 2.4068, 2.4067, 2.4064, 2.4063, 2.4062, 2.406, 2.406, 2.406, 2.4059, 2.4059, 2.4055, 2.4054, 2.4054, 2.4054, 2.3817, 2.3411, 2.3569, 2.3136, 2.313, 2.2394, 1.9921, 2.0698, 1.9902, 1.7238, 1.8496, 2.1223, 2.0038, 1.8008, 1.3568, 1.6516, 0.9202, 1.7098, 1.5447, 1.4964, 0.7428, 0.3712, 1.2897, 1.6983, 0.8357, 0.9037, 1.327, 1.4516, 0.6516, -0.2207, 1.4366, 0.2865, 0.146, 0.8093, 2.4369, 2.4365, 2.4364, 2.4363, 2.4358, 2.4355, 2.4354, 2.4352, 2.4351, 2.4349, 2.4347, 2.4347, 2.4346, 2.4343, 2.4341, 2.434, 2.4339, 2.4338, 2.4332, 2.4332, 2.433, 2.4328, 2.4327, 2.4326, 2.4326, 2.4323, 2.4322, 2.4321, 2.4321, 2.4317, 2.4208, 2.4121, 2.3946, 2.4027, 2.3618, 2.2936, 2.3285, 2.2828, 2.2866, 2.2431, 2.0732, 2.2948, 1.5061, 1.8456, 1.7915, 1.9136, 1.6148, 1.3089, 0.4741, 1.0229, 1.1064, 0.6145, 0.6485, 0.1167, 2.5618, 2.5617, 2.5615, 2.5607, 2.5605, 2.5605, 2.5602, 2.5602, 2.5601, 2.5601, 2.5601, 2.56, 2.56, 2.5599, 2.5597, 2.5597, 2.5597, 2.5595, 2.5595, 2.5593, 2.5593, 2.5593, 2.559, 2.5589, 2.5587, 2.5584, 2.5582, 2.5581, 2.5579, 2.5578, 2.4716, 2.2134, 2.3637, 2.407, 2.1139, 2.2391, 1.5667, 2.3729, 1.7475, 1.4978, 1.9433, 1.692, 1.8778, 0.2852, 1.8972, 1.2244, 1.5194, -0.3244, 0.203, 0.7031, 2.6748, 2.6743, 2.6743, 2.6734, 2.6734, 2.6733, 2.6732, 2.6731, 2.6727, 2.6726, 2.6726, 2.6723, 2.6722, 2.6722, 2.6722, 2.6721, 2.6721, 2.672, 2.672, 2.6719, 2.6718, 2.6718, 2.6712, 2.6711, 2.671, 2.6709, 2.6708, 2.6705, 2.6704, 2.6703, 2.5614, 2.6013, 2.4058, 2.043, 2.5724, 2.0218, 2.5425, 1.9502, 2.417, 1.4924, 1.1365, 2.3471, 0.0744, 1.8197, 0.9319, -0.2982, 1.578, 1.244, 0.1555, 1.3144, 1.5261, 2.9071, 2.9069, 2.9063, 2.906, 2.9059, 2.9056, 2.9056, 2.9055, 2.9054, 2.9048, 2.9044, 2.9041, 2.9037, 2.9033, 2.9033, 2.9031, 2.9029, 2.9023, 2.9022, 2.9019, 2.9018, 2.9018, 2.9016, 2.9015, 2.9012, 2.9012, 2.9011, 2.9011, 2.9011, 2.9002, 2.8925, 2.8875, 2.8267, 2.7872, 2.5846, 2.5653, 2.6411, 2.7416, 2.6143, 2.446, 2.3343, 1.9973, 2.3701, 2.2984, 2.3546, 2.4461, 2.3322, 1.9829, 1.4993, 1.1405, 1.5218, 1.6725, 2.2033, 2.1983]}, \"token.table\": {\"Topic\": [8, 2, 2, 9, 8, 4, 4, 10, 4, 7, 10, 9, 2, 1, 3, 4, 5, 2, 9, 7, 2, 6, 7, 3, 7, 10, 7, 7, 1, 2, 8, 6, 6, 7, 5, 9, 5, 10, 7, 1, 2, 7, 9, 9, 5, 3, 10, 9, 10, 9, 5, 5, 5, 4, 2, 3, 8, 6, 9, 10, 8, 9, 1, 5, 6, 1, 2, 3, 4, 5, 6, 7, 8, 9, 10, 1, 3, 4, 10, 4, 10, 10, 10, 1, 1, 2, 7, 1, 3, 5, 6, 7, 10, 1, 2, 3, 4, 6, 7, 6, 9, 1, 5, 6, 7, 10, 4, 4, 5, 1, 5, 6, 2, 5, 4, 5, 1, 3, 6, 4, 3, 8, 1, 6, 1, 1, 2, 3, 4, 5, 6, 7, 8, 9, 10, 1, 1, 3, 6, 1, 3, 4, 7, 8, 10, 3, 1, 10, 2, 7, 8, 1, 2, 3, 6, 2, 3, 4, 5, 6, 8, 1, 2, 6, 7, 5, 6, 10, 3, 1, 3, 5, 6, 1, 2, 3, 4, 6, 7, 8, 9, 8, 4, 3, 3, 3, 4, 5, 7, 10, 3, 1, 3, 4, 6, 7, 9, 10, 1, 3, 6, 9, 6, 7, 9, 10, 6, 10, 1, 5, 7, 5, 10, 1, 4, 5, 3, 5, 1, 2, 3, 4, 5, 7, 8, 9, 10, 8, 1, 2, 3, 5, 6, 7, 10, 1, 2, 3, 4, 5, 6, 7, 8, 9, 10, 1, 2, 3, 3, 8, 1, 2, 3, 7, 10, 2, 3, 9, 2, 3, 6, 7, 9, 10, 7, 3, 1, 2, 3, 6, 7, 8, 9, 2, 7, 8, 9, 4, 3, 2, 1, 10, 4, 2, 3, 1, 1, 6, 8, 7, 6, 10, 4, 4, 5, 8, 8, 10, 10, 4, 10, 2, 3, 7, 9, 3, 9, 5, 7, 1, 7, 1, 3, 7, 2, 3, 6, 7, 1, 2, 3, 5, 6, 7, 9, 4, 10, 6, 1, 5, 3, 6, 3, 9, 2, 1, 2, 3, 5, 6, 7, 8, 9, 10, 1, 2, 3, 4, 8, 5, 2, 1, 3, 4, 5, 7, 10, 1, 2, 3, 4, 5, 7, 9, 10, 2, 3, 1, 8, 1, 4, 5, 10, 1, 2, 7, 2, 3, 6, 7, 5, 5, 10, 4, 1, 10, 2, 1, 2, 8, 8, 6, 10, 6, 1, 3, 4, 9, 2, 7, 8, 9, 7, 2, 9, 1, 8, 10, 6, 1, 2, 3, 4, 5, 6, 7, 8, 9, 10, 6, 6, 4, 6, 8, 3, 5, 6, 7, 2, 10, 5, 10, 5, 2, 6, 4, 8, 10, 5, 10, 2, 7, 1, 6, 1, 4, 5, 6, 7, 3, 4, 8, 10, 8, 6, 10, 10, 7, 9, 2, 7, 8, 9, 1, 3, 5, 6, 3, 4, 1, 2, 6, 8, 5, 5, 1, 3, 4, 6, 7, 10, 7, 1, 2, 3, 4, 5, 6, 7, 8, 9, 4, 9, 3, 8, 1, 3, 9, 9, 9, 9, 6, 5, 1, 2, 4, 5, 6, 7, 8, 10, 1, 2, 6, 2, 7, 8, 10, 4, 1, 1, 2, 4, 5, 6, 8, 9, 8, 1, 3, 4, 5, 6, 7, 9, 10, 1, 2, 3, 8, 9, 4, 5, 10, 2, 7, 2, 6, 7, 10, 2, 4, 10, 7, 4, 6, 5, 1, 1, 6, 2, 1, 2, 3, 4, 5, 6, 7, 8, 9, 2, 4, 5, 7, 8, 9, 4, 6, 9, 1, 2, 5, 7, 9, 10, 7, 3, 6, 7, 9, 10, 1, 2, 3, 6, 7, 9, 5, 10, 1, 4, 6, 3, 1, 2, 3, 5, 6, 7, 9, 10, 5, 6, 4, 2, 3, 8, 6, 3, 6, 6, 8, 10, 8, 1, 2, 3, 4, 5, 7, 8, 1, 5, 6, 1, 2, 3, 4, 5, 6, 7, 8, 10, 1, 7, 10, 8, 7, 4, 4, 3, 7, 4, 5, 4, 3, 1, 8, 3, 8, 4, 4, 2, 6, 8, 2, 6, 8, 5, 6, 1, 2, 3, 4, 5, 6, 7, 8, 9, 2, 10, 3, 4, 6, 8, 1, 1, 1, 2, 3, 4, 5, 6, 7, 8, 9, 6, 3, 5, 4, 1, 1, 3, 6, 7, 9, 2, 3, 6, 7, 9, 10, 1, 2, 3, 6, 9, 1, 7, 1, 3, 6, 7, 1, 2, 3, 4, 5, 6, 7, 8, 9, 10, 2, 1, 3, 5, 6, 3, 1, 3, 1, 3, 4, 5, 7, 10, 5, 6, 6, 9, 1, 3, 4, 5, 6, 7, 8, 9, 7, 7, 1, 3, 4, 7, 8, 1, 2, 3, 1, 2, 9, 7, 9, 9, 9, 6, 9, 1, 2, 3, 4, 6, 7, 8, 9, 10, 4, 2, 10, 2, 6, 2, 3, 6, 9, 3, 7, 5, 7, 8, 9, 1, 3, 1, 2, 3, 4, 8, 9, 10, 7, 9, 9, 4, 5, 1, 5, 4, 5, 7, 7, 4, 1, 4, 7, 3, 1, 2, 3, 4, 5, 7, 8, 9, 5, 6, 7, 6, 1, 2, 3, 6, 7, 9, 1, 3, 4, 5, 6, 7, 10, 6, 1, 2, 3, 5, 6, 7, 8, 9, 1, 3, 5, 6, 7, 9, 10, 1, 6, 9, 7, 1, 3, 6, 7, 10, 9, 2, 5, 8, 1, 2, 3, 4, 5, 6, 8, 9, 7, 8, 2, 6, 1, 2, 3, 4, 5, 6, 7, 8, 9, 1, 2, 3, 4, 5, 6, 7, 9, 10, 4, 5, 5, 6, 4, 9, 8, 2, 3, 4, 5, 6, 7, 9, 1, 2, 9, 1, 3, 4, 5, 6, 7, 2, 2, 10, 1, 2, 3, 4, 5, 6, 7, 9, 10, 1, 2, 3, 4, 5, 7, 9, 10, 1, 3, 6, 7, 6, 1, 1, 2, 3, 9, 1, 2, 3, 4, 5, 6, 7, 8, 9, 10, 3, 5, 7, 8, 9, 1, 3, 6, 8, 2, 4, 10, 1, 9, 3, 9, 1, 2, 3, 4, 6, 8, 9, 10, 7, 8, 4, 6, 1, 6, 8, 9, 1, 1, 2, 3, 6, 7, 2, 6, 8, 2, 2, 7, 8, 1, 2, 2, 7, 8, 1, 2, 6, 8, 6, 1, 2, 3, 4, 5, 6, 7, 8, 9, 10, 7, 1, 4, 5, 7, 10, 4, 5, 1, 4, 5, 6, 7, 9, 10, 2, 9, 8, 9, 9, 9, 2, 3, 4, 6, 7, 8, 3, 2, 4, 5, 7, 8, 4, 4, 6, 10, 7, 9, 2, 5, 2, 4, 5, 1, 4, 5, 7, 9, 10, 1, 10, 3, 4, 5, 9, 2, 3, 5, 6, 10, 3, 5, 7, 9, 3, 7, 9, 1, 3, 6, 8, 10, 10, 5, 8, 2, 10, 7, 8, 7, 9, 3, 4, 8, 1, 2, 3, 6, 9, 10, 2, 3, 4, 5, 6, 7, 8, 10, 5, 5, 5, 1, 2, 3, 6, 8, 4, 9, 2, 1, 1, 9, 1, 2, 3, 4, 5, 6, 7, 8, 9, 10, 7, 10, 6, 3, 1, 2, 3, 4, 5, 6, 7, 8, 9, 10, 8, 3], \"Freq\": [0.9959559411026164, 0.9986775615898696, 0.06984995531594947, 0.9276074065958089, 0.9974691730883726, 0.9972549998348216, 0.015582290566284325, 0.9777887330343414, 0.8735345960447709, 0.07305925712374448, 0.05082383104260485, 0.9969592705518612, 0.9990072280962558, 0.2918693734947396, 0.502934815425303, 0.031346352761964874, 0.17344981861620562, 0.9967157674253175, 0.995470185656629, 0.9957840203305973, 0.0659714274300832, 0.07710946063256478, 0.8567717848062754, 0.8467428174223708, 0.05244342611132103, 0.09942399533604611, 0.9971492633113157, 0.9937634795416026, 0.39006688712202847, 0.4998539248881623, 0.10978703776613384, 0.9953507495359598, 0.9965933955939363, 0.9957704819191546, 0.9974592228087726, 0.992921497322614, 0.9979156011170462, 0.9958961002764947, 0.9968190110518078, 0.0009652042932666504, 0.013512860105733106, 0.9835431748387168, 0.0009652042932666504, 0.9951396934803088, 0.9953306763766688, 0.9966284295599669, 0.9919891867642177, 0.9966810747089253, 0.9950043710976544, 0.9962843541423504, 0.9992623180087474, 0.9985673878072517, 0.9969072998656532, 0.9979590907341138, 0.009253610177646577, 0.9901362890081837, 0.9946767397784895, 0.656891900846918, 0.10197238894013529, 0.2395165414640387, 0.8254370195926372, 0.170500105686348, 0.969273795345915, 0.021014066023759673, 0.007880274758909877, 0.21910534717181823, 0.22981350323660635, 0.10735612875210643, 0.18478433414365122, 0.03404644492394168, 0.10351217529295172, 0.012630132794365463, 0.06452350449295399, 0.03898867079999773, 0.005216793980281386, 0.013756215656245584, 0.14367603018745387, 0.7825758239997488, 0.05808179943748135, 0.9987167706888425, 0.0010914937384577513, 0.9983439590968289, 0.9928641300609143, 0.9983475067169377, 0.9938461788933772, 0.9960729246732672, 0.994594404704328, 0.22671498703509027, 0.7445426033370279, 0.011909153015461941, 0.0008821594826268104, 0.0026464784478804314, 0.013232392239402155, 0.1946535284906747, 0.01265549256440919, 0.16572668834345367, 0.11691264559501822, 0.502603847557965, 0.007231710036805251, 0.22574858125270106, 0.773017869138037, 0.11672282653354361, 0.3762328000887037, 0.005666156627841923, 0.009065850604547078, 0.4918223952966789, 0.9963262422277257, 0.9976699512754529, 0.9988996038489449, 0.023238971591095118, 0.8631618019549615, 0.11287500487103343, 0.9984833174486213, 0.998657484236066, 0.07234857570374943, 0.9267508030623142, 0.7745081877340968, 0.22181745089582128, 0.003705780802555487, 0.9963572805895745, 0.27517398533389936, 0.7230960836829688, 0.9958256577861938, 0.9914784921728798, 0.9978214209201689, 0.16457900216312799, 0.21268295383395322, 0.06324326640986669, 0.2566358030763316, 0.13259109521450815, 0.035162279393902714, 0.04077847679709551, 0.07081292377938742, 0.003174372445282884, 0.02051132964644325, 0.9975049020211741, 0.7505941411027042, 0.019666222037625435, 0.2294392571056301, 0.033599987591256805, 0.15259994364362464, 0.06859997466548264, 0.03989998526461745, 0.7048997396749084, 0.9905249773423497, 0.9993011154142409, 0.9950492975957131, 0.9908000403369065, 0.9977451470127582, 0.9965969743519287, 0.9942565540495469, 0.4174242265966837, 0.01842932567755778, 0.18613618934333356, 0.3768797101060566, 0.09397939747247419, 0.032688486077382325, 0.17025253165303295, 0.06673899240798892, 0.12121980253695946, 0.5134816354655474, 0.015658551216079685, 0.9730671112849519, 0.008947743552045535, 0.9983271088231829, 0.8978322106474567, 0.09626869075791014, 0.006080127837341693, 0.9970404071889394, 0.3707244167027737, 0.6055049874303489, 0.00034679552544693515, 0.022888504679497722, 0.1386999400405745, 0.18136680776707295, 0.0011743174603623429, 0.0011743174603623429, 0.12995779894676596, 0.39404874781047505, 0.10242657848715991, 0.051148049384670935, 0.9948234607938431, 0.9970104577490301, 0.9959322426029352, 0.9961242188991708, 0.03756393565783616, 0.9102546551372084, 0.008720199349140537, 0.03286844370060664, 0.010061768479777543, 0.9996567793064483, 0.22445986768733017, 0.4316023568587239, 0.011322901337343065, 0.008658689257968226, 0.15385824758389693, 0.15452430060374064, 0.014653166436561614, 0.6148988483606989, 0.2580249304586857, 0.09666849507325408, 0.02980006239100314, 0.5434123888853755, 0.19495619724959862, 0.04929926827001344, 0.21288320389323986, 0.9943048816574608, 0.9941919472756441, 0.9983095882013798, 0.9982004631434218, 0.9969581240601956, 0.9721755256017709, 0.025504604838318064, 0.9987544661367327, 0.9976182771719738, 0.9977730975622328, 0.9990757803018635, 0.9964859069854625, 0.008733011827014138, 0.23055151223317327, 0.006404208673143702, 0.3598000872729825, 0.26024375244502135, 0.09955633482796118, 0.0005822007884676093, 0.010479614192416966, 0.02328803153870437, 0.9932295320655739, 0.9970757563155271, 0.3487910053157531, 0.05706909501967075, 0.0003188217598864288, 0.17216375033867154, 0.01912930559318573, 0.4023530609766731, 0.08441934236272051, 0.1006739983456046, 0.10539309201805482, 0.3093628074161808, 0.05558043658663587, 0.2013479966912092, 0.08074893617303702, 0.02516849958640115, 0.035131030672684936, 0.001573031224150072, 0.2335938478509171, 0.7644889566030014, 0.9991816423539681, 0.18018401045198543, 0.818550218910448, 0.10104715561980697, 0.06533221268522002, 0.17857471467293473, 0.5923453950126615, 0.06184782800867495, 0.9977788459146816, 0.09451950319788682, 0.9010859304865211, 0.35394987147646173, 0.21787760967315378, 0.03887778908665941, 0.02591852605777294, 0.2559454448205078, 0.10691391998831339, 0.9971886783819847, 0.9979368104822544, 0.5268724681715585, 0.011440659308868128, 0.198104048032506, 0.09092313450732038, 0.07045037574408268, 0.0024085598544985533, 0.09875095403444069, 0.11317427451653894, 0.6946842741233372, 0.017284798289798675, 0.17490569698010563, 0.9984401230366072, 0.9975367441452421, 0.9975156269982546, 0.9988647304854368, 0.99664236007325, 0.9980346122229519, 0.9977680625445355, 0.9982977508931844, 0.998097495882549, 0.19737149430089795, 0.4896811757338734, 0.31104748152483286, 0.9976732232046805, 0.3678197807208129, 0.6307786590431484, 0.9972662115938863, 0.6401577405528239, 0.358735738667283, 0.9964032219948782, 0.9955301190825765, 0.9953527237135483, 0.999493470163004, 0.00985356754413958, 0.9853567544139579, 0.049747981108123764, 0.4231373224589853, 0.00670759295839871, 0.5198384542759, 0.23533498617594487, 0.7638526646269496, 0.9954566998800437, 0.9972218394403431, 0.8254507378667287, 0.17324274745351098, 0.2810969204855326, 0.7101807991096881, 0.007829997785112328, 0.1062938573005369, 0.16360011080169592, 0.5702896517776632, 0.15897863874515084, 0.46672116587104734, 0.09042722588751542, 0.17767226200772826, 0.07716810185708795, 0.11933211627384734, 0.05966605813692367, 0.008485839379473588, 0.9404022013795523, 0.05911099551528615, 0.9953646690739143, 0.9531179418783076, 0.045093752088866165, 0.9968867482986508, 0.996504834928759, 0.9968419653984618, 0.9979666063956005, 0.9979485023534782, 0.07814563060108337, 0.42140213884883276, 0.10589828445941205, 0.030673985843415904, 0.13876326929164337, 0.06938163464582169, 0.022640322884426023, 0.1102802824370429, 0.022640322884426023, 0.001018027109731424, 0.8805934499176817, 0.04988332837683977, 0.0682078163520054, 0.001018027109731424, 0.9962435616231221, 0.9992589228312144, 0.031112524107806103, 0.18874931292069036, 0.05254559627096142, 0.486738154931011, 0.08504089922800334, 0.15556262053903053, 0.06529268948230739, 0.5980810356579357, 0.000652926894823074, 0.007182195843053813, 0.14952025891448392, 0.040481467479030586, 0.001958780684469222, 0.13580879412319938, 0.9741215340926879, 0.02450620211553932, 0.9974854428448467, 0.9974050292964804, 0.010442522237449098, 0.016708035579918557, 0.9398270013704189, 0.029239062264857476, 0.45615594766321405, 0.019078765871845454, 0.5243769892655705, 0.002398025094113531, 0.2326084341290125, 0.32553190652591185, 0.43943809849630455, 0.9984844157161142, 0.9980717729353579, 0.9950364326147346, 0.9951320026222118, 0.9959185160920393, 0.9968413819718958, 0.998062864441501, 0.9464830851826045, 0.05122717729081107, 0.9976442502701457, 0.9981186904519009, 0.14975092935738227, 0.8466687159821228, 0.9958466138216308, 0.19252227083990983, 0.7242504474453751, 0.0491723548898471, 0.03417061949972426, 0.40770831139626973, 0.0537814281225727, 0.007084978555069458, 0.5310513471504335, 0.9956341339980505, 0.9970864836945299, 0.9974190722224888, 0.9936127788868947, 0.9966743130432212, 0.9909767936528879, 0.9924201200076477, 0.1838918299915041, 0.3189023726144018, 0.08378124581737129, 0.12679250959367783, 0.05251002922566455, 0.0719344709310933, 0.021985906545705074, 0.05571186027600995, 0.07417575266633508, 0.010139131659427099, 0.9953241345136399, 0.9943153738201888, 0.8245762980329245, 0.1378028324158284, 0.036971491623758845, 0.5236777385246592, 0.07526382021156221, 0.4000866232298833, 0.9946248041457226, 0.9981149957420441, 0.9952789324704042, 0.9965400369362979, 0.9964450934183716, 0.9981746150378515, 0.9974807699081082, 0.9988332267213574, 0.7337748230356045, 0.08987510416375692, 0.17605671089612657, 0.36944809056305533, 0.6297845688872808, 0.10249546552602216, 0.8965537424034467, 0.6164354154345816, 0.38277184350731397, 0.03181546103346037, 0.6220471174473114, 0.14810645653507415, 0.12177641981772763, 0.07569885556237123, 0.054552563852026864, 0.6056447905204615, 0.2621863017786189, 0.07737557525950749, 0.9967895820766608, 0.9957361036789746, 0.998059597872241, 0.9991879629885858, 0.8598089089862878, 0.13849271017228798, 0.0773838484347924, 0.8657318043642399, 0.03278065801751622, 0.023107676963167175, 0.911359703933983, 0.004565098699122866, 0.0020750448632376665, 0.08217177658421158, 0.06284179192676428, 0.9343582220689953, 0.2466815172619701, 0.0019734521380957606, 0.11248677187145836, 0.6384117666739786, 0.9965025908949401, 0.9963475873579747, 0.1879351622223671, 0.16189171277582187, 0.10171022824394026, 0.01442947874741021, 0.24318950766976719, 0.29070120598441057, 0.9987263336780343, 0.32504775529079344, 0.3505033023918797, 0.08772373154835872, 0.0548273322177242, 0.011357090245100012, 0.04268699436951384, 0.001958119007775864, 0.04542836098040005, 0.0806745031203656, 0.9977931133660088, 0.996263330424462, 0.9969504213811774, 0.997608090357242, 0.9964204740554358, 0.9988599609537853, 0.9965843515825538, 0.9986929534918468, 0.9960065906450508, 0.9941067018261318, 0.996203944342239, 0.9969623219803813, 0.012266418889595069, 0.0367992566687852, 0.5892598920424708, 0.1575763041971059, 0.039629968720230224, 0.04246068077167524, 0.023117481753467627, 0.09860313645866806, 0.19849414792562092, 0.05016885057460749, 0.7481702498734942, 0.868147436934958, 0.1316766835562723, 0.11165384204157097, 0.8857871468631296, 0.9943945377739289, 0.9952066942504008, 0.023124532983904617, 0.2683847312980445, 0.45548322544054554, 0.14084942817469176, 0.012613381627584337, 0.10020630959692002, 0.9986855137443748, 0.9972816435656694, 0.15908190903101374, 0.2054614743461781, 0.15792241989813463, 0.0542640914187423, 0.016232847860307525, 0.16163278512334778, 0.0006956934797274654, 0.24442030921091615, 0.38350341058804543, 0.11787511446035974, 0.17967769183367335, 0.012687946348163722, 0.3061478667234343, 0.8414494540145795, 0.15594430035791434, 0.9981466845274174, 0.9975350826220172, 0.9970775177812068, 0.9989778587682487, 0.9312025136771371, 0.06490199337749744, 0.9929313860682848, 0.007549249733095091, 0.2679983655248757, 0.7239730494038192, 0.9961882626321688, 0.15659303501486502, 0.841355798300207, 0.996887130705661, 0.9963045495026304, 0.9963227571418809, 0.9952420612309868, 0.9971942251251877, 0.14541728294224496, 0.3423279380311772, 0.07250266798253573, 0.14747701782811246, 0.033779652128226874, 0.08815665311512867, 0.012358409315204955, 0.15571595737158242, 0.002471681863040991, 0.03236740476025162, 0.590563174573012, 0.12833392062836607, 0.23849666665448563, 0.008517738094803058, 0.0022713968252808157, 0.9982000913810686, 0.9953125197164273, 0.9940615335475449, 0.028323429780116406, 0.1379227884944799, 0.6083380135381524, 0.01108308121830642, 0.0554154060915321, 0.15762604399369132, 0.9963502797921759, 0.38233165678238684, 0.0009417035881339578, 0.009417035881339578, 0.06309414040497517, 0.5433629703532936, 0.1345801272239832, 0.065700534550291, 0.07947645308502944, 0.4959330672505837, 0.024372778946075695, 0.19922097573314046, 0.4360449116796626, 0.5624721345927008, 0.9932256105440825, 0.9980078195283154, 0.9953040023864949, 0.9967626313307952, 0.4941804788501066, 0.008312539593778076, 0.13840378423640495, 0.12385683994729332, 0.053200253400179684, 0.08728166573466979, 0.08146288801902514, 0.013715690329733824, 0.9977988183602321, 0.9977570406160554, 0.9968919614398388, 0.9983801242947935, 0.999410419190747, 0.9965393922641297, 0.9981721615981282, 0.342466318033393, 0.6558895560922227, 0.9913901775367305, 0.9957730531124817, 0.9965054558170899, 0.9921158243743725, 0.23939510213618076, 0.07018097456761, 0.18403011108839953, 0.0031191544252271108, 0.06121340559508205, 0.07252034038653032, 0.36922990508625925, 0.7528932415876592, 0.033853113380740076, 0.21259755203104766, 0.30366615843037675, 0.09811708186502971, 0.1332032535446131, 0.16797892812968693, 0.08259222713955032, 0.0732773143042627, 0.08942316321876125, 0.0034154680396054644, 0.048127049648986085, 0.9316707500181908, 0.0669018889640722, 0.9933485661607562, 0.9977654969482198, 0.997213140042804, 0.9972598123371238, 0.9940396336336732, 0.9986997279084119, 0.9986178261767182, 0.804050704556304, 0.1954128993782372, 0.9948877471062185, 0.9975399667725101, 0.9966011118124815, 0.9976202485168962, 0.9984687590227878, 0.997171559382706, 0.9975491640795933, 0.9965874160808151, 0.003314420208744582, 0.904836716987271, 0.08617492542735913, 0.2246234423793796, 0.3558194352735305, 0.41843570460937524, 0.9981429361763795, 0.9960240677544073, 0.016451070457803856, 0.3570326912869323, 0.025343540975535667, 0.36014505596813845, 0.06936127003830815, 0.009337094043618405, 0.11515749320462698, 0.042239234959226116, 0.004446235258865907, 0.998555981128614, 0.995618758039816, 0.9987526472885125, 0.026260697841883254, 0.9716458201496804, 0.9954487900176262, 0.998156522751032, 0.9965977484610756, 0.13982235549923772, 0.08851139935272846, 0.05195234309834062, 0.033352121495231014, 0.1776641856572883, 0.05836621261665428, 0.0006413869518313657, 0.44255699676364235, 0.007696643421976388, 0.9956923840518691, 0.8647641041148326, 0.13404660971156196, 0.9979079128286044, 0.9970659893361242, 0.7722651428024668, 0.009155484799080816, 0.02975532559701265, 0.12085239934786676, 0.06820836175315208, 0.07524489215572513, 0.2359621375368856, 0.3382367482339877, 0.1117715388332616, 0.23888426927108852, 0.996725237142107, 0.31789763469770116, 0.007296011288143962, 0.33978566856213305, 0.0010422873268777087, 0.3335319446008668, 0.023849434782722487, 0.9747160302503973, 0.005566190125557981, 0.8558017318045396, 0.013219701548200204, 0.12523927782505456, 0.2525412357053034, 0.20393001193104313, 0.17626508783187061, 0.027269710897755768, 0.11461182841085758, 0.22131939279338014, 0.0011856396042502508, 0.00039521320141675025, 0.0019760660070837514, 0.0007904264028335005, 0.9980958046957524, 0.32304261759546465, 0.6037260045393387, 0.02888129362608459, 0.04428465022666304, 0.996533472157165, 0.9794464850868637, 0.020644071114243028, 0.17521960875224496, 0.13649353580337922, 0.00380912192939663, 0.25267175464997643, 0.03491695101946911, 0.3967835343121489, 0.28865946199235876, 0.7112824312076906, 0.9060776695444632, 0.09060776695444633, 0.23516686278798057, 0.34753557834046345, 0.011102298243209383, 0.006392232321847827, 0.20690646725981124, 0.1419748442010412, 0.00033643328009725406, 0.05046499201458811, 0.9947913518298102, 0.995069493822503, 0.10620613073679533, 0.0711807046427458, 0.7366638004296867, 0.0011298524546467588, 0.08360908164386015, 0.9925989166747301, 0.005866423857415663, 0.9969266377741728, 0.6367993404257544, 0.23149528963712718, 0.13110574655824356, 0.12144429904116254, 0.8738065418815354, 0.9947365430636058, 0.9994823276500414, 0.9967846421533466, 0.997171222635289, 0.06621140242261232, 0.013719479781262013, 0.014315978902186447, 0.8983276761121995, 0.0005964991209244353, 0.0017894973627733059, 0.0035789947255466118, 0.0011929982418488706, 0.0005964991209244353, 0.9972724367528149, 0.41455892415663265, 0.5841014920834876, 0.997197091714775, 0.9942663782485881, 0.18913802912576813, 0.30053712255153836, 0.4680364788535957, 0.041674480993813316, 0.04152890844936837, 0.9578615767023146, 0.8673270233801933, 0.10462511296019814, 0.019711977804095303, 0.009097835909582448, 0.5178632382807462, 0.48205638898785663, 0.5238146209061083, 0.03594806221904665, 0.15342119411343125, 0.213120654584348, 0.008987015554761663, 0.03402227317159772, 0.030170695076699866, 0.866290073627013, 0.13119760580542736, 0.9978396410226922, 0.23790176345154093, 0.761382944379676, 0.8776470542057461, 0.11921201204668214, 0.7342332201875406, 0.26510121938718384, 0.9977292259379061, 0.998545699922904, 0.9979861961319794, 0.8869146964429009, 0.0034112103709342343, 0.10745312668442838, 0.9973057310806674, 0.010684883050586666, 0.05286205298711298, 0.08491670213887298, 0.6978915718830554, 0.05229969072129263, 0.02530630196191579, 0.07198237002500492, 0.003936535860742456, 0.8012075476780822, 0.16798398109212595, 0.030416852543430215, 0.9922579261243569, 0.23084691590866466, 0.03754257801974823, 0.31312107624981506, 0.12780452091829184, 0.2639962135218466, 0.02596029331152803, 0.1433304417413893, 0.22570719028670733, 0.1583775877605031, 0.03442991038271807, 0.021168018976041477, 0.16704882444948393, 0.24993564574121263, 0.9941406017895466, 0.47780052921795085, 0.022158865123151343, 0.005539716280787836, 0.09856078549568358, 0.1885811750584859, 0.09025121107450182, 0.03693144187191891, 0.08055670758312311, 0.5726263030175736, 0.16391389626238728, 0.07613570695552008, 0.04427207104657002, 0.0981951472001778, 0.00015319055725456754, 0.04473164271833373, 0.051572436982148924, 0.9481394183641225, 0.9977103044138592, 0.9991575418673954, 0.17481500377861392, 0.6767032404333442, 0.02349664029282445, 0.05921153353791762, 0.06485072720819549, 0.9989615729958907, 0.9994467356583793, 0.08589171551324452, 0.9128099962387948, 0.11077735349750223, 0.33051603830402304, 0.016344199696352788, 0.04721657690057472, 0.014528177507869146, 0.127121553193855, 0.3523083045658268, 0.0009080110942418216, 0.997493992610646, 0.9989705695944168, 0.3339365112850027, 0.6645502712139357, 0.11187990495008412, 0.3618017458556903, 0.18207071984272244, 0.001914294951617409, 0.008295278123675438, 0.22503600653457984, 0.00021269943906860098, 0.09443855094645884, 0.014463561856664867, 0.46535959093207324, 0.11603771618046502, 0.042305417357461204, 0.028405065940009668, 0.03082251836043602, 0.019943982468517425, 0.12026825791621114, 0.10999408512939914, 0.06708430466683134, 0.13998838385776752, 0.8588870634606777, 0.9962051153224132, 0.995210329283935, 0.9967020828292036, 0.9958761872238837, 0.9935200081734823, 0.9979667623458703, 0.1467565972735128, 0.026932858675663397, 0.7172934810559334, 0.10333423328621875, 0.0043972014164348405, 0.0010993003541087101, 0.29745963738751224, 0.21826583782330441, 0.48417672579092896, 0.7410547452269156, 0.009727448923026339, 0.08577841323032317, 0.03448822799982065, 0.10169605692254809, 0.026529406153708197, 0.9962327456610337, 0.2533232382236074, 0.7448709786177595, 0.37204772249078144, 0.17587231105694628, 0.19432967503593615, 0.002373089654441554, 0.16664362906745137, 0.010547065130851352, 0.0553720919369696, 0.0015820597696277027, 0.02162148351824527, 0.030070015641447564, 0.0054672755711722846, 0.08200913356758427, 0.1749528182775131, 0.09841096028110112, 0.043738204569378276, 0.0013668188927930711, 0.5631293838307453, 0.13871527325785935, 0.7573439844436559, 0.09813587988690346, 0.005382980753290064, 0.9957727982431742, 0.9949487773411199, 0.49628096850131226, 0.009707207207849629, 0.06795045045494741, 0.4246903153434213, 0.14497820436924058, 0.06787234381554191, 0.08538005087750149, 0.20673484229327607, 0.16044734280069803, 0.009113600936362518, 0.1404214039010593, 0.0050364636753582335, 0.009233516738156762, 0.17076010175500297, 0.995815196053567, 0.03396575722425745, 0.8232652584355734, 0.06146184640579919, 0.08006214202860684, 0.19301868097414002, 0.6298999881546326, 0.10168789046442499, 0.07532436330698147, 0.013152699237755137, 0.06456779625807067, 0.9218846465735646, 0.9983726281073573, 0.9974333334406578, 0.9970828311805927, 0.9970910190394969, 0.18818110688884232, 0.17614108346230503, 0.1351158184533631, 0.08963128550866661, 0.05841640995838471, 0.3447014114338273, 0.008026682284358204, 0.9946876458133701, 0.9665844408923955, 0.03228674541602991, 0.9975814444189761, 0.9957393304169974, 0.582434981536464, 0.34818179060965004, 0.003997494725713548, 0.06475941455655948, 0.9971650355299275, 0.9964721000095637, 0.5939310971633015, 0.025728292755238465, 0.05668945861323729, 0.32356598685401594, 0.9852811427111284, 0.012992718365421475, 0.9970366867087611, 0.9979558669547973, 0.061896562111503656, 0.9271028542353482, 0.01076461949765281, 0.9925780873635002, 0.004241786698134616, 0.12072587516302045, 0.34079908509560985, 0.5382361934351328, 0.6529813149954194, 0.3155456828946872, 0.005782250733672278, 0.025607110391977234, 0.9957770192058952, 0.31050958919587784, 0.08913682213509427, 0.0751785835040493, 0.04505817382653117, 0.10774780697648759, 0.06293451452944843, 0.06391404004741649, 0.002938576553904207, 0.2145160884350071, 0.027916477262089963, 0.9938212542308738, 0.020021158060710535, 0.012012694836426321, 0.9109626917623294, 0.030031737091065804, 0.02802962128499475, 0.9806168576106148, 0.01733413637190481, 0.033574636994648174, 0.12936110136173268, 0.5006570869496066, 0.09084901775022448, 0.054311912785460284, 0.006912425263604036, 0.18367301414719298, 0.27659439570367256, 0.7191454288295486, 0.9959629262287082, 0.9968204126848769, 0.9979186714274002, 0.9973433879458656, 0.03027581250506244, 0.31197250276955646, 0.014479736415464645, 0.010530717393065197, 0.12768494839091551, 0.5041580951929963, 0.9978123391825453, 0.03132953398334584, 0.24378293630790984, 0.1155276565635878, 0.55316208439345, 0.056295256376324564, 0.9941346231265807, 0.003447453560615444, 0.22925566178092704, 0.7653346904566286, 0.9966345354099426, 0.9957265298338235, 0.9986275267124265, 0.9965507425228997, 0.9972104173700428, 0.997167182310775, 0.9969238576294783, 0.0694649160412542, 0.07889842315796773, 0.0231549720137514, 0.0926198880550056, 0.025727746681946, 0.7100858084217095, 0.997849822528472, 0.9971603641981791, 0.07012458454221564, 0.9101275866117348, 0.017904149244821012, 0.9969759169964622, 0.3233144151350594, 0.005111690357866551, 0.0038337677683999132, 0.09201042644159792, 0.575065165259987, 0.23389919762813977, 0.594022527051736, 0.08686391865493778, 0.08505425368295992, 0.9136528676904608, 0.03090580524957161, 0.054729030129449734, 0.9955306782930629, 0.9982674674810711, 0.14175618083468045, 0.8550372812250566, 0.9968111515339534, 0.9978751104985424, 0.9965473460256361, 0.9982435185417011, 0.9974368404939207, 0.9920381949248871, 0.9983163859903645, 0.9938747840605928, 0.10667593246831124, 0.8921987079167849, 0.1341167277974619, 0.8633764351961609, 0.001047786935917671, 0.45465860920432577, 0.10587940214347312, 0.09757513530869091, 0.0020760667086955516, 0.3166001730760716, 0.02387476714999884, 0.044767816334539155, 0.03426363596554114, 0.6067414660759329, 0.21033370691255548, 0.10379130602700419, 0.996470143275797, 0.9989992782096868, 0.9962112356975458, 0.9970950901081104, 0.9988498090795122, 0.9995915030600503, 0.02224706152308073, 0.03893235766539128, 0.4505029958423848, 0.4203105552039181, 0.0675357224807808, 0.9944896574945779, 0.9952690917972544, 0.9974557346646324, 0.9969940711542867, 0.9168204422450598, 0.08253372744722338, 0.3881890053017211, 0.1628491933877299, 0.10867933656741098, 0.04381135755373755, 0.08949064120472748, 0.05196230779629338, 0.061471749745941835, 0.04466041487067045, 0.03226417804345014, 0.016641523411884806, 0.5042692532962992, 0.49431657066545115, 0.9922948970972688, 0.997462051881704, 0.19304639055358983, 0.4247020592178976, 0.08737889256636171, 0.012192403613910937, 0.0006773557563283854, 0.11311841130684036, 0.05486581626259921, 0.0013547115126567707, 0.1063448537435565, 0.006773557563283854, 0.9955832357113206, 0.9972378298963395], \"Term\": [\"associated\", \"com\", \"icann\", \"icann\", \"press\", \"\\u0430\\u0432\\u0430\\u0440\\u0438\\u044f\", \"\\u0430\\u0432\\u0442\\u043e\\u043c\\u0430\\u0442\", \"\\u0430\\u0432\\u0442\\u043e\\u043c\\u0430\\u0442\", \"\\u0430\\u0432\\u0442\\u043e\\u043c\\u043e\\u0431\\u0438\\u043b\\u044c\", \"\\u0430\\u0432\\u0442\\u043e\\u043c\\u043e\\u0431\\u0438\\u043b\\u044c\", \"\\u0430\\u0432\\u0442\\u043e\\u043c\\u043e\\u0431\\u0438\\u043b\\u044c\", \"\\u0430\\u0432\\u0442\\u043e\\u0440\", \"\\u0430\\u0434\\u0432\\u043e\\u043a\\u0430\\u0442\", \"\\u0430\\u0434\\u043c\\u0438\\u043d\\u0438\\u0441\\u0442\\u0440\\u0430\\u0446\\u0438\\u044f\", \"\\u0430\\u0434\\u043c\\u0438\\u043d\\u0438\\u0441\\u0442\\u0440\\u0430\\u0446\\u0438\\u044f\", \"\\u0430\\u0434\\u043c\\u0438\\u043d\\u0438\\u0441\\u0442\\u0440\\u0430\\u0446\\u0438\\u044f\", \"\\u0430\\u0434\\u043c\\u0438\\u043d\\u0438\\u0441\\u0442\\u0440\\u0430\\u0446\\u0438\\u044f\", \"\\u0430\\u0434\\u0440\\u0435\\u0441\", \"\\u0430\\u043a\\u0446\\u0438\\u0437\", \"\\u0430\\u043a\\u0446\\u0438\\u043e\\u043d\\u0435\\u0440\", \"\\u0430\\u043a\\u0446\\u0438\\u044f\", \"\\u0430\\u043a\\u0446\\u0438\\u044f\", \"\\u0430\\u043a\\u0446\\u0438\\u044f\", \"\\u0430\\u043b\\u0435\\u043a\\u0441\\u0430\\u043d\\u0434\\u0440\", \"\\u0430\\u043b\\u0435\\u043a\\u0441\\u0430\\u043d\\u0434\\u0440\", \"\\u0430\\u043b\\u0435\\u043a\\u0441\\u0430\\u043d\\u0434\\u0440\", \"\\u0430\\u043b\\u0435\\u043a\\u0441\\u0435\\u0439\", \"\\u0430\\u043b\\u044e\\u043c\\u0438\\u043d\\u0438\\u0439\", \"\\u0430\\u043c\\u0435\\u0440\\u0438\\u043a\\u0430\\u043d\\u0441\\u043a\\u0438\\u0439\", \"\\u0430\\u043c\\u0435\\u0440\\u0438\\u043a\\u0430\\u043d\\u0441\\u043a\\u0438\\u0439\", \"\\u0430\\u043c\\u0435\\u0440\\u0438\\u043a\\u0430\\u043d\\u0441\\u043a\\u0438\\u0439\", \"\\u0430\\u043c\\u043d\\u0438\\u0441\\u0442\\u0438\\u044f\", \"\\u0430\\u043d\\u0434\\u0440\\u0435\\u0439\", \"\\u0430\\u0440\\u0431\\u0438\\u0442\\u0440\\u0430\\u0436\\u043d\\u044b\\u0439\", \"\\u0430\\u0440\\u0433\\u0443\\u043d\", \"\\u0430\\u0443\\u043a\\u0446\\u0438\\u043e\\u043d\", \"\\u0430\\u0445\\u043c\\u0430\\u0434\", \"\\u0431\\u0430\\u043d\\u0434\\u0438\\u0442\", \"\\u0431\\u0430\\u043d\\u0434\\u0444\\u043e\\u0440\\u043c\\u0438\\u0440\\u043e\\u0432\\u0430\\u043d\\u0438\\u0435\", \"\\u0431\\u0430\\u043d\\u043a\", \"\\u0431\\u0430\\u043d\\u043a\", \"\\u0431\\u0430\\u043d\\u043a\", \"\\u0431\\u0430\\u043d\\u043a\", \"\\u0431\\u0430\\u0440\\u0440\\u0435\\u043b\\u044c\", \"\\u0431\\u0435\\u0436\\u0435\\u043d\\u0435\\u0446\", \"\\u0431\\u0435\\u043b\\u043e\\u0440\\u0443\\u0441\\u0441\\u0438\\u044f\", \"\\u0431\\u0435\\u0440\\u0435\\u0437\\u043e\\u0432\\u0441\\u043a\\u0438\\u0439\", \"\\u0431\\u0438\\u0437\\u043d\\u0435\\u0441\", \"\\u0431\\u0438\\u0437\\u043d\\u0435\\u0441\\u043c\\u0435\\u043d\", \"\\u0431\\u0438\\u0440\\u0436\\u0430\", \"\\u0431\\u043e\\u0435\\u0432\\u0438\\u043a\", \"\\u0431\\u043e\\u0435\\u0432\\u043e\\u0439\", \"\\u0431\\u043e\\u0435\\u043f\\u0440\\u0438\\u043f\\u0430\\u0441\\u044b\", \"\\u0431\\u043e\\u043b\\u044c\\u043d\\u0438\\u0446\\u0430\", \"\\u0431\\u043e\\u0440\\u0438\\u0441\", \"\\u0431\\u043e\\u0440\\u0438\\u0441\", \"\\u0431\\u043e\\u0440\\u0442\", \"\\u0431\\u043e\\u0440\\u044c\\u0431\\u0430\", \"\\u0431\\u043e\\u0440\\u044c\\u0431\\u0430\", \"\\u0431\\u043e\\u0440\\u044c\\u0431\\u0430\", \"\\u0431\\u0440\\u0438\\u0442\\u0430\\u043d\\u0441\\u043a\\u0438\\u0439\", \"\\u0431\\u0440\\u0438\\u0442\\u0430\\u043d\\u0441\\u043a\\u0438\\u0439\", \"\\u0432\\u0435\\u0434\\u043e\\u043c\\u0441\\u0442\\u0432\\u043e\", \"\\u0432\\u0435\\u0434\\u043e\\u043c\\u0441\\u0442\\u0432\\u043e\", \"\\u0432\\u0435\\u0434\\u043e\\u043c\\u0441\\u0442\\u0432\\u043e\", \"\\u0432\\u0435\\u0441\\u044c\", \"\\u0432\\u0435\\u0441\\u044c\", \"\\u0432\\u0435\\u0441\\u044c\", \"\\u0432\\u0435\\u0441\\u044c\", \"\\u0432\\u0435\\u0441\\u044c\", \"\\u0432\\u0435\\u0441\\u044c\", \"\\u0432\\u0435\\u0441\\u044c\", \"\\u0432\\u0435\\u0441\\u044c\", \"\\u0432\\u0435\\u0441\\u044c\", \"\\u0432\\u0435\\u0441\\u044c\", \"\\u0432\\u0435\\u0447\\u0435\\u0440\", \"\\u0432\\u0435\\u0447\\u0435\\u0440\", \"\\u0432\\u0435\\u0447\\u0435\\u0440\", \"\\u0432\\u0435\\u0447\\u0435\\u0440\", \"\\u0432\\u0437\\u0440\\u044b\\u0432\", \"\\u0432\\u0437\\u0440\\u044b\\u0432\", \"\\u0432\\u0437\\u0440\\u044b\\u0432\\u043d\\u043e\\u0439\", \"\\u0432\\u0437\\u0440\\u044b\\u0432\\u0447\\u0430\\u0442\\u043a\\u0430\", \"\\u0432\\u0438\\u0437\\u0438\\u0442\", \"\\u0432\\u0438\\u0440\\u0443\\u0441\", \"\\u0432\\u043b\\u0430\\u0434\\u0435\\u043b\\u0435\\u0446\", \"\\u0432\\u043b\\u0430\\u0434\\u0438\\u0432\\u043e\\u0441\\u0442\\u043e\\u043a\", \"\\u0432\\u043b\\u0430\\u0434\\u0438\\u043c\\u0438\\u0440\", \"\\u0432\\u043b\\u0430\\u0434\\u0438\\u043c\\u0438\\u0440\", \"\\u0432\\u043b\\u0430\\u0434\\u0438\\u043c\\u0438\\u0440\", \"\\u0432\\u043b\\u0430\\u0434\\u0438\\u043c\\u0438\\u0440\", \"\\u0432\\u043b\\u0430\\u0434\\u0438\\u043c\\u0438\\u0440\", \"\\u0432\\u043b\\u0430\\u0434\\u0438\\u043c\\u0438\\u0440\", \"\\u0432\\u043b\\u0430\\u0441\\u0442\\u044c\", \"\\u0432\\u043b\\u0430\\u0441\\u0442\\u044c\", \"\\u0432\\u043b\\u0430\\u0441\\u0442\\u044c\", \"\\u0432\\u043b\\u0430\\u0441\\u0442\\u044c\", \"\\u0432\\u043b\\u0430\\u0441\\u0442\\u044c\", \"\\u0432\\u043b\\u0430\\u0441\\u0442\\u044c\", \"\\u0432\\u043d\\u043e\\u0441\\u0438\\u0442\\u044c\", \"\\u0432\\u043d\\u043e\\u0441\\u0438\\u0442\\u044c\", \"\\u0432\\u043d\\u0443\\u0442\\u0440\\u0435\\u043d\\u043d\\u0438\\u0439\", \"\\u0432\\u043d\\u0443\\u0442\\u0440\\u0435\\u043d\\u043d\\u0438\\u0439\", \"\\u0432\\u043d\\u0443\\u0442\\u0440\\u0435\\u043d\\u043d\\u0438\\u0439\", \"\\u0432\\u043d\\u0443\\u0442\\u0440\\u0435\\u043d\\u043d\\u0438\\u0439\", \"\\u0432\\u043d\\u0443\\u0442\\u0440\\u0435\\u043d\\u043d\\u0438\\u0439\", \"\\u0432\\u043e\\u0434\\u0430\", \"\\u0432\\u043e\\u0434\\u0438\\u0442\\u0435\\u043b\\u044c\", \"\\u0432\\u043e\\u0435\\u043d\\u043d\\u043e\\u0441\\u043b\\u0443\\u0436\\u0430\\u0449\\u0438\\u0439\", \"\\u0432\\u043e\\u0435\\u043d\\u043d\\u044b\\u0439\", \"\\u0432\\u043e\\u0435\\u043d\\u043d\\u044b\\u0439\", \"\\u0432\\u043e\\u0435\\u043d\\u043d\\u044b\\u0439\", \"\\u0432\\u043e\\u0437\\u0431\\u0443\\u0436\\u0434\\u0430\\u0442\\u044c\", \"\\u0432\\u043e\\u0439\\u0441\\u043a\\u043e\", \"\\u0432\\u043e\\u043e\\u0440\\u0443\\u0436\\u0435\\u043d\\u043d\\u044b\\u0439\", \"\\u0432\\u043e\\u043e\\u0440\\u0443\\u0436\\u0435\\u043d\\u043d\\u044b\\u0439\", \"\\u0432\\u043e\\u043f\\u0440\\u043e\\u0441\", \"\\u0432\\u043e\\u043f\\u0440\\u043e\\u0441\", \"\\u0432\\u043e\\u043f\\u0440\\u043e\\u0441\", \"\\u0432\\u043e\\u0440\\u043e\\u0442\\u0430\", \"\\u0432\\u043e\\u0441\\u043a\\u0440\\u0435\\u0441\\u0435\\u043d\\u0438\\u0435\", \"\\u0432\\u043e\\u0441\\u043a\\u0440\\u0435\\u0441\\u0435\\u043d\\u0438\\u0435\", \"\\u0432\\u043e\\u0441\\u0441\\u0442\\u0430\\u043d\\u043e\\u0432\\u043b\\u0435\\u043d\\u0438\\u0435\", \"\\u0432\\u043f\\u043e\\u0441\\u043b\\u0435\\u0434\\u0441\\u0442\\u0432\\u0438\\u0438\", \"\\u0432\\u0440\\u0430\\u0447\", \"\\u0432\\u0440\\u0435\\u043c\\u044f\", \"\\u0432\\u0440\\u0435\\u043c\\u044f\", \"\\u0432\\u0440\\u0435\\u043c\\u044f\", \"\\u0432\\u0440\\u0435\\u043c\\u044f\", \"\\u0432\\u0440\\u0435\\u043c\\u044f\", \"\\u0432\\u0440\\u0435\\u043c\\u044f\", \"\\u0432\\u0440\\u0435\\u043c\\u044f\", \"\\u0432\\u0440\\u0435\\u043c\\u044f\", \"\\u0432\\u0440\\u0435\\u043c\\u044f\", \"\\u0432\\u0440\\u0435\\u043c\\u044f\", \"\\u0432\\u0441\\u0435\\u043c\\u0438\\u0440\\u043d\\u044b\\u0439\", \"\\u0432\\u0441\\u0442\\u0440\\u0435\\u0447\\u0430\", \"\\u0432\\u0441\\u0442\\u0440\\u0435\\u0447\\u0430\", \"\\u0432\\u0441\\u0442\\u0440\\u0435\\u0447\\u0430\", \"\\u0432\\u0442\\u043e\\u0440\\u043e\\u0439\", \"\\u0432\\u0442\\u043e\\u0440\\u043e\\u0439\", \"\\u0432\\u0442\\u043e\\u0440\\u043e\\u0439\", \"\\u0432\\u0442\\u043e\\u0440\\u043e\\u0439\", \"\\u0432\\u0442\\u043e\\u0440\\u043e\\u0439\", \"\\u0432\\u044a\\u0435\\u0437\\u0434\", \"\\u0432\\u044b\\u0431\\u043e\\u0440\\u044b\", \"\\u0432\\u044b\\u0434\\u0435\\u043b\\u044f\\u0442\\u044c\", \"\\u0432\\u044b\\u0435\\u0437\\u0436\\u0430\\u0442\\u044c\", \"\\u0432\\u044b\\u0438\\u0433\\u0440\\u044b\\u0432\\u0430\\u0442\\u044c\", \"\\u0432\\u044b\\u043d\\u0435\\u0441\\u0442\\u0438\", \"\\u0432\\u044b\\u043f\\u043b\\u0430\\u0442\\u0430\", \"\\u0432\\u044b\\u0441\\u0442\\u0443\\u043f\\u0430\\u0442\\u044c\", \"\\u0432\\u044b\\u0441\\u0442\\u0443\\u043f\\u0430\\u0442\\u044c\", \"\\u0432\\u044b\\u0441\\u0442\\u0443\\u043f\\u0430\\u0442\\u044c\", \"\\u0432\\u044b\\u0441\\u0442\\u0443\\u043f\\u0430\\u0442\\u044c\", \"\\u0432\\u044b\\u0445\\u043e\\u0434\\u0438\\u0442\\u044c\", \"\\u0432\\u044b\\u0445\\u043e\\u0434\\u0438\\u0442\\u044c\", \"\\u0432\\u044b\\u0445\\u043e\\u0434\\u0438\\u0442\\u044c\", \"\\u0432\\u044b\\u0445\\u043e\\u0434\\u0438\\u0442\\u044c\", \"\\u0432\\u044b\\u0445\\u043e\\u0434\\u0438\\u0442\\u044c\", \"\\u0432\\u044b\\u0445\\u043e\\u0434\\u0438\\u0442\\u044c\", \"\\u0433\\u0430\\u0437\\u0435\\u0442\\u0430\", \"\\u0433\\u0430\\u0437\\u0435\\u0442\\u0430\", \"\\u0433\\u0430\\u0437\\u0435\\u0442\\u0430\", \"\\u0433\\u0430\\u0437\\u043f\\u0440\\u043e\\u043c\", \"\\u0433\\u0435\\u043d\\u0435\\u0440\\u0430\\u043b\", \"\\u0433\\u0435\\u043d\\u0435\\u0440\\u0430\\u043b\", \"\\u0433\\u0435\\u043d\\u0435\\u0440\\u0430\\u043b\", \"\\u0433\\u0435\\u043d\\u043d\\u0430\\u0434\\u0438\\u0439\", \"\\u0433\\u043b\\u0430\\u0432\\u0430\", \"\\u0433\\u043b\\u0430\\u0432\\u0430\", \"\\u0433\\u043b\\u0430\\u0432\\u0430\", \"\\u0433\\u043b\\u0430\\u0432\\u0430\", \"\\u0433\\u043e\\u0434\", \"\\u0433\\u043e\\u0434\", \"\\u0433\\u043e\\u0434\", \"\\u0433\\u043e\\u0434\", \"\\u0433\\u043e\\u0434\", \"\\u0433\\u043e\\u0434\", \"\\u0433\\u043e\\u0434\", \"\\u0433\\u043e\\u0434\", \"\\u0433\\u043e\\u043b\", \"\\u0433\\u043e\\u043b\\u043e\\u0432\\u0430\", \"\\u0433\\u043e\\u043b\\u043e\\u0441\", \"\\u0433\\u043e\\u043b\\u043e\\u0441\\u043e\\u0432\\u0430\\u043d\\u0438\\u0435\", \"\\u0433\\u043e\\u0440\\u043e\\u0434\", \"\\u0433\\u043e\\u0440\\u043e\\u0434\", \"\\u0433\\u043e\\u0440\\u043e\\u0434\", \"\\u0433\\u043e\\u0440\\u043e\\u0434\", \"\\u0433\\u043e\\u0440\\u043e\\u0434\", \"\\u0433\\u043e\\u0441\\u0434\\u0443\\u043c\\u0430\", \"\\u0433\\u043e\\u0441\\u0443\\u0434\\u0430\\u0440\\u0441\\u0442\\u0432\\u0435\\u043d\\u043d\\u044b\\u0439\", \"\\u0433\\u043e\\u0441\\u0443\\u0434\\u0430\\u0440\\u0441\\u0442\\u0432\\u0435\\u043d\\u043d\\u044b\\u0439\", \"\\u0433\\u043e\\u0441\\u0443\\u0434\\u0430\\u0440\\u0441\\u0442\\u0432\\u0435\\u043d\\u043d\\u044b\\u0439\", \"\\u0433\\u043e\\u0441\\u0443\\u0434\\u0430\\u0440\\u0441\\u0442\\u0432\\u0435\\u043d\\u043d\\u044b\\u0439\", \"\\u0433\\u043e\\u0441\\u0443\\u0434\\u0430\\u0440\\u0441\\u0442\\u0432\\u0435\\u043d\\u043d\\u044b\\u0439\", \"\\u0433\\u043e\\u0441\\u0443\\u0434\\u0430\\u0440\\u0441\\u0442\\u0432\\u0435\\u043d\\u043d\\u044b\\u0439\", \"\\u0433\\u043e\\u0441\\u0443\\u0434\\u0430\\u0440\\u0441\\u0442\\u0432\\u0435\\u043d\\u043d\\u044b\\u0439\", \"\\u0433\\u043e\\u0441\\u0443\\u0434\\u0430\\u0440\\u0441\\u0442\\u0432\\u043e\", \"\\u0433\\u043e\\u0441\\u0443\\u0434\\u0430\\u0440\\u0441\\u0442\\u0432\\u043e\", \"\\u0433\\u043e\\u0441\\u0443\\u0434\\u0430\\u0440\\u0441\\u0442\\u0432\\u043e\", \"\\u0433\\u043e\\u0441\\u0443\\u0434\\u0430\\u0440\\u0441\\u0442\\u0432\\u043e\", \"\\u0433\\u0440\\u0430\\u0436\\u0434\\u0430\\u043d\\u0438\\u043d\", \"\\u0433\\u0440\\u0430\\u0436\\u0434\\u0430\\u043d\\u0438\\u043d\", \"\\u0433\\u0440\\u0430\\u0436\\u0434\\u0430\\u043d\\u0438\\u043d\", \"\\u0433\\u0440\\u0430\\u0436\\u0434\\u0430\\u043d\\u0438\\u043d\", \"\\u0433\\u0440\\u0430\\u043d\\u0430\\u0442\\u0430\", \"\\u0433\\u0440\\u0430\\u043d\\u0430\\u0442\\u043e\\u043c\\u0435\\u0442\", \"\\u0433\\u0440\\u0435\\u0444\", \"\\u0433\\u0440\\u043e\\u0437\\u043d\\u044b\\u0439\", \"\\u0433\\u0440\\u0443\\u0437\\u0438\\u044f\", \"\\u0433\\u0440\\u0443\\u043f\\u043f\\u0438\\u0440\\u043e\\u0432\\u043a\\u0430\", \"\\u0433\\u0440\\u0443\\u043f\\u043f\\u0438\\u0440\\u043e\\u0432\\u043a\\u0430\", \"\\u0433\\u0443\\u0431\\u0435\\u0440\\u043d\\u0430\\u0442\\u043e\\u0440\", \"\\u0433\\u0443\\u0432\\u0434\", \"\\u0433\\u0443\\u0434\\u0435\\u0440\\u043c\\u0435\\u0441\", \"\\u0433\\u0443\\u0441\\u0438\\u043d\\u0441\\u043a\\u0438\\u0439\", \"\\u0434\\u0430\\u0433\\u0435\\u0441\\u0442\\u0430\\u043d\", \"\\u0434\\u0430\\u043d\\u043d\\u044b\\u0435\", \"\\u0434\\u0430\\u043d\\u043d\\u044b\\u0435\", \"\\u0434\\u0430\\u043d\\u043d\\u044b\\u0435\", \"\\u0434\\u0430\\u043d\\u043d\\u044b\\u0435\", \"\\u0434\\u0430\\u043d\\u043d\\u044b\\u0435\", \"\\u0434\\u0430\\u043d\\u043d\\u044b\\u0435\", \"\\u0434\\u0430\\u043d\\u043d\\u044b\\u0435\", \"\\u0434\\u0430\\u043d\\u043d\\u044b\\u0435\", \"\\u0434\\u0430\\u043d\\u043d\\u044b\\u0435\", \"\\u0434\\u0435\\u0432\\u044f\\u0442\\u044c\", \"\\u0434\\u0435\\u043b\\u0435\\u0433\\u0430\\u0446\\u0438\\u044f\", \"\\u0434\\u0435\\u043b\\u043e\", \"\\u0434\\u0435\\u043b\\u043e\", \"\\u0434\\u0435\\u043b\\u043e\", \"\\u0434\\u0435\\u043b\\u043e\", \"\\u0434\\u0435\\u043b\\u043e\", \"\\u0434\\u0435\\u043b\\u043e\", \"\\u0434\\u0435\\u043d\\u044c\", \"\\u0434\\u0435\\u043d\\u044c\", \"\\u0434\\u0435\\u043d\\u044c\", \"\\u0434\\u0435\\u043d\\u044c\", \"\\u0434\\u0435\\u043d\\u044c\", \"\\u0434\\u0435\\u043d\\u044c\", \"\\u0434\\u0435\\u043d\\u044c\", \"\\u0434\\u0435\\u043d\\u044c\", \"\\u0434\\u0435\\u043d\\u044c\", \"\\u0434\\u0435\\u043d\\u044c\", \"\\u0434\\u0435\\u043d\\u044c\\u0433\\u0438\", \"\\u0434\\u0435\\u043d\\u044c\\u0433\\u0438\", \"\\u0434\\u0435\\u043f\\u0443\\u0442\\u0430\\u0442\", \"\\u0434\\u0435\\u0441\\u044f\\u0442\\u044c\", \"\\u0434\\u0435\\u0441\\u044f\\u0442\\u044c\", \"\\u0434\\u0438\\u0440\\u0435\\u043a\\u0442\\u043e\\u0440\", \"\\u0434\\u0438\\u0440\\u0435\\u043a\\u0442\\u043e\\u0440\", \"\\u0434\\u0438\\u0440\\u0435\\u043a\\u0442\\u043e\\u0440\", \"\\u0434\\u0438\\u0440\\u0435\\u043a\\u0442\\u043e\\u0440\", \"\\u0434\\u0438\\u0440\\u0435\\u043a\\u0442\\u043e\\u0440\", \"\\u0434\\u043e\\u0431\\u0430\\u0432\\u043b\\u044f\\u0442\\u044c\", \"\\u0434\\u043e\\u0433\\u043e\\u0432\\u043e\\u0440\", \"\\u0434\\u043e\\u0433\\u043e\\u0432\\u043e\\u0440\", \"\\u0434\\u043e\\u043a\\u0443\\u043c\\u0435\\u043d\\u0442\", \"\\u0434\\u043e\\u043a\\u0443\\u043c\\u0435\\u043d\\u0442\", \"\\u0434\\u043e\\u043a\\u0443\\u043c\\u0435\\u043d\\u0442\", \"\\u0434\\u043e\\u043a\\u0443\\u043c\\u0435\\u043d\\u0442\", \"\\u0434\\u043e\\u043a\\u0443\\u043c\\u0435\\u043d\\u0442\", \"\\u0434\\u043e\\u043a\\u0443\\u043c\\u0435\\u043d\\u0442\", \"\\u0434\\u043e\\u043b\\u0433\", \"\\u0434\\u043e\\u043b\\u0436\\u043d\\u043e\\u0441\\u0442\\u044c\", \"\\u0434\\u043e\\u043b\\u0436\\u043d\\u044b\\u0439\", \"\\u0434\\u043e\\u043b\\u0436\\u043d\\u044b\\u0439\", \"\\u0434\\u043e\\u043b\\u0436\\u043d\\u044b\\u0439\", \"\\u0434\\u043e\\u043b\\u0436\\u043d\\u044b\\u0439\", \"\\u0434\\u043e\\u043b\\u0436\\u043d\\u044b\\u0439\", \"\\u0434\\u043e\\u043b\\u0436\\u043d\\u044b\\u0439\", \"\\u0434\\u043e\\u043b\\u0436\\u043d\\u044b\\u0439\", \"\\u0434\\u043e\\u043b\\u043b\\u0430\\u0440\", \"\\u0434\\u043e\\u043b\\u043b\\u0430\\u0440\", \"\\u0434\\u043e\\u043b\\u043b\\u0430\\u0440\", \"\\u0434\\u043e\\u043b\\u043b\\u0430\\u0440\", \"\\u0434\\u043e\\u043c\", \"\\u0434\\u043e\\u043c\\u0435\\u043d\", \"\\u0434\\u043e\\u043c\\u0435\\u043d\\u043d\\u044b\\u0439\", \"\\u0434\\u043e\\u043f\\u043e\\u043b\\u043d\\u0438\\u0442\\u0435\\u043b\\u044c\\u043d\\u044b\\u0439\", \"\\u0434\\u043e\\u043f\\u0440\\u043e\\u0441\", \"\\u0434\\u043e\\u0441\\u0442\\u0430\\u0432\\u043b\\u044f\\u0442\\u044c\", \"\\u0434\\u043e\\u0441\\u0442\\u0443\\u043f\", \"\\u0434\\u0443\\u043c\\u0430\", \"\\u0435\\u0432\\u0433\\u0435\\u043d\\u0438\\u0439\", \"\\u0435\\u0432\\u0440\\u043e\\u043f\\u0430\", \"\\u0435\\u0432\\u0440\\u043e\\u043f\\u0430\", \"\\u0435\\u0432\\u0440\\u043e\\u043f\\u0430\", \"\\u0435\\u044d\\u0441\", \"\\u0436\\u0435\\u043d\\u0449\\u0438\\u043d\\u0430\", \"\\u0436\\u0435\\u043d\\u0449\\u0438\\u043d\\u0430\", \"\\u0436\\u0435\\u0440\\u0442\\u0432\\u0430\", \"\\u0436\\u0438\\u0442\\u0435\\u043b\\u044c\", \"\\u0436\\u0438\\u0442\\u0435\\u043b\\u044c\", \"\\u0437\\u0430\\u0431\\u0438\\u0432\\u0430\\u0442\\u044c\", \"\\u0437\\u0430\\u0432\\u043e\\u0434\", \"\\u0437\\u0430\\u0434\\u0435\\u0440\\u0436\\u0430\\u043d\\u0438\\u0435\", \"\\u0437\\u0430\\u0434\\u0435\\u0440\\u0436\\u0438\\u0432\\u0430\\u0442\\u044c\", \"\\u0437\\u0430\\u043a\\u043b\\u0430\\u0434\\u044b\\u0432\\u0430\\u0442\\u044c\", \"\\u0437\\u0430\\u043a\\u043b\\u0430\\u0434\\u044b\\u0432\\u0430\\u0442\\u044c\", \"\\u0437\\u0430\\u043a\\u043e\\u043d\", \"\\u0437\\u0430\\u043a\\u043e\\u043d\", \"\\u0437\\u0430\\u043a\\u043e\\u043d\", \"\\u0437\\u0430\\u043a\\u043e\\u043d\", \"\\u0437\\u0430\\u043a\\u043e\\u043d\\u043e\\u043f\\u0440\\u043e\\u0435\\u043a\\u0442\", \"\\u0437\\u0430\\u043a\\u043e\\u043d\\u043e\\u043f\\u0440\\u043e\\u0435\\u043a\\u0442\", \"\\u0437\\u0430\\u043b\\u043e\\u0436\\u043d\\u0438\\u043a\", \"\\u0437\\u0430\\u043e\", \"\\u0437\\u0430\\u043f\\u0440\\u0435\\u0449\\u0430\\u0442\\u044c\", \"\\u0437\\u0430\\u043f\\u0440\\u0435\\u0449\\u0430\\u0442\\u044c\", \"\\u0437\\u0430\\u0441\\u0435\\u0434\\u0430\\u043d\\u0438\\u0435\", \"\\u0437\\u0430\\u0441\\u0435\\u0434\\u0430\\u043d\\u0438\\u0435\", \"\\u0437\\u0430\\u0441\\u0435\\u0434\\u0430\\u043d\\u0438\\u0435\", \"\\u0437\\u0430\\u044f\\u0432\\u043b\\u0435\\u043d\\u0438\\u0435\", \"\\u0437\\u0430\\u044f\\u0432\\u043b\\u0435\\u043d\\u0438\\u0435\", \"\\u0437\\u0430\\u044f\\u0432\\u043b\\u0435\\u043d\\u0438\\u0435\", \"\\u0437\\u0430\\u044f\\u0432\\u043b\\u0435\\u043d\\u0438\\u0435\", \"\\u0437\\u0430\\u044f\\u0432\\u043b\\u044f\\u0442\\u044c\", \"\\u0437\\u0430\\u044f\\u0432\\u043b\\u044f\\u0442\\u044c\", \"\\u0437\\u0430\\u044f\\u0432\\u043b\\u044f\\u0442\\u044c\", \"\\u0437\\u0430\\u044f\\u0432\\u043b\\u044f\\u0442\\u044c\", \"\\u0437\\u0430\\u044f\\u0432\\u043b\\u044f\\u0442\\u044c\", \"\\u0437\\u0430\\u044f\\u0432\\u043b\\u044f\\u0442\\u044c\", \"\\u0437\\u0430\\u044f\\u0432\\u043b\\u044f\\u0442\\u044c\", \"\\u0437\\u0434\\u0430\\u043d\\u0438\\u0435\", \"\\u0437\\u0434\\u0430\\u043d\\u0438\\u0435\", \"\\u0438\\u0432\\u0430\\u043d\\u043e\\u0432\", \"\\u0438\\u0433\\u043e\\u0440\\u044c\", \"\\u0438\\u0433\\u043e\\u0440\\u044c\", \"\\u0438\\u0433\\u0440\\u0430\", \"\\u0438\\u0433\\u0440\\u0430\\u0442\\u044c\", \"\\u0438\\u0437\\u0431\\u0438\\u0440\\u0430\\u0442\\u0435\\u043b\\u044c\\u043d\\u044b\\u0439\", \"\\u0438\\u0437\\u043c\\u0435\\u043d\\u0435\\u043d\\u0438\\u0435\", \"\\u0438\\u0437\\u044b\\u043c\\u0430\\u0442\\u044c\", \"\\u0438\\u043c\\u0435\\u0442\\u044c\", \"\\u0438\\u043c\\u0435\\u0442\\u044c\", \"\\u0438\\u043c\\u0435\\u0442\\u044c\", \"\\u0438\\u043c\\u0435\\u0442\\u044c\", \"\\u0438\\u043c\\u0435\\u0442\\u044c\", \"\\u0438\\u043c\\u0435\\u0442\\u044c\", \"\\u0438\\u043c\\u0435\\u0442\\u044c\", \"\\u0438\\u043c\\u0435\\u0442\\u044c\", \"\\u0438\\u043c\\u0435\\u0442\\u044c\", \"\\u0438\\u043c\\u044f\", \"\\u0438\\u043c\\u044f\", \"\\u0438\\u043c\\u044f\", \"\\u0438\\u043c\\u044f\", \"\\u0438\\u043c\\u044f\", \"\\u0438\\u043d\\u0433\\u0443\\u0448\\u0435\\u0442\\u0438\\u044f\", \"\\u0438\\u043d\\u0442\\u0435\\u0440\\u043d\\u0435\\u0442\", \"\\u0438\\u043d\\u0442\\u0435\\u0440\\u0444\\u0430\\u043a\\u0441\", \"\\u0438\\u043d\\u0442\\u0435\\u0440\\u0444\\u0430\\u043a\\u0441\", \"\\u0438\\u043d\\u0442\\u0435\\u0440\\u0444\\u0430\\u043a\\u0441\", \"\\u0438\\u043d\\u0442\\u0435\\u0440\\u0444\\u0430\\u043a\\u0441\", \"\\u0438\\u043d\\u0442\\u0435\\u0440\\u0444\\u0430\\u043a\\u0441\", \"\\u0438\\u043d\\u0442\\u0435\\u0440\\u0444\\u0430\\u043a\\u0441\", \"\\u0438\\u043d\\u0444\\u043e\\u0440\\u043c\\u0430\\u0446\\u0438\\u044f\", \"\\u0438\\u043d\\u0444\\u043e\\u0440\\u043c\\u0430\\u0446\\u0438\\u044f\", \"\\u0438\\u043d\\u0444\\u043e\\u0440\\u043c\\u0430\\u0446\\u0438\\u044f\", \"\\u0438\\u043d\\u0444\\u043e\\u0440\\u043c\\u0430\\u0446\\u0438\\u044f\", \"\\u0438\\u043d\\u0444\\u043e\\u0440\\u043c\\u0430\\u0446\\u0438\\u044f\", \"\\u0438\\u043d\\u0444\\u043e\\u0440\\u043c\\u0430\\u0446\\u0438\\u044f\", \"\\u0438\\u043d\\u0444\\u043e\\u0440\\u043c\\u0430\\u0446\\u0438\\u044f\", \"\\u0438\\u043d\\u0444\\u043e\\u0440\\u043c\\u0430\\u0446\\u0438\\u044f\", \"\\u0438\\u0441\\u043a\", \"\\u0438\\u0441\\u043a\", \"\\u0438\\u0441\\u043f\\u044b\\u0442\\u0430\\u043d\\u0438\\u0435\", \"\\u0438\\u0442\\u0430\\u043b\\u0438\\u044f\", \"\\u0438\\u0442\\u0430\\u0440\", \"\\u0438\\u0442\\u0430\\u0440\", \"\\u0438\\u0442\\u0430\\u0440\", \"\\u0438\\u0442\\u0430\\u0440\", \"\\u0438\\u044e\\u043b\\u044c\", \"\\u0438\\u044e\\u043b\\u044c\", \"\\u0438\\u044e\\u043b\\u044c\", \"\\u0438\\u044e\\u043d\\u044c\", \"\\u0438\\u044e\\u043d\\u044c\", \"\\u0438\\u044e\\u043d\\u044c\", \"\\u0438\\u044e\\u043d\\u044c\", \"\\u043a\\u0430\\u0432\\u043a\\u0430\\u0437\", \"\\u043a\\u0430\\u0434\\u044b\\u0440\\u043e\\u0432\", \"\\u043a\\u0430\\u043c\\u0435\\u0440\\u0430\", \"\\u043a\\u0430\\u0440\\u0442\\u0430\", \"\\u043a\\u0430\\u0441\\u044c\\u044f\\u043d\\u043e\\u0432\", \"\\u043a\\u0438\\u043b\\u043e\\u0433\\u0440\\u0430\\u043c\\u043c\", \"\\u043a\\u043b\\u0438\\u0435\\u043d\\u0442\", \"\\u043a\\u043b\\u0438\\u043d\\u0442\\u043e\\u043d\", \"\\u043a\\u043b\\u0438\\u043d\\u0442\\u043e\\u043d\", \"\\u043a\\u043b\\u0443\\u0431\", \"\\u043a\\u043e\\u043c\\u0430\\u043d\\u0434\\u0430\", \"\\u043a\\u043e\\u043c\\u0430\\u043d\\u0434\\u0438\\u0440\", \"\\u043a\\u043e\\u043c\\u0430\\u043d\\u0434\\u0438\\u0440\", \"\\u043a\\u043e\\u043c\\u0430\\u043d\\u0434\\u0443\\u044e\\u0449\\u0438\\u0439\", \"\\u043a\\u043e\\u043c\\u0438\\u0441\\u0441\\u0438\\u044f\", \"\\u043a\\u043e\\u043c\\u0438\\u0441\\u0441\\u0438\\u044f\", \"\\u043a\\u043e\\u043c\\u0438\\u0441\\u0441\\u0438\\u044f\", \"\\u043a\\u043e\\u043c\\u0438\\u0441\\u0441\\u0438\\u044f\", \"\\u043a\\u043e\\u043c\\u043f\\u0430\\u043d\\u0438\\u044f\", \"\\u043a\\u043e\\u043c\\u043f\\u0430\\u043d\\u0438\\u044f\", \"\\u043a\\u043e\\u043c\\u043f\\u0430\\u043d\\u0438\\u044f\", \"\\u043a\\u043e\\u043c\\u043f\\u0430\\u043d\\u0438\\u044f\", \"\\u043a\\u043e\\u043c\\u043f\\u0435\\u043d\\u0441\\u0430\\u0446\\u0438\\u044f\", \"\\u043a\\u043e\\u043c\\u043f\\u044c\\u044e\\u0442\\u0435\\u0440\", \"\\u043a\\u043e\\u043d\\u043a\\u0443\\u0440\\u0441\", \"\\u043a\\u043e\\u043d\\u0441\\u0443\\u043b\\u044c\\u0442\\u0430\\u0446\\u0438\\u044f\", \"\\u043a\\u043e\\u043d\\u0446\\u0435\\u0440\\u043d\", \"\\u043a\\u043e\\u0440\\u043f\\u043e\\u0440\\u0430\\u0446\\u0438\\u044f\", \"\\u043a\\u043e\\u0441\\u043e\\u0432\\u043e\", \"\\u043a\\u043e\\u0442\\u043e\\u0440\\u044b\\u0439\", \"\\u043a\\u043e\\u0442\\u043e\\u0440\\u044b\\u0439\", \"\\u043a\\u043e\\u0442\\u043e\\u0440\\u044b\\u0439\", \"\\u043a\\u043e\\u0442\\u043e\\u0440\\u044b\\u0439\", \"\\u043a\\u043e\\u0442\\u043e\\u0440\\u044b\\u0439\", \"\\u043a\\u043e\\u0442\\u043e\\u0440\\u044b\\u0439\", \"\\u043a\\u043e\\u0442\\u043e\\u0440\\u044b\\u0439\", \"\\u043a\\u043e\\u0442\\u043e\\u0440\\u044b\\u0439\", \"\\u043a\\u043e\\u0442\\u043e\\u0440\\u044b\\u0439\", \"\\u043a\\u043e\\u0442\\u043e\\u0440\\u044b\\u0439\", \"\\u043b\\u0430\\u0433\\u0435\\u0440\\u044c\", \"\\u043b\\u0435\\u0439\\u0442\\u0435\\u043d\\u0430\\u043d\\u0442\", \"\\u043b\\u0435\\u0442\\u043d\\u0438\\u0439\", \"\\u043b\\u0435\\u0442\\u043d\\u0438\\u0439\", \"\\u043b\\u0435\\u0442\\u043d\\u0438\\u0439\", \"\\u043b\\u0438\\u0434\\u0435\\u0440\", \"\\u043b\\u0438\\u0434\\u0435\\u0440\", \"\\u043b\\u0438\\u0434\\u0435\\u0440\", \"\\u043b\\u0438\\u0446\\u0435\\u043d\\u0437\\u0438\\u044f\", \"\\u043b\\u0438\\u0447\\u043d\\u044b\\u0439\", \"\\u043c\\u0430\\u0439\\u043e\\u0440\", \"\\u043c\\u0430\\u043d\\u0438\\u043b\\u043e\\u0432\", \"\\u043c\\u0430\\u0440\\u043a\\u0430\", \"\\u043c\\u0430\\u0441\\u0445\\u0430\\u0434\\u043e\\u0432\", \"\\u043c\\u0430\\u0442\\u0435\\u0440\\u0438\\u0430\\u043b\", \"\\u043c\\u0430\\u0442\\u0447\", \"\\u043c\\u0430\\u0448\\u0438\\u043d\\u0430\", \"\\u043c\\u0430\\u0448\\u0438\\u043d\\u0430\", \"\\u043c\\u0430\\u0448\\u0438\\u043d\\u0430\", \"\\u043c\\u0432\\u0434\", \"\\u043c\\u0432\\u0434\", \"\\u043c\\u0435\\u0434\\u0438\\u0430\", \"\\u043c\\u0435\\u0434\\u0438\\u0430\", \"\\u043c\\u0435\\u0436\\u0434\\u0443\\u043d\\u0430\\u0440\\u043e\\u0434\\u043d\\u044b\\u0439\", \"\\u043c\\u0435\\u0436\\u0434\\u0443\\u043d\\u0430\\u0440\\u043e\\u0434\\u043d\\u044b\\u0439\", \"\\u043c\\u0435\\u0441\\u0442\\u043d\\u044b\\u0439\", \"\\u043c\\u0435\\u0441\\u0442\\u043d\\u044b\\u0439\", \"\\u043c\\u0435\\u0441\\u0442\\u043d\\u044b\\u0439\", \"\\u043c\\u0435\\u0441\\u0442\\u043d\\u044b\\u0439\", \"\\u043c\\u0435\\u0441\\u0442\\u043d\\u044b\\u0439\", \"\\u043c\\u0435\\u0441\\u0442\\u043e\", \"\\u043c\\u0435\\u0441\\u0442\\u043e\", \"\\u043c\\u0435\\u0441\\u0442\\u043e\", \"\\u043c\\u0435\\u0441\\u0442\\u043e\", \"\\u043c\\u0435\\u0442\\u0440\", \"\\u043c\\u0438\\u0434\", \"\\u043c\\u0438\\u043b\\u0438\\u0446\\u0438\\u043e\\u043d\\u0435\\u0440\", \"\\u043c\\u0438\\u043b\\u0438\\u0446\\u0438\\u044f\", \"\\u043c\\u0438\\u043b\\u043b\\u0438\\u0430\\u0440\\u0434\", \"\\u043c\\u0438\\u043b\\u043b\\u0438\\u0430\\u0440\\u0434\", \"\\u043c\\u0438\\u043b\\u043b\\u0438\\u043e\\u043d\", \"\\u043c\\u0438\\u043b\\u043b\\u0438\\u043e\\u043d\", \"\\u043c\\u0438\\u043b\\u043b\\u0438\\u043e\\u043d\", \"\\u043c\\u0438\\u043b\\u043b\\u0438\\u043e\\u043d\", \"\\u043c\\u0438\\u043d\\u0438\\u0441\\u0442\\u0440\", \"\\u043c\\u0438\\u043d\\u0438\\u0441\\u0442\\u0440\", \"\\u043c\\u0438\\u043d\\u0438\\u0441\\u0442\\u0440\", \"\\u043c\\u0438\\u043d\\u0438\\u0441\\u0442\\u0440\", \"\\u043c\\u0438\\u043d\\u0443\\u0442\\u0430\", \"\\u043c\\u0438\\u043d\\u0443\\u0442\\u0430\", \"\\u043c\\u0438\\u0440\", \"\\u043c\\u0438\\u0440\", \"\\u043c\\u0438\\u0440\", \"\\u043c\\u0438\\u0440\", \"\\u043c\\u043e\\u0431\\u0438\\u043b\\u044c\\u043d\\u044b\\u0439\", \"\\u043c\\u043e\\u0437\\u0434\\u043e\\u043a\", \"\\u043c\\u043e\\u0441\\u043a\\u0432\\u0430\", \"\\u043c\\u043e\\u0441\\u043a\\u0432\\u0430\", \"\\u043c\\u043e\\u0441\\u043a\\u0432\\u0430\", \"\\u043c\\u043e\\u0441\\u043a\\u0432\\u0430\", \"\\u043c\\u043e\\u0441\\u043a\\u0432\\u0430\", \"\\u043c\\u043e\\u0441\\u043a\\u0432\\u0430\", \"\\u043c\\u043e\\u0441\\u0442\", \"\\u043c\\u043e\\u0447\\u044c\", \"\\u043c\\u043e\\u0447\\u044c\", \"\\u043c\\u043e\\u0447\\u044c\", \"\\u043c\\u043e\\u0447\\u044c\", \"\\u043c\\u043e\\u0447\\u044c\", \"\\u043c\\u043e\\u0447\\u044c\", \"\\u043c\\u043e\\u0447\\u044c\", \"\\u043c\\u043e\\u0447\\u044c\", \"\\u043c\\u043e\\u0447\\u044c\", \"\\u043c\\u0443\\u0436\\u0447\\u0438\\u043d\\u0430\", \"\\u043c\\u0443\\u0437\\u044b\\u043a\\u0430\", \"\\u043c\\u044d\\u0440\", \"\\u043c\\u044f\\u0447\", \"\\u043d\\u0430\\u0437\\u0432\\u0430\\u043d\\u0438\\u0435\", \"\\u043d\\u0430\\u0437\\u043d\\u0430\\u0447\\u0430\\u0442\\u044c\", \"\\u043d\\u0430\\u043b\\u043e\\u0433\", \"\\u043d\\u0430\\u043b\\u043e\\u0433\\u043e\\u0432\\u044b\\u0439\", \"\\u043d\\u0430\\u043f\\u0440\\u0438\\u043c\\u0435\\u0440\", \"\\u043d\\u0430\\u0440\\u043a\\u043e\\u0442\\u0438\\u043a\", \"\\u043d\\u0430\\u0440\\u043e\\u0434\", \"\\u043d\\u0430\\u0441\\u0435\\u043b\\u0435\\u043d\\u043d\\u044b\\u0439\", \"\\u043d\\u0430\\u0445\\u043e\\u0434\\u0438\\u0442\\u044c\\u0441\\u044f\", \"\\u043d\\u0430\\u0445\\u043e\\u0434\\u0438\\u0442\\u044c\\u0441\\u044f\", \"\\u043d\\u0430\\u0445\\u043e\\u0434\\u0438\\u0442\\u044c\\u0441\\u044f\", \"\\u043d\\u0430\\u0445\\u043e\\u0434\\u0438\\u0442\\u044c\\u0441\\u044f\", \"\\u043d\\u0430\\u0445\\u043e\\u0434\\u0438\\u0442\\u044c\\u0441\\u044f\", \"\\u043d\\u0430\\u0445\\u043e\\u0434\\u0438\\u0442\\u044c\\u0441\\u044f\", \"\\u043d\\u0430\\u0445\\u043e\\u0434\\u0438\\u0442\\u044c\\u0441\\u044f\", \"\\u043d\\u0430\\u0445\\u043e\\u0434\\u0438\\u0442\\u044c\\u0441\\u044f\", \"\\u043d\\u0430\\u0448\", \"\\u043d\\u0430\\u0448\", \"\\u043d\\u0430\\u0448\", \"\\u043d\\u0435\\u0437\\u0430\\u043a\\u043e\\u043d\\u043d\\u044b\\u0439\", \"\\u043d\\u0435\\u0437\\u0430\\u043a\\u043e\\u043d\\u043d\\u044b\\u0439\", \"\\u043d\\u0435\\u0438\\u0437\\u0432\\u0435\\u0441\\u0442\\u043d\\u044b\\u0439\", \"\\u043d\\u0435\\u0438\\u0437\\u0432\\u0435\\u0441\\u0442\\u043d\\u044b\\u0439\", \"\\u043d\\u0435\\u043c\\u0435\\u0446\\u043a\\u0438\\u0439\", \"\\u043d\\u0435\\u043e\\u0431\\u0445\\u043e\\u0434\\u0438\\u043c\\u043e\", \"\\u043d\\u0435\\u0441\\u043a\\u043e\\u043b\\u044c\\u043a\\u043e\", \"\\u043d\\u0435\\u0441\\u043a\\u043e\\u043b\\u044c\\u043a\\u043e\", \"\\u043d\\u0435\\u0441\\u043a\\u043e\\u043b\\u044c\\u043a\\u043e\", \"\\u043d\\u0435\\u0441\\u043a\\u043e\\u043b\\u044c\\u043a\\u043e\", \"\\u043d\\u0435\\u0441\\u043a\\u043e\\u043b\\u044c\\u043a\\u043e\", \"\\u043d\\u0435\\u0441\\u043a\\u043e\\u043b\\u044c\\u043a\\u043e\", \"\\u043d\\u0435\\u0444\\u0442\\u044c\", \"\\u043d\\u0435\\u0444\\u0442\\u044f\\u043d\\u043e\\u0439\", \"\\u043d\\u043e\\u0432\\u043e\\u0441\\u0442\\u044c\", \"\\u043d\\u043e\\u0432\\u043e\\u0441\\u0442\\u044c\", \"\\u043d\\u043e\\u0432\\u043e\\u0441\\u0442\\u044c\", \"\\u043d\\u043e\\u0432\\u043e\\u0441\\u0442\\u044c\", \"\\u043d\\u043e\\u0432\\u043e\\u0441\\u0442\\u044c\", \"\\u043d\\u043e\\u0432\\u043e\\u0441\\u0442\\u044c\", \"\\u043d\\u043e\\u0432\\u043e\\u0441\\u0442\\u044c\", \"\\u043d\\u043e\\u0432\\u043e\\u0441\\u0442\\u044c\", \"\\u043d\\u043e\\u0432\\u044b\\u0439\", \"\\u043d\\u043e\\u0432\\u044b\\u0439\", \"\\u043d\\u043e\\u0432\\u044b\\u0439\", \"\\u043d\\u043e\\u0432\\u044b\\u0439\", \"\\u043d\\u043e\\u0432\\u044b\\u0439\", \"\\u043d\\u043e\\u0447\\u044c\", \"\\u043d\\u043e\\u0447\\u044c\", \"\\u043d\\u0442\\u0432\", \"\\u043d\\u044c\\u044e\", \"\\u043e\\u0430\\u043e\", \"\\u043e\\u0431\\u0432\\u0438\\u043d\\u0435\\u043d\\u0438\\u0435\", \"\\u043e\\u0431\\u0432\\u0438\\u043d\\u044f\\u0442\\u044c\", \"\\u043e\\u0431\\u0432\\u0438\\u043d\\u044f\\u0442\\u044c\", \"\\u043e\\u0431\\u0435\\u0437\\u0432\\u0440\\u0435\\u0436\\u0438\\u0432\\u0430\\u0442\\u044c\", \"\\u043e\\u0431\\u043d\\u0430\\u0440\\u0443\\u0436\\u0438\\u0432\\u0430\\u0442\\u044c\", \"\\u043e\\u0431\\u043d\\u0430\\u0440\\u0443\\u0436\\u0438\\u0432\\u0430\\u0442\\u044c\", \"\\u043e\\u0431\\u043d\\u0430\\u0440\\u0443\\u0436\\u0438\\u0432\\u0430\\u0442\\u044c\", \"\\u043e\\u0431\\u0440\\u0430\\u0437\\u043e\\u0432\\u0430\\u043d\\u0438\\u0435\", \"\\u043e\\u0431\\u0440\\u0430\\u0449\\u0435\\u043d\\u0438\\u0435\", \"\\u043e\\u0431\\u0440\\u0430\\u0449\\u0435\\u043d\\u0438\\u0435\", \"\\u043e\\u0431\\u0441\\u0442\\u0440\\u0435\\u043b\\u0438\\u0432\\u0430\\u0442\\u044c\", \"\\u043e\\u0431\\u0441\\u0443\\u0436\\u0434\\u0430\\u0442\\u044c\", \"\\u043e\\u0431\\u0441\\u0443\\u0436\\u0434\\u0430\\u0442\\u044c\\u0441\\u044f\", \"\\u043e\\u0431\\u0449\\u0435\\u0441\\u0442\\u0432\\u0435\\u043d\\u043d\\u043e\\u0441\\u0442\\u044c\", \"\\u043e\\u0431\\u044b\\u0441\\u043a\", \"\\u043e\\u0434\\u043d\\u0430\\u043a\\u043e\", \"\\u043e\\u0434\\u043d\\u0430\\u043a\\u043e\", \"\\u043e\\u0434\\u043d\\u0430\\u043a\\u043e\", \"\\u043e\\u0434\\u043d\\u0430\\u043a\\u043e\", \"\\u043e\\u0434\\u043d\\u0430\\u043a\\u043e\", \"\\u043e\\u0434\\u043d\\u0430\\u043a\\u043e\", \"\\u043e\\u0434\\u043d\\u0430\\u043a\\u043e\", \"\\u043e\\u0434\\u043d\\u0430\\u043a\\u043e\", \"\\u043e\\u0434\\u043d\\u0430\\u043a\\u043e\", \"\\u043e\\u043a\\u043e\\u043b\\u043e\", \"\\u043e\\u043a\\u043e\\u043b\\u043e\", \"\\u043e\\u043a\\u043e\\u043b\\u043e\", \"\\u043e\\u043a\\u043e\\u043b\\u043e\", \"\\u043e\\u043a\\u043e\\u043b\\u043e\", \"\\u043e\\u043a\\u043e\\u043b\\u043e\", \"\\u043e\\u043a\\u0440\\u0443\\u0433\", \"\\u043e\\u043e\\u043d\", \"\\u043e\\u043f\\u0435\\u043a\", \"\\u043e\\u043f\\u0435\\u0440\\u0430\\u0446\\u0438\\u044f\", \"\\u043e\\u043f\\u0435\\u0440\\u0430\\u0446\\u0438\\u044f\", \"\\u043e\\u043f\\u0435\\u0440\\u0430\\u0446\\u0438\\u044f\", \"\\u043e\\u043f\\u0435\\u0440\\u0430\\u0446\\u0438\\u044f\", \"\\u043e\\u043f\\u0435\\u0440\\u0430\\u0446\\u0438\\u044f\", \"\\u043e\\u043f\\u0435\\u0440\\u0430\\u0446\\u0438\\u044f\", \"\\u043e\\u043f\\u043b\\u0430\\u0442\\u0430\", \"\\u043e\\u0440\\u0433\\u0430\\u043d\", \"\\u043e\\u0440\\u0433\\u0430\\u043d\", \"\\u043e\\u0440\\u0433\\u0430\\u043d\", \"\\u043e\\u0440\\u0433\\u0430\\u043d\", \"\\u043e\\u0440\\u0433\\u0430\\u043d\", \"\\u043e\\u0440\\u0433\\u0430\\u043d\\u0438\\u0437\\u0430\\u0446\\u0438\\u044f\", \"\\u043e\\u0440\\u0433\\u0430\\u043d\\u0438\\u0437\\u0430\\u0446\\u0438\\u044f\", \"\\u043e\\u0440\\u0433\\u0430\\u043d\\u0438\\u0437\\u0430\\u0446\\u0438\\u044f\", \"\\u043e\\u0440\\u0433\\u0430\\u043d\\u0438\\u0437\\u0430\\u0446\\u0438\\u044f\", \"\\u043e\\u0440\\u0433\\u0430\\u043d\\u0438\\u0437\\u0430\\u0446\\u0438\\u044f\", \"\\u043e\\u0440\\u0433\\u0430\\u043d\\u0438\\u0437\\u0430\\u0446\\u0438\\u044f\", \"\\u043e\\u0440\\u0443\\u0436\\u0438\\u0435\", \"\\u043e\\u0440\\u0443\\u0436\\u0438\\u0435\", \"\\u043e\\u0441\\u0435\\u043d\\u044c\", \"\\u043e\\u0441\\u0442\\u0440\\u043e\\u0432\", \"\\u043e\\u0442\\u043a\\u0430\\u0437\", \"\\u043e\\u0442\\u043a\\u043b\\u043e\\u043d\\u044f\\u0442\\u044c\", \"\\u043e\\u0442\\u043c\\u0435\\u0447\\u0430\\u0442\\u044c\", \"\\u043e\\u0442\\u043c\\u0435\\u0447\\u0430\\u0442\\u044c\", \"\\u043e\\u0442\\u043c\\u0435\\u0447\\u0430\\u0442\\u044c\", \"\\u043e\\u0442\\u043c\\u0435\\u0447\\u0430\\u0442\\u044c\", \"\\u043e\\u0442\\u043c\\u0435\\u0447\\u0430\\u0442\\u044c\", \"\\u043e\\u0442\\u043c\\u0435\\u0447\\u0430\\u0442\\u044c\", \"\\u043e\\u0442\\u043c\\u0435\\u0447\\u0430\\u0442\\u044c\", \"\\u043e\\u0442\\u043c\\u0435\\u0447\\u0430\\u0442\\u044c\", \"\\u043e\\u0442\\u0440\\u044f\\u0434\", \"\\u043e\\u0442\\u0441\\u0442\\u0430\\u0432\\u043a\\u0430\", \"\\u043e\\u0445\\u0440\\u0430\\u043d\\u0430\", \"\\u043f\\u0430\\u0432\\u0435\\u043b\", \"\\u043f\\u0430\\u043b\\u0430\\u0442\\u0430\", \"\\u043f\\u0430\\u0440\\u043a\", \"\\u043f\\u0430\\u0440\\u043b\\u0430\\u043c\\u0435\\u043d\\u0442\", \"\\u043f\\u0430\\u0440\\u0442\\u0438\\u044f\", \"\\u043f\\u0430\\u0440\\u0442\\u0438\\u044f\", \"\\u043f\\u0430\\u0441\\u0435\", \"\\u043f\\u0430\\u0441\\u0441\\u0430\\u0436\\u0438\\u0440\", \"\\u043f\\u0430\\u0442\\u0440\\u043e\\u043d\", \"\\u043f\\u0435\\u0440\\u0432\\u0435\\u043d\\u0441\\u0442\\u0432\\u043e\", \"\\u043f\\u0435\\u0440\\u0432\\u044b\\u0439\", \"\\u043f\\u0435\\u0440\\u0432\\u044b\\u0439\", \"\\u043f\\u0435\\u0440\\u0432\\u044b\\u0439\", \"\\u043f\\u0435\\u0440\\u0432\\u044b\\u0439\", \"\\u043f\\u0435\\u0440\\u0432\\u044b\\u0439\", \"\\u043f\\u0435\\u0440\\u0432\\u044b\\u0439\", \"\\u043f\\u0435\\u0440\\u0432\\u044b\\u0439\", \"\\u043f\\u0435\\u0440\\u0435\\u0433\\u043e\\u0432\\u043e\\u0440\\u044b\", \"\\u043f\\u0435\\u0440\\u0435\\u0433\\u043e\\u0432\\u043e\\u0440\\u044b\", \"\\u043f\\u0435\\u0440\\u0435\\u0433\\u043e\\u0432\\u043e\\u0440\\u044b\", \"\\u043f\\u0435\\u0440\\u0435\\u0434\\u0430\\u0432\\u0430\\u0442\\u044c\", \"\\u043f\\u0435\\u0440\\u0435\\u0434\\u0430\\u0432\\u0430\\u0442\\u044c\", \"\\u043f\\u0435\\u0440\\u0435\\u0434\\u0430\\u0432\\u0430\\u0442\\u044c\", \"\\u043f\\u0435\\u0440\\u0435\\u0434\\u0430\\u0432\\u0430\\u0442\\u044c\", \"\\u043f\\u0435\\u0440\\u0435\\u0434\\u0430\\u0432\\u0430\\u0442\\u044c\", \"\\u043f\\u0435\\u0440\\u0435\\u0434\\u0430\\u0432\\u0430\\u0442\\u044c\", \"\\u043f\\u0435\\u0440\\u0435\\u0434\\u0430\\u0432\\u0430\\u0442\\u044c\", \"\\u043f\\u0435\\u0440\\u0435\\u0434\\u0430\\u0432\\u0430\\u0442\\u044c\", \"\\u043f\\u0435\\u0440\\u0435\\u0434\\u0430\\u0432\\u0430\\u0442\\u044c\", \"\\u043f\\u0435\\u0440\\u0435\\u0434\\u0430\\u0447\\u0430\", \"\\u043f\\u0435\\u0440\\u0435\\u0434\\u0430\\u0447\\u0430\", \"\\u043f\\u0435\\u0440\\u0435\\u0434\\u0432\\u0438\\u0436\\u0435\\u043d\\u0438\\u0435\", \"\\u043f\\u0435\\u0440\\u0435\\u0438\\u0433\\u0440\\u044b\\u0432\\u0430\\u0442\\u044c\", \"\\u043f\\u0435\\u0442\\u0435\\u0440\\u0431\\u0443\\u0440\\u0433\", \"\\u043f\\u0438\\u0441\\u0442\\u043e\\u043b\\u0435\\u0442\", \"\\u043f\\u043b\\u043e\\u0449\\u0430\\u0434\\u044c\", \"\\u043f\\u043e\\u0431\\u0435\\u0434\\u0430\", \"\\u043f\\u043e\\u0432\\u044b\\u0448\\u0435\\u043d\\u0438\\u0435\", \"\\u043f\\u043e\\u0433\\u0438\\u0431\\u0430\\u0442\\u044c\", \"\\u043f\\u043e\\u0433\\u0438\\u0431\\u0430\\u0442\\u044c\", \"\\u043f\\u043e\\u0433\\u0438\\u0431\\u0448\\u0438\\u0439\", \"\\u043f\\u043e\\u0434\\u0430\\u0432\\u0430\\u0442\\u044c\", \"\\u043f\\u043e\\u0434\\u0433\\u043e\\u0442\\u043e\\u0432\\u0438\\u0442\\u044c\", \"\\u043f\\u043e\\u0435\\u0437\\u0434\", \"\\u043f\\u043e\\u0435\\u0437\\u0434\\u043a\\u0430\", \"\\u043f\\u043e\\u0436\\u0430\\u0440\", \"\\u043f\\u043e\\u0438\\u0441\\u043a\", \"\\u043f\\u043e\\u043a\\u0438\\u0434\\u0430\\u0442\\u044c\", \"\\u043f\\u043e\\u043b\\u0438\\u0446\\u0435\\u0439\\u0441\\u043a\\u0438\\u0439\", \"\\u043f\\u043e\\u043b\\u0438\\u0446\\u0435\\u0439\\u0441\\u043a\\u0438\\u0439\", \"\\u043f\\u043e\\u043b\\u0438\\u0446\\u0435\\u0439\\u0441\\u043a\\u0438\\u0439\", \"\\u043f\\u043e\\u043b\\u0438\\u0446\\u0438\\u044f\", \"\\u043f\\u043e\\u043b\\u0438\\u0446\\u0438\\u044f\", \"\\u043f\\u043e\\u043b\\u0438\\u0446\\u0438\\u044f\", \"\\u043f\\u043e\\u043b\\u043a\\u043e\\u0432\\u043d\\u0438\\u043a\", \"\\u043f\\u043e\\u043b\\u0443\\u0444\\u0438\\u043d\\u0430\\u043b\", \"\\u043f\\u043e\\u043b\\u0443\\u0447\\u0430\\u0442\\u044c\", \"\\u043f\\u043e\\u043b\\u0443\\u0447\\u0430\\u0442\\u044c\", \"\\u043f\\u043e\\u043b\\u0443\\u0447\\u0430\\u0442\\u044c\", \"\\u043f\\u043e\\u043b\\u0443\\u0447\\u0430\\u0442\\u044c\", \"\\u043f\\u043e\\u043b\\u0443\\u0447\\u0430\\u0442\\u044c\", \"\\u043f\\u043e\\u043b\\u0443\\u0447\\u0430\\u0442\\u044c\", \"\\u043f\\u043e\\u043b\\u0443\\u0447\\u0430\\u0442\\u044c\", \"\\u043f\\u043e\\u043b\\u0443\\u0447\\u0430\\u0442\\u044c\", \"\\u043f\\u043e\\u043b\\u0443\\u0447\\u0430\\u0442\\u044c\", \"\\u043f\\u043e\\u043b\\u044c\\u0437\\u043e\\u0432\\u0430\\u0442\\u0435\\u043b\\u044c\", \"\\u043f\\u043e\\u043c\\u0438\\u043c\\u043e\", \"\\u043f\\u043e\\u043f\\u0440\\u0430\\u0432\\u043a\\u0430\", \"\\u043f\\u043e\\u0440\\u0430\\u0436\\u0435\\u043d\\u0438\\u0435\", \"\\u043f\\u043e\\u0440\\u0430\\u0436\\u0435\\u043d\\u0438\\u0435\", \"\\u043f\\u043e\\u0440\\u0442\", \"\\u043f\\u043e\\u0441\\u0435\\u043b\\u043e\\u043a\", \"\\u043f\\u043e\\u0441\\u0435\\u0449\\u0430\\u0442\\u044c\", \"\\u043f\\u043e\\u0441\\u043b\\u0435\\u0434\\u043d\\u0438\\u0439\", \"\\u043f\\u043e\\u0441\\u043b\\u0435\\u0434\\u043d\\u0438\\u0439\", \"\\u043f\\u043e\\u0441\\u043b\\u0435\\u0434\\u043d\\u0438\\u0439\", \"\\u043f\\u043e\\u0441\\u043b\\u0435\\u0434\\u043d\\u0438\\u0439\", \"\\u043f\\u043e\\u0441\\u043b\\u0435\\u0434\\u043d\\u0438\\u0439\", \"\\u043f\\u043e\\u0441\\u043b\\u0435\\u0434\\u043d\\u0438\\u0439\", \"\\u043f\\u043e\\u0441\\u043b\\u0435\\u0434\\u043d\\u0438\\u0439\", \"\\u043f\\u043e\\u0441\\u043b\\u0435\\u0434\\u043d\\u0438\\u0439\", \"\\u043f\\u043e\\u0441\\u043b\\u0435\\u0434\\u043d\\u0438\\u0439\", \"\\u043f\\u043e\\u0441\\u043e\\u043b\\u044c\\u0441\\u0442\\u0432\\u043e\", \"\\u043f\\u043e\\u0441\\u0442\", \"\\u043f\\u043e\\u0441\\u0442\", \"\\u043f\\u043e\\u0441\\u0442\\u0440\\u0430\\u0434\\u0430\\u0442\\u044c\", \"\\u043f\\u0440\\u0430\\u0432\\u0438\\u0442\\u0435\\u043b\\u044c\\u0441\\u0442\\u0432\\u0435\\u043d\\u043d\\u044b\\u0439\", \"\\u043f\\u0440\\u0430\\u0432\\u0438\\u0442\\u0435\\u043b\\u044c\\u0441\\u0442\\u0432\\u043e\", \"\\u043f\\u0440\\u0430\\u0432\\u0438\\u0442\\u0435\\u043b\\u044c\\u0441\\u0442\\u0432\\u043e\", \"\\u043f\\u0440\\u0430\\u0432\\u0438\\u0442\\u0435\\u043b\\u044c\\u0441\\u0442\\u0432\\u043e\", \"\\u043f\\u0440\\u0430\\u0432\\u0438\\u0442\\u0435\\u043b\\u044c\\u0441\\u0442\\u0432\\u043e\", \"\\u043f\\u0440\\u0430\\u0432\\u0438\\u0442\\u0435\\u043b\\u044c\\u0441\\u0442\\u0432\\u043e\", \"\\u043f\\u0440\\u0430\\u0432\\u043e\", \"\\u043f\\u0440\\u0430\\u0432\\u043e\", \"\\u043f\\u0440\\u0430\\u0432\\u043e\", \"\\u043f\\u0440\\u0430\\u0432\\u043e\", \"\\u043f\\u0440\\u0430\\u0432\\u043e\", \"\\u043f\\u0440\\u0430\\u0432\\u043e\\u043e\\u0445\\u0440\\u0430\\u043d\\u0438\\u0442\\u0435\\u043b\\u044c\\u043d\\u044b\\u0439\", \"\\u043f\\u0440\\u0435\\u0434\\u043b\\u0430\\u0433\\u0430\\u0442\\u044c\", \"\\u043f\\u0440\\u0435\\u0434\\u043b\\u0430\\u0433\\u0430\\u0442\\u044c\", \"\\u043f\\u0440\\u0435\\u0434\\u043b\\u0430\\u0433\\u0430\\u0442\\u044c\", \"\\u043f\\u0440\\u0435\\u0434\\u043b\\u0430\\u0433\\u0430\\u0442\\u044c\", \"\\u043f\\u0440\\u0435\\u0434\\u043b\\u0430\\u0433\\u0430\\u0442\\u044c\", \"\\u043f\\u0440\\u0435\\u0434\\u043f\\u0440\\u0438\\u044f\\u0442\\u0438\\u0435\", \"\\u043f\\u0440\\u0435\\u0434\\u043f\\u0440\\u0438\\u044f\\u0442\\u0438\\u0435\", \"\\u043f\\u0440\\u0435\\u0434\\u0441\\u0435\\u0434\\u0430\\u0442\\u0435\\u043b\\u044c\", \"\\u043f\\u0440\\u0435\\u0434\\u0441\\u0435\\u0434\\u0430\\u0442\\u0435\\u043b\\u044c\", \"\\u043f\\u0440\\u0435\\u0434\\u0441\\u0435\\u0434\\u0430\\u0442\\u0435\\u043b\\u044c\", \"\\u043f\\u0440\\u0435\\u0434\\u0441\\u0435\\u0434\\u0430\\u0442\\u0435\\u043b\\u044c\", \"\\u043f\\u0440\\u0435\\u0434\\u0441\\u0442\\u0430\\u0432\\u0438\\u0442\\u0435\\u043b\\u044c\", \"\\u043f\\u0440\\u0435\\u0434\\u0441\\u0442\\u0430\\u0432\\u0438\\u0442\\u0435\\u043b\\u044c\", \"\\u043f\\u0440\\u0435\\u0434\\u0441\\u0442\\u0430\\u0432\\u0438\\u0442\\u0435\\u043b\\u044c\", \"\\u043f\\u0440\\u0435\\u0434\\u0441\\u0442\\u0430\\u0432\\u0438\\u0442\\u0435\\u043b\\u044c\", \"\\u043f\\u0440\\u0435\\u0434\\u0441\\u0442\\u0430\\u0432\\u0438\\u0442\\u0435\\u043b\\u044c\", \"\\u043f\\u0440\\u0435\\u0434\\u0441\\u0442\\u0430\\u0432\\u0438\\u0442\\u0435\\u043b\\u044c\", \"\\u043f\\u0440\\u0435\\u0434\\u0441\\u0442\\u0430\\u0432\\u0438\\u0442\\u0435\\u043b\\u044c\", \"\\u043f\\u0440\\u0435\\u0434\\u0441\\u0442\\u0430\\u0432\\u0438\\u0442\\u0435\\u043b\\u044c\", \"\\u043f\\u0440\\u0435\\u0434\\u0441\\u0442\\u0430\\u0432\\u0438\\u0442\\u0435\\u043b\\u044c\", \"\\u043f\\u0440\\u0435\\u0434\\u0441\\u0442\\u0430\\u0432\\u0438\\u0442\\u0435\\u043b\\u044c\", \"\\u043f\\u0440\\u0435\\u0434\\u044a\\u044f\\u0432\\u043b\\u044f\\u0442\\u044c\", \"\\u043f\\u0440\\u0435\\u0437\\u0438\\u0434\\u0435\\u043d\\u0442\", \"\\u043f\\u0440\\u0435\\u0437\\u0438\\u0434\\u0435\\u043d\\u0442\", \"\\u043f\\u0440\\u0435\\u0437\\u0438\\u0434\\u0435\\u043d\\u0442\", \"\\u043f\\u0440\\u0435\\u0437\\u0438\\u0434\\u0435\\u043d\\u0442\", \"\\u043f\\u0440\\u0435\\u0437\\u0438\\u0434\\u0435\\u043d\\u0442\\u0441\\u043a\\u0438\\u0439\", \"\\u043f\\u0440\\u0435\\u043c\\u044c\\u0435\\u0440\", \"\\u043f\\u0440\\u0435\\u043c\\u044c\\u0435\\u0440\", \"\\u043f\\u0440\\u0435\\u0441\\u0441\", \"\\u043f\\u0440\\u0435\\u0441\\u0441\", \"\\u043f\\u0440\\u0435\\u0441\\u0441\", \"\\u043f\\u0440\\u0435\\u0441\\u0441\", \"\\u043f\\u0440\\u0435\\u0441\\u0441\", \"\\u043f\\u0440\\u0435\\u0441\\u0441\", \"\\u043f\\u0440\\u0435\\u0441\\u0442\\u0443\\u043f\\u043d\\u0438\\u043a\", \"\\u043f\\u0440\\u0435\\u0441\\u0442\\u0443\\u043f\\u043d\\u0438\\u043a\", \"\\u043f\\u0440\\u0438\\u0437\\u044b\\u0432\\u0430\\u0442\\u044c\", \"\\u043f\\u0440\\u0438\\u0437\\u044b\\u0432\\u0430\\u0442\\u044c\", \"\\u043f\\u0440\\u0438\\u043d\\u0438\\u043c\\u0430\\u0442\\u044c\", \"\\u043f\\u0440\\u0438\\u043d\\u0438\\u043c\\u0430\\u0442\\u044c\", \"\\u043f\\u0440\\u0438\\u043d\\u0438\\u043c\\u0430\\u0442\\u044c\", \"\\u043f\\u0440\\u0438\\u043d\\u0438\\u043c\\u0430\\u0442\\u044c\", \"\\u043f\\u0440\\u0438\\u043d\\u0438\\u043c\\u0430\\u0442\\u044c\", \"\\u043f\\u0440\\u0438\\u043d\\u0438\\u043c\\u0430\\u0442\\u044c\", \"\\u043f\\u0440\\u0438\\u043d\\u0438\\u043c\\u0430\\u0442\\u044c\", \"\\u043f\\u0440\\u0438\\u043d\\u0438\\u043c\\u0430\\u0442\\u044c\", \"\\u043f\\u0440\\u0438\\u043e\\u0431\\u0440\\u0435\\u0442\\u0430\\u0442\\u044c\", \"\\u043f\\u0440\\u0438\\u043e\\u0441\\u0442\\u0430\\u043d\\u0430\\u0432\\u043b\\u0438\\u0432\\u0430\\u0442\\u044c\", \"\\u043f\\u0440\\u0438\\u0447\\u0438\\u043d\\u0430\", \"\\u043f\\u0440\\u0438\\u0447\\u0438\\u043d\\u0430\", \"\\u043f\\u0440\\u0438\\u0447\\u0438\\u043d\\u0430\", \"\\u043f\\u0440\\u0438\\u0447\\u0438\\u043d\\u0430\", \"\\u043f\\u0440\\u0438\\u0447\\u0438\\u043d\\u0430\", \"\\u043f\\u0440\\u043e\\u0431\\u043b\\u0435\\u043c\\u0430\", \"\\u043f\\u0440\\u043e\\u0431\\u043b\\u0435\\u043c\\u0430\", \"\\u043f\\u0440\\u043e\\u0433\\u043e\\u043b\\u043e\\u0441\\u043e\\u0432\\u0430\\u0442\\u044c\", \"\\u043f\\u0440\\u043e\\u0433\\u0440\\u0430\\u043c\\u043c\\u0430\", \"\\u043f\\u0440\\u043e\\u0433\\u0440\\u0430\\u043c\\u043c\\u0430\", \"\\u043f\\u0440\\u043e\\u0433\\u0440\\u0430\\u043c\\u043c\\u0430\", \"\\u043f\\u0440\\u043e\\u0434\\u0430\\u0436\\u0430\", \"\\u043f\\u0440\\u043e\\u0434\\u0430\\u0436\\u0430\", \"\\u043f\\u0440\\u043e\\u0434\\u0443\\u043a\\u0442\", \"\\u043f\\u0440\\u043e\\u0435\\u043a\\u0442\", \"\\u043f\\u0440\\u043e\\u0438\\u0433\\u0440\\u044b\\u0432\\u0430\\u0442\\u044c\", \"\\u043f\\u0440\\u043e\\u0438\\u0437\\u0432\\u043e\\u0434\\u0438\\u0442\\u0435\\u043b\\u044c\", \"\\u043f\\u0440\\u043e\\u0438\\u0441\\u0445\\u043e\\u0434\\u0438\\u0442\\u044c\", \"\\u043f\\u0440\\u043e\\u0438\\u0441\\u0445\\u043e\\u0434\\u0438\\u0442\\u044c\", \"\\u043f\\u0440\\u043e\\u0438\\u0441\\u0445\\u043e\\u0434\\u0438\\u0442\\u044c\", \"\\u043f\\u0440\\u043e\\u0438\\u0441\\u0445\\u043e\\u0434\\u0438\\u0442\\u044c\", \"\\u043f\\u0440\\u043e\\u0438\\u0441\\u0445\\u043e\\u0434\\u0438\\u0442\\u044c\", \"\\u043f\\u0440\\u043e\\u0438\\u0441\\u0445\\u043e\\u0434\\u0438\\u0442\\u044c\", \"\\u043f\\u0440\\u043e\\u0438\\u0441\\u0445\\u043e\\u0434\\u0438\\u0442\\u044c\", \"\\u043f\\u0440\\u043e\\u0438\\u0441\\u0445\\u043e\\u0434\\u0438\\u0442\\u044c\", \"\\u043f\\u0440\\u043e\\u0438\\u0441\\u0445\\u043e\\u0434\\u0438\\u0442\\u044c\", \"\\u043f\\u0440\\u043e\\u0438\\u0441\\u0448\\u0435\\u0441\\u0442\\u0432\\u0438\\u0435\", \"\\u043f\\u0440\\u043e\\u043a\\u0443\\u0440\\u0430\\u0442\\u0443\\u0440\\u0430\", \"\\u043f\\u0440\\u043e\\u043a\\u0443\\u0440\\u0430\\u0442\\u0443\\u0440\\u0430\", \"\\u043f\\u0440\\u043e\\u043a\\u0443\\u0440\\u043e\\u0440\", \"\\u043f\\u0440\\u043e\\u0442\\u0435\\u0441\\u0442\", \"\\u043f\\u0440\\u043e\\u0442\\u0438\\u0432\", \"\\u043f\\u0440\\u043e\\u0442\\u0438\\u0432\", \"\\u043f\\u0440\\u043e\\u0442\\u0438\\u0432\", \"\\u043f\\u0440\\u043e\\u0442\\u0438\\u0432\", \"\\u043f\\u0440\\u043e\\u0446\\u0435\\u043d\\u0442\", \"\\u043f\\u0440\\u043e\\u0446\\u0435\\u043d\\u0442\", \"\\u043f\\u0443\\u043d\\u043a\\u0442\", \"\\u043f\\u0443\\u043d\\u043a\\u0442\", \"\\u043f\\u0443\\u043d\\u043a\\u0442\", \"\\u043f\\u0443\\u043d\\u043a\\u0442\", \"\\u043f\\u0443\\u0442\\u0438\\u043d\", \"\\u043f\\u0443\\u0442\\u0438\\u043d\", \"\\u0440\\u0430\\u0431\\u043e\\u0442\\u0430\", \"\\u0440\\u0430\\u0431\\u043e\\u0442\\u0430\", \"\\u0440\\u0430\\u0431\\u043e\\u0442\\u0430\", \"\\u0440\\u0430\\u0431\\u043e\\u0442\\u0430\", \"\\u0440\\u0430\\u0431\\u043e\\u0442\\u0430\", \"\\u0440\\u0430\\u0431\\u043e\\u0442\\u0430\", \"\\u0440\\u0430\\u0431\\u043e\\u0442\\u0430\", \"\\u0440\\u0430\\u0437\\u043c\\u0435\\u0440\", \"\\u0440\\u0430\\u0437\\u043c\\u0435\\u0440\", \"\\u0440\\u0430\\u0437\\u0440\\u0430\\u0431\\u043e\\u0442\\u043a\\u0430\", \"\\u0440\\u0430\\u0439\\u043e\\u043d\", \"\\u0440\\u0430\\u0439\\u043e\\u043d\", \"\\u0440\\u0430\\u043a\\u0435\\u0442\\u0430\", \"\\u0440\\u0430\\u043a\\u0435\\u0442\\u0430\", \"\\u0440\\u0430\\u043d\\u0435\\u043d\\u0438\\u0435\", \"\\u0440\\u0430\\u043d\\u0435\\u043d\\u0438\\u0435\", \"\\u0440\\u0430\\u043e\", \"\\u0440\\u0431\\u043a\", \"\\u0440\\u0435\\u0431\\u0435\\u043d\\u043e\\u043a\", \"\\u0440\\u0435\\u0433\\u0438\\u043e\\u043d\", \"\\u0440\\u0435\\u0433\\u0438\\u043e\\u043d\", \"\\u0440\\u0435\\u0433\\u0438\\u043e\\u043d\", \"\\u0440\\u0435\\u0433\\u0438\\u0441\\u0442\\u0440\\u0430\\u0446\\u0438\\u044f\", \"\\u0440\\u0435\\u0437\\u0443\\u043b\\u044c\\u0442\\u0430\\u0442\", \"\\u0440\\u0435\\u0437\\u0443\\u043b\\u044c\\u0442\\u0430\\u0442\", \"\\u0440\\u0435\\u0437\\u0443\\u043b\\u044c\\u0442\\u0430\\u0442\", \"\\u0440\\u0435\\u0437\\u0443\\u043b\\u044c\\u0442\\u0430\\u0442\", \"\\u0440\\u0435\\u0437\\u0443\\u043b\\u044c\\u0442\\u0430\\u0442\", \"\\u0440\\u0435\\u0437\\u0443\\u043b\\u044c\\u0442\\u0430\\u0442\", \"\\u0440\\u0435\\u0437\\u0443\\u043b\\u044c\\u0442\\u0430\\u0442\", \"\\u0440\\u0435\\u0437\\u0443\\u043b\\u044c\\u0442\\u0430\\u0442\", \"\\u0440\\u0435\\u0441\\u043f\\u0443\\u0431\\u043b\\u0438\\u043a\\u0430\", \"\\u0440\\u0435\\u0441\\u043f\\u0443\\u0431\\u043b\\u0438\\u043a\\u0430\", \"\\u0440\\u0435\\u0441\\u043f\\u0443\\u0431\\u043b\\u0438\\u043a\\u0430\", \"\\u0440\\u0435\\u0448\\u0430\\u044e\\u0449\\u0438\\u0439\", \"\\u0440\\u0435\\u0448\\u0435\\u043d\\u0438\\u0435\", \"\\u0440\\u0435\\u0448\\u0435\\u043d\\u0438\\u0435\", \"\\u0440\\u0435\\u0448\\u0435\\u043d\\u0438\\u0435\", \"\\u0440\\u0435\\u0448\\u0435\\u043d\\u0438\\u0435\", \"\\u0440\\u0435\\u0448\\u0435\\u043d\\u0438\\u0435\", \"\\u0440\\u0435\\u0448\\u0435\\u043d\\u0438\\u0435\", \"\\u0440\\u0438\\u0430\", \"\\u0440\\u0438\\u0430\", \"\\u0440\\u0438\\u0430\", \"\\u0440\\u0438\\u0430\", \"\\u0440\\u0438\\u0430\", \"\\u0440\\u0438\\u0430\", \"\\u0440\\u0438\\u0430\", \"\\u0440\\u043e\\u043b\\u044c\", \"\\u0440\\u043e\\u0441\\u0441\\u0438\\u0439\\u0441\\u043a\\u0438\\u0439\", \"\\u0440\\u043e\\u0441\\u0441\\u0438\\u0439\\u0441\\u043a\\u0438\\u0439\", \"\\u0440\\u043e\\u0441\\u0441\\u0438\\u0439\\u0441\\u043a\\u0438\\u0439\", \"\\u0440\\u043e\\u0441\\u0441\\u0438\\u0439\\u0441\\u043a\\u0438\\u0439\", \"\\u0440\\u043e\\u0441\\u0441\\u0438\\u0439\\u0441\\u043a\\u0438\\u0439\", \"\\u0440\\u043e\\u0441\\u0441\\u0438\\u0439\\u0441\\u043a\\u0438\\u0439\", \"\\u0440\\u043e\\u0441\\u0441\\u0438\\u0439\\u0441\\u043a\\u0438\\u0439\", \"\\u0440\\u043e\\u0441\\u0441\\u0438\\u0439\\u0441\\u043a\\u0438\\u0439\", \"\\u0440\\u043e\\u0441\\u0441\\u0438\\u044f\", \"\\u0440\\u043e\\u0441\\u0441\\u0438\\u044f\", \"\\u0440\\u043e\\u0441\\u0441\\u0438\\u044f\", \"\\u0440\\u043e\\u0441\\u0441\\u0438\\u044f\", \"\\u0440\\u043e\\u0441\\u0441\\u0438\\u044f\", \"\\u0440\\u043e\\u0441\\u0441\\u0438\\u044f\", \"\\u0440\\u043e\\u0441\\u0441\\u0438\\u044f\", \"\\u0440\\u043e\\u0441\\u0441\\u0438\\u044f\\u043d\\u0438\\u043d\", \"\\u0440\\u043e\\u0441\\u0441\\u0438\\u044f\\u043d\\u0438\\u043d\", \"\\u0440\\u043e\\u0441\\u0442\", \"\\u0440\\u0443\\u0431\\u043b\\u044c\", \"\\u0440\\u0443\\u043a\\u043e\\u0432\\u043e\\u0434\\u0438\\u0442\\u0435\\u043b\\u044c\", \"\\u0440\\u0443\\u043a\\u043e\\u0432\\u043e\\u0434\\u0438\\u0442\\u0435\\u043b\\u044c\", \"\\u0440\\u0443\\u043a\\u043e\\u0432\\u043e\\u0434\\u0438\\u0442\\u0435\\u043b\\u044c\", \"\\u0440\\u0443\\u043a\\u043e\\u0432\\u043e\\u0434\\u0438\\u0442\\u0435\\u043b\\u044c\", \"\\u0440\\u0443\\u043a\\u043e\\u0432\\u043e\\u0434\\u0438\\u0442\\u0435\\u043b\\u044c\", \"\\u0440\\u044b\\u043d\\u043e\\u043a\", \"\\u0441\\u0430\\u0439\\u0442\", \"\\u0441\\u0430\\u043c\\u043e\\u043b\\u0435\\u0442\", \"\\u0441\\u0430\\u043c\\u043e\\u043b\\u0435\\u0442\", \"\\u0441\\u0430\\u043c\\u044b\\u0439\", \"\\u0441\\u0430\\u043c\\u044b\\u0439\", \"\\u0441\\u0430\\u043c\\u044b\\u0439\", \"\\u0441\\u0430\\u043c\\u044b\\u0439\", \"\\u0441\\u0430\\u043c\\u044b\\u0439\", \"\\u0441\\u0430\\u043c\\u044b\\u0439\", \"\\u0441\\u0430\\u043c\\u044b\\u0439\", \"\\u0441\\u0430\\u043c\\u044b\\u0439\", \"\\u0441\\u0430\\u043d\\u043a\\u0442\", \"\\u0441\\u0431\\u043e\\u0440\\u043d\\u0430\\u044f\", \"\\u0441\\u0432\\u043e\\u0431\\u043e\\u0434\\u0430\", \"\\u0441\\u0432\\u043e\\u0431\\u043e\\u0434\\u0430\", \"\\u0441\\u0432\\u043e\\u0439\", \"\\u0441\\u0432\\u043e\\u0439\", \"\\u0441\\u0432\\u043e\\u0439\", \"\\u0441\\u0432\\u043e\\u0439\", \"\\u0441\\u0432\\u043e\\u0439\", \"\\u0441\\u0432\\u043e\\u0439\", \"\\u0441\\u0432\\u043e\\u0439\", \"\\u0441\\u0432\\u043e\\u0439\", \"\\u0441\\u0432\\u043e\\u0439\", \"\\u0441\\u0432\\u044f\\u0437\\u044c\", \"\\u0441\\u0432\\u044f\\u0437\\u044c\", \"\\u0441\\u0432\\u044f\\u0437\\u044c\", \"\\u0441\\u0432\\u044f\\u0437\\u044c\", \"\\u0441\\u0432\\u044f\\u0437\\u044c\", \"\\u0441\\u0432\\u044f\\u0437\\u044c\", \"\\u0441\\u0432\\u044f\\u0437\\u044c\", \"\\u0441\\u0432\\u044f\\u0437\\u044c\", \"\\u0441\\u0432\\u044f\\u0437\\u044c\", \"\\u0441\\u0435\\u0432\\u0435\\u0440\\u043d\\u044b\\u0439\", \"\\u0441\\u0435\\u0432\\u0435\\u0440\\u043d\\u044b\\u0439\", \"\\u0441\\u0435\\u043b\\u043e\", \"\\u0441\\u0435\\u043d\\u0430\\u0442\\u043e\\u0440\", \"\\u0441\\u0435\\u0440\\u0438\\u044f\", \"\\u0441\\u0435\\u0441\\u0441\\u0438\\u044f\", \"\\u0441\\u0435\\u0442\", \"\\u0441\\u0435\\u0442\\u044c\", \"\\u0441\\u0438\\u043b\\u0430\", \"\\u0441\\u0438\\u043b\\u0430\", \"\\u0441\\u0438\\u043b\\u0430\", \"\\u0441\\u0438\\u043b\\u0430\", \"\\u0441\\u0438\\u043b\\u0430\", \"\\u0441\\u0438\\u043b\\u0430\", \"\\u0441\\u0438\\u0441\\u0442\\u0435\\u043c\\u0430\", \"\\u0441\\u0438\\u0441\\u0442\\u0435\\u043c\\u0430\", \"\\u0441\\u0438\\u0441\\u0442\\u0435\\u043c\\u0430\", \"\\u0441\\u0438\\u0442\\u0443\\u0430\\u0446\\u0438\\u044f\", \"\\u0441\\u0438\\u0442\\u0443\\u0430\\u0446\\u0438\\u044f\", \"\\u0441\\u0438\\u0442\\u0443\\u0430\\u0446\\u0438\\u044f\", \"\\u0441\\u0438\\u0442\\u0443\\u0430\\u0446\\u0438\\u044f\", \"\\u0441\\u0438\\u0442\\u0443\\u0430\\u0446\\u0438\\u044f\", \"\\u0441\\u0438\\u0442\\u0443\\u0430\\u0446\\u0438\\u044f\", \"\\u0441\\u043b\\u0435\\u0434\\u043e\\u0432\\u0430\\u0442\\u0435\\u043b\\u044c\", \"\\u0441\\u043b\\u0435\\u0434\\u0441\\u0442\\u0432\\u0438\\u0435\", \"\\u0441\\u043b\\u0435\\u0434\\u0441\\u0442\\u0432\\u0438\\u0435\", \"\\u0441\\u043b\\u043e\\u0432\\u043e\", \"\\u0441\\u043b\\u043e\\u0432\\u043e\", \"\\u0441\\u043b\\u043e\\u0432\\u043e\", \"\\u0441\\u043b\\u043e\\u0432\\u043e\", \"\\u0441\\u043b\\u043e\\u0432\\u043e\", \"\\u0441\\u043b\\u043e\\u0432\\u043e\", \"\\u0441\\u043b\\u043e\\u0432\\u043e\", \"\\u0441\\u043b\\u043e\\u0432\\u043e\", \"\\u0441\\u043b\\u043e\\u0432\\u043e\", \"\\u0441\\u043b\\u0443\\u0436\\u0431\\u0430\", \"\\u0441\\u043b\\u0443\\u0436\\u0431\\u0430\", \"\\u0441\\u043b\\u0443\\u0436\\u0431\\u0430\", \"\\u0441\\u043b\\u0443\\u0436\\u0431\\u0430\", \"\\u0441\\u043b\\u0443\\u0436\\u0431\\u0430\", \"\\u0441\\u043b\\u0443\\u0436\\u0431\\u0430\", \"\\u0441\\u043b\\u0443\\u0436\\u0431\\u0430\", \"\\u0441\\u043b\\u0443\\u0436\\u0431\\u0430\", \"\\u0441\\u043e\\u0432\\u0435\\u0442\", \"\\u0441\\u043e\\u0432\\u0435\\u0442\", \"\\u0441\\u043e\\u0432\\u0435\\u0442\", \"\\u0441\\u043e\\u0432\\u0435\\u0442\", \"\\u0441\\u043e\\u0432\\u0435\\u0442\\u0441\\u043a\\u0438\\u0439\", \"\\u0441\\u043e\\u0433\\u043b\\u0430\\u0448\\u0430\\u0442\\u044c\\u0441\\u044f\", \"\\u0441\\u043e\\u0437\\u0434\\u0430\\u043d\\u0438\\u0435\", \"\\u0441\\u043e\\u0437\\u0434\\u0430\\u043d\\u0438\\u0435\", \"\\u0441\\u043e\\u0437\\u0434\\u0430\\u043d\\u0438\\u0435\", \"\\u0441\\u043e\\u0437\\u0434\\u0430\\u043d\\u0438\\u0435\", \"\\u0441\\u043e\\u043e\\u0431\\u0449\\u0430\\u0442\\u044c\", \"\\u0441\\u043e\\u043e\\u0431\\u0449\\u0430\\u0442\\u044c\", \"\\u0441\\u043e\\u043e\\u0431\\u0449\\u0430\\u0442\\u044c\", \"\\u0441\\u043e\\u043e\\u0431\\u0449\\u0430\\u0442\\u044c\", \"\\u0441\\u043e\\u043e\\u0431\\u0449\\u0430\\u0442\\u044c\", \"\\u0441\\u043e\\u043e\\u0431\\u0449\\u0430\\u0442\\u044c\", \"\\u0441\\u043e\\u043e\\u0431\\u0449\\u0430\\u0442\\u044c\", \"\\u0441\\u043e\\u043e\\u0431\\u0449\\u0430\\u0442\\u044c\", \"\\u0441\\u043e\\u043e\\u0431\\u0449\\u0430\\u0442\\u044c\", \"\\u0441\\u043e\\u043e\\u0431\\u0449\\u0430\\u0442\\u044c\", \"\\u0441\\u043e\\u043f\\u0435\\u0440\\u043d\\u0438\\u043a\", \"\\u0441\\u043e\\u0441\\u0442\\u0430\\u0432\\u043b\\u044f\\u0442\\u044c\", \"\\u0441\\u043e\\u0441\\u0442\\u0430\\u0432\\u043b\\u044f\\u0442\\u044c\", \"\\u0441\\u043e\\u0441\\u0442\\u0430\\u0432\\u043b\\u044f\\u0442\\u044c\", \"\\u0441\\u043e\\u0441\\u0442\\u0430\\u0432\\u043b\\u044f\\u0442\\u044c\", \"\\u0441\\u043e\\u0441\\u0442\\u043e\\u044f\\u0442\\u044c\\u0441\\u044f\", \"\\u0441\\u043e\\u0441\\u0442\\u043e\\u044f\\u0442\\u044c\\u0441\\u044f\", \"\\u0441\\u043e\\u0441\\u0442\\u043e\\u044f\\u0442\\u044c\\u0441\\u044f\", \"\\u0441\\u043e\\u0441\\u0442\\u043e\\u044f\\u0442\\u044c\\u0441\\u044f\", \"\\u0441\\u043e\\u0442\\u0440\\u0443\\u0434\\u043d\\u0438\\u043a\", \"\\u0441\\u043e\\u0442\\u0440\\u0443\\u0434\\u043d\\u0438\\u043a\", \"\\u0441\\u043e\\u0442\\u0440\\u0443\\u0434\\u043d\\u0438\\u043a\", \"\\u0441\\u043e\\u0442\\u0440\\u0443\\u0434\\u043d\\u0438\\u0447\\u0435\\u0441\\u0442\\u0432\\u043e\", \"\\u0441\\u043e\\u0446\\u0438\\u0430\\u043b\\u044c\\u043d\\u044b\\u0439\", \"\\u0441\\u043f\\u0438\\u043a\\u0435\\u0440\", \"\\u0441\\u0442\\u0430\\u0432\\u043a\\u0430\", \"\\u0441\\u0442\\u0430\\u043d\\u043e\\u0432\\u0438\\u0442\\u044c\\u0441\\u044f\", \"\\u0441\\u0442\\u0430\\u043d\\u043e\\u0432\\u0438\\u0442\\u044c\\u0441\\u044f\", \"\\u0441\\u0442\\u0430\\u043d\\u043e\\u0432\\u0438\\u0442\\u044c\\u0441\\u044f\", \"\\u0441\\u0442\\u0430\\u043d\\u043e\\u0432\\u0438\\u0442\\u044c\\u0441\\u044f\", \"\\u0441\\u0442\\u0430\\u043d\\u043e\\u0432\\u0438\\u0442\\u044c\\u0441\\u044f\", \"\\u0441\\u0442\\u0430\\u043d\\u043e\\u0432\\u0438\\u0442\\u044c\\u0441\\u044f\", \"\\u0441\\u0442\\u0430\\u043d\\u043e\\u0432\\u0438\\u0442\\u044c\\u0441\\u044f\", \"\\u0441\\u0442\\u0430\\u0440\\u0448\\u0438\\u0439\", \"\\u0441\\u0442\\u043e\\u0438\\u043c\\u043e\\u0441\\u0442\\u044c\", \"\\u0441\\u0442\\u043e\\u0438\\u043c\\u043e\\u0441\\u0442\\u044c\", \"\\u0441\\u0442\\u043e\\u043b\\u043a\\u043d\\u043e\\u0432\\u0435\\u043d\\u0438\\u0435\", \"\\u0441\\u0442\\u0440\\u0430\\u0436\\u0430\", \"\\u0441\\u0442\\u0440\\u0430\\u043d\\u0430\", \"\\u0441\\u0442\\u0440\\u0430\\u043d\\u0430\", \"\\u0441\\u0442\\u0440\\u0430\\u043d\\u0430\", \"\\u0441\\u0442\\u0440\\u0430\\u043d\\u0430\", \"\\u0441\\u0442\\u0440\\u0430\\u0442\\u0435\\u0433\\u0438\\u0447\\u0435\\u0441\\u043a\\u0438\\u0439\", \"\\u0441\\u0442\\u0440\\u043e\\u0438\\u0442\\u0435\\u043b\\u044c\\u0441\\u0442\\u0432\\u043e\", \"\\u0441\\u0443\\u0434\", \"\\u0441\\u0443\\u0434\", \"\\u0441\\u0443\\u0434\", \"\\u0441\\u0443\\u0434\", \"\\u0441\\u0443\\u0434\\u0435\\u0431\\u043d\\u044b\\u0439\", \"\\u0441\\u0443\\u0434\\u0435\\u0431\\u043d\\u044b\\u0439\", \"\\u0441\\u0443\\u0434\\u043d\\u043e\", \"\\u0441\\u0443\\u0434\\u044c\\u044f\", \"\\u0441\\u0443\\u043c\\u043c\\u0430\", \"\\u0441\\u0443\\u043c\\u043c\\u0430\", \"\\u0441\\u0443\\u043c\\u043c\\u0430\", \"\\u0441\\u0444\\u0435\\u0440\\u0430\", \"\\u0441\\u0444\\u0435\\u0440\\u0430\", \"\\u0441\\u0447\\u0435\\u0442\", \"\\u0441\\u0447\\u0435\\u0442\", \"\\u0441\\u0447\\u0435\\u0442\", \"\\u0441\\u0448\\u0430\", \"\\u0441\\u0448\\u0430\", \"\\u0441\\u0448\\u0430\", \"\\u0441\\u0448\\u0430\", \"\\u0441\\u044b\\u0433\\u0440\\u0430\\u0442\\u044c\", \"\\u0442\\u0430\\u043a\\u0436\\u0435\", \"\\u0442\\u0430\\u043a\\u0436\\u0435\", \"\\u0442\\u0430\\u043a\\u0436\\u0435\", \"\\u0442\\u0430\\u043a\\u0436\\u0435\", \"\\u0442\\u0430\\u043a\\u0436\\u0435\", \"\\u0442\\u0430\\u043a\\u0436\\u0435\", \"\\u0442\\u0430\\u043a\\u0436\\u0435\", \"\\u0442\\u0430\\u043a\\u0436\\u0435\", \"\\u0442\\u0430\\u043a\\u0436\\u0435\", \"\\u0442\\u0430\\u043a\\u0436\\u0435\", \"\\u0442\\u0430\\u0440\\u0438\\u0444\", \"\\u0442\\u0430\\u0441\\u0441\", \"\\u0442\\u0430\\u0441\\u0441\", \"\\u0442\\u0430\\u0441\\u0441\", \"\\u0442\\u0430\\u0441\\u0441\", \"\\u0442\\u0430\\u0441\\u0441\", \"\\u0442\\u0435\\u043b\\u043e\", \"\\u0442\\u0435\\u043b\\u043e\", \"\\u0442\\u0435\\u0440\\u0440\\u0438\\u0442\\u043e\\u0440\\u0438\\u044f\", \"\\u0442\\u0435\\u0440\\u0440\\u0438\\u0442\\u043e\\u0440\\u0438\\u044f\", \"\\u0442\\u0435\\u0440\\u0440\\u0438\\u0442\\u043e\\u0440\\u0438\\u044f\", \"\\u0442\\u0435\\u0440\\u0440\\u0438\\u0442\\u043e\\u0440\\u0438\\u044f\", \"\\u0442\\u0435\\u0440\\u0440\\u0438\\u0442\\u043e\\u0440\\u0438\\u044f\", \"\\u0442\\u0435\\u0440\\u0440\\u0438\\u0442\\u043e\\u0440\\u0438\\u044f\", \"\\u0442\\u0435\\u0440\\u0440\\u0438\\u0442\\u043e\\u0440\\u0438\\u044f\", \"\\u0442\\u0435\\u0445\\u043d\\u043e\\u043b\\u043e\\u0433\\u0438\\u044f\", \"\\u0442\\u0435\\u0445\\u043d\\u043e\\u043b\\u043e\\u0433\\u0438\\u044f\", \"\\u0442\\u043e\\u043d\\u043d\\u0430\", \"\\u0442\\u043e\\u0440\\u0433\\u043e\\u0432\\u043b\\u044f\", \"\\u0442\\u043e\\u0440\\u0433\\u043e\\u0432\\u044b\\u0439\", \"\\u0442\\u0440\\u0430\\u043d\\u0441\\u043f\\u043e\\u0440\\u0442\", \"\\u0442\\u0440\\u0435\\u0442\\u0438\\u0439\", \"\\u0442\\u0440\\u0435\\u0442\\u0438\\u0439\", \"\\u0442\\u0440\\u0435\\u0442\\u0438\\u0439\", \"\\u0442\\u0440\\u0435\\u0442\\u0438\\u0439\", \"\\u0442\\u0440\\u0435\\u0442\\u0438\\u0439\", \"\\u0442\\u0440\\u0435\\u0442\\u0438\\u0439\", \"\\u0442\\u0443\\u0440\\u043d\\u0438\\u0440\", \"\\u0442\\u044b\\u0441\\u044f\\u0447\\u0430\", \"\\u0442\\u044b\\u0441\\u044f\\u0447\\u0430\", \"\\u0442\\u044b\\u0441\\u044f\\u0447\\u0430\", \"\\u0442\\u044b\\u0441\\u044f\\u0447\\u0430\", \"\\u0442\\u044b\\u0441\\u044f\\u0447\\u0430\", \"\\u0442\\u044f\\u0436\\u0435\\u043b\\u044b\\u0439\", \"\\u0443\\u0431\\u0438\\u0439\\u0441\\u0442\\u0432\\u043e\", \"\\u0443\\u0431\\u0438\\u0439\\u0441\\u0442\\u0432\\u043e\", \"\\u0443\\u0431\\u0438\\u0439\\u0441\\u0442\\u0432\\u043e\", \"\\u0443\\u0432\\u0434\", \"\\u0443\\u0432\\u0435\\u043b\\u0438\\u0447\\u0435\\u043d\\u0438\\u0435\", \"\\u0443\\u0433\\u043e\\u043b\\u043e\\u0432\\u043d\\u044b\\u0439\", \"\\u0443\\u0434\\u0430\\u0440\", \"\\u0443\\u043a\\u0440\\u0430\\u0438\\u043d\\u0430\", \"\\u0443\\u043b\\u0438\\u0446\\u0430\", \"\\u0443\\u043d\\u0438\\u0447\\u0442\\u043e\\u0436\\u0430\\u0442\\u044c\", \"\\u0443\\u043f\\u0440\\u0430\\u0432\\u043b\\u0435\\u043d\\u0438\\u0435\", \"\\u0443\\u043f\\u0440\\u0430\\u0432\\u043b\\u0435\\u043d\\u0438\\u0435\", \"\\u0443\\u043f\\u0440\\u0430\\u0432\\u043b\\u0435\\u043d\\u0438\\u0435\", \"\\u0443\\u043f\\u0440\\u0430\\u0432\\u043b\\u0435\\u043d\\u0438\\u0435\", \"\\u0443\\u043f\\u0440\\u0430\\u0432\\u043b\\u0435\\u043d\\u0438\\u0435\", \"\\u0443\\u043f\\u0440\\u0430\\u0432\\u043b\\u0435\\u043d\\u0438\\u0435\", \"\\u0443\\u0441\\u043b\\u0443\\u0433\\u0430\", \"\\u0443\\u0441\\u0442\\u0440\\u043e\\u0439\\u0441\\u0442\\u0432\\u043e\", \"\\u0443\\u0442\\u0440\\u043e\", \"\\u0443\\u0442\\u0440\\u043e\", \"\\u0443\\u0442\\u0440\\u043e\", \"\\u0444\\u0430\\u0439\\u043b\", \"\\u0444\\u0430\\u043a\\u0442\", \"\\u0444\\u0430\\u043a\\u0442\", \"\\u0444\\u0430\\u043a\\u0442\", \"\\u0444\\u0430\\u043a\\u0442\", \"\\u0444\\u0430\\u043a\\u0442\", \"\\u0444\\u0435\\u0434\\u0435\\u0440\\u0430\\u043b\\u044c\\u043d\\u044b\\u0439\", \"\\u0444\\u0435\\u0434\\u0435\\u0440\\u0430\\u043b\\u044c\\u043d\\u044b\\u0439\", \"\\u0444\\u0435\\u0434\\u0435\\u0440\\u0430\\u043b\\u044c\\u043d\\u044b\\u0439\", \"\\u0444\\u0435\\u0434\\u0435\\u0440\\u0430\\u043b\\u044c\\u043d\\u044b\\u0439\", \"\\u0444\\u0435\\u0434\\u0435\\u0440\\u0430\\u0446\\u0438\\u044f\", \"\\u0444\\u0435\\u0434\\u0435\\u0440\\u0430\\u0446\\u0438\\u044f\", \"\\u0444\\u0435\\u0434\\u0435\\u0440\\u0430\\u0446\\u0438\\u044f\", \"\\u0444\\u0438\\u043d\\u0430\\u043d\\u0441\\u0438\\u0440\\u043e\\u0432\\u0430\\u043d\\u0438\\u0435\", \"\\u0444\\u0440\\u0430\\u043a\\u0446\\u0438\\u044f\", \"\\u0444\\u0440\\u0430\\u043d\\u0446\\u0438\\u044f\", \"\\u0444\\u0440\\u0430\\u043d\\u0446\\u0438\\u044f\", \"\\u0444\\u0440\\u0430\\u043d\\u0446\\u0443\\u0437\\u0441\\u043a\\u0438\\u0439\", \"\\u0444\\u0441\\u0431\", \"\\u0444\\u0443\\u0433\\u0430\\u0441\", \"\\u0444\\u0443\\u0442\\u0431\\u043e\\u043b\", \"\\u0445\\u0430\\u043a\\u0435\\u0440\", \"\\u0445\\u043e\\u0437\\u044f\\u0438\\u043d\", \"\\u0445\\u043e\\u043b\\u0434\\u0438\\u043d\\u0433\", \"\\u0445\\u043e\\u0440\\u043e\\u0448\\u0438\\u0439\", \"\\u0446\\u0435\\u043d\\u0430\", \"\\u0446\\u0435\\u043d\\u0430\", \"\\u0447\\u0430\\u0441\", \"\\u0447\\u0430\\u0441\", \"\\u0447\\u0430\\u0441\", \"\\u0447\\u0430\\u0441\\u0442\\u043d\\u043e\\u0441\\u0442\\u044c\", \"\\u0447\\u0430\\u0441\\u0442\\u043d\\u043e\\u0441\\u0442\\u044c\", \"\\u0447\\u0430\\u0441\\u0442\\u043d\\u043e\\u0441\\u0442\\u044c\", \"\\u0447\\u0430\\u0441\\u0442\\u043d\\u043e\\u0441\\u0442\\u044c\", \"\\u0447\\u0430\\u0441\\u0442\\u043d\\u043e\\u0441\\u0442\\u044c\", \"\\u0447\\u0430\\u0441\\u0442\\u043d\\u043e\\u0441\\u0442\\u044c\", \"\\u0447\\u0435\\u043b\\u043e\\u0432\\u0435\\u043a\", \"\\u0447\\u0435\\u043b\\u043e\\u0432\\u0435\\u043a\", \"\\u0447\\u0435\\u043b\\u043e\\u0432\\u0435\\u043a\", \"\\u0447\\u0435\\u043b\\u043e\\u0432\\u0435\\u043a\", \"\\u0447\\u0435\\u043b\\u043e\\u0432\\u0435\\u043a\", \"\\u0447\\u0435\\u043b\\u044f\\u0431\\u0438\\u043d\\u0441\\u043a\\u0438\\u0439\", \"\\u0447\\u0435\\u043c\\u043f\\u0438\\u043e\\u043d\\u0430\\u0442\", \"\\u0447\\u0435\\u0442\\u0432\\u0435\\u0440\\u043e\", \"\\u0447\\u0435\\u0447\\u0435\\u043d\\u0435\\u0446\", \"\\u0447\\u0435\\u0447\\u0435\\u043d\\u0441\\u043a\\u0438\\u0439\", \"\\u0447\\u0435\\u0447\\u043d\\u044f\", \"\\u0447\\u043b\\u0435\\u043d\", \"\\u0447\\u043b\\u0435\\u043d\", \"\\u0447\\u043b\\u0435\\u043d\", \"\\u0447\\u043b\\u0435\\u043d\", \"\\u0447\\u043b\\u0435\\u043d\", \"\\u0447\\u0440\\u0435\\u0437\\u0432\\u044b\\u0447\\u0430\\u0439\\u043d\\u044b\\u0439\", \"\\u0447\\u0442\\u0435\\u043d\\u0438\\u0435\", \"\\u0448\\u0432\\u0435\\u0439\\u0446\\u0430\\u0440\\u0441\\u043a\\u0438\\u0439\", \"\\u044d\\u043a\\u043e\\u043d\\u043e\\u043c\\u0438\\u043a\\u0430\", \"\\u044d\\u043a\\u043e\\u043d\\u043e\\u043c\\u0438\\u0447\\u0435\\u0441\\u043a\\u0438\\u0439\", \"\\u044d\\u043a\\u043e\\u043d\\u043e\\u043c\\u0438\\u0447\\u0435\\u0441\\u043a\\u0438\\u0439\", \"\\u044d\\u0442\\u043e\", \"\\u044d\\u0442\\u043e\", \"\\u044d\\u0442\\u043e\", \"\\u044d\\u0442\\u043e\", \"\\u044d\\u0442\\u043e\", \"\\u044d\\u0442\\u043e\", \"\\u044d\\u0442\\u043e\", \"\\u044d\\u0442\\u043e\", \"\\u044d\\u0442\\u043e\", \"\\u044d\\u0442\\u043e\", \"\\u044d\\u0445\\u043e\", \"\\u044d\\u0445\\u043e\", \"\\u044e\\u0433\\u043e\\u0441\\u043b\\u0430\\u0432\\u0438\\u044f\", \"\\u044e\\u0440\\u0438\\u0439\", \"\\u044f\\u0432\\u043b\\u044f\\u0442\\u044c\\u0441\\u044f\", \"\\u044f\\u0432\\u043b\\u044f\\u0442\\u044c\\u0441\\u044f\", \"\\u044f\\u0432\\u043b\\u044f\\u0442\\u044c\\u0441\\u044f\", \"\\u044f\\u0432\\u043b\\u044f\\u0442\\u044c\\u0441\\u044f\", \"\\u044f\\u0432\\u043b\\u044f\\u0442\\u044c\\u0441\\u044f\", \"\\u044f\\u0432\\u043b\\u044f\\u0442\\u044c\\u0441\\u044f\", \"\\u044f\\u0432\\u043b\\u044f\\u0442\\u044c\\u0441\\u044f\", \"\\u044f\\u0432\\u043b\\u044f\\u0442\\u044c\\u0441\\u044f\", \"\\u044f\\u0432\\u043b\\u044f\\u0442\\u044c\\u0441\\u044f\", \"\\u044f\\u0432\\u043b\\u044f\\u0442\\u044c\\u0441\\u044f\", \"\\u044f\\u043f\\u043e\\u043d\\u0438\\u044f\", \"\\u044f\\u0441\\u0442\\u0440\\u0436\\u0435\\u043c\\u0431\\u0441\\u043a\\u0438\\u0439\"]}, \"R\": 30, \"lambda.step\": 0.01, \"plot.opts\": {\"xlab\": \"PC1\", \"ylab\": \"PC2\"}, \"topic.order\": [10, 4, 6, 3, 9, 2, 1, 7, 5, 8]};\n",
              "\n",
              "function LDAvis_load_lib(url, callback){\n",
              "  var s = document.createElement('script');\n",
              "  s.src = url;\n",
              "  s.async = true;\n",
              "  s.onreadystatechange = s.onload = callback;\n",
              "  s.onerror = function(){console.warn(\"failed to load library \" + url);};\n",
              "  document.getElementsByTagName(\"head\")[0].appendChild(s);\n",
              "}\n",
              "\n",
              "if(typeof(LDAvis) !== \"undefined\"){\n",
              "   // already loaded: just create the visualization\n",
              "   !function(LDAvis){\n",
              "       new LDAvis(\"#\" + \"ldavis_el181134985754012000353687457\", ldavis_el181134985754012000353687457_data);\n",
              "   }(LDAvis);\n",
              "}else if(typeof define === \"function\" && define.amd){\n",
              "   // require.js is available: use it to load d3/LDAvis\n",
              "   require.config({paths: {d3: \"https://cdnjs.cloudflare.com/ajax/libs/d3/3.5.5/d3.min\"}});\n",
              "   require([\"d3\"], function(d3){\n",
              "      window.d3 = d3;\n",
              "      LDAvis_load_lib(\"https://cdn.rawgit.com/bmabey/pyLDAvis/files/ldavis.v1.0.0.js\", function(){\n",
              "        new LDAvis(\"#\" + \"ldavis_el181134985754012000353687457\", ldavis_el181134985754012000353687457_data);\n",
              "      });\n",
              "    });\n",
              "}else{\n",
              "    // require.js not available: dynamically load d3 & LDAvis\n",
              "    LDAvis_load_lib(\"https://cdnjs.cloudflare.com/ajax/libs/d3/3.5.5/d3.min.js\", function(){\n",
              "         LDAvis_load_lib(\"https://cdn.rawgit.com/bmabey/pyLDAvis/files/ldavis.v1.0.0.js\", function(){\n",
              "                 new LDAvis(\"#\" + \"ldavis_el181134985754012000353687457\", ldavis_el181134985754012000353687457_data);\n",
              "            })\n",
              "         });\n",
              "}\n",
              "</script>"
            ]
          },
          "metadata": {},
          "execution_count": 43
        }
      ],
      "source": [
        "lda_10 = ldamodel.LdaModel(corpus, id2word=dictionary, num_topics=10, chunksize=50, update_every=1, passes=2)\n",
        "vis_data = gensimvis.prepare(lda_10, corpus, dictionary)\n",
        "pyLDAvis.display(vis_data)"
      ]
    },
    {
      "cell_type": "markdown",
      "metadata": {
        "id": "_aUw46omZcGw"
      },
      "source": [
        "### Библиотека BigARTM\n",
        "\n",
        "Теперь попробуем построить модели с помощью библиотеки BigARTM. [Тут](https://github.com/bigartm/bigartm-book/blob/master/ARTM_example_RU.ipynb) и [тут](https://github.com/bigartm/bigartm-book/blob/master/ARTM_tutorial_RU.ipynb) можно посмотреть на примеры использования библиотеки."
      ]
    },
    {
      "cell_type": "code",
      "execution_count": 44,
      "metadata": {
        "id": "gtnd6FnBZcGw"
      },
      "outputs": [],
      "source": [
        "import artm"
      ]
    },
    {
      "cell_type": "markdown",
      "metadata": {
        "id": "fcVd8MmwZcGw"
      },
      "source": [
        "Чтобы работать с данными в библиотеке ARTM нужно сперва сделать препроцессинг (мы уже сделали его ранее) и записать данные в [одном из форматов](https://bigartm.readthedocs.io/en/v0.10.1/tutorials/datasets.html), с которыми умеет работать библиотека. Мы конвертируем данные в формат vowpal wabbit:"
      ]
    },
    {
      "cell_type": "raw",
      "metadata": {
        "id": "9iJTrp_yZcGx"
      },
      "source": [
        "doc1 this text will be processed not as bag of words |author Some_Author"
      ]
    },
    {
      "cell_type": "code",
      "execution_count": 45,
      "metadata": {
        "id": "pk0vNkuKZcGx",
        "outputId": "f4fce51c-a823-4d94-af5e-3197a41b42bc",
        "colab": {
          "base_uri": "https://localhost:8080/"
        }
      },
      "outputs": [
        {
          "output_type": "execute_result",
          "data": {
            "text/plain": [
              "text     [становиться, известно, агентство, ассошиэйтед, пресс, экипаж, последний, экспедиция, станция, мир, считать, способный, выходить, контроль, командир, виктор, афанасьев, сказать, чувствовать, грустить, оставлять, станция, летать, беспилотный, режим, gazeta, подробно, писать, финансирование, программа, мир, закрывать, конструктор, спешить, топить, тихий, океан, надеяться, изыскание, внебюджетный, средство, надеяться, правительство, оплачивать, финальный, экспедиция, мир, февраль, март, год, новый, экспедиция, должный, постепенно, перевести, станция, низкий, орбита, тонный, мир, основной, сгорать, атмосфера, незначительный, часть, упасть, тихий, океан, никакой, гарантия, переживать, столько, отказ, оборудование, конструкция, поводить, адекватно, команда, афанасьев, перечислять, потенциально, опасный, элемент, мир, пресс, конференция, состояться, понедельник, звездный, городок, мочь, упасть, давление, кабина, сказать, это, становиться, серьезный, препятствие, работа, ...]\n",
              "topic                                                                                                                                                                                                                                                                                                                                                                                                                                                                                                                                                                                                                                                                                                                                                                                                                                                                                                                                                                                                                    Россия\n",
              "date                                                                                                                                                                                                                                                                                                                                                                                                                                                                                                                                                                                                                                                                                                                                                                                                                                                                                                                                                                                                                 1999/08/31\n",
              "Name: 5, dtype: object"
            ]
          },
          "metadata": {},
          "execution_count": 45
        }
      ],
      "source": [
        "i = 0\n",
        "d = data.iloc[i]\n",
        "d"
      ]
    },
    {
      "cell_type": "code",
      "execution_count": 46,
      "metadata": {
        "id": "JLQV8q4eZcGx",
        "outputId": "bfaf30b9-1702-468b-86b3-1f8a8e90b1c4",
        "colab": {
          "base_uri": "https://localhost:8080/",
          "height": 116
        }
      },
      "outputs": [
        {
          "output_type": "execute_result",
          "data": {
            "text/plain": [
              "'doc0 становиться известно агентство ассошиэйтед пресс экипаж последний экспедиция станция мир считать способный выходить контроль командир виктор афанасьев сказать чувствовать грустить оставлять станция летать беспилотный режим gazeta подробно писать финансирование программа мир закрывать конструктор спешить топить тихий океан надеяться изыскание внебюджетный средство надеяться правительство оплачивать финальный экспедиция мир февраль март год новый экспедиция должный постепенно перевести станция низкий орбита тонный мир основной сгорать атмосфера незначительный часть упасть тихий океан никакой гарантия переживать столько отказ оборудование конструкция поводить адекватно команда афанасьев перечислять потенциально опасный элемент мир пресс конференция состояться понедельник звездный городок мочь упасть давление кабина сказать это становиться серьезный препятствие работа следующий экспедиция слишком большой роль человеческий фактор элементарный ошибка мочь приводить потеря топливо потеря ориентация американский космический агентство аэронавтика космический пространство предлагать россия затапливать мир ресурс переводить международный космический станция россия хотеть расставаться легендарный символ |topic Россия'"
            ],
            "application/vnd.google.colaboratory.intrinsic+json": {
              "type": "string"
            }
          },
          "metadata": {},
          "execution_count": 46
        }
      ],
      "source": [
        "f'doc{i} {\" \".join(d.text)} |topic {d.topic}'"
      ]
    },
    {
      "cell_type": "code",
      "execution_count": 47,
      "metadata": {
        "id": "S4pKkL9_ZcGx"
      },
      "outputs": [],
      "source": [
        "def convert_to_vw_format(index, row):\n",
        "    return f'doc{index} {\" \".join(row.text)} |topic {row.topic}'"
      ]
    },
    {
      "cell_type": "code",
      "execution_count": 69,
      "metadata": {
        "id": "6YP5RSrZZcGx"
      },
      "outputs": [],
      "source": [
        "with open('lenta_wv.wv', 'w') as f:\n",
        "    for index, row in data.iterrows():\n",
        "        vw_string = convert_to_vw_format(index, row)\n",
        "        f.write(vw_string)\n",
        "        f.write('\\n')"
      ]
    },
    {
      "cell_type": "markdown",
      "metadata": {
        "id": "p8Wb35peZcGx"
      },
      "source": [
        "Далее нужно создать объект BatchVectorizer для данных, которые мы записали в формате vowpal wabbit:"
      ]
    },
    {
      "cell_type": "code",
      "execution_count": 70,
      "metadata": {
        "id": "0T-hgiL9ZcGx"
      },
      "outputs": [],
      "source": [
        "batch_vectorizer = artm.BatchVectorizer(data_path='lenta_wv.wv',\n",
        "                                        data_format='vowpal_wabbit',\n",
        "                                        target_folder='lenta_batches')"
      ]
    },
    {
      "cell_type": "markdown",
      "metadata": {
        "id": "tSn2IdUOZcGx"
      },
      "source": [
        "Попробуем обучить модель LDA для 10 тем:"
      ]
    },
    {
      "cell_type": "code",
      "execution_count": 71,
      "metadata": {
        "id": "-PsQznO3ZcGy",
        "outputId": "0392a362-2f5c-4d61-c449-1d8aad62bd4c",
        "colab": {
          "base_uri": "https://localhost:8080/"
        }
      },
      "outputs": [
        {
          "output_type": "stream",
          "name": "stdout",
          "text": [
            "CPU times: user 29.4 s, sys: 313 ms, total: 29.7 s\n",
            "Wall time: 19.6 s\n"
          ]
        }
      ],
      "source": [
        "%%time\n",
        "lda = artm.LDA(num_topics=10, alpha=0.1, beta=0.001,\n",
        "               cache_theta=True,\n",
        "               num_document_passes=5,\n",
        "               dictionary=batch_vectorizer.dictionary)\n",
        "\n",
        "lda.fit_offline(batch_vectorizer=batch_vectorizer,\n",
        "                num_collection_passes=10)"
      ]
    },
    {
      "cell_type": "markdown",
      "metadata": {
        "id": "aHJfQ3x8ZcGy"
      },
      "source": [
        "- __fit_offline__ (офлайн алгоритм): много проходов по коллекции, один проход по документу, одно обновление матрицы $\\Phi$ в конце прохода по коллекции. __Лучше использовать при работе с небольшой коллекцией__.\n",
        "\n",
        "\n",
        "- __fit_online__ (онлайн алгоритм) : один проход по коллекции, несколько проходов по документу, несколько обновлений матрицы $\\Phi$ в конце прохода по коллекции. __Лучше использовать при работе с большой коллекцией, или коллекцией с часто меняющимеся темами.__\n",
        "\n",
        "\n",
        "\n",
        "Можем посмотреть на все значения перплексии (для каждой итерации по коллекции из num_collection_passes=10):"
      ]
    },
    {
      "cell_type": "code",
      "execution_count": 72,
      "metadata": {
        "id": "d7PKhU1oZcGy",
        "outputId": "f0e545f8-3874-4ca5-c982-9b92ca8169ca",
        "colab": {
          "base_uri": "https://localhost:8080/"
        }
      },
      "outputs": [
        {
          "output_type": "execute_result",
          "data": {
            "text/plain": [
              "[49334.46875,\n",
              " 4345.82666015625,\n",
              " 3892.929931640625,\n",
              " 3221.296630859375,\n",
              " 2751.091796875,\n",
              " 2520.399658203125,\n",
              " 2405.1904296875,\n",
              " 2337.60986328125,\n",
              " 2294.09716796875,\n",
              " 2264.379638671875]"
            ]
          },
          "metadata": {},
          "execution_count": 72
        }
      ],
      "source": [
        "lda.perplexity_value"
      ]
    },
    {
      "cell_type": "code",
      "execution_count": 73,
      "metadata": {
        "id": "KxfCtjDGZcGy"
      },
      "outputs": [],
      "source": [
        "import numpy as np"
      ]
    },
    {
      "cell_type": "code",
      "execution_count": 74,
      "metadata": {
        "id": "0RDJ0mO1ZcGy",
        "outputId": "04451740-fff3-4be8-afb6-79bd95e5ba07",
        "colab": {
          "base_uri": "https://localhost:8080/"
        }
      },
      "outputs": [
        {
          "output_type": "execute_result",
          "data": {
            "text/plain": [
              "7.725056110191268"
            ]
          },
          "metadata": {},
          "execution_count": 74
        }
      ],
      "source": [
        "np.log(lda.perplexity_last_value)"
      ]
    },
    {
      "cell_type": "markdown",
      "metadata": {
        "id": "R_ICrSngZcGy"
      },
      "source": [
        "Посмотрим на топ-10 токенов для каждой из тем:"
      ]
    },
    {
      "cell_type": "code",
      "execution_count": 75,
      "metadata": {
        "id": "doE1W76qZcGy",
        "outputId": "74ce159f-6377-44f4-f16b-02aa3e15e9cb",
        "colab": {
          "base_uri": "https://localhost:8080/"
        }
      },
      "outputs": [
        {
          "output_type": "stream",
          "name": "stdout",
          "text": [
            "Topic #0: ['компания', 'процент', 'акция', 'год', 'сша', 'доллар', 'который', 'индекс', 'рынок', 'свой']\n",
            "Topic #1: ['год', 'доллар', 'миллион', 'свой', 'который', 'тысяча', 'сообщать', 'мир', 'клуб', 'это']\n",
            "Topic #2: ['который', 'свой', 'весь', 'человек', 'это', 'время', 'сообщать', 'сказать', 'олимпийский', 'мочь']\n",
            "Topic #3: ['матч', 'первый', 'команда', 'второй', 'сборная', 'чемпионат', 'который', 'турнир', 'свой', 'место']\n",
            "Topic #4: ['год', 'доллар', 'миллион', 'россия', 'банк', 'миллиард', 'российский', 'суд', 'долг', 'который']\n",
            "Topic #5: ['компания', 'россия', 'который', 'сообщать', 'директор', 'президент', 'российский', 'это', 'совет', 'свой']\n",
            "Topic #6: ['который', 'год', 'свой', 'это', 'весь', 'команда', 'заявлять', 'новый', 'сказать', 'концерт']\n",
            "Topic #7: ['год', 'процент', 'рубль', 'доллар', 'нефть', 'россия', 'цена', 'сообщать', 'составлять', 'страна']\n",
            "Topic #8: ['фильм', 'год', 'режиссер', 'роль', 'который', 'картина', 'фестиваль', 'главный', 'свой', 'хороший']\n",
            "Topic #9: ['год', 'россия', 'президент', 'сообщать', 'который', 'проект', 'правительство', 'также', 'путин', 'газ']\n"
          ]
        }
      ],
      "source": [
        "top_tokens = lda.get_top_tokens(num_tokens=10)\n",
        "for i, token_list in enumerate(top_tokens):\n",
        "     print ('Topic #{0}: {1}'.format(i, token_list))"
      ]
    },
    {
      "cell_type": "markdown",
      "metadata": {
        "id": "QMf527TiZcGz"
      },
      "source": [
        "[Более подробный ноутбук про модель LDA](https://github.com/bigartm/bigartm-book/blob/master/LDA_tutorial_RU.ipynb)\n",
        "\n",
        "Теперь построим базовую модель pLSA:"
      ]
    },
    {
      "cell_type": "code",
      "execution_count": 76,
      "metadata": {
        "id": "dxEWK0RGZcGz"
      },
      "outputs": [],
      "source": [
        "plsa = artm.ARTM(num_topics=10,\n",
        "                 dictionary=batch_vectorizer.dictionary)"
      ]
    },
    {
      "cell_type": "markdown",
      "metadata": {
        "id": "l-_1h-qmZcGz"
      },
      "source": [
        "Добавим расчет перплексии:"
      ]
    },
    {
      "cell_type": "code",
      "execution_count": 77,
      "metadata": {
        "id": "qVEh08z1ZcGz"
      },
      "outputs": [],
      "source": [
        "plsa.scores.add(artm.PerplexityScore(name='lenta_perplexity_score',\n",
        "                 dictionary=batch_vectorizer.dictionary))"
      ]
    },
    {
      "cell_type": "markdown",
      "metadata": {
        "id": "pg3lESJYZcGz"
      },
      "source": [
        "И TopTokensScore, чтобы взглянуть на самые вероятные слова в каждой теме:"
      ]
    },
    {
      "cell_type": "code",
      "execution_count": 78,
      "metadata": {
        "id": "nXEpRXJsZcGz"
      },
      "outputs": [],
      "source": [
        "plsa.scores.add(artm.TopTokensScore(name='TopTokensScore', num_tokens=6))"
      ]
    },
    {
      "cell_type": "code",
      "execution_count": 79,
      "metadata": {
        "id": "-sRwDteOZcGz"
      },
      "outputs": [],
      "source": [
        "plsa.fit_offline(batch_vectorizer=batch_vectorizer,\n",
        "                 num_collection_passes=20)"
      ]
    },
    {
      "cell_type": "code",
      "execution_count": 80,
      "metadata": {
        "id": "kkMCBuFhZcGz",
        "outputId": "b8114884-2dca-4221-c346-0f6fd352c932",
        "colab": {
          "base_uri": "https://localhost:8080/"
        }
      },
      "outputs": [
        {
          "output_type": "stream",
          "name": "stderr",
          "text": [
            "/usr/local/lib/python3.10/dist-packages/ipykernel/ipkernel.py:283: DeprecationWarning: `should_run_async` will not call `transform_cell` automatically in the future. Please pass the result to `transformed_cell` argument and any exception that happen during thetransform in `preprocessing_exc_tuple` in IPython 7.17 and above.\n",
            "  and should_run_async(code)\n"
          ]
        },
        {
          "output_type": "execute_result",
          "data": {
            "text/plain": [
              "[48730.21875,\n",
              " 4177.1318359375,\n",
              " 3475.912353515625,\n",
              " 2818.471435546875,\n",
              " 2519.5185546875,\n",
              " 2388.373291015625,\n",
              " 2316.196044921875,\n",
              " 2271.542724609375,\n",
              " 2241.67138671875,\n",
              " 2220.335693359375,\n",
              " 2204.4912109375,\n",
              " 2192.273193359375,\n",
              " 2182.108642578125,\n",
              " 2173.490966796875,\n",
              " 2166.072021484375,\n",
              " 2159.654541015625,\n",
              " 2153.789794921875,\n",
              " 2148.32861328125,\n",
              " 2143.55419921875,\n",
              " 2139.44140625]"
            ]
          },
          "metadata": {},
          "execution_count": 80
        }
      ],
      "source": [
        "plsa.score_tracker['lenta_perplexity_score'].value"
      ]
    },
    {
      "cell_type": "code",
      "execution_count": 81,
      "metadata": {
        "id": "kXeAOPoHZcG0",
        "outputId": "a39783a9-c661-4610-9d48-098be9a380c2",
        "colab": {
          "base_uri": "https://localhost:8080/"
        }
      },
      "outputs": [
        {
          "output_type": "stream",
          "name": "stdout",
          "text": [
            "topic_0:  ['компания', 'процент', 'доллар', 'год', 'сша', 'акция']\n",
            "topic_1:  ['год', 'который', 'музей', 'тысяча', 'свой', 'это']\n",
            "topic_2:  ['который', 'свой', 'это', 'человек', 'весь', 'время']\n",
            "topic_3:  ['матч', 'первый', 'команда', 'второй', 'сборная', 'чемпионат']\n",
            "topic_4:  ['доллар', 'год', 'россия', 'миллион', 'банк', 'миллиард']\n",
            "topic_5:  ['компания', 'директор', 'который', 'россия', 'сообщать', 'президент']\n",
            "topic_6:  ['который', 'свой', 'год', 'команда', 'весь', 'это']\n",
            "topic_7:  ['год', 'процент', 'рубль', 'нефть', 'цена', 'составлять']\n",
            "topic_8:  ['фильм', 'режиссер', 'год', 'роль', 'который', 'главный']\n",
            "topic_9:  ['россия', 'правительство', 'проект', 'сообщать', 'год', 'который']\n"
          ]
        }
      ],
      "source": [
        "for topic_name in plsa.topic_names:\n",
        "    print (topic_name + ': ', plsa.score_tracker['TopTokensScore'].last_tokens[topic_name])"
      ]
    },
    {
      "cell_type": "markdown",
      "metadata": {
        "id": "IdV63eLqZcG0"
      },
      "source": [
        "Обратите внимание на слова с заглавной буквы: это поле topic из оригинальных данных.\n",
        "\n",
        "Попробуем удалить из словаря слишком редкие и слишком частые токены:"
      ]
    },
    {
      "cell_type": "code",
      "execution_count": 82,
      "metadata": {
        "id": "hwGa9MYRZcG0",
        "outputId": "cfa627f9-ebb4-4e5f-efed-d77f5a9b646b",
        "colab": {
          "base_uri": "https://localhost:8080/"
        }
      },
      "outputs": [
        {
          "output_type": "execute_result",
          "data": {
            "text/plain": [
              "artm.Dictionary(name=59930fb7-71fd-4be8-bff8-8a8ec1965431, num_entries=9944)"
            ]
          },
          "metadata": {},
          "execution_count": 82
        }
      ],
      "source": [
        "batch_vectorizer.dictionary.filter(min_tf=10, max_tf=5000)"
      ]
    },
    {
      "cell_type": "code",
      "execution_count": 84,
      "metadata": {
        "id": "E6qEC6B9ZcG0"
      },
      "outputs": [],
      "source": [
        "plsa = artm.ARTM(num_topics=10,\n",
        "                 dictionary=batch_vectorizer.dictionary)\n",
        "plsa.scores.add(artm.PerplexityScore(name='lenta_perplexity_score',\n",
        "                dictionary=batch_vectorizer.dictionary))\n",
        "\n",
        "plsa.scores.add(artm.TopTokensScore(name='TopTokensScore',\n",
        "                                    num_tokens=6))\n",
        "plsa.fit_offline(batch_vectorizer=batch_vectorizer,\n",
        "                 num_collection_passes=20)"
      ]
    },
    {
      "cell_type": "code",
      "execution_count": 85,
      "metadata": {
        "id": "-UUgavOpZcG0",
        "outputId": "0d757366-a281-4bc1-e024-53991e050720",
        "colab": {
          "base_uri": "https://localhost:8080/"
        }
      },
      "outputs": [
        {
          "output_type": "execute_result",
          "data": {
            "text/plain": [
              "[8789.455078125,\n",
              " 2779.507080078125,\n",
              " 2353.55517578125,\n",
              " 1912.46435546875,\n",
              " 1691.0028076171875,\n",
              " 1584.080078125,\n",
              " 1527.3642578125,\n",
              " 1494.6923828125,\n",
              " 1474.0860595703125,\n",
              " 1460.140380859375,\n",
              " 1449.95263671875,\n",
              " 1442.2021484375,\n",
              " 1436.402099609375,\n",
              " 1431.9168701171875,\n",
              " 1428.3013916015625,\n",
              " 1425.227783203125,\n",
              " 1422.4620361328125,\n",
              " 1419.9444580078125,\n",
              " 1417.6612548828125,\n",
              " 1415.54296875]"
            ]
          },
          "metadata": {},
          "execution_count": 85
        }
      ],
      "source": [
        "plsa.score_tracker['lenta_perplexity_score'].value"
      ]
    },
    {
      "cell_type": "markdown",
      "metadata": {
        "id": "R2NSZlRPZcG0"
      },
      "source": [
        "Стало заметно лучше :)"
      ]
    },
    {
      "cell_type": "code",
      "execution_count": 86,
      "metadata": {
        "id": "gBBxTBWKZcG1",
        "outputId": "20a366e1-dee9-447a-c3a1-1b8264b89ffb",
        "colab": {
          "base_uri": "https://localhost:8080/"
        }
      },
      "outputs": [
        {
          "output_type": "stream",
          "name": "stdout",
          "text": [
            "topic_0:  ['процент', 'компания', 'цена', 'составлять', 'сша', 'рынок']\n",
            "topic_1:  ['матч', 'команда', 'клуб', 'сборная', 'игра', 'минута']\n",
            "topic_2:  ['роль', 'режиссер', 'актер', 'главный', 'the', 'снимать']\n",
            "topic_3:  ['первый', 'турнир', 'второй', 'место', 'российский', 'выигрывать']\n",
            "topic_4:  ['миллион', 'российский', 'миллиард', 'банк', 'долг', 'страна']\n",
            "topic_5:  ['компания', 'директор', 'предприятие', 'президент', 'акция', 'рао']\n",
            "topic_6:  ['нефть', 'заявлять', 'решение', 'баррель', 'страна', 'суд']\n",
            "topic_7:  ['рубль', 'правительство', 'процент', 'бюджет', 'налог', 'закон']\n",
            "topic_8:  ['фестиваль', 'театр', 'премия', 'москва', 'известный', 'российский']\n",
            "topic_9:  ['город', 'тысяча', 'музей', 'передавать', 'время', 'весь']\n"
          ]
        }
      ],
      "source": [
        "for topic_name in plsa.topic_names:\n",
        "    print (topic_name + ': ', plsa.score_tracker['TopTokensScore'].last_tokens[topic_name])"
      ]
    },
    {
      "cell_type": "markdown",
      "metadata": {
        "id": "5kvFR5X4ZcG1"
      },
      "source": [
        "__Мультимодальные модели__\n",
        "\n",
        "В библиотеке ARTM можно обучать мультимодальные модели, например, давайте попробуем обучить модель, которая будет учитывать поле topic из наших данных (мы специально записали его отдельно через | )"
      ]
    },
    {
      "cell_type": "code",
      "execution_count": 87,
      "metadata": {
        "id": "PS2_Fl9aZcG1"
      },
      "outputs": [],
      "source": [
        "# описываем модель и задаем веса классов\n",
        "martm = artm.ARTM(num_topics=20,\n",
        "                  class_ids={'@default_class': 1.0, '@topic': 5.0},\n",
        "                  dictionary=batch_vectorizer.dictionary)"
      ]
    },
    {
      "cell_type": "markdown",
      "metadata": {
        "id": "GLYkii-9ZcG1"
      },
      "source": [
        "Добавим расчет метрик и регуляризаторы:"
      ]
    },
    {
      "cell_type": "code",
      "execution_count": 88,
      "metadata": {
        "id": "EVGKX050ZcG1"
      },
      "outputs": [],
      "source": [
        "martm.scores.add(artm.SparsityPhiScore(name='sparsity_phi_score',\n",
        "                                       class_id='@topic'))\n",
        "\n",
        "martm.scores.add(artm.TopTokensScore(name='TopTokensScore',\n",
        "                                     num_tokens=6))\n",
        "\n",
        "\n",
        "martm.scores.add(artm.PerplexityScore(name='lenta_perplexity_score',\n",
        "                dictionary=batch_vectorizer.dictionary))\n",
        "\n",
        "martm.regularizers.add(artm.DecorrelatorPhiRegularizer(name='decorrelator_phi_def',\n",
        "                    class_ids=['@default_class']))\n",
        "\n",
        "martm.regularizers.add(artm.DecorrelatorPhiRegularizer(name='decorrelator_phi_lab',\n",
        "                        class_ids=['@topic']))"
      ]
    },
    {
      "cell_type": "code",
      "execution_count": 89,
      "metadata": {
        "id": "facj5vwoZcG1"
      },
      "outputs": [],
      "source": [
        "martm.fit_offline(batch_vectorizer=batch_vectorizer,\n",
        "                  num_collection_passes=10)"
      ]
    },
    {
      "cell_type": "code",
      "execution_count": 91,
      "metadata": {
        "id": "5tvZjQtnZcG2",
        "outputId": "fe7505fd-ec71-4243-f79f-66d6939ac9b6",
        "colab": {
          "base_uri": "https://localhost:8080/"
        }
      },
      "outputs": [
        {
          "output_type": "stream",
          "name": "stdout",
          "text": [
            "topic_0:  ['компания', 'акция', 'процент', 'рынок', 'курс', 'индекс']\n",
            "topic_1:  ['команда', 'клуб', 'матч', 'игрок', 'сборная', 'тренер']\n",
            "topic_2:  ['человек', 'группа', 'весь', 'песня', 'летний', 'концерт']\n",
            "topic_3:  ['мир', 'принимать', 'участие', 'япония', 'весь', 'чемпион']\n",
            "topic_4:  ['миллиард', 'банк', 'миллион', 'долг', 'сумма', 'рубль']\n",
            "topic_5:  ['москва', 'фестиваль', 'премия', 'московский', 'александр', 'российский']\n",
            "topic_6:  ['заявлять', 'дело', 'президент', 'новый', 'слово', 'глава']\n",
            "topic_7:  ['правительство', 'закон', 'бюджет', 'налог', 'федеральный', 'рубль']\n",
            "topic_8:  ['картина', 'театр', 'известный', 'художник', 'выставка', 'писатель']\n",
            "topic_9:  ['музей', 'передавать', 'век', 'город', 'центр', 'президент']\n",
            "topic_10:  ['компания', 'предприятие', 'рао', 'акция', 'директор', 'еэс']\n",
            "topic_11:  ['сша', 'страна', 'евро', 'американский', 'экономика', 'экономический']\n",
            "topic_12:  ['роль', 'сыграть', 'режиссер', 'съемка', 'главный', 'сценарий']\n",
            "topic_13:  ['режиссер', 'хороший', 'кино', 'роль', 'актер', 'получать']\n",
            "topic_14:  ['суд', 'российский', 'газ', 'решение', 'украина', 'соглашение']\n",
            "topic_15:  ['матч', 'первый', 'второй', 'счет', 'турнир', 'победа']\n",
            "topic_16:  ['нефть', 'баррель', 'олимпийский', 'российский', 'опек', 'медаль']\n",
            "topic_17:  ['нью', 'машина', 'йорк', 'команда', 'мир', 'этап']\n",
            "topic_18:  ['компания', 'москва', 'тысяча', 'российский', 'самолет', 'фирма']\n",
            "topic_19:  ['процент', 'рубль', 'составлять', 'цена', 'рост', 'уровень']\n"
          ]
        }
      ],
      "source": [
        "for topic_name in martm.topic_names:\n",
        "    print (topic_name + ': ', martm.score_tracker['TopTokensScore'].last_tokens[topic_name])"
      ]
    },
    {
      "cell_type": "markdown",
      "source": [
        "## [BERTopic](https://huggingface.co/blog/bertopic)\n",
        "\n"
      ],
      "metadata": {
        "id": "bXdJwLsi78nZ"
      }
    },
    {
      "cell_type": "code",
      "execution_count": 51,
      "metadata": {
        "id": "KxTrohNOZcG3"
      },
      "outputs": [],
      "source": [
        "from bertopic import BERTopic"
      ]
    },
    {
      "cell_type": "markdown",
      "source": [
        "Заново загрузим датасет:"
      ],
      "metadata": {
        "id": "3_Dm-04FAxtQ"
      }
    },
    {
      "cell_type": "code",
      "source": [
        "data = pd.read_csv('lenta-ru-news-full.csv', usecols=['text', 'topic',  'date'])\n",
        "topics = ['Россия', 'Мир', 'Спорт', 'Экономика', 'Интернет и СМИ']\n",
        "\n",
        "data = data[data.topic.isin(topics)].sample(5000)\n",
        "\n",
        "data.sample()"
      ],
      "metadata": {
        "id": "7doX7yB-_7k_",
        "outputId": "ad91c3b0-2ea6-4fb4-8974-883a497cda95",
        "colab": {
          "base_uri": "https://localhost:8080/",
          "height": 263
        }
      },
      "execution_count": 100,
      "outputs": [
        {
          "output_type": "stream",
          "name": "stderr",
          "text": [
            "/usr/local/lib/python3.10/dist-packages/ipykernel/ipkernel.py:283: DeprecationWarning:\n",
            "\n",
            "`should_run_async` will not call `transform_cell` automatically in the future. Please pass the result to `transformed_cell` argument and any exception that happen during thetransform in `preprocessing_exc_tuple` in IPython 7.17 and above.\n",
            "\n"
          ]
        },
        {
          "output_type": "execute_result",
          "data": {
            "text/plain": [
              "                                                                                                                                                                                                                                                                                                                                                                                                                                                                                                                                                                                                                                                                                                                                                                                                                                                                                                                                                                                                                                                                                                                                                                                                      text      topic        date\n",
              "547569  За первые четыре месяца 2015 года россияне потратили на покупку новых автомобилей 575,7 миллиарда рублей, что на 25 процентов меньше, чем за аналогичный период прошлого года (764,7 миллиарда рублей). Об этом «Ленте.ру» сообщили в аналитическом агентстве «Автостат». В целом продажи снизились на 38 процентов до 487,6 тысячи машин. При этом средняя цена одного купленного автомобиля выросла на 21 процент, до 1,18 миллиона рублей. Иномарки подорожали на 24,5 процента, до 1,35 миллиона, отечественные машины — на 14,9 процента, до 482 тысяч рублей. Больше всего было продано автомобилей Lada — 89 411 штук (выручка составила 41,3 миллиарда рублей). На втором месте Hyundai с 53 326 проданными машинами (выручка — 46,5 миллиарда рублей), на третьем — Kia (49 932 штуки, 44,1 миллиарда рублей). По данным Ассоциации европейского бизнеса (АЕБ), в апреле продажи легковых автомобилей в России упали на 40 процентов по сравнению с аналогичным месяцем 2014 года. Всего удалось реализовать 132 тысячи машин — худший результат за последние десять лет. Кроме того, в первом квартале 2015 года импорт автомобилей в РФ снизился почти в два раза, до 87,3 тысячи штук.  Экономика  2015/05/25"
            ],
            "text/html": [
              "\n",
              "  <div id=\"df-b7661353-5baf-4474-87c3-030d1d84e44c\" class=\"colab-df-container\">\n",
              "    <div>\n",
              "<style scoped>\n",
              "    .dataframe tbody tr th:only-of-type {\n",
              "        vertical-align: middle;\n",
              "    }\n",
              "\n",
              "    .dataframe tbody tr th {\n",
              "        vertical-align: top;\n",
              "    }\n",
              "\n",
              "    .dataframe thead th {\n",
              "        text-align: right;\n",
              "    }\n",
              "</style>\n",
              "<table border=\"1\" class=\"dataframe\">\n",
              "  <thead>\n",
              "    <tr style=\"text-align: right;\">\n",
              "      <th></th>\n",
              "      <th>text</th>\n",
              "      <th>topic</th>\n",
              "      <th>date</th>\n",
              "    </tr>\n",
              "  </thead>\n",
              "  <tbody>\n",
              "    <tr>\n",
              "      <th>547569</th>\n",
              "      <td>За первые четыре месяца 2015 года россияне потратили на покупку новых автомобилей 575,7 миллиарда рублей, что на 25 процентов меньше, чем за аналогичный период прошлого года (764,7 миллиарда рублей). Об этом «Ленте.ру» сообщили в аналитическом агентстве «Автостат». В целом продажи снизились на 38 процентов до 487,6 тысячи машин. При этом средняя цена одного купленного автомобиля выросла на 21 процент, до 1,18 миллиона рублей. Иномарки подорожали на 24,5 процента, до 1,35 миллиона, отечественные машины — на 14,9 процента, до 482 тысяч рублей. Больше всего было продано автомобилей Lada — 89 411 штук (выручка составила 41,3 миллиарда рублей). На втором месте Hyundai с 53 326 проданными машинами (выручка — 46,5 миллиарда рублей), на третьем — Kia (49 932 штуки, 44,1 миллиарда рублей). По данным Ассоциации европейского бизнеса (АЕБ), в апреле продажи легковых автомобилей в России упали на 40 процентов по сравнению с аналогичным месяцем 2014 года. Всего удалось реализовать 132 тысячи машин — худший результат за последние десять лет. Кроме того, в первом квартале 2015 года импорт автомобилей в РФ снизился почти в два раза, до 87,3 тысячи штук.</td>\n",
              "      <td>Экономика</td>\n",
              "      <td>2015/05/25</td>\n",
              "    </tr>\n",
              "  </tbody>\n",
              "</table>\n",
              "</div>\n",
              "    <div class=\"colab-df-buttons\">\n",
              "\n",
              "  <div class=\"colab-df-container\">\n",
              "    <button class=\"colab-df-convert\" onclick=\"convertToInteractive('df-b7661353-5baf-4474-87c3-030d1d84e44c')\"\n",
              "            title=\"Convert this dataframe to an interactive table.\"\n",
              "            style=\"display:none;\">\n",
              "\n",
              "  <svg xmlns=\"http://www.w3.org/2000/svg\" height=\"24px\" viewBox=\"0 -960 960 960\">\n",
              "    <path d=\"M120-120v-720h720v720H120Zm60-500h600v-160H180v160Zm220 220h160v-160H400v160Zm0 220h160v-160H400v160ZM180-400h160v-160H180v160Zm440 0h160v-160H620v160ZM180-180h160v-160H180v160Zm440 0h160v-160H620v160Z\"/>\n",
              "  </svg>\n",
              "    </button>\n",
              "\n",
              "  <style>\n",
              "    .colab-df-container {\n",
              "      display:flex;\n",
              "      gap: 12px;\n",
              "    }\n",
              "\n",
              "    .colab-df-convert {\n",
              "      background-color: #E8F0FE;\n",
              "      border: none;\n",
              "      border-radius: 50%;\n",
              "      cursor: pointer;\n",
              "      display: none;\n",
              "      fill: #1967D2;\n",
              "      height: 32px;\n",
              "      padding: 0 0 0 0;\n",
              "      width: 32px;\n",
              "    }\n",
              "\n",
              "    .colab-df-convert:hover {\n",
              "      background-color: #E2EBFA;\n",
              "      box-shadow: 0px 1px 2px rgba(60, 64, 67, 0.3), 0px 1px 3px 1px rgba(60, 64, 67, 0.15);\n",
              "      fill: #174EA6;\n",
              "    }\n",
              "\n",
              "    .colab-df-buttons div {\n",
              "      margin-bottom: 4px;\n",
              "    }\n",
              "\n",
              "    [theme=dark] .colab-df-convert {\n",
              "      background-color: #3B4455;\n",
              "      fill: #D2E3FC;\n",
              "    }\n",
              "\n",
              "    [theme=dark] .colab-df-convert:hover {\n",
              "      background-color: #434B5C;\n",
              "      box-shadow: 0px 1px 3px 1px rgba(0, 0, 0, 0.15);\n",
              "      filter: drop-shadow(0px 1px 2px rgba(0, 0, 0, 0.3));\n",
              "      fill: #FFFFFF;\n",
              "    }\n",
              "  </style>\n",
              "\n",
              "    <script>\n",
              "      const buttonEl =\n",
              "        document.querySelector('#df-b7661353-5baf-4474-87c3-030d1d84e44c button.colab-df-convert');\n",
              "      buttonEl.style.display =\n",
              "        google.colab.kernel.accessAllowed ? 'block' : 'none';\n",
              "\n",
              "      async function convertToInteractive(key) {\n",
              "        const element = document.querySelector('#df-b7661353-5baf-4474-87c3-030d1d84e44c');\n",
              "        const dataTable =\n",
              "          await google.colab.kernel.invokeFunction('convertToInteractive',\n",
              "                                                    [key], {});\n",
              "        if (!dataTable) return;\n",
              "\n",
              "        const docLinkHtml = 'Like what you see? Visit the ' +\n",
              "          '<a target=\"_blank\" href=https://colab.research.google.com/notebooks/data_table.ipynb>data table notebook</a>'\n",
              "          + ' to learn more about interactive tables.';\n",
              "        element.innerHTML = '';\n",
              "        dataTable['output_type'] = 'display_data';\n",
              "        await google.colab.output.renderOutput(dataTable, element);\n",
              "        const docLink = document.createElement('div');\n",
              "        docLink.innerHTML = docLinkHtml;\n",
              "        element.appendChild(docLink);\n",
              "      }\n",
              "    </script>\n",
              "  </div>\n",
              "\n",
              "    </div>\n",
              "  </div>\n"
            ]
          },
          "metadata": {},
          "execution_count": 100
        }
      ]
    },
    {
      "cell_type": "code",
      "source": [
        "docs = data['text'].values"
      ],
      "metadata": {
        "id": "6J-OJCK-A3HM"
      },
      "execution_count": 117,
      "outputs": []
    },
    {
      "cell_type": "markdown",
      "source": [
        "Загрузим модель для русского языка:"
      ],
      "metadata": {
        "id": "MdJ8cj-_GULZ"
      }
    },
    {
      "cell_type": "code",
      "source": [
        "topic_model = BERTopic(language=\"russian\", verbose=True)"
      ],
      "metadata": {
        "id": "w8jpOjWQ_Xy5"
      },
      "execution_count": 104,
      "outputs": []
    },
    {
      "cell_type": "code",
      "source": [
        "#help(BERTopic)"
      ],
      "metadata": {
        "id": "t0OmxpxTGWpL"
      },
      "execution_count": 76,
      "outputs": []
    },
    {
      "cell_type": "code",
      "source": [
        "#help(topic_model.fit_transform)"
      ],
      "metadata": {
        "id": "pHrjeoSWCSlr"
      },
      "execution_count": 62,
      "outputs": []
    },
    {
      "cell_type": "code",
      "source": [
        "%time topics, probs = topic_model.fit_transform(docs)"
      ],
      "metadata": {
        "id": "7V5y5nI4A735",
        "outputId": "f19f6e3c-1f49-4053-ac44-8d53dea693e8",
        "colab": {
          "base_uri": "https://localhost:8080/",
          "height": 214,
          "referenced_widgets": [
            "227dbddcd4fb4984809ed27a757c00cb",
            "43ecf0a86035458a8e633a8d615975d6",
            "f2575a360f6f4c9699bd4caffd5828b4",
            "28a9318ee43349928e2944e317315c07",
            "3f2f1ddb05e846ce8244672b6b237c41",
            "a08ed0a3d9e648f095fcefd9898898be",
            "e5f39cc4caaf460e89a88331044192de",
            "dfddccef93d342e6bdc1076a7c0b9c5c",
            "00c729b752354415afd4c584aa3ff2cd",
            "09fa0897060b41f1a97e6cd7efd9a477",
            "f009edb647f6478985c58468d48e3082"
          ]
        }
      },
      "execution_count": 105,
      "outputs": [
        {
          "output_type": "stream",
          "name": "stderr",
          "text": [
            "2023-12-06 13:05:01,971 - BERTopic - Embedding - Transforming documents to embeddings.\n"
          ]
        },
        {
          "output_type": "display_data",
          "data": {
            "text/plain": [
              "Batches:   0%|          | 0/32 [00:00<?, ?it/s]"
            ],
            "application/vnd.jupyter.widget-view+json": {
              "version_major": 2,
              "version_minor": 0,
              "model_id": "227dbddcd4fb4984809ed27a757c00cb"
            }
          },
          "metadata": {}
        },
        {
          "output_type": "stream",
          "name": "stderr",
          "text": [
            "2023-12-06 13:07:37,881 - BERTopic - Embedding - Completed ✓\n",
            "2023-12-06 13:07:37,884 - BERTopic - Dimensionality - Fitting the dimensionality reduction algorithm\n",
            "2023-12-06 13:07:44,002 - BERTopic - Dimensionality - Completed ✓\n",
            "2023-12-06 13:07:44,007 - BERTopic - Cluster - Start clustering the reduced embeddings\n",
            "2023-12-06 13:07:44,056 - BERTopic - Cluster - Completed ✓\n",
            "2023-12-06 13:07:44,063 - BERTopic - Representation - Extracting topics from clusters using representation models.\n",
            "2023-12-06 13:07:44,682 - BERTopic - Representation - Completed ✓\n"
          ]
        },
        {
          "output_type": "stream",
          "name": "stdout",
          "text": [
            "CPU times: user 2min 32s, sys: 4.57 s, total: 2min 36s\n",
            "Wall time: 2min 43s\n"
          ]
        }
      ]
    },
    {
      "cell_type": "code",
      "source": [
        "inf = topic_model.get_topic_info()\n",
        "inf[['Topic', 'Count', 'Name', 'Representation']]"
      ],
      "metadata": {
        "id": "3vjcwV88BBIH",
        "outputId": "799ed668-b1f6-4cfa-caaa-ee433ef22c15",
        "colab": {
          "base_uri": "https://localhost:8080/",
          "height": 718
        }
      },
      "execution_count": 106,
      "outputs": [
        {
          "output_type": "execute_result",
          "data": {
            "text/plain": [
              "    Topic  Count                                     Name                                                                       Representation\n",
              "0      -1    255                          -1_на_что_по_не                                     [на, что, по, не, как, из, его, за, сша, россии]\n",
              "1       0    103                        0_на_по_чечни_что                              [на, по, чечни, что, не, боевиков, он, из, россии, как]\n",
              "2       1    102                   1_интернет_на_что_2000                               [интернет, на, что, 2000, по, сша, для, года, не, как]\n",
              "3       2     89                          2_на_по_для_что                             [на, по, для, что, за, рублей, не, как, граждан, москвы]\n",
              "4       3     50              3_кандидатов_цик_блока_лдпр                     [кандидатов, цик, блока, лдпр, что, по, на, выборах, не, списка]\n",
              "5       4     41                      4_на_за_нефть_нефти                        [на, за, нефть, нефти, цен, цены, по, тонну, доллара, рублей]\n",
              "6       5     31                         5_на_улице_из_по                 [на, улице, из, по, дома, не, сотрудники, устройство, что, взрывное]\n",
              "7       6     31                          6_суд_по_на_что                               [суд, по, на, что, не, его, решение, суда, делу, дело]\n",
              "8       7     31                     7_взрыва_на_по_взрыв                 [взрыва, на, по, взрыв, произошел, пожар, не, как, результате, дома]\n",
              "9       8     28        8_президента_рао_что_тюменьэнерго                 [президента, рао, что, тюменьэнерго, россии, главы, еэс, он, на, по]\n",
              "10      9     28                   9_человек_из_на_ураган         [человек, из, на, ураган, по, землетрясения, более, флойд, погибли, урагана]\n",
              "11     10     27                      10_bank_york_new_of                              [bank, york, new, of, денег, банка, что, счета, по, на]\n",
              "12     11     26                     11_по_из_колокола_на                    [по, из, колокола, на, заложников, данным, они, фсб, грузии, как]\n",
              "13     12     25        12_самолет_самолета_на_пассажиров                 [самолет, самолета, на, пассажиров, из, борту, по, при, су, экипажа]\n",
              "14     13     25                     13_мвф_россии_по_что                         [мвф, россии, по, что, на, банка, не, касьянов, ссср, долга]\n",
              "15     14     19                14_nasa_на_орбиту_станции                [nasa, на, орбиту, станции, что, mars, запуск, космодрома, по, space]\n",
              "16     15     18  15_южно_области_заболевания_сахалинской  [южно, области, заболевания, сахалинской, на, болезнь, ученые, холеры, от, больных]\n",
              "17     16     18              16_на_протеста_карачаево_не       [на, протеста, карачаево, не, перемены, черкесии, митинг, республики, по, что]\n",
              "18     17     15   17_горбачевой_культуры_раиса_горбачева         [горбачевой, культуры, раиса, горбачева, на, фонда, раисы, ее, его, лихачев]\n",
              "19     18     14                  18_убит_был_на_убийства                 [убит, был, на, убийства, его, как, района, убийство, по, пистолета]\n",
              "20     19     12                  19_сша_что_новой_россии                    [сша, что, новой, россии, также, про, по, ракет, обороны, россия]\n",
              "21     20     12                20_автобус_автобуса_из_по        [автобус, автобуса, из, по, результате, на, беженцами, что, погибли, человек]"
            ],
            "text/html": [
              "\n",
              "  <div id=\"df-79599a54-0d71-47da-8c9c-62e16ac49c6c\" class=\"colab-df-container\">\n",
              "    <div>\n",
              "<style scoped>\n",
              "    .dataframe tbody tr th:only-of-type {\n",
              "        vertical-align: middle;\n",
              "    }\n",
              "\n",
              "    .dataframe tbody tr th {\n",
              "        vertical-align: top;\n",
              "    }\n",
              "\n",
              "    .dataframe thead th {\n",
              "        text-align: right;\n",
              "    }\n",
              "</style>\n",
              "<table border=\"1\" class=\"dataframe\">\n",
              "  <thead>\n",
              "    <tr style=\"text-align: right;\">\n",
              "      <th></th>\n",
              "      <th>Topic</th>\n",
              "      <th>Count</th>\n",
              "      <th>Name</th>\n",
              "      <th>Representation</th>\n",
              "    </tr>\n",
              "  </thead>\n",
              "  <tbody>\n",
              "    <tr>\n",
              "      <th>0</th>\n",
              "      <td>-1</td>\n",
              "      <td>255</td>\n",
              "      <td>-1_на_что_по_не</td>\n",
              "      <td>[на, что, по, не, как, из, его, за, сша, россии]</td>\n",
              "    </tr>\n",
              "    <tr>\n",
              "      <th>1</th>\n",
              "      <td>0</td>\n",
              "      <td>103</td>\n",
              "      <td>0_на_по_чечни_что</td>\n",
              "      <td>[на, по, чечни, что, не, боевиков, он, из, россии, как]</td>\n",
              "    </tr>\n",
              "    <tr>\n",
              "      <th>2</th>\n",
              "      <td>1</td>\n",
              "      <td>102</td>\n",
              "      <td>1_интернет_на_что_2000</td>\n",
              "      <td>[интернет, на, что, 2000, по, сша, для, года, не, как]</td>\n",
              "    </tr>\n",
              "    <tr>\n",
              "      <th>3</th>\n",
              "      <td>2</td>\n",
              "      <td>89</td>\n",
              "      <td>2_на_по_для_что</td>\n",
              "      <td>[на, по, для, что, за, рублей, не, как, граждан, москвы]</td>\n",
              "    </tr>\n",
              "    <tr>\n",
              "      <th>4</th>\n",
              "      <td>3</td>\n",
              "      <td>50</td>\n",
              "      <td>3_кандидатов_цик_блока_лдпр</td>\n",
              "      <td>[кандидатов, цик, блока, лдпр, что, по, на, выборах, не, списка]</td>\n",
              "    </tr>\n",
              "    <tr>\n",
              "      <th>5</th>\n",
              "      <td>4</td>\n",
              "      <td>41</td>\n",
              "      <td>4_на_за_нефть_нефти</td>\n",
              "      <td>[на, за, нефть, нефти, цен, цены, по, тонну, доллара, рублей]</td>\n",
              "    </tr>\n",
              "    <tr>\n",
              "      <th>6</th>\n",
              "      <td>5</td>\n",
              "      <td>31</td>\n",
              "      <td>5_на_улице_из_по</td>\n",
              "      <td>[на, улице, из, по, дома, не, сотрудники, устройство, что, взрывное]</td>\n",
              "    </tr>\n",
              "    <tr>\n",
              "      <th>7</th>\n",
              "      <td>6</td>\n",
              "      <td>31</td>\n",
              "      <td>6_суд_по_на_что</td>\n",
              "      <td>[суд, по, на, что, не, его, решение, суда, делу, дело]</td>\n",
              "    </tr>\n",
              "    <tr>\n",
              "      <th>8</th>\n",
              "      <td>7</td>\n",
              "      <td>31</td>\n",
              "      <td>7_взрыва_на_по_взрыв</td>\n",
              "      <td>[взрыва, на, по, взрыв, произошел, пожар, не, как, результате, дома]</td>\n",
              "    </tr>\n",
              "    <tr>\n",
              "      <th>9</th>\n",
              "      <td>8</td>\n",
              "      <td>28</td>\n",
              "      <td>8_президента_рао_что_тюменьэнерго</td>\n",
              "      <td>[президента, рао, что, тюменьэнерго, россии, главы, еэс, он, на, по]</td>\n",
              "    </tr>\n",
              "    <tr>\n",
              "      <th>10</th>\n",
              "      <td>9</td>\n",
              "      <td>28</td>\n",
              "      <td>9_человек_из_на_ураган</td>\n",
              "      <td>[человек, из, на, ураган, по, землетрясения, более, флойд, погибли, урагана]</td>\n",
              "    </tr>\n",
              "    <tr>\n",
              "      <th>11</th>\n",
              "      <td>10</td>\n",
              "      <td>27</td>\n",
              "      <td>10_bank_york_new_of</td>\n",
              "      <td>[bank, york, new, of, денег, банка, что, счета, по, на]</td>\n",
              "    </tr>\n",
              "    <tr>\n",
              "      <th>12</th>\n",
              "      <td>11</td>\n",
              "      <td>26</td>\n",
              "      <td>11_по_из_колокола_на</td>\n",
              "      <td>[по, из, колокола, на, заложников, данным, они, фсб, грузии, как]</td>\n",
              "    </tr>\n",
              "    <tr>\n",
              "      <th>13</th>\n",
              "      <td>12</td>\n",
              "      <td>25</td>\n",
              "      <td>12_самолет_самолета_на_пассажиров</td>\n",
              "      <td>[самолет, самолета, на, пассажиров, из, борту, по, при, су, экипажа]</td>\n",
              "    </tr>\n",
              "    <tr>\n",
              "      <th>14</th>\n",
              "      <td>13</td>\n",
              "      <td>25</td>\n",
              "      <td>13_мвф_россии_по_что</td>\n",
              "      <td>[мвф, россии, по, что, на, банка, не, касьянов, ссср, долга]</td>\n",
              "    </tr>\n",
              "    <tr>\n",
              "      <th>15</th>\n",
              "      <td>14</td>\n",
              "      <td>19</td>\n",
              "      <td>14_nasa_на_орбиту_станции</td>\n",
              "      <td>[nasa, на, орбиту, станции, что, mars, запуск, космодрома, по, space]</td>\n",
              "    </tr>\n",
              "    <tr>\n",
              "      <th>16</th>\n",
              "      <td>15</td>\n",
              "      <td>18</td>\n",
              "      <td>15_южно_области_заболевания_сахалинской</td>\n",
              "      <td>[южно, области, заболевания, сахалинской, на, болезнь, ученые, холеры, от, больных]</td>\n",
              "    </tr>\n",
              "    <tr>\n",
              "      <th>17</th>\n",
              "      <td>16</td>\n",
              "      <td>18</td>\n",
              "      <td>16_на_протеста_карачаево_не</td>\n",
              "      <td>[на, протеста, карачаево, не, перемены, черкесии, митинг, республики, по, что]</td>\n",
              "    </tr>\n",
              "    <tr>\n",
              "      <th>18</th>\n",
              "      <td>17</td>\n",
              "      <td>15</td>\n",
              "      <td>17_горбачевой_культуры_раиса_горбачева</td>\n",
              "      <td>[горбачевой, культуры, раиса, горбачева, на, фонда, раисы, ее, его, лихачев]</td>\n",
              "    </tr>\n",
              "    <tr>\n",
              "      <th>19</th>\n",
              "      <td>18</td>\n",
              "      <td>14</td>\n",
              "      <td>18_убит_был_на_убийства</td>\n",
              "      <td>[убит, был, на, убийства, его, как, района, убийство, по, пистолета]</td>\n",
              "    </tr>\n",
              "    <tr>\n",
              "      <th>20</th>\n",
              "      <td>19</td>\n",
              "      <td>12</td>\n",
              "      <td>19_сша_что_новой_россии</td>\n",
              "      <td>[сша, что, новой, россии, также, про, по, ракет, обороны, россия]</td>\n",
              "    </tr>\n",
              "    <tr>\n",
              "      <th>21</th>\n",
              "      <td>20</td>\n",
              "      <td>12</td>\n",
              "      <td>20_автобус_автобуса_из_по</td>\n",
              "      <td>[автобус, автобуса, из, по, результате, на, беженцами, что, погибли, человек]</td>\n",
              "    </tr>\n",
              "  </tbody>\n",
              "</table>\n",
              "</div>\n",
              "    <div class=\"colab-df-buttons\">\n",
              "\n",
              "  <div class=\"colab-df-container\">\n",
              "    <button class=\"colab-df-convert\" onclick=\"convertToInteractive('df-79599a54-0d71-47da-8c9c-62e16ac49c6c')\"\n",
              "            title=\"Convert this dataframe to an interactive table.\"\n",
              "            style=\"display:none;\">\n",
              "\n",
              "  <svg xmlns=\"http://www.w3.org/2000/svg\" height=\"24px\" viewBox=\"0 -960 960 960\">\n",
              "    <path d=\"M120-120v-720h720v720H120Zm60-500h600v-160H180v160Zm220 220h160v-160H400v160Zm0 220h160v-160H400v160ZM180-400h160v-160H180v160Zm440 0h160v-160H620v160ZM180-180h160v-160H180v160Zm440 0h160v-160H620v160Z\"/>\n",
              "  </svg>\n",
              "    </button>\n",
              "\n",
              "  <style>\n",
              "    .colab-df-container {\n",
              "      display:flex;\n",
              "      gap: 12px;\n",
              "    }\n",
              "\n",
              "    .colab-df-convert {\n",
              "      background-color: #E8F0FE;\n",
              "      border: none;\n",
              "      border-radius: 50%;\n",
              "      cursor: pointer;\n",
              "      display: none;\n",
              "      fill: #1967D2;\n",
              "      height: 32px;\n",
              "      padding: 0 0 0 0;\n",
              "      width: 32px;\n",
              "    }\n",
              "\n",
              "    .colab-df-convert:hover {\n",
              "      background-color: #E2EBFA;\n",
              "      box-shadow: 0px 1px 2px rgba(60, 64, 67, 0.3), 0px 1px 3px 1px rgba(60, 64, 67, 0.15);\n",
              "      fill: #174EA6;\n",
              "    }\n",
              "\n",
              "    .colab-df-buttons div {\n",
              "      margin-bottom: 4px;\n",
              "    }\n",
              "\n",
              "    [theme=dark] .colab-df-convert {\n",
              "      background-color: #3B4455;\n",
              "      fill: #D2E3FC;\n",
              "    }\n",
              "\n",
              "    [theme=dark] .colab-df-convert:hover {\n",
              "      background-color: #434B5C;\n",
              "      box-shadow: 0px 1px 3px 1px rgba(0, 0, 0, 0.15);\n",
              "      filter: drop-shadow(0px 1px 2px rgba(0, 0, 0, 0.3));\n",
              "      fill: #FFFFFF;\n",
              "    }\n",
              "  </style>\n",
              "\n",
              "    <script>\n",
              "      const buttonEl =\n",
              "        document.querySelector('#df-79599a54-0d71-47da-8c9c-62e16ac49c6c button.colab-df-convert');\n",
              "      buttonEl.style.display =\n",
              "        google.colab.kernel.accessAllowed ? 'block' : 'none';\n",
              "\n",
              "      async function convertToInteractive(key) {\n",
              "        const element = document.querySelector('#df-79599a54-0d71-47da-8c9c-62e16ac49c6c');\n",
              "        const dataTable =\n",
              "          await google.colab.kernel.invokeFunction('convertToInteractive',\n",
              "                                                    [key], {});\n",
              "        if (!dataTable) return;\n",
              "\n",
              "        const docLinkHtml = 'Like what you see? Visit the ' +\n",
              "          '<a target=\"_blank\" href=https://colab.research.google.com/notebooks/data_table.ipynb>data table notebook</a>'\n",
              "          + ' to learn more about interactive tables.';\n",
              "        element.innerHTML = '';\n",
              "        dataTable['output_type'] = 'display_data';\n",
              "        await google.colab.output.renderOutput(dataTable, element);\n",
              "        const docLink = document.createElement('div');\n",
              "        docLink.innerHTML = docLinkHtml;\n",
              "        element.appendChild(docLink);\n",
              "      }\n",
              "    </script>\n",
              "  </div>\n",
              "\n",
              "\n",
              "<div id=\"df-3633e4e2-cdc5-45a0-98d3-c2c230e1b5c1\">\n",
              "  <button class=\"colab-df-quickchart\" onclick=\"quickchart('df-3633e4e2-cdc5-45a0-98d3-c2c230e1b5c1')\"\n",
              "            title=\"Suggest charts\"\n",
              "            style=\"display:none;\">\n",
              "\n",
              "<svg xmlns=\"http://www.w3.org/2000/svg\" height=\"24px\"viewBox=\"0 0 24 24\"\n",
              "     width=\"24px\">\n",
              "    <g>\n",
              "        <path d=\"M19 3H5c-1.1 0-2 .9-2 2v14c0 1.1.9 2 2 2h14c1.1 0 2-.9 2-2V5c0-1.1-.9-2-2-2zM9 17H7v-7h2v7zm4 0h-2V7h2v10zm4 0h-2v-4h2v4z\"/>\n",
              "    </g>\n",
              "</svg>\n",
              "  </button>\n",
              "\n",
              "<style>\n",
              "  .colab-df-quickchart {\n",
              "      --bg-color: #E8F0FE;\n",
              "      --fill-color: #1967D2;\n",
              "      --hover-bg-color: #E2EBFA;\n",
              "      --hover-fill-color: #174EA6;\n",
              "      --disabled-fill-color: #AAA;\n",
              "      --disabled-bg-color: #DDD;\n",
              "  }\n",
              "\n",
              "  [theme=dark] .colab-df-quickchart {\n",
              "      --bg-color: #3B4455;\n",
              "      --fill-color: #D2E3FC;\n",
              "      --hover-bg-color: #434B5C;\n",
              "      --hover-fill-color: #FFFFFF;\n",
              "      --disabled-bg-color: #3B4455;\n",
              "      --disabled-fill-color: #666;\n",
              "  }\n",
              "\n",
              "  .colab-df-quickchart {\n",
              "    background-color: var(--bg-color);\n",
              "    border: none;\n",
              "    border-radius: 50%;\n",
              "    cursor: pointer;\n",
              "    display: none;\n",
              "    fill: var(--fill-color);\n",
              "    height: 32px;\n",
              "    padding: 0;\n",
              "    width: 32px;\n",
              "  }\n",
              "\n",
              "  .colab-df-quickchart:hover {\n",
              "    background-color: var(--hover-bg-color);\n",
              "    box-shadow: 0 1px 2px rgba(60, 64, 67, 0.3), 0 1px 3px 1px rgba(60, 64, 67, 0.15);\n",
              "    fill: var(--button-hover-fill-color);\n",
              "  }\n",
              "\n",
              "  .colab-df-quickchart-complete:disabled,\n",
              "  .colab-df-quickchart-complete:disabled:hover {\n",
              "    background-color: var(--disabled-bg-color);\n",
              "    fill: var(--disabled-fill-color);\n",
              "    box-shadow: none;\n",
              "  }\n",
              "\n",
              "  .colab-df-spinner {\n",
              "    border: 2px solid var(--fill-color);\n",
              "    border-color: transparent;\n",
              "    border-bottom-color: var(--fill-color);\n",
              "    animation:\n",
              "      spin 1s steps(1) infinite;\n",
              "  }\n",
              "\n",
              "  @keyframes spin {\n",
              "    0% {\n",
              "      border-color: transparent;\n",
              "      border-bottom-color: var(--fill-color);\n",
              "      border-left-color: var(--fill-color);\n",
              "    }\n",
              "    20% {\n",
              "      border-color: transparent;\n",
              "      border-left-color: var(--fill-color);\n",
              "      border-top-color: var(--fill-color);\n",
              "    }\n",
              "    30% {\n",
              "      border-color: transparent;\n",
              "      border-left-color: var(--fill-color);\n",
              "      border-top-color: var(--fill-color);\n",
              "      border-right-color: var(--fill-color);\n",
              "    }\n",
              "    40% {\n",
              "      border-color: transparent;\n",
              "      border-right-color: var(--fill-color);\n",
              "      border-top-color: var(--fill-color);\n",
              "    }\n",
              "    60% {\n",
              "      border-color: transparent;\n",
              "      border-right-color: var(--fill-color);\n",
              "    }\n",
              "    80% {\n",
              "      border-color: transparent;\n",
              "      border-right-color: var(--fill-color);\n",
              "      border-bottom-color: var(--fill-color);\n",
              "    }\n",
              "    90% {\n",
              "      border-color: transparent;\n",
              "      border-bottom-color: var(--fill-color);\n",
              "    }\n",
              "  }\n",
              "</style>\n",
              "\n",
              "  <script>\n",
              "    async function quickchart(key) {\n",
              "      const quickchartButtonEl =\n",
              "        document.querySelector('#' + key + ' button');\n",
              "      quickchartButtonEl.disabled = true;  // To prevent multiple clicks.\n",
              "      quickchartButtonEl.classList.add('colab-df-spinner');\n",
              "      try {\n",
              "        const charts = await google.colab.kernel.invokeFunction(\n",
              "            'suggestCharts', [key], {});\n",
              "      } catch (error) {\n",
              "        console.error('Error during call to suggestCharts:', error);\n",
              "      }\n",
              "      quickchartButtonEl.classList.remove('colab-df-spinner');\n",
              "      quickchartButtonEl.classList.add('colab-df-quickchart-complete');\n",
              "    }\n",
              "    (() => {\n",
              "      let quickchartButtonEl =\n",
              "        document.querySelector('#df-3633e4e2-cdc5-45a0-98d3-c2c230e1b5c1 button');\n",
              "      quickchartButtonEl.style.display =\n",
              "        google.colab.kernel.accessAllowed ? 'block' : 'none';\n",
              "    })();\n",
              "  </script>\n",
              "</div>\n",
              "    </div>\n",
              "  </div>\n"
            ]
          },
          "metadata": {},
          "execution_count": 106
        }
      ]
    },
    {
      "cell_type": "code",
      "source": [
        "topic_model.get_topic(14)"
      ],
      "metadata": {
        "id": "qOILh2HtSY7X",
        "outputId": "22c80618-468e-4278-fdc1-8b66e2458d96",
        "colab": {
          "base_uri": "https://localhost:8080/"
        }
      },
      "execution_count": 123,
      "outputs": [
        {
          "output_type": "execute_result",
          "data": {
            "text/plain": [
              "[('nasa', 0.035264090151416974),\n",
              " ('на', 0.03176761636083491),\n",
              " ('орбиту', 0.029520609235509865),\n",
              " ('станции', 0.02248463599457192),\n",
              " ('что', 0.0210403495505839),\n",
              " ('mars', 0.02058706101873802),\n",
              " ('запуск', 0.020346356240163302),\n",
              " ('космодрома', 0.020346356240163302),\n",
              " ('по', 0.019098219537429607),\n",
              " ('space', 0.019003440940373553)]"
            ]
          },
          "metadata": {},
          "execution_count": 123
        }
      ]
    },
    {
      "cell_type": "code",
      "source": [
        "topic_model.visualize_topics()"
      ],
      "metadata": {
        "id": "VQ0zvS6fEsRu",
        "outputId": "927e3b4c-8498-4c6c-86d1-5450e1cf851a",
        "colab": {
          "base_uri": "https://localhost:8080/",
          "height": 667
        }
      },
      "execution_count": 107,
      "outputs": [
        {
          "output_type": "display_data",
          "data": {
            "text/html": [
              "<html>\n",
              "<head><meta charset=\"utf-8\" /></head>\n",
              "<body>\n",
              "    <div>            <script src=\"https://cdnjs.cloudflare.com/ajax/libs/mathjax/2.7.5/MathJax.js?config=TeX-AMS-MML_SVG\"></script><script type=\"text/javascript\">if (window.MathJax && window.MathJax.Hub && window.MathJax.Hub.Config) {window.MathJax.Hub.Config({SVG: {font: \"STIX-Web\"}});}</script>                <script type=\"text/javascript\">window.PlotlyConfig = {MathJaxConfig: 'local'};</script>\n",
              "        <script charset=\"utf-8\" src=\"https://cdn.plot.ly/plotly-2.24.1.min.js\"></script>                <div id=\"b89ae98c-5b1c-4821-9922-71832f2a3ba7\" class=\"plotly-graph-div\" style=\"height:650px; width:650px;\"></div>            <script type=\"text/javascript\">                                    window.PLOTLYENV=window.PLOTLYENV || {};                                    if (document.getElementById(\"b89ae98c-5b1c-4821-9922-71832f2a3ba7\")) {                    Plotly.newPlot(                        \"b89ae98c-5b1c-4821-9922-71832f2a3ba7\",                        [{\"customdata\":[[0,\"\\u043d\\u0430 | \\u043f\\u043e | \\u0447\\u0435\\u0447\\u043d\\u0438 | \\u0447\\u0442\\u043e | \\u043d\\u0435\",103],[1,\"\\u0438\\u043d\\u0442\\u0435\\u0440\\u043d\\u0435\\u0442 | \\u043d\\u0430 | \\u0447\\u0442\\u043e | 2000 | \\u043f\\u043e\",102],[2,\"\\u043d\\u0430 | \\u043f\\u043e | \\u0434\\u043b\\u044f | \\u0447\\u0442\\u043e | \\u0437\\u0430\",89],[3,\"\\u043a\\u0430\\u043d\\u0434\\u0438\\u0434\\u0430\\u0442\\u043e\\u0432 | \\u0446\\u0438\\u043a | \\u0431\\u043b\\u043e\\u043a\\u0430 | \\u043b\\u0434\\u043f\\u0440 | \\u0447\\u0442\\u043e\",50],[4,\"\\u043d\\u0430 | \\u0437\\u0430 | \\u043d\\u0435\\u0444\\u0442\\u044c | \\u043d\\u0435\\u0444\\u0442\\u0438 | \\u0446\\u0435\\u043d\",41],[5,\"\\u043d\\u0430 | \\u0443\\u043b\\u0438\\u0446\\u0435 | \\u0438\\u0437 | \\u043f\\u043e | \\u0434\\u043e\\u043c\\u0430\",31],[6,\"\\u0441\\u0443\\u0434 | \\u043f\\u043e | \\u043d\\u0430 | \\u0447\\u0442\\u043e | \\u043d\\u0435\",31],[7,\"\\u0432\\u0437\\u0440\\u044b\\u0432\\u0430 | \\u043d\\u0430 | \\u043f\\u043e | \\u0432\\u0437\\u0440\\u044b\\u0432 | \\u043f\\u0440\\u043e\\u0438\\u0437\\u043e\\u0448\\u0435\\u043b\",31],[8,\"\\u043f\\u0440\\u0435\\u0437\\u0438\\u0434\\u0435\\u043d\\u0442\\u0430 | \\u0440\\u0430\\u043e | \\u0447\\u0442\\u043e | \\u0442\\u044e\\u043c\\u0435\\u043d\\u044c\\u044d\\u043d\\u0435\\u0440\\u0433\\u043e | \\u0440\\u043e\\u0441\\u0441\\u0438\\u0438\",28],[9,\"\\u0447\\u0435\\u043b\\u043e\\u0432\\u0435\\u043a | \\u0438\\u0437 | \\u043d\\u0430 | \\u0443\\u0440\\u0430\\u0433\\u0430\\u043d | \\u043f\\u043e\",28],[10,\"bank | york | new | of | \\u0434\\u0435\\u043d\\u0435\\u0433\",27],[11,\"\\u043f\\u043e | \\u0438\\u0437 | \\u043a\\u043e\\u043b\\u043e\\u043a\\u043e\\u043b\\u0430 | \\u043d\\u0430 | \\u0437\\u0430\\u043b\\u043e\\u0436\\u043d\\u0438\\u043a\\u043e\\u0432\",26],[12,\"\\u0441\\u0430\\u043c\\u043e\\u043b\\u0435\\u0442 | \\u0441\\u0430\\u043c\\u043e\\u043b\\u0435\\u0442\\u0430 | \\u043d\\u0430 | \\u043f\\u0430\\u0441\\u0441\\u0430\\u0436\\u0438\\u0440\\u043e\\u0432 | \\u0438\\u0437\",25],[13,\"\\u043c\\u0432\\u0444 | \\u0440\\u043e\\u0441\\u0441\\u0438\\u0438 | \\u043f\\u043e | \\u0447\\u0442\\u043e | \\u043d\\u0430\",25],[14,\"nasa | \\u043d\\u0430 | \\u043e\\u0440\\u0431\\u0438\\u0442\\u0443 | \\u0441\\u0442\\u0430\\u043d\\u0446\\u0438\\u0438 | \\u0447\\u0442\\u043e\",19],[15,\"\\u044e\\u0436\\u043d\\u043e | \\u043e\\u0431\\u043b\\u0430\\u0441\\u0442\\u0438 | \\u0437\\u0430\\u0431\\u043e\\u043b\\u0435\\u0432\\u0430\\u043d\\u0438\\u044f | \\u0441\\u0430\\u0445\\u0430\\u043b\\u0438\\u043d\\u0441\\u043a\\u043e\\u0439 | \\u043d\\u0430\",18],[16,\"\\u043d\\u0430 | \\u043f\\u0440\\u043e\\u0442\\u0435\\u0441\\u0442\\u0430 | \\u043a\\u0430\\u0440\\u0430\\u0447\\u0430\\u0435\\u0432\\u043e | \\u043d\\u0435 | \\u043f\\u0435\\u0440\\u0435\\u043c\\u0435\\u043d\\u044b\",18],[17,\"\\u0433\\u043e\\u0440\\u0431\\u0430\\u0447\\u0435\\u0432\\u043e\\u0439 | \\u043a\\u0443\\u043b\\u044c\\u0442\\u0443\\u0440\\u044b | \\u0440\\u0430\\u0438\\u0441\\u0430 | \\u0433\\u043e\\u0440\\u0431\\u0430\\u0447\\u0435\\u0432\\u0430 | \\u043d\\u0430\",15],[18,\"\\u0443\\u0431\\u0438\\u0442 | \\u0431\\u044b\\u043b | \\u043d\\u0430 | \\u0443\\u0431\\u0438\\u0439\\u0441\\u0442\\u0432\\u0430 | \\u0435\\u0433\\u043e\",14],[19,\"\\u0441\\u0448\\u0430 | \\u0447\\u0442\\u043e | \\u043d\\u043e\\u0432\\u043e\\u0439 | \\u0440\\u043e\\u0441\\u0441\\u0438\\u0438 | \\u0442\\u0430\\u043a\\u0436\\u0435\",12],[20,\"\\u0430\\u0432\\u0442\\u043e\\u0431\\u0443\\u0441 | \\u0430\\u0432\\u0442\\u043e\\u0431\\u0443\\u0441\\u0430 | \\u0438\\u0437 | \\u043f\\u043e | \\u0440\\u0435\\u0437\\u0443\\u043b\\u044c\\u0442\\u0430\\u0442\\u0435\",12]],\"hovertemplate\":\"\\u003cb\\u003eTopic %{customdata[0]}\\u003c\\u002fb\\u003e\\u003cbr\\u003e%{customdata[1]}\\u003cbr\\u003eSize: %{customdata[2]}\",\"legendgroup\":\"\",\"marker\":{\"color\":\"#B0BEC5\",\"size\":[103,102,89,50,41,31,31,31,28,28,27,26,25,25,19,18,18,15,14,12,12],\"sizemode\":\"area\",\"sizeref\":0.064375,\"symbol\":\"circle\",\"line\":{\"color\":\"DarkSlateGrey\",\"width\":2}},\"mode\":\"markers\",\"name\":\"\",\"orientation\":\"v\",\"showlegend\":false,\"x\":[-0.07613525539636612,-0.03123234026134014,8.780684471130371,-9.784157752990723,9.007692337036133,11.947287559509277,-5.380863189697266,11.618215560913086,-9.961867332458496,11.369416236877441,-5.51326322555542,0.08184336125850677,13.626765251159668,8.605108261108398,13.676495552062988,11.016252517700195,-9.61982536315918,0.6190336346626282,0.4536752998828888,-0.2228633165359497,11.811844825744629],\"xaxis\":\"x\",\"y\":[10.7969331741333,10.137001991271973,10.257701873779297,0.6046729683876038,10.032797813415527,14.38541316986084,11.359330177307129,14.051985740661621,0.4270073175430298,13.826827049255371,11.491939544677734,11.310717582702637,3.1947970390319824,10.432737350463867,3.145038604736328,13.508683204650879,0.7690241932868958,11.90455436706543,11.759183883666992,10.416680335998535,14.235623359680176],\"yaxis\":\"y\",\"type\":\"scatter\"}],                        {\"template\":{\"data\":{\"barpolar\":[{\"marker\":{\"line\":{\"color\":\"white\",\"width\":0.5},\"pattern\":{\"fillmode\":\"overlay\",\"size\":10,\"solidity\":0.2}},\"type\":\"barpolar\"}],\"bar\":[{\"error_x\":{\"color\":\"rgb(36,36,36)\"},\"error_y\":{\"color\":\"rgb(36,36,36)\"},\"marker\":{\"line\":{\"color\":\"white\",\"width\":0.5},\"pattern\":{\"fillmode\":\"overlay\",\"size\":10,\"solidity\":0.2}},\"type\":\"bar\"}],\"carpet\":[{\"aaxis\":{\"endlinecolor\":\"rgb(36,36,36)\",\"gridcolor\":\"white\",\"linecolor\":\"white\",\"minorgridcolor\":\"white\",\"startlinecolor\":\"rgb(36,36,36)\"},\"baxis\":{\"endlinecolor\":\"rgb(36,36,36)\",\"gridcolor\":\"white\",\"linecolor\":\"white\",\"minorgridcolor\":\"white\",\"startlinecolor\":\"rgb(36,36,36)\"},\"type\":\"carpet\"}],\"choropleth\":[{\"colorbar\":{\"outlinewidth\":1,\"tickcolor\":\"rgb(36,36,36)\",\"ticks\":\"outside\"},\"type\":\"choropleth\"}],\"contourcarpet\":[{\"colorbar\":{\"outlinewidth\":1,\"tickcolor\":\"rgb(36,36,36)\",\"ticks\":\"outside\"},\"type\":\"contourcarpet\"}],\"contour\":[{\"colorbar\":{\"outlinewidth\":1,\"tickcolor\":\"rgb(36,36,36)\",\"ticks\":\"outside\"},\"colorscale\":[[0.0,\"#440154\"],[0.1111111111111111,\"#482878\"],[0.2222222222222222,\"#3e4989\"],[0.3333333333333333,\"#31688e\"],[0.4444444444444444,\"#26828e\"],[0.5555555555555556,\"#1f9e89\"],[0.6666666666666666,\"#35b779\"],[0.7777777777777778,\"#6ece58\"],[0.8888888888888888,\"#b5de2b\"],[1.0,\"#fde725\"]],\"type\":\"contour\"}],\"heatmapgl\":[{\"colorbar\":{\"outlinewidth\":1,\"tickcolor\":\"rgb(36,36,36)\",\"ticks\":\"outside\"},\"colorscale\":[[0.0,\"#440154\"],[0.1111111111111111,\"#482878\"],[0.2222222222222222,\"#3e4989\"],[0.3333333333333333,\"#31688e\"],[0.4444444444444444,\"#26828e\"],[0.5555555555555556,\"#1f9e89\"],[0.6666666666666666,\"#35b779\"],[0.7777777777777778,\"#6ece58\"],[0.8888888888888888,\"#b5de2b\"],[1.0,\"#fde725\"]],\"type\":\"heatmapgl\"}],\"heatmap\":[{\"colorbar\":{\"outlinewidth\":1,\"tickcolor\":\"rgb(36,36,36)\",\"ticks\":\"outside\"},\"colorscale\":[[0.0,\"#440154\"],[0.1111111111111111,\"#482878\"],[0.2222222222222222,\"#3e4989\"],[0.3333333333333333,\"#31688e\"],[0.4444444444444444,\"#26828e\"],[0.5555555555555556,\"#1f9e89\"],[0.6666666666666666,\"#35b779\"],[0.7777777777777778,\"#6ece58\"],[0.8888888888888888,\"#b5de2b\"],[1.0,\"#fde725\"]],\"type\":\"heatmap\"}],\"histogram2dcontour\":[{\"colorbar\":{\"outlinewidth\":1,\"tickcolor\":\"rgb(36,36,36)\",\"ticks\":\"outside\"},\"colorscale\":[[0.0,\"#440154\"],[0.1111111111111111,\"#482878\"],[0.2222222222222222,\"#3e4989\"],[0.3333333333333333,\"#31688e\"],[0.4444444444444444,\"#26828e\"],[0.5555555555555556,\"#1f9e89\"],[0.6666666666666666,\"#35b779\"],[0.7777777777777778,\"#6ece58\"],[0.8888888888888888,\"#b5de2b\"],[1.0,\"#fde725\"]],\"type\":\"histogram2dcontour\"}],\"histogram2d\":[{\"colorbar\":{\"outlinewidth\":1,\"tickcolor\":\"rgb(36,36,36)\",\"ticks\":\"outside\"},\"colorscale\":[[0.0,\"#440154\"],[0.1111111111111111,\"#482878\"],[0.2222222222222222,\"#3e4989\"],[0.3333333333333333,\"#31688e\"],[0.4444444444444444,\"#26828e\"],[0.5555555555555556,\"#1f9e89\"],[0.6666666666666666,\"#35b779\"],[0.7777777777777778,\"#6ece58\"],[0.8888888888888888,\"#b5de2b\"],[1.0,\"#fde725\"]],\"type\":\"histogram2d\"}],\"histogram\":[{\"marker\":{\"line\":{\"color\":\"white\",\"width\":0.6}},\"type\":\"histogram\"}],\"mesh3d\":[{\"colorbar\":{\"outlinewidth\":1,\"tickcolor\":\"rgb(36,36,36)\",\"ticks\":\"outside\"},\"type\":\"mesh3d\"}],\"parcoords\":[{\"line\":{\"colorbar\":{\"outlinewidth\":1,\"tickcolor\":\"rgb(36,36,36)\",\"ticks\":\"outside\"}},\"type\":\"parcoords\"}],\"pie\":[{\"automargin\":true,\"type\":\"pie\"}],\"scatter3d\":[{\"line\":{\"colorbar\":{\"outlinewidth\":1,\"tickcolor\":\"rgb(36,36,36)\",\"ticks\":\"outside\"}},\"marker\":{\"colorbar\":{\"outlinewidth\":1,\"tickcolor\":\"rgb(36,36,36)\",\"ticks\":\"outside\"}},\"type\":\"scatter3d\"}],\"scattercarpet\":[{\"marker\":{\"colorbar\":{\"outlinewidth\":1,\"tickcolor\":\"rgb(36,36,36)\",\"ticks\":\"outside\"}},\"type\":\"scattercarpet\"}],\"scattergeo\":[{\"marker\":{\"colorbar\":{\"outlinewidth\":1,\"tickcolor\":\"rgb(36,36,36)\",\"ticks\":\"outside\"}},\"type\":\"scattergeo\"}],\"scattergl\":[{\"marker\":{\"colorbar\":{\"outlinewidth\":1,\"tickcolor\":\"rgb(36,36,36)\",\"ticks\":\"outside\"}},\"type\":\"scattergl\"}],\"scattermapbox\":[{\"marker\":{\"colorbar\":{\"outlinewidth\":1,\"tickcolor\":\"rgb(36,36,36)\",\"ticks\":\"outside\"}},\"type\":\"scattermapbox\"}],\"scatterpolargl\":[{\"marker\":{\"colorbar\":{\"outlinewidth\":1,\"tickcolor\":\"rgb(36,36,36)\",\"ticks\":\"outside\"}},\"type\":\"scatterpolargl\"}],\"scatterpolar\":[{\"marker\":{\"colorbar\":{\"outlinewidth\":1,\"tickcolor\":\"rgb(36,36,36)\",\"ticks\":\"outside\"}},\"type\":\"scatterpolar\"}],\"scatter\":[{\"fillpattern\":{\"fillmode\":\"overlay\",\"size\":10,\"solidity\":0.2},\"type\":\"scatter\"}],\"scatterternary\":[{\"marker\":{\"colorbar\":{\"outlinewidth\":1,\"tickcolor\":\"rgb(36,36,36)\",\"ticks\":\"outside\"}},\"type\":\"scatterternary\"}],\"surface\":[{\"colorbar\":{\"outlinewidth\":1,\"tickcolor\":\"rgb(36,36,36)\",\"ticks\":\"outside\"},\"colorscale\":[[0.0,\"#440154\"],[0.1111111111111111,\"#482878\"],[0.2222222222222222,\"#3e4989\"],[0.3333333333333333,\"#31688e\"],[0.4444444444444444,\"#26828e\"],[0.5555555555555556,\"#1f9e89\"],[0.6666666666666666,\"#35b779\"],[0.7777777777777778,\"#6ece58\"],[0.8888888888888888,\"#b5de2b\"],[1.0,\"#fde725\"]],\"type\":\"surface\"}],\"table\":[{\"cells\":{\"fill\":{\"color\":\"rgb(237,237,237)\"},\"line\":{\"color\":\"white\"}},\"header\":{\"fill\":{\"color\":\"rgb(217,217,217)\"},\"line\":{\"color\":\"white\"}},\"type\":\"table\"}]},\"layout\":{\"annotationdefaults\":{\"arrowhead\":0,\"arrowwidth\":1},\"autotypenumbers\":\"strict\",\"coloraxis\":{\"colorbar\":{\"outlinewidth\":1,\"tickcolor\":\"rgb(36,36,36)\",\"ticks\":\"outside\"}},\"colorscale\":{\"diverging\":[[0.0,\"rgb(103,0,31)\"],[0.1,\"rgb(178,24,43)\"],[0.2,\"rgb(214,96,77)\"],[0.3,\"rgb(244,165,130)\"],[0.4,\"rgb(253,219,199)\"],[0.5,\"rgb(247,247,247)\"],[0.6,\"rgb(209,229,240)\"],[0.7,\"rgb(146,197,222)\"],[0.8,\"rgb(67,147,195)\"],[0.9,\"rgb(33,102,172)\"],[1.0,\"rgb(5,48,97)\"]],\"sequential\":[[0.0,\"#440154\"],[0.1111111111111111,\"#482878\"],[0.2222222222222222,\"#3e4989\"],[0.3333333333333333,\"#31688e\"],[0.4444444444444444,\"#26828e\"],[0.5555555555555556,\"#1f9e89\"],[0.6666666666666666,\"#35b779\"],[0.7777777777777778,\"#6ece58\"],[0.8888888888888888,\"#b5de2b\"],[1.0,\"#fde725\"]],\"sequentialminus\":[[0.0,\"#440154\"],[0.1111111111111111,\"#482878\"],[0.2222222222222222,\"#3e4989\"],[0.3333333333333333,\"#31688e\"],[0.4444444444444444,\"#26828e\"],[0.5555555555555556,\"#1f9e89\"],[0.6666666666666666,\"#35b779\"],[0.7777777777777778,\"#6ece58\"],[0.8888888888888888,\"#b5de2b\"],[1.0,\"#fde725\"]]},\"colorway\":[\"#1F77B4\",\"#FF7F0E\",\"#2CA02C\",\"#D62728\",\"#9467BD\",\"#8C564B\",\"#E377C2\",\"#7F7F7F\",\"#BCBD22\",\"#17BECF\"],\"font\":{\"color\":\"rgb(36,36,36)\"},\"geo\":{\"bgcolor\":\"white\",\"lakecolor\":\"white\",\"landcolor\":\"white\",\"showlakes\":true,\"showland\":true,\"subunitcolor\":\"white\"},\"hoverlabel\":{\"align\":\"left\"},\"hovermode\":\"closest\",\"mapbox\":{\"style\":\"light\"},\"paper_bgcolor\":\"white\",\"plot_bgcolor\":\"white\",\"polar\":{\"angularaxis\":{\"gridcolor\":\"rgb(232,232,232)\",\"linecolor\":\"rgb(36,36,36)\",\"showgrid\":false,\"showline\":true,\"ticks\":\"outside\"},\"bgcolor\":\"white\",\"radialaxis\":{\"gridcolor\":\"rgb(232,232,232)\",\"linecolor\":\"rgb(36,36,36)\",\"showgrid\":false,\"showline\":true,\"ticks\":\"outside\"}},\"scene\":{\"xaxis\":{\"backgroundcolor\":\"white\",\"gridcolor\":\"rgb(232,232,232)\",\"gridwidth\":2,\"linecolor\":\"rgb(36,36,36)\",\"showbackground\":true,\"showgrid\":false,\"showline\":true,\"ticks\":\"outside\",\"zeroline\":false,\"zerolinecolor\":\"rgb(36,36,36)\"},\"yaxis\":{\"backgroundcolor\":\"white\",\"gridcolor\":\"rgb(232,232,232)\",\"gridwidth\":2,\"linecolor\":\"rgb(36,36,36)\",\"showbackground\":true,\"showgrid\":false,\"showline\":true,\"ticks\":\"outside\",\"zeroline\":false,\"zerolinecolor\":\"rgb(36,36,36)\"},\"zaxis\":{\"backgroundcolor\":\"white\",\"gridcolor\":\"rgb(232,232,232)\",\"gridwidth\":2,\"linecolor\":\"rgb(36,36,36)\",\"showbackground\":true,\"showgrid\":false,\"showline\":true,\"ticks\":\"outside\",\"zeroline\":false,\"zerolinecolor\":\"rgb(36,36,36)\"}},\"shapedefaults\":{\"fillcolor\":\"black\",\"line\":{\"width\":0},\"opacity\":0.3},\"ternary\":{\"aaxis\":{\"gridcolor\":\"rgb(232,232,232)\",\"linecolor\":\"rgb(36,36,36)\",\"showgrid\":false,\"showline\":true,\"ticks\":\"outside\"},\"baxis\":{\"gridcolor\":\"rgb(232,232,232)\",\"linecolor\":\"rgb(36,36,36)\",\"showgrid\":false,\"showline\":true,\"ticks\":\"outside\"},\"bgcolor\":\"white\",\"caxis\":{\"gridcolor\":\"rgb(232,232,232)\",\"linecolor\":\"rgb(36,36,36)\",\"showgrid\":false,\"showline\":true,\"ticks\":\"outside\"}},\"title\":{\"x\":0.05},\"xaxis\":{\"automargin\":true,\"gridcolor\":\"rgb(232,232,232)\",\"linecolor\":\"rgb(36,36,36)\",\"showgrid\":false,\"showline\":true,\"ticks\":\"outside\",\"title\":{\"standoff\":15},\"zeroline\":false,\"zerolinecolor\":\"rgb(36,36,36)\"},\"yaxis\":{\"automargin\":true,\"gridcolor\":\"rgb(232,232,232)\",\"linecolor\":\"rgb(36,36,36)\",\"showgrid\":false,\"showline\":true,\"ticks\":\"outside\",\"title\":{\"standoff\":15},\"zeroline\":false,\"zerolinecolor\":\"rgb(36,36,36)\"}}},\"xaxis\":{\"anchor\":\"y\",\"domain\":[0.0,1.0],\"title\":{\"text\":\"\"},\"visible\":false,\"range\":[-11.45614743232727,15.727969884872437]},\"yaxis\":{\"anchor\":\"x\",\"domain\":[0.0,1.0],\"title\":{\"text\":\"\"},\"visible\":false,\"range\":[0.36295621991157534,16.543225145339967]},\"legend\":{\"tracegroupgap\":0,\"itemsizing\":\"constant\"},\"margin\":{\"t\":60},\"title\":{\"font\":{\"size\":22,\"color\":\"Black\"},\"text\":\"\\u003cb\\u003eIntertopic Distance Map\\u003c\\u002fb\\u003e\",\"y\":0.95,\"x\":0.5,\"xanchor\":\"center\",\"yanchor\":\"top\"},\"hoverlabel\":{\"font\":{\"size\":16,\"family\":\"Rockwell\"},\"bgcolor\":\"white\"},\"width\":650,\"height\":650,\"sliders\":[{\"active\":0,\"pad\":{\"t\":50},\"steps\":[{\"args\":[{\"marker.color\":[[\"red\",\"#B0BEC5\",\"#B0BEC5\",\"#B0BEC5\",\"#B0BEC5\",\"#B0BEC5\",\"#B0BEC5\",\"#B0BEC5\",\"#B0BEC5\",\"#B0BEC5\",\"#B0BEC5\",\"#B0BEC5\",\"#B0BEC5\",\"#B0BEC5\",\"#B0BEC5\",\"#B0BEC5\",\"#B0BEC5\",\"#B0BEC5\",\"#B0BEC5\",\"#B0BEC5\",\"#B0BEC5\"]]}],\"label\":\"Topic 0\",\"method\":\"update\"},{\"args\":[{\"marker.color\":[[\"#B0BEC5\",\"red\",\"#B0BEC5\",\"#B0BEC5\",\"#B0BEC5\",\"#B0BEC5\",\"#B0BEC5\",\"#B0BEC5\",\"#B0BEC5\",\"#B0BEC5\",\"#B0BEC5\",\"#B0BEC5\",\"#B0BEC5\",\"#B0BEC5\",\"#B0BEC5\",\"#B0BEC5\",\"#B0BEC5\",\"#B0BEC5\",\"#B0BEC5\",\"#B0BEC5\",\"#B0BEC5\"]]}],\"label\":\"Topic 1\",\"method\":\"update\"},{\"args\":[{\"marker.color\":[[\"#B0BEC5\",\"#B0BEC5\",\"red\",\"#B0BEC5\",\"#B0BEC5\",\"#B0BEC5\",\"#B0BEC5\",\"#B0BEC5\",\"#B0BEC5\",\"#B0BEC5\",\"#B0BEC5\",\"#B0BEC5\",\"#B0BEC5\",\"#B0BEC5\",\"#B0BEC5\",\"#B0BEC5\",\"#B0BEC5\",\"#B0BEC5\",\"#B0BEC5\",\"#B0BEC5\",\"#B0BEC5\"]]}],\"label\":\"Topic 2\",\"method\":\"update\"},{\"args\":[{\"marker.color\":[[\"#B0BEC5\",\"#B0BEC5\",\"#B0BEC5\",\"red\",\"#B0BEC5\",\"#B0BEC5\",\"#B0BEC5\",\"#B0BEC5\",\"#B0BEC5\",\"#B0BEC5\",\"#B0BEC5\",\"#B0BEC5\",\"#B0BEC5\",\"#B0BEC5\",\"#B0BEC5\",\"#B0BEC5\",\"#B0BEC5\",\"#B0BEC5\",\"#B0BEC5\",\"#B0BEC5\",\"#B0BEC5\"]]}],\"label\":\"Topic 3\",\"method\":\"update\"},{\"args\":[{\"marker.color\":[[\"#B0BEC5\",\"#B0BEC5\",\"#B0BEC5\",\"#B0BEC5\",\"red\",\"#B0BEC5\",\"#B0BEC5\",\"#B0BEC5\",\"#B0BEC5\",\"#B0BEC5\",\"#B0BEC5\",\"#B0BEC5\",\"#B0BEC5\",\"#B0BEC5\",\"#B0BEC5\",\"#B0BEC5\",\"#B0BEC5\",\"#B0BEC5\",\"#B0BEC5\",\"#B0BEC5\",\"#B0BEC5\"]]}],\"label\":\"Topic 4\",\"method\":\"update\"},{\"args\":[{\"marker.color\":[[\"#B0BEC5\",\"#B0BEC5\",\"#B0BEC5\",\"#B0BEC5\",\"#B0BEC5\",\"red\",\"#B0BEC5\",\"#B0BEC5\",\"#B0BEC5\",\"#B0BEC5\",\"#B0BEC5\",\"#B0BEC5\",\"#B0BEC5\",\"#B0BEC5\",\"#B0BEC5\",\"#B0BEC5\",\"#B0BEC5\",\"#B0BEC5\",\"#B0BEC5\",\"#B0BEC5\",\"#B0BEC5\"]]}],\"label\":\"Topic 5\",\"method\":\"update\"},{\"args\":[{\"marker.color\":[[\"#B0BEC5\",\"#B0BEC5\",\"#B0BEC5\",\"#B0BEC5\",\"#B0BEC5\",\"#B0BEC5\",\"red\",\"#B0BEC5\",\"#B0BEC5\",\"#B0BEC5\",\"#B0BEC5\",\"#B0BEC5\",\"#B0BEC5\",\"#B0BEC5\",\"#B0BEC5\",\"#B0BEC5\",\"#B0BEC5\",\"#B0BEC5\",\"#B0BEC5\",\"#B0BEC5\",\"#B0BEC5\"]]}],\"label\":\"Topic 6\",\"method\":\"update\"},{\"args\":[{\"marker.color\":[[\"#B0BEC5\",\"#B0BEC5\",\"#B0BEC5\",\"#B0BEC5\",\"#B0BEC5\",\"#B0BEC5\",\"#B0BEC5\",\"red\",\"#B0BEC5\",\"#B0BEC5\",\"#B0BEC5\",\"#B0BEC5\",\"#B0BEC5\",\"#B0BEC5\",\"#B0BEC5\",\"#B0BEC5\",\"#B0BEC5\",\"#B0BEC5\",\"#B0BEC5\",\"#B0BEC5\",\"#B0BEC5\"]]}],\"label\":\"Topic 7\",\"method\":\"update\"},{\"args\":[{\"marker.color\":[[\"#B0BEC5\",\"#B0BEC5\",\"#B0BEC5\",\"#B0BEC5\",\"#B0BEC5\",\"#B0BEC5\",\"#B0BEC5\",\"#B0BEC5\",\"red\",\"#B0BEC5\",\"#B0BEC5\",\"#B0BEC5\",\"#B0BEC5\",\"#B0BEC5\",\"#B0BEC5\",\"#B0BEC5\",\"#B0BEC5\",\"#B0BEC5\",\"#B0BEC5\",\"#B0BEC5\",\"#B0BEC5\"]]}],\"label\":\"Topic 8\",\"method\":\"update\"},{\"args\":[{\"marker.color\":[[\"#B0BEC5\",\"#B0BEC5\",\"#B0BEC5\",\"#B0BEC5\",\"#B0BEC5\",\"#B0BEC5\",\"#B0BEC5\",\"#B0BEC5\",\"#B0BEC5\",\"red\",\"#B0BEC5\",\"#B0BEC5\",\"#B0BEC5\",\"#B0BEC5\",\"#B0BEC5\",\"#B0BEC5\",\"#B0BEC5\",\"#B0BEC5\",\"#B0BEC5\",\"#B0BEC5\",\"#B0BEC5\"]]}],\"label\":\"Topic 9\",\"method\":\"update\"},{\"args\":[{\"marker.color\":[[\"#B0BEC5\",\"#B0BEC5\",\"#B0BEC5\",\"#B0BEC5\",\"#B0BEC5\",\"#B0BEC5\",\"#B0BEC5\",\"#B0BEC5\",\"#B0BEC5\",\"#B0BEC5\",\"red\",\"#B0BEC5\",\"#B0BEC5\",\"#B0BEC5\",\"#B0BEC5\",\"#B0BEC5\",\"#B0BEC5\",\"#B0BEC5\",\"#B0BEC5\",\"#B0BEC5\",\"#B0BEC5\"]]}],\"label\":\"Topic 10\",\"method\":\"update\"},{\"args\":[{\"marker.color\":[[\"#B0BEC5\",\"#B0BEC5\",\"#B0BEC5\",\"#B0BEC5\",\"#B0BEC5\",\"#B0BEC5\",\"#B0BEC5\",\"#B0BEC5\",\"#B0BEC5\",\"#B0BEC5\",\"#B0BEC5\",\"red\",\"#B0BEC5\",\"#B0BEC5\",\"#B0BEC5\",\"#B0BEC5\",\"#B0BEC5\",\"#B0BEC5\",\"#B0BEC5\",\"#B0BEC5\",\"#B0BEC5\"]]}],\"label\":\"Topic 11\",\"method\":\"update\"},{\"args\":[{\"marker.color\":[[\"#B0BEC5\",\"#B0BEC5\",\"#B0BEC5\",\"#B0BEC5\",\"#B0BEC5\",\"#B0BEC5\",\"#B0BEC5\",\"#B0BEC5\",\"#B0BEC5\",\"#B0BEC5\",\"#B0BEC5\",\"#B0BEC5\",\"red\",\"#B0BEC5\",\"#B0BEC5\",\"#B0BEC5\",\"#B0BEC5\",\"#B0BEC5\",\"#B0BEC5\",\"#B0BEC5\",\"#B0BEC5\"]]}],\"label\":\"Topic 12\",\"method\":\"update\"},{\"args\":[{\"marker.color\":[[\"#B0BEC5\",\"#B0BEC5\",\"#B0BEC5\",\"#B0BEC5\",\"#B0BEC5\",\"#B0BEC5\",\"#B0BEC5\",\"#B0BEC5\",\"#B0BEC5\",\"#B0BEC5\",\"#B0BEC5\",\"#B0BEC5\",\"#B0BEC5\",\"red\",\"#B0BEC5\",\"#B0BEC5\",\"#B0BEC5\",\"#B0BEC5\",\"#B0BEC5\",\"#B0BEC5\",\"#B0BEC5\"]]}],\"label\":\"Topic 13\",\"method\":\"update\"},{\"args\":[{\"marker.color\":[[\"#B0BEC5\",\"#B0BEC5\",\"#B0BEC5\",\"#B0BEC5\",\"#B0BEC5\",\"#B0BEC5\",\"#B0BEC5\",\"#B0BEC5\",\"#B0BEC5\",\"#B0BEC5\",\"#B0BEC5\",\"#B0BEC5\",\"#B0BEC5\",\"#B0BEC5\",\"red\",\"#B0BEC5\",\"#B0BEC5\",\"#B0BEC5\",\"#B0BEC5\",\"#B0BEC5\",\"#B0BEC5\"]]}],\"label\":\"Topic 14\",\"method\":\"update\"},{\"args\":[{\"marker.color\":[[\"#B0BEC5\",\"#B0BEC5\",\"#B0BEC5\",\"#B0BEC5\",\"#B0BEC5\",\"#B0BEC5\",\"#B0BEC5\",\"#B0BEC5\",\"#B0BEC5\",\"#B0BEC5\",\"#B0BEC5\",\"#B0BEC5\",\"#B0BEC5\",\"#B0BEC5\",\"#B0BEC5\",\"red\",\"#B0BEC5\",\"#B0BEC5\",\"#B0BEC5\",\"#B0BEC5\",\"#B0BEC5\"]]}],\"label\":\"Topic 15\",\"method\":\"update\"},{\"args\":[{\"marker.color\":[[\"#B0BEC5\",\"#B0BEC5\",\"#B0BEC5\",\"#B0BEC5\",\"#B0BEC5\",\"#B0BEC5\",\"#B0BEC5\",\"#B0BEC5\",\"#B0BEC5\",\"#B0BEC5\",\"#B0BEC5\",\"#B0BEC5\",\"#B0BEC5\",\"#B0BEC5\",\"#B0BEC5\",\"#B0BEC5\",\"red\",\"#B0BEC5\",\"#B0BEC5\",\"#B0BEC5\",\"#B0BEC5\"]]}],\"label\":\"Topic 16\",\"method\":\"update\"},{\"args\":[{\"marker.color\":[[\"#B0BEC5\",\"#B0BEC5\",\"#B0BEC5\",\"#B0BEC5\",\"#B0BEC5\",\"#B0BEC5\",\"#B0BEC5\",\"#B0BEC5\",\"#B0BEC5\",\"#B0BEC5\",\"#B0BEC5\",\"#B0BEC5\",\"#B0BEC5\",\"#B0BEC5\",\"#B0BEC5\",\"#B0BEC5\",\"#B0BEC5\",\"red\",\"#B0BEC5\",\"#B0BEC5\",\"#B0BEC5\"]]}],\"label\":\"Topic 17\",\"method\":\"update\"},{\"args\":[{\"marker.color\":[[\"#B0BEC5\",\"#B0BEC5\",\"#B0BEC5\",\"#B0BEC5\",\"#B0BEC5\",\"#B0BEC5\",\"#B0BEC5\",\"#B0BEC5\",\"#B0BEC5\",\"#B0BEC5\",\"#B0BEC5\",\"#B0BEC5\",\"#B0BEC5\",\"#B0BEC5\",\"#B0BEC5\",\"#B0BEC5\",\"#B0BEC5\",\"#B0BEC5\",\"red\",\"#B0BEC5\",\"#B0BEC5\"]]}],\"label\":\"Topic 18\",\"method\":\"update\"},{\"args\":[{\"marker.color\":[[\"#B0BEC5\",\"#B0BEC5\",\"#B0BEC5\",\"#B0BEC5\",\"#B0BEC5\",\"#B0BEC5\",\"#B0BEC5\",\"#B0BEC5\",\"#B0BEC5\",\"#B0BEC5\",\"#B0BEC5\",\"#B0BEC5\",\"#B0BEC5\",\"#B0BEC5\",\"#B0BEC5\",\"#B0BEC5\",\"#B0BEC5\",\"#B0BEC5\",\"#B0BEC5\",\"red\",\"#B0BEC5\"]]}],\"label\":\"Topic 19\",\"method\":\"update\"},{\"args\":[{\"marker.color\":[[\"#B0BEC5\",\"#B0BEC5\",\"#B0BEC5\",\"#B0BEC5\",\"#B0BEC5\",\"#B0BEC5\",\"#B0BEC5\",\"#B0BEC5\",\"#B0BEC5\",\"#B0BEC5\",\"#B0BEC5\",\"#B0BEC5\",\"#B0BEC5\",\"#B0BEC5\",\"#B0BEC5\",\"#B0BEC5\",\"#B0BEC5\",\"#B0BEC5\",\"#B0BEC5\",\"#B0BEC5\",\"red\"]]}],\"label\":\"Topic 20\",\"method\":\"update\"}]}],\"shapes\":[{\"line\":{\"color\":\"#CFD8DC\",\"width\":2},\"type\":\"line\",\"x0\":2.135911226272583,\"x1\":2.135911226272583,\"y0\":0.36295621991157534,\"y1\":16.543225145339967},{\"line\":{\"color\":\"#9E9E9E\",\"width\":2},\"type\":\"line\",\"x0\":-11.45614743232727,\"x1\":15.727969884872437,\"y0\":8.45309068262577,\"y1\":8.45309068262577}],\"annotations\":[{\"showarrow\":false,\"text\":\"D1\",\"x\":-11.45614743232727,\"y\":8.45309068262577,\"yshift\":10},{\"showarrow\":false,\"text\":\"D2\",\"x\":2.135911226272583,\"xshift\":10,\"y\":16.543225145339967}]},                        {\"responsive\": true}                    ).then(function(){\n",
              "                            \n",
              "var gd = document.getElementById('b89ae98c-5b1c-4821-9922-71832f2a3ba7');\n",
              "var x = new MutationObserver(function (mutations, observer) {{\n",
              "        var display = window.getComputedStyle(gd).display;\n",
              "        if (!display || display === 'none') {{\n",
              "            console.log([gd, 'removed!']);\n",
              "            Plotly.purge(gd);\n",
              "            observer.disconnect();\n",
              "        }}\n",
              "}});\n",
              "\n",
              "// Listen for the removal of the full notebook cells\n",
              "var notebookContainer = gd.closest('#notebook-container');\n",
              "if (notebookContainer) {{\n",
              "    x.observe(notebookContainer, {childList: true});\n",
              "}}\n",
              "\n",
              "// Listen for the clearing of the current output cell\n",
              "var outputEl = gd.closest('.output');\n",
              "if (outputEl) {{\n",
              "    x.observe(outputEl, {childList: true});\n",
              "}}\n",
              "\n",
              "                        })                };                            </script>        </div>\n",
              "</body>\n",
              "</html>"
            ]
          },
          "metadata": {}
        }
      ]
    },
    {
      "cell_type": "markdown",
      "source": [
        "Можно использовать другой алгоритм кластеризации в пайплайне:"
      ],
      "metadata": {
        "id": "0912jIKxM0Vi"
      }
    },
    {
      "cell_type": "code",
      "source": [
        "from sklearn.cluster import KMeans\n",
        "\n",
        "cluster_model = KMeans(n_clusters=10)\n",
        "topic_model_kmeans = BERTopic(hdbscan_model=cluster_model, language='russian', verbose=True)\n",
        "\n",
        "topics_kmeans, probs_kmeans = topic_model_kmeans.fit_transform(docs)"
      ],
      "metadata": {
        "id": "UuKriL8xFTs5",
        "outputId": "12060b0a-b5a8-44eb-a10c-49362d8a6396",
        "colab": {
          "base_uri": "https://localhost:8080/",
          "height": 181,
          "referenced_widgets": [
            "be8ab31e91ba4ebbbfe0e671f5e41011",
            "db086c129a864793a97f9ebe32beb644",
            "57d5e3b2be4446f894c1b44a96b1b83a",
            "2703e0ae3d974b4ea34b8df434ce8ac7",
            "a8699a619fe84f05a37c977dde16fa28",
            "2f976db074ac4155b0b04e5794e6a12a",
            "2f0c2eee69f54673ac83db0601edc07c",
            "4b2ce007fa404482b8b408ba35c92ad0",
            "b588dfdb16bd403db88900845a3e1d9d",
            "e74b8815097e47d88bb20731a8f3f2b5",
            "17b7bef5ea7c495287d7a112945032c8"
          ]
        }
      },
      "execution_count": 124,
      "outputs": [
        {
          "output_type": "stream",
          "name": "stderr",
          "text": [
            "2023-12-06 13:20:47,101 - BERTopic - Embedding - Transforming documents to embeddings.\n"
          ]
        },
        {
          "output_type": "display_data",
          "data": {
            "text/plain": [
              "Batches:   0%|          | 0/157 [00:00<?, ?it/s]"
            ],
            "application/vnd.jupyter.widget-view+json": {
              "version_major": 2,
              "version_minor": 0,
              "model_id": "be8ab31e91ba4ebbbfe0e671f5e41011"
            }
          },
          "metadata": {}
        },
        {
          "output_type": "stream",
          "name": "stderr",
          "text": [
            "2023-12-06 13:32:20,120 - BERTopic - Embedding - Completed ✓\n",
            "2023-12-06 13:32:20,123 - BERTopic - Dimensionality - Fitting the dimensionality reduction algorithm\n",
            "2023-12-06 13:33:03,190 - BERTopic - Dimensionality - Completed ✓\n",
            "2023-12-06 13:33:03,192 - BERTopic - Cluster - Start clustering the reduced embeddings\n",
            "2023-12-06 13:33:03,865 - BERTopic - Cluster - Completed ✓\n",
            "2023-12-06 13:33:03,874 - BERTopic - Representation - Extracting topics from clusters using representation models.\n",
            "2023-12-06 13:33:06,284 - BERTopic - Representation - Completed ✓\n"
          ]
        }
      ]
    },
    {
      "cell_type": "code",
      "source": [
        "inf = topic_model_kmeans.get_topic_info()\n",
        "inf[['Topic', 'Count', 'Name', 'Representation']]"
      ],
      "metadata": {
        "id": "gYl6gPbyH9ta",
        "outputId": "b9d4acd7-e13a-4160-d86f-80f5ccde056a",
        "colab": {
          "base_uri": "https://localhost:8080/",
          "height": 438
        }
      },
      "execution_count": 125,
      "outputs": [
        {
          "output_type": "stream",
          "name": "stderr",
          "text": [
            "/usr/local/lib/python3.10/dist-packages/ipykernel/ipkernel.py:283: DeprecationWarning:\n",
            "\n",
            "`should_run_async` will not call `transform_cell` automatically in the future. Please pass the result to `transformed_cell` argument and any exception that happen during thetransform in `preprocessing_exc_tuple` in IPython 7.17 and above.\n",
            "\n"
          ]
        },
        {
          "output_type": "execute_result",
          "data": {
            "text/plain": [
              "   Topic  Count                  Name                                                      Representation\n",
              "0      0    809      0_на_по_что_года      [на, по, что, года, процента, за, до, долларов, не, процентов]\n",
              "1      1    735        1_на_что_по_не                    [на, что, по, не, россии, как, он, года, за, из]\n",
              "2      2    626  2_на_по_сборной_мира           [на, по, сборной, мира, что, не, за, команды, россии, из]\n",
              "3      3    614        3_на_по_что_из                  [на, по, что, из, не, его, был, как, он, сообщает]\n",
              "4      4    457        4_на_что_по_не                    [на, что, по, не, как, для, из, за, года, также]\n",
              "5      5    447        5_по_что_на_не                     [по, что, на, не, суд, его, года, он, был, как]\n",
              "6      6    385    6_на_по_из_человек   [на, по, из, человек, результате, не, сообщает, что, данным, как]\n",
              "7      7    370       7_сша_что_на_по                    [сша, что, на, по, не, как, из, заявил, за, для]\n",
              "8      8    345       8_на_аль_что_по                  [на, аль, что, по, из, не, как, сша, сообщает, за]\n",
              "9      9    212        9_на_что_по_из  [на, что, по, из, самолет, не, самолета, борту, как, авиакомпании]"
            ],
            "text/html": [
              "\n",
              "  <div id=\"df-296e2448-7d8b-40df-b0e9-68ea9b8c47a6\" class=\"colab-df-container\">\n",
              "    <div>\n",
              "<style scoped>\n",
              "    .dataframe tbody tr th:only-of-type {\n",
              "        vertical-align: middle;\n",
              "    }\n",
              "\n",
              "    .dataframe tbody tr th {\n",
              "        vertical-align: top;\n",
              "    }\n",
              "\n",
              "    .dataframe thead th {\n",
              "        text-align: right;\n",
              "    }\n",
              "</style>\n",
              "<table border=\"1\" class=\"dataframe\">\n",
              "  <thead>\n",
              "    <tr style=\"text-align: right;\">\n",
              "      <th></th>\n",
              "      <th>Topic</th>\n",
              "      <th>Count</th>\n",
              "      <th>Name</th>\n",
              "      <th>Representation</th>\n",
              "    </tr>\n",
              "  </thead>\n",
              "  <tbody>\n",
              "    <tr>\n",
              "      <th>0</th>\n",
              "      <td>0</td>\n",
              "      <td>809</td>\n",
              "      <td>0_на_по_что_года</td>\n",
              "      <td>[на, по, что, года, процента, за, до, долларов, не, процентов]</td>\n",
              "    </tr>\n",
              "    <tr>\n",
              "      <th>1</th>\n",
              "      <td>1</td>\n",
              "      <td>735</td>\n",
              "      <td>1_на_что_по_не</td>\n",
              "      <td>[на, что, по, не, россии, как, он, года, за, из]</td>\n",
              "    </tr>\n",
              "    <tr>\n",
              "      <th>2</th>\n",
              "      <td>2</td>\n",
              "      <td>626</td>\n",
              "      <td>2_на_по_сборной_мира</td>\n",
              "      <td>[на, по, сборной, мира, что, не, за, команды, россии, из]</td>\n",
              "    </tr>\n",
              "    <tr>\n",
              "      <th>3</th>\n",
              "      <td>3</td>\n",
              "      <td>614</td>\n",
              "      <td>3_на_по_что_из</td>\n",
              "      <td>[на, по, что, из, не, его, был, как, он, сообщает]</td>\n",
              "    </tr>\n",
              "    <tr>\n",
              "      <th>4</th>\n",
              "      <td>4</td>\n",
              "      <td>457</td>\n",
              "      <td>4_на_что_по_не</td>\n",
              "      <td>[на, что, по, не, как, для, из, за, года, также]</td>\n",
              "    </tr>\n",
              "    <tr>\n",
              "      <th>5</th>\n",
              "      <td>5</td>\n",
              "      <td>447</td>\n",
              "      <td>5_по_что_на_не</td>\n",
              "      <td>[по, что, на, не, суд, его, года, он, был, как]</td>\n",
              "    </tr>\n",
              "    <tr>\n",
              "      <th>6</th>\n",
              "      <td>6</td>\n",
              "      <td>385</td>\n",
              "      <td>6_на_по_из_человек</td>\n",
              "      <td>[на, по, из, человек, результате, не, сообщает, что, данным, как]</td>\n",
              "    </tr>\n",
              "    <tr>\n",
              "      <th>7</th>\n",
              "      <td>7</td>\n",
              "      <td>370</td>\n",
              "      <td>7_сша_что_на_по</td>\n",
              "      <td>[сша, что, на, по, не, как, из, заявил, за, для]</td>\n",
              "    </tr>\n",
              "    <tr>\n",
              "      <th>8</th>\n",
              "      <td>8</td>\n",
              "      <td>345</td>\n",
              "      <td>8_на_аль_что_по</td>\n",
              "      <td>[на, аль, что, по, из, не, как, сша, сообщает, за]</td>\n",
              "    </tr>\n",
              "    <tr>\n",
              "      <th>9</th>\n",
              "      <td>9</td>\n",
              "      <td>212</td>\n",
              "      <td>9_на_что_по_из</td>\n",
              "      <td>[на, что, по, из, самолет, не, самолета, борту, как, авиакомпании]</td>\n",
              "    </tr>\n",
              "  </tbody>\n",
              "</table>\n",
              "</div>\n",
              "    <div class=\"colab-df-buttons\">\n",
              "\n",
              "  <div class=\"colab-df-container\">\n",
              "    <button class=\"colab-df-convert\" onclick=\"convertToInteractive('df-296e2448-7d8b-40df-b0e9-68ea9b8c47a6')\"\n",
              "            title=\"Convert this dataframe to an interactive table.\"\n",
              "            style=\"display:none;\">\n",
              "\n",
              "  <svg xmlns=\"http://www.w3.org/2000/svg\" height=\"24px\" viewBox=\"0 -960 960 960\">\n",
              "    <path d=\"M120-120v-720h720v720H120Zm60-500h600v-160H180v160Zm220 220h160v-160H400v160Zm0 220h160v-160H400v160ZM180-400h160v-160H180v160Zm440 0h160v-160H620v160ZM180-180h160v-160H180v160Zm440 0h160v-160H620v160Z\"/>\n",
              "  </svg>\n",
              "    </button>\n",
              "\n",
              "  <style>\n",
              "    .colab-df-container {\n",
              "      display:flex;\n",
              "      gap: 12px;\n",
              "    }\n",
              "\n",
              "    .colab-df-convert {\n",
              "      background-color: #E8F0FE;\n",
              "      border: none;\n",
              "      border-radius: 50%;\n",
              "      cursor: pointer;\n",
              "      display: none;\n",
              "      fill: #1967D2;\n",
              "      height: 32px;\n",
              "      padding: 0 0 0 0;\n",
              "      width: 32px;\n",
              "    }\n",
              "\n",
              "    .colab-df-convert:hover {\n",
              "      background-color: #E2EBFA;\n",
              "      box-shadow: 0px 1px 2px rgba(60, 64, 67, 0.3), 0px 1px 3px 1px rgba(60, 64, 67, 0.15);\n",
              "      fill: #174EA6;\n",
              "    }\n",
              "\n",
              "    .colab-df-buttons div {\n",
              "      margin-bottom: 4px;\n",
              "    }\n",
              "\n",
              "    [theme=dark] .colab-df-convert {\n",
              "      background-color: #3B4455;\n",
              "      fill: #D2E3FC;\n",
              "    }\n",
              "\n",
              "    [theme=dark] .colab-df-convert:hover {\n",
              "      background-color: #434B5C;\n",
              "      box-shadow: 0px 1px 3px 1px rgba(0, 0, 0, 0.15);\n",
              "      filter: drop-shadow(0px 1px 2px rgba(0, 0, 0, 0.3));\n",
              "      fill: #FFFFFF;\n",
              "    }\n",
              "  </style>\n",
              "\n",
              "    <script>\n",
              "      const buttonEl =\n",
              "        document.querySelector('#df-296e2448-7d8b-40df-b0e9-68ea9b8c47a6 button.colab-df-convert');\n",
              "      buttonEl.style.display =\n",
              "        google.colab.kernel.accessAllowed ? 'block' : 'none';\n",
              "\n",
              "      async function convertToInteractive(key) {\n",
              "        const element = document.querySelector('#df-296e2448-7d8b-40df-b0e9-68ea9b8c47a6');\n",
              "        const dataTable =\n",
              "          await google.colab.kernel.invokeFunction('convertToInteractive',\n",
              "                                                    [key], {});\n",
              "        if (!dataTable) return;\n",
              "\n",
              "        const docLinkHtml = 'Like what you see? Visit the ' +\n",
              "          '<a target=\"_blank\" href=https://colab.research.google.com/notebooks/data_table.ipynb>data table notebook</a>'\n",
              "          + ' to learn more about interactive tables.';\n",
              "        element.innerHTML = '';\n",
              "        dataTable['output_type'] = 'display_data';\n",
              "        await google.colab.output.renderOutput(dataTable, element);\n",
              "        const docLink = document.createElement('div');\n",
              "        docLink.innerHTML = docLinkHtml;\n",
              "        element.appendChild(docLink);\n",
              "      }\n",
              "    </script>\n",
              "  </div>\n",
              "\n",
              "\n",
              "<div id=\"df-6909e0cb-6888-4aa4-9203-deb7e7f4fbd7\">\n",
              "  <button class=\"colab-df-quickchart\" onclick=\"quickchart('df-6909e0cb-6888-4aa4-9203-deb7e7f4fbd7')\"\n",
              "            title=\"Suggest charts\"\n",
              "            style=\"display:none;\">\n",
              "\n",
              "<svg xmlns=\"http://www.w3.org/2000/svg\" height=\"24px\"viewBox=\"0 0 24 24\"\n",
              "     width=\"24px\">\n",
              "    <g>\n",
              "        <path d=\"M19 3H5c-1.1 0-2 .9-2 2v14c0 1.1.9 2 2 2h14c1.1 0 2-.9 2-2V5c0-1.1-.9-2-2-2zM9 17H7v-7h2v7zm4 0h-2V7h2v10zm4 0h-2v-4h2v4z\"/>\n",
              "    </g>\n",
              "</svg>\n",
              "  </button>\n",
              "\n",
              "<style>\n",
              "  .colab-df-quickchart {\n",
              "      --bg-color: #E8F0FE;\n",
              "      --fill-color: #1967D2;\n",
              "      --hover-bg-color: #E2EBFA;\n",
              "      --hover-fill-color: #174EA6;\n",
              "      --disabled-fill-color: #AAA;\n",
              "      --disabled-bg-color: #DDD;\n",
              "  }\n",
              "\n",
              "  [theme=dark] .colab-df-quickchart {\n",
              "      --bg-color: #3B4455;\n",
              "      --fill-color: #D2E3FC;\n",
              "      --hover-bg-color: #434B5C;\n",
              "      --hover-fill-color: #FFFFFF;\n",
              "      --disabled-bg-color: #3B4455;\n",
              "      --disabled-fill-color: #666;\n",
              "  }\n",
              "\n",
              "  .colab-df-quickchart {\n",
              "    background-color: var(--bg-color);\n",
              "    border: none;\n",
              "    border-radius: 50%;\n",
              "    cursor: pointer;\n",
              "    display: none;\n",
              "    fill: var(--fill-color);\n",
              "    height: 32px;\n",
              "    padding: 0;\n",
              "    width: 32px;\n",
              "  }\n",
              "\n",
              "  .colab-df-quickchart:hover {\n",
              "    background-color: var(--hover-bg-color);\n",
              "    box-shadow: 0 1px 2px rgba(60, 64, 67, 0.3), 0 1px 3px 1px rgba(60, 64, 67, 0.15);\n",
              "    fill: var(--button-hover-fill-color);\n",
              "  }\n",
              "\n",
              "  .colab-df-quickchart-complete:disabled,\n",
              "  .colab-df-quickchart-complete:disabled:hover {\n",
              "    background-color: var(--disabled-bg-color);\n",
              "    fill: var(--disabled-fill-color);\n",
              "    box-shadow: none;\n",
              "  }\n",
              "\n",
              "  .colab-df-spinner {\n",
              "    border: 2px solid var(--fill-color);\n",
              "    border-color: transparent;\n",
              "    border-bottom-color: var(--fill-color);\n",
              "    animation:\n",
              "      spin 1s steps(1) infinite;\n",
              "  }\n",
              "\n",
              "  @keyframes spin {\n",
              "    0% {\n",
              "      border-color: transparent;\n",
              "      border-bottom-color: var(--fill-color);\n",
              "      border-left-color: var(--fill-color);\n",
              "    }\n",
              "    20% {\n",
              "      border-color: transparent;\n",
              "      border-left-color: var(--fill-color);\n",
              "      border-top-color: var(--fill-color);\n",
              "    }\n",
              "    30% {\n",
              "      border-color: transparent;\n",
              "      border-left-color: var(--fill-color);\n",
              "      border-top-color: var(--fill-color);\n",
              "      border-right-color: var(--fill-color);\n",
              "    }\n",
              "    40% {\n",
              "      border-color: transparent;\n",
              "      border-right-color: var(--fill-color);\n",
              "      border-top-color: var(--fill-color);\n",
              "    }\n",
              "    60% {\n",
              "      border-color: transparent;\n",
              "      border-right-color: var(--fill-color);\n",
              "    }\n",
              "    80% {\n",
              "      border-color: transparent;\n",
              "      border-right-color: var(--fill-color);\n",
              "      border-bottom-color: var(--fill-color);\n",
              "    }\n",
              "    90% {\n",
              "      border-color: transparent;\n",
              "      border-bottom-color: var(--fill-color);\n",
              "    }\n",
              "  }\n",
              "</style>\n",
              "\n",
              "  <script>\n",
              "    async function quickchart(key) {\n",
              "      const quickchartButtonEl =\n",
              "        document.querySelector('#' + key + ' button');\n",
              "      quickchartButtonEl.disabled = true;  // To prevent multiple clicks.\n",
              "      quickchartButtonEl.classList.add('colab-df-spinner');\n",
              "      try {\n",
              "        const charts = await google.colab.kernel.invokeFunction(\n",
              "            'suggestCharts', [key], {});\n",
              "      } catch (error) {\n",
              "        console.error('Error during call to suggestCharts:', error);\n",
              "      }\n",
              "      quickchartButtonEl.classList.remove('colab-df-spinner');\n",
              "      quickchartButtonEl.classList.add('colab-df-quickchart-complete');\n",
              "    }\n",
              "    (() => {\n",
              "      let quickchartButtonEl =\n",
              "        document.querySelector('#df-6909e0cb-6888-4aa4-9203-deb7e7f4fbd7 button');\n",
              "      quickchartButtonEl.style.display =\n",
              "        google.colab.kernel.accessAllowed ? 'block' : 'none';\n",
              "    })();\n",
              "  </script>\n",
              "</div>\n",
              "    </div>\n",
              "  </div>\n"
            ]
          },
          "metadata": {},
          "execution_count": 125
        }
      ]
    },
    {
      "cell_type": "code",
      "source": [
        "topic_model_kmeans.visualize_topics()"
      ],
      "metadata": {
        "id": "Gnc8GeWiIB36",
        "outputId": "ff00836e-2a83-422f-efa7-6c2f53e56a9a",
        "colab": {
          "base_uri": "https://localhost:8080/",
          "height": 752
        }
      },
      "execution_count": 126,
      "outputs": [
        {
          "output_type": "stream",
          "name": "stderr",
          "text": [
            "/usr/local/lib/python3.10/dist-packages/ipykernel/ipkernel.py:283: DeprecationWarning:\n",
            "\n",
            "`should_run_async` will not call `transform_cell` automatically in the future. Please pass the result to `transformed_cell` argument and any exception that happen during thetransform in `preprocessing_exc_tuple` in IPython 7.17 and above.\n",
            "\n"
          ]
        },
        {
          "output_type": "display_data",
          "data": {
            "text/html": [
              "<html>\n",
              "<head><meta charset=\"utf-8\" /></head>\n",
              "<body>\n",
              "    <div>            <script src=\"https://cdnjs.cloudflare.com/ajax/libs/mathjax/2.7.5/MathJax.js?config=TeX-AMS-MML_SVG\"></script><script type=\"text/javascript\">if (window.MathJax && window.MathJax.Hub && window.MathJax.Hub.Config) {window.MathJax.Hub.Config({SVG: {font: \"STIX-Web\"}});}</script>                <script type=\"text/javascript\">window.PlotlyConfig = {MathJaxConfig: 'local'};</script>\n",
              "        <script charset=\"utf-8\" src=\"https://cdn.plot.ly/plotly-2.24.1.min.js\"></script>                <div id=\"5abfb03a-3fce-470a-b0ca-ed1630908cdf\" class=\"plotly-graph-div\" style=\"height:650px; width:650px;\"></div>            <script type=\"text/javascript\">                                    window.PLOTLYENV=window.PLOTLYENV || {};                                    if (document.getElementById(\"5abfb03a-3fce-470a-b0ca-ed1630908cdf\")) {                    Plotly.newPlot(                        \"5abfb03a-3fce-470a-b0ca-ed1630908cdf\",                        [{\"customdata\":[[0,\"\\u043d\\u0430 | \\u043f\\u043e | \\u0447\\u0442\\u043e | \\u0433\\u043e\\u0434\\u0430 | \\u043f\\u0440\\u043e\\u0446\\u0435\\u043d\\u0442\\u0430\",809],[1,\"\\u043d\\u0430 | \\u0447\\u0442\\u043e | \\u043f\\u043e | \\u043d\\u0435 | \\u0440\\u043e\\u0441\\u0441\\u0438\\u0438\",735],[2,\"\\u043d\\u0430 | \\u043f\\u043e | \\u0441\\u0431\\u043e\\u0440\\u043d\\u043e\\u0439 | \\u043c\\u0438\\u0440\\u0430 | \\u0447\\u0442\\u043e\",626],[3,\"\\u043d\\u0430 | \\u043f\\u043e | \\u0447\\u0442\\u043e | \\u0438\\u0437 | \\u043d\\u0435\",614],[4,\"\\u043d\\u0430 | \\u0447\\u0442\\u043e | \\u043f\\u043e | \\u043d\\u0435 | \\u043a\\u0430\\u043a\",457],[5,\"\\u043f\\u043e | \\u0447\\u0442\\u043e | \\u043d\\u0430 | \\u043d\\u0435 | \\u0441\\u0443\\u0434\",447],[6,\"\\u043d\\u0430 | \\u043f\\u043e | \\u0438\\u0437 | \\u0447\\u0435\\u043b\\u043e\\u0432\\u0435\\u043a | \\u0440\\u0435\\u0437\\u0443\\u043b\\u044c\\u0442\\u0430\\u0442\\u0435\",385],[7,\"\\u0441\\u0448\\u0430 | \\u0447\\u0442\\u043e | \\u043d\\u0430 | \\u043f\\u043e | \\u043d\\u0435\",370],[8,\"\\u043d\\u0430 | \\u0430\\u043b\\u044c | \\u0447\\u0442\\u043e | \\u043f\\u043e | \\u0438\\u0437\",345],[9,\"\\u043d\\u0430 | \\u0447\\u0442\\u043e | \\u043f\\u043e | \\u0438\\u0437 | \\u0441\\u0430\\u043c\\u043e\\u043b\\u0435\\u0442\",212]],\"hovertemplate\":\"\\u003cb\\u003eTopic %{customdata[0]}\\u003c\\u002fb\\u003e\\u003cbr\\u003e%{customdata[1]}\\u003cbr\\u003eSize: %{customdata[2]}\",\"legendgroup\":\"\",\"marker\":{\"color\":\"#B0BEC5\",\"size\":[809,735,626,614,457,447,385,370,345,212],\"sizemode\":\"area\",\"sizeref\":0.505625,\"symbol\":\"circle\",\"line\":{\"color\":\"DarkSlateGrey\",\"width\":2}},\"mode\":\"markers\",\"name\":\"\",\"orientation\":\"v\",\"showlegend\":false,\"x\":[16.97047996520996,16.974193572998047,17.41990089416504,0.9179572463035583,18.182832717895508,1.1876105070114136,0.629634439945221,20.80906105041504,21.10048484802246,0.01768319308757782],\"xaxis\":\"x\",\"y\":[15.378011703491211,15.972246170043945,15.995694160461426,6.0348005294799805,15.42418098449707,5.619076728820801,6.5904107093811035,-7.055052280426025,-7.3910675048828125,6.536862373352051],\"yaxis\":\"y\",\"type\":\"scatter\"}],                        {\"template\":{\"data\":{\"barpolar\":[{\"marker\":{\"line\":{\"color\":\"white\",\"width\":0.5},\"pattern\":{\"fillmode\":\"overlay\",\"size\":10,\"solidity\":0.2}},\"type\":\"barpolar\"}],\"bar\":[{\"error_x\":{\"color\":\"rgb(36,36,36)\"},\"error_y\":{\"color\":\"rgb(36,36,36)\"},\"marker\":{\"line\":{\"color\":\"white\",\"width\":0.5},\"pattern\":{\"fillmode\":\"overlay\",\"size\":10,\"solidity\":0.2}},\"type\":\"bar\"}],\"carpet\":[{\"aaxis\":{\"endlinecolor\":\"rgb(36,36,36)\",\"gridcolor\":\"white\",\"linecolor\":\"white\",\"minorgridcolor\":\"white\",\"startlinecolor\":\"rgb(36,36,36)\"},\"baxis\":{\"endlinecolor\":\"rgb(36,36,36)\",\"gridcolor\":\"white\",\"linecolor\":\"white\",\"minorgridcolor\":\"white\",\"startlinecolor\":\"rgb(36,36,36)\"},\"type\":\"carpet\"}],\"choropleth\":[{\"colorbar\":{\"outlinewidth\":1,\"tickcolor\":\"rgb(36,36,36)\",\"ticks\":\"outside\"},\"type\":\"choropleth\"}],\"contourcarpet\":[{\"colorbar\":{\"outlinewidth\":1,\"tickcolor\":\"rgb(36,36,36)\",\"ticks\":\"outside\"},\"type\":\"contourcarpet\"}],\"contour\":[{\"colorbar\":{\"outlinewidth\":1,\"tickcolor\":\"rgb(36,36,36)\",\"ticks\":\"outside\"},\"colorscale\":[[0.0,\"#440154\"],[0.1111111111111111,\"#482878\"],[0.2222222222222222,\"#3e4989\"],[0.3333333333333333,\"#31688e\"],[0.4444444444444444,\"#26828e\"],[0.5555555555555556,\"#1f9e89\"],[0.6666666666666666,\"#35b779\"],[0.7777777777777778,\"#6ece58\"],[0.8888888888888888,\"#b5de2b\"],[1.0,\"#fde725\"]],\"type\":\"contour\"}],\"heatmapgl\":[{\"colorbar\":{\"outlinewidth\":1,\"tickcolor\":\"rgb(36,36,36)\",\"ticks\":\"outside\"},\"colorscale\":[[0.0,\"#440154\"],[0.1111111111111111,\"#482878\"],[0.2222222222222222,\"#3e4989\"],[0.3333333333333333,\"#31688e\"],[0.4444444444444444,\"#26828e\"],[0.5555555555555556,\"#1f9e89\"],[0.6666666666666666,\"#35b779\"],[0.7777777777777778,\"#6ece58\"],[0.8888888888888888,\"#b5de2b\"],[1.0,\"#fde725\"]],\"type\":\"heatmapgl\"}],\"heatmap\":[{\"colorbar\":{\"outlinewidth\":1,\"tickcolor\":\"rgb(36,36,36)\",\"ticks\":\"outside\"},\"colorscale\":[[0.0,\"#440154\"],[0.1111111111111111,\"#482878\"],[0.2222222222222222,\"#3e4989\"],[0.3333333333333333,\"#31688e\"],[0.4444444444444444,\"#26828e\"],[0.5555555555555556,\"#1f9e89\"],[0.6666666666666666,\"#35b779\"],[0.7777777777777778,\"#6ece58\"],[0.8888888888888888,\"#b5de2b\"],[1.0,\"#fde725\"]],\"type\":\"heatmap\"}],\"histogram2dcontour\":[{\"colorbar\":{\"outlinewidth\":1,\"tickcolor\":\"rgb(36,36,36)\",\"ticks\":\"outside\"},\"colorscale\":[[0.0,\"#440154\"],[0.1111111111111111,\"#482878\"],[0.2222222222222222,\"#3e4989\"],[0.3333333333333333,\"#31688e\"],[0.4444444444444444,\"#26828e\"],[0.5555555555555556,\"#1f9e89\"],[0.6666666666666666,\"#35b779\"],[0.7777777777777778,\"#6ece58\"],[0.8888888888888888,\"#b5de2b\"],[1.0,\"#fde725\"]],\"type\":\"histogram2dcontour\"}],\"histogram2d\":[{\"colorbar\":{\"outlinewidth\":1,\"tickcolor\":\"rgb(36,36,36)\",\"ticks\":\"outside\"},\"colorscale\":[[0.0,\"#440154\"],[0.1111111111111111,\"#482878\"],[0.2222222222222222,\"#3e4989\"],[0.3333333333333333,\"#31688e\"],[0.4444444444444444,\"#26828e\"],[0.5555555555555556,\"#1f9e89\"],[0.6666666666666666,\"#35b779\"],[0.7777777777777778,\"#6ece58\"],[0.8888888888888888,\"#b5de2b\"],[1.0,\"#fde725\"]],\"type\":\"histogram2d\"}],\"histogram\":[{\"marker\":{\"line\":{\"color\":\"white\",\"width\":0.6}},\"type\":\"histogram\"}],\"mesh3d\":[{\"colorbar\":{\"outlinewidth\":1,\"tickcolor\":\"rgb(36,36,36)\",\"ticks\":\"outside\"},\"type\":\"mesh3d\"}],\"parcoords\":[{\"line\":{\"colorbar\":{\"outlinewidth\":1,\"tickcolor\":\"rgb(36,36,36)\",\"ticks\":\"outside\"}},\"type\":\"parcoords\"}],\"pie\":[{\"automargin\":true,\"type\":\"pie\"}],\"scatter3d\":[{\"line\":{\"colorbar\":{\"outlinewidth\":1,\"tickcolor\":\"rgb(36,36,36)\",\"ticks\":\"outside\"}},\"marker\":{\"colorbar\":{\"outlinewidth\":1,\"tickcolor\":\"rgb(36,36,36)\",\"ticks\":\"outside\"}},\"type\":\"scatter3d\"}],\"scattercarpet\":[{\"marker\":{\"colorbar\":{\"outlinewidth\":1,\"tickcolor\":\"rgb(36,36,36)\",\"ticks\":\"outside\"}},\"type\":\"scattercarpet\"}],\"scattergeo\":[{\"marker\":{\"colorbar\":{\"outlinewidth\":1,\"tickcolor\":\"rgb(36,36,36)\",\"ticks\":\"outside\"}},\"type\":\"scattergeo\"}],\"scattergl\":[{\"marker\":{\"colorbar\":{\"outlinewidth\":1,\"tickcolor\":\"rgb(36,36,36)\",\"ticks\":\"outside\"}},\"type\":\"scattergl\"}],\"scattermapbox\":[{\"marker\":{\"colorbar\":{\"outlinewidth\":1,\"tickcolor\":\"rgb(36,36,36)\",\"ticks\":\"outside\"}},\"type\":\"scattermapbox\"}],\"scatterpolargl\":[{\"marker\":{\"colorbar\":{\"outlinewidth\":1,\"tickcolor\":\"rgb(36,36,36)\",\"ticks\":\"outside\"}},\"type\":\"scatterpolargl\"}],\"scatterpolar\":[{\"marker\":{\"colorbar\":{\"outlinewidth\":1,\"tickcolor\":\"rgb(36,36,36)\",\"ticks\":\"outside\"}},\"type\":\"scatterpolar\"}],\"scatter\":[{\"fillpattern\":{\"fillmode\":\"overlay\",\"size\":10,\"solidity\":0.2},\"type\":\"scatter\"}],\"scatterternary\":[{\"marker\":{\"colorbar\":{\"outlinewidth\":1,\"tickcolor\":\"rgb(36,36,36)\",\"ticks\":\"outside\"}},\"type\":\"scatterternary\"}],\"surface\":[{\"colorbar\":{\"outlinewidth\":1,\"tickcolor\":\"rgb(36,36,36)\",\"ticks\":\"outside\"},\"colorscale\":[[0.0,\"#440154\"],[0.1111111111111111,\"#482878\"],[0.2222222222222222,\"#3e4989\"],[0.3333333333333333,\"#31688e\"],[0.4444444444444444,\"#26828e\"],[0.5555555555555556,\"#1f9e89\"],[0.6666666666666666,\"#35b779\"],[0.7777777777777778,\"#6ece58\"],[0.8888888888888888,\"#b5de2b\"],[1.0,\"#fde725\"]],\"type\":\"surface\"}],\"table\":[{\"cells\":{\"fill\":{\"color\":\"rgb(237,237,237)\"},\"line\":{\"color\":\"white\"}},\"header\":{\"fill\":{\"color\":\"rgb(217,217,217)\"},\"line\":{\"color\":\"white\"}},\"type\":\"table\"}]},\"layout\":{\"annotationdefaults\":{\"arrowhead\":0,\"arrowwidth\":1},\"autotypenumbers\":\"strict\",\"coloraxis\":{\"colorbar\":{\"outlinewidth\":1,\"tickcolor\":\"rgb(36,36,36)\",\"ticks\":\"outside\"}},\"colorscale\":{\"diverging\":[[0.0,\"rgb(103,0,31)\"],[0.1,\"rgb(178,24,43)\"],[0.2,\"rgb(214,96,77)\"],[0.3,\"rgb(244,165,130)\"],[0.4,\"rgb(253,219,199)\"],[0.5,\"rgb(247,247,247)\"],[0.6,\"rgb(209,229,240)\"],[0.7,\"rgb(146,197,222)\"],[0.8,\"rgb(67,147,195)\"],[0.9,\"rgb(33,102,172)\"],[1.0,\"rgb(5,48,97)\"]],\"sequential\":[[0.0,\"#440154\"],[0.1111111111111111,\"#482878\"],[0.2222222222222222,\"#3e4989\"],[0.3333333333333333,\"#31688e\"],[0.4444444444444444,\"#26828e\"],[0.5555555555555556,\"#1f9e89\"],[0.6666666666666666,\"#35b779\"],[0.7777777777777778,\"#6ece58\"],[0.8888888888888888,\"#b5de2b\"],[1.0,\"#fde725\"]],\"sequentialminus\":[[0.0,\"#440154\"],[0.1111111111111111,\"#482878\"],[0.2222222222222222,\"#3e4989\"],[0.3333333333333333,\"#31688e\"],[0.4444444444444444,\"#26828e\"],[0.5555555555555556,\"#1f9e89\"],[0.6666666666666666,\"#35b779\"],[0.7777777777777778,\"#6ece58\"],[0.8888888888888888,\"#b5de2b\"],[1.0,\"#fde725\"]]},\"colorway\":[\"#1F77B4\",\"#FF7F0E\",\"#2CA02C\",\"#D62728\",\"#9467BD\",\"#8C564B\",\"#E377C2\",\"#7F7F7F\",\"#BCBD22\",\"#17BECF\"],\"font\":{\"color\":\"rgb(36,36,36)\"},\"geo\":{\"bgcolor\":\"white\",\"lakecolor\":\"white\",\"landcolor\":\"white\",\"showlakes\":true,\"showland\":true,\"subunitcolor\":\"white\"},\"hoverlabel\":{\"align\":\"left\"},\"hovermode\":\"closest\",\"mapbox\":{\"style\":\"light\"},\"paper_bgcolor\":\"white\",\"plot_bgcolor\":\"white\",\"polar\":{\"angularaxis\":{\"gridcolor\":\"rgb(232,232,232)\",\"linecolor\":\"rgb(36,36,36)\",\"showgrid\":false,\"showline\":true,\"ticks\":\"outside\"},\"bgcolor\":\"white\",\"radialaxis\":{\"gridcolor\":\"rgb(232,232,232)\",\"linecolor\":\"rgb(36,36,36)\",\"showgrid\":false,\"showline\":true,\"ticks\":\"outside\"}},\"scene\":{\"xaxis\":{\"backgroundcolor\":\"white\",\"gridcolor\":\"rgb(232,232,232)\",\"gridwidth\":2,\"linecolor\":\"rgb(36,36,36)\",\"showbackground\":true,\"showgrid\":false,\"showline\":true,\"ticks\":\"outside\",\"zeroline\":false,\"zerolinecolor\":\"rgb(36,36,36)\"},\"yaxis\":{\"backgroundcolor\":\"white\",\"gridcolor\":\"rgb(232,232,232)\",\"gridwidth\":2,\"linecolor\":\"rgb(36,36,36)\",\"showbackground\":true,\"showgrid\":false,\"showline\":true,\"ticks\":\"outside\",\"zeroline\":false,\"zerolinecolor\":\"rgb(36,36,36)\"},\"zaxis\":{\"backgroundcolor\":\"white\",\"gridcolor\":\"rgb(232,232,232)\",\"gridwidth\":2,\"linecolor\":\"rgb(36,36,36)\",\"showbackground\":true,\"showgrid\":false,\"showline\":true,\"ticks\":\"outside\",\"zeroline\":false,\"zerolinecolor\":\"rgb(36,36,36)\"}},\"shapedefaults\":{\"fillcolor\":\"black\",\"line\":{\"width\":0},\"opacity\":0.3},\"ternary\":{\"aaxis\":{\"gridcolor\":\"rgb(232,232,232)\",\"linecolor\":\"rgb(36,36,36)\",\"showgrid\":false,\"showline\":true,\"ticks\":\"outside\"},\"baxis\":{\"gridcolor\":\"rgb(232,232,232)\",\"linecolor\":\"rgb(36,36,36)\",\"showgrid\":false,\"showline\":true,\"ticks\":\"outside\"},\"bgcolor\":\"white\",\"caxis\":{\"gridcolor\":\"rgb(232,232,232)\",\"linecolor\":\"rgb(36,36,36)\",\"showgrid\":false,\"showline\":true,\"ticks\":\"outside\"}},\"title\":{\"x\":0.05},\"xaxis\":{\"automargin\":true,\"gridcolor\":\"rgb(232,232,232)\",\"linecolor\":\"rgb(36,36,36)\",\"showgrid\":false,\"showline\":true,\"ticks\":\"outside\",\"title\":{\"standoff\":15},\"zeroline\":false,\"zerolinecolor\":\"rgb(36,36,36)\"},\"yaxis\":{\"automargin\":true,\"gridcolor\":\"rgb(232,232,232)\",\"linecolor\":\"rgb(36,36,36)\",\"showgrid\":false,\"showline\":true,\"ticks\":\"outside\",\"title\":{\"standoff\":15},\"zeroline\":false,\"zerolinecolor\":\"rgb(36,36,36)\"}}},\"xaxis\":{\"anchor\":\"y\",\"domain\":[0.0,1.0],\"title\":{\"text\":\"\"},\"visible\":false,\"range\":[0.015030714124441147,24.26555757522583]},\"yaxis\":{\"anchor\":\"x\",\"domain\":[0.0,1.0],\"title\":{\"text\":\"\"},\"visible\":false,\"range\":[-8.499727630615235,18.39504828453064]},\"legend\":{\"tracegroupgap\":0,\"itemsizing\":\"constant\"},\"margin\":{\"t\":60},\"title\":{\"font\":{\"size\":22,\"color\":\"Black\"},\"text\":\"\\u003cb\\u003eIntertopic Distance Map\\u003c\\u002fb\\u003e\",\"y\":0.95,\"x\":0.5,\"xanchor\":\"center\",\"yanchor\":\"top\"},\"hoverlabel\":{\"font\":{\"size\":16,\"family\":\"Rockwell\"},\"bgcolor\":\"white\"},\"width\":650,\"height\":650,\"sliders\":[{\"active\":0,\"pad\":{\"t\":50},\"steps\":[{\"args\":[{\"marker.color\":[[\"red\",\"#B0BEC5\",\"#B0BEC5\",\"#B0BEC5\",\"#B0BEC5\",\"#B0BEC5\",\"#B0BEC5\",\"#B0BEC5\",\"#B0BEC5\",\"#B0BEC5\"]]}],\"label\":\"Topic 0\",\"method\":\"update\"},{\"args\":[{\"marker.color\":[[\"#B0BEC5\",\"red\",\"#B0BEC5\",\"#B0BEC5\",\"#B0BEC5\",\"#B0BEC5\",\"#B0BEC5\",\"#B0BEC5\",\"#B0BEC5\",\"#B0BEC5\"]]}],\"label\":\"Topic 1\",\"method\":\"update\"},{\"args\":[{\"marker.color\":[[\"#B0BEC5\",\"#B0BEC5\",\"red\",\"#B0BEC5\",\"#B0BEC5\",\"#B0BEC5\",\"#B0BEC5\",\"#B0BEC5\",\"#B0BEC5\",\"#B0BEC5\"]]}],\"label\":\"Topic 2\",\"method\":\"update\"},{\"args\":[{\"marker.color\":[[\"#B0BEC5\",\"#B0BEC5\",\"#B0BEC5\",\"red\",\"#B0BEC5\",\"#B0BEC5\",\"#B0BEC5\",\"#B0BEC5\",\"#B0BEC5\",\"#B0BEC5\"]]}],\"label\":\"Topic 3\",\"method\":\"update\"},{\"args\":[{\"marker.color\":[[\"#B0BEC5\",\"#B0BEC5\",\"#B0BEC5\",\"#B0BEC5\",\"red\",\"#B0BEC5\",\"#B0BEC5\",\"#B0BEC5\",\"#B0BEC5\",\"#B0BEC5\"]]}],\"label\":\"Topic 4\",\"method\":\"update\"},{\"args\":[{\"marker.color\":[[\"#B0BEC5\",\"#B0BEC5\",\"#B0BEC5\",\"#B0BEC5\",\"#B0BEC5\",\"red\",\"#B0BEC5\",\"#B0BEC5\",\"#B0BEC5\",\"#B0BEC5\"]]}],\"label\":\"Topic 5\",\"method\":\"update\"},{\"args\":[{\"marker.color\":[[\"#B0BEC5\",\"#B0BEC5\",\"#B0BEC5\",\"#B0BEC5\",\"#B0BEC5\",\"#B0BEC5\",\"red\",\"#B0BEC5\",\"#B0BEC5\",\"#B0BEC5\"]]}],\"label\":\"Topic 6\",\"method\":\"update\"},{\"args\":[{\"marker.color\":[[\"#B0BEC5\",\"#B0BEC5\",\"#B0BEC5\",\"#B0BEC5\",\"#B0BEC5\",\"#B0BEC5\",\"#B0BEC5\",\"red\",\"#B0BEC5\",\"#B0BEC5\"]]}],\"label\":\"Topic 7\",\"method\":\"update\"},{\"args\":[{\"marker.color\":[[\"#B0BEC5\",\"#B0BEC5\",\"#B0BEC5\",\"#B0BEC5\",\"#B0BEC5\",\"#B0BEC5\",\"#B0BEC5\",\"#B0BEC5\",\"red\",\"#B0BEC5\"]]}],\"label\":\"Topic 8\",\"method\":\"update\"},{\"args\":[{\"marker.color\":[[\"#B0BEC5\",\"#B0BEC5\",\"#B0BEC5\",\"#B0BEC5\",\"#B0BEC5\",\"#B0BEC5\",\"#B0BEC5\",\"#B0BEC5\",\"#B0BEC5\",\"red\"]]}],\"label\":\"Topic 9\",\"method\":\"update\"}]}],\"shapes\":[{\"line\":{\"color\":\"#CFD8DC\",\"width\":2},\"type\":\"line\",\"x0\":12.140294144675137,\"x1\":12.140294144675137,\"y0\":-8.499727630615235,\"y1\":18.39504828453064},{\"line\":{\"color\":\"#9E9E9E\",\"width\":2},\"type\":\"line\",\"x0\":0.015030714124441147,\"x1\":24.26555757522583,\"y0\":4.947660326957702,\"y1\":4.947660326957702}],\"annotations\":[{\"showarrow\":false,\"text\":\"D1\",\"x\":0.015030714124441147,\"y\":4.947660326957702,\"yshift\":10},{\"showarrow\":false,\"text\":\"D2\",\"x\":12.140294144675137,\"xshift\":10,\"y\":18.39504828453064}]},                        {\"responsive\": true}                    ).then(function(){\n",
              "                            \n",
              "var gd = document.getElementById('5abfb03a-3fce-470a-b0ca-ed1630908cdf');\n",
              "var x = new MutationObserver(function (mutations, observer) {{\n",
              "        var display = window.getComputedStyle(gd).display;\n",
              "        if (!display || display === 'none') {{\n",
              "            console.log([gd, 'removed!']);\n",
              "            Plotly.purge(gd);\n",
              "            observer.disconnect();\n",
              "        }}\n",
              "}});\n",
              "\n",
              "// Listen for the removal of the full notebook cells\n",
              "var notebookContainer = gd.closest('#notebook-container');\n",
              "if (notebookContainer) {{\n",
              "    x.observe(notebookContainer, {childList: true});\n",
              "}}\n",
              "\n",
              "// Listen for the clearing of the current output cell\n",
              "var outputEl = gd.closest('.output');\n",
              "if (outputEl) {{\n",
              "    x.observe(outputEl, {childList: true});\n",
              "}}\n",
              "\n",
              "                        })                };                            </script>        </div>\n",
              "</body>\n",
              "</html>"
            ]
          },
          "metadata": {}
        }
      ]
    },
    {
      "cell_type": "markdown",
      "source": [
        "У BERTopic есть множество модификаций, в частности, можно построить модель с учетом времени:"
      ],
      "metadata": {
        "id": "s0gMCCL0Rqjx"
      }
    },
    {
      "cell_type": "code",
      "source": [
        "timestamps = data['date'].values\n",
        "\n",
        "max(timestamps), min(timestamps)"
      ],
      "metadata": {
        "id": "NQfQ921QNOUx",
        "outputId": "f87f15e0-46cf-4689-9877-7ea69606f3b8",
        "colab": {
          "base_uri": "https://localhost:8080/"
        }
      },
      "execution_count": 130,
      "outputs": [
        {
          "output_type": "stream",
          "name": "stderr",
          "text": [
            "/usr/local/lib/python3.10/dist-packages/ipykernel/ipkernel.py:283: DeprecationWarning:\n",
            "\n",
            "`should_run_async` will not call `transform_cell` automatically in the future. Please pass the result to `transformed_cell` argument and any exception that happen during thetransform in `preprocessing_exc_tuple` in IPython 7.17 and above.\n",
            "\n"
          ]
        },
        {
          "output_type": "execute_result",
          "data": {
            "text/plain": [
              "('2018/12/13', '1999/09/13')"
            ]
          },
          "metadata": {},
          "execution_count": 130
        }
      ]
    },
    {
      "cell_type": "code",
      "source": [
        "topics_over_time = topic_model_kmeans.topics_over_time(docs, timestamps, nr_bins=10, datetime_format=\"%Y/%m/%d\")"
      ],
      "metadata": {
        "id": "KKtMzxsbNj2K",
        "outputId": "adc3e250-e079-47b9-b987-d0ace6bf9f36",
        "colab": {
          "base_uri": "https://localhost:8080/"
        }
      },
      "execution_count": 131,
      "outputs": [
        {
          "output_type": "stream",
          "name": "stderr",
          "text": [
            "10it [00:11,  1.18s/it]\n"
          ]
        }
      ]
    },
    {
      "cell_type": "code",
      "source": [
        "#help(topic_model.topics_over_time)"
      ],
      "metadata": {
        "id": "Ru0v4BIcNIgY"
      },
      "execution_count": 92,
      "outputs": []
    },
    {
      "cell_type": "code",
      "source": [
        "topic_model_kmeans.visualize_topics_over_time(topics_over_time)"
      ],
      "metadata": {
        "id": "qh2Ur82rNJoy",
        "outputId": "86af6b6c-9369-44de-ea52-137d618dadcf",
        "colab": {
          "base_uri": "https://localhost:8080/",
          "height": 467
        }
      },
      "execution_count": 132,
      "outputs": [
        {
          "output_type": "display_data",
          "data": {
            "text/html": [
              "<html>\n",
              "<head><meta charset=\"utf-8\" /></head>\n",
              "<body>\n",
              "    <div>            <script src=\"https://cdnjs.cloudflare.com/ajax/libs/mathjax/2.7.5/MathJax.js?config=TeX-AMS-MML_SVG\"></script><script type=\"text/javascript\">if (window.MathJax && window.MathJax.Hub && window.MathJax.Hub.Config) {window.MathJax.Hub.Config({SVG: {font: \"STIX-Web\"}});}</script>                <script type=\"text/javascript\">window.PlotlyConfig = {MathJaxConfig: 'local'};</script>\n",
              "        <script charset=\"utf-8\" src=\"https://cdn.plot.ly/plotly-2.24.1.min.js\"></script>                <div id=\"fd5c173a-731d-4d56-b084-72b066248dd9\" class=\"plotly-graph-div\" style=\"height:450px; width:1250px;\"></div>            <script type=\"text/javascript\">                                    window.PLOTLYENV=window.PLOTLYENV || {};                                    if (document.getElementById(\"fd5c173a-731d-4d56-b084-72b066248dd9\")) {                    Plotly.newPlot(                        \"fd5c173a-731d-4d56-b084-72b066248dd9\",                        [{\"hoverinfo\":\"text\",\"hovertext\":[\"\\u003cb\\u003eTopic 0\\u003c\\u002fb\\u003e\\u003cbr\\u003eWords: \\u043d\\u0430, \\u043f\\u043e, \\u0447\\u0442\\u043e, \\u0437\\u0430, \\u0434\\u043e\\u043b\\u043b\\u0430\\u0440\\u043e\\u0432\",\"\\u003cb\\u003eTopic 0\\u003c\\u002fb\\u003e\\u003cbr\\u003eWords: \\u043d\\u0430, \\u043f\\u043e, \\u0447\\u0442\\u043e, \\u0434\\u043e, \\u043f\\u0440\\u043e\\u0446\\u0435\\u043d\\u0442\\u0430\",\"\\u003cb\\u003eTopic 0\\u003c\\u002fb\\u003e\\u003cbr\\u003eWords: \\u043d\\u0430, \\u043f\\u043e, \\u0447\\u0442\\u043e, \\u0434\\u043e\\u043b\\u043b\\u0430\\u0440\\u043e\\u0432, \\u0437\\u0430\",\"\\u003cb\\u003eTopic 0\\u003c\\u002fb\\u003e\\u003cbr\\u003eWords: \\u043d\\u0430, \\u043f\\u043e, \\u0447\\u0442\\u043e, \\u0437\\u0430, \\u0434\\u043e\\u043b\\u043b\\u0430\\u0440\\u043e\\u0432\",\"\\u003cb\\u003eTopic 0\\u003c\\u002fb\\u003e\\u003cbr\\u003eWords: \\u043d\\u0430, \\u043f\\u0440\\u043e\\u0446\\u0435\\u043d\\u0442\\u0430, \\u043f\\u043e, \\u0434\\u043e, \\u0437\\u0430\",\"\\u003cb\\u003eTopic 0\\u003c\\u002fb\\u003e\\u003cbr\\u003eWords: \\u043d\\u0430, \\u043f\\u043e, \\u0447\\u0442\\u043e, \\u0433\\u043e\\u0434\\u0430, \\u0434\\u043e\\u043b\\u043b\\u0430\\u0440\\u043e\\u0432\",\"\\u003cb\\u003eTopic 0\\u003c\\u002fb\\u003e\\u003cbr\\u003eWords: \\u043d\\u0430, \\u043f\\u043e, \\u0447\\u0442\\u043e, \\u0433\\u043e\\u0434\\u0430, \\u043f\\u0440\\u043e\\u0446\\u0435\\u043d\\u0442\\u0430\",\"\\u003cb\\u003eTopic 0\\u003c\\u002fb\\u003e\\u003cbr\\u003eWords: \\u043d\\u0430, \\u043f\\u043e, \\u0447\\u0442\\u043e, \\u0433\\u043e\\u0434\\u0430, \\u0434\\u043e\",\"\\u003cb\\u003eTopic 0\\u003c\\u002fb\\u003e\\u003cbr\\u003eWords: \\u043d\\u0430, \\u043f\\u043e, \\u0447\\u0442\\u043e, \\u043f\\u0440\\u043e\\u0446\\u0435\\u043d\\u0442\\u0430, \\u0433\\u043e\\u0434\\u0430\",\"\\u003cb\\u003eTopic 0\\u003c\\u002fb\\u003e\\u003cbr\\u003eWords: \\u043d\\u0430, \\u043f\\u043e, \\u0447\\u0442\\u043e, \\u0433\\u043e\\u0434\\u0430, \\u0437\\u0430\"],\"marker\":{\"color\":\"#E69F00\"},\"mode\":\"lines\",\"name\":\"0_\\u043d\\u0430_\\u043f\\u043e_\\u0447\\u0442\\u043e_\\u0433\\u043e\\u0434\\u0430\",\"x\":[\"1999-09-05T23:15:21.600000\",\"2001-08-16T02:24:00\",\"2003-07-20T04:48:00\",\"2005-06-22T07:12:00\",\"2007-05-26T09:36:00\",\"2009-04-28T12:00:00\",\"2011-04-01T14:24:00\",\"2013-03-04T16:48:00\",\"2015-02-05T19:12:00\",\"2017-01-08T21:36:00\"],\"y\":[33,35,49,78,127,92,97,94,101,103],\"type\":\"scatter\"},{\"hoverinfo\":\"text\",\"hovertext\":[\"\\u003cb\\u003eTopic 1\\u003c\\u002fb\\u003e\\u003cbr\\u003eWords: \\u043d\\u0430, \\u0447\\u0442\\u043e, \\u043f\\u043e, \\u043d\\u0435, \\u0440\\u043e\\u0441\\u0441\\u0438\\u0438\",\"\\u003cb\\u003eTopic 1\\u003c\\u002fb\\u003e\\u003cbr\\u003eWords: \\u043d\\u0430, \\u0447\\u0442\\u043e, \\u043f\\u043e, \\u043d\\u0435, \\u0440\\u043e\\u0441\\u0441\\u0438\\u0438\",\"\\u003cb\\u003eTopic 1\\u003c\\u002fb\\u003e\\u003cbr\\u003eWords: \\u043d\\u0430, \\u0447\\u0442\\u043e, \\u043d\\u0435, \\u043f\\u043e, \\u0440\\u043e\\u0441\\u0441\\u0438\\u0438\",\"\\u003cb\\u003eTopic 1\\u003c\\u002fb\\u003e\\u003cbr\\u003eWords: \\u043d\\u0430, \\u0447\\u0442\\u043e, \\u043f\\u043e, \\u043d\\u0435, \\u0440\\u043e\\u0441\\u0441\\u0438\\u0438\",\"\\u003cb\\u003eTopic 1\\u003c\\u002fb\\u003e\\u003cbr\\u003eWords: \\u043d\\u0430, \\u0447\\u0442\\u043e, \\u043f\\u043e, \\u043d\\u0435, \\u0440\\u043e\\u0441\\u0441\\u0438\\u0438\",\"\\u003cb\\u003eTopic 1\\u003c\\u002fb\\u003e\\u003cbr\\u003eWords: \\u043d\\u0430, \\u0447\\u0442\\u043e, \\u043f\\u043e, \\u043d\\u0435, \\u0440\\u043e\\u0441\\u0441\\u0438\\u0438\",\"\\u003cb\\u003eTopic 1\\u003c\\u002fb\\u003e\\u003cbr\\u003eWords: \\u043d\\u0430, \\u0447\\u0442\\u043e, \\u043f\\u043e, \\u043d\\u0435, \\u0440\\u043e\\u0441\\u0441\\u0438\\u0438\",\"\\u003cb\\u003eTopic 1\\u003c\\u002fb\\u003e\\u003cbr\\u003eWords: \\u043d\\u0430, \\u043f\\u043e, \\u0447\\u0442\\u043e, \\u043d\\u0435, \\u0440\\u043e\\u0441\\u0441\\u0438\\u0438\",\"\\u003cb\\u003eTopic 1\\u003c\\u002fb\\u003e\\u003cbr\\u003eWords: \\u043d\\u0430, \\u0447\\u0442\\u043e, \\u043f\\u043e, \\u043d\\u0435, \\u0440\\u043e\\u0441\\u0441\\u0438\\u0438\",\"\\u003cb\\u003eTopic 1\\u003c\\u002fb\\u003e\\u003cbr\\u003eWords: \\u043d\\u0430, \\u0447\\u0442\\u043e, \\u043d\\u0435, \\u043f\\u043e, \\u0440\\u043e\\u0441\\u0441\\u0438\\u0438\"],\"marker\":{\"color\":\"#56B4E9\"},\"mode\":\"lines\",\"name\":\"1_\\u043d\\u0430_\\u0447\\u0442\\u043e_\\u043f\\u043e_\\u043d\\u0435\",\"x\":[\"1999-09-05T23:15:21.600000\",\"2001-08-16T02:24:00\",\"2003-07-20T04:48:00\",\"2005-06-22T07:12:00\",\"2007-05-26T09:36:00\",\"2009-04-28T12:00:00\",\"2011-04-01T14:24:00\",\"2013-03-04T16:48:00\",\"2015-02-05T19:12:00\",\"2017-01-08T21:36:00\"],\"y\":[61,47,74,66,80,76,90,58,80,103],\"type\":\"scatter\"},{\"hoverinfo\":\"text\",\"hovertext\":[\"\\u003cb\\u003eTopic 2\\u003c\\u002fb\\u003e\\u003cbr\\u003eWords: \\u043d\\u0430, \\u043d\\u0435, \\u0438\\u0437, \\u043f\\u043e, \\u043c\\u0430\\u0442\\u0447\\u0430\",\"\\u003cb\\u003eTopic 2\\u003c\\u002fb\\u003e\\u003cbr\\u003eWords: \\u043d\\u0430, \\u043f\\u043e, \\u0437\\u0430, \\u0441\\u043e\\u043e\\u0431\\u0449\\u0430\\u0435\\u0442, \\u043d\\u0435\",\"\\u003cb\\u003eTopic 2\\u003c\\u002fb\\u003e\\u003cbr\\u003eWords: \\u043d\\u0430, \\u0441\\u0431\\u043e\\u0440\\u043d\\u043e\\u0439, \\u043d\\u0435, \\u043c\\u0438\\u0440\\u0430, \\u043f\\u043e\",\"\\u003cb\\u003eTopic 2\\u003c\\u002fb\\u003e\\u003cbr\\u003eWords: \\u043d\\u0430, \\u0447\\u0442\\u043e, \\u043d\\u0435, \\u043f\\u043e, \\u043c\\u0438\\u0440\\u0430\",\"\\u003cb\\u003eTopic 2\\u003c\\u002fb\\u003e\\u003cbr\\u003eWords: \\u043d\\u0430, \\u043f\\u043e, \\u0447\\u0442\\u043e, \\u0441\\u0431\\u043e\\u0440\\u043d\\u043e\\u0439, \\u043d\\u0435\",\"\\u003cb\\u003eTopic 2\\u003c\\u002fb\\u003e\\u003cbr\\u003eWords: \\u043d\\u0430, \\u0441\\u0431\\u043e\\u0440\\u043d\\u043e\\u0439, \\u043f\\u043e, \\u043c\\u0438\\u0440\\u0430, \\u0437\\u0430\",\"\\u003cb\\u003eTopic 2\\u003c\\u002fb\\u003e\\u003cbr\\u003eWords: \\u043d\\u0430, \\u043f\\u043e, \\u0441\\u0447\\u0435\\u0442\\u043e\\u043c, \\u0441\\u0431\\u043e\\u0440\\u043d\\u043e\\u0439, \\u0437\\u0430\",\"\\u003cb\\u003eTopic 2\\u003c\\u002fb\\u003e\\u003cbr\\u003eWords: \\u043d\\u0430, \\u043f\\u043e, \\u043c\\u0438\\u0440\\u0430, \\u0437\\u0430, \\u0441\\u0431\\u043e\\u0440\\u043d\\u043e\\u0439\",\"\\u003cb\\u003eTopic 2\\u003c\\u002fb\\u003e\\u003cbr\\u003eWords: \\u043d\\u0430, \\u043f\\u043e, \\u0437\\u0430, \\u043c\\u0438\\u0440\\u0430, \\u043d\\u0435\",\"\\u003cb\\u003eTopic 2\\u003c\\u002fb\\u003e\\u003cbr\\u003eWords: \\u043d\\u0430, \\u043c\\u0438\\u0440\\u0430, \\u043f\\u043e, \\u043d\\u0435, \\u0441\\u0431\\u043e\\u0440\\u043d\\u043e\\u0439\"],\"marker\":{\"color\":\"#009E73\"},\"mode\":\"lines\",\"name\":\"2_\\u043d\\u0430_\\u043f\\u043e_\\u0441\\u0431\\u043e\\u0440\\u043d\\u043e\\u0439_\\u043c\\u0438\\u0440\\u0430\",\"x\":[\"1999-09-05T23:15:21.600000\",\"2001-08-16T02:24:00\",\"2003-07-20T04:48:00\",\"2005-06-22T07:12:00\",\"2007-05-26T09:36:00\",\"2009-04-28T12:00:00\",\"2011-04-01T14:24:00\",\"2013-03-04T16:48:00\",\"2015-02-05T19:12:00\",\"2017-01-08T21:36:00\"],\"y\":[10,30,50,39,68,92,92,66,94,85],\"type\":\"scatter\"},{\"hoverinfo\":\"text\",\"hovertext\":[\"\\u003cb\\u003eTopic 3\\u003c\\u002fb\\u003e\\u003cbr\\u003eWords: \\u043d\\u0430, \\u043f\\u043e, \\u0438\\u0437, \\u0447\\u0442\\u043e, \\u043d\\u0435\",\"\\u003cb\\u003eTopic 3\\u003c\\u002fb\\u003e\\u003cbr\\u003eWords: \\u043f\\u043e, \\u043d\\u0430, \\u0447\\u0442\\u043e, \\u0438\\u0437, \\u043d\\u0435\",\"\\u003cb\\u003eTopic 3\\u003c\\u002fb\\u003e\\u003cbr\\u003eWords: \\u043f\\u043e, \\u043d\\u0430, \\u0447\\u0442\\u043e, \\u0438\\u0437, \\u043d\\u0435\",\"\\u003cb\\u003eTopic 3\\u003c\\u002fb\\u003e\\u003cbr\\u003eWords: \\u043d\\u0430, \\u043f\\u043e, \\u0447\\u0442\\u043e, \\u0438\\u0437, \\u043d\\u0435\",\"\\u003cb\\u003eTopic 3\\u003c\\u002fb\\u003e\\u003cbr\\u003eWords: \\u043d\\u0430, \\u043f\\u043e, \\u0447\\u0442\\u043e, \\u0438\\u0437, \\u043d\\u0435\",\"\\u003cb\\u003eTopic 3\\u003c\\u002fb\\u003e\\u003cbr\\u003eWords: \\u043d\\u0430, \\u043f\\u043e, \\u0447\\u0442\\u043e, \\u043d\\u0435, \\u0438\\u0437\",\"\\u003cb\\u003eTopic 3\\u003c\\u002fb\\u003e\\u003cbr\\u003eWords: \\u043d\\u0430, \\u043f\\u043e, \\u0447\\u0442\\u043e, \\u043d\\u0435, \\u0438\\u0437\",\"\\u003cb\\u003eTopic 3\\u003c\\u002fb\\u003e\\u003cbr\\u003eWords: \\u043d\\u0430, \\u043f\\u043e, \\u0438\\u0437, \\u0447\\u0442\\u043e, \\u043d\\u0435\",\"\\u003cb\\u003eTopic 3\\u003c\\u002fb\\u003e\\u003cbr\\u003eWords: \\u043d\\u0430, \\u043f\\u043e, \\u0438\\u0437, \\u0447\\u0442\\u043e, \\u043d\\u0435\",\"\\u003cb\\u003eTopic 3\\u003c\\u002fb\\u003e\\u003cbr\\u003eWords: \\u043d\\u0430, \\u043f\\u043e, \\u0447\\u0442\\u043e, \\u043d\\u0435, \\u0438\\u0437\"],\"marker\":{\"color\":\"#F0E442\"},\"mode\":\"lines\",\"name\":\"3_\\u043d\\u0430_\\u043f\\u043e_\\u0447\\u0442\\u043e_\\u0438\\u0437\",\"x\":[\"1999-09-05T23:15:21.600000\",\"2001-08-16T02:24:00\",\"2003-07-20T04:48:00\",\"2005-06-22T07:12:00\",\"2007-05-26T09:36:00\",\"2009-04-28T12:00:00\",\"2011-04-01T14:24:00\",\"2013-03-04T16:48:00\",\"2015-02-05T19:12:00\",\"2017-01-08T21:36:00\"],\"y\":[64,59,42,36,73,80,64,67,69,60],\"type\":\"scatter\"},{\"hoverinfo\":\"text\",\"hovertext\":[\"\\u003cb\\u003eTopic 4\\u003c\\u002fb\\u003e\\u003cbr\\u003eWords: \\u043d\\u0430, \\u0447\\u0442\\u043e, \\u043d\\u0435, \\u043f\\u043e, \\u043a\\u043e\\u043c\\u043f\\u0430\\u043d\\u0438\\u0438\",\"\\u003cb\\u003eTopic 4\\u003c\\u002fb\\u003e\\u003cbr\\u003eWords: \\u043d\\u0430, \\u0447\\u0442\\u043e, \\u043f\\u043e, \\u043d\\u0435, \\u0431\\u0443\\u0434\\u0435\\u0442\",\"\\u003cb\\u003eTopic 4\\u003c\\u002fb\\u003e\\u003cbr\\u003eWords: \\u043d\\u0430, \\u0447\\u0442\\u043e, \\u043f\\u043e, \\u043d\\u0435, \\u0434\\u043b\\u044f\",\"\\u003cb\\u003eTopic 4\\u003c\\u002fb\\u003e\\u003cbr\\u003eWords: \\u043d\\u0430, \\u0447\\u0442\\u043e, google, \\u043f\\u043e, \\u043d\\u0435\",\"\\u003cb\\u003eTopic 4\\u003c\\u002fb\\u003e\\u003cbr\\u003eWords: \\u043d\\u0430, \\u0447\\u0442\\u043e, \\u043d\\u0435, \\u043f\\u043e, \\u0434\\u043b\\u044f\",\"\\u003cb\\u003eTopic 4\\u003c\\u002fb\\u003e\\u003cbr\\u003eWords: \\u043d\\u0430, \\u0447\\u0442\\u043e, \\u043f\\u043e, \\u043d\\u0435, \\u0433\\u043e\\u0434\\u0430\",\"\\u003cb\\u003eTopic 4\\u003c\\u002fb\\u003e\\u003cbr\\u003eWords: \\u043d\\u0430, \\u0447\\u0442\\u043e, \\u043d\\u0435, \\u043f\\u043e, \\u043a\\u0430\\u043a\",\"\\u003cb\\u003eTopic 4\\u003c\\u002fb\\u003e\\u003cbr\\u003eWords: \\u043d\\u0430, \\u0447\\u0442\\u043e, \\u043f\\u043e, \\u043d\\u0435, facebook\",\"\\u003cb\\u003eTopic 4\\u003c\\u002fb\\u003e\\u003cbr\\u003eWords: \\u043d\\u0430, \\u0447\\u0442\\u043e, \\u043f\\u043e, \\u043d\\u0435, \\u0434\\u043b\\u044f\",\"\\u003cb\\u003eTopic 4\\u003c\\u002fb\\u003e\\u003cbr\\u003eWords: \\u043d\\u0430, \\u0447\\u0442\\u043e, \\u043d\\u0435, \\u043f\\u043e, \\u0438\\u0437\"],\"marker\":{\"color\":\"#D55E00\"},\"mode\":\"lines\",\"name\":\"4_\\u043d\\u0430_\\u0447\\u0442\\u043e_\\u043f\\u043e_\\u043d\\u0435\",\"x\":[\"1999-09-05T23:15:21.600000\",\"2001-08-16T02:24:00\",\"2003-07-20T04:48:00\",\"2005-06-22T07:12:00\",\"2007-05-26T09:36:00\",\"2009-04-28T12:00:00\",\"2011-04-01T14:24:00\",\"2013-03-04T16:48:00\",\"2015-02-05T19:12:00\",\"2017-01-08T21:36:00\"],\"y\":[16,16,35,25,47,51,68,44,66,89],\"type\":\"scatter\"},{\"hoverinfo\":\"text\",\"hovertext\":[\"\\u003cb\\u003eTopic 5\\u003c\\u002fb\\u003e\\u003cbr\\u003eWords: \\u043f\\u043e, \\u043d\\u0430, \\u0447\\u0442\\u043e, \\u0435\\u0433\\u043e, \\u043d\\u0435\",\"\\u003cb\\u003eTopic 5\\u003c\\u002fb\\u003e\\u003cbr\\u003eWords: \\u043f\\u043e, \\u043d\\u0430, \\u0447\\u0442\\u043e, \\u0441\\u0443\\u0434, \\u043d\\u0435\",\"\\u003cb\\u003eTopic 5\\u003c\\u002fb\\u003e\\u003cbr\\u003eWords: \\u043f\\u043e, \\u0447\\u0442\\u043e, \\u0441\\u0443\\u0434, \\u043d\\u0430, \\u043d\\u0435\",\"\\u003cb\\u003eTopic 5\\u003c\\u002fb\\u003e\\u003cbr\\u003eWords: \\u043f\\u043e, \\u0447\\u0442\\u043e, \\u043d\\u0430, \\u043d\\u0435, \\u0441\\u0443\\u0434\",\"\\u003cb\\u003eTopic 5\\u003c\\u002fb\\u003e\\u003cbr\\u003eWords: \\u043f\\u043e, \\u0447\\u0442\\u043e, \\u043d\\u0430, \\u0441\\u0443\\u0434, \\u043d\\u0435\",\"\\u003cb\\u003eTopic 5\\u003c\\u002fb\\u003e\\u003cbr\\u003eWords: \\u043f\\u043e, \\u0447\\u0442\\u043e, \\u043d\\u0430, \\u043d\\u0435, \\u0441\\u0443\\u0434\",\"\\u003cb\\u003eTopic 5\\u003c\\u002fb\\u003e\\u003cbr\\u003eWords: \\u043f\\u043e, \\u0447\\u0442\\u043e, \\u043d\\u0430, \\u043d\\u0435, \\u0435\\u0433\\u043e\",\"\\u003cb\\u003eTopic 5\\u003c\\u002fb\\u003e\\u003cbr\\u003eWords: \\u043f\\u043e, \\u043d\\u0430, \\u0447\\u0442\\u043e, \\u043d\\u0435, \\u0441\\u0443\\u0434\",\"\\u003cb\\u003eTopic 5\\u003c\\u002fb\\u003e\\u003cbr\\u003eWords: \\u043d\\u0430, \\u043f\\u043e, \\u0447\\u0442\\u043e, \\u0441\\u0443\\u0434, \\u043d\\u0435\",\"\\u003cb\\u003eTopic 5\\u003c\\u002fb\\u003e\\u003cbr\\u003eWords: \\u043f\\u043e, \\u043d\\u0430, \\u0447\\u0442\\u043e, \\u043d\\u0435, \\u0435\\u0433\\u043e\"],\"marker\":{\"color\":\"#0072B2\"},\"mode\":\"lines\",\"name\":\"5_\\u043f\\u043e_\\u0447\\u0442\\u043e_\\u043d\\u0430_\\u043d\\u0435\",\"x\":[\"1999-09-05T23:15:21.600000\",\"2001-08-16T02:24:00\",\"2003-07-20T04:48:00\",\"2005-06-22T07:12:00\",\"2007-05-26T09:36:00\",\"2009-04-28T12:00:00\",\"2011-04-01T14:24:00\",\"2013-03-04T16:48:00\",\"2015-02-05T19:12:00\",\"2017-01-08T21:36:00\"],\"y\":[24,27,36,40,56,60,81,52,29,42],\"type\":\"scatter\"},{\"hoverinfo\":\"text\",\"hovertext\":[\"\\u003cb\\u003eTopic 6\\u003c\\u002fb\\u003e\\u003cbr\\u003eWords: \\u043f\\u043e, \\u043d\\u0430, \\u0438\\u0437, \\u0432\\u0437\\u0440\\u044b\\u0432\\u0430, \\u043d\\u0435\",\"\\u003cb\\u003eTopic 6\\u003c\\u002fb\\u003e\\u003cbr\\u003eWords: \\u043d\\u0430, \\u043f\\u043e, \\u0438\\u0437, \\u0440\\u0435\\u0437\\u0443\\u043b\\u044c\\u0442\\u0430\\u0442\\u0435, \\u0447\\u0435\\u043b\\u043e\\u0432\\u0435\\u043a\",\"\\u003cb\\u003eTopic 6\\u003c\\u002fb\\u003e\\u003cbr\\u003eWords: \\u043d\\u0430, \\u043f\\u043e, \\u0438\\u0437, \\u0447\\u0435\\u043b\\u043e\\u0432\\u0435\\u043a, \\u0440\\u0435\\u0437\\u0443\\u043b\\u044c\\u0442\\u0430\\u0442\\u0435\",\"\\u003cb\\u003eTopic 6\\u003c\\u002fb\\u003e\\u003cbr\\u003eWords: \\u043f\\u043e, \\u043d\\u0430, \\u0438\\u0437, \\u0440\\u0435\\u0437\\u0443\\u043b\\u044c\\u0442\\u0430\\u0442\\u0435, \\u0447\\u0435\\u043b\\u043e\\u0432\\u0435\\u043a\",\"\\u003cb\\u003eTopic 6\\u003c\\u002fb\\u003e\\u003cbr\\u003eWords: \\u043d\\u0430, \\u043f\\u043e, \\u0438\\u0437, \\u0447\\u0435\\u043b\\u043e\\u0432\\u0435\\u043a, \\u0441\\u043e\\u043e\\u0431\\u0449\\u0430\\u0435\\u0442\",\"\\u003cb\\u003eTopic 6\\u003c\\u002fb\\u003e\\u003cbr\\u003eWords: \\u043d\\u0430, \\u043f\\u043e, \\u0447\\u0435\\u043b\\u043e\\u0432\\u0435\\u043a, \\u0440\\u0435\\u0437\\u0443\\u043b\\u044c\\u0442\\u0430\\u0442\\u0435, \\u0438\\u0437\",\"\\u003cb\\u003eTopic 6\\u003c\\u002fb\\u003e\\u003cbr\\u003eWords: \\u043d\\u0430, \\u043f\\u043e, \\u0438\\u0437, \\u0447\\u0435\\u043b\\u043e\\u0432\\u0435\\u043a, \\u0440\\u0435\\u0437\\u0443\\u043b\\u044c\\u0442\\u0430\\u0442\\u0435\",\"\\u003cb\\u003eTopic 6\\u003c\\u002fb\\u003e\\u003cbr\\u003eWords: \\u043d\\u0430, \\u043f\\u043e, \\u0438\\u0437, \\u0447\\u0435\\u043b\\u043e\\u0432\\u0435\\u043a, \\u043f\\u0440\\u043e\\u0438\\u0441\\u0448\\u0435\\u0441\\u0442\\u0432\\u0438\\u044f\",\"\\u003cb\\u003eTopic 6\\u003c\\u002fb\\u003e\\u003cbr\\u003eWords: \\u043d\\u0430, \\u043f\\u043e, \\u0438\\u0437, \\u0447\\u0435\\u043b\\u043e\\u0432\\u0435\\u043a, \\u0440\\u0435\\u0437\\u0443\\u043b\\u044c\\u0442\\u0430\\u0442\\u0435\",\"\\u003cb\\u003eTopic 6\\u003c\\u002fb\\u003e\\u003cbr\\u003eWords: \\u043d\\u0430, \\u043f\\u043e, \\u0438\\u0437, \\u0447\\u0435\\u043b\\u043e\\u0432\\u0435\\u043a, \\u0441\\u043e\\u043e\\u0431\\u0449\\u0430\\u0435\\u0442\"],\"marker\":{\"color\":\"#CC79A7\"},\"mode\":\"lines\",\"name\":\"6_\\u043d\\u0430_\\u043f\\u043e_\\u0438\\u0437_\\u0447\\u0435\\u043b\\u043e\\u0432\\u0435\\u043a\",\"x\":[\"1999-09-05T23:15:21.600000\",\"2001-08-16T02:24:00\",\"2003-07-20T04:48:00\",\"2005-06-22T07:12:00\",\"2007-05-26T09:36:00\",\"2009-04-28T12:00:00\",\"2011-04-01T14:24:00\",\"2013-03-04T16:48:00\",\"2015-02-05T19:12:00\",\"2017-01-08T21:36:00\"],\"y\":[44,30,36,46,51,35,38,23,53,29],\"type\":\"scatter\"},{\"hoverinfo\":\"text\",\"hovertext\":[\"\\u003cb\\u003eTopic 7\\u003c\\u002fb\\u003e\\u003cbr\\u003eWords: \\u0441\\u0448\\u0430, \\u043d\\u0430, \\u0447\\u0442\\u043e, \\u043d\\u0435, \\u043f\\u043e\",\"\\u003cb\\u003eTopic 7\\u003c\\u002fb\\u003e\\u003cbr\\u003eWords: \\u0441\\u0448\\u0430, \\u0447\\u0442\\u043e, \\u043d\\u0435, \\u043f\\u043e, \\u043d\\u0430\",\"\\u003cb\\u003eTopic 7\\u003c\\u002fb\\u003e\\u003cbr\\u003eWords: \\u0447\\u0442\\u043e, \\u0441\\u0448\\u0430, \\u043d\\u0430, \\u043d\\u0435, \\u043f\\u043e\",\"\\u003cb\\u003eTopic 7\\u003c\\u002fb\\u003e\\u003cbr\\u003eWords: \\u0441\\u0448\\u0430, \\u0447\\u0442\\u043e, \\u043d\\u0430, \\u043f\\u043e, \\u043d\\u0435\",\"\\u003cb\\u003eTopic 7\\u003c\\u002fb\\u003e\\u003cbr\\u003eWords: \\u0441\\u0448\\u0430, \\u0447\\u0442\\u043e, \\u043d\\u0430, \\u043d\\u0435, \\u043f\\u043e\",\"\\u003cb\\u003eTopic 7\\u003c\\u002fb\\u003e\\u003cbr\\u003eWords: \\u0441\\u0448\\u0430, \\u0447\\u0442\\u043e, \\u043d\\u0430, \\u043f\\u043e, \\u043d\\u0435\",\"\\u003cb\\u003eTopic 7\\u003c\\u002fb\\u003e\\u003cbr\\u003eWords: \\u0447\\u0442\\u043e, \\u043d\\u0430, \\u0441\\u0448\\u0430, \\u043f\\u043e, \\u043d\\u0435\",\"\\u003cb\\u003eTopic 7\\u003c\\u002fb\\u003e\\u003cbr\\u003eWords: \\u0441\\u0448\\u0430, \\u0447\\u0442\\u043e, \\u043d\\u0430, \\u043f\\u043e, \\u043d\\u0435\",\"\\u003cb\\u003eTopic 7\\u003c\\u002fb\\u003e\\u003cbr\\u003eWords: \\u0447\\u0442\\u043e, \\u0441\\u0448\\u0430, \\u043d\\u0430, \\u043f\\u043e, \\u043d\\u0435\",\"\\u003cb\\u003eTopic 7\\u003c\\u002fb\\u003e\\u003cbr\\u003eWords: \\u0441\\u0448\\u0430, \\u0447\\u0442\\u043e, \\u043d\\u0430, \\u043f\\u043e, \\u043d\\u0435\"],\"marker\":{\"color\":\"#E69F00\"},\"mode\":\"lines\",\"name\":\"7_\\u0441\\u0448\\u0430_\\u0447\\u0442\\u043e_\\u043d\\u0430_\\u043f\\u043e\",\"x\":[\"1999-09-05T23:15:21.600000\",\"2001-08-16T02:24:00\",\"2003-07-20T04:48:00\",\"2005-06-22T07:12:00\",\"2007-05-26T09:36:00\",\"2009-04-28T12:00:00\",\"2011-04-01T14:24:00\",\"2013-03-04T16:48:00\",\"2015-02-05T19:12:00\",\"2017-01-08T21:36:00\"],\"y\":[22,29,42,31,44,25,30,17,74,56],\"type\":\"scatter\"},{\"hoverinfo\":\"text\",\"hovertext\":[\"\\u003cb\\u003eTopic 8\\u003c\\u002fb\\u003e\\u003cbr\\u003eWords: \\u043d\\u0430, \\u0430\\u043b\\u044c, \\u0447\\u0442\\u043e, \\u0438\\u0437, \\u0440\\u0438\\u0434\\u0438\",\"\\u003cb\\u003eTopic 8\\u003c\\u002fb\\u003e\\u003cbr\\u003eWords: \\u0447\\u0442\\u043e, \\u043d\\u0430, \\u0430\\u043b\\u044c, \\u043f\\u043e, \\u0438\\u0437\",\"\\u003cb\\u003eTopic 8\\u003c\\u002fb\\u003e\\u003cbr\\u003eWords: \\u0430\\u043b\\u044c, \\u043d\\u0430, \\u0447\\u0442\\u043e, \\u043f\\u043e, \\u0438\\u0437\",\"\\u003cb\\u003eTopic 8\\u003c\\u002fb\\u003e\\u003cbr\\u003eWords: \\u0430\\u043b\\u044c, \\u043d\\u0430, \\u0447\\u0442\\u043e, \\u043f\\u043e, \\u0438\\u0437\",\"\\u003cb\\u003eTopic 8\\u003c\\u002fb\\u003e\\u003cbr\\u003eWords: \\u0430\\u043b\\u044c, \\u043d\\u0430, \\u0447\\u0442\\u043e, \\u043f\\u043e, \\u0438\\u0437\",\"\\u003cb\\u003eTopic 8\\u003c\\u002fb\\u003e\\u003cbr\\u003eWords: \\u043d\\u0430, \\u0447\\u0442\\u043e, \\u0430\\u043b\\u044c, \\u043f\\u043e, \\u0438\\u0437\",\"\\u003cb\\u003eTopic 8\\u003c\\u002fb\\u003e\\u003cbr\\u003eWords: \\u043d\\u0430, \\u0430\\u043b\\u044c, \\u0447\\u0442\\u043e, \\u043f\\u043e, \\u0438\\u0437\",\"\\u003cb\\u003eTopic 8\\u003c\\u002fb\\u003e\\u003cbr\\u003eWords: \\u043d\\u0430, \\u0430\\u043b\\u044c, \\u0447\\u0442\\u043e, \\u043f\\u043e, \\u0438\\u0437\",\"\\u003cb\\u003eTopic 8\\u003c\\u002fb\\u003e\\u003cbr\\u003eWords: \\u043d\\u0430, \\u0430\\u043b\\u044c, \\u0447\\u0442\\u043e, \\u043f\\u043e, \\u0438\\u0433\",\"\\u003cb\\u003eTopic 8\\u003c\\u002fb\\u003e\\u003cbr\\u003eWords: \\u043d\\u0430, \\u0447\\u0442\\u043e, \\u043f\\u043e, \\u0441\\u0448\\u0430, \\u0438\\u0433\"],\"marker\":{\"color\":\"#56B4E9\"},\"mode\":\"lines\",\"name\":\"8_\\u043d\\u0430_\\u0430\\u043b\\u044c_\\u0447\\u0442\\u043e_\\u043f\\u043e\",\"x\":[\"1999-09-05T23:15:21.600000\",\"2001-08-16T02:24:00\",\"2003-07-20T04:48:00\",\"2005-06-22T07:12:00\",\"2007-05-26T09:36:00\",\"2009-04-28T12:00:00\",\"2011-04-01T14:24:00\",\"2013-03-04T16:48:00\",\"2015-02-05T19:12:00\",\"2017-01-08T21:36:00\"],\"y\":[13,49,63,48,41,25,42,17,31,16],\"type\":\"scatter\"},{\"hoverinfo\":\"text\",\"hovertext\":[\"\\u003cb\\u003eTopic 9\\u003c\\u002fb\\u003e\\u003cbr\\u003eWords: \\u043d\\u0430, \\u0441\\u0430\\u043c\\u043e\\u043b\\u0435\\u0442, \\u043f\\u043e, \\u0441\\u0430\\u043c\\u043e\\u043b\\u0435\\u0442\\u0430, \\u043d\\u0435\",\"\\u003cb\\u003eTopic 9\\u003c\\u002fb\\u003e\\u003cbr\\u003eWords: \\u043d\\u0430, \\u0438\\u0437, \\u0447\\u0442\\u043e, \\u043f\\u043e, \\u0441\\u0430\\u043c\\u043e\\u043b\\u0435\\u0442\",\"\\u003cb\\u003eTopic 9\\u003c\\u002fb\\u003e\\u003cbr\\u003eWords: \\u043d\\u0430, \\u0447\\u0442\\u043e, \\u043f\\u043e, \\u043d\\u0435, \\u0438\\u0437\",\"\\u003cb\\u003eTopic 9\\u003c\\u002fb\\u003e\\u003cbr\\u003eWords: \\u043d\\u0430, \\u0447\\u0442\\u043e, \\u0438\\u0437, \\u043f\\u043e, \\u0441\\u0430\\u043c\\u043e\\u043b\\u0435\\u0442\\u0430\",\"\\u003cb\\u003eTopic 9\\u003c\\u002fb\\u003e\\u003cbr\\u003eWords: \\u043d\\u0430, \\u0441\\u0430\\u043c\\u043e\\u043b\\u0435\\u0442, \\u0447\\u0442\\u043e, \\u043f\\u043e, \\u0431\\u043e\\u0440\\u0442\\u0443\",\"\\u003cb\\u003eTopic 9\\u003c\\u002fb\\u003e\\u003cbr\\u003eWords: \\u043d\\u0430, \\u0447\\u0442\\u043e, \\u0438\\u0437, \\u043f\\u043e, \\u043d\\u0435\",\"\\u003cb\\u003eTopic 9\\u003c\\u002fb\\u003e\\u003cbr\\u003eWords: \\u043d\\u0430, \\u0441\\u0430\\u043c\\u043e\\u043b\\u0435\\u0442, \\u043f\\u043e, \\u0447\\u0442\\u043e, \\u0438\\u0437\",\"\\u003cb\\u003eTopic 9\\u003c\\u002fb\\u003e\\u003cbr\\u003eWords: \\u043d\\u0430, \\u0447\\u0442\\u043e, \\u043f\\u043e, \\u0438\\u0437, \\u0441\\u0430\\u043c\\u043e\\u043b\\u0435\\u0442\",\"\\u003cb\\u003eTopic 9\\u003c\\u002fb\\u003e\\u003cbr\\u003eWords: \\u043d\\u0430, \\u0438\\u0437, \\u0447\\u0442\\u043e, \\u0441\\u0430\\u043c\\u043e\\u043b\\u0435\\u0442, \\u043f\\u043e\",\"\\u003cb\\u003eTopic 9\\u003c\\u002fb\\u003e\\u003cbr\\u003eWords: \\u043d\\u0430, \\u0438\\u0437, \\u043f\\u043e, \\u0447\\u0442\\u043e, \\u0441\\u0430\\u043c\\u043e\\u043b\\u0435\\u0442\"],\"marker\":{\"color\":\"#009E73\"},\"mode\":\"lines\",\"name\":\"9_\\u043d\\u0430_\\u0447\\u0442\\u043e_\\u043f\\u043e_\\u0438\\u0437\",\"x\":[\"1999-09-05T23:15:21.600000\",\"2001-08-16T02:24:00\",\"2003-07-20T04:48:00\",\"2005-06-22T07:12:00\",\"2007-05-26T09:36:00\",\"2009-04-28T12:00:00\",\"2011-04-01T14:24:00\",\"2013-03-04T16:48:00\",\"2015-02-05T19:12:00\",\"2017-01-08T21:36:00\"],\"y\":[15,30,28,21,22,29,27,16,11,13],\"type\":\"scatter\"}],                        {\"template\":{\"data\":{\"barpolar\":[{\"marker\":{\"line\":{\"color\":\"white\",\"width\":0.5},\"pattern\":{\"fillmode\":\"overlay\",\"size\":10,\"solidity\":0.2}},\"type\":\"barpolar\"}],\"bar\":[{\"error_x\":{\"color\":\"rgb(36,36,36)\"},\"error_y\":{\"color\":\"rgb(36,36,36)\"},\"marker\":{\"line\":{\"color\":\"white\",\"width\":0.5},\"pattern\":{\"fillmode\":\"overlay\",\"size\":10,\"solidity\":0.2}},\"type\":\"bar\"}],\"carpet\":[{\"aaxis\":{\"endlinecolor\":\"rgb(36,36,36)\",\"gridcolor\":\"white\",\"linecolor\":\"white\",\"minorgridcolor\":\"white\",\"startlinecolor\":\"rgb(36,36,36)\"},\"baxis\":{\"endlinecolor\":\"rgb(36,36,36)\",\"gridcolor\":\"white\",\"linecolor\":\"white\",\"minorgridcolor\":\"white\",\"startlinecolor\":\"rgb(36,36,36)\"},\"type\":\"carpet\"}],\"choropleth\":[{\"colorbar\":{\"outlinewidth\":1,\"tickcolor\":\"rgb(36,36,36)\",\"ticks\":\"outside\"},\"type\":\"choropleth\"}],\"contourcarpet\":[{\"colorbar\":{\"outlinewidth\":1,\"tickcolor\":\"rgb(36,36,36)\",\"ticks\":\"outside\"},\"type\":\"contourcarpet\"}],\"contour\":[{\"colorbar\":{\"outlinewidth\":1,\"tickcolor\":\"rgb(36,36,36)\",\"ticks\":\"outside\"},\"colorscale\":[[0.0,\"#440154\"],[0.1111111111111111,\"#482878\"],[0.2222222222222222,\"#3e4989\"],[0.3333333333333333,\"#31688e\"],[0.4444444444444444,\"#26828e\"],[0.5555555555555556,\"#1f9e89\"],[0.6666666666666666,\"#35b779\"],[0.7777777777777778,\"#6ece58\"],[0.8888888888888888,\"#b5de2b\"],[1.0,\"#fde725\"]],\"type\":\"contour\"}],\"heatmapgl\":[{\"colorbar\":{\"outlinewidth\":1,\"tickcolor\":\"rgb(36,36,36)\",\"ticks\":\"outside\"},\"colorscale\":[[0.0,\"#440154\"],[0.1111111111111111,\"#482878\"],[0.2222222222222222,\"#3e4989\"],[0.3333333333333333,\"#31688e\"],[0.4444444444444444,\"#26828e\"],[0.5555555555555556,\"#1f9e89\"],[0.6666666666666666,\"#35b779\"],[0.7777777777777778,\"#6ece58\"],[0.8888888888888888,\"#b5de2b\"],[1.0,\"#fde725\"]],\"type\":\"heatmapgl\"}],\"heatmap\":[{\"colorbar\":{\"outlinewidth\":1,\"tickcolor\":\"rgb(36,36,36)\",\"ticks\":\"outside\"},\"colorscale\":[[0.0,\"#440154\"],[0.1111111111111111,\"#482878\"],[0.2222222222222222,\"#3e4989\"],[0.3333333333333333,\"#31688e\"],[0.4444444444444444,\"#26828e\"],[0.5555555555555556,\"#1f9e89\"],[0.6666666666666666,\"#35b779\"],[0.7777777777777778,\"#6ece58\"],[0.8888888888888888,\"#b5de2b\"],[1.0,\"#fde725\"]],\"type\":\"heatmap\"}],\"histogram2dcontour\":[{\"colorbar\":{\"outlinewidth\":1,\"tickcolor\":\"rgb(36,36,36)\",\"ticks\":\"outside\"},\"colorscale\":[[0.0,\"#440154\"],[0.1111111111111111,\"#482878\"],[0.2222222222222222,\"#3e4989\"],[0.3333333333333333,\"#31688e\"],[0.4444444444444444,\"#26828e\"],[0.5555555555555556,\"#1f9e89\"],[0.6666666666666666,\"#35b779\"],[0.7777777777777778,\"#6ece58\"],[0.8888888888888888,\"#b5de2b\"],[1.0,\"#fde725\"]],\"type\":\"histogram2dcontour\"}],\"histogram2d\":[{\"colorbar\":{\"outlinewidth\":1,\"tickcolor\":\"rgb(36,36,36)\",\"ticks\":\"outside\"},\"colorscale\":[[0.0,\"#440154\"],[0.1111111111111111,\"#482878\"],[0.2222222222222222,\"#3e4989\"],[0.3333333333333333,\"#31688e\"],[0.4444444444444444,\"#26828e\"],[0.5555555555555556,\"#1f9e89\"],[0.6666666666666666,\"#35b779\"],[0.7777777777777778,\"#6ece58\"],[0.8888888888888888,\"#b5de2b\"],[1.0,\"#fde725\"]],\"type\":\"histogram2d\"}],\"histogram\":[{\"marker\":{\"line\":{\"color\":\"white\",\"width\":0.6}},\"type\":\"histogram\"}],\"mesh3d\":[{\"colorbar\":{\"outlinewidth\":1,\"tickcolor\":\"rgb(36,36,36)\",\"ticks\":\"outside\"},\"type\":\"mesh3d\"}],\"parcoords\":[{\"line\":{\"colorbar\":{\"outlinewidth\":1,\"tickcolor\":\"rgb(36,36,36)\",\"ticks\":\"outside\"}},\"type\":\"parcoords\"}],\"pie\":[{\"automargin\":true,\"type\":\"pie\"}],\"scatter3d\":[{\"line\":{\"colorbar\":{\"outlinewidth\":1,\"tickcolor\":\"rgb(36,36,36)\",\"ticks\":\"outside\"}},\"marker\":{\"colorbar\":{\"outlinewidth\":1,\"tickcolor\":\"rgb(36,36,36)\",\"ticks\":\"outside\"}},\"type\":\"scatter3d\"}],\"scattercarpet\":[{\"marker\":{\"colorbar\":{\"outlinewidth\":1,\"tickcolor\":\"rgb(36,36,36)\",\"ticks\":\"outside\"}},\"type\":\"scattercarpet\"}],\"scattergeo\":[{\"marker\":{\"colorbar\":{\"outlinewidth\":1,\"tickcolor\":\"rgb(36,36,36)\",\"ticks\":\"outside\"}},\"type\":\"scattergeo\"}],\"scattergl\":[{\"marker\":{\"colorbar\":{\"outlinewidth\":1,\"tickcolor\":\"rgb(36,36,36)\",\"ticks\":\"outside\"}},\"type\":\"scattergl\"}],\"scattermapbox\":[{\"marker\":{\"colorbar\":{\"outlinewidth\":1,\"tickcolor\":\"rgb(36,36,36)\",\"ticks\":\"outside\"}},\"type\":\"scattermapbox\"}],\"scatterpolargl\":[{\"marker\":{\"colorbar\":{\"outlinewidth\":1,\"tickcolor\":\"rgb(36,36,36)\",\"ticks\":\"outside\"}},\"type\":\"scatterpolargl\"}],\"scatterpolar\":[{\"marker\":{\"colorbar\":{\"outlinewidth\":1,\"tickcolor\":\"rgb(36,36,36)\",\"ticks\":\"outside\"}},\"type\":\"scatterpolar\"}],\"scatter\":[{\"fillpattern\":{\"fillmode\":\"overlay\",\"size\":10,\"solidity\":0.2},\"type\":\"scatter\"}],\"scatterternary\":[{\"marker\":{\"colorbar\":{\"outlinewidth\":1,\"tickcolor\":\"rgb(36,36,36)\",\"ticks\":\"outside\"}},\"type\":\"scatterternary\"}],\"surface\":[{\"colorbar\":{\"outlinewidth\":1,\"tickcolor\":\"rgb(36,36,36)\",\"ticks\":\"outside\"},\"colorscale\":[[0.0,\"#440154\"],[0.1111111111111111,\"#482878\"],[0.2222222222222222,\"#3e4989\"],[0.3333333333333333,\"#31688e\"],[0.4444444444444444,\"#26828e\"],[0.5555555555555556,\"#1f9e89\"],[0.6666666666666666,\"#35b779\"],[0.7777777777777778,\"#6ece58\"],[0.8888888888888888,\"#b5de2b\"],[1.0,\"#fde725\"]],\"type\":\"surface\"}],\"table\":[{\"cells\":{\"fill\":{\"color\":\"rgb(237,237,237)\"},\"line\":{\"color\":\"white\"}},\"header\":{\"fill\":{\"color\":\"rgb(217,217,217)\"},\"line\":{\"color\":\"white\"}},\"type\":\"table\"}]},\"layout\":{\"annotationdefaults\":{\"arrowhead\":0,\"arrowwidth\":1},\"autotypenumbers\":\"strict\",\"coloraxis\":{\"colorbar\":{\"outlinewidth\":1,\"tickcolor\":\"rgb(36,36,36)\",\"ticks\":\"outside\"}},\"colorscale\":{\"diverging\":[[0.0,\"rgb(103,0,31)\"],[0.1,\"rgb(178,24,43)\"],[0.2,\"rgb(214,96,77)\"],[0.3,\"rgb(244,165,130)\"],[0.4,\"rgb(253,219,199)\"],[0.5,\"rgb(247,247,247)\"],[0.6,\"rgb(209,229,240)\"],[0.7,\"rgb(146,197,222)\"],[0.8,\"rgb(67,147,195)\"],[0.9,\"rgb(33,102,172)\"],[1.0,\"rgb(5,48,97)\"]],\"sequential\":[[0.0,\"#440154\"],[0.1111111111111111,\"#482878\"],[0.2222222222222222,\"#3e4989\"],[0.3333333333333333,\"#31688e\"],[0.4444444444444444,\"#26828e\"],[0.5555555555555556,\"#1f9e89\"],[0.6666666666666666,\"#35b779\"],[0.7777777777777778,\"#6ece58\"],[0.8888888888888888,\"#b5de2b\"],[1.0,\"#fde725\"]],\"sequentialminus\":[[0.0,\"#440154\"],[0.1111111111111111,\"#482878\"],[0.2222222222222222,\"#3e4989\"],[0.3333333333333333,\"#31688e\"],[0.4444444444444444,\"#26828e\"],[0.5555555555555556,\"#1f9e89\"],[0.6666666666666666,\"#35b779\"],[0.7777777777777778,\"#6ece58\"],[0.8888888888888888,\"#b5de2b\"],[1.0,\"#fde725\"]]},\"colorway\":[\"#1F77B4\",\"#FF7F0E\",\"#2CA02C\",\"#D62728\",\"#9467BD\",\"#8C564B\",\"#E377C2\",\"#7F7F7F\",\"#BCBD22\",\"#17BECF\"],\"font\":{\"color\":\"rgb(36,36,36)\"},\"geo\":{\"bgcolor\":\"white\",\"lakecolor\":\"white\",\"landcolor\":\"white\",\"showlakes\":true,\"showland\":true,\"subunitcolor\":\"white\"},\"hoverlabel\":{\"align\":\"left\"},\"hovermode\":\"closest\",\"mapbox\":{\"style\":\"light\"},\"paper_bgcolor\":\"white\",\"plot_bgcolor\":\"white\",\"polar\":{\"angularaxis\":{\"gridcolor\":\"rgb(232,232,232)\",\"linecolor\":\"rgb(36,36,36)\",\"showgrid\":false,\"showline\":true,\"ticks\":\"outside\"},\"bgcolor\":\"white\",\"radialaxis\":{\"gridcolor\":\"rgb(232,232,232)\",\"linecolor\":\"rgb(36,36,36)\",\"showgrid\":false,\"showline\":true,\"ticks\":\"outside\"}},\"scene\":{\"xaxis\":{\"backgroundcolor\":\"white\",\"gridcolor\":\"rgb(232,232,232)\",\"gridwidth\":2,\"linecolor\":\"rgb(36,36,36)\",\"showbackground\":true,\"showgrid\":false,\"showline\":true,\"ticks\":\"outside\",\"zeroline\":false,\"zerolinecolor\":\"rgb(36,36,36)\"},\"yaxis\":{\"backgroundcolor\":\"white\",\"gridcolor\":\"rgb(232,232,232)\",\"gridwidth\":2,\"linecolor\":\"rgb(36,36,36)\",\"showbackground\":true,\"showgrid\":false,\"showline\":true,\"ticks\":\"outside\",\"zeroline\":false,\"zerolinecolor\":\"rgb(36,36,36)\"},\"zaxis\":{\"backgroundcolor\":\"white\",\"gridcolor\":\"rgb(232,232,232)\",\"gridwidth\":2,\"linecolor\":\"rgb(36,36,36)\",\"showbackground\":true,\"showgrid\":false,\"showline\":true,\"ticks\":\"outside\",\"zeroline\":false,\"zerolinecolor\":\"rgb(36,36,36)\"}},\"shapedefaults\":{\"fillcolor\":\"black\",\"line\":{\"width\":0},\"opacity\":0.3},\"ternary\":{\"aaxis\":{\"gridcolor\":\"rgb(232,232,232)\",\"linecolor\":\"rgb(36,36,36)\",\"showgrid\":false,\"showline\":true,\"ticks\":\"outside\"},\"baxis\":{\"gridcolor\":\"rgb(232,232,232)\",\"linecolor\":\"rgb(36,36,36)\",\"showgrid\":false,\"showline\":true,\"ticks\":\"outside\"},\"bgcolor\":\"white\",\"caxis\":{\"gridcolor\":\"rgb(232,232,232)\",\"linecolor\":\"rgb(36,36,36)\",\"showgrid\":false,\"showline\":true,\"ticks\":\"outside\"}},\"title\":{\"x\":0.05},\"xaxis\":{\"automargin\":true,\"gridcolor\":\"rgb(232,232,232)\",\"linecolor\":\"rgb(36,36,36)\",\"showgrid\":false,\"showline\":true,\"ticks\":\"outside\",\"title\":{\"standoff\":15},\"zeroline\":false,\"zerolinecolor\":\"rgb(36,36,36)\"},\"yaxis\":{\"automargin\":true,\"gridcolor\":\"rgb(232,232,232)\",\"linecolor\":\"rgb(36,36,36)\",\"showgrid\":false,\"showline\":true,\"ticks\":\"outside\",\"title\":{\"standoff\":15},\"zeroline\":false,\"zerolinecolor\":\"rgb(36,36,36)\"}}},\"xaxis\":{\"showgrid\":true},\"yaxis\":{\"showgrid\":true,\"title\":{\"text\":\"Frequency\"}},\"title\":{\"font\":{\"size\":22,\"color\":\"Black\"},\"text\":\"\\u003cb\\u003eTopics over Time\\u003c\\u002fb\\u003e\",\"y\":0.95,\"x\":0.4,\"xanchor\":\"center\",\"yanchor\":\"top\"},\"hoverlabel\":{\"font\":{\"size\":16,\"family\":\"Rockwell\"},\"bgcolor\":\"white\"},\"width\":1250,\"height\":450,\"legend\":{\"title\":{\"text\":\"\\u003cb\\u003eGlobal Topic Representation\"}}},                        {\"responsive\": true}                    ).then(function(){\n",
              "                            \n",
              "var gd = document.getElementById('fd5c173a-731d-4d56-b084-72b066248dd9');\n",
              "var x = new MutationObserver(function (mutations, observer) {{\n",
              "        var display = window.getComputedStyle(gd).display;\n",
              "        if (!display || display === 'none') {{\n",
              "            console.log([gd, 'removed!']);\n",
              "            Plotly.purge(gd);\n",
              "            observer.disconnect();\n",
              "        }}\n",
              "}});\n",
              "\n",
              "// Listen for the removal of the full notebook cells\n",
              "var notebookContainer = gd.closest('#notebook-container');\n",
              "if (notebookContainer) {{\n",
              "    x.observe(notebookContainer, {childList: true});\n",
              "}}\n",
              "\n",
              "// Listen for the clearing of the current output cell\n",
              "var outputEl = gd.closest('.output');\n",
              "if (outputEl) {{\n",
              "    x.observe(outputEl, {childList: true});\n",
              "}}\n",
              "\n",
              "                        })                };                            </script>        </div>\n",
              "</body>\n",
              "</html>"
            ]
          },
          "metadata": {}
        }
      ]
    },
    {
      "cell_type": "code",
      "source": [],
      "metadata": {
        "id": "hZ7Q45RkN4sJ"
      },
      "execution_count": null,
      "outputs": []
    }
  ],
  "metadata": {
    "kernelspec": {
      "display_name": "Python 3",
      "language": "python",
      "name": "python3"
    },
    "language_info": {
      "codemirror_mode": {
        "name": "ipython",
        "version": 3
      },
      "file_extension": ".py",
      "mimetype": "text/x-python",
      "name": "python",
      "nbconvert_exporter": "python",
      "pygments_lexer": "ipython3",
      "version": "3.8.6"
    },
    "colab": {
      "provenance": [],
      "name": "topic_modelling.ipynb"
    },
    "widgets": {
      "application/vnd.jupyter.widget-state+json": {
        "1e699562ac93458a965e10ad12ab6ae2": {
          "model_module": "@jupyter-widgets/controls",
          "model_name": "HBoxModel",
          "model_module_version": "1.5.0",
          "state": {
            "_dom_classes": [],
            "_model_module": "@jupyter-widgets/controls",
            "_model_module_version": "1.5.0",
            "_model_name": "HBoxModel",
            "_view_count": null,
            "_view_module": "@jupyter-widgets/controls",
            "_view_module_version": "1.5.0",
            "_view_name": "HBoxView",
            "box_style": "",
            "children": [
              "IPY_MODEL_d338cd47de554160b0e5c35dbdf7add0",
              "IPY_MODEL_c0e1632be5874e1eab5517b3665f6b4b",
              "IPY_MODEL_3c7e897f66ea4869b5526d40d6e0b209"
            ],
            "layout": "IPY_MODEL_c18338ecfb02483584a2121018244624"
          }
        },
        "d338cd47de554160b0e5c35dbdf7add0": {
          "model_module": "@jupyter-widgets/controls",
          "model_name": "HTMLModel",
          "model_module_version": "1.5.0",
          "state": {
            "_dom_classes": [],
            "_model_module": "@jupyter-widgets/controls",
            "_model_module_version": "1.5.0",
            "_model_name": "HTMLModel",
            "_view_count": null,
            "_view_module": "@jupyter-widgets/controls",
            "_view_module_version": "1.5.0",
            "_view_name": "HTMLView",
            "description": "",
            "description_tooltip": null,
            "layout": "IPY_MODEL_ff905efd7e5948149e6829a47493a324",
            "placeholder": "​",
            "style": "IPY_MODEL_4aa3bc99a71f4e39b4dcc77e74d33be8",
            "value": "100%"
          }
        },
        "c0e1632be5874e1eab5517b3665f6b4b": {
          "model_module": "@jupyter-widgets/controls",
          "model_name": "FloatProgressModel",
          "model_module_version": "1.5.0",
          "state": {
            "_dom_classes": [],
            "_model_module": "@jupyter-widgets/controls",
            "_model_module_version": "1.5.0",
            "_model_name": "FloatProgressModel",
            "_view_count": null,
            "_view_module": "@jupyter-widgets/controls",
            "_view_module_version": "1.5.0",
            "_view_name": "ProgressView",
            "bar_style": "success",
            "description": "",
            "description_tooltip": null,
            "layout": "IPY_MODEL_533d0db129b34df78cbc5d80cd2d4e0b",
            "max": 9995,
            "min": 0,
            "orientation": "horizontal",
            "style": "IPY_MODEL_d25072a9c2e24bfbab72ef491f76894c",
            "value": 9995
          }
        },
        "3c7e897f66ea4869b5526d40d6e0b209": {
          "model_module": "@jupyter-widgets/controls",
          "model_name": "HTMLModel",
          "model_module_version": "1.5.0",
          "state": {
            "_dom_classes": [],
            "_model_module": "@jupyter-widgets/controls",
            "_model_module_version": "1.5.0",
            "_model_name": "HTMLModel",
            "_view_count": null,
            "_view_module": "@jupyter-widgets/controls",
            "_view_module_version": "1.5.0",
            "_view_name": "HTMLView",
            "description": "",
            "description_tooltip": null,
            "layout": "IPY_MODEL_64acb04fe13340d3a3fd7a2ff88f4db1",
            "placeholder": "​",
            "style": "IPY_MODEL_8351e8f34cab4e4a9211c5002f597de9",
            "value": " 9995/9995 [01:18&lt;00:00, 176.90it/s]"
          }
        },
        "c18338ecfb02483584a2121018244624": {
          "model_module": "@jupyter-widgets/base",
          "model_name": "LayoutModel",
          "model_module_version": "1.2.0",
          "state": {
            "_model_module": "@jupyter-widgets/base",
            "_model_module_version": "1.2.0",
            "_model_name": "LayoutModel",
            "_view_count": null,
            "_view_module": "@jupyter-widgets/base",
            "_view_module_version": "1.2.0",
            "_view_name": "LayoutView",
            "align_content": null,
            "align_items": null,
            "align_self": null,
            "border": null,
            "bottom": null,
            "display": null,
            "flex": null,
            "flex_flow": null,
            "grid_area": null,
            "grid_auto_columns": null,
            "grid_auto_flow": null,
            "grid_auto_rows": null,
            "grid_column": null,
            "grid_gap": null,
            "grid_row": null,
            "grid_template_areas": null,
            "grid_template_columns": null,
            "grid_template_rows": null,
            "height": null,
            "justify_content": null,
            "justify_items": null,
            "left": null,
            "margin": null,
            "max_height": null,
            "max_width": null,
            "min_height": null,
            "min_width": null,
            "object_fit": null,
            "object_position": null,
            "order": null,
            "overflow": null,
            "overflow_x": null,
            "overflow_y": null,
            "padding": null,
            "right": null,
            "top": null,
            "visibility": null,
            "width": null
          }
        },
        "ff905efd7e5948149e6829a47493a324": {
          "model_module": "@jupyter-widgets/base",
          "model_name": "LayoutModel",
          "model_module_version": "1.2.0",
          "state": {
            "_model_module": "@jupyter-widgets/base",
            "_model_module_version": "1.2.0",
            "_model_name": "LayoutModel",
            "_view_count": null,
            "_view_module": "@jupyter-widgets/base",
            "_view_module_version": "1.2.0",
            "_view_name": "LayoutView",
            "align_content": null,
            "align_items": null,
            "align_self": null,
            "border": null,
            "bottom": null,
            "display": null,
            "flex": null,
            "flex_flow": null,
            "grid_area": null,
            "grid_auto_columns": null,
            "grid_auto_flow": null,
            "grid_auto_rows": null,
            "grid_column": null,
            "grid_gap": null,
            "grid_row": null,
            "grid_template_areas": null,
            "grid_template_columns": null,
            "grid_template_rows": null,
            "height": null,
            "justify_content": null,
            "justify_items": null,
            "left": null,
            "margin": null,
            "max_height": null,
            "max_width": null,
            "min_height": null,
            "min_width": null,
            "object_fit": null,
            "object_position": null,
            "order": null,
            "overflow": null,
            "overflow_x": null,
            "overflow_y": null,
            "padding": null,
            "right": null,
            "top": null,
            "visibility": null,
            "width": null
          }
        },
        "4aa3bc99a71f4e39b4dcc77e74d33be8": {
          "model_module": "@jupyter-widgets/controls",
          "model_name": "DescriptionStyleModel",
          "model_module_version": "1.5.0",
          "state": {
            "_model_module": "@jupyter-widgets/controls",
            "_model_module_version": "1.5.0",
            "_model_name": "DescriptionStyleModel",
            "_view_count": null,
            "_view_module": "@jupyter-widgets/base",
            "_view_module_version": "1.2.0",
            "_view_name": "StyleView",
            "description_width": ""
          }
        },
        "533d0db129b34df78cbc5d80cd2d4e0b": {
          "model_module": "@jupyter-widgets/base",
          "model_name": "LayoutModel",
          "model_module_version": "1.2.0",
          "state": {
            "_model_module": "@jupyter-widgets/base",
            "_model_module_version": "1.2.0",
            "_model_name": "LayoutModel",
            "_view_count": null,
            "_view_module": "@jupyter-widgets/base",
            "_view_module_version": "1.2.0",
            "_view_name": "LayoutView",
            "align_content": null,
            "align_items": null,
            "align_self": null,
            "border": null,
            "bottom": null,
            "display": null,
            "flex": null,
            "flex_flow": null,
            "grid_area": null,
            "grid_auto_columns": null,
            "grid_auto_flow": null,
            "grid_auto_rows": null,
            "grid_column": null,
            "grid_gap": null,
            "grid_row": null,
            "grid_template_areas": null,
            "grid_template_columns": null,
            "grid_template_rows": null,
            "height": null,
            "justify_content": null,
            "justify_items": null,
            "left": null,
            "margin": null,
            "max_height": null,
            "max_width": null,
            "min_height": null,
            "min_width": null,
            "object_fit": null,
            "object_position": null,
            "order": null,
            "overflow": null,
            "overflow_x": null,
            "overflow_y": null,
            "padding": null,
            "right": null,
            "top": null,
            "visibility": null,
            "width": null
          }
        },
        "d25072a9c2e24bfbab72ef491f76894c": {
          "model_module": "@jupyter-widgets/controls",
          "model_name": "ProgressStyleModel",
          "model_module_version": "1.5.0",
          "state": {
            "_model_module": "@jupyter-widgets/controls",
            "_model_module_version": "1.5.0",
            "_model_name": "ProgressStyleModel",
            "_view_count": null,
            "_view_module": "@jupyter-widgets/base",
            "_view_module_version": "1.2.0",
            "_view_name": "StyleView",
            "bar_color": null,
            "description_width": ""
          }
        },
        "64acb04fe13340d3a3fd7a2ff88f4db1": {
          "model_module": "@jupyter-widgets/base",
          "model_name": "LayoutModel",
          "model_module_version": "1.2.0",
          "state": {
            "_model_module": "@jupyter-widgets/base",
            "_model_module_version": "1.2.0",
            "_model_name": "LayoutModel",
            "_view_count": null,
            "_view_module": "@jupyter-widgets/base",
            "_view_module_version": "1.2.0",
            "_view_name": "LayoutView",
            "align_content": null,
            "align_items": null,
            "align_self": null,
            "border": null,
            "bottom": null,
            "display": null,
            "flex": null,
            "flex_flow": null,
            "grid_area": null,
            "grid_auto_columns": null,
            "grid_auto_flow": null,
            "grid_auto_rows": null,
            "grid_column": null,
            "grid_gap": null,
            "grid_row": null,
            "grid_template_areas": null,
            "grid_template_columns": null,
            "grid_template_rows": null,
            "height": null,
            "justify_content": null,
            "justify_items": null,
            "left": null,
            "margin": null,
            "max_height": null,
            "max_width": null,
            "min_height": null,
            "min_width": null,
            "object_fit": null,
            "object_position": null,
            "order": null,
            "overflow": null,
            "overflow_x": null,
            "overflow_y": null,
            "padding": null,
            "right": null,
            "top": null,
            "visibility": null,
            "width": null
          }
        },
        "8351e8f34cab4e4a9211c5002f597de9": {
          "model_module": "@jupyter-widgets/controls",
          "model_name": "DescriptionStyleModel",
          "model_module_version": "1.5.0",
          "state": {
            "_model_module": "@jupyter-widgets/controls",
            "_model_module_version": "1.5.0",
            "_model_name": "DescriptionStyleModel",
            "_view_count": null,
            "_view_module": "@jupyter-widgets/base",
            "_view_module_version": "1.2.0",
            "_view_name": "StyleView",
            "description_width": ""
          }
        },
        "012c0cb0e99c418fa99cb6931fded127": {
          "model_module": "@jupyter-widgets/controls",
          "model_name": "HBoxModel",
          "model_module_version": "1.5.0",
          "state": {
            "_dom_classes": [],
            "_model_module": "@jupyter-widgets/controls",
            "_model_module_version": "1.5.0",
            "_model_name": "HBoxModel",
            "_view_count": null,
            "_view_module": "@jupyter-widgets/controls",
            "_view_module_version": "1.5.0",
            "_view_name": "HBoxView",
            "box_style": "",
            "children": [
              "IPY_MODEL_99aa2bd0e0554cdb96646c8c0e5d24f2",
              "IPY_MODEL_34eca91193a84cc7a7659d4adabfd0bb",
              "IPY_MODEL_4caf468ce1794834b8bb71c4cf88b380"
            ],
            "layout": "IPY_MODEL_54827cd0d096449782e0054d9297c7e7"
          }
        },
        "99aa2bd0e0554cdb96646c8c0e5d24f2": {
          "model_module": "@jupyter-widgets/controls",
          "model_name": "HTMLModel",
          "model_module_version": "1.5.0",
          "state": {
            "_dom_classes": [],
            "_model_module": "@jupyter-widgets/controls",
            "_model_module_version": "1.5.0",
            "_model_name": "HTMLModel",
            "_view_count": null,
            "_view_module": "@jupyter-widgets/controls",
            "_view_module_version": "1.5.0",
            "_view_name": "HTMLView",
            "description": "",
            "description_tooltip": null,
            "layout": "IPY_MODEL_5148aca8bf7e4253967c5b3f8eda1b67",
            "placeholder": "​",
            "style": "IPY_MODEL_4df57b9c92094c0086e64dee6e789ec1",
            "value": "100%"
          }
        },
        "34eca91193a84cc7a7659d4adabfd0bb": {
          "model_module": "@jupyter-widgets/controls",
          "model_name": "FloatProgressModel",
          "model_module_version": "1.5.0",
          "state": {
            "_dom_classes": [],
            "_model_module": "@jupyter-widgets/controls",
            "_model_module_version": "1.5.0",
            "_model_name": "FloatProgressModel",
            "_view_count": null,
            "_view_module": "@jupyter-widgets/controls",
            "_view_module_version": "1.5.0",
            "_view_name": "ProgressView",
            "bar_style": "success",
            "description": "",
            "description_tooltip": null,
            "layout": "IPY_MODEL_162c6a822f7c4640b82e048673c86842",
            "max": 5,
            "min": 0,
            "orientation": "horizontal",
            "style": "IPY_MODEL_94aeccaf61554bcfb4d5974682d25816",
            "value": 5
          }
        },
        "4caf468ce1794834b8bb71c4cf88b380": {
          "model_module": "@jupyter-widgets/controls",
          "model_name": "HTMLModel",
          "model_module_version": "1.5.0",
          "state": {
            "_dom_classes": [],
            "_model_module": "@jupyter-widgets/controls",
            "_model_module_version": "1.5.0",
            "_model_name": "HTMLModel",
            "_view_count": null,
            "_view_module": "@jupyter-widgets/controls",
            "_view_module_version": "1.5.0",
            "_view_name": "HTMLView",
            "description": "",
            "description_tooltip": null,
            "layout": "IPY_MODEL_ea135ebc6cd142ccbbe79c28490f979e",
            "placeholder": "​",
            "style": "IPY_MODEL_921875fec8884ac9a0019faf4dc65cb5",
            "value": " 5/5 [03:06&lt;00:00, 42.37s/it]"
          }
        },
        "54827cd0d096449782e0054d9297c7e7": {
          "model_module": "@jupyter-widgets/base",
          "model_name": "LayoutModel",
          "model_module_version": "1.2.0",
          "state": {
            "_model_module": "@jupyter-widgets/base",
            "_model_module_version": "1.2.0",
            "_model_name": "LayoutModel",
            "_view_count": null,
            "_view_module": "@jupyter-widgets/base",
            "_view_module_version": "1.2.0",
            "_view_name": "LayoutView",
            "align_content": null,
            "align_items": null,
            "align_self": null,
            "border": null,
            "bottom": null,
            "display": null,
            "flex": null,
            "flex_flow": null,
            "grid_area": null,
            "grid_auto_columns": null,
            "grid_auto_flow": null,
            "grid_auto_rows": null,
            "grid_column": null,
            "grid_gap": null,
            "grid_row": null,
            "grid_template_areas": null,
            "grid_template_columns": null,
            "grid_template_rows": null,
            "height": null,
            "justify_content": null,
            "justify_items": null,
            "left": null,
            "margin": null,
            "max_height": null,
            "max_width": null,
            "min_height": null,
            "min_width": null,
            "object_fit": null,
            "object_position": null,
            "order": null,
            "overflow": null,
            "overflow_x": null,
            "overflow_y": null,
            "padding": null,
            "right": null,
            "top": null,
            "visibility": null,
            "width": null
          }
        },
        "5148aca8bf7e4253967c5b3f8eda1b67": {
          "model_module": "@jupyter-widgets/base",
          "model_name": "LayoutModel",
          "model_module_version": "1.2.0",
          "state": {
            "_model_module": "@jupyter-widgets/base",
            "_model_module_version": "1.2.0",
            "_model_name": "LayoutModel",
            "_view_count": null,
            "_view_module": "@jupyter-widgets/base",
            "_view_module_version": "1.2.0",
            "_view_name": "LayoutView",
            "align_content": null,
            "align_items": null,
            "align_self": null,
            "border": null,
            "bottom": null,
            "display": null,
            "flex": null,
            "flex_flow": null,
            "grid_area": null,
            "grid_auto_columns": null,
            "grid_auto_flow": null,
            "grid_auto_rows": null,
            "grid_column": null,
            "grid_gap": null,
            "grid_row": null,
            "grid_template_areas": null,
            "grid_template_columns": null,
            "grid_template_rows": null,
            "height": null,
            "justify_content": null,
            "justify_items": null,
            "left": null,
            "margin": null,
            "max_height": null,
            "max_width": null,
            "min_height": null,
            "min_width": null,
            "object_fit": null,
            "object_position": null,
            "order": null,
            "overflow": null,
            "overflow_x": null,
            "overflow_y": null,
            "padding": null,
            "right": null,
            "top": null,
            "visibility": null,
            "width": null
          }
        },
        "4df57b9c92094c0086e64dee6e789ec1": {
          "model_module": "@jupyter-widgets/controls",
          "model_name": "DescriptionStyleModel",
          "model_module_version": "1.5.0",
          "state": {
            "_model_module": "@jupyter-widgets/controls",
            "_model_module_version": "1.5.0",
            "_model_name": "DescriptionStyleModel",
            "_view_count": null,
            "_view_module": "@jupyter-widgets/base",
            "_view_module_version": "1.2.0",
            "_view_name": "StyleView",
            "description_width": ""
          }
        },
        "162c6a822f7c4640b82e048673c86842": {
          "model_module": "@jupyter-widgets/base",
          "model_name": "LayoutModel",
          "model_module_version": "1.2.0",
          "state": {
            "_model_module": "@jupyter-widgets/base",
            "_model_module_version": "1.2.0",
            "_model_name": "LayoutModel",
            "_view_count": null,
            "_view_module": "@jupyter-widgets/base",
            "_view_module_version": "1.2.0",
            "_view_name": "LayoutView",
            "align_content": null,
            "align_items": null,
            "align_self": null,
            "border": null,
            "bottom": null,
            "display": null,
            "flex": null,
            "flex_flow": null,
            "grid_area": null,
            "grid_auto_columns": null,
            "grid_auto_flow": null,
            "grid_auto_rows": null,
            "grid_column": null,
            "grid_gap": null,
            "grid_row": null,
            "grid_template_areas": null,
            "grid_template_columns": null,
            "grid_template_rows": null,
            "height": null,
            "justify_content": null,
            "justify_items": null,
            "left": null,
            "margin": null,
            "max_height": null,
            "max_width": null,
            "min_height": null,
            "min_width": null,
            "object_fit": null,
            "object_position": null,
            "order": null,
            "overflow": null,
            "overflow_x": null,
            "overflow_y": null,
            "padding": null,
            "right": null,
            "top": null,
            "visibility": null,
            "width": null
          }
        },
        "94aeccaf61554bcfb4d5974682d25816": {
          "model_module": "@jupyter-widgets/controls",
          "model_name": "ProgressStyleModel",
          "model_module_version": "1.5.0",
          "state": {
            "_model_module": "@jupyter-widgets/controls",
            "_model_module_version": "1.5.0",
            "_model_name": "ProgressStyleModel",
            "_view_count": null,
            "_view_module": "@jupyter-widgets/base",
            "_view_module_version": "1.2.0",
            "_view_name": "StyleView",
            "bar_color": null,
            "description_width": ""
          }
        },
        "ea135ebc6cd142ccbbe79c28490f979e": {
          "model_module": "@jupyter-widgets/base",
          "model_name": "LayoutModel",
          "model_module_version": "1.2.0",
          "state": {
            "_model_module": "@jupyter-widgets/base",
            "_model_module_version": "1.2.0",
            "_model_name": "LayoutModel",
            "_view_count": null,
            "_view_module": "@jupyter-widgets/base",
            "_view_module_version": "1.2.0",
            "_view_name": "LayoutView",
            "align_content": null,
            "align_items": null,
            "align_self": null,
            "border": null,
            "bottom": null,
            "display": null,
            "flex": null,
            "flex_flow": null,
            "grid_area": null,
            "grid_auto_columns": null,
            "grid_auto_flow": null,
            "grid_auto_rows": null,
            "grid_column": null,
            "grid_gap": null,
            "grid_row": null,
            "grid_template_areas": null,
            "grid_template_columns": null,
            "grid_template_rows": null,
            "height": null,
            "justify_content": null,
            "justify_items": null,
            "left": null,
            "margin": null,
            "max_height": null,
            "max_width": null,
            "min_height": null,
            "min_width": null,
            "object_fit": null,
            "object_position": null,
            "order": null,
            "overflow": null,
            "overflow_x": null,
            "overflow_y": null,
            "padding": null,
            "right": null,
            "top": null,
            "visibility": null,
            "width": null
          }
        },
        "921875fec8884ac9a0019faf4dc65cb5": {
          "model_module": "@jupyter-widgets/controls",
          "model_name": "DescriptionStyleModel",
          "model_module_version": "1.5.0",
          "state": {
            "_model_module": "@jupyter-widgets/controls",
            "_model_module_version": "1.5.0",
            "_model_name": "DescriptionStyleModel",
            "_view_count": null,
            "_view_module": "@jupyter-widgets/base",
            "_view_module_version": "1.2.0",
            "_view_name": "StyleView",
            "description_width": ""
          }
        },
        "227dbddcd4fb4984809ed27a757c00cb": {
          "model_module": "@jupyter-widgets/controls",
          "model_name": "HBoxModel",
          "model_module_version": "1.5.0",
          "state": {
            "_dom_classes": [],
            "_model_module": "@jupyter-widgets/controls",
            "_model_module_version": "1.5.0",
            "_model_name": "HBoxModel",
            "_view_count": null,
            "_view_module": "@jupyter-widgets/controls",
            "_view_module_version": "1.5.0",
            "_view_name": "HBoxView",
            "box_style": "",
            "children": [
              "IPY_MODEL_43ecf0a86035458a8e633a8d615975d6",
              "IPY_MODEL_f2575a360f6f4c9699bd4caffd5828b4",
              "IPY_MODEL_28a9318ee43349928e2944e317315c07"
            ],
            "layout": "IPY_MODEL_3f2f1ddb05e846ce8244672b6b237c41"
          }
        },
        "43ecf0a86035458a8e633a8d615975d6": {
          "model_module": "@jupyter-widgets/controls",
          "model_name": "HTMLModel",
          "model_module_version": "1.5.0",
          "state": {
            "_dom_classes": [],
            "_model_module": "@jupyter-widgets/controls",
            "_model_module_version": "1.5.0",
            "_model_name": "HTMLModel",
            "_view_count": null,
            "_view_module": "@jupyter-widgets/controls",
            "_view_module_version": "1.5.0",
            "_view_name": "HTMLView",
            "description": "",
            "description_tooltip": null,
            "layout": "IPY_MODEL_a08ed0a3d9e648f095fcefd9898898be",
            "placeholder": "​",
            "style": "IPY_MODEL_e5f39cc4caaf460e89a88331044192de",
            "value": "Batches: 100%"
          }
        },
        "f2575a360f6f4c9699bd4caffd5828b4": {
          "model_module": "@jupyter-widgets/controls",
          "model_name": "FloatProgressModel",
          "model_module_version": "1.5.0",
          "state": {
            "_dom_classes": [],
            "_model_module": "@jupyter-widgets/controls",
            "_model_module_version": "1.5.0",
            "_model_name": "FloatProgressModel",
            "_view_count": null,
            "_view_module": "@jupyter-widgets/controls",
            "_view_module_version": "1.5.0",
            "_view_name": "ProgressView",
            "bar_style": "success",
            "description": "",
            "description_tooltip": null,
            "layout": "IPY_MODEL_dfddccef93d342e6bdc1076a7c0b9c5c",
            "max": 32,
            "min": 0,
            "orientation": "horizontal",
            "style": "IPY_MODEL_00c729b752354415afd4c584aa3ff2cd",
            "value": 32
          }
        },
        "28a9318ee43349928e2944e317315c07": {
          "model_module": "@jupyter-widgets/controls",
          "model_name": "HTMLModel",
          "model_module_version": "1.5.0",
          "state": {
            "_dom_classes": [],
            "_model_module": "@jupyter-widgets/controls",
            "_model_module_version": "1.5.0",
            "_model_name": "HTMLModel",
            "_view_count": null,
            "_view_module": "@jupyter-widgets/controls",
            "_view_module_version": "1.5.0",
            "_view_name": "HTMLView",
            "description": "",
            "description_tooltip": null,
            "layout": "IPY_MODEL_09fa0897060b41f1a97e6cd7efd9a477",
            "placeholder": "​",
            "style": "IPY_MODEL_f009edb647f6478985c58468d48e3082",
            "value": " 32/32 [02:30&lt;00:00,  3.50s/it]"
          }
        },
        "3f2f1ddb05e846ce8244672b6b237c41": {
          "model_module": "@jupyter-widgets/base",
          "model_name": "LayoutModel",
          "model_module_version": "1.2.0",
          "state": {
            "_model_module": "@jupyter-widgets/base",
            "_model_module_version": "1.2.0",
            "_model_name": "LayoutModel",
            "_view_count": null,
            "_view_module": "@jupyter-widgets/base",
            "_view_module_version": "1.2.0",
            "_view_name": "LayoutView",
            "align_content": null,
            "align_items": null,
            "align_self": null,
            "border": null,
            "bottom": null,
            "display": null,
            "flex": null,
            "flex_flow": null,
            "grid_area": null,
            "grid_auto_columns": null,
            "grid_auto_flow": null,
            "grid_auto_rows": null,
            "grid_column": null,
            "grid_gap": null,
            "grid_row": null,
            "grid_template_areas": null,
            "grid_template_columns": null,
            "grid_template_rows": null,
            "height": null,
            "justify_content": null,
            "justify_items": null,
            "left": null,
            "margin": null,
            "max_height": null,
            "max_width": null,
            "min_height": null,
            "min_width": null,
            "object_fit": null,
            "object_position": null,
            "order": null,
            "overflow": null,
            "overflow_x": null,
            "overflow_y": null,
            "padding": null,
            "right": null,
            "top": null,
            "visibility": null,
            "width": null
          }
        },
        "a08ed0a3d9e648f095fcefd9898898be": {
          "model_module": "@jupyter-widgets/base",
          "model_name": "LayoutModel",
          "model_module_version": "1.2.0",
          "state": {
            "_model_module": "@jupyter-widgets/base",
            "_model_module_version": "1.2.0",
            "_model_name": "LayoutModel",
            "_view_count": null,
            "_view_module": "@jupyter-widgets/base",
            "_view_module_version": "1.2.0",
            "_view_name": "LayoutView",
            "align_content": null,
            "align_items": null,
            "align_self": null,
            "border": null,
            "bottom": null,
            "display": null,
            "flex": null,
            "flex_flow": null,
            "grid_area": null,
            "grid_auto_columns": null,
            "grid_auto_flow": null,
            "grid_auto_rows": null,
            "grid_column": null,
            "grid_gap": null,
            "grid_row": null,
            "grid_template_areas": null,
            "grid_template_columns": null,
            "grid_template_rows": null,
            "height": null,
            "justify_content": null,
            "justify_items": null,
            "left": null,
            "margin": null,
            "max_height": null,
            "max_width": null,
            "min_height": null,
            "min_width": null,
            "object_fit": null,
            "object_position": null,
            "order": null,
            "overflow": null,
            "overflow_x": null,
            "overflow_y": null,
            "padding": null,
            "right": null,
            "top": null,
            "visibility": null,
            "width": null
          }
        },
        "e5f39cc4caaf460e89a88331044192de": {
          "model_module": "@jupyter-widgets/controls",
          "model_name": "DescriptionStyleModel",
          "model_module_version": "1.5.0",
          "state": {
            "_model_module": "@jupyter-widgets/controls",
            "_model_module_version": "1.5.0",
            "_model_name": "DescriptionStyleModel",
            "_view_count": null,
            "_view_module": "@jupyter-widgets/base",
            "_view_module_version": "1.2.0",
            "_view_name": "StyleView",
            "description_width": ""
          }
        },
        "dfddccef93d342e6bdc1076a7c0b9c5c": {
          "model_module": "@jupyter-widgets/base",
          "model_name": "LayoutModel",
          "model_module_version": "1.2.0",
          "state": {
            "_model_module": "@jupyter-widgets/base",
            "_model_module_version": "1.2.0",
            "_model_name": "LayoutModel",
            "_view_count": null,
            "_view_module": "@jupyter-widgets/base",
            "_view_module_version": "1.2.0",
            "_view_name": "LayoutView",
            "align_content": null,
            "align_items": null,
            "align_self": null,
            "border": null,
            "bottom": null,
            "display": null,
            "flex": null,
            "flex_flow": null,
            "grid_area": null,
            "grid_auto_columns": null,
            "grid_auto_flow": null,
            "grid_auto_rows": null,
            "grid_column": null,
            "grid_gap": null,
            "grid_row": null,
            "grid_template_areas": null,
            "grid_template_columns": null,
            "grid_template_rows": null,
            "height": null,
            "justify_content": null,
            "justify_items": null,
            "left": null,
            "margin": null,
            "max_height": null,
            "max_width": null,
            "min_height": null,
            "min_width": null,
            "object_fit": null,
            "object_position": null,
            "order": null,
            "overflow": null,
            "overflow_x": null,
            "overflow_y": null,
            "padding": null,
            "right": null,
            "top": null,
            "visibility": null,
            "width": null
          }
        },
        "00c729b752354415afd4c584aa3ff2cd": {
          "model_module": "@jupyter-widgets/controls",
          "model_name": "ProgressStyleModel",
          "model_module_version": "1.5.0",
          "state": {
            "_model_module": "@jupyter-widgets/controls",
            "_model_module_version": "1.5.0",
            "_model_name": "ProgressStyleModel",
            "_view_count": null,
            "_view_module": "@jupyter-widgets/base",
            "_view_module_version": "1.2.0",
            "_view_name": "StyleView",
            "bar_color": null,
            "description_width": ""
          }
        },
        "09fa0897060b41f1a97e6cd7efd9a477": {
          "model_module": "@jupyter-widgets/base",
          "model_name": "LayoutModel",
          "model_module_version": "1.2.0",
          "state": {
            "_model_module": "@jupyter-widgets/base",
            "_model_module_version": "1.2.0",
            "_model_name": "LayoutModel",
            "_view_count": null,
            "_view_module": "@jupyter-widgets/base",
            "_view_module_version": "1.2.0",
            "_view_name": "LayoutView",
            "align_content": null,
            "align_items": null,
            "align_self": null,
            "border": null,
            "bottom": null,
            "display": null,
            "flex": null,
            "flex_flow": null,
            "grid_area": null,
            "grid_auto_columns": null,
            "grid_auto_flow": null,
            "grid_auto_rows": null,
            "grid_column": null,
            "grid_gap": null,
            "grid_row": null,
            "grid_template_areas": null,
            "grid_template_columns": null,
            "grid_template_rows": null,
            "height": null,
            "justify_content": null,
            "justify_items": null,
            "left": null,
            "margin": null,
            "max_height": null,
            "max_width": null,
            "min_height": null,
            "min_width": null,
            "object_fit": null,
            "object_position": null,
            "order": null,
            "overflow": null,
            "overflow_x": null,
            "overflow_y": null,
            "padding": null,
            "right": null,
            "top": null,
            "visibility": null,
            "width": null
          }
        },
        "f009edb647f6478985c58468d48e3082": {
          "model_module": "@jupyter-widgets/controls",
          "model_name": "DescriptionStyleModel",
          "model_module_version": "1.5.0",
          "state": {
            "_model_module": "@jupyter-widgets/controls",
            "_model_module_version": "1.5.0",
            "_model_name": "DescriptionStyleModel",
            "_view_count": null,
            "_view_module": "@jupyter-widgets/base",
            "_view_module_version": "1.2.0",
            "_view_name": "StyleView",
            "description_width": ""
          }
        },
        "be8ab31e91ba4ebbbfe0e671f5e41011": {
          "model_module": "@jupyter-widgets/controls",
          "model_name": "HBoxModel",
          "model_module_version": "1.5.0",
          "state": {
            "_dom_classes": [],
            "_model_module": "@jupyter-widgets/controls",
            "_model_module_version": "1.5.0",
            "_model_name": "HBoxModel",
            "_view_count": null,
            "_view_module": "@jupyter-widgets/controls",
            "_view_module_version": "1.5.0",
            "_view_name": "HBoxView",
            "box_style": "",
            "children": [
              "IPY_MODEL_db086c129a864793a97f9ebe32beb644",
              "IPY_MODEL_57d5e3b2be4446f894c1b44a96b1b83a",
              "IPY_MODEL_2703e0ae3d974b4ea34b8df434ce8ac7"
            ],
            "layout": "IPY_MODEL_a8699a619fe84f05a37c977dde16fa28"
          }
        },
        "db086c129a864793a97f9ebe32beb644": {
          "model_module": "@jupyter-widgets/controls",
          "model_name": "HTMLModel",
          "model_module_version": "1.5.0",
          "state": {
            "_dom_classes": [],
            "_model_module": "@jupyter-widgets/controls",
            "_model_module_version": "1.5.0",
            "_model_name": "HTMLModel",
            "_view_count": null,
            "_view_module": "@jupyter-widgets/controls",
            "_view_module_version": "1.5.0",
            "_view_name": "HTMLView",
            "description": "",
            "description_tooltip": null,
            "layout": "IPY_MODEL_2f976db074ac4155b0b04e5794e6a12a",
            "placeholder": "​",
            "style": "IPY_MODEL_2f0c2eee69f54673ac83db0601edc07c",
            "value": "Batches: 100%"
          }
        },
        "57d5e3b2be4446f894c1b44a96b1b83a": {
          "model_module": "@jupyter-widgets/controls",
          "model_name": "FloatProgressModel",
          "model_module_version": "1.5.0",
          "state": {
            "_dom_classes": [],
            "_model_module": "@jupyter-widgets/controls",
            "_model_module_version": "1.5.0",
            "_model_name": "FloatProgressModel",
            "_view_count": null,
            "_view_module": "@jupyter-widgets/controls",
            "_view_module_version": "1.5.0",
            "_view_name": "ProgressView",
            "bar_style": "success",
            "description": "",
            "description_tooltip": null,
            "layout": "IPY_MODEL_4b2ce007fa404482b8b408ba35c92ad0",
            "max": 157,
            "min": 0,
            "orientation": "horizontal",
            "style": "IPY_MODEL_b588dfdb16bd403db88900845a3e1d9d",
            "value": 157
          }
        },
        "2703e0ae3d974b4ea34b8df434ce8ac7": {
          "model_module": "@jupyter-widgets/controls",
          "model_name": "HTMLModel",
          "model_module_version": "1.5.0",
          "state": {
            "_dom_classes": [],
            "_model_module": "@jupyter-widgets/controls",
            "_model_module_version": "1.5.0",
            "_model_name": "HTMLModel",
            "_view_count": null,
            "_view_module": "@jupyter-widgets/controls",
            "_view_module_version": "1.5.0",
            "_view_name": "HTMLView",
            "description": "",
            "description_tooltip": null,
            "layout": "IPY_MODEL_e74b8815097e47d88bb20731a8f3f2b5",
            "placeholder": "​",
            "style": "IPY_MODEL_17b7bef5ea7c495287d7a112945032c8",
            "value": " 157/157 [11:29&lt;00:00,  4.39s/it]"
          }
        },
        "a8699a619fe84f05a37c977dde16fa28": {
          "model_module": "@jupyter-widgets/base",
          "model_name": "LayoutModel",
          "model_module_version": "1.2.0",
          "state": {
            "_model_module": "@jupyter-widgets/base",
            "_model_module_version": "1.2.0",
            "_model_name": "LayoutModel",
            "_view_count": null,
            "_view_module": "@jupyter-widgets/base",
            "_view_module_version": "1.2.0",
            "_view_name": "LayoutView",
            "align_content": null,
            "align_items": null,
            "align_self": null,
            "border": null,
            "bottom": null,
            "display": null,
            "flex": null,
            "flex_flow": null,
            "grid_area": null,
            "grid_auto_columns": null,
            "grid_auto_flow": null,
            "grid_auto_rows": null,
            "grid_column": null,
            "grid_gap": null,
            "grid_row": null,
            "grid_template_areas": null,
            "grid_template_columns": null,
            "grid_template_rows": null,
            "height": null,
            "justify_content": null,
            "justify_items": null,
            "left": null,
            "margin": null,
            "max_height": null,
            "max_width": null,
            "min_height": null,
            "min_width": null,
            "object_fit": null,
            "object_position": null,
            "order": null,
            "overflow": null,
            "overflow_x": null,
            "overflow_y": null,
            "padding": null,
            "right": null,
            "top": null,
            "visibility": null,
            "width": null
          }
        },
        "2f976db074ac4155b0b04e5794e6a12a": {
          "model_module": "@jupyter-widgets/base",
          "model_name": "LayoutModel",
          "model_module_version": "1.2.0",
          "state": {
            "_model_module": "@jupyter-widgets/base",
            "_model_module_version": "1.2.0",
            "_model_name": "LayoutModel",
            "_view_count": null,
            "_view_module": "@jupyter-widgets/base",
            "_view_module_version": "1.2.0",
            "_view_name": "LayoutView",
            "align_content": null,
            "align_items": null,
            "align_self": null,
            "border": null,
            "bottom": null,
            "display": null,
            "flex": null,
            "flex_flow": null,
            "grid_area": null,
            "grid_auto_columns": null,
            "grid_auto_flow": null,
            "grid_auto_rows": null,
            "grid_column": null,
            "grid_gap": null,
            "grid_row": null,
            "grid_template_areas": null,
            "grid_template_columns": null,
            "grid_template_rows": null,
            "height": null,
            "justify_content": null,
            "justify_items": null,
            "left": null,
            "margin": null,
            "max_height": null,
            "max_width": null,
            "min_height": null,
            "min_width": null,
            "object_fit": null,
            "object_position": null,
            "order": null,
            "overflow": null,
            "overflow_x": null,
            "overflow_y": null,
            "padding": null,
            "right": null,
            "top": null,
            "visibility": null,
            "width": null
          }
        },
        "2f0c2eee69f54673ac83db0601edc07c": {
          "model_module": "@jupyter-widgets/controls",
          "model_name": "DescriptionStyleModel",
          "model_module_version": "1.5.0",
          "state": {
            "_model_module": "@jupyter-widgets/controls",
            "_model_module_version": "1.5.0",
            "_model_name": "DescriptionStyleModel",
            "_view_count": null,
            "_view_module": "@jupyter-widgets/base",
            "_view_module_version": "1.2.0",
            "_view_name": "StyleView",
            "description_width": ""
          }
        },
        "4b2ce007fa404482b8b408ba35c92ad0": {
          "model_module": "@jupyter-widgets/base",
          "model_name": "LayoutModel",
          "model_module_version": "1.2.0",
          "state": {
            "_model_module": "@jupyter-widgets/base",
            "_model_module_version": "1.2.0",
            "_model_name": "LayoutModel",
            "_view_count": null,
            "_view_module": "@jupyter-widgets/base",
            "_view_module_version": "1.2.0",
            "_view_name": "LayoutView",
            "align_content": null,
            "align_items": null,
            "align_self": null,
            "border": null,
            "bottom": null,
            "display": null,
            "flex": null,
            "flex_flow": null,
            "grid_area": null,
            "grid_auto_columns": null,
            "grid_auto_flow": null,
            "grid_auto_rows": null,
            "grid_column": null,
            "grid_gap": null,
            "grid_row": null,
            "grid_template_areas": null,
            "grid_template_columns": null,
            "grid_template_rows": null,
            "height": null,
            "justify_content": null,
            "justify_items": null,
            "left": null,
            "margin": null,
            "max_height": null,
            "max_width": null,
            "min_height": null,
            "min_width": null,
            "object_fit": null,
            "object_position": null,
            "order": null,
            "overflow": null,
            "overflow_x": null,
            "overflow_y": null,
            "padding": null,
            "right": null,
            "top": null,
            "visibility": null,
            "width": null
          }
        },
        "b588dfdb16bd403db88900845a3e1d9d": {
          "model_module": "@jupyter-widgets/controls",
          "model_name": "ProgressStyleModel",
          "model_module_version": "1.5.0",
          "state": {
            "_model_module": "@jupyter-widgets/controls",
            "_model_module_version": "1.5.0",
            "_model_name": "ProgressStyleModel",
            "_view_count": null,
            "_view_module": "@jupyter-widgets/base",
            "_view_module_version": "1.2.0",
            "_view_name": "StyleView",
            "bar_color": null,
            "description_width": ""
          }
        },
        "e74b8815097e47d88bb20731a8f3f2b5": {
          "model_module": "@jupyter-widgets/base",
          "model_name": "LayoutModel",
          "model_module_version": "1.2.0",
          "state": {
            "_model_module": "@jupyter-widgets/base",
            "_model_module_version": "1.2.0",
            "_model_name": "LayoutModel",
            "_view_count": null,
            "_view_module": "@jupyter-widgets/base",
            "_view_module_version": "1.2.0",
            "_view_name": "LayoutView",
            "align_content": null,
            "align_items": null,
            "align_self": null,
            "border": null,
            "bottom": null,
            "display": null,
            "flex": null,
            "flex_flow": null,
            "grid_area": null,
            "grid_auto_columns": null,
            "grid_auto_flow": null,
            "grid_auto_rows": null,
            "grid_column": null,
            "grid_gap": null,
            "grid_row": null,
            "grid_template_areas": null,
            "grid_template_columns": null,
            "grid_template_rows": null,
            "height": null,
            "justify_content": null,
            "justify_items": null,
            "left": null,
            "margin": null,
            "max_height": null,
            "max_width": null,
            "min_height": null,
            "min_width": null,
            "object_fit": null,
            "object_position": null,
            "order": null,
            "overflow": null,
            "overflow_x": null,
            "overflow_y": null,
            "padding": null,
            "right": null,
            "top": null,
            "visibility": null,
            "width": null
          }
        },
        "17b7bef5ea7c495287d7a112945032c8": {
          "model_module": "@jupyter-widgets/controls",
          "model_name": "DescriptionStyleModel",
          "model_module_version": "1.5.0",
          "state": {
            "_model_module": "@jupyter-widgets/controls",
            "_model_module_version": "1.5.0",
            "_model_name": "DescriptionStyleModel",
            "_view_count": null,
            "_view_module": "@jupyter-widgets/base",
            "_view_module_version": "1.2.0",
            "_view_name": "StyleView",
            "description_width": ""
          }
        }
      }
    }
  },
  "nbformat": 4,
  "nbformat_minor": 0
}