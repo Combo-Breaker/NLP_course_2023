{
  "cells": [
    {
      "cell_type": "markdown",
      "metadata": {
        "id": "vhzmtLYwWDyW"
      },
      "source": [
        "<h1><center>Суммаризация текстов с помощью алгоритма TextRank</center></h1>"
      ]
    },
    {
      "cell_type": "markdown",
      "metadata": {
        "id": "kOzfO75gWDyY"
      },
      "source": [
        "На этом занятии мы познакомимся с задачей суммаризации текстов на естественном языке.\n",
        "\n",
        "Задача суммаризации заключается в том, чтобы из исходного текста получить более короткий текст, который будет содержать в себе всю (или почти всю) информацию, которая была в исходном тексте.\n",
        "То есть по тексту нужно получить его краткое содержание так, чтобы потерять как можно меньше информации."
      ]
    },
    {
      "cell_type": "markdown",
      "metadata": {
        "id": "n0FLqcQmWDyY"
      },
      "source": [
        "Методы решения этой задачи обычно делят на две категории:\n",
        "- Extractive Summarization $-$ алгоритмы, основанные на выделении наиболее информативных частей исходного текста (предложения, абзацы и т.д.) и составлении краткого содержания из них.\n",
        "- Abstractive Summarization $-$ алгоритмы, генерирующие новый текст на основе исходного."
      ]
    },
    {
      "cell_type": "markdown",
      "metadata": {
        "id": "xNHIpk9DWDyZ"
      },
      "source": [
        "Сегодня мы познакомимся с методом *TextRank*, основанном на графах. Это популярный алгоритм Extractive Summarization."
      ]
    },
    {
      "cell_type": "code",
      "source": [
        "!pip install -q nltk"
      ],
      "metadata": {
        "id": "-IS_mLbyWgXZ"
      },
      "execution_count": 6,
      "outputs": []
    },
    {
      "cell_type": "code",
      "execution_count": 1,
      "metadata": {
        "id": "x1R5oXlgWDya"
      },
      "outputs": [],
      "source": [
        "from tqdm import tqdm_notebook as tqdm"
      ]
    },
    {
      "cell_type": "code",
      "execution_count": 5,
      "metadata": {
        "id": "967ss8TdWDyb"
      },
      "outputs": [],
      "source": [
        "from sklearn.metrics.pairwise import cosine_similarity\n",
        "from scipy import sparse\n",
        "import os\n",
        "import numpy as np"
      ]
    },
    {
      "cell_type": "code",
      "execution_count": 7,
      "metadata": {
        "id": "tagvuZCWWDyb"
      },
      "outputs": [],
      "source": [
        "from nltk.tokenize import sent_tokenize\n",
        "from nltk.tokenize import word_tokenize"
      ]
    },
    {
      "cell_type": "code",
      "source": [
        "import nltk\n",
        "nltk.download('punkt')"
      ],
      "metadata": {
        "colab": {
          "base_uri": "https://localhost:8080/"
        },
        "id": "62D8c42MWuBI",
        "outputId": "8c543717-e7de-4f7b-b0cb-8305ab73086a"
      },
      "execution_count": 14,
      "outputs": [
        {
          "output_type": "stream",
          "name": "stderr",
          "text": [
            "[nltk_data] Downloading package punkt to /root/nltk_data...\n",
            "[nltk_data]   Unzipping tokenizers/punkt.zip.\n"
          ]
        },
        {
          "output_type": "execute_result",
          "data": {
            "text/plain": [
              "True"
            ]
          },
          "metadata": {},
          "execution_count": 14
        }
      ]
    },
    {
      "cell_type": "code",
      "execution_count": 8,
      "metadata": {
        "id": "ABl4M-k6WDyc"
      },
      "outputs": [],
      "source": [
        "from sklearn.feature_extraction.text import TfidfVectorizer\n",
        "from collections import defaultdict"
      ]
    },
    {
      "cell_type": "markdown",
      "metadata": {
        "id": "jmNuiljTWDyc"
      },
      "source": [
        "## Загрузка данных"
      ]
    },
    {
      "cell_type": "markdown",
      "metadata": {
        "id": "O3WgznUyWDyd"
      },
      "source": [
        "Будем использовать данные из корпуса новостей CNN/DailyMail.\n",
        "\n",
        "В рамках этого занятия будем использовать небольшую подвыборку из 300 текстов CNN.\n",
        "\n",
        "Загрузим их из интернета и сохраним в папку."
      ]
    },
    {
      "cell_type": "code",
      "execution_count": 9,
      "metadata": {
        "id": "cnIfEHhNWDyd"
      },
      "outputs": [],
      "source": [
        "DATA_DIR = './cnn_stories_short/'"
      ]
    },
    {
      "cell_type": "code",
      "execution_count": null,
      "metadata": {
        "id": "fVPJd7GMWDyd"
      },
      "outputs": [],
      "source": [
        "!wget https://www.dropbox.com/s/kofxrgod7kl720m/cnn_stories_short.zip\n",
        "!mkdir cnn_data\n",
        "!unzip cnn_stories_short.zip -d $DATA_DIR"
      ]
    },
    {
      "cell_type": "code",
      "execution_count": 11,
      "metadata": {
        "id": "HT1BVyCcWDye"
      },
      "outputs": [],
      "source": [
        "!rm -r ./cnn_stories_short/__MACOSX"
      ]
    },
    {
      "cell_type": "markdown",
      "metadata": {
        "id": "gCq0vxydWDye"
      },
      "source": [
        "## Подготовка данных"
      ]
    },
    {
      "cell_type": "markdown",
      "metadata": {
        "id": "DT_TY6yGWDyf"
      },
      "source": [
        "Датасет состоит из исходных текстов и уже написанных кратких содержаниях к ним.\n",
        "Готовые краткие содержания сохраним в переменную *summaries* и воспользуемся ими позднее для оценки качества получившегося алгоритма."
      ]
    },
    {
      "cell_type": "code",
      "execution_count": 12,
      "metadata": {
        "id": "b8dmZNw8WDyf"
      },
      "outputs": [],
      "source": [
        "texts = []\n",
        "summaries = []\n",
        "for filename in os.listdir(DATA_DIR):\n",
        "    with open(os.path.join(DATA_DIR,filename),'r') as input_file:\n",
        "        all_texts = input_file.read().split('@highlight')\n",
        "        texts.append(all_texts[0])\n",
        "        summaries.append('. '.join(map(lambda x: x.strip(), all_texts[1:])))"
      ]
    },
    {
      "cell_type": "markdown",
      "metadata": {
        "id": "e0psGFBOWDyg"
      },
      "source": [
        "#### Нам понадобятся:\n",
        "* тексты, разбитые на предложения\n",
        "* предложения, разбитые на токены\n",
        "* тексты, разбитые предложения, которые разбиты на токены"
      ]
    },
    {
      "cell_type": "code",
      "execution_count": 15,
      "metadata": {
        "id": "EeFFIwakWDyg"
      },
      "outputs": [],
      "source": [
        "sent_tokenized_texts = [sent_tokenize(text) for text in texts]\n",
        "tokenized_sentences = [word_tokenize(sent) for text in texts for sent in sent_tokenize(text)]\n",
        "tokenized_texts = [[word_tokenize(sent) for sent in text] for text in sent_tokenized_texts]"
      ]
    },
    {
      "cell_type": "markdown",
      "metadata": {
        "id": "d8ZvNFZcWDyg"
      },
      "source": [
        "## Построение векторных представлений для текстов"
      ]
    },
    {
      "cell_type": "markdown",
      "metadata": {
        "id": "kXwhjCuOWDyh"
      },
      "source": [
        "Для алгоритма TextRank нам потребуется получить векторное представление для каждого предложения в тексте.\n",
        "\n",
        "Будем использовать предобученные вектора Glove."
      ]
    },
    {
      "cell_type": "markdown",
      "metadata": {
        "id": "qNzViQQvWDyh"
      },
      "source": [
        "Загрузим модель:"
      ]
    },
    {
      "cell_type": "code",
      "execution_count": 16,
      "metadata": {
        "id": "XebntORHWDyh",
        "outputId": "4fbe80bd-f40d-4270-f9e0-e834ae00778f",
        "colab": {
          "base_uri": "https://localhost:8080/"
        }
      },
      "outputs": [
        {
          "output_type": "stream",
          "name": "stdout",
          "text": [
            "--2023-12-20 13:12:30--  http://nlp.stanford.edu/data/glove.6B.zip\n",
            "Resolving nlp.stanford.edu (nlp.stanford.edu)... 171.64.67.140\n",
            "Connecting to nlp.stanford.edu (nlp.stanford.edu)|171.64.67.140|:80... connected.\n",
            "HTTP request sent, awaiting response... 302 Found\n",
            "Location: https://nlp.stanford.edu/data/glove.6B.zip [following]\n",
            "--2023-12-20 13:12:30--  https://nlp.stanford.edu/data/glove.6B.zip\n",
            "Connecting to nlp.stanford.edu (nlp.stanford.edu)|171.64.67.140|:443... connected.\n",
            "HTTP request sent, awaiting response... 301 Moved Permanently\n",
            "Location: https://downloads.cs.stanford.edu/nlp/data/glove.6B.zip [following]\n",
            "--2023-12-20 13:12:30--  https://downloads.cs.stanford.edu/nlp/data/glove.6B.zip\n",
            "Resolving downloads.cs.stanford.edu (downloads.cs.stanford.edu)... 171.64.64.22\n",
            "Connecting to downloads.cs.stanford.edu (downloads.cs.stanford.edu)|171.64.64.22|:443... connected.\n",
            "HTTP request sent, awaiting response... 200 OK\n",
            "Length: 862182613 (822M) [application/zip]\n",
            "Saving to: ‘glove.6B.zip’\n",
            "\n",
            "glove.6B.zip        100%[===================>] 822.24M  5.02MB/s    in 2m 39s  \n",
            "\n",
            "2023-12-20 13:15:09 (5.17 MB/s) - ‘glove.6B.zip’ saved [862182613/862182613]\n",
            "\n",
            "Archive:  glove.6B.zip\n",
            "  inflating: glove.6B.50d.txt        \n",
            "  inflating: glove.6B.100d.txt       \n",
            "  inflating: glove.6B.200d.txt       \n",
            "  inflating: glove.6B.300d.txt       \n"
          ]
        }
      ],
      "source": [
        "!wget http://nlp.stanford.edu/data/glove.6B.zip\n",
        "!unzip glove*.zip"
      ]
    },
    {
      "cell_type": "code",
      "execution_count": 17,
      "metadata": {
        "id": "uMelGfxsWDyi"
      },
      "outputs": [],
      "source": [
        "word_embeddings = {}\n",
        "with open('glove.6B.100d.txt', encoding='utf-8') as f:\n",
        "    for line in f.readlines():\n",
        "        values = line.split()\n",
        "        word = values[0]\n",
        "        word_embeddings[word] = np.asarray(values[1:], dtype='float32')"
      ]
    },
    {
      "cell_type": "markdown",
      "metadata": {
        "id": "sG99eyG6WDyi"
      },
      "source": [
        "Теперь нам нужно на основе векторов слов построить векторные представления для предложений.\n",
        "\n",
        "Воспользуемся для этого классом TfidfEmbeddingVectorizer, который мы уже реализовывали на предыдущих занятиях.\n",
        "\n",
        "Он вычисляет вектор для текста как взвешенное среднее векторов входящих в него слов с весами tf-idf."
      ]
    },
    {
      "cell_type": "code",
      "execution_count": 18,
      "metadata": {
        "id": "h2KhGqT1WDyj"
      },
      "outputs": [],
      "source": [
        "class TfidfEmbeddingVectorizer:\n",
        "\n",
        "    def __init__(self, embedding_model, dim=100):\n",
        "        self.embedding_model = embedding_model\n",
        "        self.word2weight = None\n",
        "        self.dim = dim\n",
        "\n",
        "    def fit(self, X):\n",
        "        tfidf = TfidfVectorizer(analyzer=lambda x: x)\n",
        "        tfidf.fit(X)\n",
        "        max_idf = np.max(tfidf.idf_)\n",
        "        self.word2weight = defaultdict(lambda: max_idf, [(w,tfidf.idf_[i]) for w,i in tfidf.vocabulary_.items()])\n",
        "\n",
        "        return self\n",
        "\n",
        "    def transform(self, X):\n",
        "        return np.array([np.mean([self.embedding_model[w] * self.word2weight[w]\n",
        "                                  for w in words if w in self.embedding_model] or [np.zeros(self.dim)], axis=0)\n",
        "                         for words in X])"
      ]
    },
    {
      "cell_type": "code",
      "execution_count": 19,
      "metadata": {
        "id": "BBObyzSbWDyj"
      },
      "outputs": [],
      "source": [
        "sentence_vectorizer = TfidfEmbeddingVectorizer(word_embeddings)\n",
        "sentence_vectorizer = sentence_vectorizer.fit(tokenized_sentences)"
      ]
    },
    {
      "cell_type": "markdown",
      "metadata": {
        "id": "9-JEo0ZxWDyj"
      },
      "source": [
        "## Построение графа"
      ]
    },
    {
      "cell_type": "markdown",
      "metadata": {
        "id": "CnrdO7gdWDyk"
      },
      "source": [
        "Для алгоритма *TextRank* нам понадобится построить из текста взвешенный граф.\n",
        "\n",
        "Каждому предложению текста мы поставим в соответствие вершину графа.\n",
        "\n",
        "Каждая пара вершин будет соединена ребром, а вес ребра будет равен расстоянию между векторными представлениями соответствующих предложений."
      ]
    },
    {
      "cell_type": "markdown",
      "metadata": {
        "id": "Q5qpIoKtWDyk"
      },
      "source": [
        "Для примера построим граф в виде матрицы расстояний для одного из текстов.\n",
        "Выберем один текст и построим для него матрицу расстояний. В качестве метрики используем косинусное расстояние."
      ]
    },
    {
      "cell_type": "code",
      "execution_count": 20,
      "metadata": {
        "id": "NoDeW28sWDyl"
      },
      "outputs": [],
      "source": [
        "TEXT_NUM = 5"
      ]
    },
    {
      "cell_type": "code",
      "execution_count": 21,
      "metadata": {
        "id": "Vy5mI419WDyl"
      },
      "outputs": [],
      "source": [
        "sentences = tokenized_texts[TEXT_NUM]"
      ]
    },
    {
      "cell_type": "markdown",
      "metadata": {
        "id": "VN8T8EuSWDyl"
      },
      "source": [
        "С помощью векторизатора получим вектора для всех предложений текста."
      ]
    },
    {
      "cell_type": "code",
      "execution_count": 22,
      "metadata": {
        "id": "vytoGiJ9WDyl"
      },
      "outputs": [],
      "source": [
        "vectorized_sentences = sentence_vectorizer.transform(sentences)"
      ]
    },
    {
      "cell_type": "markdown",
      "metadata": {
        "id": "XkMWa_g6WDyl"
      },
      "source": [
        "Воспользуемся функцией cosine_similarity из scikit-learn для вычисления матрицы косинусных расстояний."
      ]
    },
    {
      "cell_type": "code",
      "execution_count": 23,
      "metadata": {
        "id": "ZpNA8eX6WDym"
      },
      "outputs": [],
      "source": [
        "G = cosine_similarity(vectorized_sentences)"
      ]
    },
    {
      "cell_type": "markdown",
      "metadata": {
        "id": "1khmRSAbWDym"
      },
      "source": [
        "## Extractive Summarization $-$ TextRank"
      ]
    },
    {
      "cell_type": "markdown",
      "metadata": {
        "id": "rUlloMGgWDym"
      },
      "source": [
        "Теперь мы реализуем непосредственно метод суммаризации текстов. Он будет основан на алгоритме *PageRank*.\n",
        "\n",
        "*PageRank* $-$ рекурсивный алгоритм, который оценивает важность каждой вершины в графе на основе её связей с другими вершинами. Изначально алгоритм использовался для оценки важности интернет-страниц для поисковых систем.\n",
        "\n",
        "Адаптация этого алгоритма для суммаризации текстов называется *TextRank*.\n",
        "\n",
        "Алгоритм последовательно проходит по всем вершинам в графе и по нижеприведенной формуле пересчитывает значения PageRank для каждой из них.\n",
        "\n",
        "Это происходит до тех пор, пока процесс не стабилизируется, то есть значения *PageRank* для всех вершин не перестанут существенно меняться с каждой новой итерацией."
      ]
    },
    {
      "cell_type": "markdown",
      "metadata": {
        "id": "fxrpNn_DWDym"
      },
      "source": [
        "$$ G = (V,E) - граф $$\n",
        "$$$$\n",
        "$$ PageRank(w) = (1-d) +  d \\sum_{u} \\frac {PageRank(u)} {C(u)}$$\n",
        "\n",
        "$$u\\ -\\ вершина\\ графа,\\ такая\\ что\\ (u,w) \\in E$$\n",
        "$$$$\n",
        "$$d = 0,85\\ -\\ коэффициент\\ затухания$$"
      ]
    },
    {
      "cell_type": "code",
      "execution_count": 24,
      "metadata": {
        "id": "HdP8BH0vWDym"
      },
      "outputs": [],
      "source": [
        "import numpy as np\n",
        "from scipy.sparse import csr_matrix"
      ]
    },
    {
      "cell_type": "markdown",
      "metadata": {
        "id": "U_VNh2FVWDyn"
      },
      "source": [
        "Напишем нашу собственную реализацию *PageRank*."
      ]
    },
    {
      "cell_type": "code",
      "execution_count": 25,
      "metadata": {
        "id": "4DutnlYjWDyn"
      },
      "outputs": [],
      "source": [
        "def page_rank(G, s = .85, maxerr = .0001):\n",
        "\n",
        "    n = G.shape[0]\n",
        "    A = csr_matrix(G,dtype=np.float)\n",
        "    rsums = np.array(A.sum(1))[:,0]\n",
        "    ri, ci = A.nonzero()\n",
        "    A.data /= rsums[ri]\n",
        "\n",
        "    sink = rsums==0\n",
        "    ro, r = np.zeros(n), np.ones(n)\n",
        "    while np.sum(np.abs(r-ro)) > maxerr:\n",
        "        ro = r.copy()\n",
        "        for i in range(0,n):\n",
        "            Ii = np.array(A[:,i].todense())[:,0]\n",
        "            # account for sink states\n",
        "            Si = sink / float(n)\n",
        "            # account for teleportation to state i\n",
        "            Ti = np.ones(n) / float(n)\n",
        "            r[i] = ro.dot( Ii*s + Si*s + Ti*(1-s) )\n",
        "    return r/float(sum(r))"
      ]
    },
    {
      "cell_type": "code",
      "execution_count": 26,
      "metadata": {
        "id": "FicqtZjxWDyn",
        "colab": {
          "base_uri": "https://localhost:8080/"
        },
        "outputId": "26ded508-7483-46f1-fcf7-bb153a9040fe"
      },
      "outputs": [
        {
          "output_type": "stream",
          "name": "stderr",
          "text": [
            "<ipython-input-25-098055473a38>:4: DeprecationWarning: `np.float` is a deprecated alias for the builtin `float`. To silence this warning, use `float` by itself. Doing this will not modify any behavior and is safe. If you specifically wanted the numpy scalar type, use `np.float64` here.\n",
            "Deprecated in NumPy 1.20; for more details and guidance: https://numpy.org/devdocs/release/1.20.0-notes.html#deprecations\n",
            "  A = csr_matrix(G,dtype=np.float)\n"
          ]
        }
      ],
      "source": [
        "scores = page_rank(G)"
      ]
    },
    {
      "cell_type": "code",
      "execution_count": 27,
      "metadata": {
        "id": "9ON0Zw8NWDyn",
        "outputId": "2b9f03da-792c-4947-ad36-c964190ddc6a",
        "colab": {
          "base_uri": "https://localhost:8080/"
        }
      },
      "outputs": [
        {
          "output_type": "execute_result",
          "data": {
            "text/plain": [
              "array([0.070099  , 0.061521  , 0.06522922, 0.0674415 , 0.0690819 ,\n",
              "       0.06947275, 0.05693864, 0.06838653, 0.06645888, 0.06845123,\n",
              "       0.06885072, 0.0682811 , 0.06640581, 0.06792763, 0.06545407])"
            ]
          },
          "metadata": {},
          "execution_count": 27
        }
      ],
      "source": [
        "scores"
      ]
    },
    {
      "cell_type": "markdown",
      "metadata": {
        "id": "1y00jkT7WDyn"
      },
      "source": [
        "Можно также использовать готовую реализацию алгоритма PageRank из библиотеки для работы с графами NetworkX.\n",
        "Сравним нашу реализацию с реализацией NetworkX."
      ]
    },
    {
      "cell_type": "code",
      "execution_count": 28,
      "metadata": {
        "id": "nbvtaNQeWDyn"
      },
      "outputs": [],
      "source": [
        "!pip install -q networkx"
      ]
    },
    {
      "cell_type": "code",
      "execution_count": 31,
      "metadata": {
        "id": "ffUJomXEWDyo"
      },
      "outputs": [],
      "source": [
        "import networkx as nx\n",
        "\n",
        "nx_graph = nx.from_numpy_array(G)\n",
        "nx_scores = nx.pagerank(nx_graph)"
      ]
    },
    {
      "cell_type": "code",
      "execution_count": null,
      "metadata": {
        "id": "kL9pN1FiWDyo",
        "outputId": "98788136-44ef-4573-c678-d9ace9933e67"
      },
      "outputs": [
        {
          "name": "stdout",
          "output_type": "stream",
          "text": [
            "Our implementation: 0.043935970863796754\n",
            "NetworkX implementation: 0.04393597086379673\n"
          ]
        }
      ],
      "source": [
        "sentence_num = 7\n",
        "print(\"Our implementation: {0}\\nNetworkX implementation: {1}\".format(scores[sentence_num],nx_scores[sentence_num]))"
      ]
    },
    {
      "cell_type": "markdown",
      "metadata": {
        "id": "Nc5jQUHEWDyo"
      },
      "source": [
        "Чтобы получить краткое содержание нужного нам текста, нам теперь достаточно отсортировать все входящие в него предложения по TextRank и выбрать те, у которых он максимальный."
      ]
    },
    {
      "cell_type": "code",
      "execution_count": 32,
      "metadata": {
        "id": "5hwnjHhhWDyo"
      },
      "outputs": [],
      "source": [
        "ranked_sentences = sorted(((scores[i],s,i) for i,s in enumerate(sentences)), reverse=True)"
      ]
    },
    {
      "cell_type": "markdown",
      "metadata": {
        "id": "5jWNDfNuWDyo"
      },
      "source": [
        "Выведем 5 предложений с наибольшим TextRank."
      ]
    },
    {
      "cell_type": "code",
      "execution_count": 33,
      "metadata": {
        "id": "dZppRGNrWDyo",
        "outputId": "23189de4-98ed-43ad-adc9-48c097e7d18f",
        "colab": {
          "base_uri": "https://localhost:8080/"
        }
      },
      "outputs": [
        {
          "output_type": "stream",
          "name": "stdout",
          "text": [
            "( CNN ) -- Five days of gunbattles between the Indian army and separatist militants in Indian-administered Kashmir have left at least 25 dead -- eight Indian army troopers , including one officer , and 17 militants , the Indian military said Tuesday .\n",
            "However , various NGOs and rights groups put the number of dead at twice the official count .\n",
            "Kashmir has been in the throes of a violent separatist campaign for nearly two decades during which authorities say 43,000 people have been killed .\n",
            "This month 's encounter between the Indian Army and the militants is the second longest in Kashmir this year .\n",
            "The spokesman denied media reports that helicopter gunships and heavy weapons had been used by the army during these operations against the militants .\n"
          ]
        }
      ],
      "source": [
        "SUMMARY_LEN  = 5\n",
        "\n",
        "for i in range(SUMMARY_LEN):\n",
        "    print(' '.join(ranked_sentences[i][1]))"
      ]
    },
    {
      "cell_type": "markdown",
      "metadata": {
        "id": "frjgUGETWDyp"
      },
      "source": [
        "Теперь объединим все в одну функцию summarize, которая будет получать на вход текст, разбитый по предложениям и выдавать 5 предложений с наибольшим *TextRank*."
      ]
    },
    {
      "cell_type": "code",
      "execution_count": 36,
      "metadata": {
        "id": "QKVO3HUzWDyp"
      },
      "outputs": [],
      "source": [
        "def summarize(sentences,summary_len=5):\n",
        "    vectorized_sentences = sentence_vectorizer.transform(sentences)\n",
        "    G = cosine_similarity(vectorized_sentences)\n",
        "    nx_graph = nx.from_numpy_array(G)\n",
        "    nx_scores = nx.pagerank(nx_graph)\n",
        "    ranked_sentences = sorted(((nx_scores[i],s,i) for i,s in enumerate(sentences)), reverse=True)\n",
        "    summary = []\n",
        "    for i in range(SUMMARY_LEN):\n",
        "        summary.append(' '.join(ranked_sentences[i][1]))\n",
        "    return summary"
      ]
    },
    {
      "cell_type": "code",
      "execution_count": 37,
      "metadata": {
        "id": "Tzsfwt1oWDyp",
        "outputId": "d980a9e4-5389-4c44-e017-4e5924447eaf",
        "colab": {
          "base_uri": "https://localhost:8080/"
        }
      },
      "outputs": [
        {
          "output_type": "execute_result",
          "data": {
            "text/plain": [
              "['( CNN ) -- Five days of gunbattles between the Indian army and separatist militants in Indian-administered Kashmir have left at least 25 dead -- eight Indian army troopers , including one officer , and 17 militants , the Indian military said Tuesday .',\n",
              " 'However , various NGOs and rights groups put the number of dead at twice the official count .',\n",
              " 'Kashmir has been in the throes of a violent separatist campaign for nearly two decades during which authorities say 43,000 people have been killed .',\n",
              " \"This month 's encounter between the Indian Army and the militants is the second longest in Kashmir this year .\",\n",
              " 'The spokesman denied media reports that helicopter gunships and heavy weapons had been used by the army during these operations against the militants .']"
            ]
          },
          "metadata": {},
          "execution_count": 37
        }
      ],
      "source": [
        "summarize(tokenized_texts[5])"
      ]
    },
    {
      "cell_type": "markdown",
      "metadata": {
        "id": "a14_DOXDWDyp"
      },
      "source": [
        "Теперь мы можем получить краткие содержания для каждого из текстов в нашей выборке."
      ]
    },
    {
      "cell_type": "code",
      "execution_count": 38,
      "metadata": {
        "id": "cu2HXfQZWDyp",
        "outputId": "6f336374-7d08-4e09-86c6-ddfb3a91caf8",
        "colab": {
          "referenced_widgets": [
            "c81146b88a4a4df78e3b0ced609ff5af",
            "5de47c04fba64716b00d455a466c8e5d",
            "a3a15e40417b435eb5bc57185f641985",
            "830111f4907b481ca57601538a878803",
            "ee3eb046964f4dc4ac65dd3443ac0a04",
            "a33f023e3b6f4c4ca9c5df82c48c6893",
            "db8893f2d31d4721870f960c5dd303e3",
            "5d0548e10afe4ce983ae8b01cec9b034",
            "f5af0ea43a8446f3b361b4a8cdfdba36",
            "eed2afab4c6942e3bca0b5035b99acef",
            "280de27a686c429291cabd1ff2f6717c"
          ],
          "base_uri": "https://localhost:8080/",
          "height": 98
        }
      },
      "outputs": [
        {
          "output_type": "stream",
          "name": "stderr",
          "text": [
            "<ipython-input-38-8f2452768a61>:1: TqdmDeprecationWarning: This function will be removed in tqdm==5.0.0\n",
            "Please use `tqdm.notebook.tqdm` instead of `tqdm.tqdm_notebook`\n",
            "  system_summaries = [summarize(text) for text in tqdm(tokenized_texts)]\n"
          ]
        },
        {
          "output_type": "display_data",
          "data": {
            "text/plain": [
              "  0%|          | 0/300 [00:00<?, ?it/s]"
            ],
            "application/vnd.jupyter.widget-view+json": {
              "version_major": 2,
              "version_minor": 0,
              "model_id": "c81146b88a4a4df78e3b0ced609ff5af"
            }
          },
          "metadata": {}
        }
      ],
      "source": [
        "system_summaries = [summarize(text) for text in tqdm(tokenized_texts)]"
      ]
    },
    {
      "cell_type": "code",
      "execution_count": 39,
      "metadata": {
        "id": "wNnQ7RiwWDyp"
      },
      "outputs": [],
      "source": [
        "test_sentence_num = 5\n",
        "extracted_sentences = [sent_tokenized_texts[test_sentence_num][i] for score,sentence,i in ranked_sentences][:5]"
      ]
    },
    {
      "cell_type": "code",
      "execution_count": 46,
      "metadata": {
        "id": "XYT9TbmMWDyp",
        "colab": {
          "base_uri": "https://localhost:8080/"
        },
        "outputId": "fefc9a2e-605b-458d-9240-cca2410c2254"
      },
      "outputs": [
        {
          "output_type": "stream",
          "name": "stdout",
          "text": [
            "(CNN) -- Five days of gunbattles between the Indian army and separatist militants in Indian-administered Kashmir have left at least 25 dead -- eight Indian army troopers, including one officer, and 17 militants, the Indian military said Tuesday.\n",
            "An Indian army soldier lays a wreath during the funeral of a slain soldier, northeast of Srinagar on Tuesday.\n",
            "Defense Minister A.K.\n",
            "Antony, meeting with India's military chiefs in Delhi, reviewed the situation in the Himalayan region and told the Army to deal with the situation in the Himalayan region with \"utmost firmness.\"\n",
            "Kashmir has been in the throes of a violent separatist campaign for nearly two decades during which authorities say 43,000 people have been killed.\n",
            "However, various NGOs and rights groups put the number of dead at twice the official count.\n",
            "In Srinigar, Kashmir, Army spokesman Lt. Col. J.S.\n",
            "Brar told CNN the Army was moving against the militants \"based on sound intelligence inputs as well as human intelligence provided by our own sources.\"\n",
            "The battles in the Shamsbhari forests of north Kashmir Kupwara district have caused \"minimum collateral damage to property,\" Brar said.\n",
            "The spokesman denied media reports that helicopter gunships and heavy weapons had been used by the army during these operations against the militants.\n",
            "This month's encounter between the Indian Army and the militants is the second longest in Kashmir this year.\n",
            "In January, a fierce encounter raged for seven days in the Poonch district of Jammu region of Indian-administered Kashmir.\n",
            "Two soldiers, a policeman and four militants were killed in that encounter.\n",
            "Kashmir has been the source of bitter dispute and two wars between India and neighboring Pakistan.\n",
            "Both control parts of the region which is predominantly Muslim.\n"
          ]
        }
      ],
      "source": [
        "print(*sent_tokenized_texts[5], sep='\\n')"
      ]
    },
    {
      "cell_type": "code",
      "execution_count": 48,
      "metadata": {
        "id": "z-n8ePfkWDyq",
        "outputId": "bf8e0c7c-2cf9-43fa-c456-11b89afa465e",
        "colab": {
          "base_uri": "https://localhost:8080/"
        }
      },
      "outputs": [
        {
          "output_type": "stream",
          "name": "stdout",
          "text": [
            "(CNN) -- Five days of gunbattles between the Indian army and separatist militants in Indian-administered Kashmir have left at least 25 dead -- eight Indian army troopers, including one officer, and 17 militants, the Indian military said Tuesday.\n",
            "However, various NGOs and rights groups put the number of dead at twice the official count.\n",
            "Kashmir has been in the throes of a violent separatist campaign for nearly two decades during which authorities say 43,000 people have been killed.\n",
            "This month's encounter between the Indian Army and the militants is the second longest in Kashmir this year.\n",
            "The spokesman denied media reports that helicopter gunships and heavy weapons had been used by the army during these operations against the militants.\n"
          ]
        }
      ],
      "source": [
        "print(*extracted_sentences, sep='\\n')"
      ]
    },
    {
      "cell_type": "markdown",
      "metadata": {
        "id": "AiGGKIfiWDyq"
      },
      "source": [
        "## Метрика качества:"
      ]
    },
    {
      "cell_type": "markdown",
      "metadata": {
        "id": "O8QTUGNiWDyq"
      },
      "source": [
        "Существуют разные метрики оценки качества алгоритмов суммаризации. Подробнее с ними можно познакомитсья здесь.\n",
        "\n",
        "Одна из самых популярных метрик в этой задаче $-$  $ROUGE_n$."
      ]
    },
    {
      "cell_type": "markdown",
      "metadata": {
        "id": "UbZtmW3gWDyq"
      },
      "source": [
        "$Доля\\ n$-$грамм\\ из\\ рефератов,\\ вошедших\\ в\\ s:$\n",
        "$$$$\n",
        "$ ROUGE_n(S) = \\frac{\\sum_{r\\in R} \\sum_{w} [w \\in s][w \\in r]}{\\sum_{r \\in R} \\sum_w [w \\in r]}$\n",
        "$$$$\n",
        "$ Доля\\ n-грамм\\ самого\\ близкого\\ реферата,\\ вошедших\\ в\\ s:$\n",
        "$$$$\n",
        "$ ROUGE_{n_{multi}}(S) = \\frac{max_{r\\in R} \\sum_{w} [w \\in s][w \\in r]}{\\sum_{r \\in R} \\sum_w [w \\in r]}$"
      ]
    },
    {
      "cell_type": "markdown",
      "metadata": {
        "id": "HDqTU3EPWDyq"
      },
      "source": [
        "Посмотрим, с каким качеством работает наш алгоритм.\n",
        "Воспользуемся готовой реализацией метрики из библиотеки pyrouge: инструкция по установке [отсюда](https://stackoverflow.com/questions/45894212/installing-pyrouge-gets-error-in-ubuntu)"
      ]
    },
    {
      "cell_type": "code",
      "source": [
        "#!git clone https://github.com/bheinzerling/pyrouge\n",
        "!pip install -e pyrouge"
      ],
      "metadata": {
        "colab": {
          "base_uri": "https://localhost:8080/"
        },
        "id": "UEj92Kkpc3NF",
        "outputId": "60c36375-e180-4e14-b875-70987eca4d95"
      },
      "execution_count": 64,
      "outputs": [
        {
          "output_type": "stream",
          "name": "stdout",
          "text": [
            "Obtaining file:///content/pyrouge\n",
            "  Preparing metadata (setup.py) ... \u001b[?25l\u001b[?25hdone\n",
            "Installing collected packages: pyrouge\n",
            "  Running setup.py develop for pyrouge\n",
            "Successfully installed pyrouge-0.1.3\n"
          ]
        }
      ]
    },
    {
      "cell_type": "code",
      "source": [
        "!git clone https://github.com/andersjo/pyrouge.git rouge"
      ],
      "metadata": {
        "colab": {
          "base_uri": "https://localhost:8080/"
        },
        "id": "2kfbFei0dKc0",
        "outputId": "e292e648-1264-49bd-874f-4975cdfcef39"
      },
      "execution_count": 65,
      "outputs": [
        {
          "output_type": "stream",
          "name": "stdout",
          "text": [
            "Cloning into 'rouge'...\n",
            "remote: Enumerating objects: 393, done.\u001b[K\n",
            "remote: Total 393 (delta 0), reused 0 (delta 0), pack-reused 393\u001b[K\n",
            "Receiving objects: 100% (393/393), 298.74 KiB | 1.40 MiB/s, done.\n",
            "Resolving deltas: 100% (109/109), done.\n"
          ]
        }
      ]
    },
    {
      "cell_type": "code",
      "source": [
        "!pwd"
      ],
      "metadata": {
        "colab": {
          "base_uri": "https://localhost:8080/"
        },
        "id": "oIERIJuZehfI",
        "outputId": "b578d1bd-3cab-4f9d-ba2c-8d9ccbb56a05"
      },
      "execution_count": 83,
      "outputs": [
        {
          "output_type": "stream",
          "name": "stdout",
          "text": [
            "/content\n"
          ]
        }
      ]
    },
    {
      "cell_type": "code",
      "source": [
        "!pyrouge_set_rouge_path /content/rouge/tools/ROUGE-1.5.5/"
      ],
      "metadata": {
        "colab": {
          "base_uri": "https://localhost:8080/"
        },
        "id": "FBYTjEsXdimI",
        "outputId": "8b6019a1-f2c7-4b13-84ef-ddaf5756fd6b"
      },
      "execution_count": 84,
      "outputs": [
        {
          "output_type": "stream",
          "name": "stdout",
          "text": [
            "2023-12-20 13:46:27,114 [MainThread  ] [INFO ]  Set ROUGE home directory to /content/rouge/tools/ROUGE-1.5.5/.\n"
          ]
        }
      ]
    },
    {
      "cell_type": "code",
      "source": [
        "!apt-get install libxml-parser-perl"
      ],
      "metadata": {
        "id": "OMqZo5Btd33E"
      },
      "execution_count": null,
      "outputs": []
    },
    {
      "cell_type": "code",
      "source": [
        "! rm rouge/tools/ROUGE-1.5.5/data/WordNet-2.0.exc.db"
      ],
      "metadata": {
        "id": "vSn0eK_TeOJ3"
      },
      "execution_count": 86,
      "outputs": []
    },
    {
      "cell_type": "code",
      "source": [
        "%%bash\n",
        "DIR=\"/content/rouge/tools/ROUGE-1.5.5\"\n",
        "pyrouge_set_rouge_path $DIR\n",
        "cd $DIR/data\n",
        "mv WordNet-2.0.exc.db WordNet-2.0.exc.db.orig\n",
        "perl WordNet-2.0-Exceptions/buildExeptionDB.pl ./WordNet-2.0-Exceptions ./smart_common_words.txt ./WordNet-2.0.exc.db\n",
        "python -m pyrouge.test"
      ],
      "metadata": {
        "colab": {
          "base_uri": "https://localhost:8080/"
        },
        "id": "XRU4Pgafgtq4",
        "outputId": "a3b02eaf-1b7f-4711-e077-83fa7208540a"
      },
      "execution_count": 111,
      "outputs": [
        {
          "output_type": "stream",
          "name": "stdout",
          "text": [
            "/tmp/tmpzyguak44/config_test.xml data/config_test.xml\n"
          ]
        },
        {
          "output_type": "stream",
          "name": "stderr",
          "text": [
            "2023-12-20 13:57:20,483 [MainThread  ] [INFO ]  Set ROUGE home directory to /content/rouge/tools/ROUGE-1.5.5.\n",
            "mv: cannot stat 'WordNet-2.0.exc.db': No such file or directory\n",
            "2023-12-20 13:57:20,950 [MainThread  ] [INFO ]  Written ROUGE configuration to /tmp/tmp3pr2fekx/rouge_conf.xml\n",
            ".2023-12-20 13:57:21,433 [MainThread  ] [INFO ]  Processing files in data/SL2003_models_plain_text.\n",
            "2023-12-20 13:57:21,433 [MainThread  ] [INFO ]  Processing SL.P.10.R.A.SL062003-08.html.\n",
            "2023-12-20 13:57:21,433 [MainThread  ] [INFO ]  Processing SL.P.10.R.A.SL062003-23.html.\n",
            "2023-12-20 13:57:21,434 [MainThread  ] [INFO ]  Processing SL.P.10.R.A.SL062003-07.html.\n",
            "2023-12-20 13:57:21,434 [MainThread  ] [INFO ]  Processing SL.P.10.R.A.SL062003-24.html.\n",
            "2023-12-20 13:57:21,435 [MainThread  ] [INFO ]  Processing SL.P.10.R.A.SL062003-16.html.\n",
            "2023-12-20 13:57:21,435 [MainThread  ] [INFO ]  Processing SL.P.10.R.A.SL062003-13.html.\n",
            "2023-12-20 13:57:21,435 [MainThread  ] [INFO ]  Processing SL.P.10.R.A.SL062003-22.html.\n",
            "2023-12-20 13:57:21,436 [MainThread  ] [INFO ]  Processing SL.P.10.R.A.SL062003-04.html.\n",
            "2023-12-20 13:57:21,436 [MainThread  ] [INFO ]  Processing SL.P.10.R.A.SL062003-11.html.\n",
            "2023-12-20 13:57:21,436 [MainThread  ] [INFO ]  Processing SL.P.10.R.A.SL062003-21.html.\n",
            "2023-12-20 13:57:21,437 [MainThread  ] [INFO ]  Processing SL.P.10.R.A.SL062003-05.html.\n",
            "2023-12-20 13:57:21,437 [MainThread  ] [INFO ]  Processing SL.P.10.R.A.SL062003-19.html.\n",
            "2023-12-20 13:57:21,437 [MainThread  ] [INFO ]  Processing SL.P.10.R.A.SL062003-18.html.\n",
            "2023-12-20 13:57:21,438 [MainThread  ] [INFO ]  Processing SL.P.10.R.A.SL062003-20.html.\n",
            "2023-12-20 13:57:21,438 [MainThread  ] [INFO ]  Processing SL.P.10.R.A.SL062003-12.html.\n",
            "2023-12-20 13:57:21,438 [MainThread  ] [INFO ]  Processing SL.P.10.R.A.SL062003-14.html.\n",
            "2023-12-20 13:57:21,439 [MainThread  ] [INFO ]  Processing SL.P.10.R.A.SL062003-10.html.\n",
            "2023-12-20 13:57:21,439 [MainThread  ] [INFO ]  Processing SL.P.10.R.A.SL062003-06.html.\n",
            "2023-12-20 13:57:21,439 [MainThread  ] [INFO ]  Processing SL.P.10.R.A.SL062003-03.html.\n",
            "2023-12-20 13:57:21,440 [MainThread  ] [INFO ]  Processing SL.P.10.R.A.SL062003-01.html.\n",
            "2023-12-20 13:57:21,440 [MainThread  ] [INFO ]  Processing SL.P.10.R.A.SL062003-02.html.\n",
            "2023-12-20 13:57:21,440 [MainThread  ] [INFO ]  Processing SL.P.10.R.A.SL062003-15.html.\n",
            "2023-12-20 13:57:21,441 [MainThread  ] [INFO ]  Processing SL.P.10.R.A.SL062003-09.html.\n",
            "2023-12-20 13:57:21,441 [MainThread  ] [INFO ]  Processing SL.P.10.R.A.SL062003-25.html.\n",
            "2023-12-20 13:57:21,442 [MainThread  ] [INFO ]  Processing SL.P.10.R.A.SL062003-17.html.\n",
            "2023-12-20 13:57:21,442 [MainThread  ] [INFO ]  Saved processed files to /tmp/tmpzu7hx349.\n",
            ".2023-12-20 13:57:21,485 [MainThread  ] [INFO ]  Written ROUGE configuration to /tmp/tmp1625l1wr/rouge_conf.xml\n",
            "2023-12-20 13:57:21,486 [MainThread  ] [INFO ]  Running ROUGE with command /content/rouge/tools/ROUGE-1.5.5/ROUGE-1.5.5.pl -e /content/rouge/tools/ROUGE-1.5.5/data -c 95 -2 -1 -U -r 1000 -n 4 -w 1.2 -a -m /tmp/tmp1625l1wr/rouge_conf.xml\n",
            ".2023-12-20 13:57:23,273 [MainThread  ] [INFO ]  Processing files in data/SL2003_models_rouge_format.\n",
            "2023-12-20 13:57:23,273 [MainThread  ] [INFO ]  Processing SL.P.10.R.A.SL062003-08.html.\n",
            "/content/pyrouge/bin/pyrouge_convert_rouge_format_to_plain_text:14: GuessedAtParserWarning: No parser was explicitly specified, so I'm using the best available HTML parser for this system (\"lxml\"). This usually isn't a problem, but if you run this code on another system, or in a different virtual environment, it may use a different parser and behave differently.\n",
            "\n",
            "The code that caused this warning is on line 14 of the file /content/pyrouge/bin/pyrouge_convert_rouge_format_to_plain_text. To get rid of this warning, pass the additional argument 'features=\"lxml\"' to the BeautifulSoup constructor.\n",
            "\n",
            "  soup = BeautifulSoup(html)\n",
            "2023-12-20 13:57:23,274 [MainThread  ] [INFO ]  Processing SL.P.10.R.A.SL062003-23.html.\n",
            "2023-12-20 13:57:23,275 [MainThread  ] [INFO ]  Processing SL.P.10.R.A.SL062003-07.html.\n",
            "2023-12-20 13:57:23,276 [MainThread  ] [INFO ]  Processing SL.P.10.R.A.SL062003-24.html.\n",
            "2023-12-20 13:57:23,276 [MainThread  ] [INFO ]  Processing SL.P.10.R.A.SL062003-16.html.\n",
            "2023-12-20 13:57:23,277 [MainThread  ] [INFO ]  Processing SL.P.10.R.A.SL062003-13.html.\n",
            "2023-12-20 13:57:23,278 [MainThread  ] [INFO ]  Processing SL.P.10.R.A.SL062003-22.html.\n",
            "2023-12-20 13:57:23,279 [MainThread  ] [INFO ]  Processing SL.P.10.R.A.SL062003-04.html.\n",
            "2023-12-20 13:57:23,279 [MainThread  ] [INFO ]  Processing SL.P.10.R.A.SL062003-11.html.\n",
            "2023-12-20 13:57:23,280 [MainThread  ] [INFO ]  Processing SL.P.10.R.A.SL062003-21.html.\n",
            "2023-12-20 13:57:23,281 [MainThread  ] [INFO ]  Processing SL.P.10.R.A.SL062003-05.html.\n",
            "2023-12-20 13:57:23,281 [MainThread  ] [INFO ]  Processing SL.P.10.R.A.SL062003-19.html.\n",
            "2023-12-20 13:57:23,282 [MainThread  ] [INFO ]  Processing SL.P.10.R.A.SL062003-18.html.\n",
            "2023-12-20 13:57:23,283 [MainThread  ] [INFO ]  Processing SL.P.10.R.A.SL062003-20.html.\n",
            "2023-12-20 13:57:23,283 [MainThread  ] [INFO ]  Processing SL.P.10.R.A.SL062003-12.html.\n",
            "2023-12-20 13:57:23,284 [MainThread  ] [INFO ]  Processing SL.P.10.R.A.SL062003-14.html.\n",
            "2023-12-20 13:57:23,285 [MainThread  ] [INFO ]  Processing SL.P.10.R.A.SL062003-10.html.\n",
            "2023-12-20 13:57:23,286 [MainThread  ] [INFO ]  Processing SL.P.10.R.A.SL062003-06.html.\n",
            "2023-12-20 13:57:23,286 [MainThread  ] [INFO ]  Processing SL.P.10.R.A.SL062003-03.html.\n",
            "2023-12-20 13:57:23,287 [MainThread  ] [INFO ]  Processing SL.P.10.R.A.SL062003-01.html.\n",
            "2023-12-20 13:57:23,288 [MainThread  ] [INFO ]  Processing SL.P.10.R.A.SL062003-02.html.\n",
            "2023-12-20 13:57:23,289 [MainThread  ] [INFO ]  Processing SL.P.10.R.A.SL062003-15.html.\n",
            "2023-12-20 13:57:23,289 [MainThread  ] [INFO ]  Processing SL.P.10.R.A.SL062003-09.html.\n",
            "2023-12-20 13:57:23,290 [MainThread  ] [INFO ]  Processing SL.P.10.R.A.SL062003-25.html.\n",
            "2023-12-20 13:57:23,291 [MainThread  ] [INFO ]  Processing SL.P.10.R.A.SL062003-17.html.\n",
            "2023-12-20 13:57:23,291 [MainThread  ] [INFO ]  Saved processed files to /tmp/tmp1mmnu90v.\n",
            ".2023-12-20 13:57:23,581 [MainThread  ] [INFO ]  Writing summaries.\n",
            "2023-12-20 13:57:23,581 [MainThread  ] [INFO ]  Processing summaries. Saving system files to /tmp/tmpcyb5lxur/system and model files to /tmp/tmpcyb5lxur/model.\n",
            "2023-12-20 13:57:23,581 [MainThread  ] [INFO ]  Processing files in data/systems_plain.\n",
            "2023-12-20 13:57:23,582 [MainThread  ] [INFO ]  Processing D30001.M.100.T.A.\n",
            "2023-12-20 13:57:23,582 [MainThread  ] [INFO ]  Processing D30005.M.100.T.A.\n",
            "2023-12-20 13:57:23,582 [MainThread  ] [INFO ]  Processing D30002.M.100.T.A.\n",
            "2023-12-20 13:57:23,582 [MainThread  ] [INFO ]  Processing D30003.M.100.T.A.\n",
            "2023-12-20 13:57:23,583 [MainThread  ] [INFO ]  Saved processed files to /tmp/tmpcyb5lxur/system.\n",
            "2023-12-20 13:57:23,583 [MainThread  ] [INFO ]  Processing files in data/models_plain.\n",
            "2023-12-20 13:57:23,583 [MainThread  ] [INFO ]  Processing D30002.M.100.T.C.\n",
            "2023-12-20 13:57:23,583 [MainThread  ] [INFO ]  Processing D30001.M.100.T.D.\n",
            "2023-12-20 13:57:23,583 [MainThread  ] [INFO ]  Processing D30003.M.100.T.C.\n",
            "2023-12-20 13:57:23,583 [MainThread  ] [INFO ]  Processing D30003.M.100.T.B.\n",
            "2023-12-20 13:57:23,584 [MainThread  ] [INFO ]  Processing D30002.M.100.T.B.\n",
            "2023-12-20 13:57:23,584 [MainThread  ] [INFO ]  Processing D30005.M.100.T.C.\n",
            "2023-12-20 13:57:23,584 [MainThread  ] [INFO ]  Processing D30001.M.100.T.B.\n",
            "2023-12-20 13:57:23,584 [MainThread  ] [INFO ]  Processing D30003.M.100.T.F.\n",
            "2023-12-20 13:57:23,585 [MainThread  ] [INFO ]  Processing D30005.M.100.T.G.\n",
            "2023-12-20 13:57:23,585 [MainThread  ] [INFO ]  Processing D30002.M.100.T.E.\n",
            "2023-12-20 13:57:23,585 [MainThread  ] [INFO ]  Processing D30001.M.100.T.C.\n",
            "2023-12-20 13:57:23,585 [MainThread  ] [INFO ]  Processing D30005.M.100.T.B.\n",
            "2023-12-20 13:57:23,585 [MainThread  ] [INFO ]  Saved processed files to /tmp/tmpcyb5lxur/model.\n",
            "2023-12-20 13:57:23,587 [MainThread  ] [INFO ]  Written ROUGE configuration to /tmp/tmpdfjea5zi/rouge_conf.xml\n",
            "2023-12-20 13:57:23,587 [MainThread  ] [INFO ]  Running ROUGE with command /content/rouge/tools/ROUGE-1.5.5/ROUGE-1.5.5.pl -e /content/rouge/tools/ROUGE-1.5.5/data -c 90 -2 -1 -U -r 1000 -n 2 -w 1.2 -a -m data/config_test2.xml -m /tmp/tmpdfjea5zi/rouge_conf.xml\n",
            "..2023-12-20 13:57:25,254 [MainThread  ] [INFO ]  Writing summaries.\n",
            "2023-12-20 13:57:25,255 [MainThread  ] [INFO ]  Processing summaries. Saving system files to /tmp/tmp9pm3u376/system and model files to /tmp/tmp9pm3u376/model.\n",
            "2023-12-20 13:57:25,255 [MainThread  ] [INFO ]  Processing files in data/systems_plain.\n",
            "2023-12-20 13:57:25,255 [MainThread  ] [INFO ]  Processing D30001.M.100.T.A.\n",
            "2023-12-20 13:57:25,255 [MainThread  ] [INFO ]  Processing D30005.M.100.T.A.\n",
            "2023-12-20 13:57:25,256 [MainThread  ] [INFO ]  Processing D30002.M.100.T.A.\n",
            "2023-12-20 13:57:25,256 [MainThread  ] [INFO ]  Processing D30003.M.100.T.A.\n",
            "2023-12-20 13:57:25,256 [MainThread  ] [INFO ]  Saved processed files to /tmp/tmp9pm3u376/system.\n",
            "2023-12-20 13:57:25,256 [MainThread  ] [INFO ]  Processing files in data/models_plain.\n",
            "2023-12-20 13:57:25,256 [MainThread  ] [INFO ]  Processing D30002.M.100.T.C.\n",
            "2023-12-20 13:57:25,256 [MainThread  ] [INFO ]  Processing D30001.M.100.T.D.\n",
            "2023-12-20 13:57:25,257 [MainThread  ] [INFO ]  Processing D30003.M.100.T.C.\n",
            "2023-12-20 13:57:25,257 [MainThread  ] [INFO ]  Processing D30003.M.100.T.B.\n",
            "2023-12-20 13:57:25,257 [MainThread  ] [INFO ]  Processing D30002.M.100.T.B.\n",
            "2023-12-20 13:57:25,257 [MainThread  ] [INFO ]  Processing D30005.M.100.T.C.\n",
            "2023-12-20 13:57:25,257 [MainThread  ] [INFO ]  Processing D30001.M.100.T.B.\n",
            "2023-12-20 13:57:25,258 [MainThread  ] [INFO ]  Processing D30003.M.100.T.F.\n",
            "2023-12-20 13:57:25,258 [MainThread  ] [INFO ]  Processing D30005.M.100.T.G.\n",
            "2023-12-20 13:57:25,258 [MainThread  ] [INFO ]  Processing D30002.M.100.T.E.\n",
            "2023-12-20 13:57:25,258 [MainThread  ] [INFO ]  Processing D30001.M.100.T.C.\n",
            "2023-12-20 13:57:25,258 [MainThread  ] [INFO ]  Processing D30005.M.100.T.B.\n",
            "2023-12-20 13:57:25,259 [MainThread  ] [INFO ]  Saved processed files to /tmp/tmp9pm3u376/model.\n",
            "2023-12-20 13:57:25,260 [MainThread  ] [INFO ]  Written ROUGE configuration to /tmp/tmpdmfu5211/rouge_conf.xml\n",
            "2023-12-20 13:57:25,260 [MainThread  ] [INFO ]  Running ROUGE with command /content/rouge/tools/ROUGE-1.5.5/ROUGE-1.5.5.pl -e /content/rouge/tools/ROUGE-1.5.5/data -c 95 -2 -1 -U -r 1000 -n 4 -w 1.2 -a -m /tmp/tmpdmfu5211/rouge_conf.xml\n",
            ".....\n",
            "----------------------------------------------------------------------\n",
            "Ran 11 tests in 6.072s\n",
            "\n",
            "OK\n"
          ]
        }
      ]
    },
    {
      "cell_type": "markdown",
      "metadata": {
        "id": "AzrlzmlsWDyq"
      },
      "source": [
        "Создадим папки system_input_dir и model_input_dir для кратких содержаний, сгенерированных нашим алгоритмом и для правильных кратких содержаний соответственно."
      ]
    },
    {
      "cell_type": "code",
      "execution_count": 49,
      "metadata": {
        "id": "Q1fmhXv3WDyq"
      },
      "outputs": [],
      "source": [
        "!mkdir system_input_dir\n",
        "!mkdir model_input_dir"
      ]
    },
    {
      "cell_type": "markdown",
      "metadata": {
        "id": "aR6M-dGbWDyr"
      },
      "source": [
        "Сохраним краткие содержания в соответствующие папки. В каждом файле будет один текст, в каждой строке $-$ одно предложение."
      ]
    },
    {
      "cell_type": "code",
      "execution_count": 50,
      "metadata": {
        "id": "D0hys8iaWDyr"
      },
      "outputs": [],
      "source": [
        "sent_tokenized_summaries = [sent_tokenize(s) for s in summaries]"
      ]
    },
    {
      "cell_type": "code",
      "execution_count": 51,
      "metadata": {
        "id": "FzpOlVO2WDyr"
      },
      "outputs": [],
      "source": [
        "for i, summary in enumerate(sent_tokenized_summaries):\n",
        "    with open('./model_input_dir/summary_{0}.txt'.format(i), 'w') as f:\n",
        "        f.writelines([sentence+'\\n' for sentence in summary])"
      ]
    },
    {
      "cell_type": "code",
      "execution_count": 52,
      "metadata": {
        "id": "_cQImnwlWDyr"
      },
      "outputs": [],
      "source": [
        "for i, summary in enumerate(system_summaries):\n",
        "    with open('./system_input_dir/summary_{0}.txt'.format(i), 'w') as f:\n",
        "        f.writelines([sentence+'\\n' for sentence in summary])"
      ]
    },
    {
      "cell_type": "markdown",
      "metadata": {
        "id": "-nBng2O-WDyr"
      },
      "source": [
        "Для использования библиотеки pyrouge данные нужно перевести в в специальный формат.\n",
        "Создадим папки для новых данных (в формате, нужном для библиотеки) и переведем данные в этот формат."
      ]
    },
    {
      "cell_type": "code",
      "execution_count": 53,
      "metadata": {
        "id": "E-p4CO1QWDyr"
      },
      "outputs": [],
      "source": [
        "!mkdir system_output_dir\n",
        "!mkdir model_output_dir"
      ]
    },
    {
      "cell_type": "code",
      "execution_count": null,
      "metadata": {
        "id": "sUKGH5s0WDys"
      },
      "outputs": [],
      "source": [
        "from pyrouge import Rouge155\n",
        "\n",
        "Rouge155.convert_summaries_to_rouge_format('./system_input_dir', './system_output_dir')\n",
        "Rouge155.convert_summaries_to_rouge_format('./model_input_dir', './model_output_dir')"
      ]
    },
    {
      "cell_type": "code",
      "execution_count": 89,
      "metadata": {
        "id": "WTGK_gL_WDys"
      },
      "outputs": [],
      "source": [
        "Rouge155.write_config_static(\n",
        "    './system_output_dir', 'summary_(\\d+).txt',\n",
        "    './model_output_dir', 'summary_#ID#.txt',\n",
        "    './rouge_conf.config')"
      ]
    },
    {
      "cell_type": "code",
      "execution_count": 112,
      "metadata": {
        "id": "Nz_aTaoLWDys",
        "outputId": "91619850-5b5e-4e47-fd93-f18a0bd2b6fb",
        "colab": {
          "base_uri": "https://localhost:8080/"
        }
      },
      "outputs": [
        {
          "output_type": "stream",
          "name": "stdout",
          "text": [
            "2023-12-20 13:57:56,218 [MainThread  ] [INFO ]  Written ROUGE configuration to /tmp/tmphvetxggt/rouge_conf.xml\n",
            "2023-12-20 13:57:56,219 [MainThread  ] [INFO ]  Running ROUGE with command /content/rouge/tools/ROUGE-1.5.5/ROUGE-1.5.5.pl -e /content/rouge/tools/ROUGE-1.5.5/data -c 95 -2 -1 -U -r 1000 -n 4 -w 1.2 -a -m /tmp/tmphvetxggt/rouge_conf.xml\n",
            "---------------------------------------------\n",
            "1 ROUGE-1 Average_R: 0.52867 (95%-conf.int. 0.51132 - 0.54781)\n",
            "1 ROUGE-1 Average_P: 0.15862 (95%-conf.int. 0.15151 - 0.16601)\n",
            "1 ROUGE-1 Average_F: 0.24066 (95%-conf.int. 0.23102 - 0.25059)\n",
            "---------------------------------------------\n",
            "1 ROUGE-2 Average_R: 0.16573 (95%-conf.int. 0.14998 - 0.18229)\n",
            "1 ROUGE-2 Average_P: 0.04937 (95%-conf.int. 0.04393 - 0.05534)\n",
            "1 ROUGE-2 Average_F: 0.07490 (95%-conf.int. 0.06694 - 0.08321)\n",
            "---------------------------------------------\n",
            "1 ROUGE-3 Average_R: 0.07832 (95%-conf.int. 0.06697 - 0.08941)\n",
            "1 ROUGE-3 Average_P: 0.02358 (95%-conf.int. 0.01943 - 0.02801)\n",
            "1 ROUGE-3 Average_F: 0.03561 (95%-conf.int. 0.02975 - 0.04175)\n",
            "---------------------------------------------\n",
            "1 ROUGE-4 Average_R: 0.04614 (95%-conf.int. 0.03747 - 0.05547)\n",
            "1 ROUGE-4 Average_P: 0.01418 (95%-conf.int. 0.01080 - 0.01776)\n",
            "1 ROUGE-4 Average_F: 0.02129 (95%-conf.int. 0.01654 - 0.02642)\n",
            "---------------------------------------------\n",
            "1 ROUGE-L Average_R: 0.47948 (95%-conf.int. 0.46372 - 0.49679)\n",
            "1 ROUGE-L Average_P: 0.14421 (95%-conf.int. 0.13740 - 0.15133)\n",
            "1 ROUGE-L Average_F: 0.21867 (95%-conf.int. 0.20952 - 0.22824)\n",
            "---------------------------------------------\n",
            "1 ROUGE-W-1.2 Average_R: 0.21013 (95%-conf.int. 0.20170 - 0.21876)\n",
            "1 ROUGE-W-1.2 Average_P: 0.10368 (95%-conf.int. 0.09856 - 0.10902)\n",
            "1 ROUGE-W-1.2 Average_F: 0.13610 (95%-conf.int. 0.13024 - 0.14192)\n",
            "---------------------------------------------\n",
            "1 ROUGE-S* Average_R: 0.24687 (95%-conf.int. 0.23090 - 0.26444)\n",
            "1 ROUGE-S* Average_P: 0.02331 (95%-conf.int. 0.02085 - 0.02634)\n",
            "1 ROUGE-S* Average_F: 0.04146 (95%-conf.int. 0.03748 - 0.04617)\n",
            "---------------------------------------------\n",
            "1 ROUGE-SU* Average_R: 0.26009 (95%-conf.int. 0.24408 - 0.27741)\n",
            "1 ROUGE-SU* Average_P: 0.02520 (95%-conf.int. 0.02264 - 0.02830)\n",
            "1 ROUGE-SU* Average_F: 0.04472 (95%-conf.int. 0.04067 - 0.04954)\n",
            "\n"
          ]
        }
      ],
      "source": [
        "!pyrouge_evaluate_rouge_format_files -s system_output_dir -sfp 'summary_(\\d+).txt' -m model_output_dir -mfp 'summary_#ID#.txt'"
      ]
    },
    {
      "cell_type": "markdown",
      "metadata": {
        "id": "OR9i1eOwWDys"
      },
      "source": [
        "## Абстрактивная суммаризация с помощью BART"
      ]
    },
    {
      "cell_type": "markdown",
      "metadata": {
        "id": "pNu4xMZJWDys"
      },
      "source": [
        "BART - это энкодер-декодер модель, обученная для решения задачи суммаризации текста. Мы можем воспользоваться ее реализацией из библиотеки Transformers:"
      ]
    },
    {
      "cell_type": "code",
      "source": [
        "!pip install -q transformers datasets evaluate rouge_score"
      ],
      "metadata": {
        "colab": {
          "base_uri": "https://localhost:8080/"
        },
        "id": "rFtY_rA5kzk6",
        "outputId": "d00571de-5a29-4019-e8c3-3c239acac23a"
      },
      "execution_count": 113,
      "outputs": [
        {
          "output_type": "stream",
          "name": "stdout",
          "text": [
            "\u001b[?25l     \u001b[90m━━━━━━━━━━━━━━━━━━━━━━━━━━━━━━━━━━━━━━━━\u001b[0m \u001b[32m0.0/521.2 kB\u001b[0m \u001b[31m?\u001b[0m eta \u001b[36m-:--:--\u001b[0m\r\u001b[2K     \u001b[91m━━━\u001b[0m\u001b[90m╺\u001b[0m\u001b[90m━━━━━━━━━━━━━━━━━━━━━━━━━━━━━━━━━━━━\u001b[0m \u001b[32m41.0/521.2 kB\u001b[0m \u001b[31m1.2 MB/s\u001b[0m eta \u001b[36m0:00:01\u001b[0m\r\u001b[2K     \u001b[91m━━━━━━━━━━━━━━━━━━━━━━━━━\u001b[0m\u001b[90m╺\u001b[0m\u001b[90m━━━━━━━━━━━━━━\u001b[0m \u001b[32m327.7/521.2 kB\u001b[0m \u001b[31m4.7 MB/s\u001b[0m eta \u001b[36m0:00:01\u001b[0m\r\u001b[2K     \u001b[90m━━━━━━━━━━━━━━━━━━━━━━━━━━━━━━━━━━━━━━━━\u001b[0m \u001b[32m521.2/521.2 kB\u001b[0m \u001b[31m5.1 MB/s\u001b[0m eta \u001b[36m0:00:00\u001b[0m\n",
            "\u001b[?25h\u001b[?25l     \u001b[90m━━━━━━━━━━━━━━━━━━━━━━━━━━━━━━━━━━━━━━━━\u001b[0m \u001b[32m0.0/84.1 kB\u001b[0m \u001b[31m?\u001b[0m eta \u001b[36m-:--:--\u001b[0m\r\u001b[2K     \u001b[90m━━━━━━━━━━━━━━━━━━━━━━━━━━━━━━━━━━━━━━━━\u001b[0m \u001b[32m84.1/84.1 kB\u001b[0m \u001b[31m7.7 MB/s\u001b[0m eta \u001b[36m0:00:00\u001b[0m\n",
            "\u001b[?25h  Preparing metadata (setup.py) ... \u001b[?25l\u001b[?25hdone\n",
            "  Building wheel for rouge_score (setup.py) ... \u001b[?25l\u001b[?25hdone\n"
          ]
        }
      ]
    },
    {
      "cell_type": "code",
      "source": [
        "from transformers import pipeline\n",
        "import evaluate\n",
        "\n",
        "summarizer = pipeline(\"summarization\", model=\"facebook/bart-large-cnn\")"
      ],
      "metadata": {
        "colab": {
          "base_uri": "https://localhost:8080/",
          "height": 208,
          "referenced_widgets": [
            "2b5c498dd389418dad26250b98304361",
            "aadbda359c9b439082669cab517458ed",
            "3be25605ef4a4f5fb3d64a5761974caf",
            "526d77f86fd146c9a135ed536b03c6a7",
            "d1538aacf805436f8e7e0a6ed415370a",
            "7aecc48fe3be4f9eb3fe6a282ab73c89",
            "b999a8ace40543fcb67a89b23b7eeedf",
            "5aabe1dd41204c0fa0f17b510b6b4999",
            "6abe1ee61d09494d9a08409b9baf17d9",
            "4e98a57ca6e04d69a05f45f3667998c6",
            "d65507aef1694dabbee4c463a9d26809",
            "bcfe8bad19754c709ca4c74d8249fdab",
            "aee44c6c66b141b090ea78903ed0ad1c",
            "9752812dd3ab49b0b748d9215352e7f3",
            "ca21d22223a84609a560b06db29825fe",
            "10f6789f2c094cd293a6d38492f6f9b3",
            "95eac5e264874077850fb68522f51244",
            "cfb7ca3142e9422aa78cf8f530ea0609",
            "d0a8c8c1e9ce4cefb9f6897c429af6b9",
            "27d0e69fc15045858c1365fe6ee629fa",
            "99b39d56ff7e4f07b9a5790b25d39832",
            "0835d6f9b5c9465aa23954d94824200d",
            "1be11f680e0f4bfb9837526fdbab5b57",
            "4295a37c7c214aa6877a7e5e99534152",
            "2572b2cdfd1b4d7a84776c2c283efabc",
            "f7d8432920964a76870350cb4da7e8cf",
            "e82caa5d5024400da0f76c65848acd2e",
            "fc019dd9d40b4e2f88715e7171be3068",
            "60847007132a453a843e2a204639991c",
            "0d693dde40724f8483ba279e33bdd7b2",
            "71d7242ffbb6467b8c6a85ef6219f1bc",
            "11f5818cd7464d918e7684cffca8d73a",
            "b0396174d20643d48093ed5e3e9124fc",
            "757200ce47634bd4b92d6b4c888bee8c",
            "0cdf32dc8c014c949aeeb517dd7035d5",
            "0f122f5da46e487da080342da6afbe66",
            "87106a9d174c464aaa1ee237b041727f",
            "b4b04c1d42544120853106a905b9a482",
            "c7de2a4321f341e4b3f36b3c85b4bd18",
            "b0f3b8c74d434686ad88e187c157c5e4",
            "8064a99541084824809ea5f84c1a55dc",
            "3a163d46c1b040d8b69529c0841b2324",
            "478767afa54c49189909c7385158e69e",
            "7a1f5d92a2214ec3aa08b24375acead2",
            "422f16c7370e4abc83419965586e160a",
            "9aa52a39adfb4958816d2df70555a548",
            "bd403fd705744ecd9479d33621a40594",
            "df293a1f7b97461b87bb5556579e8d36",
            "60a6c1e6fe8c467ab142434c377b0d6b",
            "d60659235b1947a2b5c8d9e6969689e8",
            "6133549a623d4c768a186c5752f46aad",
            "0d1307d6ba714dd4bb063daa7e9f28a5",
            "aac3188768514dab9e5a118a649cc47b",
            "09201d4571844230a7eabd9230ae8347",
            "e8ef005ea2e14414b77254e89c173476",
            "d000953cb48042ebbc993cf70c8a213b",
            "fd174a1b6dbb4e6386e1f6f84d59e5eb",
            "777ace7f941e40f49fb9b3f1f97a07b9",
            "f5cdec812aa343b2ba9f8deee3fa99c3",
            "ba884fa127ae4c1d9b09ceae15e24bc9",
            "cf14dd1e98aa4fdca6930f7f379b69b1",
            "331f97e82482425d9ff858d005e739c8",
            "7ad721ca703248adb8ba76f9aaf359e7",
            "f9f10900584d4f478efdccea3cac760c",
            "0a9b0e643b7b4067b41ec12ea462dd09",
            "3731631569c348ccbdee137bb950e0e6"
          ]
        },
        "id": "Ugu1bGQYk3rP",
        "outputId": "a773217c-cb2d-4bb4-f01c-49dfd1fc2d96"
      },
      "execution_count": 114,
      "outputs": [
        {
          "output_type": "display_data",
          "data": {
            "text/plain": [
              "config.json:   0%|          | 0.00/1.58k [00:00<?, ?B/s]"
            ],
            "application/vnd.jupyter.widget-view+json": {
              "version_major": 2,
              "version_minor": 0,
              "model_id": "2b5c498dd389418dad26250b98304361"
            }
          },
          "metadata": {}
        },
        {
          "output_type": "display_data",
          "data": {
            "text/plain": [
              "model.safetensors:   0%|          | 0.00/1.63G [00:00<?, ?B/s]"
            ],
            "application/vnd.jupyter.widget-view+json": {
              "version_major": 2,
              "version_minor": 0,
              "model_id": "bcfe8bad19754c709ca4c74d8249fdab"
            }
          },
          "metadata": {}
        },
        {
          "output_type": "display_data",
          "data": {
            "text/plain": [
              "generation_config.json:   0%|          | 0.00/363 [00:00<?, ?B/s]"
            ],
            "application/vnd.jupyter.widget-view+json": {
              "version_major": 2,
              "version_minor": 0,
              "model_id": "1be11f680e0f4bfb9837526fdbab5b57"
            }
          },
          "metadata": {}
        },
        {
          "output_type": "display_data",
          "data": {
            "text/plain": [
              "vocab.json:   0%|          | 0.00/899k [00:00<?, ?B/s]"
            ],
            "application/vnd.jupyter.widget-view+json": {
              "version_major": 2,
              "version_minor": 0,
              "model_id": "757200ce47634bd4b92d6b4c888bee8c"
            }
          },
          "metadata": {}
        },
        {
          "output_type": "display_data",
          "data": {
            "text/plain": [
              "merges.txt:   0%|          | 0.00/456k [00:00<?, ?B/s]"
            ],
            "application/vnd.jupyter.widget-view+json": {
              "version_major": 2,
              "version_minor": 0,
              "model_id": "422f16c7370e4abc83419965586e160a"
            }
          },
          "metadata": {}
        },
        {
          "output_type": "display_data",
          "data": {
            "text/plain": [
              "tokenizer.json:   0%|          | 0.00/1.36M [00:00<?, ?B/s]"
            ],
            "application/vnd.jupyter.widget-view+json": {
              "version_major": 2,
              "version_minor": 0,
              "model_id": "d000953cb48042ebbc993cf70c8a213b"
            }
          },
          "metadata": {}
        }
      ]
    },
    {
      "cell_type": "markdown",
      "source": [
        "Мы не будем тюнить модель, только посмотрим на инференс и вычисление метрики ROUGE:"
      ],
      "metadata": {
        "id": "Nvb13N4Kn4tf"
      }
    },
    {
      "cell_type": "code",
      "source": [
        "sample_text = ' '.join(sent_tokenized_texts[5])\n",
        "sample_text"
      ],
      "metadata": {
        "colab": {
          "base_uri": "https://localhost:8080/",
          "height": 116
        },
        "id": "z_Ku8tDflKBm",
        "outputId": "f458b93c-0719-400c-acc1-99ac36cf8936"
      },
      "execution_count": 118,
      "outputs": [
        {
          "output_type": "execute_result",
          "data": {
            "text/plain": [
              "'(CNN) -- Five days of gunbattles between the Indian army and separatist militants in Indian-administered Kashmir have left at least 25 dead -- eight Indian army troopers, including one officer, and 17 militants, the Indian military said Tuesday. An Indian army soldier lays a wreath during the funeral of a slain soldier, northeast of Srinagar on Tuesday. Defense Minister A.K. Antony, meeting with India\\'s military chiefs in Delhi, reviewed the situation in the Himalayan region and told the Army to deal with the situation in the Himalayan region with \"utmost firmness.\" Kashmir has been in the throes of a violent separatist campaign for nearly two decades during which authorities say 43,000 people have been killed. However, various NGOs and rights groups put the number of dead at twice the official count. In Srinigar, Kashmir, Army spokesman Lt. Col. J.S. Brar told CNN the Army was moving against the militants \"based on sound intelligence inputs as well as human intelligence provided by our own sources.\" The battles in the Shamsbhari forests of north Kashmir Kupwara district have caused \"minimum collateral damage to property,\" Brar said. The spokesman denied media reports that helicopter gunships and heavy weapons had been used by the army during these operations against the militants. This month\\'s encounter between the Indian Army and the militants is the second longest in Kashmir this year. In January, a fierce encounter raged for seven days in the Poonch district of Jammu region of Indian-administered Kashmir. Two soldiers, a policeman and four militants were killed in that encounter. Kashmir has been the source of bitter dispute and two wars between India and neighboring Pakistan. Both control parts of the region which is predominantly Muslim.'"
            ],
            "application/vnd.google.colaboratory.intrinsic+json": {
              "type": "string"
            }
          },
          "metadata": {},
          "execution_count": 118
        }
      ]
    },
    {
      "cell_type": "markdown",
      "source": [
        "Результат суммаризации из модели:"
      ],
      "metadata": {
        "id": "EmKpgjAFoCDL"
      }
    },
    {
      "cell_type": "code",
      "source": [
        "summary = (summarizer(sample_text, max_length=130, min_length=30, do_sample=False))\n",
        "\n",
        "summary[0]['summary_text']"
      ],
      "metadata": {
        "colab": {
          "base_uri": "https://localhost:8080/",
          "height": 50
        },
        "id": "SnnEsbaHlGr-",
        "outputId": "2028bf1a-c1c0-4524-a408-3a8185d5879c"
      },
      "execution_count": 124,
      "outputs": [
        {
          "output_type": "execute_result",
          "data": {
            "text/plain": [
              "\"Eight Indian army troopers, including one officer, and 17 militants killed, Indian military says. Kashmir has been in throes of separatist campaign for nearly two decades. India's Defense Minister A.K. Antony meets with India's military chiefs in Delhi.\""
            ],
            "application/vnd.google.colaboratory.intrinsic+json": {
              "type": "string"
            }
          },
          "metadata": {},
          "execution_count": 124
        }
      ]
    },
    {
      "cell_type": "markdown",
      "source": [
        "Суммаризированный текст из датасета:"
      ],
      "metadata": {
        "id": "e5nARtwJoFCS"
      }
    },
    {
      "cell_type": "code",
      "source": [
        "summaries[5]"
      ],
      "metadata": {
        "colab": {
          "base_uri": "https://localhost:8080/",
          "height": 50
        },
        "id": "mAaGrx1jlvHf",
        "outputId": "dcaafae8-cf9d-4823-8f9b-39c0f0558f2b"
      },
      "execution_count": 121,
      "outputs": [
        {
          "output_type": "execute_result",
          "data": {
            "text/plain": [
              "'NEW: 25 dead in Kashmir gunfights between Indian troops, separatist militants. Incident comes after India accuses Pakistani troops of firing on Indian troops. Kashmir has been in throes of separatist campaign for 20 years'"
            ],
            "application/vnd.google.colaboratory.intrinsic+json": {
              "type": "string"
            }
          },
          "metadata": {},
          "execution_count": 121
        }
      ]
    },
    {
      "cell_type": "code",
      "source": [
        "rouge = evaluate.load(\"rouge\")"
      ],
      "metadata": {
        "id": "gp_1TVXJmSob"
      },
      "execution_count": 127,
      "outputs": []
    },
    {
      "cell_type": "code",
      "source": [
        "#help(evaluate.load(\"rouge\"))"
      ],
      "metadata": {
        "id": "aZJJz-EtmNDS"
      },
      "execution_count": 134,
      "outputs": []
    },
    {
      "cell_type": "code",
      "source": [
        "rouge.compute(\n",
        "    predictions=[summary[0]['summary_text']],\n",
        "    references=[summaries[5]]\n",
        "    )"
      ],
      "metadata": {
        "colab": {
          "base_uri": "https://localhost:8080/"
        },
        "id": "JMCI5e7AmxGZ",
        "outputId": "dc85cacc-614d-4d6c-8916-de5389b66629"
      },
      "execution_count": 132,
      "outputs": [
        {
          "output_type": "execute_result",
          "data": {
            "text/plain": [
              "{'rouge1': 0.37333333333333335,\n",
              " 'rouge2': 0.21917808219178084,\n",
              " 'rougeL': 0.32,\n",
              " 'rougeLsum': 0.32}"
            ]
          },
          "metadata": {},
          "execution_count": 132
        }
      ]
    },
    {
      "cell_type": "code",
      "source": [],
      "metadata": {
        "id": "5pLKHN5YnKNv"
      },
      "execution_count": null,
      "outputs": []
    }
  ],
  "metadata": {
    "kernelspec": {
      "display_name": "Python 3",
      "language": "python",
      "name": "python3"
    },
    "language_info": {
      "codemirror_mode": {
        "name": "ipython",
        "version": 3
      },
      "file_extension": ".py",
      "mimetype": "text/x-python",
      "name": "python",
      "nbconvert_exporter": "python",
      "pygments_lexer": "ipython3",
      "version": "3.7.6"
    },
    "colab": {
      "provenance": []
    },
    "widgets": {
      "application/vnd.jupyter.widget-state+json": {
        "c81146b88a4a4df78e3b0ced609ff5af": {
          "model_module": "@jupyter-widgets/controls",
          "model_name": "HBoxModel",
          "model_module_version": "1.5.0",
          "state": {
            "_dom_classes": [],
            "_model_module": "@jupyter-widgets/controls",
            "_model_module_version": "1.5.0",
            "_model_name": "HBoxModel",
            "_view_count": null,
            "_view_module": "@jupyter-widgets/controls",
            "_view_module_version": "1.5.0",
            "_view_name": "HBoxView",
            "box_style": "",
            "children": [
              "IPY_MODEL_5de47c04fba64716b00d455a466c8e5d",
              "IPY_MODEL_a3a15e40417b435eb5bc57185f641985",
              "IPY_MODEL_830111f4907b481ca57601538a878803"
            ],
            "layout": "IPY_MODEL_ee3eb046964f4dc4ac65dd3443ac0a04"
          }
        },
        "5de47c04fba64716b00d455a466c8e5d": {
          "model_module": "@jupyter-widgets/controls",
          "model_name": "HTMLModel",
          "model_module_version": "1.5.0",
          "state": {
            "_dom_classes": [],
            "_model_module": "@jupyter-widgets/controls",
            "_model_module_version": "1.5.0",
            "_model_name": "HTMLModel",
            "_view_count": null,
            "_view_module": "@jupyter-widgets/controls",
            "_view_module_version": "1.5.0",
            "_view_name": "HTMLView",
            "description": "",
            "description_tooltip": null,
            "layout": "IPY_MODEL_a33f023e3b6f4c4ca9c5df82c48c6893",
            "placeholder": "​",
            "style": "IPY_MODEL_db8893f2d31d4721870f960c5dd303e3",
            "value": "100%"
          }
        },
        "a3a15e40417b435eb5bc57185f641985": {
          "model_module": "@jupyter-widgets/controls",
          "model_name": "FloatProgressModel",
          "model_module_version": "1.5.0",
          "state": {
            "_dom_classes": [],
            "_model_module": "@jupyter-widgets/controls",
            "_model_module_version": "1.5.0",
            "_model_name": "FloatProgressModel",
            "_view_count": null,
            "_view_module": "@jupyter-widgets/controls",
            "_view_module_version": "1.5.0",
            "_view_name": "ProgressView",
            "bar_style": "success",
            "description": "",
            "description_tooltip": null,
            "layout": "IPY_MODEL_5d0548e10afe4ce983ae8b01cec9b034",
            "max": 300,
            "min": 0,
            "orientation": "horizontal",
            "style": "IPY_MODEL_f5af0ea43a8446f3b361b4a8cdfdba36",
            "value": 300
          }
        },
        "830111f4907b481ca57601538a878803": {
          "model_module": "@jupyter-widgets/controls",
          "model_name": "HTMLModel",
          "model_module_version": "1.5.0",
          "state": {
            "_dom_classes": [],
            "_model_module": "@jupyter-widgets/controls",
            "_model_module_version": "1.5.0",
            "_model_name": "HTMLModel",
            "_view_count": null,
            "_view_module": "@jupyter-widgets/controls",
            "_view_module_version": "1.5.0",
            "_view_name": "HTMLView",
            "description": "",
            "description_tooltip": null,
            "layout": "IPY_MODEL_eed2afab4c6942e3bca0b5035b99acef",
            "placeholder": "​",
            "style": "IPY_MODEL_280de27a686c429291cabd1ff2f6717c",
            "value": " 300/300 [00:03&lt;00:00, 102.30it/s]"
          }
        },
        "ee3eb046964f4dc4ac65dd3443ac0a04": {
          "model_module": "@jupyter-widgets/base",
          "model_name": "LayoutModel",
          "model_module_version": "1.2.0",
          "state": {
            "_model_module": "@jupyter-widgets/base",
            "_model_module_version": "1.2.0",
            "_model_name": "LayoutModel",
            "_view_count": null,
            "_view_module": "@jupyter-widgets/base",
            "_view_module_version": "1.2.0",
            "_view_name": "LayoutView",
            "align_content": null,
            "align_items": null,
            "align_self": null,
            "border": null,
            "bottom": null,
            "display": null,
            "flex": null,
            "flex_flow": null,
            "grid_area": null,
            "grid_auto_columns": null,
            "grid_auto_flow": null,
            "grid_auto_rows": null,
            "grid_column": null,
            "grid_gap": null,
            "grid_row": null,
            "grid_template_areas": null,
            "grid_template_columns": null,
            "grid_template_rows": null,
            "height": null,
            "justify_content": null,
            "justify_items": null,
            "left": null,
            "margin": null,
            "max_height": null,
            "max_width": null,
            "min_height": null,
            "min_width": null,
            "object_fit": null,
            "object_position": null,
            "order": null,
            "overflow": null,
            "overflow_x": null,
            "overflow_y": null,
            "padding": null,
            "right": null,
            "top": null,
            "visibility": null,
            "width": null
          }
        },
        "a33f023e3b6f4c4ca9c5df82c48c6893": {
          "model_module": "@jupyter-widgets/base",
          "model_name": "LayoutModel",
          "model_module_version": "1.2.0",
          "state": {
            "_model_module": "@jupyter-widgets/base",
            "_model_module_version": "1.2.0",
            "_model_name": "LayoutModel",
            "_view_count": null,
            "_view_module": "@jupyter-widgets/base",
            "_view_module_version": "1.2.0",
            "_view_name": "LayoutView",
            "align_content": null,
            "align_items": null,
            "align_self": null,
            "border": null,
            "bottom": null,
            "display": null,
            "flex": null,
            "flex_flow": null,
            "grid_area": null,
            "grid_auto_columns": null,
            "grid_auto_flow": null,
            "grid_auto_rows": null,
            "grid_column": null,
            "grid_gap": null,
            "grid_row": null,
            "grid_template_areas": null,
            "grid_template_columns": null,
            "grid_template_rows": null,
            "height": null,
            "justify_content": null,
            "justify_items": null,
            "left": null,
            "margin": null,
            "max_height": null,
            "max_width": null,
            "min_height": null,
            "min_width": null,
            "object_fit": null,
            "object_position": null,
            "order": null,
            "overflow": null,
            "overflow_x": null,
            "overflow_y": null,
            "padding": null,
            "right": null,
            "top": null,
            "visibility": null,
            "width": null
          }
        },
        "db8893f2d31d4721870f960c5dd303e3": {
          "model_module": "@jupyter-widgets/controls",
          "model_name": "DescriptionStyleModel",
          "model_module_version": "1.5.0",
          "state": {
            "_model_module": "@jupyter-widgets/controls",
            "_model_module_version": "1.5.0",
            "_model_name": "DescriptionStyleModel",
            "_view_count": null,
            "_view_module": "@jupyter-widgets/base",
            "_view_module_version": "1.2.0",
            "_view_name": "StyleView",
            "description_width": ""
          }
        },
        "5d0548e10afe4ce983ae8b01cec9b034": {
          "model_module": "@jupyter-widgets/base",
          "model_name": "LayoutModel",
          "model_module_version": "1.2.0",
          "state": {
            "_model_module": "@jupyter-widgets/base",
            "_model_module_version": "1.2.0",
            "_model_name": "LayoutModel",
            "_view_count": null,
            "_view_module": "@jupyter-widgets/base",
            "_view_module_version": "1.2.0",
            "_view_name": "LayoutView",
            "align_content": null,
            "align_items": null,
            "align_self": null,
            "border": null,
            "bottom": null,
            "display": null,
            "flex": null,
            "flex_flow": null,
            "grid_area": null,
            "grid_auto_columns": null,
            "grid_auto_flow": null,
            "grid_auto_rows": null,
            "grid_column": null,
            "grid_gap": null,
            "grid_row": null,
            "grid_template_areas": null,
            "grid_template_columns": null,
            "grid_template_rows": null,
            "height": null,
            "justify_content": null,
            "justify_items": null,
            "left": null,
            "margin": null,
            "max_height": null,
            "max_width": null,
            "min_height": null,
            "min_width": null,
            "object_fit": null,
            "object_position": null,
            "order": null,
            "overflow": null,
            "overflow_x": null,
            "overflow_y": null,
            "padding": null,
            "right": null,
            "top": null,
            "visibility": null,
            "width": null
          }
        },
        "f5af0ea43a8446f3b361b4a8cdfdba36": {
          "model_module": "@jupyter-widgets/controls",
          "model_name": "ProgressStyleModel",
          "model_module_version": "1.5.0",
          "state": {
            "_model_module": "@jupyter-widgets/controls",
            "_model_module_version": "1.5.0",
            "_model_name": "ProgressStyleModel",
            "_view_count": null,
            "_view_module": "@jupyter-widgets/base",
            "_view_module_version": "1.2.0",
            "_view_name": "StyleView",
            "bar_color": null,
            "description_width": ""
          }
        },
        "eed2afab4c6942e3bca0b5035b99acef": {
          "model_module": "@jupyter-widgets/base",
          "model_name": "LayoutModel",
          "model_module_version": "1.2.0",
          "state": {
            "_model_module": "@jupyter-widgets/base",
            "_model_module_version": "1.2.0",
            "_model_name": "LayoutModel",
            "_view_count": null,
            "_view_module": "@jupyter-widgets/base",
            "_view_module_version": "1.2.0",
            "_view_name": "LayoutView",
            "align_content": null,
            "align_items": null,
            "align_self": null,
            "border": null,
            "bottom": null,
            "display": null,
            "flex": null,
            "flex_flow": null,
            "grid_area": null,
            "grid_auto_columns": null,
            "grid_auto_flow": null,
            "grid_auto_rows": null,
            "grid_column": null,
            "grid_gap": null,
            "grid_row": null,
            "grid_template_areas": null,
            "grid_template_columns": null,
            "grid_template_rows": null,
            "height": null,
            "justify_content": null,
            "justify_items": null,
            "left": null,
            "margin": null,
            "max_height": null,
            "max_width": null,
            "min_height": null,
            "min_width": null,
            "object_fit": null,
            "object_position": null,
            "order": null,
            "overflow": null,
            "overflow_x": null,
            "overflow_y": null,
            "padding": null,
            "right": null,
            "top": null,
            "visibility": null,
            "width": null
          }
        },
        "280de27a686c429291cabd1ff2f6717c": {
          "model_module": "@jupyter-widgets/controls",
          "model_name": "DescriptionStyleModel",
          "model_module_version": "1.5.0",
          "state": {
            "_model_module": "@jupyter-widgets/controls",
            "_model_module_version": "1.5.0",
            "_model_name": "DescriptionStyleModel",
            "_view_count": null,
            "_view_module": "@jupyter-widgets/base",
            "_view_module_version": "1.2.0",
            "_view_name": "StyleView",
            "description_width": ""
          }
        },
        "2b5c498dd389418dad26250b98304361": {
          "model_module": "@jupyter-widgets/controls",
          "model_name": "HBoxModel",
          "model_module_version": "1.5.0",
          "state": {
            "_dom_classes": [],
            "_model_module": "@jupyter-widgets/controls",
            "_model_module_version": "1.5.0",
            "_model_name": "HBoxModel",
            "_view_count": null,
            "_view_module": "@jupyter-widgets/controls",
            "_view_module_version": "1.5.0",
            "_view_name": "HBoxView",
            "box_style": "",
            "children": [
              "IPY_MODEL_aadbda359c9b439082669cab517458ed",
              "IPY_MODEL_3be25605ef4a4f5fb3d64a5761974caf",
              "IPY_MODEL_526d77f86fd146c9a135ed536b03c6a7"
            ],
            "layout": "IPY_MODEL_d1538aacf805436f8e7e0a6ed415370a"
          }
        },
        "aadbda359c9b439082669cab517458ed": {
          "model_module": "@jupyter-widgets/controls",
          "model_name": "HTMLModel",
          "model_module_version": "1.5.0",
          "state": {
            "_dom_classes": [],
            "_model_module": "@jupyter-widgets/controls",
            "_model_module_version": "1.5.0",
            "_model_name": "HTMLModel",
            "_view_count": null,
            "_view_module": "@jupyter-widgets/controls",
            "_view_module_version": "1.5.0",
            "_view_name": "HTMLView",
            "description": "",
            "description_tooltip": null,
            "layout": "IPY_MODEL_7aecc48fe3be4f9eb3fe6a282ab73c89",
            "placeholder": "​",
            "style": "IPY_MODEL_b999a8ace40543fcb67a89b23b7eeedf",
            "value": "config.json: 100%"
          }
        },
        "3be25605ef4a4f5fb3d64a5761974caf": {
          "model_module": "@jupyter-widgets/controls",
          "model_name": "FloatProgressModel",
          "model_module_version": "1.5.0",
          "state": {
            "_dom_classes": [],
            "_model_module": "@jupyter-widgets/controls",
            "_model_module_version": "1.5.0",
            "_model_name": "FloatProgressModel",
            "_view_count": null,
            "_view_module": "@jupyter-widgets/controls",
            "_view_module_version": "1.5.0",
            "_view_name": "ProgressView",
            "bar_style": "success",
            "description": "",
            "description_tooltip": null,
            "layout": "IPY_MODEL_5aabe1dd41204c0fa0f17b510b6b4999",
            "max": 1585,
            "min": 0,
            "orientation": "horizontal",
            "style": "IPY_MODEL_6abe1ee61d09494d9a08409b9baf17d9",
            "value": 1585
          }
        },
        "526d77f86fd146c9a135ed536b03c6a7": {
          "model_module": "@jupyter-widgets/controls",
          "model_name": "HTMLModel",
          "model_module_version": "1.5.0",
          "state": {
            "_dom_classes": [],
            "_model_module": "@jupyter-widgets/controls",
            "_model_module_version": "1.5.0",
            "_model_name": "HTMLModel",
            "_view_count": null,
            "_view_module": "@jupyter-widgets/controls",
            "_view_module_version": "1.5.0",
            "_view_name": "HTMLView",
            "description": "",
            "description_tooltip": null,
            "layout": "IPY_MODEL_4e98a57ca6e04d69a05f45f3667998c6",
            "placeholder": "​",
            "style": "IPY_MODEL_d65507aef1694dabbee4c463a9d26809",
            "value": " 1.58k/1.58k [00:00&lt;00:00, 20.8kB/s]"
          }
        },
        "d1538aacf805436f8e7e0a6ed415370a": {
          "model_module": "@jupyter-widgets/base",
          "model_name": "LayoutModel",
          "model_module_version": "1.2.0",
          "state": {
            "_model_module": "@jupyter-widgets/base",
            "_model_module_version": "1.2.0",
            "_model_name": "LayoutModel",
            "_view_count": null,
            "_view_module": "@jupyter-widgets/base",
            "_view_module_version": "1.2.0",
            "_view_name": "LayoutView",
            "align_content": null,
            "align_items": null,
            "align_self": null,
            "border": null,
            "bottom": null,
            "display": null,
            "flex": null,
            "flex_flow": null,
            "grid_area": null,
            "grid_auto_columns": null,
            "grid_auto_flow": null,
            "grid_auto_rows": null,
            "grid_column": null,
            "grid_gap": null,
            "grid_row": null,
            "grid_template_areas": null,
            "grid_template_columns": null,
            "grid_template_rows": null,
            "height": null,
            "justify_content": null,
            "justify_items": null,
            "left": null,
            "margin": null,
            "max_height": null,
            "max_width": null,
            "min_height": null,
            "min_width": null,
            "object_fit": null,
            "object_position": null,
            "order": null,
            "overflow": null,
            "overflow_x": null,
            "overflow_y": null,
            "padding": null,
            "right": null,
            "top": null,
            "visibility": null,
            "width": null
          }
        },
        "7aecc48fe3be4f9eb3fe6a282ab73c89": {
          "model_module": "@jupyter-widgets/base",
          "model_name": "LayoutModel",
          "model_module_version": "1.2.0",
          "state": {
            "_model_module": "@jupyter-widgets/base",
            "_model_module_version": "1.2.0",
            "_model_name": "LayoutModel",
            "_view_count": null,
            "_view_module": "@jupyter-widgets/base",
            "_view_module_version": "1.2.0",
            "_view_name": "LayoutView",
            "align_content": null,
            "align_items": null,
            "align_self": null,
            "border": null,
            "bottom": null,
            "display": null,
            "flex": null,
            "flex_flow": null,
            "grid_area": null,
            "grid_auto_columns": null,
            "grid_auto_flow": null,
            "grid_auto_rows": null,
            "grid_column": null,
            "grid_gap": null,
            "grid_row": null,
            "grid_template_areas": null,
            "grid_template_columns": null,
            "grid_template_rows": null,
            "height": null,
            "justify_content": null,
            "justify_items": null,
            "left": null,
            "margin": null,
            "max_height": null,
            "max_width": null,
            "min_height": null,
            "min_width": null,
            "object_fit": null,
            "object_position": null,
            "order": null,
            "overflow": null,
            "overflow_x": null,
            "overflow_y": null,
            "padding": null,
            "right": null,
            "top": null,
            "visibility": null,
            "width": null
          }
        },
        "b999a8ace40543fcb67a89b23b7eeedf": {
          "model_module": "@jupyter-widgets/controls",
          "model_name": "DescriptionStyleModel",
          "model_module_version": "1.5.0",
          "state": {
            "_model_module": "@jupyter-widgets/controls",
            "_model_module_version": "1.5.0",
            "_model_name": "DescriptionStyleModel",
            "_view_count": null,
            "_view_module": "@jupyter-widgets/base",
            "_view_module_version": "1.2.0",
            "_view_name": "StyleView",
            "description_width": ""
          }
        },
        "5aabe1dd41204c0fa0f17b510b6b4999": {
          "model_module": "@jupyter-widgets/base",
          "model_name": "LayoutModel",
          "model_module_version": "1.2.0",
          "state": {
            "_model_module": "@jupyter-widgets/base",
            "_model_module_version": "1.2.0",
            "_model_name": "LayoutModel",
            "_view_count": null,
            "_view_module": "@jupyter-widgets/base",
            "_view_module_version": "1.2.0",
            "_view_name": "LayoutView",
            "align_content": null,
            "align_items": null,
            "align_self": null,
            "border": null,
            "bottom": null,
            "display": null,
            "flex": null,
            "flex_flow": null,
            "grid_area": null,
            "grid_auto_columns": null,
            "grid_auto_flow": null,
            "grid_auto_rows": null,
            "grid_column": null,
            "grid_gap": null,
            "grid_row": null,
            "grid_template_areas": null,
            "grid_template_columns": null,
            "grid_template_rows": null,
            "height": null,
            "justify_content": null,
            "justify_items": null,
            "left": null,
            "margin": null,
            "max_height": null,
            "max_width": null,
            "min_height": null,
            "min_width": null,
            "object_fit": null,
            "object_position": null,
            "order": null,
            "overflow": null,
            "overflow_x": null,
            "overflow_y": null,
            "padding": null,
            "right": null,
            "top": null,
            "visibility": null,
            "width": null
          }
        },
        "6abe1ee61d09494d9a08409b9baf17d9": {
          "model_module": "@jupyter-widgets/controls",
          "model_name": "ProgressStyleModel",
          "model_module_version": "1.5.0",
          "state": {
            "_model_module": "@jupyter-widgets/controls",
            "_model_module_version": "1.5.0",
            "_model_name": "ProgressStyleModel",
            "_view_count": null,
            "_view_module": "@jupyter-widgets/base",
            "_view_module_version": "1.2.0",
            "_view_name": "StyleView",
            "bar_color": null,
            "description_width": ""
          }
        },
        "4e98a57ca6e04d69a05f45f3667998c6": {
          "model_module": "@jupyter-widgets/base",
          "model_name": "LayoutModel",
          "model_module_version": "1.2.0",
          "state": {
            "_model_module": "@jupyter-widgets/base",
            "_model_module_version": "1.2.0",
            "_model_name": "LayoutModel",
            "_view_count": null,
            "_view_module": "@jupyter-widgets/base",
            "_view_module_version": "1.2.0",
            "_view_name": "LayoutView",
            "align_content": null,
            "align_items": null,
            "align_self": null,
            "border": null,
            "bottom": null,
            "display": null,
            "flex": null,
            "flex_flow": null,
            "grid_area": null,
            "grid_auto_columns": null,
            "grid_auto_flow": null,
            "grid_auto_rows": null,
            "grid_column": null,
            "grid_gap": null,
            "grid_row": null,
            "grid_template_areas": null,
            "grid_template_columns": null,
            "grid_template_rows": null,
            "height": null,
            "justify_content": null,
            "justify_items": null,
            "left": null,
            "margin": null,
            "max_height": null,
            "max_width": null,
            "min_height": null,
            "min_width": null,
            "object_fit": null,
            "object_position": null,
            "order": null,
            "overflow": null,
            "overflow_x": null,
            "overflow_y": null,
            "padding": null,
            "right": null,
            "top": null,
            "visibility": null,
            "width": null
          }
        },
        "d65507aef1694dabbee4c463a9d26809": {
          "model_module": "@jupyter-widgets/controls",
          "model_name": "DescriptionStyleModel",
          "model_module_version": "1.5.0",
          "state": {
            "_model_module": "@jupyter-widgets/controls",
            "_model_module_version": "1.5.0",
            "_model_name": "DescriptionStyleModel",
            "_view_count": null,
            "_view_module": "@jupyter-widgets/base",
            "_view_module_version": "1.2.0",
            "_view_name": "StyleView",
            "description_width": ""
          }
        },
        "bcfe8bad19754c709ca4c74d8249fdab": {
          "model_module": "@jupyter-widgets/controls",
          "model_name": "HBoxModel",
          "model_module_version": "1.5.0",
          "state": {
            "_dom_classes": [],
            "_model_module": "@jupyter-widgets/controls",
            "_model_module_version": "1.5.0",
            "_model_name": "HBoxModel",
            "_view_count": null,
            "_view_module": "@jupyter-widgets/controls",
            "_view_module_version": "1.5.0",
            "_view_name": "HBoxView",
            "box_style": "",
            "children": [
              "IPY_MODEL_aee44c6c66b141b090ea78903ed0ad1c",
              "IPY_MODEL_9752812dd3ab49b0b748d9215352e7f3",
              "IPY_MODEL_ca21d22223a84609a560b06db29825fe"
            ],
            "layout": "IPY_MODEL_10f6789f2c094cd293a6d38492f6f9b3"
          }
        },
        "aee44c6c66b141b090ea78903ed0ad1c": {
          "model_module": "@jupyter-widgets/controls",
          "model_name": "HTMLModel",
          "model_module_version": "1.5.0",
          "state": {
            "_dom_classes": [],
            "_model_module": "@jupyter-widgets/controls",
            "_model_module_version": "1.5.0",
            "_model_name": "HTMLModel",
            "_view_count": null,
            "_view_module": "@jupyter-widgets/controls",
            "_view_module_version": "1.5.0",
            "_view_name": "HTMLView",
            "description": "",
            "description_tooltip": null,
            "layout": "IPY_MODEL_95eac5e264874077850fb68522f51244",
            "placeholder": "​",
            "style": "IPY_MODEL_cfb7ca3142e9422aa78cf8f530ea0609",
            "value": "model.safetensors: 100%"
          }
        },
        "9752812dd3ab49b0b748d9215352e7f3": {
          "model_module": "@jupyter-widgets/controls",
          "model_name": "FloatProgressModel",
          "model_module_version": "1.5.0",
          "state": {
            "_dom_classes": [],
            "_model_module": "@jupyter-widgets/controls",
            "_model_module_version": "1.5.0",
            "_model_name": "FloatProgressModel",
            "_view_count": null,
            "_view_module": "@jupyter-widgets/controls",
            "_view_module_version": "1.5.0",
            "_view_name": "ProgressView",
            "bar_style": "success",
            "description": "",
            "description_tooltip": null,
            "layout": "IPY_MODEL_d0a8c8c1e9ce4cefb9f6897c429af6b9",
            "max": 1625222120,
            "min": 0,
            "orientation": "horizontal",
            "style": "IPY_MODEL_27d0e69fc15045858c1365fe6ee629fa",
            "value": 1625222120
          }
        },
        "ca21d22223a84609a560b06db29825fe": {
          "model_module": "@jupyter-widgets/controls",
          "model_name": "HTMLModel",
          "model_module_version": "1.5.0",
          "state": {
            "_dom_classes": [],
            "_model_module": "@jupyter-widgets/controls",
            "_model_module_version": "1.5.0",
            "_model_name": "HTMLModel",
            "_view_count": null,
            "_view_module": "@jupyter-widgets/controls",
            "_view_module_version": "1.5.0",
            "_view_name": "HTMLView",
            "description": "",
            "description_tooltip": null,
            "layout": "IPY_MODEL_99b39d56ff7e4f07b9a5790b25d39832",
            "placeholder": "​",
            "style": "IPY_MODEL_0835d6f9b5c9465aa23954d94824200d",
            "value": " 1.63G/1.63G [00:19&lt;00:00, 82.8MB/s]"
          }
        },
        "10f6789f2c094cd293a6d38492f6f9b3": {
          "model_module": "@jupyter-widgets/base",
          "model_name": "LayoutModel",
          "model_module_version": "1.2.0",
          "state": {
            "_model_module": "@jupyter-widgets/base",
            "_model_module_version": "1.2.0",
            "_model_name": "LayoutModel",
            "_view_count": null,
            "_view_module": "@jupyter-widgets/base",
            "_view_module_version": "1.2.0",
            "_view_name": "LayoutView",
            "align_content": null,
            "align_items": null,
            "align_self": null,
            "border": null,
            "bottom": null,
            "display": null,
            "flex": null,
            "flex_flow": null,
            "grid_area": null,
            "grid_auto_columns": null,
            "grid_auto_flow": null,
            "grid_auto_rows": null,
            "grid_column": null,
            "grid_gap": null,
            "grid_row": null,
            "grid_template_areas": null,
            "grid_template_columns": null,
            "grid_template_rows": null,
            "height": null,
            "justify_content": null,
            "justify_items": null,
            "left": null,
            "margin": null,
            "max_height": null,
            "max_width": null,
            "min_height": null,
            "min_width": null,
            "object_fit": null,
            "object_position": null,
            "order": null,
            "overflow": null,
            "overflow_x": null,
            "overflow_y": null,
            "padding": null,
            "right": null,
            "top": null,
            "visibility": null,
            "width": null
          }
        },
        "95eac5e264874077850fb68522f51244": {
          "model_module": "@jupyter-widgets/base",
          "model_name": "LayoutModel",
          "model_module_version": "1.2.0",
          "state": {
            "_model_module": "@jupyter-widgets/base",
            "_model_module_version": "1.2.0",
            "_model_name": "LayoutModel",
            "_view_count": null,
            "_view_module": "@jupyter-widgets/base",
            "_view_module_version": "1.2.0",
            "_view_name": "LayoutView",
            "align_content": null,
            "align_items": null,
            "align_self": null,
            "border": null,
            "bottom": null,
            "display": null,
            "flex": null,
            "flex_flow": null,
            "grid_area": null,
            "grid_auto_columns": null,
            "grid_auto_flow": null,
            "grid_auto_rows": null,
            "grid_column": null,
            "grid_gap": null,
            "grid_row": null,
            "grid_template_areas": null,
            "grid_template_columns": null,
            "grid_template_rows": null,
            "height": null,
            "justify_content": null,
            "justify_items": null,
            "left": null,
            "margin": null,
            "max_height": null,
            "max_width": null,
            "min_height": null,
            "min_width": null,
            "object_fit": null,
            "object_position": null,
            "order": null,
            "overflow": null,
            "overflow_x": null,
            "overflow_y": null,
            "padding": null,
            "right": null,
            "top": null,
            "visibility": null,
            "width": null
          }
        },
        "cfb7ca3142e9422aa78cf8f530ea0609": {
          "model_module": "@jupyter-widgets/controls",
          "model_name": "DescriptionStyleModel",
          "model_module_version": "1.5.0",
          "state": {
            "_model_module": "@jupyter-widgets/controls",
            "_model_module_version": "1.5.0",
            "_model_name": "DescriptionStyleModel",
            "_view_count": null,
            "_view_module": "@jupyter-widgets/base",
            "_view_module_version": "1.2.0",
            "_view_name": "StyleView",
            "description_width": ""
          }
        },
        "d0a8c8c1e9ce4cefb9f6897c429af6b9": {
          "model_module": "@jupyter-widgets/base",
          "model_name": "LayoutModel",
          "model_module_version": "1.2.0",
          "state": {
            "_model_module": "@jupyter-widgets/base",
            "_model_module_version": "1.2.0",
            "_model_name": "LayoutModel",
            "_view_count": null,
            "_view_module": "@jupyter-widgets/base",
            "_view_module_version": "1.2.0",
            "_view_name": "LayoutView",
            "align_content": null,
            "align_items": null,
            "align_self": null,
            "border": null,
            "bottom": null,
            "display": null,
            "flex": null,
            "flex_flow": null,
            "grid_area": null,
            "grid_auto_columns": null,
            "grid_auto_flow": null,
            "grid_auto_rows": null,
            "grid_column": null,
            "grid_gap": null,
            "grid_row": null,
            "grid_template_areas": null,
            "grid_template_columns": null,
            "grid_template_rows": null,
            "height": null,
            "justify_content": null,
            "justify_items": null,
            "left": null,
            "margin": null,
            "max_height": null,
            "max_width": null,
            "min_height": null,
            "min_width": null,
            "object_fit": null,
            "object_position": null,
            "order": null,
            "overflow": null,
            "overflow_x": null,
            "overflow_y": null,
            "padding": null,
            "right": null,
            "top": null,
            "visibility": null,
            "width": null
          }
        },
        "27d0e69fc15045858c1365fe6ee629fa": {
          "model_module": "@jupyter-widgets/controls",
          "model_name": "ProgressStyleModel",
          "model_module_version": "1.5.0",
          "state": {
            "_model_module": "@jupyter-widgets/controls",
            "_model_module_version": "1.5.0",
            "_model_name": "ProgressStyleModel",
            "_view_count": null,
            "_view_module": "@jupyter-widgets/base",
            "_view_module_version": "1.2.0",
            "_view_name": "StyleView",
            "bar_color": null,
            "description_width": ""
          }
        },
        "99b39d56ff7e4f07b9a5790b25d39832": {
          "model_module": "@jupyter-widgets/base",
          "model_name": "LayoutModel",
          "model_module_version": "1.2.0",
          "state": {
            "_model_module": "@jupyter-widgets/base",
            "_model_module_version": "1.2.0",
            "_model_name": "LayoutModel",
            "_view_count": null,
            "_view_module": "@jupyter-widgets/base",
            "_view_module_version": "1.2.0",
            "_view_name": "LayoutView",
            "align_content": null,
            "align_items": null,
            "align_self": null,
            "border": null,
            "bottom": null,
            "display": null,
            "flex": null,
            "flex_flow": null,
            "grid_area": null,
            "grid_auto_columns": null,
            "grid_auto_flow": null,
            "grid_auto_rows": null,
            "grid_column": null,
            "grid_gap": null,
            "grid_row": null,
            "grid_template_areas": null,
            "grid_template_columns": null,
            "grid_template_rows": null,
            "height": null,
            "justify_content": null,
            "justify_items": null,
            "left": null,
            "margin": null,
            "max_height": null,
            "max_width": null,
            "min_height": null,
            "min_width": null,
            "object_fit": null,
            "object_position": null,
            "order": null,
            "overflow": null,
            "overflow_x": null,
            "overflow_y": null,
            "padding": null,
            "right": null,
            "top": null,
            "visibility": null,
            "width": null
          }
        },
        "0835d6f9b5c9465aa23954d94824200d": {
          "model_module": "@jupyter-widgets/controls",
          "model_name": "DescriptionStyleModel",
          "model_module_version": "1.5.0",
          "state": {
            "_model_module": "@jupyter-widgets/controls",
            "_model_module_version": "1.5.0",
            "_model_name": "DescriptionStyleModel",
            "_view_count": null,
            "_view_module": "@jupyter-widgets/base",
            "_view_module_version": "1.2.0",
            "_view_name": "StyleView",
            "description_width": ""
          }
        },
        "1be11f680e0f4bfb9837526fdbab5b57": {
          "model_module": "@jupyter-widgets/controls",
          "model_name": "HBoxModel",
          "model_module_version": "1.5.0",
          "state": {
            "_dom_classes": [],
            "_model_module": "@jupyter-widgets/controls",
            "_model_module_version": "1.5.0",
            "_model_name": "HBoxModel",
            "_view_count": null,
            "_view_module": "@jupyter-widgets/controls",
            "_view_module_version": "1.5.0",
            "_view_name": "HBoxView",
            "box_style": "",
            "children": [
              "IPY_MODEL_4295a37c7c214aa6877a7e5e99534152",
              "IPY_MODEL_2572b2cdfd1b4d7a84776c2c283efabc",
              "IPY_MODEL_f7d8432920964a76870350cb4da7e8cf"
            ],
            "layout": "IPY_MODEL_e82caa5d5024400da0f76c65848acd2e"
          }
        },
        "4295a37c7c214aa6877a7e5e99534152": {
          "model_module": "@jupyter-widgets/controls",
          "model_name": "HTMLModel",
          "model_module_version": "1.5.0",
          "state": {
            "_dom_classes": [],
            "_model_module": "@jupyter-widgets/controls",
            "_model_module_version": "1.5.0",
            "_model_name": "HTMLModel",
            "_view_count": null,
            "_view_module": "@jupyter-widgets/controls",
            "_view_module_version": "1.5.0",
            "_view_name": "HTMLView",
            "description": "",
            "description_tooltip": null,
            "layout": "IPY_MODEL_fc019dd9d40b4e2f88715e7171be3068",
            "placeholder": "​",
            "style": "IPY_MODEL_60847007132a453a843e2a204639991c",
            "value": "generation_config.json: 100%"
          }
        },
        "2572b2cdfd1b4d7a84776c2c283efabc": {
          "model_module": "@jupyter-widgets/controls",
          "model_name": "FloatProgressModel",
          "model_module_version": "1.5.0",
          "state": {
            "_dom_classes": [],
            "_model_module": "@jupyter-widgets/controls",
            "_model_module_version": "1.5.0",
            "_model_name": "FloatProgressModel",
            "_view_count": null,
            "_view_module": "@jupyter-widgets/controls",
            "_view_module_version": "1.5.0",
            "_view_name": "ProgressView",
            "bar_style": "success",
            "description": "",
            "description_tooltip": null,
            "layout": "IPY_MODEL_0d693dde40724f8483ba279e33bdd7b2",
            "max": 363,
            "min": 0,
            "orientation": "horizontal",
            "style": "IPY_MODEL_71d7242ffbb6467b8c6a85ef6219f1bc",
            "value": 363
          }
        },
        "f7d8432920964a76870350cb4da7e8cf": {
          "model_module": "@jupyter-widgets/controls",
          "model_name": "HTMLModel",
          "model_module_version": "1.5.0",
          "state": {
            "_dom_classes": [],
            "_model_module": "@jupyter-widgets/controls",
            "_model_module_version": "1.5.0",
            "_model_name": "HTMLModel",
            "_view_count": null,
            "_view_module": "@jupyter-widgets/controls",
            "_view_module_version": "1.5.0",
            "_view_name": "HTMLView",
            "description": "",
            "description_tooltip": null,
            "layout": "IPY_MODEL_11f5818cd7464d918e7684cffca8d73a",
            "placeholder": "​",
            "style": "IPY_MODEL_b0396174d20643d48093ed5e3e9124fc",
            "value": " 363/363 [00:00&lt;00:00, 13.0kB/s]"
          }
        },
        "e82caa5d5024400da0f76c65848acd2e": {
          "model_module": "@jupyter-widgets/base",
          "model_name": "LayoutModel",
          "model_module_version": "1.2.0",
          "state": {
            "_model_module": "@jupyter-widgets/base",
            "_model_module_version": "1.2.0",
            "_model_name": "LayoutModel",
            "_view_count": null,
            "_view_module": "@jupyter-widgets/base",
            "_view_module_version": "1.2.0",
            "_view_name": "LayoutView",
            "align_content": null,
            "align_items": null,
            "align_self": null,
            "border": null,
            "bottom": null,
            "display": null,
            "flex": null,
            "flex_flow": null,
            "grid_area": null,
            "grid_auto_columns": null,
            "grid_auto_flow": null,
            "grid_auto_rows": null,
            "grid_column": null,
            "grid_gap": null,
            "grid_row": null,
            "grid_template_areas": null,
            "grid_template_columns": null,
            "grid_template_rows": null,
            "height": null,
            "justify_content": null,
            "justify_items": null,
            "left": null,
            "margin": null,
            "max_height": null,
            "max_width": null,
            "min_height": null,
            "min_width": null,
            "object_fit": null,
            "object_position": null,
            "order": null,
            "overflow": null,
            "overflow_x": null,
            "overflow_y": null,
            "padding": null,
            "right": null,
            "top": null,
            "visibility": null,
            "width": null
          }
        },
        "fc019dd9d40b4e2f88715e7171be3068": {
          "model_module": "@jupyter-widgets/base",
          "model_name": "LayoutModel",
          "model_module_version": "1.2.0",
          "state": {
            "_model_module": "@jupyter-widgets/base",
            "_model_module_version": "1.2.0",
            "_model_name": "LayoutModel",
            "_view_count": null,
            "_view_module": "@jupyter-widgets/base",
            "_view_module_version": "1.2.0",
            "_view_name": "LayoutView",
            "align_content": null,
            "align_items": null,
            "align_self": null,
            "border": null,
            "bottom": null,
            "display": null,
            "flex": null,
            "flex_flow": null,
            "grid_area": null,
            "grid_auto_columns": null,
            "grid_auto_flow": null,
            "grid_auto_rows": null,
            "grid_column": null,
            "grid_gap": null,
            "grid_row": null,
            "grid_template_areas": null,
            "grid_template_columns": null,
            "grid_template_rows": null,
            "height": null,
            "justify_content": null,
            "justify_items": null,
            "left": null,
            "margin": null,
            "max_height": null,
            "max_width": null,
            "min_height": null,
            "min_width": null,
            "object_fit": null,
            "object_position": null,
            "order": null,
            "overflow": null,
            "overflow_x": null,
            "overflow_y": null,
            "padding": null,
            "right": null,
            "top": null,
            "visibility": null,
            "width": null
          }
        },
        "60847007132a453a843e2a204639991c": {
          "model_module": "@jupyter-widgets/controls",
          "model_name": "DescriptionStyleModel",
          "model_module_version": "1.5.0",
          "state": {
            "_model_module": "@jupyter-widgets/controls",
            "_model_module_version": "1.5.0",
            "_model_name": "DescriptionStyleModel",
            "_view_count": null,
            "_view_module": "@jupyter-widgets/base",
            "_view_module_version": "1.2.0",
            "_view_name": "StyleView",
            "description_width": ""
          }
        },
        "0d693dde40724f8483ba279e33bdd7b2": {
          "model_module": "@jupyter-widgets/base",
          "model_name": "LayoutModel",
          "model_module_version": "1.2.0",
          "state": {
            "_model_module": "@jupyter-widgets/base",
            "_model_module_version": "1.2.0",
            "_model_name": "LayoutModel",
            "_view_count": null,
            "_view_module": "@jupyter-widgets/base",
            "_view_module_version": "1.2.0",
            "_view_name": "LayoutView",
            "align_content": null,
            "align_items": null,
            "align_self": null,
            "border": null,
            "bottom": null,
            "display": null,
            "flex": null,
            "flex_flow": null,
            "grid_area": null,
            "grid_auto_columns": null,
            "grid_auto_flow": null,
            "grid_auto_rows": null,
            "grid_column": null,
            "grid_gap": null,
            "grid_row": null,
            "grid_template_areas": null,
            "grid_template_columns": null,
            "grid_template_rows": null,
            "height": null,
            "justify_content": null,
            "justify_items": null,
            "left": null,
            "margin": null,
            "max_height": null,
            "max_width": null,
            "min_height": null,
            "min_width": null,
            "object_fit": null,
            "object_position": null,
            "order": null,
            "overflow": null,
            "overflow_x": null,
            "overflow_y": null,
            "padding": null,
            "right": null,
            "top": null,
            "visibility": null,
            "width": null
          }
        },
        "71d7242ffbb6467b8c6a85ef6219f1bc": {
          "model_module": "@jupyter-widgets/controls",
          "model_name": "ProgressStyleModel",
          "model_module_version": "1.5.0",
          "state": {
            "_model_module": "@jupyter-widgets/controls",
            "_model_module_version": "1.5.0",
            "_model_name": "ProgressStyleModel",
            "_view_count": null,
            "_view_module": "@jupyter-widgets/base",
            "_view_module_version": "1.2.0",
            "_view_name": "StyleView",
            "bar_color": null,
            "description_width": ""
          }
        },
        "11f5818cd7464d918e7684cffca8d73a": {
          "model_module": "@jupyter-widgets/base",
          "model_name": "LayoutModel",
          "model_module_version": "1.2.0",
          "state": {
            "_model_module": "@jupyter-widgets/base",
            "_model_module_version": "1.2.0",
            "_model_name": "LayoutModel",
            "_view_count": null,
            "_view_module": "@jupyter-widgets/base",
            "_view_module_version": "1.2.0",
            "_view_name": "LayoutView",
            "align_content": null,
            "align_items": null,
            "align_self": null,
            "border": null,
            "bottom": null,
            "display": null,
            "flex": null,
            "flex_flow": null,
            "grid_area": null,
            "grid_auto_columns": null,
            "grid_auto_flow": null,
            "grid_auto_rows": null,
            "grid_column": null,
            "grid_gap": null,
            "grid_row": null,
            "grid_template_areas": null,
            "grid_template_columns": null,
            "grid_template_rows": null,
            "height": null,
            "justify_content": null,
            "justify_items": null,
            "left": null,
            "margin": null,
            "max_height": null,
            "max_width": null,
            "min_height": null,
            "min_width": null,
            "object_fit": null,
            "object_position": null,
            "order": null,
            "overflow": null,
            "overflow_x": null,
            "overflow_y": null,
            "padding": null,
            "right": null,
            "top": null,
            "visibility": null,
            "width": null
          }
        },
        "b0396174d20643d48093ed5e3e9124fc": {
          "model_module": "@jupyter-widgets/controls",
          "model_name": "DescriptionStyleModel",
          "model_module_version": "1.5.0",
          "state": {
            "_model_module": "@jupyter-widgets/controls",
            "_model_module_version": "1.5.0",
            "_model_name": "DescriptionStyleModel",
            "_view_count": null,
            "_view_module": "@jupyter-widgets/base",
            "_view_module_version": "1.2.0",
            "_view_name": "StyleView",
            "description_width": ""
          }
        },
        "757200ce47634bd4b92d6b4c888bee8c": {
          "model_module": "@jupyter-widgets/controls",
          "model_name": "HBoxModel",
          "model_module_version": "1.5.0",
          "state": {
            "_dom_classes": [],
            "_model_module": "@jupyter-widgets/controls",
            "_model_module_version": "1.5.0",
            "_model_name": "HBoxModel",
            "_view_count": null,
            "_view_module": "@jupyter-widgets/controls",
            "_view_module_version": "1.5.0",
            "_view_name": "HBoxView",
            "box_style": "",
            "children": [
              "IPY_MODEL_0cdf32dc8c014c949aeeb517dd7035d5",
              "IPY_MODEL_0f122f5da46e487da080342da6afbe66",
              "IPY_MODEL_87106a9d174c464aaa1ee237b041727f"
            ],
            "layout": "IPY_MODEL_b4b04c1d42544120853106a905b9a482"
          }
        },
        "0cdf32dc8c014c949aeeb517dd7035d5": {
          "model_module": "@jupyter-widgets/controls",
          "model_name": "HTMLModel",
          "model_module_version": "1.5.0",
          "state": {
            "_dom_classes": [],
            "_model_module": "@jupyter-widgets/controls",
            "_model_module_version": "1.5.0",
            "_model_name": "HTMLModel",
            "_view_count": null,
            "_view_module": "@jupyter-widgets/controls",
            "_view_module_version": "1.5.0",
            "_view_name": "HTMLView",
            "description": "",
            "description_tooltip": null,
            "layout": "IPY_MODEL_c7de2a4321f341e4b3f36b3c85b4bd18",
            "placeholder": "​",
            "style": "IPY_MODEL_b0f3b8c74d434686ad88e187c157c5e4",
            "value": "vocab.json: 100%"
          }
        },
        "0f122f5da46e487da080342da6afbe66": {
          "model_module": "@jupyter-widgets/controls",
          "model_name": "FloatProgressModel",
          "model_module_version": "1.5.0",
          "state": {
            "_dom_classes": [],
            "_model_module": "@jupyter-widgets/controls",
            "_model_module_version": "1.5.0",
            "_model_name": "FloatProgressModel",
            "_view_count": null,
            "_view_module": "@jupyter-widgets/controls",
            "_view_module_version": "1.5.0",
            "_view_name": "ProgressView",
            "bar_style": "success",
            "description": "",
            "description_tooltip": null,
            "layout": "IPY_MODEL_8064a99541084824809ea5f84c1a55dc",
            "max": 898823,
            "min": 0,
            "orientation": "horizontal",
            "style": "IPY_MODEL_3a163d46c1b040d8b69529c0841b2324",
            "value": 898823
          }
        },
        "87106a9d174c464aaa1ee237b041727f": {
          "model_module": "@jupyter-widgets/controls",
          "model_name": "HTMLModel",
          "model_module_version": "1.5.0",
          "state": {
            "_dom_classes": [],
            "_model_module": "@jupyter-widgets/controls",
            "_model_module_version": "1.5.0",
            "_model_name": "HTMLModel",
            "_view_count": null,
            "_view_module": "@jupyter-widgets/controls",
            "_view_module_version": "1.5.0",
            "_view_name": "HTMLView",
            "description": "",
            "description_tooltip": null,
            "layout": "IPY_MODEL_478767afa54c49189909c7385158e69e",
            "placeholder": "​",
            "style": "IPY_MODEL_7a1f5d92a2214ec3aa08b24375acead2",
            "value": " 899k/899k [00:00&lt;00:00, 6.68MB/s]"
          }
        },
        "b4b04c1d42544120853106a905b9a482": {
          "model_module": "@jupyter-widgets/base",
          "model_name": "LayoutModel",
          "model_module_version": "1.2.0",
          "state": {
            "_model_module": "@jupyter-widgets/base",
            "_model_module_version": "1.2.0",
            "_model_name": "LayoutModel",
            "_view_count": null,
            "_view_module": "@jupyter-widgets/base",
            "_view_module_version": "1.2.0",
            "_view_name": "LayoutView",
            "align_content": null,
            "align_items": null,
            "align_self": null,
            "border": null,
            "bottom": null,
            "display": null,
            "flex": null,
            "flex_flow": null,
            "grid_area": null,
            "grid_auto_columns": null,
            "grid_auto_flow": null,
            "grid_auto_rows": null,
            "grid_column": null,
            "grid_gap": null,
            "grid_row": null,
            "grid_template_areas": null,
            "grid_template_columns": null,
            "grid_template_rows": null,
            "height": null,
            "justify_content": null,
            "justify_items": null,
            "left": null,
            "margin": null,
            "max_height": null,
            "max_width": null,
            "min_height": null,
            "min_width": null,
            "object_fit": null,
            "object_position": null,
            "order": null,
            "overflow": null,
            "overflow_x": null,
            "overflow_y": null,
            "padding": null,
            "right": null,
            "top": null,
            "visibility": null,
            "width": null
          }
        },
        "c7de2a4321f341e4b3f36b3c85b4bd18": {
          "model_module": "@jupyter-widgets/base",
          "model_name": "LayoutModel",
          "model_module_version": "1.2.0",
          "state": {
            "_model_module": "@jupyter-widgets/base",
            "_model_module_version": "1.2.0",
            "_model_name": "LayoutModel",
            "_view_count": null,
            "_view_module": "@jupyter-widgets/base",
            "_view_module_version": "1.2.0",
            "_view_name": "LayoutView",
            "align_content": null,
            "align_items": null,
            "align_self": null,
            "border": null,
            "bottom": null,
            "display": null,
            "flex": null,
            "flex_flow": null,
            "grid_area": null,
            "grid_auto_columns": null,
            "grid_auto_flow": null,
            "grid_auto_rows": null,
            "grid_column": null,
            "grid_gap": null,
            "grid_row": null,
            "grid_template_areas": null,
            "grid_template_columns": null,
            "grid_template_rows": null,
            "height": null,
            "justify_content": null,
            "justify_items": null,
            "left": null,
            "margin": null,
            "max_height": null,
            "max_width": null,
            "min_height": null,
            "min_width": null,
            "object_fit": null,
            "object_position": null,
            "order": null,
            "overflow": null,
            "overflow_x": null,
            "overflow_y": null,
            "padding": null,
            "right": null,
            "top": null,
            "visibility": null,
            "width": null
          }
        },
        "b0f3b8c74d434686ad88e187c157c5e4": {
          "model_module": "@jupyter-widgets/controls",
          "model_name": "DescriptionStyleModel",
          "model_module_version": "1.5.0",
          "state": {
            "_model_module": "@jupyter-widgets/controls",
            "_model_module_version": "1.5.0",
            "_model_name": "DescriptionStyleModel",
            "_view_count": null,
            "_view_module": "@jupyter-widgets/base",
            "_view_module_version": "1.2.0",
            "_view_name": "StyleView",
            "description_width": ""
          }
        },
        "8064a99541084824809ea5f84c1a55dc": {
          "model_module": "@jupyter-widgets/base",
          "model_name": "LayoutModel",
          "model_module_version": "1.2.0",
          "state": {
            "_model_module": "@jupyter-widgets/base",
            "_model_module_version": "1.2.0",
            "_model_name": "LayoutModel",
            "_view_count": null,
            "_view_module": "@jupyter-widgets/base",
            "_view_module_version": "1.2.0",
            "_view_name": "LayoutView",
            "align_content": null,
            "align_items": null,
            "align_self": null,
            "border": null,
            "bottom": null,
            "display": null,
            "flex": null,
            "flex_flow": null,
            "grid_area": null,
            "grid_auto_columns": null,
            "grid_auto_flow": null,
            "grid_auto_rows": null,
            "grid_column": null,
            "grid_gap": null,
            "grid_row": null,
            "grid_template_areas": null,
            "grid_template_columns": null,
            "grid_template_rows": null,
            "height": null,
            "justify_content": null,
            "justify_items": null,
            "left": null,
            "margin": null,
            "max_height": null,
            "max_width": null,
            "min_height": null,
            "min_width": null,
            "object_fit": null,
            "object_position": null,
            "order": null,
            "overflow": null,
            "overflow_x": null,
            "overflow_y": null,
            "padding": null,
            "right": null,
            "top": null,
            "visibility": null,
            "width": null
          }
        },
        "3a163d46c1b040d8b69529c0841b2324": {
          "model_module": "@jupyter-widgets/controls",
          "model_name": "ProgressStyleModel",
          "model_module_version": "1.5.0",
          "state": {
            "_model_module": "@jupyter-widgets/controls",
            "_model_module_version": "1.5.0",
            "_model_name": "ProgressStyleModel",
            "_view_count": null,
            "_view_module": "@jupyter-widgets/base",
            "_view_module_version": "1.2.0",
            "_view_name": "StyleView",
            "bar_color": null,
            "description_width": ""
          }
        },
        "478767afa54c49189909c7385158e69e": {
          "model_module": "@jupyter-widgets/base",
          "model_name": "LayoutModel",
          "model_module_version": "1.2.0",
          "state": {
            "_model_module": "@jupyter-widgets/base",
            "_model_module_version": "1.2.0",
            "_model_name": "LayoutModel",
            "_view_count": null,
            "_view_module": "@jupyter-widgets/base",
            "_view_module_version": "1.2.0",
            "_view_name": "LayoutView",
            "align_content": null,
            "align_items": null,
            "align_self": null,
            "border": null,
            "bottom": null,
            "display": null,
            "flex": null,
            "flex_flow": null,
            "grid_area": null,
            "grid_auto_columns": null,
            "grid_auto_flow": null,
            "grid_auto_rows": null,
            "grid_column": null,
            "grid_gap": null,
            "grid_row": null,
            "grid_template_areas": null,
            "grid_template_columns": null,
            "grid_template_rows": null,
            "height": null,
            "justify_content": null,
            "justify_items": null,
            "left": null,
            "margin": null,
            "max_height": null,
            "max_width": null,
            "min_height": null,
            "min_width": null,
            "object_fit": null,
            "object_position": null,
            "order": null,
            "overflow": null,
            "overflow_x": null,
            "overflow_y": null,
            "padding": null,
            "right": null,
            "top": null,
            "visibility": null,
            "width": null
          }
        },
        "7a1f5d92a2214ec3aa08b24375acead2": {
          "model_module": "@jupyter-widgets/controls",
          "model_name": "DescriptionStyleModel",
          "model_module_version": "1.5.0",
          "state": {
            "_model_module": "@jupyter-widgets/controls",
            "_model_module_version": "1.5.0",
            "_model_name": "DescriptionStyleModel",
            "_view_count": null,
            "_view_module": "@jupyter-widgets/base",
            "_view_module_version": "1.2.0",
            "_view_name": "StyleView",
            "description_width": ""
          }
        },
        "422f16c7370e4abc83419965586e160a": {
          "model_module": "@jupyter-widgets/controls",
          "model_name": "HBoxModel",
          "model_module_version": "1.5.0",
          "state": {
            "_dom_classes": [],
            "_model_module": "@jupyter-widgets/controls",
            "_model_module_version": "1.5.0",
            "_model_name": "HBoxModel",
            "_view_count": null,
            "_view_module": "@jupyter-widgets/controls",
            "_view_module_version": "1.5.0",
            "_view_name": "HBoxView",
            "box_style": "",
            "children": [
              "IPY_MODEL_9aa52a39adfb4958816d2df70555a548",
              "IPY_MODEL_bd403fd705744ecd9479d33621a40594",
              "IPY_MODEL_df293a1f7b97461b87bb5556579e8d36"
            ],
            "layout": "IPY_MODEL_60a6c1e6fe8c467ab142434c377b0d6b"
          }
        },
        "9aa52a39adfb4958816d2df70555a548": {
          "model_module": "@jupyter-widgets/controls",
          "model_name": "HTMLModel",
          "model_module_version": "1.5.0",
          "state": {
            "_dom_classes": [],
            "_model_module": "@jupyter-widgets/controls",
            "_model_module_version": "1.5.0",
            "_model_name": "HTMLModel",
            "_view_count": null,
            "_view_module": "@jupyter-widgets/controls",
            "_view_module_version": "1.5.0",
            "_view_name": "HTMLView",
            "description": "",
            "description_tooltip": null,
            "layout": "IPY_MODEL_d60659235b1947a2b5c8d9e6969689e8",
            "placeholder": "​",
            "style": "IPY_MODEL_6133549a623d4c768a186c5752f46aad",
            "value": "merges.txt: 100%"
          }
        },
        "bd403fd705744ecd9479d33621a40594": {
          "model_module": "@jupyter-widgets/controls",
          "model_name": "FloatProgressModel",
          "model_module_version": "1.5.0",
          "state": {
            "_dom_classes": [],
            "_model_module": "@jupyter-widgets/controls",
            "_model_module_version": "1.5.0",
            "_model_name": "FloatProgressModel",
            "_view_count": null,
            "_view_module": "@jupyter-widgets/controls",
            "_view_module_version": "1.5.0",
            "_view_name": "ProgressView",
            "bar_style": "success",
            "description": "",
            "description_tooltip": null,
            "layout": "IPY_MODEL_0d1307d6ba714dd4bb063daa7e9f28a5",
            "max": 456318,
            "min": 0,
            "orientation": "horizontal",
            "style": "IPY_MODEL_aac3188768514dab9e5a118a649cc47b",
            "value": 456318
          }
        },
        "df293a1f7b97461b87bb5556579e8d36": {
          "model_module": "@jupyter-widgets/controls",
          "model_name": "HTMLModel",
          "model_module_version": "1.5.0",
          "state": {
            "_dom_classes": [],
            "_model_module": "@jupyter-widgets/controls",
            "_model_module_version": "1.5.0",
            "_model_name": "HTMLModel",
            "_view_count": null,
            "_view_module": "@jupyter-widgets/controls",
            "_view_module_version": "1.5.0",
            "_view_name": "HTMLView",
            "description": "",
            "description_tooltip": null,
            "layout": "IPY_MODEL_09201d4571844230a7eabd9230ae8347",
            "placeholder": "​",
            "style": "IPY_MODEL_e8ef005ea2e14414b77254e89c173476",
            "value": " 456k/456k [00:00&lt;00:00, 13.1MB/s]"
          }
        },
        "60a6c1e6fe8c467ab142434c377b0d6b": {
          "model_module": "@jupyter-widgets/base",
          "model_name": "LayoutModel",
          "model_module_version": "1.2.0",
          "state": {
            "_model_module": "@jupyter-widgets/base",
            "_model_module_version": "1.2.0",
            "_model_name": "LayoutModel",
            "_view_count": null,
            "_view_module": "@jupyter-widgets/base",
            "_view_module_version": "1.2.0",
            "_view_name": "LayoutView",
            "align_content": null,
            "align_items": null,
            "align_self": null,
            "border": null,
            "bottom": null,
            "display": null,
            "flex": null,
            "flex_flow": null,
            "grid_area": null,
            "grid_auto_columns": null,
            "grid_auto_flow": null,
            "grid_auto_rows": null,
            "grid_column": null,
            "grid_gap": null,
            "grid_row": null,
            "grid_template_areas": null,
            "grid_template_columns": null,
            "grid_template_rows": null,
            "height": null,
            "justify_content": null,
            "justify_items": null,
            "left": null,
            "margin": null,
            "max_height": null,
            "max_width": null,
            "min_height": null,
            "min_width": null,
            "object_fit": null,
            "object_position": null,
            "order": null,
            "overflow": null,
            "overflow_x": null,
            "overflow_y": null,
            "padding": null,
            "right": null,
            "top": null,
            "visibility": null,
            "width": null
          }
        },
        "d60659235b1947a2b5c8d9e6969689e8": {
          "model_module": "@jupyter-widgets/base",
          "model_name": "LayoutModel",
          "model_module_version": "1.2.0",
          "state": {
            "_model_module": "@jupyter-widgets/base",
            "_model_module_version": "1.2.0",
            "_model_name": "LayoutModel",
            "_view_count": null,
            "_view_module": "@jupyter-widgets/base",
            "_view_module_version": "1.2.0",
            "_view_name": "LayoutView",
            "align_content": null,
            "align_items": null,
            "align_self": null,
            "border": null,
            "bottom": null,
            "display": null,
            "flex": null,
            "flex_flow": null,
            "grid_area": null,
            "grid_auto_columns": null,
            "grid_auto_flow": null,
            "grid_auto_rows": null,
            "grid_column": null,
            "grid_gap": null,
            "grid_row": null,
            "grid_template_areas": null,
            "grid_template_columns": null,
            "grid_template_rows": null,
            "height": null,
            "justify_content": null,
            "justify_items": null,
            "left": null,
            "margin": null,
            "max_height": null,
            "max_width": null,
            "min_height": null,
            "min_width": null,
            "object_fit": null,
            "object_position": null,
            "order": null,
            "overflow": null,
            "overflow_x": null,
            "overflow_y": null,
            "padding": null,
            "right": null,
            "top": null,
            "visibility": null,
            "width": null
          }
        },
        "6133549a623d4c768a186c5752f46aad": {
          "model_module": "@jupyter-widgets/controls",
          "model_name": "DescriptionStyleModel",
          "model_module_version": "1.5.0",
          "state": {
            "_model_module": "@jupyter-widgets/controls",
            "_model_module_version": "1.5.0",
            "_model_name": "DescriptionStyleModel",
            "_view_count": null,
            "_view_module": "@jupyter-widgets/base",
            "_view_module_version": "1.2.0",
            "_view_name": "StyleView",
            "description_width": ""
          }
        },
        "0d1307d6ba714dd4bb063daa7e9f28a5": {
          "model_module": "@jupyter-widgets/base",
          "model_name": "LayoutModel",
          "model_module_version": "1.2.0",
          "state": {
            "_model_module": "@jupyter-widgets/base",
            "_model_module_version": "1.2.0",
            "_model_name": "LayoutModel",
            "_view_count": null,
            "_view_module": "@jupyter-widgets/base",
            "_view_module_version": "1.2.0",
            "_view_name": "LayoutView",
            "align_content": null,
            "align_items": null,
            "align_self": null,
            "border": null,
            "bottom": null,
            "display": null,
            "flex": null,
            "flex_flow": null,
            "grid_area": null,
            "grid_auto_columns": null,
            "grid_auto_flow": null,
            "grid_auto_rows": null,
            "grid_column": null,
            "grid_gap": null,
            "grid_row": null,
            "grid_template_areas": null,
            "grid_template_columns": null,
            "grid_template_rows": null,
            "height": null,
            "justify_content": null,
            "justify_items": null,
            "left": null,
            "margin": null,
            "max_height": null,
            "max_width": null,
            "min_height": null,
            "min_width": null,
            "object_fit": null,
            "object_position": null,
            "order": null,
            "overflow": null,
            "overflow_x": null,
            "overflow_y": null,
            "padding": null,
            "right": null,
            "top": null,
            "visibility": null,
            "width": null
          }
        },
        "aac3188768514dab9e5a118a649cc47b": {
          "model_module": "@jupyter-widgets/controls",
          "model_name": "ProgressStyleModel",
          "model_module_version": "1.5.0",
          "state": {
            "_model_module": "@jupyter-widgets/controls",
            "_model_module_version": "1.5.0",
            "_model_name": "ProgressStyleModel",
            "_view_count": null,
            "_view_module": "@jupyter-widgets/base",
            "_view_module_version": "1.2.0",
            "_view_name": "StyleView",
            "bar_color": null,
            "description_width": ""
          }
        },
        "09201d4571844230a7eabd9230ae8347": {
          "model_module": "@jupyter-widgets/base",
          "model_name": "LayoutModel",
          "model_module_version": "1.2.0",
          "state": {
            "_model_module": "@jupyter-widgets/base",
            "_model_module_version": "1.2.0",
            "_model_name": "LayoutModel",
            "_view_count": null,
            "_view_module": "@jupyter-widgets/base",
            "_view_module_version": "1.2.0",
            "_view_name": "LayoutView",
            "align_content": null,
            "align_items": null,
            "align_self": null,
            "border": null,
            "bottom": null,
            "display": null,
            "flex": null,
            "flex_flow": null,
            "grid_area": null,
            "grid_auto_columns": null,
            "grid_auto_flow": null,
            "grid_auto_rows": null,
            "grid_column": null,
            "grid_gap": null,
            "grid_row": null,
            "grid_template_areas": null,
            "grid_template_columns": null,
            "grid_template_rows": null,
            "height": null,
            "justify_content": null,
            "justify_items": null,
            "left": null,
            "margin": null,
            "max_height": null,
            "max_width": null,
            "min_height": null,
            "min_width": null,
            "object_fit": null,
            "object_position": null,
            "order": null,
            "overflow": null,
            "overflow_x": null,
            "overflow_y": null,
            "padding": null,
            "right": null,
            "top": null,
            "visibility": null,
            "width": null
          }
        },
        "e8ef005ea2e14414b77254e89c173476": {
          "model_module": "@jupyter-widgets/controls",
          "model_name": "DescriptionStyleModel",
          "model_module_version": "1.5.0",
          "state": {
            "_model_module": "@jupyter-widgets/controls",
            "_model_module_version": "1.5.0",
            "_model_name": "DescriptionStyleModel",
            "_view_count": null,
            "_view_module": "@jupyter-widgets/base",
            "_view_module_version": "1.2.0",
            "_view_name": "StyleView",
            "description_width": ""
          }
        },
        "d000953cb48042ebbc993cf70c8a213b": {
          "model_module": "@jupyter-widgets/controls",
          "model_name": "HBoxModel",
          "model_module_version": "1.5.0",
          "state": {
            "_dom_classes": [],
            "_model_module": "@jupyter-widgets/controls",
            "_model_module_version": "1.5.0",
            "_model_name": "HBoxModel",
            "_view_count": null,
            "_view_module": "@jupyter-widgets/controls",
            "_view_module_version": "1.5.0",
            "_view_name": "HBoxView",
            "box_style": "",
            "children": [
              "IPY_MODEL_fd174a1b6dbb4e6386e1f6f84d59e5eb",
              "IPY_MODEL_777ace7f941e40f49fb9b3f1f97a07b9",
              "IPY_MODEL_f5cdec812aa343b2ba9f8deee3fa99c3"
            ],
            "layout": "IPY_MODEL_ba884fa127ae4c1d9b09ceae15e24bc9"
          }
        },
        "fd174a1b6dbb4e6386e1f6f84d59e5eb": {
          "model_module": "@jupyter-widgets/controls",
          "model_name": "HTMLModel",
          "model_module_version": "1.5.0",
          "state": {
            "_dom_classes": [],
            "_model_module": "@jupyter-widgets/controls",
            "_model_module_version": "1.5.0",
            "_model_name": "HTMLModel",
            "_view_count": null,
            "_view_module": "@jupyter-widgets/controls",
            "_view_module_version": "1.5.0",
            "_view_name": "HTMLView",
            "description": "",
            "description_tooltip": null,
            "layout": "IPY_MODEL_cf14dd1e98aa4fdca6930f7f379b69b1",
            "placeholder": "​",
            "style": "IPY_MODEL_331f97e82482425d9ff858d005e739c8",
            "value": "tokenizer.json: 100%"
          }
        },
        "777ace7f941e40f49fb9b3f1f97a07b9": {
          "model_module": "@jupyter-widgets/controls",
          "model_name": "FloatProgressModel",
          "model_module_version": "1.5.0",
          "state": {
            "_dom_classes": [],
            "_model_module": "@jupyter-widgets/controls",
            "_model_module_version": "1.5.0",
            "_model_name": "FloatProgressModel",
            "_view_count": null,
            "_view_module": "@jupyter-widgets/controls",
            "_view_module_version": "1.5.0",
            "_view_name": "ProgressView",
            "bar_style": "success",
            "description": "",
            "description_tooltip": null,
            "layout": "IPY_MODEL_7ad721ca703248adb8ba76f9aaf359e7",
            "max": 1355863,
            "min": 0,
            "orientation": "horizontal",
            "style": "IPY_MODEL_f9f10900584d4f478efdccea3cac760c",
            "value": 1355863
          }
        },
        "f5cdec812aa343b2ba9f8deee3fa99c3": {
          "model_module": "@jupyter-widgets/controls",
          "model_name": "HTMLModel",
          "model_module_version": "1.5.0",
          "state": {
            "_dom_classes": [],
            "_model_module": "@jupyter-widgets/controls",
            "_model_module_version": "1.5.0",
            "_model_name": "HTMLModel",
            "_view_count": null,
            "_view_module": "@jupyter-widgets/controls",
            "_view_module_version": "1.5.0",
            "_view_name": "HTMLView",
            "description": "",
            "description_tooltip": null,
            "layout": "IPY_MODEL_0a9b0e643b7b4067b41ec12ea462dd09",
            "placeholder": "​",
            "style": "IPY_MODEL_3731631569c348ccbdee137bb950e0e6",
            "value": " 1.36M/1.36M [00:00&lt;00:00, 5.22MB/s]"
          }
        },
        "ba884fa127ae4c1d9b09ceae15e24bc9": {
          "model_module": "@jupyter-widgets/base",
          "model_name": "LayoutModel",
          "model_module_version": "1.2.0",
          "state": {
            "_model_module": "@jupyter-widgets/base",
            "_model_module_version": "1.2.0",
            "_model_name": "LayoutModel",
            "_view_count": null,
            "_view_module": "@jupyter-widgets/base",
            "_view_module_version": "1.2.0",
            "_view_name": "LayoutView",
            "align_content": null,
            "align_items": null,
            "align_self": null,
            "border": null,
            "bottom": null,
            "display": null,
            "flex": null,
            "flex_flow": null,
            "grid_area": null,
            "grid_auto_columns": null,
            "grid_auto_flow": null,
            "grid_auto_rows": null,
            "grid_column": null,
            "grid_gap": null,
            "grid_row": null,
            "grid_template_areas": null,
            "grid_template_columns": null,
            "grid_template_rows": null,
            "height": null,
            "justify_content": null,
            "justify_items": null,
            "left": null,
            "margin": null,
            "max_height": null,
            "max_width": null,
            "min_height": null,
            "min_width": null,
            "object_fit": null,
            "object_position": null,
            "order": null,
            "overflow": null,
            "overflow_x": null,
            "overflow_y": null,
            "padding": null,
            "right": null,
            "top": null,
            "visibility": null,
            "width": null
          }
        },
        "cf14dd1e98aa4fdca6930f7f379b69b1": {
          "model_module": "@jupyter-widgets/base",
          "model_name": "LayoutModel",
          "model_module_version": "1.2.0",
          "state": {
            "_model_module": "@jupyter-widgets/base",
            "_model_module_version": "1.2.0",
            "_model_name": "LayoutModel",
            "_view_count": null,
            "_view_module": "@jupyter-widgets/base",
            "_view_module_version": "1.2.0",
            "_view_name": "LayoutView",
            "align_content": null,
            "align_items": null,
            "align_self": null,
            "border": null,
            "bottom": null,
            "display": null,
            "flex": null,
            "flex_flow": null,
            "grid_area": null,
            "grid_auto_columns": null,
            "grid_auto_flow": null,
            "grid_auto_rows": null,
            "grid_column": null,
            "grid_gap": null,
            "grid_row": null,
            "grid_template_areas": null,
            "grid_template_columns": null,
            "grid_template_rows": null,
            "height": null,
            "justify_content": null,
            "justify_items": null,
            "left": null,
            "margin": null,
            "max_height": null,
            "max_width": null,
            "min_height": null,
            "min_width": null,
            "object_fit": null,
            "object_position": null,
            "order": null,
            "overflow": null,
            "overflow_x": null,
            "overflow_y": null,
            "padding": null,
            "right": null,
            "top": null,
            "visibility": null,
            "width": null
          }
        },
        "331f97e82482425d9ff858d005e739c8": {
          "model_module": "@jupyter-widgets/controls",
          "model_name": "DescriptionStyleModel",
          "model_module_version": "1.5.0",
          "state": {
            "_model_module": "@jupyter-widgets/controls",
            "_model_module_version": "1.5.0",
            "_model_name": "DescriptionStyleModel",
            "_view_count": null,
            "_view_module": "@jupyter-widgets/base",
            "_view_module_version": "1.2.0",
            "_view_name": "StyleView",
            "description_width": ""
          }
        },
        "7ad721ca703248adb8ba76f9aaf359e7": {
          "model_module": "@jupyter-widgets/base",
          "model_name": "LayoutModel",
          "model_module_version": "1.2.0",
          "state": {
            "_model_module": "@jupyter-widgets/base",
            "_model_module_version": "1.2.0",
            "_model_name": "LayoutModel",
            "_view_count": null,
            "_view_module": "@jupyter-widgets/base",
            "_view_module_version": "1.2.0",
            "_view_name": "LayoutView",
            "align_content": null,
            "align_items": null,
            "align_self": null,
            "border": null,
            "bottom": null,
            "display": null,
            "flex": null,
            "flex_flow": null,
            "grid_area": null,
            "grid_auto_columns": null,
            "grid_auto_flow": null,
            "grid_auto_rows": null,
            "grid_column": null,
            "grid_gap": null,
            "grid_row": null,
            "grid_template_areas": null,
            "grid_template_columns": null,
            "grid_template_rows": null,
            "height": null,
            "justify_content": null,
            "justify_items": null,
            "left": null,
            "margin": null,
            "max_height": null,
            "max_width": null,
            "min_height": null,
            "min_width": null,
            "object_fit": null,
            "object_position": null,
            "order": null,
            "overflow": null,
            "overflow_x": null,
            "overflow_y": null,
            "padding": null,
            "right": null,
            "top": null,
            "visibility": null,
            "width": null
          }
        },
        "f9f10900584d4f478efdccea3cac760c": {
          "model_module": "@jupyter-widgets/controls",
          "model_name": "ProgressStyleModel",
          "model_module_version": "1.5.0",
          "state": {
            "_model_module": "@jupyter-widgets/controls",
            "_model_module_version": "1.5.0",
            "_model_name": "ProgressStyleModel",
            "_view_count": null,
            "_view_module": "@jupyter-widgets/base",
            "_view_module_version": "1.2.0",
            "_view_name": "StyleView",
            "bar_color": null,
            "description_width": ""
          }
        },
        "0a9b0e643b7b4067b41ec12ea462dd09": {
          "model_module": "@jupyter-widgets/base",
          "model_name": "LayoutModel",
          "model_module_version": "1.2.0",
          "state": {
            "_model_module": "@jupyter-widgets/base",
            "_model_module_version": "1.2.0",
            "_model_name": "LayoutModel",
            "_view_count": null,
            "_view_module": "@jupyter-widgets/base",
            "_view_module_version": "1.2.0",
            "_view_name": "LayoutView",
            "align_content": null,
            "align_items": null,
            "align_self": null,
            "border": null,
            "bottom": null,
            "display": null,
            "flex": null,
            "flex_flow": null,
            "grid_area": null,
            "grid_auto_columns": null,
            "grid_auto_flow": null,
            "grid_auto_rows": null,
            "grid_column": null,
            "grid_gap": null,
            "grid_row": null,
            "grid_template_areas": null,
            "grid_template_columns": null,
            "grid_template_rows": null,
            "height": null,
            "justify_content": null,
            "justify_items": null,
            "left": null,
            "margin": null,
            "max_height": null,
            "max_width": null,
            "min_height": null,
            "min_width": null,
            "object_fit": null,
            "object_position": null,
            "order": null,
            "overflow": null,
            "overflow_x": null,
            "overflow_y": null,
            "padding": null,
            "right": null,
            "top": null,
            "visibility": null,
            "width": null
          }
        },
        "3731631569c348ccbdee137bb950e0e6": {
          "model_module": "@jupyter-widgets/controls",
          "model_name": "DescriptionStyleModel",
          "model_module_version": "1.5.0",
          "state": {
            "_model_module": "@jupyter-widgets/controls",
            "_model_module_version": "1.5.0",
            "_model_name": "DescriptionStyleModel",
            "_view_count": null,
            "_view_module": "@jupyter-widgets/base",
            "_view_module_version": "1.2.0",
            "_view_name": "StyleView",
            "description_width": ""
          }
        }
      }
    }
  },
  "nbformat": 4,
  "nbformat_minor": 0
}