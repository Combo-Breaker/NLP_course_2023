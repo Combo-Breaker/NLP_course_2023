{
  "nbformat": 4,
  "nbformat_minor": 0,
  "metadata": {
    "colab": {
      "provenance": []
    },
    "kernelspec": {
      "display_name": "Python 3",
      "language": "python",
      "name": "python3"
    },
    "language_info": {
      "codemirror_mode": {
        "name": "ipython",
        "version": 3
      },
      "file_extension": ".py",
      "mimetype": "text/x-python",
      "name": "python",
      "nbconvert_exporter": "python",
      "pygments_lexer": "ipython3",
      "version": "3.7.3"
    }
  },
  "cells": [
    {
      "cell_type": "markdown",
      "metadata": {
        "id": "LqEq6UaFnTOj"
      },
      "source": [
        "<h1><center>seq2seq модели, механизм attention </center></h1>\n",
        "\n",
        "\n",
        "Рассмотрим работу seq2seq моделей и механизма attention на задаче нормализации дат: на вход подаем даты в произвольном формате, на выход хотим получать их в унифицированном формате.\n",
        "\n",
        "Мы воспользуемся кодом из туториала PyTorch по машинному переводу: https://pytorch.org/tutorials/intermediate/seq2seq_translation_tutorial.html"
      ]
    },
    {
      "cell_type": "code",
      "metadata": {
        "id": "prTwLDAcVqhK"
      },
      "source": [
        "%matplotlib inline"
      ],
      "execution_count": 1,
      "outputs": []
    },
    {
      "cell_type": "code",
      "metadata": {
        "id": "akKnQhiMVqhV"
      },
      "source": [
        "from __future__ import unicode_literals, print_function, division\n",
        "from io import open\n",
        "import unicodedata\n",
        "import string\n",
        "import re\n",
        "import random\n",
        "\n",
        "import torch\n",
        "import torch.nn as nn\n",
        "from torch import optim\n",
        "import torch.nn.functional as F"
      ],
      "execution_count": 2,
      "outputs": []
    },
    {
      "cell_type": "code",
      "metadata": {
        "id": "UU6gPCeaVqhX"
      },
      "source": [
        "device = torch.device(\"cuda\" if torch.cuda.is_available() else \"cpu\")"
      ],
      "execution_count": 3,
      "outputs": []
    },
    {
      "cell_type": "markdown",
      "metadata": {
        "id": "WVQcqR3gVqhZ"
      },
      "source": [
        "### Генерируем  данные\n",
        "\n",
        "Сгенерируем даты в разных форматах."
      ]
    },
    {
      "cell_type": "code",
      "metadata": {
        "id": "YnQ7FMtwnTOt"
      },
      "source": [
        "import datetime\n",
        "from random import randrange\n",
        "from datetime import timedelta"
      ],
      "execution_count": 4,
      "outputs": []
    },
    {
      "cell_type": "code",
      "metadata": {
        "id": "-NlFW6Q8Vqha"
      },
      "source": [
        "def get_random_date(start, end):\n",
        "    delta = end - start\n",
        "    int_delta = (delta.days * 24 * 60 * 60) + delta.seconds\n",
        "    random_second = randrange(int_delta)\n",
        "    return (start + timedelta(seconds=random_second)).replace(hour=0, minute = 0, second=0)\n",
        "\n",
        "\n",
        "FORMATS = ['%d %b %Y', '%d %B %Y', '%B %dth, %Y', '%b %d, %Y',\n",
        "           '%d/%m/%Y', '%d/%m/%y', '%d-%b-%y', '%d.%m.%Y']\n",
        "\n",
        "TARGET_FORMAT = '%d-%m-%Y'\n",
        "\n",
        "def get_dataset(fst_dt, snd_dt, fmt_dt):\n",
        "    fst_d = datetime.datetime.strptime(fst_dt, fmt_dt)\n",
        "    snd_d = datetime.datetime.strptime(snd_dt, fmt_dt)\n",
        "    dataset = []\n",
        "    for i in range(10000):\n",
        "        date_format = random.choice(FORMATS)\n",
        "        rand_dt = get_random_date(fst_d, snd_d)\n",
        "        t = (datetime.datetime.strftime(rand_dt, date_format),\n",
        "            datetime.datetime.strftime(rand_dt, TARGET_FORMAT))\n",
        "        dataset.append(t)\n",
        "    return dataset\n",
        "\n",
        "dataset = get_dataset('1/1/2017', '1/1/2019', '%m/%d/%Y')"
      ],
      "execution_count": 5,
      "outputs": []
    },
    {
      "cell_type": "code",
      "metadata": {
        "colab": {
          "base_uri": "https://localhost:8080/"
        },
        "id": "XvcBDa-7Vqhc",
        "outputId": "b925d7a9-0443-4da7-e26e-1555a97f021f"
      },
      "source": [
        "dataset[:10]"
      ],
      "execution_count": 6,
      "outputs": [
        {
          "output_type": "execute_result",
          "data": {
            "text/plain": [
              "[('08.03.2018', '08-03-2018'),\n",
              " ('20/11/17', '20-11-2017'),\n",
              " ('March 11th, 2017', '11-03-2017'),\n",
              " ('12/09/18', '12-09-2018'),\n",
              " ('30.05.2017', '30-05-2017'),\n",
              " ('21/11/2017', '21-11-2017'),\n",
              " ('01-Dec-18', '01-12-2018'),\n",
              " ('Sep 22, 2017', '22-09-2017'),\n",
              " ('01 Jun 2018', '01-06-2018'),\n",
              " ('10 August 2017', '10-08-2017')]"
            ]
          },
          "metadata": {},
          "execution_count": 6
        }
      ]
    },
    {
      "cell_type": "markdown",
      "metadata": {
        "id": "1WkshY7UVqhe"
      },
      "source": [
        "Создаем вспомогательные классы для word2index, index2word"
      ]
    },
    {
      "cell_type": "code",
      "metadata": {
        "id": "TGvNJBurVqhf"
      },
      "source": [
        "# length of the longest string + EOS\n",
        "MAX_LENGTH = max(map(lambda x: len(x[0]), dataset)) + 1"
      ],
      "execution_count": 7,
      "outputs": []
    },
    {
      "cell_type": "code",
      "source": [
        "MAX_LENGTH"
      ],
      "metadata": {
        "colab": {
          "base_uri": "https://localhost:8080/"
        },
        "id": "HNHlNJbVU33k",
        "outputId": "56ae4239-ee21-463c-e751-3bb07f8760ba"
      },
      "execution_count": 8,
      "outputs": [
        {
          "output_type": "execute_result",
          "data": {
            "text/plain": [
              "21"
            ]
          },
          "metadata": {},
          "execution_count": 8
        }
      ]
    },
    {
      "cell_type": "code",
      "metadata": {
        "id": "NWC8oCvPVqhg"
      },
      "source": [
        "SOS_token = 0\n",
        "EOS_token = 1\n",
        "\n",
        "# symbol in our case\n",
        "class Lang:\n",
        "    def __init__(self, name):\n",
        "        self.name = name\n",
        "        self.word2index = {}\n",
        "        self.index2word = {0: \"SOS\", 1: \"EOS\"}\n",
        "        self.n_words = 2  # SOS and EOS\n",
        "\n",
        "    def addSentence(self, sentence):\n",
        "        for word in list(sentence):\n",
        "            self.addWord(word)\n",
        "\n",
        "    def addWord(self, word):\n",
        "        if word not in self.word2index:\n",
        "            self.word2index[word] = self.n_words\n",
        "            self.index2word[self.n_words] = word\n",
        "            self.n_words += 1"
      ],
      "execution_count": 9,
      "outputs": []
    },
    {
      "cell_type": "code",
      "metadata": {
        "colab": {
          "base_uri": "https://localhost:8080/"
        },
        "id": "FeLIOTDiVqhi",
        "outputId": "1b0b832d-8e30-4f80-8e16-9964c4da9643"
      },
      "source": [
        "def readLangs(lang1, lang2):\n",
        "    input_lang = Lang(lang1)\n",
        "    output_lang = Lang(lang2)\n",
        "    return input_lang, output_lang\n",
        "\n",
        "\n",
        "def prepareData(lang1, lang2, pairs):\n",
        "    input_lang, output_lang = readLangs(lang1, lang2)\n",
        "    for pair in pairs:\n",
        "        input_lang.addSentence(pair[0])\n",
        "        output_lang.addSentence(pair[1])\n",
        "    print(input_lang.name, input_lang.n_words)\n",
        "    print(output_lang.name, output_lang.n_words)\n",
        "    return input_lang, output_lang, pairs\n",
        "\n",
        "\n",
        "input_lang, output_lang, pairs = prepareData('human', 'iso', dataset)\n",
        "print(random.choice(pairs))\n",
        "print(input_lang.index2word)"
      ],
      "execution_count": 10,
      "outputs": [
        {
          "output_type": "stream",
          "name": "stdout",
          "text": [
            "human 43\n",
            "iso 13\n",
            "('09/07/2018', '09-07-2018')\n",
            "{0: 'SOS', 1: 'EOS', 2: '0', 3: '8', 4: '.', 5: '3', 6: '2', 7: '1', 8: '/', 9: '7', 10: 'M', 11: 'a', 12: 'r', 13: 'c', 14: 'h', 15: ' ', 16: 't', 17: ',', 18: '9', 19: '5', 20: '-', 21: 'D', 22: 'e', 23: 'S', 24: 'p', 25: 'J', 26: 'u', 27: 'n', 28: 'A', 29: 'g', 30: 's', 31: 'N', 32: 'o', 33: 'v', 34: 'm', 35: 'b', 36: '6', 37: 'O', 38: '4', 39: 'F', 40: 'y', 41: 'i', 42: 'l'}\n"
          ]
        }
      ]
    },
    {
      "cell_type": "markdown",
      "metadata": {
        "id": "lBPwvB_dVqhk"
      },
      "source": [
        "### Seq2Seq модель\n",
        "- модель, состоящая из двух RNN: энкодер и декодер.  Энкодер считывает строку и выдает вектор (закодированная строка), декодер считывает этот вектор и генерирует строку\n",
        "- в конец исходной строки добавляем EOS-символ (его векторное представление, получающееся после применения энкодер - и есть вектор, который будем подавать в декодер)\n",
        "- на вход декодер в качестве первого символа подается SOS-символ, а в качестве начального скрытого состояния подается эмбеддинг EOS-символа из энкодер"
      ]
    },
    {
      "cell_type": "code",
      "metadata": {
        "id": "f6rfDylHVqhl"
      },
      "source": [
        "class EncoderRNN(nn.Module):\n",
        "    def __init__(self, input_size, hidden_size):\n",
        "        super(EncoderRNN, self).__init__()\n",
        "        self.hidden_size = hidden_size\n",
        "\n",
        "        self.embedding = nn.Embedding(input_size, hidden_size)\n",
        "        self.gru = nn.GRU(hidden_size, hidden_size)\n",
        "\n",
        "    def forward(self, input, hidden):\n",
        "        embedded = self.embedding(input).view(1, 1, -1)\n",
        "        output = embedded\n",
        "        output, hidden = self.gru(output, hidden)\n",
        "        return output, hidden\n",
        "\n",
        "    def initHidden(self):\n",
        "        return torch.zeros(1, 1, self.hidden_size, device=device)"
      ],
      "execution_count": 11,
      "outputs": []
    },
    {
      "cell_type": "code",
      "metadata": {
        "id": "63-gaIGcVqho"
      },
      "source": [
        "# simple decoder\n",
        "class DecoderRNN(nn.Module):\n",
        "    def __init__(self, hidden_size, output_size):\n",
        "        super(DecoderRNN, self).__init__()\n",
        "        self.hidden_size = hidden_size\n",
        "\n",
        "        self.embedding = nn.Embedding(output_size, hidden_size)\n",
        "        self.gru = nn.GRU(hidden_size, hidden_size)\n",
        "        self.out = nn.Linear(hidden_size, output_size)\n",
        "        self.softmax = nn.LogSoftmax(dim=1)\n",
        "\n",
        "    def forward(self, input, hidden, _):\n",
        "        output = self.embedding(input).view(1, 1, -1)\n",
        "        output, hidden = self.gru(output, hidden)\n",
        "        output = self.softmax(self.out(output[0]))\n",
        "        return output, hidden\n",
        "\n",
        "    def initHidden(self):\n",
        "        return torch.zeros(1, 1, self.hidden_size, device=device)"
      ],
      "execution_count": 13,
      "outputs": []
    },
    {
      "cell_type": "markdown",
      "metadata": {
        "id": "ou1WsJ4IVqhp"
      },
      "source": [
        "### Attention декодер\n",
        "\n",
        "Механизм attention позволяет декодеру смотерть на разные части предложения и использовать их в соответствии с выученными весами.\n",
        "\n",
        "Механизм attention:\n",
        "- вычисляет набор весов внимания\n",
        "- умножает их на выход энкодера (\"attn_applied\")"
      ]
    },
    {
      "cell_type": "markdown",
      "metadata": {
        "id": "abPWNLHLA0wS"
      },
      "source": [
        "![image](https://pytorch.org/tutorials/_images/attention-decoder-network.png)"
      ]
    },
    {
      "cell_type": "code",
      "metadata": {
        "id": "HYxn68OJVqhq"
      },
      "source": [
        "# attention декодер\n",
        "class AttnDecoderRNN(nn.Module):\n",
        "    def __init__(self, hidden_size, output_size, dropout_p=0.1, max_length=MAX_LENGTH):\n",
        "        super(AttnDecoderRNN, self).__init__()\n",
        "        self.hidden_size = hidden_size\n",
        "        self.output_size = output_size\n",
        "        self.dropout_p = dropout_p\n",
        "        self.max_length = max_length\n",
        "\n",
        "        self.embedding = nn.Embedding(self.output_size, self.hidden_size)\n",
        "        self.attn = nn.Linear(self.hidden_size * 2, self.max_length)\n",
        "        self.attn_combine = nn.Linear(self.hidden_size * 2, self.hidden_size)\n",
        "        self.dropout = nn.Dropout(self.dropout_p)\n",
        "        self.gru = nn.GRU(self.hidden_size, self.hidden_size)\n",
        "        self.out = nn.Linear(self.hidden_size, self.output_size)\n",
        "\n",
        "    def forward(self, input, hidden, encoder_outputs):\n",
        "        embedded = self.embedding(input).view(1, 1, -1)\n",
        "        embedded = self.dropout(embedded)\n",
        "\n",
        "        attn_weights = F.softmax(\n",
        "            torch.tanh(self.attn(torch.cat((embedded[0], hidden[0]), 1))), dim=1)\n",
        "\n",
        "        attn_applied = torch.bmm(attn_weights.unsqueeze(0),\n",
        "                                 encoder_outputs.unsqueeze(0))\n",
        "        output = torch.cat((embedded[0], attn_applied[0]), 1)\n",
        "        output = self.attn_combine(output).unsqueeze(0)\n",
        "\n",
        "        output = F.relu(output)\n",
        "        output, hidden = self.gru(output, hidden)\n",
        "\n",
        "        output = F.log_softmax(self.out(output[0]), dim=1)\n",
        "        return output, hidden, attn_weights\n",
        "\n",
        "    def initHidden(self):\n",
        "        return torch.zeros(1, 1, self.hidden_size, device=device)"
      ],
      "execution_count": 14,
      "outputs": []
    },
    {
      "cell_type": "markdown",
      "metadata": {
        "id": "5RfXcQE4Vqhs"
      },
      "source": [
        "#### Обучение\n",
        "- создаем входные тензоры (с индексами символов) для каждой пары обучающей выборки\n",
        "- добавляем EOS-символы и в исходную, и в target последовательность"
      ]
    },
    {
      "cell_type": "code",
      "metadata": {
        "id": "Akw4OZ7MVqhs"
      },
      "source": [
        "def indexesFromSentence(lang, sentence):\n",
        "    return [lang.word2index[word] for word in list(sentence)]\n",
        "\n",
        "\n",
        "def tensorFromSentence(lang, sentence):\n",
        "    indexes = indexesFromSentence(lang, sentence)\n",
        "    indexes.append(EOS_token)\n",
        "    return torch.tensor(indexes, dtype=torch.long, device=device).view(-1, 1)\n",
        "\n",
        "\n",
        "def tensorsFromPair(pair):\n",
        "    input_tensor = tensorFromSentence(input_lang, pair[0])\n",
        "    target_tensor = tensorFromSentence(output_lang, pair[1])\n",
        "    return (input_tensor, target_tensor)"
      ],
      "execution_count": 15,
      "outputs": []
    },
    {
      "cell_type": "markdown",
      "metadata": {
        "id": "7JbxSCovnTO7"
      },
      "source": [
        "Используем **teacher forcing** при обучении: при декодировании следующего символа модель будет видеть не сгенерированную на предыдушем шаге последовательность, а настоящую (target). Подробнее можно почитать [тут](http://minds.jacobs-university.de/sites/default/files/uploads/papers/ESNTutorialRev.pdf)"
      ]
    },
    {
      "cell_type": "code",
      "metadata": {
        "id": "-rnKP7oIVqhu"
      },
      "source": [
        "teacher_forcing_ratio = 1.0\n",
        "\n",
        "# for one input\n",
        "def train(input_tensor, target_tensor, encoder, decoder, encoder_optimizer, decoder_optimizer, criterion, decoder_type = None, max_length=MAX_LENGTH):\n",
        "    encoder_hidden = encoder.initHidden()\n",
        "\n",
        "    encoder_optimizer.zero_grad()\n",
        "    decoder_optimizer.zero_grad()\n",
        "\n",
        "    input_length = input_tensor.size(0)\n",
        "    target_length = target_tensor.size(0)\n",
        "\n",
        "    encoder_outputs = torch.zeros(max_length, encoder.hidden_size, device=device)\n",
        "\n",
        "    loss = 0\n",
        "\n",
        "    for ei in range(input_length):\n",
        "        encoder_output, encoder_hidden = encoder(\n",
        "            input_tensor[ei], encoder_hidden)\n",
        "        encoder_outputs[ei] = encoder_output[0, 0]\n",
        "\n",
        "    decoder_input = torch.tensor([[SOS_token]], device=device)\n",
        "\n",
        "    decoder_hidden = encoder_hidden\n",
        "\n",
        "    use_teacher_forcing = False\n",
        "    use_teacher_forcing = True if random.random() < teacher_forcing_ratio else False\n",
        "\n",
        "    if use_teacher_forcing:\n",
        "        for di in range(target_length):\n",
        "            if decoder_type == 'attention':\n",
        "                decoder_output, decoder_hidden, decoder_attention = decoder(\n",
        "                    decoder_input, decoder_hidden, encoder_outputs)\n",
        "            else:\n",
        "                decoder_output, decoder_hidden = decoder(\n",
        "                    decoder_input, decoder_hidden, encoder_outputs)\n",
        "\n",
        "            loss += criterion(decoder_output, target_tensor[di])\n",
        "            decoder_input = target_tensor[di]\n",
        "\n",
        "    else:\n",
        "        for di in range(target_length):\n",
        "            if decoder_type == 'attention':\n",
        "                decoder_output, decoder_hidden, decoder_attention = decoder(\n",
        "                    decoder_input, decoder_hidden, encoder_outputs)\n",
        "            else:\n",
        "                decoder_output, decoder_hidden = decoder(\n",
        "                    decoder_input, decoder_hidden, encoder_outputs)\n",
        "\n",
        "            topv, topi = decoder_output.topk(1)\n",
        "            decoder_input = topi.squeeze().detach()\n",
        "\n",
        "            loss += criterion(decoder_output, target_tensor[di])\n",
        "            if decoder_input.item() == EOS_token:\n",
        "                break\n",
        "\n",
        "    loss.backward()\n",
        "\n",
        "    encoder_optimizer.step()\n",
        "    decoder_optimizer.step()\n",
        "\n",
        "    return loss.item() / target_length"
      ],
      "execution_count": 16,
      "outputs": []
    },
    {
      "cell_type": "code",
      "metadata": {
        "id": "BDacClKzVqhw"
      },
      "source": [
        "def trainIters(encoder, decoder, n_iters, decoder_type = None, print_every=1000, plot_every=100, learning_rate=0.01):\n",
        "    plot_losses = []\n",
        "    print_loss_total = 0\n",
        "    plot_loss_total = 0\n",
        "\n",
        "    encoder_optimizer = optim.SGD(encoder.parameters(), lr=learning_rate)\n",
        "    decoder_optimizer = optim.SGD(decoder.parameters(), lr=learning_rate)\n",
        "    training_pairs = [tensorsFromPair(random.choice(pairs))\n",
        "                      for i in range(n_iters)]\n",
        "    criterion = nn.NLLLoss()\n",
        "\n",
        "    for iter in range(1, n_iters + 1):\n",
        "        training_pair = training_pairs[iter - 1]\n",
        "        input_tensor = training_pair[0]\n",
        "        target_tensor = training_pair[1]\n",
        "\n",
        "        loss = train(input_tensor, target_tensor, encoder,\n",
        "                     decoder, encoder_optimizer, decoder_optimizer, criterion, decoder_type)\n",
        "        print_loss_total += loss\n",
        "        plot_loss_total += loss\n",
        "\n",
        "        if iter % print_every == 0:\n",
        "            print_loss_avg = print_loss_total / print_every\n",
        "            print_loss_total = 0\n",
        "            print('(%d %d%%) %.4f' % (iter, iter / n_iters * 100, print_loss_avg))\n",
        "\n",
        "        if iter % plot_every == 0:\n",
        "            plot_loss_avg = plot_loss_total / plot_every\n",
        "            plot_losses.append(plot_loss_avg)\n",
        "            plot_loss_total = 0\n",
        "\n",
        "    showPlot(plot_losses)"
      ],
      "execution_count": 17,
      "outputs": []
    },
    {
      "cell_type": "markdown",
      "metadata": {
        "id": "_h5mjBGkVqhy"
      },
      "source": [
        "Функция для визуализации процесса обучения:"
      ]
    },
    {
      "cell_type": "code",
      "metadata": {
        "id": "8Cb7nr0tVqhy"
      },
      "source": [
        "import matplotlib.pyplot as plt\n",
        "\n",
        "import matplotlib.ticker as ticker\n",
        "import numpy as np\n",
        "\n",
        "\n",
        "def showPlot(points):\n",
        "    plt.figure()\n",
        "    fig, ax = plt.subplots()\n",
        "    loc = ticker.MultipleLocator(base=0.2)\n",
        "    ax.yaxis.set_major_locator(loc)\n",
        "    plt.plot(points)"
      ],
      "execution_count": 18,
      "outputs": []
    },
    {
      "cell_type": "markdown",
      "metadata": {
        "id": "Elor0NPsVqh2"
      },
      "source": [
        "Функция для оценки качества модели и вычисления (для визуализации) весов attention:"
      ]
    },
    {
      "cell_type": "code",
      "metadata": {
        "id": "daNldZxdVqh3"
      },
      "source": [
        "def evaluate(encoder, decoder,  sentence,  decoder_type=None, max_length=MAX_LENGTH):\n",
        "    with torch.no_grad():\n",
        "        input_tensor = tensorFromSentence(input_lang, sentence)\n",
        "        input_length = input_tensor.size()[0]\n",
        "        encoder_hidden = encoder.initHidden()\n",
        "\n",
        "        encoder_outputs = torch.zeros(max_length, encoder.hidden_size, device=device)\n",
        "\n",
        "        for ei in range(input_length):\n",
        "            encoder_output, encoder_hidden = encoder(input_tensor[ei],\n",
        "                                                     encoder_hidden)\n",
        "            encoder_outputs[ei] += encoder_output[0, 0]\n",
        "\n",
        "        decoder_input = torch.tensor([[SOS_token]], device=device)  # SOS\n",
        "\n",
        "        decoder_hidden = encoder_hidden\n",
        "\n",
        "        decoded_words = []\n",
        "        decoder_attentions = torch.zeros(max_length, max_length)\n",
        "\n",
        "        for di in range(max_length):\n",
        "            if decoder_type == 'attention':\n",
        "                decoder_output, decoder_hidden, decoder_attention = decoder(\n",
        "                    decoder_input, decoder_hidden, encoder_outputs)\n",
        "                decoder_attentions[di] = decoder_attention.data\n",
        "            else:\n",
        "                decoder_output, decoder_hidden = decoder(\n",
        "                    decoder_input, decoder_hidden, encoder_outputs)\n",
        "\n",
        "            topv, topi = decoder_output.data.topk(1)\n",
        "            if topi.item() == EOS_token:\n",
        "                decoded_words.append('<EOS>')\n",
        "                break\n",
        "            else:\n",
        "                decoded_words.append(output_lang.index2word[topi.item()])\n",
        "\n",
        "            decoder_input = topi.squeeze().detach()\n",
        "\n",
        "        if decoder_type == 'attention':\n",
        "            return decoded_words, decoder_attentions[:di + 1]\n",
        "        else:\n",
        "            return decoded_words"
      ],
      "execution_count": 19,
      "outputs": []
    },
    {
      "cell_type": "markdown",
      "metadata": {
        "id": "Bp8wBE6KnTPA"
      },
      "source": [
        "Сперва обучим модель с обычным декодером, а потом - с attention декдорером и сравним качество.\n",
        "\n",
        "Создаем модель с обычным декодером и запускаем обучение:"
      ]
    },
    {
      "cell_type": "code",
      "metadata": {
        "colab": {
          "base_uri": "https://localhost:8080/",
          "height": 610
        },
        "id": "IaNFrTwtnTPC",
        "outputId": "a4128213-5f1f-4bac-bf69-f9a908e2ab97"
      },
      "source": [
        "hidden_size = 256\n",
        "teacher_forcing_ratio = 1\n",
        "encoder0 = EncoderRNN(input_lang.n_words, hidden_size).to(device)\n",
        "decoder0 = DecoderRNN(hidden_size, output_lang.n_words).to(device)\n",
        "\n",
        "trainIters(encoder0, decoder0, 5000, print_every=500)"
      ],
      "execution_count": 20,
      "outputs": [
        {
          "output_type": "stream",
          "name": "stdout",
          "text": [
            "(500 10%) 0.8556\n",
            "(1000 20%) 0.6851\n",
            "(1500 30%) 0.6726\n",
            "(2000 40%) 0.6457\n",
            "(2500 50%) 0.6043\n",
            "(3000 60%) 0.5669\n",
            "(3500 70%) 0.5271\n",
            "(4000 80%) 0.4535\n",
            "(4500 90%) 0.3961\n",
            "(5000 100%) 0.3282\n"
          ]
        },
        {
          "output_type": "display_data",
          "data": {
            "text/plain": [
              "<Figure size 640x480 with 0 Axes>"
            ]
          },
          "metadata": {}
        },
        {
          "output_type": "display_data",
          "data": {
            "text/plain": [
              "<Figure size 640x480 with 1 Axes>"
            ],
            "image/png": "[encoded data removed]"
          },
          "metadata": {}
        }
      ]
    },
    {
      "cell_type": "markdown",
      "metadata": {
        "id": "Mv-MFLmhVqh7"
      },
      "source": [
        "Можно посмотреть на некоторую пару предложений из обучающей выборки и оценить качество."
      ]
    },
    {
      "cell_type": "code",
      "metadata": {
        "id": "hNz5u3atnTPD"
      },
      "source": [
        "def evaluateRandomly(encoder, decoder, decoder_type=None, n=10):\n",
        "    for i in range(n):\n",
        "        pair = random.choice(pairs)\n",
        "        print('>', pair[0])\n",
        "        print('=', pair[1])\n",
        "        if decoder_type == 'attention':\n",
        "            output_words, attentions = evaluate(encoder, decoder, pair[0], decoder_type)\n",
        "        else:\n",
        "            output_words = evaluate(encoder, decoder, pair[0])\n",
        "        output_sentence = ''.join(output_words)\n",
        "        print('<', output_sentence)\n",
        "        print('')"
      ],
      "execution_count": 25,
      "outputs": []
    },
    {
      "cell_type": "markdown",
      "metadata": {
        "id": "oiOPssocVqiL"
      },
      "source": [
        "Посмотрим качество (accuracy) нашей модели на тестовой выборке:"
      ]
    },
    {
      "cell_type": "code",
      "metadata": {
        "id": "DPiBvF_knTPE"
      },
      "source": [
        "def accuracy_on_test(encoder, decoder,  dataset_test, decoder_type = None):\n",
        "    i = 0\n",
        "    n = 0\n",
        "    for pair in dataset_test:\n",
        "        pred = []\n",
        "        if decoder_type == 'attention':\n",
        "            output_words, attentions = evaluate(encoder, decoder, pair[0] , decoder_type)\n",
        "        else:\n",
        "            output_words = evaluate(encoder, decoder, pair[0])\n",
        "        output_sentence = ''.join(output_words)\n",
        "        n += 1\n",
        "        i += int(output_sentence[:10]== pair[1][:10])\n",
        "    return i*1. /n"
      ],
      "execution_count": 26,
      "outputs": []
    },
    {
      "cell_type": "code",
      "metadata": {
        "colab": {
          "base_uri": "https://localhost:8080/"
        },
        "id": "xTnFxR1LnTPE",
        "outputId": "deea0c27-13a3-4ac9-9a56-a436b0d22a9e"
      },
      "source": [
        "dataset_test = get_dataset('1/1/2017', '1/1/2019', '%m/%d/%Y')\n",
        "accuracy_on_test(encoder0, decoder0, dataset_test[:100])"
      ],
      "execution_count": 27,
      "outputs": [
        {
          "output_type": "execute_result",
          "data": {
            "text/plain": [
              "0.12"
            ]
          },
          "metadata": {},
          "execution_count": 27
        }
      ]
    },
    {
      "cell_type": "code",
      "metadata": {
        "colab": {
          "base_uri": "https://localhost:8080/"
        },
        "id": "ngwFjcAQK6Mq",
        "outputId": "481bc13a-056b-4a04-e250-bf0be8fd0a6e"
      },
      "source": [
        "evaluateRandomly(encoder0, decoder0)"
      ],
      "execution_count": 28,
      "outputs": [
        {
          "output_type": "stream",
          "name": "stdout",
          "text": [
            "> 03-Nov-17\n",
            "= 03-11-2017\n",
            "< 03-01-2017<EOS>\n",
            "\n",
            "> 25/01/17\n",
            "= 25-01-2017\n",
            "< 23-12-2017<EOS>\n",
            "\n",
            "> 19-Aug-17\n",
            "= 19-08-2017\n",
            "< 18-09-2017<EOS>\n",
            "\n",
            "> August 01th, 2018\n",
            "= 01-08-2018\n",
            "< 07-01-2018<EOS>\n",
            "\n",
            "> 04 Oct 2018\n",
            "= 04-10-2018\n",
            "< 04-04-2018<EOS>\n",
            "\n",
            "> Dec 06, 2018\n",
            "= 06-12-2018\n",
            "< 06-01-2018<EOS>\n",
            "\n",
            "> Jun 15, 2018\n",
            "= 15-06-2018\n",
            "< 15-09-2018<EOS>\n",
            "\n",
            "> December 14th, 2017\n",
            "= 14-12-2017\n",
            "< 24-11-2017<EOS>\n",
            "\n",
            "> 07.01.2017\n",
            "= 07-01-2017\n",
            "< 08-01-2017<EOS>\n",
            "\n",
            "> Oct 04, 2018\n",
            "= 04-10-2018\n",
            "< 04-04-2018<EOS>\n",
            "\n"
          ]
        }
      ]
    },
    {
      "cell_type": "markdown",
      "metadata": {
        "id": "GR2vG9uvnTPF"
      },
      "source": [
        "Теперь обучим модель с attention декодером, параметры энкодера и количество эпох оставим те же:"
      ]
    },
    {
      "cell_type": "code",
      "metadata": {
        "colab": {
          "base_uri": "https://localhost:8080/",
          "height": 610
        },
        "id": "J_4Mcw7jVqiA",
        "outputId": "efd58a4a-ac05-4f52-8c28-d8847aeacd4d"
      },
      "source": [
        "hidden_size = 256\n",
        "encoder1 = EncoderRNN(input_lang.n_words, hidden_size).to(device)\n",
        "attn_decoder1 = AttnDecoderRNN(hidden_size, output_lang.n_words, dropout_p=0.1).to(device)\n",
        "\n",
        "trainIters(encoder1, attn_decoder1, 5000, decoder_type = 'attention', print_every=500)"
      ],
      "execution_count": 29,
      "outputs": [
        {
          "output_type": "stream",
          "name": "stdout",
          "text": [
            "(500 10%) 0.9122\n",
            "(1000 20%) 0.6786\n",
            "(1500 30%) 0.6274\n",
            "(2000 40%) 0.5027\n",
            "(2500 50%) 0.3979\n",
            "(3000 60%) 0.3481\n",
            "(3500 70%) 0.3017\n",
            "(4000 80%) 0.2172\n",
            "(4500 90%) 0.1764\n",
            "(5000 100%) 0.1336\n"
          ]
        },
        {
          "output_type": "display_data",
          "data": {
            "text/plain": [
              "<Figure size 640x480 with 0 Axes>"
            ]
          },
          "metadata": {}
        },
        {
          "output_type": "display_data",
          "data": {
            "text/plain": [
              "<Figure size 640x480 with 1 Axes>"
            ],
            "image/png": "[encoded data removed]"
          },
          "metadata": {}
        }
      ]
    },
    {
      "cell_type": "code",
      "metadata": {
        "colab": {
          "base_uri": "https://localhost:8080/"
        },
        "id": "x3gQ3JEZVqiC",
        "outputId": "52a786d5-6027-40d6-e85d-97e141a9171a"
      },
      "source": [
        "evaluateRandomly(encoder1, attn_decoder1, decoder_type='attention')"
      ],
      "execution_count": 30,
      "outputs": [
        {
          "output_type": "stream",
          "name": "stdout",
          "text": [
            "> 14/01/2018\n",
            "= 14-01-2018\n",
            "< 14-01-2018<EOS>\n",
            "\n",
            "> 27.09.2017\n",
            "= 27-09-2017\n",
            "< 27-09-2017<EOS>\n",
            "\n",
            "> 06/12/17\n",
            "= 06-12-2017\n",
            "< 06-12-2018<EOS>\n",
            "\n",
            "> February 17th, 2018\n",
            "= 17-02-2018\n",
            "< 10-09-2018<EOS>\n",
            "\n",
            "> 16.12.2017\n",
            "= 16-12-2017\n",
            "< 16-12-2018<EOS>\n",
            "\n",
            "> 07/08/18\n",
            "= 07-08-2018\n",
            "< 07-08-2018<EOS>\n",
            "\n",
            "> 23 September 2018\n",
            "= 23-09-2018\n",
            "< 23-09-2018<EOS>\n",
            "\n",
            "> 05-Jun-18\n",
            "= 05-06-2018\n",
            "< 05-06-2018<EOS>\n",
            "\n",
            "> 17-Nov-17\n",
            "= 17-11-2017\n",
            "< 17-11-2017<EOS>\n",
            "\n",
            "> Aug 19, 2018\n",
            "= 19-08-2018\n",
            "< 18-09-2018<EOS>\n",
            "\n"
          ]
        }
      ]
    },
    {
      "cell_type": "markdown",
      "metadata": {
        "id": "Z-DxpgZHnTPH"
      },
      "source": [
        "Сравним качество на тех же тестовых данных, что первую модель:"
      ]
    },
    {
      "cell_type": "code",
      "metadata": {
        "colab": {
          "base_uri": "https://localhost:8080/"
        },
        "id": "vBLbx9cLVqiL",
        "outputId": "16fb99c9-dada-45c9-f490-3566410b5c34"
      },
      "source": [
        "accuracy_on_test(encoder1, attn_decoder1, dataset_test[:100], decoder_type='attention')"
      ],
      "execution_count": 31,
      "outputs": [
        {
          "output_type": "execute_result",
          "data": {
            "text/plain": [
              "0.58"
            ]
          },
          "metadata": {},
          "execution_count": 31
        }
      ]
    },
    {
      "cell_type": "markdown",
      "metadata": {
        "id": "GM4X_iyyVqiD"
      },
      "source": [
        "Видим ощутимый прирост качества!\n",
        "Еще один плюс использования механизма attention - получившиеся в ходе обучения веса можно визуализировать и интерпретировать."
      ]
    },
    {
      "cell_type": "code",
      "metadata": {
        "id": "6SrR3zPUVqiJ"
      },
      "source": [
        "def showAttention(input_sentence, output_words, attentions):\n",
        "\n",
        "    fig = plt.figure()\n",
        "    ax = fig.add_subplot(111)\n",
        "    cax = ax.matshow(attentions.numpy(), cmap='bone')\n",
        "    fig.colorbar(cax)\n",
        "\n",
        "    ax.set_xticklabels([''] + list(input_sentence) +\n",
        "                       ['<EOS>'], rotation=90)\n",
        "    ax.set_yticklabels([''] + output_words)\n",
        "\n",
        "    ax.xaxis.set_major_locator(ticker.MultipleLocator(1))\n",
        "    ax.yaxis.set_major_locator(ticker.MultipleLocator(1))\n",
        "\n",
        "    plt.show()\n",
        "\n",
        "\n",
        "\n",
        "def evaluateAndShowAttention(input_sentence):\n",
        "    output_words, attentions = evaluate(\n",
        "        encoder1, attn_decoder1, input_sentence, decoder_type='attention')\n",
        "    print('input =', input_sentence)\n",
        "    print('output =', ''.join(list(output_words)))\n",
        "    showAttention(input_sentence, output_words, attentions)"
      ],
      "execution_count": 32,
      "outputs": []
    },
    {
      "cell_type": "code",
      "metadata": {
        "colab": {
          "base_uri": "https://localhost:8080/",
          "height": 504
        },
        "id": "s6yotcRvnTPJ",
        "outputId": "e706b7e9-819f-41b4-c7da-cf1ef430fbef"
      },
      "source": [
        "evaluateAndShowAttention(\"05 October 2018\")"
      ],
      "execution_count": 33,
      "outputs": [
        {
          "output_type": "stream",
          "name": "stdout",
          "text": [
            "input = 05 October 2018\n",
            "output = 05-10-2018<EOS>\n"
          ]
        },
        {
          "output_type": "stream",
          "name": "stderr",
          "text": [
            "<ipython-input-32-b0de98347225>:8: UserWarning: FixedFormatter should only be used together with FixedLocator\n",
            "  ax.set_xticklabels([''] + list(input_sentence) +\n",
            "<ipython-input-32-b0de98347225>:10: UserWarning: FixedFormatter should only be used together with FixedLocator\n",
            "  ax.set_yticklabels([''] + output_words)\n"
          ]
        },
        {
          "output_type": "display_data",
          "data": {
            "text/plain": [
              "<Figure size 640x480 with 2 Axes>"
            ],
            "image/png": "[encoded data removed]"
          },
          "metadata": {}
        }
      ]
    },
    {
      "cell_type": "code",
      "metadata": {
        "colab": {
          "base_uri": "https://localhost:8080/",
          "height": 32
        },
        "id": "vKFw6BofnTPJ",
        "outputId": "4b34b03a-5f55-42b6-aa92-9df9af10b193"
      },
      "source": [
        "plt.clf()"
      ],
      "execution_count": 34,
      "outputs": [
        {
          "output_type": "display_data",
          "data": {
            "text/plain": [
              "<Figure size 640x480 with 0 Axes>"
            ]
          },
          "metadata": {}
        }
      ]
    },
    {
      "cell_type": "code",
      "metadata": {
        "colab": {
          "base_uri": "https://localhost:8080/",
          "height": 504
        },
        "id": "f8AXzGVVnTPK",
        "outputId": "3ddfb8d6-5b8c-456b-e350-7f702d18d95b"
      },
      "source": [
        "evaluateAndShowAttention(\"04/01/2018\")"
      ],
      "execution_count": 35,
      "outputs": [
        {
          "output_type": "stream",
          "name": "stdout",
          "text": [
            "input = 04/01/2018\n",
            "output = 04-01-2018<EOS>\n"
          ]
        },
        {
          "output_type": "stream",
          "name": "stderr",
          "text": [
            "<ipython-input-32-b0de98347225>:8: UserWarning: FixedFormatter should only be used together with FixedLocator\n",
            "  ax.set_xticklabels([''] + list(input_sentence) +\n",
            "<ipython-input-32-b0de98347225>:10: UserWarning: FixedFormatter should only be used together with FixedLocator\n",
            "  ax.set_yticklabels([''] + output_words)\n"
          ]
        },
        {
          "output_type": "display_data",
          "data": {
            "text/plain": [
              "<Figure size 640x480 with 2 Axes>"
            ],
            "image/png": "[encoded data removed]"
          },
          "metadata": {}
        }
      ]
    },
    {
      "cell_type": "code",
      "metadata": {
        "colab": {
          "base_uri": "https://localhost:8080/",
          "height": 504
        },
        "id": "sidCrivCnTPL",
        "outputId": "162930fd-9fae-4a4c-e767-099e09ab161c"
      },
      "source": [
        "evaluateAndShowAttention(\"December 17th, 2018\")"
      ],
      "execution_count": 36,
      "outputs": [
        {
          "output_type": "stream",
          "name": "stdout",
          "text": [
            "input = December 17th, 2018\n",
            "output = 18-12-2018<EOS>\n"
          ]
        },
        {
          "output_type": "stream",
          "name": "stderr",
          "text": [
            "<ipython-input-32-b0de98347225>:8: UserWarning: FixedFormatter should only be used together with FixedLocator\n",
            "  ax.set_xticklabels([''] + list(input_sentence) +\n",
            "<ipython-input-32-b0de98347225>:10: UserWarning: FixedFormatter should only be used together with FixedLocator\n",
            "  ax.set_yticklabels([''] + output_words)\n"
          ]
        },
        {
          "output_type": "display_data",
          "data": {
            "text/plain": [
              "<Figure size 640x480 with 2 Axes>"
            ],
            "image/png": "[encoded data removed]"
          },
          "metadata": {}
        }
      ]
    },
    {
      "cell_type": "code",
      "metadata": {
        "colab": {
          "base_uri": "https://localhost:8080/",
          "height": 504
        },
        "id": "5T8O7UDqnTPL",
        "outputId": "b8d96786-d7a4-432c-8d4e-7a7cc8bf683d"
      },
      "source": [
        "evaluateAndShowAttention(\"Feb 03, 2018\")"
      ],
      "execution_count": 37,
      "outputs": [
        {
          "output_type": "stream",
          "name": "stdout",
          "text": [
            "input = Feb 03, 2018\n",
            "output = 03-02-2018<EOS>\n"
          ]
        },
        {
          "output_type": "stream",
          "name": "stderr",
          "text": [
            "<ipython-input-32-b0de98347225>:8: UserWarning: FixedFormatter should only be used together with FixedLocator\n",
            "  ax.set_xticklabels([''] + list(input_sentence) +\n",
            "<ipython-input-32-b0de98347225>:10: UserWarning: FixedFormatter should only be used together with FixedLocator\n",
            "  ax.set_yticklabels([''] + output_words)\n"
          ]
        },
        {
          "output_type": "display_data",
          "data": {
            "text/plain": [
              "<Figure size 640x480 with 2 Axes>"
            ],
            "image/png": "[encoded data removed]"
          },
          "metadata": {}
        }
      ]
    }
  ]
}